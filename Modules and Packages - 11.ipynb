{
 "cells": [
  {
   "cell_type": "code",
   "execution_count": null,
   "id": "3a5e54e1-4811-4700-ba51-60e022718e18",
   "metadata": {},
   "outputs": [],
   "source": [
    "import module1 \n",
    "import module2"
   ]
  },
  {
   "cell_type": "code",
   "execution_count": 4,
   "id": "84900102-8927-4301-87bb-8863839ee22f",
   "metadata": {},
   "outputs": [
    {
     "name": "stdout",
     "output_type": "stream",
     "text": [
      "\n",
      "Please wait a moment while I gather a list of all available modules...\n",
      "\n",
      "3204bda914b7f2c6f497__mypyc colorcet            mccabe              sndhdr\n",
      "IPython             colorsys            mdit_py_plugins     sniffio\n",
      "OpenSSL             comm                mdurl               snowballstemmer\n",
      "PIL                 commctrl            menuinst            socket\n",
      "PyQt5               compileall          mimetypes           socketserver\n",
      "__future__          concurrent          mistune             socks\n",
      "__hello__           conda               mkl                 sockshandler\n",
      "__phello__          conda_build         mkl_fft             sortedcontainers\n",
      "_abc                conda_content_trust mkl_random          soupsieve\n",
      "_aix_support        conda_env           mmap                sphinx\n",
      "_argon2_cffi_bindings conda_index         mmapfile            sphinxify\n",
      "_ast                conda_libmamba_solver mmsystem            sphinxthread\n",
      "_asyncio            conda_pack          modulefinder        spyder\n",
      "_bisect             conda_package_handling more_itertools      spyder_kernels\n",
      "_black_version      conda_package_streaming mpmath              sqlalchemy\n",
      "_blake2             conda_token         msgpack             sqlite3\n",
      "_brotli             conf                msilib              sre_compile\n",
      "_bz2                configparser        msvcrt              sre_constants\n",
      "_cffi_backend       constantly          multidict           sre_parse\n",
      "_codecs             contextlib          multipledispatch    ssl\n",
      "_codecs_cn          contextvars         multiprocessing     sspi\n",
      "_codecs_hk          contourpy           mypy                sspicon\n",
      "_codecs_iso2022     cookiecutter        mypy_extensions     stack_data\n",
      "_codecs_jp          copy                mypyc               stat\n",
      "_codecs_kr          copyreg             nacl                statistics\n",
      "_codecs_tw          cpuinfo             navigator_updater   statsmodels\n",
      "_collections        crypt               nbclient            streamlit\n",
      "_collections_abc    cryptography        nbconvert           string\n",
      "_compat_pickle      cssselect           nbformat            stringprep\n",
      "_compression        csv                 nest_asyncio        struct\n",
      "_contextvars        ctypes              netbios             subprocess\n",
      "_csv                curl                netrc               sunau\n",
      "_ctypes             curses              networkx            sympy\n",
      "_ctypes_test        cwp                 nltk                symtable\n",
      "_datetime           cycler              nntplib             sys\n",
      "_decimal            cytoolz             notebook            sysconfig\n",
      "_distutils_hack     dask                notebook_shim       tables\n",
      "_elementtree        dask_expr           nt                  tabnanny\n",
      "_functools          dataclasses         ntpath              tabulate\n",
      "_hashlib            datashader          ntsecuritycon       tarfile\n",
      "_heapq              datetime            nturl2path          tblib\n",
      "_imp                dateutil            numba               telnetlib\n",
      "_io                 dbi                 numbergen           tempfile\n",
      "_json               dbm                 numbers             tenacity\n",
      "_locale             dde                 numexpr             terminado\n",
      "_lsprof             debugpy             numpy               test\n",
      "_lzma               decimal             numpydoc            test_pycosat\n",
      "_markupbase         decorator           odbc                text_unidecode\n",
      "_md5                defusedxml          opcode              textdistance\n",
      "_msi                diff_match_patch    openpyxl            textwrap\n",
      "_multibytecodec     difflib             operator            this\n",
      "_multiprocessing    dill                optparse            threading\n",
      "_nsis               dis                 os                  threadpoolctl\n",
      "_opcode             distributed         overrides           three_merge\n",
      "_operator           distro              packaging           tifffile\n",
      "_osx_support        docstring_to_markdown pandas              time\n",
      "_overlapped         doctest             pandocfilters       timeit\n",
      "_pickle             docutils            panel               timer\n",
      "_plotly_future_     dotenv              param               tinycss2\n",
      "_plotly_utils       email               paramiko            tkinter\n",
      "_py_abc             encodings           parsel              tldextract\n",
      "_pydatetime         ensurepip           parso               tlz\n",
      "_pydecimal          enum                partd               token\n",
      "_pyio               erfa                pathlib             tokenize\n",
      "_pylong             errno               pathspec            toml\n",
      "_pytest             et_xmlfile          patsy               tomli\n",
      "_queue              executing           pdb                 tomlkit\n",
      "_random             fastjsonschema      perfmon             tomllib\n",
      "_ruamel_yaml        faulthandler        pexpect             toolz\n",
      "_sha1               filecmp             pickle              tornado\n",
      "_sha2               fileinput           pickleshare         tqdm\n",
      "_sha3               filelock            pickletools         trace\n",
      "_signal             flake8              pip                 traceback\n",
      "_sitebuiltins       flask               pipes               tracemalloc\n",
      "_socket             fnmatch             pkce                traitlets\n",
      "_sqlite3            fontTools           pkg_resources       truststore\n",
      "_sre                fractions           pkginfo             tty\n",
      "_ssl                frozendict          pkgutil             turtle\n",
      "_stat               frozenlist          platform            turtledemo\n",
      "_statistics         fsspec              platformdirs        twisted\n",
      "_string             ftplib              plistlib            typeguard\n",
      "_strptime           functools           plotly              types\n",
      "_struct             gc                  pluggy              typing\n",
      "_symtable           genericpath         ply                 typing_extensions\n",
      "_system_path        gensim              poplib              tzdata\n",
      "_testbuffer         getopt              posixpath           uc_micro\n",
      "_testcapi           getpass             pprint              ujson\n",
      "_testclinic         gettext             profile             unicodedata\n",
      "_testconsole        git                 prometheus_client   unicodedata2\n",
      "_testimportmultiple gitdb               prompt_toolkit      unidecode\n",
      "_testinternalcapi   glob                protego             unittest\n",
      "_testmultiphase     graphlib            pstats              urllib\n",
      "_testsinglephase    greenlet            psutil              urllib3\n",
      "_thread             gzip                pty                 uu\n",
      "_threading_local    h11                 ptyprocess          uuid\n",
      "_tkinter            h5py                pure_eval           venv\n",
      "_tokenize           hashlib             py                  w3lib\n",
      "_tracemalloc        heapdict            py_compile          warnings\n",
      "_typing             heapq               pyarrow             watchdog\n",
      "_uuid               hmac                pyasn1              wave\n",
      "_warnings           holoviews           pyasn1_modules      wcwidth\n",
      "_weakref            html                pyclbr              weakref\n",
      "_weakrefset         http                pycodestyle         webbrowser\n",
      "_win32sysloader     httpcore            pycosat             webencodings\n",
      "_winapi             httpx               pycparser           websocket\n",
      "_winxptheme         hvplot              pyct                werkzeug\n",
      "_wmi                hyperlink           pycurl              whatthepatch\n",
      "_xxinterpchannels   idlelib             pydantic            wheel\n",
      "_xxsubinterpreters  idna                pydantic_core       widgetsnbextension\n",
      "_yaml               imagecodecs         pydeck              win2kras\n",
      "_zoneinfo           imageio             pydispatch          win32api\n",
      "abc                 imagesize           pydoc               win32clipboard\n",
      "adodbapi            imaplib             pydoc_data          win32com\n",
      "afxres              imblearn            pydocstyle          win32con\n",
      "aifc                imghdr              pyexpat             win32console\n",
      "aiobotocore         importlib           pyflakes            win32cred\n",
      "aiohappyeyeballs    importlib_metadata  pygments            win32crypt\n",
      "aiohttp             importlib_resources pylab               win32cryptcon\n",
      "aioitertools        incremental         pylint              win32ctypes\n",
      "aiosignal           inflect             pylint_venv         win32event\n",
      "alabaster           inflection          pyls_spyder         win32evtlog\n",
      "altair              iniconfig           pylsp               win32evtlogutil\n",
      "anaconda_anon_usage inspect             pylsp_black         win32file\n",
      "anaconda_catalogs   intake              pylsp_jsonrpc       win32gui\n",
      "anaconda_cloud_auth intervaltree        pyodbc              win32gui_struct\n",
      "anaconda_navigator  io                  pyparsing           win32help\n",
      "anaconda_project    ipaddress           pytest              win32inet\n",
      "annotated_types     ipykernel           pythoncom           win32inetcon\n",
      "antigravity         ipykernel_launcher  pythonjsonlogger    win32job\n",
      "anyio               ipython_genutils    pytoolconfig        win32lz\n",
      "appdirs             ipywidgets          pytz                win32net\n",
      "archspec            isapi               pyviz_comms         win32netcon\n",
      "argon2              isort               pywin               win32pdh\n",
      "argparse            isympy              pywin32_bootstrap   win32pdhquery\n",
      "array               itemadapter         pywin32_testutil    win32pdhutil\n",
      "arrow               itemloaders         pywintypes          win32pipe\n",
      "ast                 itertools           pywt                win32print\n",
      "astroid             itsdangerous        qdarkstyle          win32process\n",
      "astropy             jedi                qstylizer           win32profile\n",
      "astropy_iers_data   jellyfish           qtawesome           win32ras\n",
      "asttokens           jinja2              qtconsole           win32rcparser\n",
      "async_lru           jmespath            qtpy                win32security\n",
      "asyncio             joblib              queue               win32service\n",
      "atexit              json                queuelib            win32serviceutil\n",
      "atomicwrites        json5               quopri              win32timezone\n",
      "attr                jsonpatch           random              win32trace\n",
      "attrs               jsonpointer         rasutil             win32traceutil\n",
      "audioop             jsonschema          re                  win32transaction\n",
      "autocommand         jsonschema_specifications referencing         win32ts\n",
      "automat             jupyter             regcheck            win32ui\n",
      "autopep8            jupyter_client      regex               win32uiole\n",
      "babel               jupyter_console     regutil             win32verstamp\n",
      "backports           jupyter_core        repo_cli            win32wnet\n",
      "base64              jupyter_events      reprlib             win_inet_pton\n",
      "bcrypt              jupyter_lsp         requests            winerror\n",
      "bdb                 jupyter_server      requests_file       winioctlcon\n",
      "binaryornot         jupyter_server_terminals requests_toolbelt   winnt\n",
      "binascii            jupyterlab          rfc3339_validator   winperf\n",
      "binstar_client      jupyterlab_plotly   rfc3986_validator   winpty\n",
      "bisect              jupyterlab_pygments rich                winreg\n",
      "black               jupyterlab_server   rlcompleter         winsound\n",
      "blackd              jupyterlab_widgets  rope                winxpgui\n",
      "bleach              jwt                 rpds                winxptheme\n",
      "blib2to3            keyring             rtree               wrapt\n",
      "blinker             keyword             ruamel_yaml         wsgiref\n",
      "bokeh               kiwisolver          runpy               xarray\n",
      "boltons             lazy_loader         s3fs                xdrlib\n",
      "botocore            lazy_object_proxy   sched               xlwings\n",
      "bottleneck          lckr_jupyterlab_variableinspector scipy               xlwingsjs\n",
      "brotli              lib2to3             scrapy              xml\n",
      "bs4                 libarchive          seaborn             xmlrpc\n",
      "builtins            libmambapy          secrets             xxlimited\n",
      "bz2                 lief                select              xxlimited_35\n",
      "cProfile            linecache           selectors           xxsubtype\n",
      "cachetools          linkify_it          semver              xyzservices\n",
      "calendar            llvmlite            send2trash          yaml\n",
      "certifi             lmdb                service_identity    yapf\n",
      "cffi                locale              servicemanager      yapf_third_party\n",
      "cgi                 locket              setuptools          yapftests\n",
      "cgitb               logging             shelve              yarl\n",
      "chardet             lxml                shlex               zict\n",
      "charset_normalizer  lz4                 shutil              zipapp\n",
      "chunk               lzma                signal              zipfile\n",
      "click               mailbox             sipbuild            zipimport\n",
      "cloudpickle         mailcap             site                zipp\n",
      "cmath               markdown            six                 zlib\n",
      "cmd                 markdown_it         skimage             zmq\n",
      "code                markupsafe          sklearn             zoneinfo\n",
      "codecs              marshal             slugify             zope\n",
      "codeop              math                smart_open          zstandard\n",
      "collections         matplotlib          smmap               \n",
      "colorama            matplotlib_inline   smtplib             \n",
      "\n",
      "Enter any module name to get more help.  Or, type \"modules spam\" to search\n",
      "for modules whose name or summary contain the string \"spam\".\n",
      "\n"
     ]
    }
   ],
   "source": [
    "# Types of module\n",
    "help('modules')"
   ]
  },
  {
   "cell_type": "code",
   "execution_count": 3,
   "id": "7dbbee2a-0669-4f0d-9b14-a1d72ccd03c9",
   "metadata": {},
   "outputs": [
    {
     "data": {
      "text/plain": [
       "['BPF',\n",
       " 'LOG4',\n",
       " 'NV_MAGICCONST',\n",
       " 'RECIP_BPF',\n",
       " 'Random',\n",
       " 'SG_MAGICCONST',\n",
       " 'SystemRandom',\n",
       " 'TWOPI',\n",
       " '_ONE',\n",
       " '_Sequence',\n",
       " '__all__',\n",
       " '__builtins__',\n",
       " '__cached__',\n",
       " '__doc__',\n",
       " '__file__',\n",
       " '__loader__',\n",
       " '__name__',\n",
       " '__package__',\n",
       " '__spec__',\n",
       " '_accumulate',\n",
       " '_acos',\n",
       " '_bisect',\n",
       " '_ceil',\n",
       " '_cos',\n",
       " '_e',\n",
       " '_exp',\n",
       " '_fabs',\n",
       " '_floor',\n",
       " '_index',\n",
       " '_inst',\n",
       " '_isfinite',\n",
       " '_lgamma',\n",
       " '_log',\n",
       " '_log2',\n",
       " '_os',\n",
       " '_pi',\n",
       " '_random',\n",
       " '_repeat',\n",
       " '_sha512',\n",
       " '_sin',\n",
       " '_sqrt',\n",
       " '_test',\n",
       " '_test_generator',\n",
       " '_urandom',\n",
       " '_warn',\n",
       " 'betavariate',\n",
       " 'binomialvariate',\n",
       " 'choice',\n",
       " 'choices',\n",
       " 'expovariate',\n",
       " 'gammavariate',\n",
       " 'gauss',\n",
       " 'getrandbits',\n",
       " 'getstate',\n",
       " 'lognormvariate',\n",
       " 'normalvariate',\n",
       " 'paretovariate',\n",
       " 'randbytes',\n",
       " 'randint',\n",
       " 'random',\n",
       " 'randrange',\n",
       " 'sample',\n",
       " 'seed',\n",
       " 'setstate',\n",
       " 'shuffle',\n",
       " 'triangular',\n",
       " 'uniform',\n",
       " 'vonmisesvariate',\n",
       " 'weibullvariate']"
      ]
     },
     "execution_count": 3,
     "metadata": {},
     "output_type": "execute_result"
    }
   ],
   "source": [
    "import random\n",
    "dir(random)"
   ]
  },
  {
   "cell_type": "code",
   "execution_count": null,
   "id": "f040ee24-cc38-4178-9490-17506cc3f151",
   "metadata": {},
   "outputs": [],
   "source": [
    "help(random.randint)"
   ]
  },
  {
   "cell_type": "code",
   "execution_count": null,
   "id": "99fb02c7-eba9-47b1-807a-c0b569724712",
   "metadata": {},
   "outputs": [],
   "source": [
    "help(random)"
   ]
  },
  {
   "cell_type": "code",
   "execution_count": null,
   "id": "28234ea0-1a2f-4b5d-a039-209c6a7a00cc",
   "metadata": {},
   "outputs": [],
   "source": [
    "random"
   ]
  },
  {
   "cell_type": "code",
   "execution_count": null,
   "id": "eb824d79-2704-42c8-a455-fc2fd6c9f08c",
   "metadata": {},
   "outputs": [],
   "source": [
    "import math\n",
    "math"
   ]
  },
  {
   "cell_type": "markdown",
   "id": "bf7ba6d9-f716-4d78-8157-bef85ad70a79",
   "metadata": {},
   "source": [
    "Importing a module"
   ]
  },
  {
   "cell_type": "code",
   "execution_count": null,
   "id": "f025d062-148e-4c47-a727-a3b63d83e336",
   "metadata": {},
   "outputs": [],
   "source": [
    "# count words\n",
    "def count(string):\n",
    " return len(string.split(' '))\n",
    "# first word\n",
    "def first(string):\n",
    " return string.split(' ')[0]\n",
    "# last word\n",
    "def last(string):\n",
    " return string.split(' ')[-1]\n",
    "# sorted words\n",
    "def ordered(string):\n",
    " return ' '.join(sorted(string.split(' ')))\n",
    "# return a string with each word reversed\n",
    "def reverse(string):\n",
    " words = string.split(' ')\n",
    " return ' '.join([word[::-1] for word in words])"
   ]
  },
  {
   "cell_type": "code",
   "execution_count": null,
   "id": "ceb2b180-4d4a-43b7-8075-a7f9c7890271",
   "metadata": {},
   "outputs": [],
   "source": [
    "def is_even(num):\n",
    " return num % 2 == 0\n",
    "def reverse(num):\n",
    " return int(str(num)[::-1])\n",
    "def sum_digits(num):\n",
    " s = 0\n",
    " while num != 0:\n",
    " s += num % 10\n",
    " num //= 10\n",
    " return s\n",
    "    def factorial(num):\n",
    " fact = 1\n",
    " while num > 0:\n",
    " fact *= num\n",
    " num -= 1\n",
    " return fact"
   ]
  },
  {
   "cell_type": "code",
   "execution_count": null,
   "id": "f2122005-60ef-4915-b19e-7e1389927e3a",
   "metadata": {},
   "outputs": [],
   "source": [
    "import numerals\n",
    "import words\n",
    "print(numerals.factorial(5))\n",
    "print(numerals.reverse(3459))\n",
    "s = 'This is my book'\n",
    "print(words.count(s))\n",
    "print(words.reverse(s))"
   ]
  },
  {
   "cell_type": "markdown",
   "id": "f4aadc90-cc40-4b53-9357-a301827a069c",
   "metadata": {},
   "source": [
    "Importing all names from a module"
   ]
  },
  {
   "cell_type": "code",
   "execution_count": null,
   "id": "c6e7e54c-cdbc-4496-8ad4-f58b8f956a15",
   "metadata": {},
   "outputs": [],
   "source": [
    "from numerals import *\n",
    "print(factorial(5))\n",
    "print(reverse(3459))"
   ]
  },
  {
   "cell_type": "code",
   "execution_count": null,
   "id": "34251c0e-b3f2-4e61-902a-cd44e3a2362f",
   "metadata": {},
   "outputs": [],
   "source": [
    "from numerals import *\n",
    "from words import *\n",
    "print(factorial(5))\n",
    "print(reverse(3459))\n",
    "s = 'This is my book'\n",
    "print(count(s))\n",
    "print(reverse(s))"
   ]
  },
  {
   "cell_type": "markdown",
   "id": "3813dcbd-c61f-4dd5-aece-ebdc2252368c",
   "metadata": {},
   "source": [
    "Restricting names that can be imported"
   ]
  },
  {
   "cell_type": "code",
   "execution_count": null,
   "id": "90fe48d9-4cd6-445b-83aa-9bdcb4637f53",
   "metadata": {},
   "outputs": [],
   "source": [
    "# sample file\n",
    "def _func():\n",
    " pass\n",
    "from numerals import *\n",
    "print(factorial(5))\n",
    "print(reverse(3459))\n",
    "_func()"
   ]
  },
  {
   "cell_type": "code",
   "execution_count": null,
   "id": "58d2723c-4dfa-4ff5-b353-ae24251aed71",
   "metadata": {},
   "outputs": [],
   "source": [
    "# sample file \n",
    "__all__ = ['is_even', 'sum_digits']\n",
    "from numerals import *\n",
    "print(sum_digits(234))\n",
    "print(factorial(5))"
   ]
  },
  {
   "cell_type": "markdown",
   "id": "63940cb5-57fc-40e8-9fd6-8e9eab4b2273",
   "metadata": {},
   "source": [
    "Importing individual names from module"
   ]
  },
  {
   "cell_type": "code",
   "execution_count": null,
   "id": "e9e9d413-ebff-424c-a8b0-88c4b43e357c",
   "metadata": {},
   "outputs": [],
   "source": [
    "from module import name1, name2"
   ]
  },
  {
   "cell_type": "code",
   "execution_count": null,
   "id": "3e97ee35-c75a-420c-ba36-ddc48549fff8",
   "metadata": {},
   "outputs": [],
   "source": [
    "# sample file myprogram.py\n",
    "from numerals import sum_digits, factorial\n",
    "print(sum_digits(234))\n",
    "print(factorial(5))"
   ]
  },
  {
   "cell_type": "markdown",
   "id": "5d0ac416-da08-499a-b3bf-33e4d3ba3647",
   "metadata": {},
   "source": [
    "Using an alias while importing"
   ]
  },
  {
   "cell_type": "code",
   "execution_count": null,
   "id": "4b27745e-e662-4865-bb2f-e470a3e0d7da",
   "metadata": {},
   "outputs": [],
   "source": [
    "import numerals as num"
   ]
  },
  {
   "cell_type": "code",
   "execution_count": null,
   "id": "dfb68bef-fec6-498f-ac64-5955be292526",
   "metadata": {},
   "outputs": [],
   "source": [
    "import primes1 as primes\n",
    "or\n",
    "import primes2 as primes"
   ]
  },
  {
   "cell_type": "code",
   "execution_count": null,
   "id": "145ddc51-cb17-495d-a006-8a2f76d9b197",
   "metadata": {},
   "outputs": [],
   "source": [
    "if condition:\n",
    " import primes1 as primes\n",
    "else:\n",
    " import primes2 as primes\n",
    "# Rest of the code uses the name primes"
   ]
  },
  {
   "cell_type": "code",
   "execution_count": null,
   "id": "7f440122-897c-4256-8783-e2480b0ef5bc",
   "metadata": {},
   "outputs": [],
   "source": [
    "from numerals import reverse as rev, factorial as fact\n",
    "from words import count as cnt, reverse as reverse_word"
   ]
  },
  {
   "cell_type": "markdown",
   "id": "077fc36f-f43f-4f7a-9459-a8eae7ec503e",
   "metadata": {},
   "source": [
    "Documenting a module"
   ]
  },
  {
   "cell_type": "code",
   "execution_count": null,
   "id": "7d56e29a-ab60-49c0-9f17-615a429085e3",
   "metadata": {},
   "outputs": [],
   "source": [
    "numerals.py\n",
    "\"\"\"This module defines functions related to numbers\"\"\"\n",
    "import numerals\n",
    "numerals.__doc__"
   ]
  },
  {
   "cell_type": "code",
   "execution_count": null,
   "id": "14d83ecc-88c8-4685-b9d1-e0b7b08393c1",
   "metadata": {},
   "outputs": [],
   "source": [
    "help(numerals)"
   ]
  },
  {
   "cell_type": "markdown",
   "id": "0339204c-f306-4e0c-829a-00d92a98fad5",
   "metadata": {},
   "source": [
    "Module Search Module"
   ]
  },
  {
   "cell_type": "code",
   "execution_count": null,
   "id": "cfd789f4-1e2c-4bb4-9025-6c6dbb02198c",
   "metadata": {},
   "outputs": [],
   "source": [
    "sys.path.append('C:\\\\Yashvaant')"
   ]
  },
  {
   "cell_type": "markdown",
   "id": "9dad2ce2-ab41-4a8b-9869-2827f0488664",
   "metadata": {},
   "source": [
    "Module Object"
   ]
  },
  {
   "cell_type": "code",
   "execution_count": null,
   "id": "95ccd197-00d8-46d6-9ae5-53404905c0a0",
   "metadata": {},
   "outputs": [],
   "source": [
    "import numerals\n",
    "print(dir())\n",
    "print(numerals)"
   ]
  },
  {
   "cell_type": "code",
   "execution_count": null,
   "id": "a715e768-df12-4c8c-8e1d-e1d592619991",
   "metadata": {},
   "outputs": [],
   "source": [
    "import numerals as num\n",
    "print(dir())\n",
    "print(num)"
   ]
  },
  {
   "cell_type": "code",
   "execution_count": null,
   "id": "7fc15738-9edc-45c6-9890-9ae25c829fe9",
   "metadata": {},
   "outputs": [],
   "source": [
    "dir(num)"
   ]
  },
  {
   "cell_type": "code",
   "execution_count": null,
   "id": "eddc519e-0674-4ef5-9e29-db8e633e4621",
   "metadata": {},
   "outputs": [],
   "source": [
    "__name__"
   ]
  },
  {
   "cell_type": "code",
   "execution_count": null,
   "id": "44068aaa-374c-4813-8b0e-5caeca68f177",
   "metadata": {},
   "outputs": [],
   "source": [
    "num.__doc__"
   ]
  },
  {
   "cell_type": "code",
   "execution_count": null,
   "id": "1b86dd8c-b49a-455b-bf61-dc540537f12b",
   "metadata": {},
   "outputs": [],
   "source": [
    "from numerals import is_even, factorial\n",
    "print(dir())"
   ]
  },
  {
   "cell_type": "code",
   "execution_count": null,
   "id": "361aac8b-7d8d-4514-ac84-a2024e56795c",
   "metadata": {},
   "outputs": [],
   "source": [
    "import sys\n",
    "sys.modules.keys()"
   ]
  },
  {
   "cell_type": "markdown",
   "id": "3a55f9e6-9b4c-48b7-a7ab-49200b3bf302",
   "metadata": {},
   "source": [
    "Reloading a module"
   ]
  },
  {
   "cell_type": "code",
   "execution_count": null,
   "id": "4ff597a2-8251-4b79-9c09-e9813f26e073",
   "metadata": {},
   "outputs": [],
   "source": [
    "import module1\n",
    "from importlib import reload\n",
    "reload(module1)"
   ]
  },
  {
   "cell_type": "markdown",
   "id": "3078a257-6d1b-4b4f-8aa2-1de5825275e2",
   "metadata": {},
   "source": [
    "Scripts and Modules"
   ]
  },
  {
   "cell_type": "code",
   "execution_count": null,
   "id": "851a3372-d354-4800-acef-9eda7a31beb8",
   "metadata": {},
   "outputs": [],
   "source": [
    "# example prime.py\n",
    "def is_prime(n):\n",
    " for i in range(2, n):\n",
    " if n % i == 0:\n",
    " return False\n",
    " else:\n",
    " return True\n",
    "def primes(x, y):\n",
    " return [n for n in range(x, y + 1) if\n",
    "is_prime(n)]\n",
    "def twin_primes(x, y):\n",
    " tp = []\n",
    " for i in range(x, y + 1):\n",
    " if is_prime(i) and is_prime(i + 2):\n",
    " tp.append((i, i + 2))\n",
    " return tp"
   ]
  },
  {
   "cell_type": "code",
   "execution_count": null,
   "id": "070ab3a3-31d6-41b6-a938-a321f7be23e7",
   "metadata": {},
   "outputs": [],
   "source": [
    "# myprogram.py - example file\n",
    "import prime\n",
    "n1 = 10\n",
    "n2 = 50\n",
    "print(f'List of primes from {n1} to {n2}')\n",
    "print(prime.primes(n1, n2))\n",
    "print(f'List of twin primes from {n1} to {n2}')\n",
    "print(prime.twin_primes(n1, n2))"
   ]
  },
  {
   "cell_type": "code",
   "execution_count": null,
   "id": "9598e499-6560-4aee-95fe-afc932938bc5",
   "metadata": {},
   "outputs": [],
   "source": [
    "print(is_prime(4))\n",
    "print(is_prime(5))\n",
    "print(primes(20, 40))\n",
    "print(twin_primes(3, 61))"
   ]
  },
  {
   "cell_type": "code",
   "execution_count": null,
   "id": "dd1f7a4e-0ee8-479d-b751-73199efb3d31",
   "metadata": {},
   "outputs": [],
   "source": [
    "if __name__ == '__main__':\n",
    " print(is_prime(4))\n",
    " print(is_prime(5))\n",
    " print(primes(20, 40))\n",
    " print(twin_primes(3, 61))"
   ]
  },
  {
   "cell_type": "code",
   "execution_count": null,
   "id": "84063dba-ec06-444e-bcdd-7a4d69b5f566",
   "metadata": {},
   "outputs": [],
   "source": [
    "def main():\n",
    " print(is_prime(4))\n",
    " print(is_prime(5))\n",
    " print(primes(20, 40))\n",
    " print(twin_primes(3, 61))\n",
    "if __name__ == '__main__':\n",
    " main()"
   ]
  },
  {
   "cell_type": "markdown",
   "id": "1236cdd9-b74d-4ec3-bc1c-10c5473a1d6b",
   "metadata": {},
   "source": [
    "Importing a packages and its content"
   ]
  },
  {
   "cell_type": "code",
   "execution_count": null,
   "id": "73ef7485-8b08-436a-9105-43da7fc8b118",
   "metadata": {},
   "outputs": [],
   "source": [
    "pkg/\n",
    " __init__.py\n",
    " module1.py\n",
    " module2.py\n",
    " module3.py\n",
    " module4.py"
   ]
  },
  {
   "cell_type": "code",
   "execution_count": null,
   "id": "1bd87e0b-484c-46b3-85a6-713561bca76a",
   "metadata": {},
   "outputs": [],
   "source": [
    "# myprogram.py - example file\n",
    "from pkg import module1, module2\n",
    "module1.func1()\n",
    "module2.f1()"
   ]
  },
  {
   "cell_type": "code",
   "execution_count": null,
   "id": "21a14d79-7c5a-4226-94ed-800863e37f0a",
   "metadata": {},
   "outputs": [],
   "source": [
    "import pkg.module1, pkg.module2\n",
    "pkg.module1.func1()\n",
    "pkg.module2.f1()"
   ]
  },
  {
   "cell_type": "code",
   "execution_count": null,
   "id": "eb19e952-b724-4f2e-8a71-4918e2a1aba0",
   "metadata": {},
   "outputs": [],
   "source": [
    "from pkg.module1 import func1\n",
    "func1()"
   ]
  },
  {
   "cell_type": "code",
   "execution_count": null,
   "id": "4d23a6ae-fb14-43a9-93c4-6f1991615e71",
   "metadata": {},
   "outputs": [],
   "source": [
    "import pkg.subpkgA.moduleX as modX\n",
    "import pkg"
   ]
  },
  {
   "cell_type": "code",
   "execution_count": null,
   "id": "4020a718-ca5d-4921-8afe-56345900ab9d",
   "metadata": {},
   "outputs": [],
   "source": [
    "#__init__.py - example file\n",
    "import pkg.module1\n",
    "import pkg.module2"
   ]
  },
  {
   "cell_type": "code",
   "execution_count": null,
   "id": "820b3062-4c8c-4554-b0a3-07e6ded653f1",
   "metadata": {},
   "outputs": [],
   "source": [
    "import numpy as np"
   ]
  },
  {
   "cell_type": "code",
   "execution_count": null,
   "id": "ee820e6e-b5f5-4921-9362-e409874c3202",
   "metadata": {},
   "outputs": [],
   "source": [
    "from pkg import *"
   ]
  },
  {
   "cell_type": "markdown",
   "id": "3ddc7ed4-5762-4a5d-9cc2-4f64eebd42a9",
   "metadata": {},
   "source": [
    "Sub-Packages"
   ]
  },
  {
   "cell_type": "code",
   "execution_count": null,
   "id": "247e5a60-80d2-488c-996e-d94e43b6fac8",
   "metadata": {},
   "outputs": [],
   "source": [
    "pkg/\n",
    " __init__.py\n",
    " module1.py\n",
    " module2.py\n",
    " subpkgA/\n",
    " __init__.py \n",
    " moduleX.py\n",
    " moduleY.py\n",
    " moduleZ.py\n",
    " subpkgB/\n",
    " __init__.py \n",
    " moduleP.py\n",
    " moduleQ.py\n",
    " moduleX.py"
   ]
  },
  {
   "cell_type": "code",
   "execution_count": null,
   "id": "3df17aae-c15f-4bd2-bcad-24f7492fb0bf",
   "metadata": {},
   "outputs": [],
   "source": [
    "from pkg.subpkgA import moduleX\n",
    "import pkg.subpkgA.moduleX"
   ]
  },
  {
   "cell_type": "code",
   "execution_count": null,
   "id": "bd0d9710-7aa8-40b1-a066-4b77bc8ea063",
   "metadata": {},
   "outputs": [],
   "source": [
    "import pkg.subpkgA.moduleX.func1 # can't write this"
   ]
  },
  {
   "cell_type": "code",
   "execution_count": null,
   "id": "2e778900-943b-4bd3-a2eb-be8a37d558c2",
   "metadata": {},
   "outputs": [],
   "source": [
    "__init__.py inside pkg\n",
    "import pkg.module1\n",
    "import pkg.subpkgA.moduleX\n",
    "import pkg.subpkgB"
   ]
  },
  {
   "cell_type": "markdown",
   "id": "7719c965-6dc6-4b59-9fc5-82299d17eee4",
   "metadata": {},
   "source": [
    "Relative Module"
   ]
  },
  {
   "cell_type": "code",
   "execution_count": null,
   "id": "2d85b331-8cfb-4bf8-aaea-504dbe8dd0b7",
   "metadata": {},
   "outputs": [],
   "source": [
    "# moduleQ.py - example file\n",
    "from . import moduleP\n",
    "from .. import module1\n",
    "from ..subpkgA import moduleZ"
   ]
  },
  {
   "cell_type": "code",
   "execution_count": null,
   "id": "18d125df-a3b7-4845-b9db-504159907051",
   "metadata": {},
   "outputs": [],
   "source": [
    "from pkg.subpkgB import moduleP\n",
    "from pkg import module1\n",
    "from pkg.subpkgA import moduleZ"
   ]
  },
  {
   "cell_type": "code",
   "execution_count": null,
   "id": "e7e68815-0a7c-4662-9a65-8aac971ce66c",
   "metadata": {},
   "outputs": [],
   "source": []
  },
  {
   "cell_type": "code",
   "execution_count": null,
   "id": "07183839-3ae8-4285-a173-0a6f7b25e31f",
   "metadata": {},
   "outputs": [],
   "source": []
  },
  {
   "cell_type": "code",
   "execution_count": null,
   "id": "9757fe7f-8f3f-4447-87ba-480ffa2c7308",
   "metadata": {},
   "outputs": [],
   "source": []
  },
  {
   "cell_type": "code",
   "execution_count": null,
   "id": "294a97b2-9d19-4d43-b145-c360ce066524",
   "metadata": {},
   "outputs": [],
   "source": []
  },
  {
   "cell_type": "code",
   "execution_count": null,
   "id": "e42ff5ac-7496-4d94-83d4-03d7b033b47e",
   "metadata": {},
   "outputs": [],
   "source": []
  },
  {
   "cell_type": "code",
   "execution_count": null,
   "id": "e0cf5565-e2bb-47ff-93e6-4e1cea47230a",
   "metadata": {},
   "outputs": [],
   "source": []
  },
  {
   "cell_type": "code",
   "execution_count": null,
   "id": "e4af188e-41ba-4210-a7b6-cf712ef44711",
   "metadata": {},
   "outputs": [],
   "source": []
  },
  {
   "cell_type": "code",
   "execution_count": null,
   "id": "492e32ce-bfa8-4bd6-8a7f-4eb6fcd9d9d4",
   "metadata": {},
   "outputs": [],
   "source": []
  },
  {
   "cell_type": "code",
   "execution_count": null,
   "id": "5baa17d3-98ff-4803-9c2b-e5f13fd02339",
   "metadata": {},
   "outputs": [],
   "source": []
  },
  {
   "cell_type": "code",
   "execution_count": null,
   "id": "2e4cfdfc-0df6-4d40-bf3d-f84d2cbad1e9",
   "metadata": {},
   "outputs": [],
   "source": []
  },
  {
   "cell_type": "code",
   "execution_count": null,
   "id": "87d6e5c7-a6a4-4939-8a6a-1274b706eae9",
   "metadata": {},
   "outputs": [],
   "source": []
  },
  {
   "cell_type": "code",
   "execution_count": null,
   "id": "0797fa51-4579-43e9-b84d-b08fcb436061",
   "metadata": {},
   "outputs": [],
   "source": []
  },
  {
   "cell_type": "code",
   "execution_count": null,
   "id": "5e5eee44-1f91-4f7a-a63c-7410adb1449b",
   "metadata": {},
   "outputs": [],
   "source": []
  },
  {
   "cell_type": "code",
   "execution_count": null,
   "id": "cff76a88-89b1-4a18-aaca-7c814188a1fe",
   "metadata": {},
   "outputs": [],
   "source": []
  },
  {
   "cell_type": "code",
   "execution_count": null,
   "id": "994a31aa-e065-43f8-9a7a-845a2e9b656a",
   "metadata": {},
   "outputs": [],
   "source": []
  },
  {
   "cell_type": "code",
   "execution_count": null,
   "id": "6b7364e1-72ea-442c-a0aa-561734446c26",
   "metadata": {},
   "outputs": [],
   "source": []
  }
 ],
 "metadata": {
  "kernelspec": {
   "display_name": "Python 3 (ipykernel)",
   "language": "python",
   "name": "python3"
  },
  "language_info": {
   "codemirror_mode": {
    "name": "ipython",
    "version": 3
   },
   "file_extension": ".py",
   "mimetype": "text/x-python",
   "name": "python",
   "nbconvert_exporter": "python",
   "pygments_lexer": "ipython3",
   "version": "3.12.7"
  }
 },
 "nbformat": 4,
 "nbformat_minor": 5
}
