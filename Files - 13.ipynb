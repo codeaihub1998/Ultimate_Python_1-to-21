{
 "cells": [
  {
   "cell_type": "code",
   "execution_count": 1,
   "id": "486edad4-8f09-49ee-82b7-17b156b516a8",
   "metadata": {},
   "outputs": [],
   "source": [
    "fout = open('data.txt', 'w')\n",
    "fout.write('This is my first file')\n",
    "fout.close()"
   ]
  },
  {
   "cell_type": "code",
   "execution_count": 2,
   "id": "c39013a5-d17f-462d-87ec-8dd357580701",
   "metadata": {},
   "outputs": [
    {
     "name": "stdout",
     "output_type": "stream",
     "text": [
      "This is my first file\n"
     ]
    }
   ],
   "source": [
    "fin = open('data.txt', 'r')\n",
    "s = fin.read()\n",
    "print(s)\n",
    "fin.close()"
   ]
  },
  {
   "cell_type": "code",
   "execution_count": 3,
   "id": "c914c5b0-49ff-4258-adac-fd93d080455e",
   "metadata": {},
   "outputs": [
    {
     "data": {
      "text/plain": [
       "'data.txt'"
      ]
     },
     "execution_count": 3,
     "metadata": {},
     "output_type": "execute_result"
    }
   ],
   "source": [
    "fin.name"
   ]
  },
  {
   "cell_type": "code",
   "execution_count": 4,
   "id": "aedc7739-5af5-473a-b6cf-f5cdd95065e3",
   "metadata": {},
   "outputs": [
    {
     "data": {
      "text/plain": [
       "'r'"
      ]
     },
     "execution_count": 4,
     "metadata": {},
     "output_type": "execute_result"
    }
   ],
   "source": [
    "fin.mode"
   ]
  },
  {
   "cell_type": "code",
   "execution_count": 5,
   "id": "66755a4a-ead6-4075-85ef-ba515d151257",
   "metadata": {},
   "outputs": [
    {
     "data": {
      "text/plain": [
       "True"
      ]
     },
     "execution_count": 5,
     "metadata": {},
     "output_type": "execute_result"
    }
   ],
   "source": [
    "fin.closed"
   ]
  },
  {
   "cell_type": "code",
   "execution_count": 6,
   "id": "7e88fe50-359d-411d-812e-36ac3b293ba4",
   "metadata": {},
   "outputs": [
    {
     "data": {
      "text/plain": [
       "['_CHUNK_SIZE',\n",
       " '__class__',\n",
       " '__del__',\n",
       " '__delattr__',\n",
       " '__dict__',\n",
       " '__dir__',\n",
       " '__doc__',\n",
       " '__enter__',\n",
       " '__eq__',\n",
       " '__exit__',\n",
       " '__format__',\n",
       " '__ge__',\n",
       " '__getattribute__',\n",
       " '__getstate__',\n",
       " '__gt__',\n",
       " '__hash__',\n",
       " '__init__',\n",
       " '__init_subclass__',\n",
       " '__iter__',\n",
       " '__le__',\n",
       " '__lt__',\n",
       " '__module__',\n",
       " '__ne__',\n",
       " '__new__',\n",
       " '__next__',\n",
       " '__reduce__',\n",
       " '__reduce_ex__',\n",
       " '__repr__',\n",
       " '__setattr__',\n",
       " '__sizeof__',\n",
       " '__str__',\n",
       " '__subclasshook__',\n",
       " '_checkClosed',\n",
       " '_checkReadable',\n",
       " '_checkSeekable',\n",
       " '_checkWritable',\n",
       " '_finalizing',\n",
       " 'buffer',\n",
       " 'close',\n",
       " 'closed',\n",
       " 'detach',\n",
       " 'encoding',\n",
       " 'errors',\n",
       " 'fileno',\n",
       " 'flush',\n",
       " 'isatty',\n",
       " 'line_buffering',\n",
       " 'mode',\n",
       " 'name',\n",
       " 'newlines',\n",
       " 'read',\n",
       " 'readable',\n",
       " 'readline',\n",
       " 'readlines',\n",
       " 'reconfigure',\n",
       " 'seek',\n",
       " 'seekable',\n",
       " 'tell',\n",
       " 'truncate',\n",
       " 'writable',\n",
       " 'write',\n",
       " 'write_through',\n",
       " 'writelines']"
      ]
     },
     "execution_count": 6,
     "metadata": {},
     "output_type": "execute_result"
    }
   ],
   "source": [
    "dir(fin)"
   ]
  },
  {
   "cell_type": "markdown",
   "id": "676768ce-a013-41c5-9313-f7041e4b6792",
   "metadata": {},
   "source": [
    "Opening a file"
   ]
  },
  {
   "cell_type": "code",
   "execution_count": null,
   "id": "e0d48b27-1dca-40d0-9825-8b05de92c113",
   "metadata": {},
   "outputs": [],
   "source": [
    "open('C:\\dir1\\dir2\\data.txt', 'w')"
   ]
  },
  {
   "cell_type": "code",
   "execution_count": null,
   "id": "281e39be-62c5-4ead-a059-3bfdcbfac63c",
   "metadata": {},
   "outputs": [],
   "source": [
    "open('C:\\textfiles\\newfile.txt','w')"
   ]
  },
  {
   "cell_type": "code",
   "execution_count": null,
   "id": "6a9c44d0-b28d-4178-bab2-afb53ab706c8",
   "metadata": {},
   "outputs": [],
   "source": [
    "open('C:\\\\textfiles\\\\newfile.txt','w')\n",
    "open(r'C:\\textfiles\\newfile.txt','w')"
   ]
  },
  {
   "cell_type": "code",
   "execution_count": null,
   "id": "b940c40d-00c8-470d-860d-221b9c9fcf19",
   "metadata": {},
   "outputs": [],
   "source": [
    "open('/Users/xyz/dir1/dir2/data.txt, 'w')"
   ]
  },
  {
   "cell_type": "code",
   "execution_count": null,
   "id": "1505effd-04a9-4cb2-b91a-418c9045c7f6",
   "metadata": {},
   "outputs": [],
   "source": [
    "open('C:/textfiles/newfile.txt','w')"
   ]
  },
  {
   "cell_type": "code",
   "execution_count": null,
   "id": "9769393c-9613-4c8a-9029-013e900821af",
   "metadata": {},
   "outputs": [],
   "source": [
    "open('dir1/data.txt','w')"
   ]
  },
  {
   "cell_type": "code",
   "execution_count": null,
   "id": "a0b18b95-65fe-4ecb-b73b-63034d6b4dc6",
   "metadata": {},
   "outputs": [],
   "source": [
    "filename= input('Enter the name of the file to be opened : ')\n",
    "f = open(filename)"
   ]
  },
  {
   "cell_type": "markdown",
   "id": "00acb9a7-4af8-4083-8277-486c2c9e4c90",
   "metadata": {},
   "source": [
    "Binary and text files"
   ]
  },
  {
   "cell_type": "code",
   "execution_count": null,
   "id": "07383a65-1e0e-4858-b4a7-f1c0ada0b574",
   "metadata": {},
   "outputs": [],
   "source": [
    "open('data.txt', 'w', encoding='utf-8')"
   ]
  },
  {
   "cell_type": "code",
   "execution_count": null,
   "id": "ea808b88-108e-4f0a-9932-448274685ea2",
   "metadata": {},
   "outputs": [],
   "source": [
    "import locale\n",
    "locale.getencoding()"
   ]
  },
  {
   "cell_type": "code",
   "execution_count": null,
   "id": "aff970b7-339a-4d59-8d03-d347ee40016f",
   "metadata": {},
   "outputs": [],
   "source": [
    "f = open('myfile.txt', 'r')\n",
    "s = f.read()"
   ]
  },
  {
   "cell_type": "code",
   "execution_count": null,
   "id": "d70f4c22-8e1b-4721-b803-5fe6bfc94222",
   "metadata": {},
   "outputs": [],
   "source": [
    "f = open('myfile.txt','r', encoding = 'utf-8')\n",
    "s = f.read()\n",
    "print(s)"
   ]
  },
  {
   "cell_type": "code",
   "execution_count": null,
   "id": "308101de-ddc3-4d61-97c9-c2c6c1fe9f44",
   "metadata": {},
   "outputs": [],
   "source": [
    "f = open('myfile.txt', 'rb')\n",
    "s = f.read()\n",
    "print(s)"
   ]
  },
  {
   "cell_type": "markdown",
   "id": "855dcead-0d76-4500-a367-bbfb559cba8c",
   "metadata": {},
   "source": [
    "Closing a file"
   ]
  },
  {
   "cell_type": "code",
   "execution_count": null,
   "id": "4c48ebcd-64f5-49fa-a53b-20bbf1b30915",
   "metadata": {},
   "outputs": [],
   "source": [
    "f = open('time.txt', 'w')\n",
    "f.write('Time is precious.')"
   ]
  },
  {
   "cell_type": "code",
   "execution_count": null,
   "id": "c740a13d-45cb-4246-ae7f-0b2ba1c7aa85",
   "metadata": {},
   "outputs": [],
   "source": [
    "f = open('time.txt', 'r')\n",
    "s = f.read()\n",
    "print(s)"
   ]
  },
  {
   "cell_type": "code",
   "execution_count": null,
   "id": "f55a9f72-f9dd-41be-980f-33a1eec8d54c",
   "metadata": {},
   "outputs": [],
   "source": [
    "f = open('time.txt','w')\n",
    "f.write('Time is precious.' * 1000)\n",
    "f.write('Waste it wisely')"
   ]
  },
  {
   "cell_type": "code",
   "execution_count": null,
   "id": "5a94965f-a9ef-493d-8872-7d246c271676",
   "metadata": {},
   "outputs": [],
   "source": [
    "f = open('time.txt', 'w')\n",
    "f.write('Time is precious.' * 1000)\n",
    "f.write('Waste it wisely' )\n",
    "f.close()"
   ]
  },
  {
   "cell_type": "code",
   "execution_count": null,
   "id": "04833c02-cb7a-429e-8980-042db70a1387",
   "metadata": {},
   "outputs": [],
   "source": [
    "f.flush()"
   ]
  },
  {
   "cell_type": "markdown",
   "id": "3bfdfd2c-c3d2-4b05-890b-836f5aad9d0b",
   "metadata": {},
   "source": [
    "With statement"
   ]
  },
  {
   "cell_type": "code",
   "execution_count": null,
   "id": "96054cff-8ec2-4e6d-a2f9-b9a37db4b509",
   "metadata": {},
   "outputs": [],
   "source": [
    "f = open('data.txt', 'r') with\n",
    "open('data.txt', 'r') as f:\n",
    "s = f.read() s = f.read()\n",
    "print(s) print(s)\n",
    "f.close()"
   ]
  },
  {
   "cell_type": "code",
   "execution_count": null,
   "id": "03af4189-b782-461e-b447-a7f3091fc4e5",
   "metadata": {},
   "outputs": [],
   "source": [
    "f1 = open('data.txt', 'r') with\n",
    "open('data.txt', 'r') as f1:\n",
    "f2 = open('new.txt', 'w') with\n",
    "open('new.txt', 'w') as f2:\n",
    "s = f1.read() s = f1.read()\n",
    "f2.write(s) f2.write(s)\n",
    "f1.close()\n",
    "f2.close()"
   ]
  },
  {
   "cell_type": "code",
   "execution_count": null,
   "id": "da0f7e80-4b72-4b32-82a6-1d2633d62abe",
   "metadata": {},
   "outputs": [],
   "source": [
    "with open('data.txt', 'r') as f1, open('new.txt',\n",
    "'w') as f2:\n",
    " s = f1.read()\n",
    " f2.write(s)"
   ]
  },
  {
   "cell_type": "code",
   "execution_count": null,
   "id": "2dbab608-7338-440b-b2fa-a375e6acc7a2",
   "metadata": {},
   "outputs": [],
   "source": [
    "with open('time.txt', 'w') as fout:\n",
    " fout.write('Time is precious')\n",
    "print(fout.closed)\n",
    "with open('time.txt', 'r') as fin:\n",
    " s = fin.read()\n",
    " print(s)\n",
    "print(fin.closed)"
   ]
  },
  {
   "cell_type": "markdown",
   "id": "d1712999-a315-45cf-9be9-8e2dde29841b",
   "metadata": {},
   "source": [
    "Random access"
   ]
  },
  {
   "cell_type": "code",
   "execution_count": null,
   "id": "6a08cc13-d43e-4c96-b176-3f9f0472a215",
   "metadata": {},
   "outputs": [],
   "source": [
    "f.seek(n, from_where=0)"
   ]
  },
  {
   "cell_type": "code",
   "execution_count": null,
   "id": "b628a084-d52c-4d41-9c45-4c9ab4d96aba",
   "metadata": {},
   "outputs": [],
   "source": [
    "pos = f.tell()\n",
    "f.seek(pos)"
   ]
  },
  {
   "cell_type": "markdown",
   "id": "8b6230a5-ff35-44ad-95e4-966d0bf0a0be",
   "metadata": {},
   "source": [
    "Using a seek in text mode"
   ]
  },
  {
   "cell_type": "code",
   "execution_count": null,
   "id": "63e3c8ee-fd38-429c-a35e-1ed4f2944b49",
   "metadata": {},
   "outputs": [],
   "source": [
    "f.seek(0, 2) # seeking to the end of the file"
   ]
  },
  {
   "cell_type": "code",
   "execution_count": null,
   "id": "7119592c-7fb0-465e-95f1-5270f040f437",
   "metadata": {},
   "outputs": [],
   "source": [
    "# myfile1.txt - example file\n",
    "All is well.\n",
    "# myfile2.txt - example file\n",
    "猿も⽊から落ちる\n",
    "# myprog.py - example file \n",
    "with open('myfile1.txt','r', encoding='utf-8') as\n",
    "f:\n",
    " f.seek(4)\n",
    " print(f.read())\n",
    "with open('myfile2.txt','r', encoding='utf-8') as\n",
    "f:\n",
    " f.seek(4)\n",
    " print(f.read())"
   ]
  },
  {
   "cell_type": "code",
   "execution_count": null,
   "id": "962a0b8e-3305-42af-955a-2bd699b9e663",
   "metadata": {},
   "outputs": [],
   "source": [
    "len('猿も⽊から落ちる')"
   ]
  },
  {
   "cell_type": "code",
   "execution_count": null,
   "id": "d9ccaa5c-7cc9-4878-b069-b135ad016eb5",
   "metadata": {},
   "outputs": [],
   "source": [
    "len(str.encode('猿も⽊から落ちる', 'utf-8'))"
   ]
  },
  {
   "cell_type": "code",
   "execution_count": null,
   "id": "90c821e5-0f9d-4759-bf99-8e95a0ccdef9",
   "metadata": {},
   "outputs": [],
   "source": [
    "len('All is well.')"
   ]
  },
  {
   "cell_type": "code",
   "execution_count": null,
   "id": "0b1c210a-1431-4163-b1cf-bfd921d06354",
   "metadata": {},
   "outputs": [],
   "source": [
    "len(str.encode('All is well.', 'utf-8'))"
   ]
  },
  {
   "cell_type": "markdown",
   "id": "d3e31a67-7134-48ae-8a48-7fd8600a51ee",
   "metadata": {},
   "source": [
    "Reading and writing same file"
   ]
  },
  {
   "cell_type": "code",
   "execution_count": null,
   "id": "6b8bda4b-5990-4341-912e-c4adf941f319",
   "metadata": {},
   "outputs": [],
   "source": [
    "f = open('testfile.bin', 'w+b')\n",
    "f.write(b'abcdefghijklmn')"
   ]
  },
  {
   "cell_type": "code",
   "execution_count": null,
   "id": "8098b83d-474f-4469-9aa7-56fc50e03b5c",
   "metadata": {},
   "outputs": [],
   "source": [
    "f.write(b'123456789')"
   ]
  },
  {
   "cell_type": "code",
   "execution_count": null,
   "id": "d18e3663-ef14-40b2-bdf0-13680b3b1fbe",
   "metadata": {},
   "outputs": [],
   "source": [
    "f.tell()"
   ]
  },
  {
   "cell_type": "code",
   "execution_count": null,
   "id": "82f6d56a-f460-4bfa-9114-5acbc93355a1",
   "metadata": {},
   "outputs": [],
   "source": [
    "f.read()"
   ]
  },
  {
   "cell_type": "code",
   "execution_count": null,
   "id": "5667fba6-0bfe-40f4-9a1a-8f9a2f785c90",
   "metadata": {},
   "outputs": [],
   "source": [
    "f.seek(0)"
   ]
  },
  {
   "cell_type": "code",
   "execution_count": null,
   "id": "da17fcba-8850-40d5-b680-cf96868b399a",
   "metadata": {},
   "outputs": [],
   "source": [
    "f.read()"
   ]
  },
  {
   "cell_type": "code",
   "execution_count": null,
   "id": "5dd7df49-f186-4658-9777-ca53a78d19ff",
   "metadata": {},
   "outputs": [],
   "source": [
    "f.tell()"
   ]
  },
  {
   "cell_type": "code",
   "execution_count": null,
   "id": "538ec685-3d16-4f72-bf4e-ae1d15cfe038",
   "metadata": {},
   "outputs": [],
   "source": [
    "f.seek(-9, 2)"
   ]
  },
  {
   "cell_type": "code",
   "execution_count": null,
   "id": "0155a566-2840-4b81-8dc1-56779b899eb4",
   "metadata": {},
   "outputs": [],
   "source": [
    "f.read(3)"
   ]
  },
  {
   "cell_type": "code",
   "execution_count": null,
   "id": "fdc2545b-c9f4-40ac-9a3a-0b34fc7ceeb5",
   "metadata": {},
   "outputs": [],
   "source": [
    "f.tell()"
   ]
  },
  {
   "cell_type": "code",
   "execution_count": null,
   "id": "e780bf19-0799-471e-9619-d753b823f6a3",
   "metadata": {},
   "outputs": [],
   "source": [
    "f.seek(0, 2)"
   ]
  },
  {
   "cell_type": "code",
   "execution_count": null,
   "id": "12be8a03-76a9-4672-b8dd-375bd12ebfcd",
   "metadata": {},
   "outputs": [],
   "source": [
    "f.close()"
   ]
  },
  {
   "cell_type": "code",
   "execution_count": null,
   "id": "52441d49-8eff-4c89-abf5-04a58ef137f3",
   "metadata": {},
   "outputs": [],
   "source": [
    "f = open('data1.txt', 'a+')\n",
    "f.tell()"
   ]
  },
  {
   "cell_type": "code",
   "execution_count": null,
   "id": "6809c110-63fc-4f08-98e3-c7a57726b686",
   "metadata": {},
   "outputs": [],
   "source": [
    "f.seek(0)"
   ]
  },
  {
   "cell_type": "code",
   "execution_count": null,
   "id": "8414ccea-d8dc-44b0-af3d-50047a97e291",
   "metadata": {},
   "outputs": [],
   "source": [
    "f.read()"
   ]
  },
  {
   "cell_type": "code",
   "execution_count": null,
   "id": "ba375023-75ba-439d-a8f6-b3fe4f095f81",
   "metadata": {},
   "outputs": [],
   "source": [
    "f.write('This is next line\\n')"
   ]
  },
  {
   "cell_type": "code",
   "execution_count": null,
   "id": "4d6876e7-4aca-412f-b8ec-d928bb22e645",
   "metadata": {},
   "outputs": [],
   "source": [
    "f.seek(0)"
   ]
  },
  {
   "cell_type": "code",
   "execution_count": null,
   "id": "3f320326-406e-48f7-8719-85b1f5f975aa",
   "metadata": {},
   "outputs": [],
   "source": [
    "f.read()"
   ]
  },
  {
   "cell_type": "code",
   "execution_count": null,
   "id": "aa6d3177-c8fe-426b-9a14-e00a845ccd1d",
   "metadata": {},
   "outputs": [],
   "source": [
    "f.seek(0)"
   ]
  },
  {
   "cell_type": "code",
   "execution_count": null,
   "id": "f7eec71e-e9bf-48c9-a31b-b4c0b4509427",
   "metadata": {},
   "outputs": [],
   "source": [
    "f.write('This is last line\\n')"
   ]
  },
  {
   "cell_type": "code",
   "execution_count": null,
   "id": "2ce70e20-40d7-4bcb-8a34-ce088ed60b4c",
   "metadata": {},
   "outputs": [],
   "source": [
    "f.seek(0)"
   ]
  },
  {
   "cell_type": "code",
   "execution_count": null,
   "id": "862d9822-9aad-4a18-82e8-e8df4b3c0c8d",
   "metadata": {},
   "outputs": [],
   "source": [
    "f.read()"
   ]
  },
  {
   "cell_type": "code",
   "execution_count": null,
   "id": "46325640-adbe-4fd9-b979-7b4907c528b0",
   "metadata": {},
   "outputs": [],
   "source": [
    "f.close()\n",
    "f = open('data1.txt', 'r+')\n",
    "f.tell()"
   ]
  },
  {
   "cell_type": "code",
   "execution_count": null,
   "id": "8e495520-0969-4d54-b8af-1cd7cf05bf97",
   "metadata": {},
   "outputs": [],
   "source": [
    "f.seek(0, 2)"
   ]
  },
  {
   "cell_type": "code",
   "execution_count": null,
   "id": "28b135af-7c88-4154-aa31-bebe92d5d8b0",
   "metadata": {},
   "outputs": [],
   "source": [
    "f.write('This is a new line\\n')"
   ]
  },
  {
   "cell_type": "code",
   "execution_count": null,
   "id": "4f234137-ab2a-45e1-8739-6a0e711eb0a4",
   "metadata": {},
   "outputs": [],
   "source": [
    "f.seek(0)"
   ]
  },
  {
   "cell_type": "code",
   "execution_count": null,
   "id": "5eff395d-f4c8-4cd4-bd90-008d2729a8fb",
   "metadata": {},
   "outputs": [],
   "source": [
    "f.read()"
   ]
  },
  {
   "cell_type": "code",
   "execution_count": null,
   "id": "5c6c3dde-157b-4180-a661-1ba4164ed959",
   "metadata": {},
   "outputs": [],
   "source": [
    "f.close()"
   ]
  },
  {
   "cell_type": "markdown",
   "id": "bc4f28c5-ad87-47dd-81ee-720cf2d0aed7",
   "metadata": {},
   "source": [
    "Reading a file using a read()"
   ]
  },
  {
   "cell_type": "code",
   "execution_count": null,
   "id": "b4768ebd-df64-44d6-9fe2-ff716fd5b479",
   "metadata": {},
   "outputs": [],
   "source": [
    "# mydata.txt - example file name\n",
    "with open('mydata.txt', 'r', encoding='utf-8') as\n",
    "f:\n",
    " print(f.read())"
   ]
  },
  {
   "cell_type": "code",
   "execution_count": null,
   "id": "45b150a3-a007-4c35-ad3d-d9855247b856",
   "metadata": {},
   "outputs": [],
   "source": [
    "with open('mydata.txt', 'r', encoding='utf-8') as\n",
    "f:\n",
    " print(f.read(40))"
   ]
  },
  {
   "cell_type": "code",
   "execution_count": null,
   "id": "8f164b38-b590-407e-8dc9-8734e7ab7e32",
   "metadata": {},
   "outputs": [],
   "source": [
    "with open('mydata.txt', 'r', encoding='utf-8') as\n",
    "f:\n",
    " while True:\n",
    " part = f.read(10) \n",
    " if part == '':\n",
    " break\n",
    " print(part, end='')"
   ]
  },
  {
   "cell_type": "markdown",
   "id": "0b61e885-1373-4bbd-95bb-90e35e30a4ab",
   "metadata": {},
   "source": [
    "Line oriented reading"
   ]
  },
  {
   "cell_type": "code",
   "execution_count": null,
   "id": "b5fa799e-af40-43b4-8f96-6239f2698e19",
   "metadata": {},
   "outputs": [],
   "source": [
    "# zenpython.txt - example file name\n",
    "with open('zenpython.txt', 'r') as f:\n",
    " print(f.readline())"
   ]
  },
  {
   "cell_type": "code",
   "execution_count": null,
   "id": "b1ef808c-a699-4aba-add1-6dde0ce0861c",
   "metadata": {},
   "outputs": [],
   "source": [
    "with open('zenpython.txt', 'r') as f:\n",
    " print(f.readline())\n",
    " print(f.readline())\n",
    " print(f.readline())"
   ]
  },
  {
   "cell_type": "code",
   "execution_count": null,
   "id": "1ab655e5-435e-46fb-9953-49f8ee4be083",
   "metadata": {},
   "outputs": [],
   "source": [
    "with open('zenpython.txt', 'r') as f:\n",
    " print(f.readline(), end='')\n",
    " print(f.readline(), end='')\n",
    " print(f.readline(), end='')"
   ]
  },
  {
   "cell_type": "code",
   "execution_count": null,
   "id": "f7828083-e8eb-4a65-ac29-d410aaa9561e",
   "metadata": {},
   "outputs": [],
   "source": [
    "with open('zenpython.txt', 'r') as f:\n",
    " print(f.readline().rstrip())\n",
    " print(f.readline().rstrip())\n",
    " print(f.readline().rstrip())"
   ]
  },
  {
   "cell_type": "code",
   "execution_count": null,
   "id": "877ca998-4565-459c-9a40-1ca62663eaa4",
   "metadata": {},
   "outputs": [],
   "source": [
    "with open('zenpython.txt', 'r') as f:\n",
    " while True:\n",
    " s = f.readline()\n",
    " if s == '':\n",
    " break\n",
    " print(s, end='')"
   ]
  },
  {
   "cell_type": "code",
   "execution_count": null,
   "id": "0a88aeac-d91e-472b-97ac-17a7409ba362",
   "metadata": {},
   "outputs": [],
   "source": [
    "with open('zenpython.txt', 'r') as f:\n",
    " lines = f.readlines()\n",
    " print(lines)"
   ]
  },
  {
   "cell_type": "code",
   "execution_count": null,
   "id": "80bc4160-d520-40a4-9e85-0f4efe394af0",
   "metadata": {},
   "outputs": [],
   "source": [
    "with open('zenpython.txt', 'r') as f:\n",
    " for line in f:\n",
    " print(line, end='')"
   ]
  },
  {
   "cell_type": "markdown",
   "id": "f39b4110-b8ff-4d75-bf82-2482d9e24ebd",
   "metadata": {},
   "source": [
    "Writing to a file"
   ]
  },
  {
   "cell_type": "code",
   "execution_count": null,
   "id": "df1a3e19-85db-474f-ac70-c20eea20ee95",
   "metadata": {},
   "outputs": [],
   "source": [
    "with open('learn.txt', 'w') as f:\n",
    " f.write('Data Science\\n')\n",
    " f.write('Machine Learning\\n')\n",
    " f.write('Artificial intelligence\\n')"
   ]
  },
  {
   "cell_type": "code",
   "execution_count": null,
   "id": "77687379-bc9e-42a8-9aaf-355b7084efbc",
   "metadata": {},
   "outputs": [],
   "source": [
    "with open('myfile.bin', 'wb') as f:\n",
    "data = '☛ Explicit is better than implicit\n",
    "✍'\n",
    "f.write(data.encode('utf-8'))\n",
    "with open('myfile.bin', 'rb') as f:\n",
    "s = f.read()\n",
    "data = s.decode('utf-8')\n",
    "print(data)"
   ]
  },
  {
   "cell_type": "code",
   "execution_count": null,
   "id": "892569bb-3763-4745-9121-e3d8f533b48a",
   "metadata": {},
   "outputs": [],
   "source": [
    "L = ['Python\\n', 'Java\\n', 'Swift\\n', 'Perl\\n']\n",
    "with open('learn.txt', 'a') as f:\n",
    " f.writelines(L)"
   ]
  },
  {
   "cell_type": "markdown",
   "id": "d792c7df-63e7-475d-b1dc-0ca0b92c065a",
   "metadata": {},
   "source": [
    "Redirecting output of a print to a file"
   ]
  },
  {
   "cell_type": "code",
   "execution_count": null,
   "id": "407f7c38-a839-47ef-913d-654bbb7386dd",
   "metadata": {},
   "outputs": [],
   "source": [
    "with open('names.txt', 'r') as f:\n",
    " for line in reversed(f.readlines()):\n",
    " print(line, end='')"
   ]
  },
  {
   "cell_type": "code",
   "execution_count": null,
   "id": "3966b718-6a12-4e4c-b59c-b6c106200097",
   "metadata": {},
   "outputs": [],
   "source": [
    "with open('names.txt', 'r') as f:\n",
    " print(len(f.readlines()))"
   ]
  },
  {
   "cell_type": "code",
   "execution_count": null,
   "id": "a4a5af7d-e42a-4c4e-8982-1be7d7950b7c",
   "metadata": {},
   "outputs": [],
   "source": [
    "with open('names.txt', 'r') as f:\n",
    " count = 0\n",
    " for line in f:\n",
    " count += 1\n",
    "print(count)"
   ]
  },
  {
   "cell_type": "code",
   "execution_count": null,
   "id": "2e17f4dd-0341-40d1-bacd-63d06e8df3e4",
   "metadata": {},
   "outputs": [],
   "source": [
    "with open('names.txt', 'r') as f:\n",
    " count = 0\n",
    " for line in f:\n",
    " count += 1\n",
    " print(count, line, end='')"
   ]
  },
  {
   "cell_type": "code",
   "execution_count": null,
   "id": "ac6e3a5d-a81f-4fac-a622-5250fb85b6ee",
   "metadata": {},
   "outputs": [],
   "source": [
    "search_string = input('Enter the text to be\n",
    "searched : ')\n",
    "with open('learn.txt', 'r') as f:\n",
    " for line in f:\n",
    " p = line.find(search_string)\n",
    " if p >= 0:\n",
    " print(line, end='') "
   ]
  },
  {
   "cell_type": "code",
   "execution_count": null,
   "id": "48e5b39f-dbe3-4527-a2f4-f20fe002ec6f",
   "metadata": {},
   "outputs": [],
   "source": [
    "with open('new.txt', 'w') as f1, open('names.txt', 'r') as f2:\n",
    " f1.write(f2.read())"
   ]
  },
  {
   "cell_type": "code",
   "execution_count": null,
   "id": "a805ed84-dded-40d6-af8c-112ed75b76ac",
   "metadata": {},
   "outputs": [],
   "source": [
    "with open('new.txt', 'w') as f1, open('names.txt', 'r') as f2:\n",
    " for line in f2:\n",
    " f1.write(line)"
   ]
  },
  {
   "cell_type": "code",
   "execution_count": null,
   "id": "7d085b28-85b4-4fb7-b944-49bbd55a0c37",
   "metadata": {},
   "outputs": [],
   "source": [
    "with open('new.txt', 'a') as f1, open('names.txt', 'r') as f2:\n",
    " for line in f2:\n",
    " f1.write(line)"
   ]
  },
  {
   "cell_type": "code",
   "execution_count": null,
   "id": "af6166f7-b9f5-460c-9dad-e668140e71d1",
   "metadata": {},
   "outputs": [],
   "source": [
    "def append(file1, *args):\n",
    " with open(file1, 'a') as f1:\n",
    " for file in args:\n",
    " with open(file, 'r') as f2:\n",
    " for line in f2:\n",
    " f1.write(line)\n",
    "append('school.txt', 'class1.txt', 'class2.txt', 'class3.txt')\n",
    "append('people.txt', 'students.txt', 'employees.txt')"
   ]
  },
  {
   "cell_type": "code",
   "execution_count": null,
   "id": "84ca7a50-6996-4cc7-8f85-03a520e0e40e",
   "metadata": {},
   "outputs": [],
   "source": [
    "def append(file1, *args):\n",
    " with open(file1, 'r') as f1:\n",
    " for file in args:\n",
    " with open(file, 'a') as f2:\n",
    " for line in f1:\n",
    " f2.write(line)\n",
    " f1.seek(0)\n",
    "append('copyright.txt', 'document1.txt', 'document2.txt')\n",
    "append('companyinfo.txt', 'doc1.txt', 'doc2.txt', 'doc3.txt', 'doc4.txt')"
   ]
  },
  {
   "cell_type": "code",
   "execution_count": null,
   "id": "33380f03-70d9-419d-8801-f864d1958e64",
   "metadata": {},
   "outputs": [],
   "source": [
    "def append(file1, *args):\n",
    " with open(file1, 'r') as f1:\n",
    " text = f1.read()\n",
    " for file in args:\n",
    " with open(file, 'a') as f2:\n",
    " f2.write(text)"
   ]
  },
  {
   "cell_type": "code",
   "execution_count": null,
   "id": "eff22aad-c9e3-480a-9831-954ccdc70486",
   "metadata": {},
   "outputs": [],
   "source": [
    "with open('info.txt', 'r') as f:\n",
    " lines = [line.rstrip() for line in f if\n",
    "line[0].isdigit()]\n",
    " print(lines)"
   ]
  },
  {
   "cell_type": "code",
   "execution_count": null,
   "id": "7deefcbd-a440-4973-9b28-be69cf77418c",
   "metadata": {},
   "outputs": [],
   "source": [
    "blank_lines = 0\n",
    "with open('info.txt', 'r') as f:\n",
    " for line in f:\n",
    " if line.strip() == '':\n",
    " blank_lines += 1\n",
    "print(blank_lines)"
   ]
  },
  {
   "cell_type": "code",
   "execution_count": null,
   "id": "40862f29-7cfd-4232-85c1-15e1ac7dfa5c",
   "metadata": {},
   "outputs": [],
   "source": [
    "# employees_info.txt - example file name\n",
    "with open('employees_info.txt', 'r') as f:\n",
    " for line in f:\n",
    " _, name, _, phone, salary = line.split(':')\n",
    " salary = float(salary.strip())\n",
    " bonus = 0.5 * salary if salary < 20000 else 0.3 * salary\n",
    " print(name, phone, bonus)"
   ]
  },
  {
   "cell_type": "code",
   "execution_count": null,
   "id": "516545b7-5423-4cbf-92f7-efd89dd2143b",
   "metadata": {},
   "outputs": [],
   "source": [
    "with open('employees_info.txt', 'r') as f,\n",
    "open('employees1.txt', 'w') as f1:\n",
    " for line in f:\n",
    " empid, name, email, phone, salary =\n",
    "line.rstrip().split(':')\n",
    " print(f'{empid:5} : {name:10} : {email:18}:\n",
    "{phone:15}:{salary:>9}', file=f1)"
   ]
  },
  {
   "cell_type": "code",
   "execution_count": null,
   "id": "6c931fb1-15af-4e05-b617-ae46ab7dca4a",
   "metadata": {},
   "outputs": [],
   "source": [
    "with open('information.txt','r') as f:\n",
    " while True:\n",
    " question = f.readline().strip()\n",
    " if question =='':\n",
    "break\n",
    " options = f.readline().strip()\n",
    " answer = f.readline().strip()\n",
    " print(question)\n",
    " print(options)\n",
    " response = input('Enter your answer : ')\n",
    " if response.strip().upper() == answer:\n",
    " print('Your answer is correct\\n')\n",
    " else:\n",
    " print('Correct answer is ', answer)\n",
    " print(f.readline())"
   ]
  },
  {
   "cell_type": "code",
   "execution_count": null,
   "id": "b78536f3-b553-4be4-9be8-f204381e1d8e",
   "metadata": {},
   "outputs": [],
   "source": [
    "with open('students_info.txt', 'r') as f1,\n",
    "open('results.txt', 'w') as f2:\n",
    " for line in f1:\n",
    " rollno, name, *pairs, _ = line.split(':')\n",
    " total = 0\n",
    " for pair in pairs:\n",
    " _, marks = pair.split('-')\n",
    " marks = int(marks.strip())\n",
    " total += marks\n",
    " percentage = total / len(pairs)\n",
    " print(f'{rollno} {name:12}\n",
    "{percentage:8.2f}%', file=f2)"
   ]
  },
  {
   "cell_type": "code",
   "execution_count": null,
   "id": "03da8c88-c94d-47ae-9f2b-a0c42fb32d4d",
   "metadata": {},
   "outputs": [],
   "source": [
    "with open('students_info.txt', 'r') as f1, \\\n",
    " open('highperformers.txt', 'w') as f2, \\\n",
    " open('potentialperformers.txt', 'w') as f3,\n",
    "\\\n",
    " open('lowperformers.txt', 'w') as f4:\n",
    " for line in f1:\n",
    " rollno, name, *pairs, _ = line.split(':')\n",
    " total = 0\n",
    " for pair in pairs:\n",
    " _, marks = pair.split('-')\n",
    " marks = int(marks.strip())\n",
    " total += marks\n",
    " percentage = total / len(pairs)\n",
    " if percentage >= 80:\n",
    " print(f'{rollno} {name:12}\n",
    "{percentage:8.2f}%', file=f2)\n",
    " elif percentage >= 50:\n",
    " print(f'{rollno} {name:12}\n",
    "{percentage:8.2f}%', file=f3)\n",
    " else:\n",
    " print(f'{rollno} {name:12}\n",
    "{percentage:8.2f}%', file=f4)"
   ]
  },
  {
   "cell_type": "markdown",
   "id": "5002a49a-738d-40e1-ad1f-b39980ce3bad",
   "metadata": {},
   "source": [
    "Command line arguments"
   ]
  },
  {
   "cell_type": "code",
   "execution_count": null,
   "id": "aae09606-6d4c-4166-bfba-c9b31ca47f2e",
   "metadata": {},
   "outputs": [],
   "source": [
    "# sample.py - example file\n",
    "import sys\n",
    "print(sys.argv)"
   ]
  },
  {
   "cell_type": "code",
   "execution_count": null,
   "id": "dac5a328-782d-4490-a275-48defc523f22",
   "metadata": {},
   "outputs": [],
   "source": [
    "C:\\Users\\Yashvaant\\Programs>python sample.py"
   ]
  },
  {
   "cell_type": "code",
   "execution_count": null,
   "id": "06b1cab2-fb4a-42b6-bc1f-56d4e7b21e2c",
   "metadata": {},
   "outputs": [],
   "source": [
    "C:\\Users\\Yashvaant\\Programs>python sample.py first second 33 44"
   ]
  },
  {
   "cell_type": "code",
   "execution_count": null,
   "id": "19703424-b00a-43ae-a4db-da3f85a7cd16",
   "metadata": {},
   "outputs": [],
   "source": [
    "# sample.py - example file name\n",
    "import sys\n",
    "print(sys.argv[1:])"
   ]
  },
  {
   "cell_type": "code",
   "execution_count": null,
   "id": "9c6b4cb8-85c5-47a0-8e3e-f6301a484f53",
   "metadata": {},
   "outputs": [],
   "source": [
    "C:\\Users\\Yashvaant\\Programs>python sample.py first second 33 44"
   ]
  },
  {
   "cell_type": "code",
   "execution_count": null,
   "id": "88bf469c-330c-4299-b056-bf0f9e8f890a",
   "metadata": {},
   "outputs": [],
   "source": [
    "with open('names.txt', 'r') as f:\n",
    " count = 0\n",
    " for line in f:\n",
    " count += 1\n",
    "print(count)\n",
    "-------countlines.py-----------\n",
    "import sys\n",
    "with open(sys.argv[1], 'r') as f:\n",
    " count = 0\n",
    " for line in f:\n",
    "count += 1\n",
    "print(count)"
   ]
  },
  {
   "cell_type": "code",
   "execution_count": null,
   "id": "e07deb8b-a8f0-4f9f-be60-b0310f7c7d19",
   "metadata": {},
   "outputs": [],
   "source": [
    "C:\\Users\\Yashvaant\\Programs>python countlines.py \n",
    "data.txt"
   ]
  },
  {
   "cell_type": "code",
   "execution_count": null,
   "id": "38b700e5-e280-4a33-9803-395b964697c2",
   "metadata": {},
   "outputs": [],
   "source": [
    "C:\\Users\\Yashvaant\\Programs>python countlines.py\n",
    "names.txt"
   ]
  },
  {
   "cell_type": "code",
   "execution_count": null,
   "id": "94e8942a-fdad-4d1c-9ed4-79dc37900223",
   "metadata": {},
   "outputs": [],
   "source": [
    "import sys\n",
    "if len(sys.argv) == 1:\n",
    " filename = input('Enter filename : ')\n",
    "else:\n",
    " filename = sys.argv[1]\n",
    "with open(filename, 'r') as f:\n",
    " count = 0\n",
    " for line in f:\n",
    " count += 1\n",
    "print(count)"
   ]
  },
  {
   "cell_type": "code",
   "execution_count": null,
   "id": "bce050a4-ea77-4449-9648-4673d7b7b544",
   "metadata": {},
   "outputs": [],
   "source": [
    "with open('new.txt', 'w') as f1, open('names.txt', 'r') as f2:\n",
    " for line in f2:\n",
    " f1.write(line)"
   ]
  },
  {
   "cell_type": "code",
   "execution_count": null,
   "id": "6f1be88e-cab7-4d62-a06f-6437f76573b2",
   "metadata": {},
   "outputs": [],
   "source": [
    "# example file name - copy.py\n",
    "import sys\n",
    "with open(sys.argv[1],'w') as f1,\n",
    "open(sys.argv[2],'r') as f2:\n",
    " for line in f2:\n",
    " f1.write(line)"
   ]
  },
  {
   "cell_type": "code",
   "execution_count": null,
   "id": "a6034f50-942f-4884-98e0-182b7c70d19d",
   "metadata": {},
   "outputs": [],
   "source": [
    "C:\\Users\\Yashvaant\\Programs>python copy.py new.txt\n",
    "names.txt\n",
    "\n",
    "C:\\Users\\Yashvaant\\Programs>python copy.py\n",
    "students1.txt students.txt"
   ]
  },
  {
   "cell_type": "code",
   "execution_count": null,
   "id": "bb3ab0d8-66ac-4575-94b5-f00671ea62e7",
   "metadata": {},
   "outputs": [],
   "source": [
    "# example file name - append.py\n",
    "import sys\n",
    "with open(sys.argv[1], 'a') as f1:\n",
    " for file in sys.argv[2:]:\n",
    " with open(file, 'r') as f2:\n",
    " for line in f2:\n",
    " f1.write(line)"
   ]
  },
  {
   "cell_type": "code",
   "execution_count": null,
   "id": "155443cf-c307-4165-ba6a-b1bc2e3c1cc5",
   "metadata": {},
   "outputs": [],
   "source": [
    "C:\\Users\\Yashvaant\\Programs>python append.py\n",
    "names.txt names1.txt names2.txt\n",
    "C:\\Users\\Yashvaant\\Programs>python append.py\n",
    "names.txt names1.txt names2.txt names3.txt"
   ]
  },
  {
   "cell_type": "markdown",
   "id": "59ebb5d5-5d02-4c77-95dc-b590a9adfad7",
   "metadata": {},
   "source": [
    "Storing and retrieving python objects using pickle"
   ]
  },
  {
   "cell_type": "code",
   "execution_count": null,
   "id": "ea685c1c-f715-49f2-bf55-bc5170eba5dc",
   "metadata": {},
   "outputs": [],
   "source": [
    "with open('data.txt', 'w') as f:\n",
    " f.write(23)\n",
    " f.write(2.5)\n",
    "f.write([10, 20, 30])"
   ]
  },
  {
   "cell_type": "code",
   "execution_count": null,
   "id": "ea3791de-192d-4112-945f-e7e74b5089f0",
   "metadata": {},
   "outputs": [],
   "source": [
    "with open('data.txt', 'w') as f:\n",
    " f.write(str(23))\n",
    " f.write(str(2.5))\n",
    " f.write(str([10, 20, 30]))"
   ]
  },
  {
   "cell_type": "code",
   "execution_count": null,
   "id": "e23b1458-cffe-4b81-bf50-2053d6680df2",
   "metadata": {},
   "outputs": [],
   "source": [
    "with open('data.txt', 'r') as f:\n",
    " print(f.read())"
   ]
  },
  {
   "cell_type": "code",
   "execution_count": null,
   "id": "2943bb7d-6b1c-4e81-bd5a-fa028dfbd9ad",
   "metadata": {},
   "outputs": [],
   "source": [
    "import pickle import pickle\n",
    "\n",
    "file = open('data.pck', wb) file = open('data.pck', rb)\n",
    "pickle.dump(p, file) o = pickle.load(file)"
   ]
  },
  {
   "cell_type": "code",
   "execution_count": null,
   "id": "d55cb8b0-66ae-4066-bee8-20aa65fd64eb",
   "metadata": {},
   "outputs": [],
   "source": [
    "import pickle\n",
    "numbers = [10, 20, 30]\n",
    "with open('data.pickle', 'wb') as file:\n",
    " pickle.dump(numbers, file)"
   ]
  },
  {
   "cell_type": "code",
   "execution_count": null,
   "id": "254b1114-a6be-4a69-a63c-bbf775e9f0fe",
   "metadata": {},
   "outputs": [],
   "source": [
    "import pickle\n",
    "with open('data.pickle', 'rb') as file:\n",
    " a = pickle.load(file)\n",
    "print(type(a))\n",
    "print(a)"
   ]
  },
  {
   "cell_type": "code",
   "execution_count": null,
   "id": "503e5c8d-841d-452d-89a3-6918b7245ccb",
   "metadata": {},
   "outputs": [],
   "source": [
    "import pickle\n",
    "names = ['John', 'Bob', 'Tom']\n",
    "data = {'a':1, 'b':2, 'c':3}\n",
    "numbers = [10, 20, 30]\n",
    "with open('data.pickle', 'wb') as file:\n",
    " pickle.dump((numbers, names, data), file)"
   ]
  },
  {
   "cell_type": "code",
   "execution_count": null,
   "id": "121dfe50-2bc1-45a7-b0d0-c6be7609b71e",
   "metadata": {},
   "outputs": [],
   "source": [
    "import pickle\n",
    "with open('data.pickle', 'rb') as file:\n",
    " a, b, c = pickle.load(file)\n",
    "print(a, b, c)"
   ]
  },
  {
   "cell_type": "code",
   "execution_count": null,
   "id": "8fd054c7-bbdb-4949-b271-35e590a9c49e",
   "metadata": {},
   "outputs": [],
   "source": [
    "import pickle\n",
    "names = ['John', 'Bob', 'Tom']\n",
    "data = {'a': 1, 'b': 2, 'c': 3}\n",
    "numbers = [10, 20, 30]\n",
    "with open('data.pickle', 'wb') as file:\n",
    " pickle.dump(numbers, file)\n",
    " pickle.dump(names, file)\n",
    " pickle.dump(data, file)"
   ]
  },
  {
   "cell_type": "code",
   "execution_count": null,
   "id": "407ff82d-4393-4586-b279-298c2a0361c8",
   "metadata": {},
   "outputs": [],
   "source": [
    "import pickle\n",
    "with open('data.pickle', 'rb') as file:\n",
    " a = pickle.load(file)\n",
    " b = pickle.load(file)\n",
    " c = pickle.load(file)\n",
    "print(type(a), type(b), type(c))\n",
    "print(a, b, c)"
   ]
  },
  {
   "cell_type": "code",
   "execution_count": null,
   "id": "2ace99c6-cb8a-484d-b453-e1c48fc0d9cf",
   "metadata": {},
   "outputs": [],
   "source": [
    "\n",
    "import pickle\n",
    "students = {105416: {'name': 'John',\n",
    " 'gender': 'M',\n",
    " 'city': 'Paris',\n",
    " 'age': 21,\n",
    " 'marks': {'Maths': 89,\n",
    " 'Physics': 78,\n",
    " 'Chemistry': 91},\n",
    " 'is_sporty': True},\n",
    " 144547: {'name': 'Dev',\n",
    " 'gender': 'M',\n",
    " 'city': 'London',\n",
    " 'age': 23,\n",
    " 'marks': {'Maths': 88,\n",
    " 'Physics': 77,\n",
    " 'Chemistry': 98},\n",
    " 'is_sporty': False},\n",
    "132399: {'name': 'Mary',\n",
    " 'gender': 'F',\n",
    " 'city': 'Paris',\n",
    " 'age': 22,\n",
    " 'marks': {'Maths': 99,\n",
    " 'Physics': 87,\n",
    " 'Chemistry': 88},\n",
    " 'is_sporty': True}\n",
    " }\n",
    "with open('students.pickle', 'wb') as file:\n",
    " pickle.dump(students, file)"
   ]
  },
  {
   "cell_type": "code",
   "execution_count": null,
   "id": "be9ca962-cb21-4fae-84ed-133da8797ea5",
   "metadata": {},
   "outputs": [],
   "source": [
    "import pickle\n",
    "with open('students.pickle', 'rb') as file:\n",
    " d = pickle.load(file)\n",
    " print(d)"
   ]
  },
  {
   "cell_type": "code",
   "execution_count": null,
   "id": "6b0d5041-8926-430f-a4a3-bf76ba7a2e81",
   "metadata": {},
   "outputs": [],
   "source": [
    "import pickle\n",
    "numbers = [10, 20, 30]\n",
    "s = pickle.dumps(numbers)\n",
    "print(type(s))\n",
    "x = pickle.loads(s)\n",
    "print(type(x))\n",
    "print(x)"
   ]
  },
  {
   "cell_type": "code",
   "execution_count": null,
   "id": "b5f5ad8c-975c-45fc-9c28-f0e6120d188e",
   "metadata": {},
   "outputs": [],
   "source": [
    "# PROJECT - HANGMAN GAME - Start from Here"
   ]
  },
  {
   "cell_type": "code",
   "execution_count": null,
   "id": "8253aa53-df94-45eb-8f2c-7061ec5d56b7",
   "metadata": {},
   "outputs": [],
   "source": [
    "print('.' * 50, 'Welcome to HANGMAN', '.' * 50)\n",
    "secret_word = 'circumference'\n",
    "play_game(secret_word)"
   ]
  },
  {
   "cell_type": "code",
   "execution_count": null,
   "id": "960a596c-5ecc-4da9-9f19-99507b678c48",
   "metadata": {},
   "outputs": [],
   "source": [
    "def play_game(secret_word):\n",
    " correct_guesses = ''\n",
    " incorrect_guesses = ''\n",
    " partial_word = '_' * len(secret_word)\n",
    " print(f'Your word is {len(secret_word)}\n",
    "letters long')\n",
    " print('You can make maximum 7 incorrect\n",
    "guesses\\n')\n",
    " while len(incorrect_guesses) < 7:\n",
    " pass\n",
    " else:\n",
    " pass"
   ]
  },
  {
   "cell_type": "code",
   "execution_count": null,
   "id": "633a5171-4213-4ccd-955b-8b0624e73561",
   "metadata": {},
   "outputs": [],
   "source": [
    "while len(incorrect_guesses) < 7:\n",
    " pass\n",
    " else:\n",
    " print('You made 7 incorrect guesses')\n",
    " print('Now no more attempts left, you have\n",
    "lost the game')\n",
    " print('The word was', secret_word)"
   ]
  },
  {
   "cell_type": "code",
   "execution_count": null,
   "id": "a49fec84-3ca1-409b-9f61-8310de30daed",
   "metadata": {},
   "outputs": [],
   "source": [
    "while len(incorrect_guesses) < 7:\n",
    " guessed_letter = get_guess() # will send some\n",
    "arguments here\n",
    " if guessed_letter in secret_word:\n",
    " pass\n",
    " else:\n",
    " pass\n",
    "else:"
   ]
  },
  {
   "cell_type": "code",
   "execution_count": null,
   "id": "5c861858-3642-4187-ac3e-aa087f6e2970",
   "metadata": {},
   "outputs": [],
   "source": [
    "if guessed_letter in secret_word:\n",
    " print('Good, you made a correct guess')\n",
    " correct_guesses += guessed_letter\n",
    " partial_word = get_partial_word() # will send\n",
    "some arguments here\n",
    " print(partial_word)\n",
    " if partial_word == secret_word:\n",
    " print('Congratulations, you won the\n",
    "game')\n",
    " print('You guessed the word in {len(correct_guesses)} correct guesses ', end = '')\n",
    " print(f'and {len(incorrect_guesses)}incorrect guesses')\n",
    " break"
   ]
  },
  {
   "cell_type": "code",
   "execution_count": null,
   "id": "497f12c0-54c0-469e-9fef-5c6d5fe85940",
   "metadata": {},
   "outputs": [],
   "source": [
    "if guessed_letter in secret_word:\n",
    " else:\n",
    " print('Sorry, incorrect guess')\n",
    " incorrect_guesses += guessed_letter\n",
    " print(partial_word)"
   ]
  },
  {
   "cell_type": "code",
   "execution_count": null,
   "id": "a316844a-5e12-4044-8e2f-39500e723f37",
   "metadata": {},
   "outputs": [],
   "source": [
    "def get_guess(letters_guessed):\n",
    " if letters_guessed:\n",
    " print('Letters guessed already : ', end = '\n",
    "')\n",
    " for letter in letters_guessed:\n",
    " print(letter, end=' ')\n",
    " print()\n",
    " while True:\n",
    " letter = input('Guess a letter : ').lower()\n",
    " if len(letter)!=1 or letter not in\n",
    "'abcdefghijklmnopqrstuvwxyz':\n",
    "     print('Please enter a single letter')\n",
    " elif letter in letters_guessed:\n",
    " print('You already guessed this letter\n",
    "before, enter another letter\\n')\n",
    " else:\n",
    " break\n",
    " return letter"
   ]
  },
  {
   "cell_type": "code",
   "execution_count": null,
   "id": "e8ac4fca-4c0e-431d-a585-73f94dc19564",
   "metadata": {},
   "outputs": [],
   "source": [
    "guessed_letter = get_guess(correct_guesses + incorrect_guesses)"
   ]
  },
  {
   "cell_type": "code",
   "execution_count": null,
   "id": "cff4e45f-3f40-462a-8a5d-6bc0aa2cafd9",
   "metadata": {},
   "outputs": [],
   "source": [
    "partial_word = get_partial_word(secret_word, correct_guesses)"
   ]
  },
  {
   "cell_type": "code",
   "execution_count": null,
   "id": "e7e124f5-f593-4966-8052-ad75282fa01d",
   "metadata": {},
   "outputs": [],
   "source": [
    "def get_partial_word(secret_word, correct_guesses):\n",
    " partial_word = ''\n",
    " for letter in secret_word:\n",
    " if letter in correct_guesses:\n",
    " partial_word += letter\n",
    " else:\n",
    " partial_word += '_'\n",
    " return partial_word"
   ]
  },
  {
   "cell_type": "code",
   "execution_count": null,
   "id": "5e129b7d-d78b-411b-8774-8d2f555403a3",
   "metadata": {},
   "outputs": [],
   "source": [
    "def print_with_spaces(string):\n",
    " print()\n",
    " for ch in string:\n",
    " print(ch, end=' ')\n",
    " print('\\n\\n')"
   ]
  },
  {
   "cell_type": "code",
   "execution_count": null,
   "id": "d6ffee7f-3037-4081-b321-b23b31dddba9",
   "metadata": {},
   "outputs": [],
   "source": [
    "if partial_word == secret_word or\n",
    "ask_if_guessed(secret_word) == True:"
   ]
  },
  {
   "cell_type": "code",
   "execution_count": null,
   "id": "f501b142-37a1-47ac-9c60-cf7cc83f326f",
   "metadata": {},
   "outputs": [],
   "source": [
    "def ask_if_guessed(secret_word):\n",
    " response = input('If you have guessed the word,\n",
    "enter it otherwise press Enter : ')\n",
    " if response == '':\n",
    " return False\n",
    " elif response == secret_word:\n",
    " return True\n",
    " else:\n",
    " print('No this is not the word ....')\n",
    " return False"
   ]
  },
  {
   "cell_type": "code",
   "execution_count": null,
   "id": "d2c24ae0-69ee-4dcc-a797-3b9e4b2bf1d7",
   "metadata": {},
   "outputs": [],
   "source": [
    "print('.' * 50, 'Welcome to HANGMAN', '.' * 50)\n",
    "secret_word = 'circumference'\n",
    "hint = 'enclosing boundary'\n",
    "play_game(secret_word, hint)"
   ]
  },
  {
   "cell_type": "code",
   "execution_count": null,
   "id": "6dd2a497-1947-4ff6-aae8-87574ee391e9",
   "metadata": {},
   "outputs": [],
   "source": [
    "def play_game(secret_word, hint):"
   ]
  },
  {
   "cell_type": "code",
   "execution_count": null,
   "id": "b12ef0f8-66d7-464d-a8d5-df40ebb82df4",
   "metadata": {},
   "outputs": [],
   "source": [
    "while len(incorrect_guesses) < 7:\n",
    " \n",
    " if partial_word == secret_word or\n",
    "ask_if_guessed(secret_word) == True:\n",
    " \n",
    " else:\n",
    "\n",
    " if len(incorrect_guesses) == 5:\n",
    " print('You can make only 2 more\n",
    "mistakes, here is a hint for you')\n",
    " print(f'Meaning of the secret word is -\n",
    "{hint}\\n')\n",
    "else:"
   ]
  },
  {
   "cell_type": "code",
   "execution_count": null,
   "id": "455b2c09-63b4-424d-af1c-dee36f642596",
   "metadata": {},
   "outputs": [],
   "source": [
    "def play_game(secret_word, hint):\n",
    " \n",
    " hint_shown = False\n",
    " while len(incorrect_guesses) < 7:\n",
    " \n",
    " if partial_word == secret_word or\n",
    "ask_if_guessed(secret_word) == True:\n",
    " \n",
    " else:\n",
    " \n",
    " if len(incorrect_guesses) == 5 and hint_shown == False:\n",
    " print('You can make only 2 more mistakes, here is a hint for you')\n",
    " print(f'Meaning of the secret word is - {hint}\\n')\n",
    " hint_shown = True \n",
    " else:"
   ]
  },
  {
   "cell_type": "code",
   "execution_count": null,
   "id": "9b632742-f4e6-4c4f-ae6c-b03afba68c42",
   "metadata": {},
   "outputs": [],
   "source": [
    "hangman_drawings = ('''put your image file here''')\n",
    "def play_game(secret_word, hint):\n",
    " \n",
    " print('You can make maximum 7 incorrect guesses\\n')\n",
    " print(hangman_drawings[0])\n",
    " \n",
    " while len(incorrect_guesses) < 7:\n",
    " guessed_letter = get_guess(correct_guesses + incorrect_guesses)\n",
    "    if guessed_letter in secret_word:\n",
    "\n",
    " else:\n",
    " print('Sorry, incorrect guess')\n",
    " incorrect_guesses += guessed_letter\n",
    " \n",
    "print(hangman_drawings[len(incorrect_guesses)])\n",
    " print_with_spaces(partial_word)\n"
   ]
  },
  {
   "cell_type": "code",
   "execution_count": null,
   "id": "8498730f-73b0-4045-b526-d002535e5e1f",
   "metadata": {},
   "outputs": [],
   "source": [
    "print('.' * 50, 'Welcome to HANGMAN', '.' * 50)\n",
    "while True:\n",
    " secret_word = 'circumference'\n",
    " hint = 'enclosing boundary'\n",
    "play_game(secret_word, hint)\n",
    " response = input('\\nWant to play again (y/n) : ')\n",
    " if response == 'n':\n",
    " break"
   ]
  },
  {
   "cell_type": "code",
   "execution_count": null,
   "id": "e6a984a1-ca64-4382-98e1-782b7b151f22",
   "metadata": {},
   "outputs": [],
   "source": [
    "with open('words.txt', 'r') as file:\n",
    " words = file.readlines()"
   ]
  },
  {
   "cell_type": "code",
   "execution_count": null,
   "id": "3c4fb780-2bc4-4315-b372-f9233ea02e9e",
   "metadata": {},
   "outputs": [],
   "source": [
    "while True:\n",
    " secret_word, hint =\n",
    "random.choice(words).split(',')\n",
    " play_game(secret_word, hint)\n",
    " response = input('\\nWant to play again (y/n) : ')\n",
    " if response == 'n':\n",
    " break"
   ]
  },
  {
   "cell_type": "code",
   "execution_count": null,
   "id": "c56a0066-a285-41b7-bbf7-8036554d4265",
   "metadata": {},
   "outputs": [],
   "source": [
    "used_words = []\n",
    "with open('words.txt', 'r') as file:\n",
    " words = file.readlines()\n",
    "while True:\n",
    " secret_word, hint =\n",
    "random.choice(words).split(',')\n",
    " while secret_word in used_words:\n",
    " secret_word, hint =\n",
    "random.choice(words).split(',')\n",
    " used_words.append(secret_word)\n",
    " play_game(secret_word, hint)\n",
    " response = input('\\nWant to play again (y/n) :')\n",
    " if response == 'n':\n",
    " break"
   ]
  },
  {
   "cell_type": "code",
   "execution_count": null,
   "id": "f89b277a-fe5a-4a0e-97cc-5eb4a163044d",
   "metadata": {},
   "outputs": [],
   "source": [
    "def get_a_word(number_of_words):\n",
    " with open('words.txt', 'r') as file:\n",
    " x = random.randint(1, number_of_words)\n",
    " for i in range(x):\n",
    " line = file.readline()\n",
    " return line.split(',')\n",
    "used_words = []\n",
    "with open('words.txt', 'r') as file:\n",
    " number_of_words = 0\n",
    " for line in file:\n",
    " number_of_words += 1\n",
    "while True:\n",
    " secret_word, hint = get_a_word(number_of_words)\n",
    " while secret_word in used_words:\n",
    " secret_word, hint =\n",
    "get_a_word(number_of_words)\n",
    " used_words.append(secret_word)\n",
    " play_game(secret_word, hint)\n",
    " response = input('\\nWant to play again (y/n) : ')\n",
    " if response == 'n':\n",
    " break"
   ]
  },
  {
   "cell_type": "code",
   "execution_count": null,
   "id": "cdc6eea6-d2e9-42c3-ad06-9f20a97c7c3f",
   "metadata": {},
   "outputs": [],
   "source": []
  },
  {
   "cell_type": "code",
   "execution_count": null,
   "id": "4ad59410-645e-4f26-a85d-ad142db54cec",
   "metadata": {},
   "outputs": [],
   "source": []
  },
  {
   "cell_type": "code",
   "execution_count": null,
   "id": "ed8292d9-cdf1-407d-86ad-4f6b335d8f54",
   "metadata": {},
   "outputs": [],
   "source": []
  }
 ],
 "metadata": {
  "kernelspec": {
   "display_name": "Python 3 (ipykernel)",
   "language": "python",
   "name": "python3"
  },
  "language_info": {
   "codemirror_mode": {
    "name": "ipython",
    "version": 3
   },
   "file_extension": ".py",
   "mimetype": "text/x-python",
   "name": "python",
   "nbconvert_exporter": "python",
   "pygments_lexer": "ipython3",
   "version": "3.12.7"
  }
 },
 "nbformat": 4,
 "nbformat_minor": 5
}
