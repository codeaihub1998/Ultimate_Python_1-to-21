{
 "cells": [
  {
   "cell_type": "code",
   "execution_count": null,
   "id": "0eefebf1-334c-4c03-9340-6054b546c3cb",
   "metadata": {},
   "outputs": [],
   "source": [
    "class CM():\n",
    " def __enter__(self):\n",
    " print('__enter__called')\n",
    " def __exit__(self, exc_type, exc_value,\n",
    "exc_traceback):\n",
    " print('__exit__called')\n",
    "with CM():\n",
    " print('Hello')\n",
    " print(15 / 3)\n",
    " print('Bye')"
   ]
  },
  {
   "cell_type": "code",
   "execution_count": null,
   "id": "cb966a80-316a-4450-b12e-2ef3edb464e2",
   "metadata": {},
   "outputs": [],
   "source": [
    "class CM():\n",
    " def __init__(self, name):\n",
    " print('__init__ called')\n",
    " self.name = name\n",
    " def __enter__(self):\n",
    " print('__enter__ called')\n",
    " def __exit__(self, exc_type, exc_value, exc_traceback):\n",
    " print('__exit__ called')\n",
    "def do_something(self):\n",
    " print('Something is being done')\n",
    "with CM('xyz'):\n",
    " print('Hello')\n",
    " print(15 / 3)\n",
    " print('Bye')"
   ]
  },
  {
   "cell_type": "code",
   "execution_count": null,
   "id": "57226a18-4294-4878-8060-e1e42cd18f88",
   "metadata": {},
   "outputs": [],
   "source": [
    "class CM():\n",
    " def __init__(self,name):\n",
    " print('__init__called')\n",
    " self.name = name\n",
    " def __enter__(self):\n",
    " print('__enter__called')\n",
    " return self\n",
    " def __exit__(self, exc_type, exc_value,\n",
    "exc_traceback):\n",
    " print('__exit__called')\n",
    " def do_something(self):\n",
    " print('Something is being done')\n",
    "    with CM('xyz') as c:\n",
    " print('Hello')\n",
    " print(15/3)\n",
    " print('Bye')\n",
    " print(c)\n",
    " print(c.name)\n",
    " c.do_something()"
   ]
  },
  {
   "cell_type": "code",
   "execution_count": null,
   "id": "f704ecaa-f969-4d9c-96be-4518b54d5ce7",
   "metadata": {},
   "outputs": [],
   "source": [
    "class CM():\n",
    " def __init__(self,name):\n",
    " print('__init__called')\n",
    " self.name = name\n",
    " def __enter__(self):\n",
    " print('__enter__called')\n",
    " return self.name\n",
    " def __exit__(self, exc_type, exc_value,\n",
    "exc_traceback):\n",
    " print('__exit__called')\n",
    " def do_something(self):\n",
    " print('Something is being done')\n",
    "with CM('xyz') as c:\n",
    " print('Hello')\n",
    " print(15 / 3)\n",
    " print('Bye')\n",
    " print(c)"
   ]
  },
  {
   "cell_type": "code",
   "execution_count": null,
   "id": "e9b4342b-6882-4725-8d98-40c2ed99f9e9",
   "metadata": {},
   "outputs": [],
   "source": [
    "class CM():\n",
    " def __init__(self,name):\n",
    " print('__init__called')\n",
    " self.name = name\n",
    " def __enter__(self):\n",
    " print('__enter__called')\n",
    " return self\n",
    "def __exit__(self, exc_type, exc_value,\n",
    "exc_traceback):\n",
    " print('__exit__called')\n",
    " def do_something(self):\n",
    " print('Something is being done')\n",
    "with CM('xyz') as c:\n",
    " print('Hello')\n",
    " print(15/0)\n",
    " print('Bye')\n",
    " print(c)\n",
    " print(c.name)\n",
    " c.do_something()"
   ]
  },
  {
   "cell_type": "code",
   "execution_count": null,
   "id": "5c698bd3-c449-414f-aab3-3069dce2414d",
   "metadata": {},
   "outputs": [],
   "source": [
    "def __exit__(self, exc_type, exc_value, exc_traceback):\n",
    " print('__exit__called')\n",
    " print(exc_type)\n",
    " print(exc_value)\n",
    " print(exc_traceback)"
   ]
  },
  {
   "cell_type": "code",
   "execution_count": null,
   "id": "316316e9-70ed-475a-9f3f-5133f298debf",
   "metadata": {},
   "outputs": [],
   "source": [
    "class CM():\n",
    " def __init__(self,name):\n",
    "print('__init__called')\n",
    " self.name = name\n",
    " def __enter__(self):\n",
    " print('__enter__called')\n",
    " return self.name\n",
    " def __exit__(self, exc_type, exc_value,\n",
    "exc_traceback):\n",
    " print('__exit__called')\n",
    " return True\n",
    " def do_something(self):\n",
    " print('Something is being done')\n",
    "with CM('xyz') as c:\n",
    " print('Hello')\n",
    " print(15 / 0)\n",
    " print('Bye')\n",
    " print(c)\n",
    "print('End')"
   ]
  },
  {
   "cell_type": "code",
   "execution_count": null,
   "id": "d49d7d0d-f27d-4e10-98f8-0321b3425c72",
   "metadata": {},
   "outputs": [],
   "source": [
    "def __exit__(self, exc_type, exc_value, exc_traceback):\n",
    " print('__exit__called')\n",
    " if exc_type is ZeroDivisionError:\n",
    " print('Handling the ZeroDivisionError')\n",
    " return True"
   ]
  },
  {
   "cell_type": "code",
   "execution_count": null,
   "id": "f885da36-6bab-4aa3-9102-a09d8531fdb7",
   "metadata": {},
   "outputs": [],
   "source": [
    "print('Welcome')\n",
    "numbers = [1, 2, 3, 4]\n",
    "print(numbers)\n",
    "print(numbers * 2)\n",
    "for n in numbers:\n",
    " print(sum(range(1, n + 1)), end=' ')\n",
    "print()\n",
    "print([x * 100 for x in numbers])\n",
    "d = {61: 'a', 32: 'b', 31: 'c'}\n",
    "print(d)\n",
    "print(sorted(d.keys()))\n",
    "s1 = {'x', 'a', 'b'}\n",
    "s2 = {'x', 'a', 'b', 'c', 'd'}\n",
    "print(s1 | s2)\n",
    "print(s2 - s1)\n",
    "print(2 + 3 * 5)\n",
    "print('Bye')"
   ]
  },
  {
   "cell_type": "code",
   "execution_count": null,
   "id": "d16d1500-4dbe-400c-90eb-956914e9cac5",
   "metadata": {},
   "outputs": [],
   "source": [
    "import sys\n",
    "print('Welcome')\n",
    "numbers = [1, 2, 3, 4]\n",
    "print(numbers)\n",
    "print(numbers * 2)\n",
    "print('Redirecting Output to test.txt.....')\n",
    "f = open('test.txt', 'a')\n",
    "original = sys.stdout\n",
    "sys.stdout = f\n",
    "for n in numbers:\n",
    " print(sum(range(1, n + 1)), end=' ')\n",
    "print()\n",
    "print([x * 100 for x in numbers])\n",
    "sys.stdout = original\n",
    "f.close()\n",
    "print('Output prints to screen now.....')\n",
    "d = {61: 'a', 32: 'b', 31: 'c'}\n",
    "print(d)\n",
    "print(sorted(d.keys()))\n",
    "s1 = {'x', 'a', 'b'}\n",
    "s2 = {'x', 'a', 'b', 'c', 'd'}\n",
    "print(s1 | s2)\n",
    "print(s2 - s1)\n",
    "print(2 + 3 * 5)\n",
    "print('Bye')"
   ]
  },
  {
   "cell_type": "code",
   "execution_count": null,
   "id": "cbacc9e9-ffa6-4b66-afb9-c1b338479f8b",
   "metadata": {},
   "outputs": [],
   "source": [
    "import sys\n",
    "class OutputManager():\n",
    " def __enter__(self):\n",
    " print('Redirecting Output to test.txt.....')\n",
    " self.f = open('test.txt', 'a')\n",
    " self.original = sys.stdout\n",
    " sys.stdout = self.f\n",
    " def __exit__(self, exc_type, exc_value, exc_traceback):\n",
    "sys.stdout = self.original\n",
    " self.f.close()\n",
    " print('Output prints to screen now.....')\n",
    "print('Welcome')\n",
    "numbers = [1, 2, 3, 4]\n",
    "print(numbers)\n",
    "print(numbers * 2)\n",
    "with OutputManager():\n",
    " for n in numbers:\n",
    " print(sum(range(1, n + 1)), end=' ')\n",
    " print()\n",
    " print([x * 100 for x in numbers])\n",
    "d = {61: 'a', 32: 'b', 31: 'c'}\n",
    "print(d)\n",
    "print(sorted(d.keys()))\n",
    "with OutputManager():\n",
    " s1 = {'x', 'a', 'b'}\n",
    " s2 = {'x', 'a', 'b', 'c', 'd'}\n",
    " print(s1 | s2)\n",
    " print(s2 - s1)\n",
    "print(2 + 3 * 5)\n",
    "print('Bye')"
   ]
  },
  {
   "cell_type": "code",
   "execution_count": null,
   "id": "6056508d-da42-42de-a134-db6f94181bd5",
   "metadata": {},
   "outputs": [],
   "source": [
    "import sys\n",
    "class OutputManager():\n",
    "def __init__(self, filename):\n",
    " self.filename = filename\n",
    " def __enter__(self):\n",
    " print('Redirecting Output to ',\n",
    "self.filename, '.....')\n",
    " self.f = open(self.filename, 'a')\n",
    " self.original = sys.stdout\n",
    " sys.stdout = self.f\n",
    " def __exit__(self, exc_type, exc_value,\n",
    "exc_traceback):\n",
    " sys.stdout = self.original\n",
    " self.f.close()\n",
    " print('Output prints to screen now.....')\n",
    "print('Welcome')\n",
    "numbers = [1, 2, 3, 4]\n",
    "print(numbers)\n",
    "print(numbers * 2)\n",
    "with OutputManager('text.txt'):\n",
    " for n in numbers:\n",
    " print(sum(range(1, n + 1)), end=' ')\n",
    "    print()\n",
    " print([x * 100 for x in numbers])\n",
    "d = {61: 'a', 32: 'b', 31: 'c'}\n",
    "print(d)\n",
    "print(sorted(d.keys()))\n",
    "with OutputManager('log.txt'):\n",
    " s1 = {'x', 'a', 'b'}\n",
    " s2 = {'x', 'a', 'b', 'c', 'd'}\n",
    " print(s1 | s2)\n",
    " print(s2 - s1)\n",
    "print(2 + 3 * 5)\n",
    "print('Bye')"
   ]
  },
  {
   "cell_type": "code",
   "execution_count": null,
   "id": "9668eb5c-1180-4bdb-8cd4-f3c7c2a6021b",
   "metadata": {},
   "outputs": [],
   "source": [
    "def __init__(self, filename='test.txt'):\n",
    " self.filename = filename"
   ]
  },
  {
   "cell_type": "code",
   "execution_count": null,
   "id": "a77b4fa6-3465-4536-9b5e-9b48ef744f9a",
   "metadata": {},
   "outputs": [],
   "source": [
    "print('Welcome')\n",
    "x = 999999\n",
    "y = x**566999\n",
    "numbers = [1,2,3,4]\n",
    "print(numbers)\n",
    "n = 141111\n",
    "fact = 1\n",
    "while n > 0:\n",
    " fact *= n\n",
    " n -= 1\n",
    "x = 999999\n",
    "y = 674444\n",
    "z = x + 10000 ** y\n",
    "print('Bye')"
   ]
  },
  {
   "cell_type": "code",
   "execution_count": null,
   "id": "1f0df174-eb47-4e7f-9101-8e516b44942f",
   "metadata": {},
   "outputs": [],
   "source": [
    "from time import time\n",
    "class Timer(): \n",
    " def __enter__(self):\n",
    " print('Starting timer')\n",
    " self.start = time()\n",
    " def __exit__(self, exc_type, exc_value,\n",
    "exc_traceback):\n",
    " self.end = time()\n",
    " print('Timer stopped')\n",
    " time_taken = self.end - self.start\n",
    " print('Time taken is', time_taken)"
   ]
  },
  {
   "cell_type": "code",
   "execution_count": null,
   "id": "3b6f19c0-fc95-44e4-938b-3db443a0e37f",
   "metadata": {},
   "outputs": [],
   "source": [
    "print('Welcome')\n",
    "with Timer():\n",
    " x = 999999\n",
    " y = x ** 566999\n",
    "numbers = [1, 2, 3, 4]\n",
    "print(numbers)\n",
    "with Timer():\n",
    " n = 141111\n",
    " fact = 1\n",
    " while n > 0:\n",
    "fact *= n\n",
    " n -= 1\n",
    "with Timer():\n",
    " x = 999999\n",
    " y = 674444\n",
    " z = x + 10000 ** y\n",
    "print('Bye')"
   ]
  },
  {
   "cell_type": "code",
   "execution_count": null,
   "id": "7c43ab8f-1ef1-453e-bbd6-f45cd50e8c39",
   "metadata": {},
   "outputs": [],
   "source": [
    "with open('test.txt', 'w') as file:\n",
    " file.write('Hello')"
   ]
  },
  {
   "cell_type": "code",
   "execution_count": null,
   "id": "be75ddce-0993-45ce-bf10-0d873412a602",
   "metadata": {},
   "outputs": [],
   "source": [
    "file = open('test.txt', 'w')\n",
    "try:\n",
    " file.write('Hello!')\n",
    "finally:\n",
    " file.close()"
   ]
  },
  {
   "cell_type": "code",
   "execution_count": null,
   "id": "20e7dec6-c27d-496d-b191-fd3afc826201",
   "metadata": {},
   "outputs": [],
   "source": [
    "f = open('test.txt', 'w')\n",
    "type(f)"
   ]
  },
  {
   "cell_type": "code",
   "execution_count": null,
   "id": "cc7f1205-d647-427f-9bd8-b80c56748ea2",
   "metadata": {},
   "outputs": [],
   "source": [
    "dir(f)"
   ]
  },
  {
   "cell_type": "code",
   "execution_count": null,
   "id": "e030905b-cd85-4dbe-80fa-cffd82910529",
   "metadata": {},
   "outputs": [],
   "source": [
    "with open('log.txt', 'w') as file:\n",
    " file.write('Hello')"
   ]
  },
  {
   "cell_type": "code",
   "execution_count": null,
   "id": "b7ea507d-291e-4a51-b3bc-60c2ac10306a",
   "metadata": {},
   "outputs": [],
   "source": [
    "import decimal\n",
    "\n",
    "print(decimal.Decimal('22') / decimal.Decimal('7'))\n",
    "with decimal.localcontext() as ctx:\n",
    " ctx.prec = 40\n",
    " print(decimal.Decimal('22') / decimal.Decimal('7'))\n",
    "print(decimal.Decimal('22') / decimal.Decimal('7'))\n",
    "with decimal.localcontext() as ctx:\n",
    " ctx.prec = 4\n",
    " print(decimal.Decimal('22') / decimal.Decimal('7'))"
   ]
  },
  {
   "cell_type": "code",
   "execution_count": null,
   "id": "cf134748-a0fb-4729-b540-fafe6596b60e",
   "metadata": {},
   "outputs": [],
   "source": [
    "with open('data.txt', 'r') as f1:\n",
    " with open('new.txt', 'w') as f2:\n",
    " for line in f1:\n",
    " f2.write(line + '\\n')"
   ]
  },
  {
   "cell_type": "code",
   "execution_count": null,
   "id": "2e825b5e-cc71-46a8-9eb5-e8f1419982ab",
   "metadata": {},
   "outputs": [],
   "source": [
    "with open('data.txt', 'r') as f1, open('new.txt', 'w') as f2:\n",
    " for line in f1:\n",
    " f2.write(line + '\\n')"
   ]
  },
  {
   "cell_type": "code",
   "execution_count": null,
   "id": "f3ed7c57-6a7a-47b0-b86d-f2d179e2a797",
   "metadata": {},
   "outputs": [],
   "source": [
    "f1 = open('data.txt', 'r')\n",
    "f2 = open('new.txt', 'w')\n",
    "try:\n",
    " for line in f1:\n",
    " f2.write(line + '\\n')\n",
    "finally:\n",
    "f1.close()\n",
    " f2.close()\n",
    "with (\n",
    " open('data.txt', 'r') as f1,\n",
    " open('new.txt', 'w') as f2,\n",
    " open('test1.txt', 'w') as f3,):\n",
    " for line in f1:\n",
    " f2.write(line + '\\n')\n",
    " f3.write(line + '\\n')"
   ]
  },
  {
   "cell_type": "code",
   "execution_count": null,
   "id": "3de03036-cdf9-4c92-91c9-7f9efea200d5",
   "metadata": {},
   "outputs": [],
   "source": [
    "class OpenReadOnly:\n",
    " def __init__(self, filename):\n",
    " self.filename = filename\n",
    " def __enter__(self):\n",
    " self.f = open(self.filename, 'r')\n",
    " return self.f\n",
    " def __exit__(self, exc_type, exc_value,\n",
    "exc_traceback):\n",
    " self.f.close()\n",
    "Here is the Timer class that we have seen earlier:\n",
    "from time import time\n",
    "class Timer():\n",
    " def __enter__(self):\n",
    " print('Starting timer')\n",
    "self.start = time()\n",
    " def __exit__(self, exc_type, exc_value,\n",
    "exc_traceback):\n",
    " self.end = time()\n",
    " print('Timer stopped')\n",
    " time_taken = self.end - self.start\n",
    " print('Time taken is', time_taken)"
   ]
  },
  {
   "cell_type": "code",
   "execution_count": null,
   "id": "6bf44269-6147-4367-b84e-c30573de010a",
   "metadata": {},
   "outputs": [],
   "source": [
    "with OpenReadOnly('test.txt') as file, Timer():\n",
    " print(file.read(), end='')"
   ]
  },
  {
   "cell_type": "code",
   "execution_count": null,
   "id": "99e83062-e441-4fde-9df4-41f2c380d661",
   "metadata": {},
   "outputs": [],
   "source": [
    "def manager():\n",
    "...  print('Entering')\n",
    "...  yieldd\n",
    "...  print('Exiting')"
   ]
  },
  {
   "cell_type": "code",
   "execution_count": null,
   "id": "fcf9e162-85fe-453c-be21-3103430fd49e",
   "metadata": {},
   "outputs": [],
   "source": [
    "x = manager()\n",
    "type(x)"
   ]
  },
  {
   "cell_type": "code",
   "execution_count": null,
   "id": "cfce4195-21a5-44bf-a08a-508cd3dd391a",
   "metadata": {},
   "outputs": [],
   "source": [
    "dir(x)"
   ]
  },
  {
   "cell_type": "code",
   "execution_count": null,
   "id": "1ff19635-d0fa-4913-bb39-1b4bf45f91ab",
   "metadata": {},
   "outputs": [],
   "source": [
    "from contextlib import contextmanager\n",
    " @contextmanager\n",
    "... def manager():\n",
    "...  print('Entering')\n",
    "...  yield\n",
    "x = manager()\n",
    "type(x)"
   ]
  },
  {
   "cell_type": "code",
   "execution_count": null,
   "id": "b04ddaa0-536f-4b87-8991-25462fe25045",
   "metadata": {},
   "outputs": [],
   "source": [
    "dir(x)"
   ]
  },
  {
   "cell_type": "code",
   "execution_count": null,
   "id": "a692fbee-5238-4171-bac8-96c613d650d0",
   "metadata": {},
   "outputs": [],
   "source": [
    "from contextlib import contextmanager\n",
    "\n",
    "@contextmanager\n",
    "def manager():\n",
    " print('Entering')\n",
    " yield\n",
    " print('Exiting')\n",
    "with manager():\n",
    " print('xxx')\n",
    " print('yyy')\n",
    "print()\n",
    "with manager():\n",
    " print('Python')\n",
    " print(4 + 15 / 3)\n",
    " print('Runtime')\n",
    " print('Context')"
   ]
  },
  {
   "cell_type": "code",
   "execution_count": null,
   "id": "8747ad91-1966-407c-91d2-ff3894738e30",
   "metadata": {},
   "outputs": [],
   "source": [
    "with manager() as var:\n",
    " print('xxx')\n",
    " print('yyy')\n",
    " print(var)"
   ]
  },
  {
   "cell_type": "code",
   "execution_count": null,
   "id": "786f6c93-fa6b-4d59-a2b5-b2a838999edd",
   "metadata": {},
   "outputs": [],
   "source": [
    "@contextmanager\n",
    "def manager():\n",
    " print('Entering')\n",
    " x = 5\n",
    " yield x\n",
    " print('Exiting')"
   ]
  },
  {
   "cell_type": "code",
   "execution_count": null,
   "id": "12e4d14f-27a9-460f-bb5a-01fa263d65d9",
   "metadata": {},
   "outputs": [],
   "source": [
    "from contextlib import contextmanager\n",
    "\n",
    "@contextmanager\n",
    "def manager():\n",
    " print('Entering')\n",
    " yield\n",
    " print('Exiting')\n",
    "    with manager():\n",
    " print('Python')\n",
    " print(4 + 15 / 0)\n",
    " print('Runtime')\n",
    " print('Context')"
   ]
  },
  {
   "cell_type": "code",
   "execution_count": null,
   "id": "08406305-a212-4768-bd8a-445f799fb615",
   "metadata": {},
   "outputs": [],
   "source": [
    "from contextlib import contextmanager\n",
    "@contextmanager\n",
    "def manager():\n",
    " print('Entering')\n",
    " x = 5\n",
    "try:\n",
    " yield x\n",
    " finally:\n",
    " print('Exiting')\n",
    "with manager():\n",
    " print('Python')\n",
    " print(4 + 15 / 0)\n",
    " print('Runtime')\n",
    " print('Context')"
   ]
  },
  {
   "cell_type": "code",
   "execution_count": null,
   "id": "69644b47-c5bc-4461-bf46-aeb577b321c2",
   "metadata": {},
   "outputs": [],
   "source": [
    "from contextlib import contextmanager\n",
    "\n",
    "@contextmanager\n",
    "def manager():\n",
    " SET UP CODE\n",
    " try:\n",
    " yield x\n",
    " finally:\n",
    " TEARDOWN CODE"
   ]
  },
  {
   "cell_type": "code",
   "execution_count": null,
   "id": "46233662-9fcb-4bc2-84cf-b9126b7f85e4",
   "metadata": {},
   "outputs": [],
   "source": [
    "import sys\n",
    "class OutputManager():\n",
    " def __init__(self, filename):\n",
    " self.filename = filename\n",
    " def __enter__(self):\n",
    " print('Redirecting Output to ',\n",
    "self.filename, '.....')\n",
    " self.f = open(self.filename, 'a')\n",
    " self.original = sys.stdout\n",
    " sys.stdout = self.f\n",
    " def __exit__(self, exc_type, exc_value,\n",
    "exc_traceback):\n",
    " sys.stdout = self.original\n",
    " self.f.close()\n",
    "print('Output prints to screen now.....')"
   ]
  },
  {
   "cell_type": "code",
   "execution_count": null,
   "id": "c9a16cb4-0742-4062-8191-319d8e34cfe5",
   "metadata": {},
   "outputs": [],
   "source": [
    "import sys\n",
    "from contextlib import contextmanager\n",
    "@contextmanager\n",
    "def output_manager(filename):\n",
    " print('Redirecting Output to', filename,\n",
    "'.....')\n",
    " f = open(filename, 'a')\n",
    " original = sys.stdout\n",
    " sys.stdout = f\n",
    " try:\n",
    " yield\n",
    " finally:\n",
    " sys.stdout = original\n",
    " f.close()\n",
    " print('Output prints to screen now.....')\n",
    "print('Welcome')\n",
    "numbers = [1, 2, 3, 4]\n",
    "print(numbers)\n",
    "print(numbers * 2)\n",
    "with output_manager('test.txt'):\n",
    "for n in numbers:\n",
    " print(sum(range(1, n + 1)), end=' ')\n",
    " print()\n",
    " print([x * 100 for x in numbers])\n",
    "d = {61: 'a', 32: 'b', 31: 'c'}\n",
    "print(d)\n",
    "print(sorted(d.keys()))\n",
    "with output_manager('log.txt'):\n",
    " s1 = {'x', 'a', 'b'}\n",
    " s2 = {'x', 'a', 'b', 'c', 'd'}\n",
    " print(s1 | s2)\n",
    " print(s2 - s1)\n",
    "print(2 + 3 * 5)\n",
    "print('Bye')"
   ]
  },
  {
   "cell_type": "code",
   "execution_count": null,
   "id": "74fe41fa-b346-4cde-9097-a556836b6a8f",
   "metadata": {},
   "outputs": [],
   "source": [
    "class OpenReadOnly:\n",
    " def __init__(self, filename):\n",
    " self.filename = filename\n",
    " def __enter__(self):\n",
    " self.f = open(self.filename, 'r')\n",
    " return self.f\n",
    "def __exit__(self, exc_type, exc_value,\n",
    "exc_traceback):\n",
    " self.f.close()"
   ]
  },
  {
   "cell_type": "code",
   "execution_count": null,
   "id": "e8b8fd76-a9ec-40fa-8daf-f43d90cfb617",
   "metadata": {},
   "outputs": [],
   "source": [
    "# open a file only for reading\n",
    "from contextlib import contextmanager\n",
    "@contextmanager\n",
    "def open_readonly(filename):\n",
    " file = open(filename, 'r')\n",
    " try:\n",
    " yield file\n",
    " finally:\n",
    " file.close()\n",
    "with open_readonly('test.txt') as f:\n",
    " print(f.read())"
   ]
  },
  {
   "cell_type": "code",
   "execution_count": null,
   "id": "1a5ecce1-d768-4a25-8a1d-47ada70b8c67",
   "metadata": {},
   "outputs": [],
   "source": []
  }
 ],
 "metadata": {
  "kernelspec": {
   "display_name": "Python 3 (ipykernel)",
   "language": "python",
   "name": "python3"
  },
  "language_info": {
   "codemirror_mode": {
    "name": "ipython",
    "version": 3
   },
   "file_extension": ".py",
   "mimetype": "text/x-python",
   "name": "python",
   "nbconvert_exporter": "python",
   "pygments_lexer": "ipython3",
   "version": "3.12.7"
  }
 },
 "nbformat": 4,
 "nbformat_minor": 5
}
