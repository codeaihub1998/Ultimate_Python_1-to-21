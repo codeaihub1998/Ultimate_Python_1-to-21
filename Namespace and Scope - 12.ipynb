{
 "cells": [
  {
   "cell_type": "code",
   "execution_count": null,
   "id": "62d4718f-800e-425f-81b9-5e48450f5072",
   "metadata": {},
   "outputs": [],
   "source": [
    "# example file name test.py\n",
    "message = 'Hello'\n",
    "def add(a, b):\n",
    " s = a + b\n",
    " print(s)\n",
    "x = 500\n",
    "def func(a, b, c):\n",
    " print(message)\n",
    " s = a + b*c + x\n",
    " print(s)\n",
    "add(1, 2)\n",
    "func(4, 5, 3)"
   ]
  },
  {
   "cell_type": "code",
   "execution_count": null,
   "id": "17e6c559-24e8-485c-a775-f47a44712782",
   "metadata": {},
   "outputs": [],
   "source": [
    "from words import reverse, count\n",
    "from math import *"
   ]
  },
  {
   "cell_type": "markdown",
   "id": "95fd3d31-f1f0-4206-8b0e-2f4fd6db79a9",
   "metadata": {},
   "source": [
    "Inspecting namespace"
   ]
  },
  {
   "cell_type": "code",
   "execution_count": null,
   "id": "a71f2533-123a-4721-b706-3856da3a4472",
   "metadata": {},
   "outputs": [],
   "source": [
    "import builtins\n",
    "dir(builtins)"
   ]
  },
  {
   "cell_type": "code",
   "execution_count": null,
   "id": "4ad61631-b18a-41ec-b8fb-6f64519da4e1",
   "metadata": {},
   "outputs": [],
   "source": [
    "x = 3\n",
    "def func(a):\n",
    " y = 10\n",
    " print(dir())\n",
    " print(vars())\n",
    "func(5)\n",
    "print(dir())\n",
    "print(vars())"
   ]
  },
  {
   "cell_type": "code",
   "execution_count": null,
   "id": "8d200e6d-dfc4-4b3e-8019-9467674bb5dd",
   "metadata": {},
   "outputs": [],
   "source": [
    "x = 3\n",
    "def func(a):\n",
    " y = 10\n",
    "print(locals())\n",
    "func(5)\n",
    "print(globals())"
   ]
  },
  {
   "cell_type": "code",
   "execution_count": null,
   "id": "a7556e16-b687-4258-b240-7dab57974c70",
   "metadata": {},
   "outputs": [],
   "source": [
    "x = 3\n",
    "def func(a):\n",
    " y = 10\n",
    " print(locals())\n",
    "func(5)\n",
    "print(globals())\n",
    "import prime\n",
    "from words import *\n",
    "print(globals())"
   ]
  },
  {
   "cell_type": "markdown",
   "id": "a166b3c2-4347-445b-8909-449152202dc1",
   "metadata": {},
   "source": [
    "Scope"
   ]
  },
  {
   "cell_type": "code",
   "execution_count": null,
   "id": "f922a821-43a3-4487-915f-260b167dd152",
   "metadata": {},
   "outputs": [],
   "source": [
    "message = 'Hello'\n",
    "def add(a, b):\n",
    " print(message)\n",
    " s = a + b\n",
    " print(s)\n",
    "x = 500\n",
    "def func(a, b, c):\n",
    " print(message)\n",
    " s = a + b*c + x\n",
    " print(s)\n",
    "print(message)\n",
    "print(x)\n",
    "add(1, 2)\n",
    "func(4, 5, 3)"
   ]
  },
  {
   "cell_type": "code",
   "execution_count": null,
   "id": "19c1501e-a494-4798-99f7-b44b835ae658",
   "metadata": {},
   "outputs": [],
   "source": [
    "z = 10\n",
    "def func():\n",
    " x = 10\n",
    " y = 20\n",
    " def f():\n",
    " a = 5\n",
    " print(a)\n",
    " print(x, y)\n",
    " f()\n",
    "func()"
   ]
  },
  {
   "cell_type": "code",
   "execution_count": null,
   "id": "48f7e99d-3d56-450c-99f0-47f7428382a7",
   "metadata": {},
   "outputs": [],
   "source": [
    "for i in [1, 2, 3]:\n",
    " print(i)\n",
    "print(f'i is {i}')\n",
    "squares = [x * x for x in range(1,4)]\n",
    "print(x)"
   ]
  },
  {
   "cell_type": "code",
   "execution_count": null,
   "id": "5d3ead75-709a-4a51-a18e-ab03f6029936",
   "metadata": {},
   "outputs": [],
   "source": [
    "X = [1, 2, 3]\n",
    "squares = [x * x for x in x]\n",
    "print(squares, x)"
   ]
  },
  {
   "cell_type": "markdown",
   "id": "f8e0d101-69f5-40f5-aa4e-691190b3d682",
   "metadata": {},
   "source": [
    "Name resolution"
   ]
  },
  {
   "cell_type": "code",
   "execution_count": null,
   "id": "baa784a8-df0f-4ec3-838f-8bf0761b0243",
   "metadata": {},
   "outputs": [],
   "source": [
    "print(max(1, 2, 3, 4))\n",
    "print(max([1, 2, 3]))"
   ]
  },
  {
   "cell_type": "code",
   "execution_count": null,
   "id": "1d987d77-f4fa-4048-850c-b47d49bb0f84",
   "metadata": {},
   "outputs": [],
   "source": [
    "def max(x, y):\n",
    " if x < y:\n",
    " print('Maximum value is ', y)\n",
    " elif x > y:\n",
    " print('Maximum value is ', x)\n",
    " else:\n",
    " print('Both are equal')\n",
    "max(1, 2, 3, 4)\n",
    "max([1, 2, 3])"
   ]
  },
  {
   "cell_type": "markdown",
   "id": "a414aee6-3515-4a0c-af96-7ae916cdfdf2",
   "metadata": {},
   "source": [
    "Global statement"
   ]
  },
  {
   "cell_type": "code",
   "execution_count": null,
   "id": "f5e703c3-63db-444f-8bad-d3186a21abc6",
   "metadata": {},
   "outputs": [],
   "source": [
    "x = 100\n",
    "def func():\n",
    " print(x)\n",
    "func()\n",
    "print(x)"
   ]
  },
  {
   "cell_type": "code",
   "execution_count": null,
   "id": "db6e6942-0a32-4728-858d-077c19856ae7",
   "metadata": {},
   "outputs": [],
   "source": [
    "x = 100\n",
    "def func():\n",
    " x = 30\n",
    " print(x)\n",
    "func()\n",
    "print(x)"
   ]
  },
  {
   "cell_type": "code",
   "execution_count": null,
   "id": "1f55306a-ac94-4a25-bca1-e4e5cf2e2f18",
   "metadata": {},
   "outputs": [],
   "source": [
    "x = 100\n",
    "def func():\n",
    " x = 30\n",
    " print(x)\n",
    " print(locals())\n",
    " print(globals())\n",
    "func()\n",
    "print(x)"
   ]
  },
  {
   "cell_type": "code",
   "execution_count": null,
   "id": "aac45ef1-a91c-4b0a-9f0d-ef9462bd28e5",
   "metadata": {},
   "outputs": [],
   "source": [
    "x = 100\n",
    "def func():\n",
    " print(x)\n",
    " x = 30\n",
    "func()\n",
    "print(x)"
   ]
  },
  {
   "cell_type": "code",
   "execution_count": null,
   "id": "6e7116bc-d7f1-4891-ac22-db7edbf9aae1",
   "metadata": {},
   "outputs": [],
   "source": [
    "x = 100\n",
    "def func():\n",
    " global x\n",
    " x = 30\n",
    " print(x)\n",
    " print(locals())\n",
    " print(globals())\n",
    "func()\n",
    "print(x)"
   ]
  },
  {
   "cell_type": "code",
   "execution_count": null,
   "id": "348c4f68-cdc4-4c26-8443-61a089085d0e",
   "metadata": {},
   "outputs": [],
   "source": [
    "numbers = [10, 20]\n",
    "def func():\n",
    " numbers.append(30)\n",
    " print(numbers)\n",
    "func()\n",
    "print(numbers)"
   ]
  },
  {
   "cell_type": "code",
   "execution_count": null,
   "id": "9051086b-fd2f-4510-be7c-7d54703d2e72",
   "metadata": {},
   "outputs": [],
   "source": [
    "def func():\n",
    " global y\n",
    " y = 10\n",
    "func()\n",
    "print(y)"
   ]
  },
  {
   "cell_type": "code",
   "execution_count": null,
   "id": "b7b03845-5cf9-4292-8129-c10579793731",
   "metadata": {},
   "outputs": [],
   "source": [
    "x = 5\n",
    "def func():\n",
    " x = 10\n",
    " print(x)\n",
    " print(globals()['x'])\n",
    " globals()['x'] = 20\n",
    "func()\n",
    "print(x)"
   ]
  },
  {
   "cell_type": "markdown",
   "id": "76d48e23-b9b0-4b25-84be-3c07650b431c",
   "metadata": {},
   "source": [
    "Non-local statement"
   ]
  },
  {
   "cell_type": "code",
   "execution_count": null,
   "id": "4349abf4-8c69-49a4-88a2-78a376adcd9e",
   "metadata": {},
   "outputs": [],
   "source": [
    "def func():\n",
    " x = 100\n",
    " def f():\n",
    " print(x)\n",
    " f()\n",
    " print(x)\n",
    "func()"
   ]
  },
  {
   "cell_type": "code",
   "execution_count": null,
   "id": "4d69b46f-9bc1-4ff5-85bf-4d1cd19e1226",
   "metadata": {},
   "outputs": [],
   "source": [
    "def func():\n",
    " x = 100\n",
    " def f():\n",
    " x = 30\n",
    " print(x)\n",
    " f()\n",
    " print(x)\n",
    "func()"
   ]
  },
  {
   "cell_type": "code",
   "execution_count": null,
   "id": "c417bd59-0e59-49e0-820b-5923fc5a0d04",
   "metadata": {},
   "outputs": [],
   "source": [
    "def func():\n",
    " x = 100\n",
    " def f():\n",
    " nonlocal x\n",
    " x = 30\n",
    " print(x)\n",
    " f()\n",
    " print(x)\n",
    "func()"
   ]
  },
  {
   "cell_type": "code",
   "execution_count": null,
   "id": "cf842cc7-0c16-4888-ba1c-d675fcd69e96",
   "metadata": {},
   "outputs": [],
   "source": [
    "def func():\n",
    " global x\n",
    " x = 10\n",
    "func()\n",
    "print(x)"
   ]
  },
  {
   "cell_type": "code",
   "execution_count": null,
   "id": "81df23bd-b340-4212-b8d1-826269c8de2e",
   "metadata": {},
   "outputs": [],
   "source": [
    "def func():\n",
    " def f():\n",
    " nonlocal x\n",
    " x = 10\n",
    " f()\n",
    " print(x)\n",
    "func()"
   ]
  },
  {
   "cell_type": "code",
   "execution_count": null,
   "id": "564d5299-2e6d-415a-9cbf-50e96ed16bef",
   "metadata": {},
   "outputs": [],
   "source": []
  },
  {
   "cell_type": "code",
   "execution_count": null,
   "id": "537bca92-813c-475a-b91d-bca1e716b599",
   "metadata": {},
   "outputs": [],
   "source": []
  },
  {
   "cell_type": "code",
   "execution_count": null,
   "id": "133a6e73-cdd0-434e-a5d2-d0fe0ac6884f",
   "metadata": {},
   "outputs": [],
   "source": []
  },
  {
   "cell_type": "code",
   "execution_count": null,
   "id": "1a5cb614-616e-4774-88ad-8dd440e14930",
   "metadata": {},
   "outputs": [],
   "source": []
  },
  {
   "cell_type": "code",
   "execution_count": null,
   "id": "2a684e05-4d51-4e8a-81ca-ca03c684b5a7",
   "metadata": {},
   "outputs": [],
   "source": []
  },
  {
   "cell_type": "code",
   "execution_count": null,
   "id": "4a007054-d39b-43aa-8998-8a4c120affbc",
   "metadata": {},
   "outputs": [],
   "source": []
  },
  {
   "cell_type": "code",
   "execution_count": null,
   "id": "8d4437a4-5d0a-429e-9caa-45b918034b22",
   "metadata": {},
   "outputs": [],
   "source": []
  },
  {
   "cell_type": "code",
   "execution_count": null,
   "id": "979387ef-96c6-4d9d-aee9-7aed9fbf6b5b",
   "metadata": {},
   "outputs": [],
   "source": []
  },
  {
   "cell_type": "code",
   "execution_count": null,
   "id": "d8bce2c7-d086-41a2-8708-e66a8707f491",
   "metadata": {},
   "outputs": [],
   "source": []
  },
  {
   "cell_type": "code",
   "execution_count": null,
   "id": "f172f229-2044-4c6e-8d14-1e00e5c32e95",
   "metadata": {},
   "outputs": [],
   "source": []
  },
  {
   "cell_type": "code",
   "execution_count": null,
   "id": "f91e32f0-5579-448d-aab5-3dad706b8990",
   "metadata": {},
   "outputs": [],
   "source": []
  },
  {
   "cell_type": "code",
   "execution_count": null,
   "id": "2aa2d57a-35a7-4fac-a940-2c18dc40a852",
   "metadata": {},
   "outputs": [],
   "source": []
  },
  {
   "cell_type": "code",
   "execution_count": null,
   "id": "b5d7aeb1-1b82-4caa-a087-f3c220c74918",
   "metadata": {},
   "outputs": [],
   "source": []
  },
  {
   "cell_type": "code",
   "execution_count": null,
   "id": "a9c8acc2-e215-4d88-83d9-a5b7b570044d",
   "metadata": {},
   "outputs": [],
   "source": []
  },
  {
   "cell_type": "code",
   "execution_count": null,
   "id": "b180d727-cdfe-450c-a886-a80b3a6ba186",
   "metadata": {},
   "outputs": [],
   "source": []
  },
  {
   "cell_type": "code",
   "execution_count": null,
   "id": "7950bbfb-c02e-415e-934b-ff4e821c0d4c",
   "metadata": {},
   "outputs": [],
   "source": []
  },
  {
   "cell_type": "code",
   "execution_count": null,
   "id": "4ce5873f-96d1-4f30-9225-19f8eafa653f",
   "metadata": {},
   "outputs": [],
   "source": []
  },
  {
   "cell_type": "code",
   "execution_count": null,
   "id": "dd4e025e-54a4-4012-adb7-9460316781fa",
   "metadata": {},
   "outputs": [],
   "source": []
  },
  {
   "cell_type": "code",
   "execution_count": null,
   "id": "7a90d32b-702f-431f-b8d7-8ce4590e1230",
   "metadata": {},
   "outputs": [],
   "source": []
  },
  {
   "cell_type": "code",
   "execution_count": null,
   "id": "c92e7d74-a74f-4999-853f-f0ee2834a4cc",
   "metadata": {},
   "outputs": [],
   "source": []
  },
  {
   "cell_type": "code",
   "execution_count": null,
   "id": "442fea8a-6576-4657-b691-f61c9cdcad61",
   "metadata": {},
   "outputs": [],
   "source": []
  },
  {
   "cell_type": "code",
   "execution_count": null,
   "id": "2a38ced1-b00f-437c-8fc2-3ad17b2c2246",
   "metadata": {},
   "outputs": [],
   "source": []
  },
  {
   "cell_type": "code",
   "execution_count": null,
   "id": "7598c491-91c3-4335-9934-e4003ac67aeb",
   "metadata": {},
   "outputs": [],
   "source": []
  },
  {
   "cell_type": "code",
   "execution_count": null,
   "id": "eed45746-e63d-4eca-b6f1-7adcaba374a9",
   "metadata": {},
   "outputs": [],
   "source": []
  },
  {
   "cell_type": "code",
   "execution_count": null,
   "id": "3151b497-9cfc-44ad-92c2-cd05be388d19",
   "metadata": {},
   "outputs": [],
   "source": []
  },
  {
   "cell_type": "code",
   "execution_count": null,
   "id": "28d36873-c32f-4176-93fe-66d1b2a2ee6a",
   "metadata": {},
   "outputs": [],
   "source": []
  },
  {
   "cell_type": "code",
   "execution_count": null,
   "id": "18865bbf-6db3-440e-87e6-587015985740",
   "metadata": {},
   "outputs": [],
   "source": []
  },
  {
   "cell_type": "code",
   "execution_count": null,
   "id": "15ca3767-7780-42f3-a5a9-21803edcf2d4",
   "metadata": {},
   "outputs": [],
   "source": []
  },
  {
   "cell_type": "code",
   "execution_count": null,
   "id": "3d79daeb-e259-4d12-9a21-766c9f86f889",
   "metadata": {},
   "outputs": [],
   "source": []
  }
 ],
 "metadata": {
  "kernelspec": {
   "display_name": "Python 3 (ipykernel)",
   "language": "python",
   "name": "python3"
  },
  "language_info": {
   "codemirror_mode": {
    "name": "ipython",
    "version": 3
   },
   "file_extension": ".py",
   "mimetype": "text/x-python",
   "name": "python",
   "nbconvert_exporter": "python",
   "pygments_lexer": "ipython3",
   "version": "3.12.7"
  }
 },
 "nbformat": 4,
 "nbformat_minor": 5
}
