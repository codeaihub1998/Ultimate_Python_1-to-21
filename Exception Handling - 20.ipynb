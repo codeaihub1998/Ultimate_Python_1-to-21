{
 "cells": [
  {
   "cell_type": "code",
   "execution_count": null,
   "id": "f9eef7d8-ff9a-4d0a-8f75-65d164dea1a0",
   "metadata": {},
   "outputs": [],
   "source": [
    "first = int(input('Enter a number : '))\n",
    "second = int(input('Enter another number : ')\n",
    "print(f'{first = }, {second = }')\n",
    "if first < second:\n",
    " print(f'{first * second = }')\n",
    "else\n",
    " print(f'{first / second = }')\n",
    "x = 40 / first + second\n",
    "print(f'{x = }')"
   ]
  },
  {
   "cell_type": "code",
   "execution_count": null,
   "id": "851a975c-fd8c-42fb-b82e-171695ee87f2",
   "metadata": {},
   "outputs": [],
   "source": [
    "first * second = 20\n",
    "x = 15.0"
   ]
  },
  {
   "cell_type": "code",
   "execution_count": null,
   "id": "4b6226e4-e1e0-465c-a515-b1b0f07060fc",
   "metadata": {},
   "outputs": [],
   "source": [
    "marks = [34, 32, 45]\n",
    "for i in range(4): # IndexError: list index out of\n",
    "range\n",
    " print(marks[i])\n",
    "print(mark[0]) # NameError: name 'mark' is not defined\n",
    "marks.popitem(2) # AttributeError: 'list' object has no attribute 'popitem'"
   ]
  },
  {
   "cell_type": "code",
   "execution_count": null,
   "id": "ca15730f-e123-47d0-a1bc-8586c274ea08",
   "metadata": {},
   "outputs": [],
   "source": [
    "x = marks[0] / (marks[1] - 32) #\n",
    "ZeroDivisionError: division by zero\n",
    "print(int('ten')) # ValueError: invalid literal\n",
    "for int() with base 10: 'ten'\n",
    "print(len(12345)) # TypeError: object of type 'int' has no len()\n",
    "marks2 = marks + 2 # TypeError: can only concatenate list (not \"int\") to list\n",
    "pow(2) # TypeError: pow() missing required argument 'exp' (pos 2)"
   ]
  },
  {
   "cell_type": "code",
   "execution_count": null,
   "id": "f5a1edc2-d512-4490-9901-95e8ff2e5003",
   "metadata": {},
   "outputs": [],
   "source": [
    "import stack # ModuleNotFoundError: No module named 'stack'\n",
    "s = f.read()\n",
    "print(s)\n",
    "boys = int(input('Enter number of boys '))\n",
    "girls = int(input('Enter number of girls '))"
   ]
  },
  {
   "cell_type": "code",
   "execution_count": null,
   "id": "497cbfe1-c91a-4aca-a264-3d6f22052d55",
   "metadata": {},
   "outputs": [],
   "source": [
    "print('Ratio of boys to girls is', boys / girls) "
   ]
  },
  {
   "cell_type": "code",
   "execution_count": null,
   "id": "6ac1a435-275c-4bac-b777-53691c1184aa",
   "metadata": {},
   "outputs": [],
   "source": [
    "if girls == 0:\n",
    " print('No girls, Ratio not defined')\n",
    "else:\n",
    " print('Ratio of boys to girls is', boys / girls)"
   ]
  },
  {
   "cell_type": "code",
   "execution_count": null,
   "id": "61488aa4-af74-493a-b229-87b69e69b3f8",
   "metadata": {},
   "outputs": [],
   "source": [
    "try:\n",
    " print('Ratio of boys to girls is ', boys / girls)\n",
    "except ZeroDivisionError:\n",
    " print('No girls, Ratio not defined')"
   ]
  },
  {
   "cell_type": "code",
   "execution_count": null,
   "id": "82d4a4b1-c001-4b4b-b230-fad738d05eaa",
   "metadata": {},
   "outputs": [],
   "source": [
    "def f1():\n",
    " print('function f1 statement 1')\n",
    " f2()\n",
    " print('function f1 statement 3')\n",
    " \n",
    "def f2():\n",
    " print('function f2 statement 1')\n",
    " f3()\n",
    " print('function f2 statement 3')\n",
    "def f3():\n",
    " print('function f3 statement 1')\n",
    " x = int(input('Enter a number : '))\n",
    " print('function f3 statement 3')\n",
    "print('Program begins')\n",
    "f1()\n",
    "print('Program ends')"
   ]
  },
  {
   "cell_type": "code",
   "execution_count": null,
   "id": "e0f443e2-f6b4-4c44-90df-849ed7d31f74",
   "metadata": {},
   "outputs": [],
   "source": [
    "import builtins\n",
    "dir(builtins)"
   ]
  },
  {
   "cell_type": "code",
   "execution_count": null,
   "id": "e7975594-ab82-4dc9-b84c-9c11ab8edffc",
   "metadata": {},
   "outputs": [],
   "source": [
    "help(builtins)"
   ]
  },
  {
   "cell_type": "code",
   "execution_count": null,
   "id": "2ff7a1d0-6d2a-4142-b0cb-e2c800d48333",
   "metadata": {},
   "outputs": [],
   "source": [
    "IndexError.__mro__"
   ]
  },
  {
   "cell_type": "code",
   "execution_count": null,
   "id": "800d7d32-ed6e-48e9-a4a0-a28e84598c50",
   "metadata": {},
   "outputs": [],
   "source": [
    "help(ZeroDivisionError)"
   ]
  },
  {
   "cell_type": "code",
   "execution_count": null,
   "id": "44632e3e-5f4e-450c-9331-8cd44b0da2b1",
   "metadata": {},
   "outputs": [],
   "source": [
    "boys = int(input('Enter number of boys '))\n",
    "girls = int(input('Enter number of girls '))\n",
    "r = boys / girls\n",
    "print(f'Ratio of boys to girls is {r}')\n",
    "total = boys + girls\n",
    "print(f'Total number of students = {total}')"
   ]
  },
  {
   "cell_type": "code",
   "execution_count": null,
   "id": "e047b796-32bf-423d-b5b2-1bbd8c89a1e9",
   "metadata": {},
   "outputs": [],
   "source": [
    "boys = int(input('Enter number of boys '))\n",
    "girls = int(input('Enter number of girls '))\n",
    "try:\n",
    " r = boys / girls\n",
    " print(f'Ratio of boys to girls is {r}')\n",
    "except ZeroDivisionError:\n",
    " print('No girls, Ratio not defined')\n",
    "total = boys + girls\n",
    "print(f'Total number of students = {total}')"
   ]
  },
  {
   "cell_type": "code",
   "execution_count": null,
   "id": "37d66e00-9c54-4fad-a0f8-30c230547a36",
   "metadata": {},
   "outputs": [],
   "source": [
    "try:\n",
    " \n",
    "except LookupError:\n",
    " print('Lookup Error')\n",
    "except IndexError:\n",
    " print('IndexError')"
   ]
  },
  {
   "cell_type": "code",
   "execution_count": null,
   "id": "b74a1390-8800-447f-9001-9c60ab11b840",
   "metadata": {},
   "outputs": [],
   "source": [
    "try:\n",
    " \n",
    "except IndexError:\n",
    " print('IndexError')\n",
    "except LookupError:\n",
    " print('Lookup Error')"
   ]
  },
  {
   "cell_type": "code",
   "execution_count": null,
   "id": "f88754cd-95b1-49c3-8940-90e0ee3506cb",
   "metadata": {},
   "outputs": [],
   "source": [
    "try:\n",
    "except Exception:\n",
    " statementP"
   ]
  },
  {
   "cell_type": "code",
   "execution_count": null,
   "id": "25e6e0a8-562d-44cd-a239-6aa8db98df4a",
   "metadata": {},
   "outputs": [],
   "source": [
    "try:\n",
    " x = lst.index[i]\n",
    "except IndexError:\n",
    " x = -1"
   ]
  },
  {
   "cell_type": "code",
   "execution_count": null,
   "id": "2eb93643-36dd-421e-a5f3-8575849528cd",
   "metadata": {},
   "outputs": [],
   "source": [
    "f = open('somefile.txt')\n",
    "try:\n",
    " text = f.read()\n",
    "finally:\n",
    " f.close()"
   ]
  },
  {
   "cell_type": "code",
   "execution_count": null,
   "id": "d27cec93-923a-45b3-abfd-5643b3d2672f",
   "metadata": {},
   "outputs": [],
   "source": [
    "try:\n",
    " x = int(input('Enter a number : '))\n",
    " print(10 / x)\n",
    "except ValueError:\n",
    " print('ValueError exception handled')\n",
    "finally:\n",
    " print('Running clean up code')\n",
    "print('End ……')"
   ]
  },
  {
   "cell_type": "code",
   "execution_count": null,
   "id": "80b194cd-31bd-4dbf-83bb-2ab7404b82bf",
   "metadata": {},
   "outputs": [],
   "source": [
    "try:\n",
    " x = int(input('Enter a number : '))\n",
    " print(10 / x)\n",
    "except ValueError:\n",
    " print('ValueError exception handled')\n",
    " print(3 + 'x')\n",
    "finally:\n",
    " print('Running clean up code')\n",
    "print('End ……')"
   ]
  },
  {
   "cell_type": "code",
   "execution_count": null,
   "id": "469cffbe-0235-4232-a8b5-55ba95908f8c",
   "metadata": {},
   "outputs": [],
   "source": [
    "import sys\n",
    "try:\n",
    " x = int(input('Enter a number : '))\n",
    " print(10 / x)\n",
    "except ValueError:\n",
    " print('ValueError exception handled')\n",
    " sys.exit()\n",
    "finally:\n",
    " print('Running clean up code')\n",
    "print('End ……')"
   ]
  },
  {
   "cell_type": "code",
   "execution_count": null,
   "id": "f3657134-23de-406f-8c6e-8626438219ce",
   "metadata": {},
   "outputs": [],
   "source": [
    "try:\n",
    " x = int(input('Enter a number : '))\n",
    " print(10 / x)\n",
    "finally:\n",
    " print('Running clean up code')\n",
    "print('End ……')"
   ]
  },
  {
   "cell_type": "code",
   "execution_count": null,
   "id": "0fad9e7b-51fe-4aa2-9d63-8e486e01d1ac",
   "metadata": {},
   "outputs": [],
   "source": [
    "schools = [('XYZ', 1, 2), ('PQR', 9, 8), ('ABC', 9, 0), ('LMN', 8, 7)]\n",
    "for school_name, boys, girls in schools:\n",
    " ratio = boys / girls\n",
    " print(f'Ratio of boys to girls for school\n",
    "{school_name} is {ratio}')\n",
    " if ratio > 1:\n",
    " print('Boys in majority\\n')\n",
    " else:\n",
    " print('Girls in majority\\n')"
   ]
  },
  {
   "cell_type": "code",
   "execution_count": null,
   "id": "4d6152f9-39e3-43b8-aa5d-3b6ac749a5c1",
   "metadata": {},
   "outputs": [],
   "source": [
    "schools = [('XYZ', 1,2), ('PQR', 9,8), ('ABC',\n",
    "9,0), ('LMN', 8,7)]\n",
    "for school_name, boys, girls in schools:\n",
    " try:\n",
    " ratio = boys/girls\n",
    " except:\n",
    " print(f'Ratio not defined for school\n",
    "{school_name}\\n')\n",
    " \n",
    " print(f'Ratio of boys to girls for school {school_name} is {ratio}')\n",
    " if ratio > 1:\n",
    " print('Boys in majority\\n')\n",
    " else:\n",
    " print('Girls in majority\\n')"
   ]
  },
  {
   "cell_type": "code",
   "execution_count": null,
   "id": "40f3b7ed-def8-42e3-9604-6391e4a36903",
   "metadata": {},
   "outputs": [],
   "source": [
    "schools = [('XYZ', 1,2), ('PQR', 9,8), ('ABC',\n",
    "9,0), ('LMN', 8,7)]\n",
    "for school_name, boys, girls in schools:\n",
    " try:\n",
    " ratio = boys/girls\n",
    " except:\n",
    " print(f'Ratio not defined for school {school_name}\\n')\n",
    " else: \n",
    "print(f'Ratio of boys to girls for school {school_name} is {ratio}')\n",
    " if ratio > 1:\n",
    " print('Boys in majority\\n')\n",
    " else:\n",
    " print('Girls in majority\\n')"
   ]
  },
  {
   "cell_type": "code",
   "execution_count": null,
   "id": "3d6c061e-fa79-4088-9fce-e037d137336a",
   "metadata": {},
   "outputs": [],
   "source": [
    "schools = [('XYZ', 1, 2), ('PQR', 9, 8), ('ABC', 9, 0), ('LMN', 8, 7)]\n",
    "for school_name, boys, girls in schools:\n",
    " try:\n",
    " ratio = boys / girls\n",
    " print(f'Ratio of boys to girls for school {school_name} is {ratio}')\n",
    " if ratio > 1:\n",
    " print('Boys in majority\\n')\n",
    " else:\n",
    " print('Girls in majority\\n')\n",
    " except:\n",
    "print(f'Ratio not defined for school{school_name}\\n')"
   ]
  },
  {
   "cell_type": "code",
   "execution_count": null,
   "id": "1d860d04-5c91-42ff-a094-633ef2fce552",
   "metadata": {},
   "outputs": [],
   "source": [
    "numbers = [23, 45, 67]\n",
    "try:\n",
    " print(numbers[3])\n",
    "except LookupError as e:\n",
    " print(type(e))"
   ]
  },
  {
   "cell_type": "code",
   "execution_count": null,
   "id": "29264886-9abb-4632-88ab-9f9a4b7370c1",
   "metadata": {},
   "outputs": [],
   "source": [
    "e = Exception('msg', 1, 2)\n",
    "ex = LookupError(2,4, 'A', 'B')\n",
    "exc = ZeroDivisionError('XX')\n",
    "excp = IndexError()\n",
    "e.args"
   ]
  },
  {
   "cell_type": "code",
   "execution_count": null,
   "id": "6a3fd2a2-0fcb-4d3d-b128-da1f2a949591",
   "metadata": {},
   "outputs": [],
   "source": [
    "ex.args"
   ]
  },
  {
   "cell_type": "code",
   "execution_count": null,
   "id": "bdcebd66-996f-4ae3-85c8-f0a29d2457f0",
   "metadata": {},
   "outputs": [],
   "source": [
    "exc.args"
   ]
  },
  {
   "cell_type": "code",
   "execution_count": null,
   "id": "db4c1865-9274-4e16-b54f-3302a38539a5",
   "metadata": {},
   "outputs": [],
   "source": [
    "excp.args"
   ]
  },
  {
   "cell_type": "code",
   "execution_count": null,
   "id": "e484bd8d-7cb2-46d1-a3e0-bdbfbee01448",
   "metadata": {},
   "outputs": [],
   "source": [
    "str(e)"
   ]
  },
  {
   "cell_type": "code",
   "execution_count": null,
   "id": "750e24a1-7dc3-476e-93c2-b0b07452b3e5",
   "metadata": {},
   "outputs": [],
   "source": [
    "str(ex)"
   ]
  },
  {
   "cell_type": "code",
   "execution_count": null,
   "id": "81ebd675-a764-4ec0-b84e-463e4569a474",
   "metadata": {},
   "outputs": [],
   "source": [
    "str(exc)"
   ]
  },
  {
   "cell_type": "code",
   "execution_count": null,
   "id": "d022f0dd-7bd4-46b8-b757-c92a4c7145ec",
   "metadata": {},
   "outputs": [],
   "source": [
    "str(excp)"
   ]
  },
  {
   "cell_type": "code",
   "execution_count": null,
   "id": "b032da4e-ae16-4d46-ada3-9e381268b7f6",
   "metadata": {},
   "outputs": [],
   "source": [
    "print(e)"
   ]
  },
  {
   "cell_type": "code",
   "execution_count": null,
   "id": "64099858-e936-4080-8bc8-5f6f824b9b3f",
   "metadata": {},
   "outputs": [],
   "source": [
    "print(repr(e))"
   ]
  },
  {
   "cell_type": "code",
   "execution_count": null,
   "id": "3930dad1-cded-467b-a540-ab348da8bd3c",
   "metadata": {},
   "outputs": [],
   "source": [
    "e"
   ]
  },
  {
   "cell_type": "code",
   "execution_count": null,
   "id": "2aab349d-f23d-4cb6-a44d-1ebc5aaf7224",
   "metadata": {},
   "outputs": [],
   "source": [
    "numbers = [23, 45, 67]\n",
    "try:\n",
    " print(numbers[3])\n",
    "except LookupError as e:\n",
    " print(type(e))\n",
    " print(e.args)\n",
    " print(e)"
   ]
  },
  {
   "cell_type": "code",
   "execution_count": null,
   "id": "b723029a-acbe-427e-b881-0735b4983204",
   "metadata": {},
   "outputs": [],
   "source": [
    "try:\n",
    " file = open('ff')\n",
    "except OSError as err:\n",
    " print(type(err))\n",
    " print(err.args)"
   ]
  },
  {
   "cell_type": "code",
   "execution_count": null,
   "id": "9c27a402-6970-49de-8caf-ccd3b0984b66",
   "metadata": {},
   "outputs": [],
   "source": [
    "try:\n",
    " import test\n",
    "except SyntaxError as e:\n",
    " print(e.args)"
   ]
  },
  {
   "cell_type": "code",
   "execution_count": null,
   "id": "78f9e1d1-eacd-4a7c-9a90-80813b7976fa",
   "metadata": {},
   "outputs": [],
   "source": [
    "dir(SyntaxError)"
   ]
  },
  {
   "cell_type": "code",
   "execution_count": null,
   "id": "cd51de7d-c687-4d72-8063-6b8188e6a790",
   "metadata": {},
   "outputs": [],
   "source": [
    "try:\n",
    " import test\n",
    "except SyntaxError as e:\n",
    " print(e.args)\n",
    " for attr in dir(e):\n",
    " if not attr.startswith(‘_’):\n",
    " print(attr, \"=\",\n",
    "e.__getattribute__(attr))"
   ]
  },
  {
   "cell_type": "code",
   "execution_count": null,
   "id": "3562390a-b505-45a0-af72-3237e16cdd7e",
   "metadata": {},
   "outputs": [],
   "source": [
    "try:\n",
    " file = open('datafile.txt')\n",
    "except OSError as err:\n",
    " for entry in dir(err):\n",
    " if not entry.startswith(‘_’):\n",
    " print(entry, ‘=’,\n",
    "err.__getattribute__(entry))"
   ]
  },
  {
   "cell_type": "code",
   "execution_count": null,
   "id": "8d28e7d8-41ff-40fc-b14c-a5011f887026",
   "metadata": {},
   "outputs": [],
   "source": [
    "try:\n",
    " file = open('datafile.txt')\n",
    "except OSError as err:\n",
    " for entry in dir(err):\n",
    " if not entry.startswith(‘_’):\n",
    " try:\n",
    " print(entry, ‘=’,\n",
    "err.__getattribute__(entry))\n",
    " except AttributeError:\n",
    " pass"
   ]
  },
  {
   "cell_type": "code",
   "execution_count": null,
   "id": "d92456ee-72d1-42d4-b213-cdbdf32a2014",
   "metadata": {},
   "outputs": [],
   "source": [
    "import sys\n",
    "try:\n",
    " f = open('xyz')\n",
    "except:\n",
    " exc_type, exc_value, exc_traceback =\n",
    "sys.exc_info()\n",
    " print(exc_type)\n",
    " print(exc_value)\n",
    " print(exc_traceback)"
   ]
  },
  {
   "cell_type": "code",
   "execution_count": null,
   "id": "d8de9ffb-730c-40d7-9c12-1576f8990499",
   "metadata": {},
   "outputs": [],
   "source": [
    "dir(BaseException)"
   ]
  },
  {
   "cell_type": "code",
   "execution_count": null,
   "id": "6000ff36-e868-4f22-b1ca-e87c66ff35c4",
   "metadata": {},
   "outputs": [],
   "source": [
    "try:\n",
    " try:\n",
    " x = int(input('Enter a number : '))\n",
    " print(10 / x)\n",
    " except ValueError as e: \n",
    " print('ValueError exception occurred : ', e)\n",
    "except ZeroDivisionError:\n",
    " print('Cannot divide by zero')"
   ]
  },
  {
   "cell_type": "code",
   "execution_count": null,
   "id": "b2c47543-266d-4384-b81e-e6cc58c534f0",
   "metadata": {},
   "outputs": [],
   "source": [
    "try:\n",
    " try:\n",
    " x = int(input('Enter a number : '))\n",
    " print(10 / x)\n",
    " except Exception as e: \n",
    " print('An exception occurred : ', e)\n",
    "except ZeroDivisionError as e:\n",
    " print(e)"
   ]
  },
  {
   "cell_type": "code",
   "execution_count": null,
   "id": "ffa1da1a-d291-4ff8-aa71-3543958619f3",
   "metadata": {},
   "outputs": [],
   "source": [
    "try:\n",
    " file = open('data.txt')\n",
    " try:\n",
    " x = file.readlines()\n",
    " print(x)\n",
    " except Exception as e:\n",
    "print(type(e))\n",
    " print(e)\n",
    " finally:\n",
    " file.close()\n",
    "except FileNotFoundError as e:\n",
    " print(e)"
   ]
  },
  {
   "cell_type": "code",
   "execution_count": null,
   "id": "193b9d53-4620-4da8-b511-fb45669aa09e",
   "metadata": {},
   "outputs": [],
   "source": [
    "age = int(input('Enter age : '))\n",
    "if age < 0 or age > 120:\n",
    " raise ValueError"
   ]
  },
  {
   "cell_type": "code",
   "execution_count": null,
   "id": "a2b89c03-e261-4485-aae0-f777deecb134",
   "metadata": {},
   "outputs": [],
   "source": [
    "try:\n",
    " age = int(input('Enter age : '))\n",
    " if age < 0 or age > 120:\n",
    " raise ValueError\n",
    "except ValueError:\n",
    " print('Invalid value for age')\n",
    "else:\n",
    " print('Age is', age)"
   ]
  },
  {
   "cell_type": "code",
   "execution_count": null,
   "id": "28444c42-84e0-4db1-871d-579dbf2bf169",
   "metadata": {},
   "outputs": [],
   "source": [
    "try:\n",
    " age = int(input('Enter age : '))\n",
    " if age < 0 or age > 120:\n",
    " raise ValueError('Age not in valid range')\n",
    "except ValueError as e:\n",
    " print('Invalid value for age')\n",
    " print(e)\n",
    "else:\n",
    " print('Age is', age)"
   ]
  },
  {
   "cell_type": "code",
   "execution_count": null,
   "id": "1b7972a9-4181-48a0-b0fc-15a3cbd70ecf",
   "metadata": {},
   "outputs": [],
   "source": [
    "minimum = 18\n",
    "maximum = 60\n",
    "try:\n",
    " age = int(input('Enter age : '))\n",
    " if age < minimum or age > maximum:\n",
    " raise ValueError(f'Age not in valid range\n",
    "{minimum}-{maximum} ')\n",
    "except ValueError as e:\n",
    " print('Invalid age value')\n",
    " print(e)\n",
    "else:\n",
    "print(age)"
   ]
  },
  {
   "cell_type": "code",
   "execution_count": null,
   "id": "3b9c5b68-e6c5-4cae-ab54-1acb9bd0f9b1",
   "metadata": {},
   "outputs": [],
   "source": [
    "e = IndexError('some message ', 1, 2)\n",
    "e.x = 10\n",
    "e.message = 'xyz '\n",
    "raise e"
   ]
  },
  {
   "cell_type": "code",
   "execution_count": null,
   "id": "acb8effb-dbeb-42e5-878c-c44dff3de865",
   "metadata": {},
   "outputs": [],
   "source": [
    "def func():\n",
    " try:\n",
    " f = open('xyz')\n",
    " except Exception as e:\n",
    " print('An exception occurred', e)\n",
    "print('Start')\n",
    "\n",
    "try:\n",
    " func()\n",
    "except FileNotFoundError as e:\n",
    " print('Caught a FileNotFoundError', e)\n",
    " print('Handling the error')\n",
    "print('End')"
   ]
  },
  {
   "cell_type": "code",
   "execution_count": null,
   "id": "33437f42-d3c9-4bda-8f01-4f09df272d9e",
   "metadata": {},
   "outputs": [],
   "source": [
    "def func():\n",
    " try:\n",
    " f = open('xyz')\n",
    " except Exception as e:\n",
    " print('An exception occurred', e)\n",
    " raise\n",
    "print('Start')\n",
    "try:\n",
    " func()\n",
    "except FileNotFoundError as e:\n",
    " print('Caught a FileNotFoundError', e)\n",
    " print('Handling the error')\n",
    "print('End')"
   ]
  },
  {
   "cell_type": "code",
   "execution_count": null,
   "id": "feebcdd4-b117-4038-941f-a7206cede5a1",
   "metadata": {},
   "outputs": [],
   "source": [
    "def func():\n",
    " try:\n",
    " 5 / 0\n",
    " except ZeroDivisionError as excp:\n",
    " raise RuntimeError('An error occurred') from excp\n",
    "func()"
   ]
  },
  {
   "cell_type": "code",
   "execution_count": null,
   "id": "1c410666-81c4-4d77-b938-2bde5460b111",
   "metadata": {},
   "outputs": [],
   "source": [
    "def func():\n",
    " try:\n",
    " 5 / 0\n",
    " except ZeroDivisionError as excp:\n",
    " raise RuntimeError('An error occurred') from\n",
    "excp\n",
    "try:\n",
    " func()\n",
    "except RuntimeError as e:\n",
    " print(e)\n",
    " print(e.__cause__)"
   ]
  },
  {
   "cell_type": "code",
   "execution_count": null,
   "id": "84941a2e-5d3f-4652-9462-f45e8d330f36",
   "metadata": {},
   "outputs": [],
   "source": [
    "def func():\n",
    " try:\n",
    " 5 / 0\n",
    " except ZeroDivisionError as excp:\n",
    " print(exc)\n",
    "func()"
   ]
  },
  {
   "cell_type": "code",
   "execution_count": null,
   "id": "66502283-250c-457b-8f2b-f2a66c4e1348",
   "metadata": {},
   "outputs": [],
   "source": [
    "def func():\n",
    " try:\n",
    " 5 / 0\n",
    " except ZeroDivisionError as excp:\n",
    " print(exc)\n",
    "try:\n",
    " func()\n",
    "except Exception as e:\n",
    " print(e)\n",
    " print(e.__context__)"
   ]
  },
  {
   "cell_type": "code",
   "execution_count": null,
   "id": "4fb52bc6-93e7-4d56-b8b8-ca5620914a5b",
   "metadata": {},
   "outputs": [],
   "source": [
    "class MyError(Exception):\n",
    " pass"
   ]
  },
  {
   "cell_type": "code",
   "execution_count": null,
   "id": "28e4dad2-4e14-4423-a7f2-fda6e2234e9a",
   "metadata": {},
   "outputs": [],
   "source": [
    "try:\n",
    " raise MyError\n",
    "except MyError as e:\n",
    " print(e)"
   ]
  },
  {
   "cell_type": "code",
   "execution_count": null,
   "id": "cc3d7533-0715-43ee-a850-a18f9792c174",
   "metadata": {},
   "outputs": [],
   "source": [
    "try:\n",
    " raise MyError('MyError exception raised', 1, 2, 3)\n",
    "except MyError as e:\n",
    " print(e)"
   ]
  },
  {
   "cell_type": "code",
   "execution_count": null,
   "id": "55c21832-d80d-421b-bbc6-2cd8f20bb2c9",
   "metadata": {},
   "outputs": [],
   "source": [
    "try:\n",
    " raise MyError('MyError exception raised', 1, 2, 3)\n",
    "except MyError as e:\n",
    " print(e)\n",
    " print(e.args)"
   ]
  },
  {
   "cell_type": "code",
   "execution_count": null,
   "id": "8d031de3-01c6-47e6-a4f5-3822828b43fa",
   "metadata": {},
   "outputs": [],
   "source": [
    "class MyError(Exception):\n",
    " def __init__(self, x, y):\n",
    " self.data = x\n",
    " self.value = y\n",
    " def __str__(self):\n",
    " return f'Exception of type MyError raised,\n",
    "{self.data}, {self.value}'\n",
    "try:\n",
    " raise MyError(23, 45)\n",
    "except MyError as e:\n",
    " print(e)\n",
    " print(e.data, e.value)"
   ]
  },
  {
   "cell_type": "code",
   "execution_count": null,
   "id": "1a957038-8fbe-430f-9e54-19396229e874",
   "metadata": {},
   "outputs": [],
   "source": [
    "class MyError(Exception):\n",
    "def __init__(self, x,y):\n",
    " self.data = x\n",
    " self.value = y\n",
    " \n",
    " def __str__(self):\n",
    " return f'Exception of type MyError\n",
    "raised, {self.data}, {self.value}'\n",
    " \n",
    " def func(self):\n",
    " print('func called')\n",
    " \n",
    "try:\n",
    " raise MyError(23,45)\n",
    "except MyError as e:\n",
    " print(e)\n",
    " e.func()"
   ]
  },
  {
   "cell_type": "code",
   "execution_count": null,
   "id": "d23a665e-66a4-4f19-b6fc-e0f065f9a8e7",
   "metadata": {},
   "outputs": [],
   "source": [
    "class OutOfRangeError(Exception):\n",
    " '''Exception raised when a value is out of\n",
    "acceptable range'''\n",
    " def __init__(self,name, minValue,maxValue):\n",
    " self.name = name\n",
    " self.minValue = minValue\n",
    " self.maxValue = maxValue\n",
    " def __str__(self):\n",
    " return f'{self.name} should be between {self.minValue} and {self.maxValue}'\n",
    "try:\n",
    " age = int(input('Enter age : '))\n",
    " if age < 18 or age > 60:\n",
    " raise OutOfRangeError(name = 'age', minValue=18, maxValue=60)\n",
    " \n",
    " salary = int(input('Enter salary : '))\n",
    " if salary < 10000 or salary > 500000:\n",
    " raise OutOfRangeError('salary', 10000, 50000)\n",
    "except OutOfRangeError as e:\n",
    " print(e)"
   ]
  },
  {
   "cell_type": "code",
   "execution_count": null,
   "id": "74314861-6ceb-45c4-aff7-554a97bda5cd",
   "metadata": {},
   "outputs": [],
   "source": [
    "class OutOfRangeError(ValueError):\n",
    " '''Exception raised when a value is out of acceptable range'''"
   ]
  },
  {
   "cell_type": "code",
   "execution_count": null,
   "id": "adabc537-7819-4d4b-b011-dd4ee4363c09",
   "metadata": {},
   "outputs": [],
   "source": [
    "class CustomError:\n",
    " pass\n",
    "class CustomError:\n",
    " ''' Docstring for this class '''"
   ]
  },
  {
   "cell_type": "code",
   "execution_count": null,
   "id": "45afb951-34d5-4d52-94d5-20730230e688",
   "metadata": {},
   "outputs": [],
   "source": [
    "# example file name is myfile name.py\n",
    "class Error(Exception):\n",
    " '''Base class for all the exceptions raised in\n",
    "this application'''\n",
    "class DatabaseError(Error):\n",
    " pass\n",
    "class NetworkError(Error):\n",
    " pass\n",
    "class InvalidInputError(Error):\n",
    " pass\n",
    "class HostnameNotResolvedError(NetworkError):\n",
    " pass\n",
    "class ProtocolFailedError(NetworkError):\n",
    " pass\n",
    "class ConnectionClosedError(NetworkError):\n",
    " pass\n",
    "class NetworkChangedError(NetworkError):\n",
    " pass\n",
    "class AddressNotReachableError(NetworkError):\n",
    " pass\n",
    "class InvalidNumberError(InvalidInputError):\n",
    " pass\n",
    "class InvalidAlphabetError(InvalidInputError):\n",
    " pass\n",
    "class NegativeNumberError(InvalidNumberError) :\n",
    " pass\n",
    "class OutOfRangeError(InvalidNumberError):\n",
    " pass\n",
    "class InvalidCursorError(DatabaseError):\n",
    " pass\n",
    "class NoDataFoundError(DatabaseError):\n",
    " pass\n",
    "class StorageError(DatabaseError):\n",
    " pass\n",
    "def func1():\n",
    " print('func1 called')\n",
    " raise InvalidCursorError\n",
    "def func2():\n",
    " print('func2 called')\n",
    " raise NetworkError"
   ]
  },
  {
   "cell_type": "code",
   "execution_count": null,
   "id": "3b77055f-344b-41a9-852b-5af296ff273e",
   "metadata": {},
   "outputs": [],
   "source": [
    "# example file name clientcode.py\n",
    "import myfile\n",
    "print('Start')\n",
    "try:\n",
    " myfile.func1()\n",
    " print('End')\n",
    "except myfile.DatabaseError as e:\n",
    " print(type(e))\n",
    "print('End')"
   ]
  },
  {
   "cell_type": "code",
   "execution_count": null,
   "id": "64a6e4ce-1503-4a6c-88b2-50e4e4ada27d",
   "metadata": {},
   "outputs": [],
   "source": [
    "class CursorAlreadyOpenError(DatabaseError):\n",
    " pass\n",
    "def func1():\n",
    " print('func1 called')\n",
    " raise CursorAlreadyOpenError"
   ]
  },
  {
   "cell_type": "code",
   "execution_count": null,
   "id": "e850d8b9-3ebc-495f-90f6-5bea214bf318",
   "metadata": {},
   "outputs": [],
   "source": [
    "a = 2\n",
    ">>> b = 3\n",
    "assert a < b\n",
    "assert a > b"
   ]
  },
  {
   "cell_type": "code",
   "execution_count": null,
   "id": "e901532c-c408-4e17-88c2-8ba0236d2e22",
   "metadata": {},
   "outputs": [],
   "source": [
    "Happy Programming"
   ]
  }
 ],
 "metadata": {
  "kernelspec": {
   "display_name": "Python 3 (ipykernel)",
   "language": "python",
   "name": "python3"
  },
  "language_info": {
   "codemirror_mode": {
    "name": "ipython",
    "version": 3
   },
   "file_extension": ".py",
   "mimetype": "text/x-python",
   "name": "python",
   "nbconvert_exporter": "python",
   "pygments_lexer": "ipython3",
   "version": "3.12.7"
  }
 },
 "nbformat": 4,
 "nbformat_minor": 5
}
