{
 "cells": [
  {
   "cell_type": "markdown",
   "id": "eb0966cc-a92a-4f52-a3cd-9418948a1808",
   "metadata": {},
   "source": [
    "Functions Definition"
   ]
  },
  {
   "cell_type": "code",
   "execution_count": 1,
   "id": "9f603ec3-21ec-4e25-9598-d8109b5eb23c",
   "metadata": {},
   "outputs": [],
   "source": [
    "def greet():\n",
    " print('Hello')"
   ]
  },
  {
   "cell_type": "code",
   "execution_count": 2,
   "id": "7ea9cece-4489-420c-be06-000eb218181d",
   "metadata": {},
   "outputs": [],
   "source": [
    "def greet1(name):\n",
    " print('Hello', name)"
   ]
  },
  {
   "cell_type": "code",
   "execution_count": 3,
   "id": "9f1bcdae-e5a9-41de-9998-78cfb4872769",
   "metadata": {},
   "outputs": [],
   "source": [
    "def calculate(a, b):\n",
    " print(a + b)\n",
    " print(a - b)\n",
    " print(a * b)"
   ]
  },
  {
   "cell_type": "code",
   "execution_count": 5,
   "id": "e3143010-508d-49f9-98f1-7e49537bc0c9",
   "metadata": {},
   "outputs": [],
   "source": [
    "def print_blank_lines(n):\n",
    " for i in range(n):\n",
    "     print()"
   ]
  },
  {
   "cell_type": "code",
   "execution_count": 6,
   "id": "05f7d2da-c5ac-4b13-a140-279709e28a09",
   "metadata": {},
   "outputs": [
    {
     "data": {
      "text/plain": [
       "function"
      ]
     },
     "execution_count": 6,
     "metadata": {},
     "output_type": "execute_result"
    }
   ],
   "source": [
    "type(greet)"
   ]
  },
  {
   "cell_type": "code",
   "execution_count": 7,
   "id": "1317cd34-420f-4e1e-9212-02325981a33b",
   "metadata": {},
   "outputs": [
    {
     "data": {
      "text/plain": [
       "2112231289888"
      ]
     },
     "execution_count": 7,
     "metadata": {},
     "output_type": "execute_result"
    }
   ],
   "source": [
    "id(greet)"
   ]
  },
  {
   "cell_type": "code",
   "execution_count": 8,
   "id": "075b0243-2bb6-46ae-9ef5-5dec9dfb46aa",
   "metadata": {},
   "outputs": [
    {
     "data": {
      "text/plain": [
       "<function __main__.greet()>"
      ]
     },
     "execution_count": 8,
     "metadata": {},
     "output_type": "execute_result"
    }
   ],
   "source": [
    "greet"
   ]
  },
  {
   "cell_type": "code",
   "execution_count": 9,
   "id": "1f123377-1b50-4658-9b98-63b5d87b1910",
   "metadata": {},
   "outputs": [
    {
     "data": {
      "text/plain": [
       "'0x1ebcacbb420'"
      ]
     },
     "execution_count": 9,
     "metadata": {},
     "output_type": "execute_result"
    }
   ],
   "source": [
    "hex(id(greet))"
   ]
  },
  {
   "cell_type": "markdown",
   "id": "fe056ed0-260c-46bf-8a55-f1f02446e65b",
   "metadata": {},
   "source": [
    "Function Call"
   ]
  },
  {
   "cell_type": "code",
   "execution_count": 10,
   "id": "4fa9251f-a564-43f5-a584-167d626e7c20",
   "metadata": {},
   "outputs": [
    {
     "name": "stdout",
     "output_type": "stream",
     "text": [
      "Hello\n"
     ]
    }
   ],
   "source": [
    "greet()"
   ]
  },
  {
   "cell_type": "code",
   "execution_count": 11,
   "id": "00b918a8-561f-4e23-8955-6b1d34a9063f",
   "metadata": {},
   "outputs": [
    {
     "name": "stdout",
     "output_type": "stream",
     "text": [
      "Hello Sam\n"
     ]
    }
   ],
   "source": [
    "greet1('Sam')"
   ]
  },
  {
   "cell_type": "code",
   "execution_count": 12,
   "id": "fa888b79-2d08-4b47-aadd-2676f5acc24e",
   "metadata": {},
   "outputs": [
    {
     "ename": "TypeError",
     "evalue": "greet1() missing 1 required positional argument: 'name'",
     "output_type": "error",
     "traceback": [
      "\u001b[1;31m---------------------------------------------------------------------------\u001b[0m",
      "\u001b[1;31mTypeError\u001b[0m                                 Traceback (most recent call last)",
      "Cell \u001b[1;32mIn[12], line 1\u001b[0m\n\u001b[1;32m----> 1\u001b[0m greet1()\n",
      "\u001b[1;31mTypeError\u001b[0m: greet1() missing 1 required positional argument: 'name'"
     ]
    }
   ],
   "source": [
    "greet1() # gives error"
   ]
  },
  {
   "cell_type": "code",
   "execution_count": 13,
   "id": "ec56ad0b-c4a3-4962-ada3-f9587d6a53f7",
   "metadata": {},
   "outputs": [
    {
     "name": "stdout",
     "output_type": "stream",
     "text": [
      "Hello Bob\n"
     ]
    }
   ],
   "source": [
    "greet1('Bob')"
   ]
  },
  {
   "cell_type": "code",
   "execution_count": 14,
   "id": "6676b31e-de7b-4b46-85fe-0d199a8007e5",
   "metadata": {},
   "outputs": [
    {
     "name": "stdout",
     "output_type": "stream",
     "text": [
      "13\n",
      "3\n",
      "40\n"
     ]
    }
   ],
   "source": [
    "calculate(8, 5)"
   ]
  },
  {
   "cell_type": "code",
   "execution_count": 15,
   "id": "07466264-2e7d-4595-a67e-65fe16c279a5",
   "metadata": {},
   "outputs": [
    {
     "name": "stdout",
     "output_type": "stream",
     "text": [
      "10.5\n",
      "2.5\n",
      "26.0\n"
     ]
    }
   ],
   "source": [
    "calculate(6.5, 4)"
   ]
  },
  {
   "cell_type": "code",
   "execution_count": 16,
   "id": "72d8dc73-d4c9-4bbd-bb9d-6c50fa09d059",
   "metadata": {},
   "outputs": [
    {
     "name": "stdout",
     "output_type": "stream",
     "text": [
      "\n",
      "\n",
      "\n",
      "\n",
      "\n"
     ]
    }
   ],
   "source": [
    "print_blank_lines(5)"
   ]
  },
  {
   "cell_type": "code",
   "execution_count": 17,
   "id": "13afa462-3cd3-432e-a608-7b33d4707bb4",
   "metadata": {},
   "outputs": [],
   "source": [
    "def greet1(name):\n",
    " print_blank_lines(3)\n",
    " print('Hello', name)\n",
    " print_blank_lines(2)"
   ]
  },
  {
   "cell_type": "code",
   "execution_count": 18,
   "id": "9aa5c787-34e5-4f6f-b6de-e08dd222716f",
   "metadata": {},
   "outputs": [
    {
     "name": "stdout",
     "output_type": "stream",
     "text": [
      "\n",
      "\n",
      "\n",
      "Hello Sam\n",
      "\n",
      "\n"
     ]
    }
   ],
   "source": [
    "greet1('Sam')"
   ]
  },
  {
   "cell_type": "markdown",
   "id": "f0a13982-9ea5-4f8f-9108-848055b2ded7",
   "metadata": {},
   "source": [
    "Flow of Control"
   ]
  },
  {
   "cell_type": "code",
   "execution_count": 19,
   "id": "b3da2881-459e-401d-81c7-471847f82cf5",
   "metadata": {},
   "outputs": [],
   "source": [
    "def add(a, b):\n",
    " print(a + b)"
   ]
  },
  {
   "cell_type": "code",
   "execution_count": 20,
   "id": "77bfb272-b2be-4fb1-8d3d-f66918bdc011",
   "metadata": {},
   "outputs": [
    {
     "name": "stdout",
     "output_type": "stream",
     "text": [
      "5\n"
     ]
    }
   ],
   "source": [
    "add(2, 3)"
   ]
  },
  {
   "cell_type": "code",
   "execution_count": 21,
   "id": "d26fa114-322a-41bb-9ca2-d5db32e47737",
   "metadata": {},
   "outputs": [],
   "source": [
    "num1 = 7\n",
    "num2 = 9"
   ]
  },
  {
   "cell_type": "code",
   "execution_count": 22,
   "id": "ed667505-4675-4484-951e-8794feaae67f",
   "metadata": {},
   "outputs": [
    {
     "name": "stdout",
     "output_type": "stream",
     "text": [
      "16\n"
     ]
    }
   ],
   "source": [
    "add(num1, num2)"
   ]
  },
  {
   "cell_type": "code",
   "execution_count": 23,
   "id": "a9d8310a-863d-480b-81dd-2f281a18f62f",
   "metadata": {},
   "outputs": [
    {
     "name": "stdout",
     "output_type": "stream",
     "text": [
      "17.0\n"
     ]
    }
   ],
   "source": [
    "add(num1 * 2, num2 / 3)"
   ]
  },
  {
   "cell_type": "code",
   "execution_count": 24,
   "id": "a7709697-a3e5-404f-a728-4db8fcccadd0",
   "metadata": {},
   "outputs": [
    {
     "ename": "TypeError",
     "evalue": "add() missing 2 required positional arguments: 'a' and 'b'",
     "output_type": "error",
     "traceback": [
      "\u001b[1;31m---------------------------------------------------------------------------\u001b[0m",
      "\u001b[1;31mTypeError\u001b[0m                                 Traceback (most recent call last)",
      "Cell \u001b[1;32mIn[24], line 1\u001b[0m\n\u001b[1;32m----> 1\u001b[0m add()\n\u001b[0;32m      2\u001b[0m add(\u001b[38;5;241m1\u001b[39m) \n\u001b[0;32m      3\u001b[0m add(\u001b[38;5;241m1\u001b[39m,\u001b[38;5;241m2\u001b[39m,\u001b[38;5;241m3\u001b[39m)\n",
      "\u001b[1;31mTypeError\u001b[0m: add() missing 2 required positional arguments: 'a' and 'b'"
     ]
    }
   ],
   "source": [
    "add()\n",
    "add(1) \n",
    "add(1,2,3)"
   ]
  },
  {
   "cell_type": "code",
   "execution_count": 29,
   "id": "66b12c2f-07fc-4c83-a686-2ea2a2e302e1",
   "metadata": {},
   "outputs": [
    {
     "ename": "IndentationError",
     "evalue": "unindent does not match any outer indentation level (<string>, line 8)",
     "output_type": "error",
     "traceback": [
      "\u001b[1;36m  File \u001b[1;32m<string>:8\u001b[1;36m\u001b[0m\n\u001b[1;33m    print()\u001b[0m\n\u001b[1;37m           ^\u001b[0m\n\u001b[1;31mIndentationError\u001b[0m\u001b[1;31m:\u001b[0m unindent does not match any outer indentation level\n"
     ]
    }
   ],
   "source": [
    "def display_list_decimal(L):\n",
    " for n in L:\n",
    "     print(n, end=' ')\n",
    " print()\n",
    "def display_list_binary(L):\n",
    "    for n in L:\n",
    "        print(f\"{n:b}\", end=' ')\n",
    " print()\n",
    "def display_list_octal(L):\n",
    "    for n in L:\n",
    "        print(f\"{n:o}\", end=' ')\n",
    " print()\n",
    "def display_list_hexadecimal(L):\n",
    "    for n in L:\n",
    "        print(f\"{n:X}\", end=' ')\n",
    " print()\n",
    "numbers = [134, 2567, 366, 521, 689]\n",
    "display_list_decimal(numbers)\n",
    "display_list_binary(numbers)\n",
    "display_list_octal(numbers)\n",
    "display_list_hexadecimal(numbers)"
   ]
  },
  {
   "cell_type": "code",
   "execution_count": 32,
   "id": "32ce5306-0a75-4bda-a286-96bc1ffd3e6e",
   "metadata": {},
   "outputs": [
    {
     "ename": "IndentationError",
     "evalue": "unindent does not match any outer indentation level (<string>, line 3)",
     "output_type": "error",
     "traceback": [
      "\u001b[1;36m  File \u001b[1;32m<string>:3\u001b[1;36m\u001b[0m\n\u001b[1;33m    ch = 'b'\u001b[0m\n\u001b[1;37m            ^\u001b[0m\n\u001b[1;31mIndentationError\u001b[0m\u001b[1;31m:\u001b[0m unindent does not match any outer indentation level\n"
     ]
    }
   ],
   "source": [
    "def display_list(L, base):\n",
    "    if base == 2:\n",
    " ch = 'b'\n",
    "elif base == 8:\n",
    "ch = 'o'\n",
    " elif base == 16:\n",
    "ch = 'X'\n",
    " else:\n",
    "ch = 'd'\n",
    " for n in L:\n",
    "     print(f\"{n:{ch}}\", end=' ')\n",
    " print()\n",
    "\n",
    "numbers = [134, 2567, 366, 521, 689]\n",
    "display_list(numbers, 10)\n",
    "display_list(numbers, 2)\n",
    "display_list(numbers, 8)\n",
    "display_list(numbers, 16)"
   ]
  },
  {
   "cell_type": "markdown",
   "id": "fb5ad38c-c309-4002-9fe0-4c923d0322fc",
   "metadata": {},
   "source": [
    "No type checking of arguments"
   ]
  },
  {
   "cell_type": "code",
   "execution_count": 33,
   "id": "d57e2ea6-5c6f-4f76-948f-03259b1518a3",
   "metadata": {},
   "outputs": [
    {
     "name": "stdout",
     "output_type": "stream",
     "text": [
      "9.7\n",
      "SpongeBob\n",
      "[1, 2, 3, 4, 5, 6]\n"
     ]
    }
   ],
   "source": [
    "add(2.1, 7.6)\n",
    "add('Sponge', 'Bob')\n",
    "add([1, 2, 3], [4, 5, 6])"
   ]
  },
  {
   "cell_type": "code",
   "execution_count": 34,
   "id": "bf9b17ae-12d5-4485-80fc-b97ddf38f7ad",
   "metadata": {},
   "outputs": [
    {
     "ename": "TypeError",
     "evalue": "can only concatenate list (not \"int\") to list",
     "output_type": "error",
     "traceback": [
      "\u001b[1;31m---------------------------------------------------------------------------\u001b[0m",
      "\u001b[1;31mTypeError\u001b[0m                                 Traceback (most recent call last)",
      "Cell \u001b[1;32mIn[34], line 1\u001b[0m\n\u001b[1;32m----> 1\u001b[0m add([\u001b[38;5;241m1\u001b[39m,\u001b[38;5;241m2\u001b[39m,\u001b[38;5;241m3\u001b[39m], \u001b[38;5;241m7\u001b[39m)\n",
      "Cell \u001b[1;32mIn[19], line 2\u001b[0m, in \u001b[0;36madd\u001b[1;34m(a, b)\u001b[0m\n\u001b[0;32m      1\u001b[0m \u001b[38;5;28;01mdef\u001b[39;00m \u001b[38;5;21madd\u001b[39m(a, b):\n\u001b[1;32m----> 2\u001b[0m  \u001b[38;5;28mprint\u001b[39m(a \u001b[38;5;241m+\u001b[39m b)\n",
      "\u001b[1;31mTypeError\u001b[0m: can only concatenate list (not \"int\") to list"
     ]
    }
   ],
   "source": [
    "add([1,2,3], 7) # Error"
   ]
  },
  {
   "cell_type": "markdown",
   "id": "e3416acd-7e50-48b9-a74b-192498b0416d",
   "metadata": {},
   "source": [
    "Local Variables"
   ]
  },
  {
   "cell_type": "code",
   "execution_count": 42,
   "id": "d8e269a2-9270-42d7-a3f6-ad7a326294cf",
   "metadata": {},
   "outputs": [
    {
     "ename": "NameError",
     "evalue": "name 'a' is not defined",
     "output_type": "error",
     "traceback": [
      "\u001b[1;31m---------------------------------------------------------------------------\u001b[0m",
      "\u001b[1;31mNameError\u001b[0m                                 Traceback (most recent call last)",
      "Cell \u001b[1;32mIn[42], line 3\u001b[0m\n\u001b[0;32m      1\u001b[0m \u001b[38;5;28;01mdef\u001b[39;00m \u001b[38;5;21msummation\u001b[39m(a, b):\n\u001b[0;32m      2\u001b[0m     s \u001b[38;5;241m=\u001b[39m \u001b[38;5;241m0\u001b[39m\n\u001b[1;32m----> 3\u001b[0m \u001b[38;5;28;01mfor\u001b[39;00m i \u001b[38;5;129;01min\u001b[39;00m \u001b[38;5;28mrange\u001b[39m(a, b \u001b[38;5;241m+\u001b[39m \u001b[38;5;241m1\u001b[39m):\n\u001b[0;32m      4\u001b[0m     s \u001b[38;5;241m+\u001b[39m\u001b[38;5;241m=\u001b[39m i\n\u001b[0;32m      5\u001b[0m \u001b[38;5;28mprint\u001b[39m(s)\n",
      "\u001b[1;31mNameError\u001b[0m: name 'a' is not defined"
     ]
    }
   ],
   "source": [
    "def summation(a, b):\n",
    "    s = 0\n",
    "for i in range(a, b + 1):\n",
    "    s += i\n",
    "print(s)"
   ]
  },
  {
   "cell_type": "code",
   "execution_count": 43,
   "id": "f8fa47d2-538c-4041-8184-1a936c46466a",
   "metadata": {},
   "outputs": [],
   "source": [
    "def add(a, b):\n",
    " s = a + b\n",
    " print(s)"
   ]
  },
  {
   "cell_type": "markdown",
   "id": "62b3f466-7a7b-4c63-979a-7af584ffab2e",
   "metadata": {},
   "source": [
    "Return statements"
   ]
  },
  {
   "cell_type": "code",
   "execution_count": 44,
   "id": "f3a5bd7e-01a5-4812-9fc2-8e4e9a744001",
   "metadata": {},
   "outputs": [
    {
     "name": "stdout",
     "output_type": "stream",
     "text": [
      "Simple interest is 400.0\n"
     ]
    }
   ],
   "source": [
    "def simple_interest(p, r, t):\n",
    " si = (p * r * t) / 100\n",
    " print(f'Simple interest is {si}')\n",
    "principal = 2000\n",
    "rate = 5\n",
    "time = 4\n",
    "simple_interest(principal, rate, time)"
   ]
  },
  {
   "cell_type": "code",
   "execution_count": 45,
   "id": "175cfb2d-20ea-4c4d-b0c8-5913573360e3",
   "metadata": {},
   "outputs": [
    {
     "ename": "NameError",
     "evalue": "name 'interest' is not defined",
     "output_type": "error",
     "traceback": [
      "\u001b[1;31m---------------------------------------------------------------------------\u001b[0m",
      "\u001b[1;31mNameError\u001b[0m                                 Traceback (most recent call last)",
      "Cell \u001b[1;32mIn[45], line 1\u001b[0m\n\u001b[1;32m----> 1\u001b[0m amount \u001b[38;5;241m=\u001b[39m principal \u001b[38;5;241m+\u001b[39m interest\n",
      "\u001b[1;31mNameError\u001b[0m: name 'interest' is not defined"
     ]
    }
   ],
   "source": [
    "amount = principal + interest"
   ]
  },
  {
   "cell_type": "code",
   "execution_count": 46,
   "id": "f6a0cd82-823e-468e-a516-3dd23432cd77",
   "metadata": {},
   "outputs": [
    {
     "ename": "NameError",
     "evalue": "name 'si' is not defined",
     "output_type": "error",
     "traceback": [
      "\u001b[1;31m---------------------------------------------------------------------------\u001b[0m",
      "\u001b[1;31mNameError\u001b[0m                                 Traceback (most recent call last)",
      "Cell \u001b[1;32mIn[46], line 1\u001b[0m\n\u001b[1;32m----> 1\u001b[0m amount \u001b[38;5;241m=\u001b[39m principal \u001b[38;5;241m+\u001b[39m si\n",
      "\u001b[1;31mNameError\u001b[0m: name 'si' is not defined"
     ]
    }
   ],
   "source": [
    "amount = principal + si # Can't use name si  outside the function"
   ]
  },
  {
   "cell_type": "code",
   "execution_count": 51,
   "id": "21a86ffa-f547-4106-a15d-2a1cecc3aa7d",
   "metadata": {},
   "outputs": [
    {
     "name": "stdout",
     "output_type": "stream",
     "text": [
      "Simple interest is 400.0\n",
      "Amount is 2400.0\n"
     ]
    }
   ],
   "source": [
    "def simple_interest(p, r, t):\n",
    "    si = (p * r * t) / 100\n",
    "    return si\n",
    "principal = 2000\n",
    "rate = 5\n",
    "time = 4\n",
    "interest = simple_interest(principal, rate, time)\n",
    "amount = principal + interest\n",
    "print(f'Simple interest is {interest}')\n",
    "print(f'Amount is {amount}')"
   ]
  },
  {
   "cell_type": "code",
   "execution_count": 53,
   "id": "e884ee2c-5f90-4bc3-b478-0f2934e8da59",
   "metadata": {},
   "outputs": [],
   "source": [
    "def calculate(a, b):\n",
    " print(a + b)\n",
    " print(a - b)\n",
    " print(a * b)"
   ]
  },
  {
   "cell_type": "code",
   "execution_count": 55,
   "id": "3f14e3d9-a6f4-407e-849f-f7f9a78a0f98",
   "metadata": {},
   "outputs": [],
   "source": [
    "def compare(a, b):\n",
    " if a > b:\n",
    "     return 1\n",
    " elif a < b:\n",
    "     return -1\n",
    " else:\n",
    "     return 0"
   ]
  },
  {
   "cell_type": "code",
   "execution_count": 56,
   "id": "e1483466-f5a0-4481-bb9f-5fe50ecb604e",
   "metadata": {},
   "outputs": [],
   "source": [
    "def square(x):\n",
    "    return x * x\n",
    "def add(x, y):\n",
    "    return x + y\n",
    "s = square(4)"
   ]
  },
  {
   "cell_type": "code",
   "execution_count": 57,
   "id": "fa357c6a-1149-4ba8-9c26-6b47e6ce03d1",
   "metadata": {},
   "outputs": [
    {
     "ename": "NameError",
     "evalue": "name 'a' is not defined",
     "output_type": "error",
     "traceback": [
      "\u001b[1;31m---------------------------------------------------------------------------\u001b[0m",
      "\u001b[1;31mNameError\u001b[0m                                 Traceback (most recent call last)",
      "Cell \u001b[1;32mIn[57], line 1\u001b[0m\n\u001b[1;32m----> 1\u001b[0m x \u001b[38;5;241m=\u001b[39m square(a) \u001b[38;5;241m*\u001b[39m \u001b[38;5;241m10\u001b[39m \u001b[38;5;241m+\u001b[39m b\n\u001b[0;32m      2\u001b[0m \u001b[38;5;28;01mif\u001b[39;00m \u001b[38;5;241m100\u001b[39m \u001b[38;5;241m<\u001b[39m square(x) \u001b[38;5;241m<\u001b[39m \u001b[38;5;241m500\u001b[39m:\n\u001b[0;32m      3\u001b[0m     \u001b[38;5;28mprint\u001b[39m(\u001b[38;5;124m'\u001b[39m\u001b[38;5;124mDo something\u001b[39m\u001b[38;5;124m'\u001b[39m)\n",
      "\u001b[1;31mNameError\u001b[0m: name 'a' is not defined"
     ]
    }
   ],
   "source": [
    "x = square(a) * 10 + b\n",
    "if 100 < square(x) < 500:\n",
    "    print('Do something')\n",
    "if add(a, b) > add(c, d):\n",
    "    print('Do something')\n",
    "p = add(square(a), square(b))\n",
    "r = square(add(a, b))\n",
    "print(square(a))"
   ]
  },
  {
   "cell_type": "code",
   "execution_count": 60,
   "id": "dffc3571-da44-419d-b473-3924c8b89a2c",
   "metadata": {},
   "outputs": [
    {
     "name": "stdout",
     "output_type": "stream",
     "text": [
      "49\n"
     ]
    }
   ],
   "source": [
    "def square(x):\n",
    "    return x * x\n",
    "def func(a, b):\n",
    "    x = a + b\n",
    "    return square(x)\n",
    "z = func(3, 4)\n",
    "print(z)"
   ]
  },
  {
   "cell_type": "code",
   "execution_count": 64,
   "id": "3179e118-8d99-4ae7-8024-50e11fba04cb",
   "metadata": {},
   "outputs": [
    {
     "name": "stdout",
     "output_type": "stream",
     "text": [
      "230 76.66666666666667\n",
      "Pass\n",
      "212 70.66666666666667\n"
     ]
    },
    {
     "data": {
      "text/plain": [
       "'Pass'"
      ]
     },
     "execution_count": 64,
     "metadata": {},
     "output_type": "execute_result"
    }
   ],
   "source": [
    "def result(marks1, marks2, marks3):\n",
    "    total = marks1 + marks2 + marks3\n",
    "    percentage = total / 3\n",
    "    print(total, percentage)\n",
    "    return 'Pass' if total > 100 else 'Fail'\n",
    "r = result(88, 96, 46) # return value used\n",
    "print(r)\n",
    "result(78, 45, 89) # return value ignored"
   ]
  },
  {
   "cell_type": "code",
   "execution_count": 74,
   "id": "915c39c3-ecc0-426d-a067-5f179fb57967",
   "metadata": {},
   "outputs": [
    {
     "ename": "IndentationError",
     "evalue": "unindent does not match any outer indentation level (<string>, line 10)",
     "output_type": "error",
     "traceback": [
      "\u001b[1;36m  File \u001b[1;32m<string>:10\u001b[1;36m\u001b[0m\n\u001b[1;33m    else:\u001b[0m\n\u001b[1;37m         ^\u001b[0m\n\u001b[1;31mIndentationError\u001b[0m\u001b[1;31m:\u001b[0m unindent does not match any outer indentation level\n"
     ]
    }
   ],
   "source": [
    "def is_divisible(a, b):\n",
    " if a % b == 0:\n",
    "     return True\n",
    " else:\n",
    "     return False\n",
    "def is_prime(n):\n",
    "    for i in range(2, n):\n",
    "        if n % i == 0:\n",
    "            return False\n",
    " else:\n",
    "return True"
   ]
  },
  {
   "cell_type": "code",
   "execution_count": 75,
   "id": "7ee529a1-f1e4-4439-a02c-2458d9934855",
   "metadata": {},
   "outputs": [],
   "source": [
    "def is_valid(age):\n",
    " if not age.isdigit():\n",
    "     return False\n",
    " age = int(age)\n",
    " if age <= 18 or age >= 75:\n",
    "     return False\n",
    "     return True"
   ]
  },
  {
   "cell_type": "code",
   "execution_count": null,
   "id": "27fb7a5f-3361-4077-99f7-999d2c50c0a9",
   "metadata": {},
   "outputs": [],
   "source": [
    "age = input('Enter age : ')\n",
    "while not is_valid(age):\n",
    "    age = input('Enter age : ')\n",
    "print(f'Age is {age}')"
   ]
  },
  {
   "cell_type": "code",
   "execution_count": null,
   "id": "cbfed58d-292e-4845-abb0-e32f61f339af",
   "metadata": {},
   "outputs": [],
   "source": [
    "def func(a, b):\n",
    "    s = a + b\n",
    "    return s\n",
    "p = func(5, 6)"
   ]
  },
  {
   "cell_type": "code",
   "execution_count": null,
   "id": "d60b6343-ad21-456a-a0d1-b4277209f868",
   "metadata": {},
   "outputs": [],
   "source": [
    "y = func(2,7) * 10"
   ]
  },
  {
   "cell_type": "markdown",
   "id": "c547e77b-7dde-4e0e-ab7a-b9674035677f",
   "metadata": {},
   "source": [
    "Returning multiple values"
   ]
  },
  {
   "cell_type": "code",
   "execution_count": null,
   "id": "049e835c-8ad7-4e26-9a7f-90f705d25b46",
   "metadata": {},
   "outputs": [],
   "source": [
    "def func(a, b):\n",
    " s = a + b\n",
    " d = a - b\n",
    " p = a * b\n",
    " return (s, d, p)\n",
    "t = func(4, 5)\n",
    "sum, difference, product = func(4, 5)\n",
    "print(t, sum, difference, product)"
   ]
  },
  {
   "cell_type": "code",
   "execution_count": null,
   "id": "95a8fedd-5b94-464b-b86c-b1d0b3b06d83",
   "metadata": {},
   "outputs": [],
   "source": [
    "def func(a, b):\n",
    " s = a + b\n",
    " d = a - b\n",
    " p = a * b\n",
    " return s, d, p"
   ]
  },
  {
   "cell_type": "code",
   "execution_count": null,
   "id": "4f603c5b-2ad8-47ea-ab3d-21dce8c5ec5b",
   "metadata": {},
   "outputs": [],
   "source": [
    "def func(a, b):\n",
    " return a + b, a - b, a * b"
   ]
  },
  {
   "cell_type": "code",
   "execution_count": null,
   "id": "c2e85187-c89b-46cb-ac6d-03c818438bda",
   "metadata": {},
   "outputs": [],
   "source": [
    "def func(text):\n",
    " up = low = dig = 0\n",
    " for ch in text:\n",
    " if ch.isupper():\n",
    " up += 1\n",
    " elif ch.islower():\n",
    " low += 1\n",
    " elif ch.isdigit():\n",
    " dig += 1\n",
    " return up, low, dig\n",
    "uppers, lowers, digits = func('Fall down 7 times,\n",
    "Stand up 8')\n",
    "print(f'Uppercase : {uppers}, Lowercase : {lowers},\n",
    "Digits : {digits}')\n",
    "t = func('Fall down 7 times, Stand up 8')\n",
    "print(t)"
   ]
  },
  {
   "cell_type": "code",
   "execution_count": null,
   "id": "d9a5b9f7-1c4b-4052-8af9-cca714925717",
   "metadata": {},
   "outputs": [],
   "source": [
    "def max_min_avg(L):\n",
    " return max(L), min(L), sum(L) / len(L)\n",
    "marks = [92, 76, 98, 67, 88, 92, 89]\n",
    "maxmarks, minmarks, avgmarks = max_min_avg(marks)\n",
    "annual_rain = [11, 2, 23, 11, 9, 2, 1, 23, 13, 3,\n",
    "12, 20]\n",
    "max_rain, min_rain, avg_rain =\n",
    "max_min_avg(annual_rain)\n",
    "print(maxmarks, minmarks, avgmarks)\n",
    "print(max_rain, min_rain, avg_rain)"
   ]
  },
  {
   "cell_type": "code",
   "execution_count": null,
   "id": "4eb1d717-2173-4a12-a023-3387a44de1aa",
   "metadata": {},
   "outputs": [],
   "source": [
    "q, r = divmod(11, 3)"
   ]
  },
  {
   "cell_type": "markdown",
   "id": "64c722b5-e4e9-4b62-b831-6e1674c9233f",
   "metadata": {},
   "source": [
    "Why study arguments passing"
   ]
  },
  {
   "cell_type": "code",
   "execution_count": null,
   "id": "a0e271f4-8e86-4e24-8db9-a8b293658b01",
   "metadata": {},
   "outputs": [],
   "source": [
    "def func(x, y):\n",
    "a = 4\n",
    "my_list = [3, 4]\n",
    "func(2, [6, 7]) # literals as arguments\n",
    "func(a, my_list) # variables as arguments\n",
    "print(a, my_list)"
   ]
  },
  {
   "cell_type": "markdown",
   "id": "730cca3b-8125-49da-842d-c5b712854fa8",
   "metadata": {},
   "source": [
    "Pass by arguments"
   ]
  },
  {
   "cell_type": "code",
   "execution_count": null,
   "id": "b9be97ab-0633-404c-be76-d221a301ab6d",
   "metadata": {},
   "outputs": [],
   "source": [
    "def func(x, y):\n",
    " print(x, y)\n",
    "func(3, [1, 2, 3])"
   ]
  },
  {
   "cell_type": "code",
   "execution_count": null,
   "id": "6cabfff2-915a-4091-adba-bdf00e624326",
   "metadata": {},
   "outputs": [],
   "source": [
    "x = 3\n",
    "y = [1, 2, 3] "
   ]
  },
  {
   "cell_type": "code",
   "execution_count": null,
   "id": "da095e24-fe59-45b1-b072-7ea5c22f060a",
   "metadata": {},
   "outputs": [],
   "source": [
    "def func(x, y):\n",
    " print(x, y)\n",
    "num = 2\n",
    "my_list = [1, 2, 3] \n",
    "func(num, my_list)"
   ]
  },
  {
   "cell_type": "code",
   "execution_count": null,
   "id": "3cab7117-ff84-43dd-b418-1b2393eab48e",
   "metadata": {},
   "outputs": [],
   "source": [
    "x = num\n",
    "y = my_list"
   ]
  },
  {
   "cell_type": "markdown",
   "id": "fe3b4920-4e24-475a-9ae0-ddd1036cf6b6",
   "metadata": {},
   "source": [
    "Assignment inside functions rebounds the parameters name"
   ]
  },
  {
   "cell_type": "code",
   "execution_count": null,
   "id": "7aab3753-1818-4ad2-9194-f94fd0c13319",
   "metadata": {},
   "outputs": [],
   "source": [
    "def func(x, y):\n",
    " print(f'x : {x}, y : {y}')\n",
    " x = 0\n",
    " y = []\n",
    " print(f'x : {x}, y : {y}')\n",
    "num = 2\n",
    "my_list = [1, 2, 3]\n",
    "func(num, my_list)\n",
    "print(f'num : {num}, my_list : {my_list}')"
   ]
  },
  {
   "cell_type": "markdown",
   "id": "266cfb1b-20bf-4859-bed2-2e1ef601fe45",
   "metadata": {},
   "source": [
    "Immutables vs mutables as arguments"
   ]
  },
  {
   "cell_type": "code",
   "execution_count": null,
   "id": "d319a759-96a6-4d06-81f9-fd8681a9d245",
   "metadata": {},
   "outputs": [],
   "source": [
    "def func(y):\n",
    " y.append(4)\n",
    "my_list = [1, 2, 3]\n",
    "func(my_list)\n",
    "print(my_list))"
   ]
  },
  {
   "cell_type": "code",
   "execution_count": null,
   "id": "fdd23a5a-c3fc-4de2-bf26-295e281d7672",
   "metadata": {},
   "outputs": [],
   "source": [
    "def func(x):\n",
    " x *= 2 # Rebinding\n",
    "num = 10\n",
    "func(num)\n",
    "print(num)"
   ]
  },
  {
   "cell_type": "code",
   "execution_count": null,
   "id": "0007d117-147c-4a54-9319-449abca0a9fb",
   "metadata": {},
   "outputs": [],
   "source": [
    "def double(data):\n",
    " for i in range(len(data)):\n",
    " data[i] *= 2\n",
    "x = [1, 2, 3, 4]\n",
    "double(x)\n",
    "print(x)"
   ]
  },
  {
   "cell_type": "code",
   "execution_count": null,
   "id": "85ed5d7b-f804-434e-af39-1dba382eb4c0",
   "metadata": {},
   "outputs": [],
   "source": [
    "data = {}\n",
    "def enter_data(d):\n",
    " while True:\n",
    " id = input('Enter id (0 to quit): ')\n",
    " if id == '0':\n",
    " break\n",
    " name = input('Enter name : ')\n",
    " d[id] = name\n",
    "enter_data(data)\n",
    "print(data)"
   ]
  },
  {
   "cell_type": "markdown",
   "id": "4408d30d-87d4-419e-b24a-0856620865d7",
   "metadata": {},
   "source": [
    "How to get the changed value of an immutable type"
   ]
  },
  {
   "cell_type": "code",
   "execution_count": null,
   "id": "b465087d-e45c-4976-8e7e-345928afde37",
   "metadata": {},
   "outputs": [],
   "source": [
    "def triple(x):\n",
    " x *= 3\n",
    " return x\n",
    "num = 4\n",
    "num = triple(num)\n",
    "print(num)"
   ]
  },
  {
   "cell_type": "code",
   "execution_count": null,
   "id": "db296a0a-4fe3-4ba4-b113-f39cdbe9bdbc",
   "metadata": {},
   "outputs": [],
   "source": [
    "s = 'hello'\n",
    "s = s.upper()"
   ]
  },
  {
   "cell_type": "code",
   "execution_count": null,
   "id": "8b8ceaab-2725-475d-b31b-091cc43495bc",
   "metadata": {},
   "outputs": [],
   "source": [
    "def func(x, y, z):\n",
    " x = 100 - x\n",
    " y *= 2\n",
    " z += 5\n",
    " return x, y, z\n",
    "n1 = 2\n",
    "n2 = 3\n",
    "n3 = 4\n",
    "n1, n2, n3 = func(n1, n2, n3)\n",
    "print(n1, n2, n3)"
   ]
  },
  {
   "cell_type": "markdown",
   "id": "575e2d17-285d-40a6-97ee-81de5f66babf",
   "metadata": {},
   "source": [
    "How to prevent change in mutable types"
   ]
  },
  {
   "cell_type": "code",
   "execution_count": null,
   "id": "b84a3856-6b43-4198-ae29-688083427b1e",
   "metadata": {},
   "outputs": [],
   "source": [
    "def sum_of_squares(L):\n",
    " s = 0\n",
    " for n in L:\n",
    " s += n * n\n",
    " return s\n",
    "numbers = [1, 2, 3, 5, 6]\n",
    "s = sum_of_squares(numbers)\n",
    "print('Sum of squares =', s)\n",
    "print(numbers)"
   ]
  },
  {
   "cell_type": "code",
   "execution_count": null,
   "id": "c0cc3d95-ee47-4d30-845c-72a21a2351ee",
   "metadata": {},
   "outputs": [],
   "source": [
    "def sum_of_squares(L):\n",
    " for i in range(len(L)):\n",
    " L[i] *= L[i]\n",
    " return sum(L)\n",
    "s = sum_of_squares(numbers)\n",
    "print('Sum of squares =', s)\n",
    "print(numbers)"
   ]
  },
  {
   "cell_type": "code",
   "execution_count": null,
   "id": "36f94593-afc3-4825-bfe4-4e82d7c39726",
   "metadata": {},
   "outputs": [],
   "source": [
    "s = sum_of_squares(numbers[:])"
   ]
  },
  {
   "cell_type": "markdown",
   "id": "35f9bd26-7837-48ed-a012-43b44928c332",
   "metadata": {},
   "source": [
    "Default arguments"
   ]
  },
  {
   "cell_type": "code",
   "execution_count": null,
   "id": "732b1ea0-9eef-4bf7-b8e5-920e7c9b34c9",
   "metadata": {},
   "outputs": [],
   "source": [
    "def func(a, b=5):\n",
    " print(a, b)"
   ]
  },
  {
   "cell_type": "code",
   "execution_count": null,
   "id": "3316f7af-a717-4c69-b734-3ab581fe37db",
   "metadata": {},
   "outputs": [],
   "source": [
    "func(10, 2)\n",
    "func(10)"
   ]
  },
  {
   "cell_type": "code",
   "execution_count": null,
   "id": "931ee84d-db09-4e1d-ba7b-c12f7603e33b",
   "metadata": {},
   "outputs": [],
   "source": [
    "def simple_interest(principal, time, rate=5):\n",
    " return (principal * rate * time) / 100\n",
    "s1 = simple_interest(1000, 4, 7)\n",
    "s2 = simple_interest(1000, 4)"
   ]
  },
  {
   "cell_type": "code",
   "execution_count": null,
   "id": "f7cb14a3-7349-45e8-aeb6-157633379151",
   "metadata": {},
   "outputs": [],
   "source": [
    "def simple_interest(principal, time=2, rate=5):\n",
    " return (principal * rate * time) / 100\n",
    "s1 = simple_interest(1000, 4, 7)\n",
    "s2 = simple_interest(1000, 4)\n",
    "s3 = simple_interest(1000)"
   ]
  },
  {
   "cell_type": "code",
   "execution_count": null,
   "id": "f52156de-6793-4b58-b235-f91d8e4ffd52",
   "metadata": {},
   "outputs": [],
   "source": [
    "return (principal * rate * time) / 100"
   ]
  },
  {
   "cell_type": "code",
   "execution_count": null,
   "id": "7336cdf3-2e3d-42df-ba84-9c795feb1a8c",
   "metadata": {},
   "outputs": [],
   "source": [
    "return (principal * rate * time) / 100"
   ]
  },
  {
   "cell_type": "code",
   "execution_count": null,
   "id": "498b7f7b-e987-433a-abeb-d75a42cd4c39",
   "metadata": {},
   "outputs": [],
   "source": [
    "def display_line():\n",
    " print('-' * 30)\n",
    "display_line()"
   ]
  },
  {
   "cell_type": "code",
   "execution_count": null,
   "id": "260a6879-08ec-4ee1-adcf-4f4c50104a17",
   "metadata": {},
   "outputs": [],
   "source": [
    "def display_line(character='-'):\n",
    " print(character * 30)"
   ]
  },
  {
   "cell_type": "code",
   "execution_count": null,
   "id": "aaf91def-a4b7-46c5-a8dd-21f43af8fc1e",
   "metadata": {},
   "outputs": [],
   "source": [
    "display_line('%')\n",
    "display_line('*')\n",
    "display_line()"
   ]
  },
  {
   "cell_type": "code",
   "execution_count": null,
   "id": "1ed6e108-93b8-47fc-a564-670b35efcd6e",
   "metadata": {},
   "outputs": [],
   "source": [
    "def display_line(character='-', length=30):\n",
    " print(character * length)\n",
    "display_line('%', 20)\n",
    "display_line('*', 50)\n",
    "display_line('*')\n",
    "display_line()"
   ]
  },
  {
   "cell_type": "code",
   "execution_count": null,
   "id": "57b6bb3d-cb48-4d7f-a61e-cd256eadc430",
   "metadata": {},
   "outputs": [],
   "source": [
    "numbers = [134, 2567, 366, 521, 689]\n",
    "def display_list(L, base=10):\n",
    " if base == 2:\n",
    " ch = 'b'\n",
    " elif base == 8:\n",
    " ch = 'o'\n",
    " elif base == 16:\n",
    " ch = 'X'\n",
    " else:\n",
    " ch = 'd'\n",
    " for n in L:\n",
    " print(f'{n:{ch}}', end=' ')\n",
    " print()\n",
    "display_list(numbers)\n",
    "display_list(numbers, 8)\n",
    "display_list(numbers, 16)"
   ]
  },
  {
   "cell_type": "code",
   "execution_count": null,
   "id": "0fbf2e00-448e-47b1-8ac4-7abe15f2d6d2",
   "metadata": {},
   "outputs": [],
   "source": [
    "def result(total, sports=None, arts=None):\n",
    " print('Total marks = ', total)\n",
    " if sports is not None:\n",
    " print('Sports Grade', sports)\n",
    " if arts is not None:\n",
    " print('Arts Grade', arts)\n",
    "result(98, 'A')\n",
    "result(78, 'B', 'C')\n",
    "result(88)"
   ]
  },
  {
   "cell_type": "markdown",
   "id": "09ecae95-ae0f-4fe8-b713-500bc84ee883",
   "metadata": {},
   "source": [
    "Default Arguments that could change over time"
   ]
  },
  {
   "cell_type": "code",
   "execution_count": null,
   "id": "603e04e0-0cb5-423f-b77d-d2f87bde8346",
   "metadata": {},
   "outputs": [],
   "source": [
    "d = 6\n",
    "def func(p = d):\n",
    " print(p)\n",
    "func() # default argument used for parameter p\n",
    "func(80) # 80 used as argument for parameter p\n",
    "d = 100\n",
    "func() # default argument used for parameter p\n",
    "d += 20\n",
    "func() # default argument used for parameter p"
   ]
  },
  {
   "cell_type": "code",
   "execution_count": null,
   "id": "653f95ba-b1cd-4e4e-ad95-73b4e4da0ce9",
   "metadata": {},
   "outputs": [],
   "source": [
    "from time import sleep\n",
    "from datetime import datetime\n",
    "def log(information='Everything Ok…',\n",
    "time=datetime.now()):\n",
    " print(information, time)\n",
    "log('Some problem...', '16:59:49')\n",
    "log()\n",
    "sleep(2)\n",
    "log('Another Problem…')\n",
    "sleep(3)\n",
    "log()"
   ]
  },
  {
   "cell_type": "code",
   "execution_count": null,
   "id": "0a3dcfb4-06ae-495e-bf68-85f858a43151",
   "metadata": {},
   "outputs": [],
   "source": [
    "def func(a, L=[]):\n",
    " L.append(a)\n",
    " print(L)\n",
    "func(10, [1, 2, 3])\n",
    "func(8, [5, 6])\n",
    "func(9)\n",
    "func('Hello')\n",
    "func(100)"
   ]
  },
  {
   "cell_type": "code",
   "execution_count": null,
   "id": "d9074fb8-7ab6-40f9-94ad-e1049a81d81c",
   "metadata": {},
   "outputs": [],
   "source": [
    "# old function\n",
    "def func(a, L=[]):\n",
    " L.append(a)\n",
    " print(L)\n",
    "# modified function\n",
    "def func(a, L=None):\n",
    " if L is None:\n",
    " L = []\n",
    " L.append(a)\n",
    " print(L)"
   ]
  },
  {
   "cell_type": "code",
   "execution_count": null,
   "id": "391b2292-e38f-4e82-9078-89cc4e64748c",
   "metadata": {},
   "outputs": [],
   "source": [
    "#old function\n",
    "def log(information='Everything Ok…',\n",
    "time=datetime.now()):\n",
    " print(information, time)\n",
    "#modified function\n",
    "def log(information='Everything Ok…', time=None):\n",
    " if time is None:\n",
    " time = datetime.now()\n",
    " print(information, time)"
   ]
  },
  {
   "cell_type": "code",
   "execution_count": null,
   "id": "c154ad9d-c87f-40ad-916c-2f8990408fea",
   "metadata": {},
   "outputs": [],
   "source": [
    "#old function\n",
    "def func(p = d):\n",
    " print(p)\n",
    "#modified function\n",
    "def func(p=None):\n",
    " if p is None:\n",
    " p = d\n",
    " print(p, end = ' ')"
   ]
  },
  {
   "cell_type": "markdown",
   "id": "72a92644-a507-475c-95a5-ee4a364f93f1",
   "metadata": {},
   "source": [
    "Positional and Keywords Arguments"
   ]
  },
  {
   "cell_type": "code",
   "execution_count": null,
   "id": "74a84155-ad24-4f14-9161-cbc7a1a53739",
   "metadata": {},
   "outputs": [],
   "source": [
    "def func(name, title, salary):\n",
    " print(f'{name} is a {title} and gets {salary}')\n",
    "func('Nick', 'manager', 5000)"
   ]
  },
  {
   "cell_type": "code",
   "execution_count": null,
   "id": "a15f0f11-939a-431f-b02b-9ef9bab61ab1",
   "metadata": {},
   "outputs": [],
   "source": [
    "func(title='manager', salary=5000, name='Nick') \n",
    "func(title='manager', name='Nick', salary=5000)"
   ]
  },
  {
   "cell_type": "code",
   "execution_count": null,
   "id": "57955d07-5f97-46ea-82fe-4d3102989dbd",
   "metadata": {},
   "outputs": [],
   "source": [
    "func('Nick', salary=5000, title='manager') \n",
    "func('Nick', 'manager', salary=5000) "
   ]
  },
  {
   "cell_type": "code",
   "execution_count": null,
   "id": "5da19707-0dba-4aa4-86d0-6c4f738efad6",
   "metadata": {},
   "outputs": [],
   "source": [
    "func(name='Nick', 'manager', 5000)"
   ]
  },
  {
   "cell_type": "code",
   "execution_count": null,
   "id": "dd6d3532-a69f-4d50-a2c9-20d102a53ad0",
   "metadata": {},
   "outputs": [],
   "source": [
    "def func(name, title='developer', salary=3000):\n",
    " print(f'{name} is a {title} and gets {salary}')"
   ]
  },
  {
   "cell_type": "code",
   "execution_count": null,
   "id": "8bbf0b81-0dfe-4842-9aa4-34d80724dce3",
   "metadata": {},
   "outputs": [],
   "source": [
    "func('Mark') \n",
    "func('Mark', 'programmer')\n",
    "func('Mark', 'programmer', 4000) "
   ]
  },
  {
   "cell_type": "code",
   "execution_count": null,
   "id": "2501e8c0-d491-4a81-881d-1d073c1f0508",
   "metadata": {},
   "outputs": [],
   "source": [
    "func(name='Mark') \n",
    "func(name='Mark', title='programmer') \n",
    "func(name='Mark', title='programmer', salary=4000) "
   ]
  },
  {
   "cell_type": "code",
   "execution_count": null,
   "id": "5634a833-c163-4ab9-862b-cbdfd5108ef6",
   "metadata": {},
   "outputs": [],
   "source": [
    "volume_cylinder(10, 12)\n",
    "calc_interest(20000, 5, 6):\n",
    "volume_cylinder(radius=10, height=12)\n",
    "calc_interest(20000, time=5, rate=6):"
   ]
  },
  {
   "cell_type": "code",
   "execution_count": null,
   "id": "1a7b9835-b1e4-4b82-a16d-a9c315193ec1",
   "metadata": {},
   "outputs": [],
   "source": [
    "calc_interest(20000, time=5, rate=6)\n",
    "calc_interest(20000, rate=6, time=5)"
   ]
  },
  {
   "cell_type": "code",
   "execution_count": null,
   "id": "a201d3a8-4119-4ec0-8c52-5fcfd6b0d42d",
   "metadata": {},
   "outputs": [],
   "source": [
    "def func(name, title='developer', salary=3000):\n",
    " print(f'{name} is a {title} and gets {salary}')"
   ]
  },
  {
   "cell_type": "code",
   "execution_count": null,
   "id": "2df9945e-fb43-4b82-b7a5-497e39635089",
   "metadata": {},
   "outputs": [],
   "source": [
    "func('Nick', 6000)"
   ]
  },
  {
   "cell_type": "code",
   "execution_count": null,
   "id": "69305ad0-13b7-481e-9409-3c5c5bdef0f3",
   "metadata": {},
   "outputs": [],
   "source": [
    "func('Nick', 'developer', 6000)"
   ]
  },
  {
   "cell_type": "code",
   "execution_count": null,
   "id": "f622d431-cf4e-4cf9-90c3-5b2687a9a9da",
   "metadata": {},
   "outputs": [],
   "source": [
    "func('Nick', salary=6000)"
   ]
  },
  {
   "cell_type": "code",
   "execution_count": null,
   "id": "9fb36f3f-4c32-4f1c-b1e1-e7e84b94876c",
   "metadata": {},
   "outputs": [],
   "source": [
    "def func(a, b, c=2, d=5, e=8, f=True, g=False):\n",
    " pass"
   ]
  },
  {
   "cell_type": "code",
   "execution_count": null,
   "id": "f6ec4c35-c6ad-4321-96ab-dc439d300168",
   "metadata": {},
   "outputs": [],
   "source": [
    "func(12, 24, 2, 500, 8, True, True)"
   ]
  },
  {
   "cell_type": "code",
   "execution_count": null,
   "id": "db6cbb55-89b6-4cd7-b8c5-9fe71b6ec7bb",
   "metadata": {},
   "outputs": [],
   "source": [
    "func(12, 24, d=500, g=True)"
   ]
  },
  {
   "cell_type": "code",
   "execution_count": null,
   "id": "aba43d66-f299-4ae5-8c25-0c65c8bd61dd",
   "metadata": {},
   "outputs": [],
   "source": [
    "def volume_cylinder(radius, height):\n",
    " return 3.14 * radius * radius * height\n",
    "print(volume_cylinder(5, 20))\n",
    "print(volume_cylinder(radius=5, height=20))\n",
    "print(volume_cylinder(height=20, radius=5))"
   ]
  },
  {
   "cell_type": "code",
   "execution_count": null,
   "id": "05071758-ba9b-415f-ad38-256b74fe825d",
   "metadata": {},
   "outputs": [],
   "source": [
    "def display_line(character='-', length=30):\n",
    " print(character * length)"
   ]
  },
  {
   "cell_type": "code",
   "execution_count": null,
   "id": "df8f9033-3ccb-4079-b214-94f634a3dd03",
   "metadata": {},
   "outputs": [],
   "source": [
    "display_line(40)"
   ]
  },
  {
   "cell_type": "code",
   "execution_count": null,
   "id": "e2e2cd58-f4f8-4f7a-ac46-f97a955de62e",
   "metadata": {},
   "outputs": [],
   "source": [
    "display_line('-', 40)"
   ]
  },
  {
   "cell_type": "code",
   "execution_count": null,
   "id": "bccb4598-ce4c-4370-b459-976b21e9b7fa",
   "metadata": {},
   "outputs": [],
   "source": [
    "display_line(length=40)"
   ]
  },
  {
   "cell_type": "code",
   "execution_count": null,
   "id": "ce4ba148-78f7-41c7-b30c-1e3f02b02497",
   "metadata": {},
   "outputs": [],
   "source": [
    "numbers = [12, -1, 3, 6, 8, 9, 38, -3, 34, -4]\n",
    "def display(L, negative=True, odd=True):\n",
    " for n in L:\n",
    " if n < 0 and negative == False:\n",
    " continue\n",
    " if n % 2 != 0 and odd == False:\n",
    " continue\n",
    " print(n, end=' ')\n",
    " print()"
   ]
  },
  {
   "cell_type": "code",
   "execution_count": null,
   "id": "136902a6-6cd5-460e-8610-4cb916c15830",
   "metadata": {},
   "outputs": [],
   "source": [
    "display(numbers)\n",
    "display(numbers, False)\n",
    "display(numbers, False, True)\n",
    "display(numbers, True, False)"
   ]
  },
  {
   "cell_type": "code",
   "execution_count": null,
   "id": "3c815522-5389-46ae-9961-c1eb4cdfd4a2",
   "metadata": {},
   "outputs": [],
   "source": [
    "display(numbers, odd=False)\n",
    "display(numbers, negative=False)\n",
    "display(numbers, negative=False, odd=False)"
   ]
  },
  {
   "cell_type": "markdown",
   "id": "56ea899e-fb81-4d41-b897-ec42f39617aa",
   "metadata": {},
   "source": [
    "Unpacking Arguments"
   ]
  },
  {
   "cell_type": "code",
   "execution_count": null,
   "id": "0694d213-24b5-48da-b7b7-927d60ba87de",
   "metadata": {},
   "outputs": [],
   "source": [
    "def result(m1, m2, m3, m4):\n",
    " total = m1 + m2 + m3 + m4\n",
    " per = total / 4\n",
    " print(f'Total Marks = {total}, percentage=\n",
    "{per:.2f}%')\n",
    " print('Pass' if per > 40 else 'Fail')\n",
    "result(56, 89, 77, 67)"
   ]
  },
  {
   "cell_type": "code",
   "execution_count": null,
   "id": "0d583815-1e22-434f-a1f1-c8210ba3858b",
   "metadata": {},
   "outputs": [],
   "source": [
    "marks = [93, 34, 54, 67]"
   ]
  },
  {
   "cell_type": "code",
   "execution_count": null,
   "id": "e5ed651b-eb41-43dc-9d40-e33ec9c07672",
   "metadata": {},
   "outputs": [],
   "source": [
    "result(marks[0], marks[1], marks[2], marks[3]) "
   ]
  },
  {
   "cell_type": "code",
   "execution_count": null,
   "id": "b492d128-e6ac-49ba-8a27-d66b50ca550f",
   "metadata": {},
   "outputs": [],
   "source": [
    "result(*marks)"
   ]
  },
  {
   "cell_type": "code",
   "execution_count": null,
   "id": "e66b9dd0-b8fd-4ff6-bef0-8d9ece0b5fb9",
   "metadata": {},
   "outputs": [],
   "source": [
    "result(marks) #Error"
   ]
  },
  {
   "cell_type": "code",
   "execution_count": null,
   "id": "247ff86f-4ba8-4a90-847f-aaf7e29f577d",
   "metadata": {},
   "outputs": [],
   "source": [
    "marks = [93, 34, 54, 67, 56, 89]\n",
    "result(*marks) "
   ]
  },
  {
   "cell_type": "code",
   "execution_count": null,
   "id": "5c4241f6-0ca3-4c8a-924d-2ecc7555de0c",
   "metadata": {},
   "outputs": [],
   "source": [
    "marks = [93, 34, 54, 67, 56, 89]\n",
    "result(*marks[:4])"
   ]
  },
  {
   "cell_type": "code",
   "execution_count": null,
   "id": "b9116e79-0502-4a8f-9288-479702ec4d1d",
   "metadata": {},
   "outputs": [],
   "source": [
    "marks = [93, 34, 54, 67, 56, 89]\n",
    "print(marks)"
   ]
  },
  {
   "cell_type": "code",
   "execution_count": null,
   "id": "81586ef7-bdb6-4feb-90f4-313bf7b8c290",
   "metadata": {},
   "outputs": [],
   "source": [
    "print(*marks)"
   ]
  },
  {
   "cell_type": "code",
   "execution_count": null,
   "id": "cbbc5de0-ce05-4c2b-9770-5989de1c31f6",
   "metadata": {},
   "outputs": [],
   "source": [
    "marks2 = {'m1': 93, 'm2': 34, 'm3': 54, 'm4': 67}\n",
    "def result(m1, m2, m3, m4):\n",
    " total = m1 + m2 + m3 + m4\n",
    " per = total / 4\n",
    " print(f'Total Marks = {total}, percentage=\n",
    "{per:.2f}%')\n",
    " print('Pass' if per > 40 else 'Fail')\n",
    "result(**marks2)"
   ]
  },
  {
   "cell_type": "markdown",
   "id": "8b88be6a-29d7-4c2d-85d2-6181e54fb807",
   "metadata": {},
   "source": [
    "Variable numbers of positional arguments"
   ]
  },
  {
   "cell_type": "code",
   "execution_count": null,
   "id": "d1bb3f95-1be2-4a1c-bd46-56b2ef92fc2a",
   "metadata": {},
   "outputs": [],
   "source": [
    "print(1, 2, 3)\n",
    "print(L, d, x, y, z)\n",
    "print('Hello', 'world')\n",
    "print(x) "
   ]
  },
  {
   "cell_type": "code",
   "execution_count": null,
   "id": "bf56f174-347a-4487-80d3-b85577dfde60",
   "metadata": {},
   "outputs": [],
   "source": [
    "def result(m1, m2, m3, m4):\n",
    " total = m1 + m2 + m3 + m4\n",
    " per = total / 4\n",
    " print(f'Total Marks = {total}, percentage={per:.2f}%')\n",
    " print('Pass' if per > 40 else 'Fail')"
   ]
  },
  {
   "cell_type": "code",
   "execution_count": null,
   "id": "e73ec369-1d19-45f7-88d7-44c70f838d61",
   "metadata": {},
   "outputs": [],
   "source": [
    "result(45, 78, 99) # Error\n",
    "result(45, 78, 99, 77, 88) # Error"
   ]
  },
  {
   "cell_type": "code",
   "execution_count": null,
   "id": "4d02811d-d20d-487e-9047-130def21dc0f",
   "metadata": {},
   "outputs": [],
   "source": [
    "def result(*args):\n",
    "total = sum(args)"
   ]
  },
  {
   "cell_type": "code",
   "execution_count": null,
   "id": "2e9bf494-0795-4b8e-8a9a-8ecdb0fea7dc",
   "metadata": {},
   "outputs": [],
   "source": [
    "per = total / len(args)"
   ]
  },
  {
   "cell_type": "code",
   "execution_count": null,
   "id": "43942366-8e09-4682-be37-eb8513b2c946",
   "metadata": {},
   "outputs": [],
   "source": [
    "def result(*args):\n",
    " print(args)\n",
    " total = sum(args)\n",
    " per = total / len(args)\n",
    " print(f'Total Marks = {total}, percentage={per:.2f}%')\n",
    " print('Pass' if per > 40 else 'Fail')\n",
    "result(23, 89, 77, 67, 89, 90)\n",
    "result(67, 83, 68)\n",
    "result(89)"
   ]
  },
  {
   "cell_type": "code",
   "execution_count": null,
   "id": "0e169559-cd72-45d2-b898-1a0e30a07bf4",
   "metadata": {},
   "outputs": [],
   "source": [
    "def result(name, standard, *args):\n",
    " print(name, standard)\n",
    " print(args)\n",
    " total = sum(args)\n",
    " per = total / len(args)\n",
    " print(f'Total Marks = {total}, percentage=\n",
    "{per:.2f}%')\n",
    " print('Pass' if per > 40 else 'Fail')\n",
    "result('Anu', 'VI', 34, 66, 88, 99, 344)\n",
    "result('Dev', 'V', 99, 344)"
   ]
  },
  {
   "cell_type": "code",
   "execution_count": null,
   "id": "cf18f9da-e04e-4233-a8a0-956d898d49a0",
   "metadata": {},
   "outputs": [],
   "source": [
    "marks1 = [23, 45, 67]\n",
    "marks2 = [23, 45, 67, 89, 88, 99]\n",
    "marks3 = [56, 77, 88, 22, 77]"
   ]
  },
  {
   "cell_type": "code",
   "execution_count": null,
   "id": "139f2cde-b6f6-4f6e-bfa6-6bccef7702be",
   "metadata": {},
   "outputs": [],
   "source": [
    "result('Anu', 'VI', *marks1)"
   ]
  },
  {
   "cell_type": "code",
   "execution_count": null,
   "id": "86930955-668c-4854-bdac-25ed71f0b61f",
   "metadata": {},
   "outputs": [],
   "source": [
    "result('Anu', 'VI', 23, 45, 67)"
   ]
  },
  {
   "cell_type": "code",
   "execution_count": null,
   "id": "3a3bb8e5-642a-43b5-8c85-286b6e75423d",
   "metadata": {},
   "outputs": [],
   "source": [
    "result('Anu', 'VI', *marks2) # Sending a list of 6 elements\n",
    "result('Anu', 'VI', *marks3) # Sending a list of 5 elements"
   ]
  },
  {
   "cell_type": "code",
   "execution_count": null,
   "id": "4cab1b54-8bcd-47a1-bfaa-b75628e18a19",
   "metadata": {},
   "outputs": [],
   "source": [
    "def average(*args):\n",
    " return sum(args) / len(args)"
   ]
  },
  {
   "cell_type": "code",
   "execution_count": null,
   "id": "956790a1-f259-46c0-b0e6-638e1756a945",
   "metadata": {},
   "outputs": [],
   "source": [
    "a1 = average(9, 2, 1)\n",
    "a2 = average(3, 5, 6, 7, 8)"
   ]
  },
  {
   "cell_type": "code",
   "execution_count": null,
   "id": "aeed776f-fe71-4a57-817c-057ab90cb401",
   "metadata": {},
   "outputs": [],
   "source": [
    "L = [1, 5, 7, 8, 0, 4, 2, 8, 5]\n",
    "a3 = average(*L)"
   ]
  },
  {
   "cell_type": "code",
   "execution_count": null,
   "id": "b429a3f4-5b14-43fb-9b86-ec6c216c01e9",
   "metadata": {},
   "outputs": [],
   "source": [
    "d = {'John': 23, 'Ted': 25, 'Sam': 27, 'Nick': 21}\n",
    "a4 = average(*d.values())"
   ]
  },
  {
   "cell_type": "markdown",
   "id": "9401b589-6b64-4d03-b2b1-55915d8b7c48",
   "metadata": {},
   "source": [
    "Variables numbers of keyword arguments"
   ]
  },
  {
   "cell_type": "code",
   "execution_count": null,
   "id": "7320560c-15ae-404d-83c6-1a2a84a16364",
   "metadata": {},
   "outputs": [],
   "source": [
    "def func(**kwargs):\n",
    " for x, y in kwargs.items():\n",
    " print(x, y)"
   ]
  },
  {
   "cell_type": "code",
   "execution_count": null,
   "id": "e72b02db-c236-4275-bfb0-de9487a523a4",
   "metadata": {},
   "outputs": [],
   "source": [
    "func(1, 3, 2) # TypeError: func() takes 0 positional arguments but 3 were given"
   ]
  },
  {
   "cell_type": "code",
   "execution_count": null,
   "id": "ab52c7bb-282f-4bd7-867b-20e95540dbdb",
   "metadata": {},
   "outputs": [],
   "source": [
    "func(a=1, b=2, c=3)"
   ]
  },
  {
   "cell_type": "code",
   "execution_count": null,
   "id": "19566a52-659c-4aa7-a8cf-444096f853a3",
   "metadata": {},
   "outputs": [],
   "source": [
    "func(a=1, b=2, c=3, d=4, e=5, f=6)"
   ]
  },
  {
   "cell_type": "code",
   "execution_count": null,
   "id": "dd59c704-08c5-435d-8337-0d832e45c4e0",
   "metadata": {},
   "outputs": [],
   "source": [
    "mydict = {'a': 1, 'b': 2, 'c': 3}"
   ]
  },
  {
   "cell_type": "code",
   "execution_count": null,
   "id": "b2c64763-8307-4f1e-a85f-2f4cdeccc77e",
   "metadata": {},
   "outputs": [],
   "source": [
    "func(**mydict)"
   ]
  },
  {
   "cell_type": "code",
   "execution_count": null,
   "id": "8c054fc3-f80b-4e26-ac27-e33ebcbd156c",
   "metadata": {},
   "outputs": [],
   "source": [
    "func(a=1, b=2, c=3)"
   ]
  },
  {
   "cell_type": "code",
   "execution_count": null,
   "id": "06159327-192e-4e2c-911b-f5372ad712a2",
   "metadata": {},
   "outputs": [],
   "source": [
    "def result(name, standard, *args):\n",
    "total = sum(args)\n",
    "per = total / len(args)\n",
    "print(name,standard,args)\n",
    "print(f'Total Marks = {total}, percentage=\n",
    "{per:.2f}%')\n",
    "print('Pass' if per > 40 else 'Fail')"
   ]
  },
  {
   "cell_type": "code",
   "execution_count": null,
   "id": "5fd4558a-379a-455e-a3cb-a162f457e38c",
   "metadata": {},
   "outputs": [],
   "source": [
    "def result(name, standard, **kwargs):\n",
    "total = sum(kwargs.values())\n",
    "per = total / len(kwargs)\n",
    "print(name, standard, kwargs)\n",
    "print(f'Total Marks = {total}, percentage=\n",
    "{per:.2f}%')\n",
    "print('Pass' if per > 40 else 'Fail')"
   ]
  },
  {
   "cell_type": "code",
   "execution_count": null,
   "id": "b3620b0d-c2a4-4324-8f94-81e83dc9f181",
   "metadata": {},
   "outputs": [],
   "source": [
    "result('Amit', 'VI', physics=89, maths=45)\n",
    "result('Anuj', 'V', physics=89, maths=45,\n",
    "chemistry=90, history=87)"
   ]
  },
  {
   "cell_type": "code",
   "execution_count": null,
   "id": "af8169d5-3543-444d-bef1-4cfbff4ff026",
   "metadata": {},
   "outputs": [],
   "source": [
    "marks = {'Physics': 78, 'Maths': 34, 'Chemistry':89}"
   ]
  },
  {
   "cell_type": "code",
   "execution_count": null,
   "id": "7d7a804e-4a20-4820-a513-f3c4f6588c7c",
   "metadata": {},
   "outputs": [],
   "source": [
    "result('Amit', 'VI', **marks)"
   ]
  },
  {
   "cell_type": "code",
   "execution_count": null,
   "id": "9735bc08-0cd2-4677-bb61-1036265036e0",
   "metadata": {},
   "outputs": [],
   "source": [
    "marks1 = {'Physics': 78, 'Maths': 34, 'Chemistry': 89, 'History': 89, 'Geography': 99}\n",
    "result('Amit', 'VI', **marks1)"
   ]
  },
  {
   "cell_type": "markdown",
   "id": "e817bc2c-52a1-4697-a1df-da5e4009b1e1",
   "metadata": {},
   "source": [
    "Keyword-only Arguments"
   ]
  },
  {
   "cell_type": "code",
   "execution_count": null,
   "id": "2c483ae3-8e06-4c83-9de4-6f96e221ace1",
   "metadata": {},
   "outputs": [],
   "source": [
    "def func(a, b, *args, c, d):\n",
    " print(a, b, args, c, d)"
   ]
  },
  {
   "cell_type": "code",
   "execution_count": null,
   "id": "97319754-f688-4403-b26d-5fd1796a0991",
   "metadata": {},
   "outputs": [],
   "source": [
    "func(2, 3, 6, 7, 8, 9, c=100, d=200)"
   ]
  },
  {
   "cell_type": "code",
   "execution_count": null,
   "id": "dc40f532-ecf5-4c40-96c4-927296dbdd52",
   "metadata": {},
   "outputs": [],
   "source": [
    "func(2, 3, 6, 7, 8, 9, 100, 200)"
   ]
  },
  {
   "cell_type": "code",
   "execution_count": null,
   "id": "76694765-aee1-4dea-ba4a-a4332ff7a03d",
   "metadata": {},
   "outputs": [],
   "source": [
    "def func(a, b, *, c, d):\n",
    " print(a, b, c, d)"
   ]
  },
  {
   "cell_type": "code",
   "execution_count": null,
   "id": "20df8dbb-a345-4763-8369-fcaa2be6c626",
   "metadata": {},
   "outputs": [],
   "source": [
    "def func(*, a, b, c, d):\n",
    " print(a, b, c, d)"
   ]
  },
  {
   "cell_type": "code",
   "execution_count": null,
   "id": "50425d1a-2a09-45cf-a8d2-bb9bf2d81be2",
   "metadata": {},
   "outputs": [],
   "source": [
    "def display(L, negative=True, odd=True):\n",
    " for n in L:\n",
    " if n < 0 and negative is False:\n",
    " continue\n",
    " if n % 2 != 0 and odd is False:\n",
    " continue\n",
    " print(n, end=' ')\n",
    " print()\n",
    "numbers = [12, -1, 3, 6, 8, 9, 38, -3, 34, -4]\n",
    "display(numbers, True, False)\n",
    "display(numbers, False)\n",
    "display(numbers, odd=False)\n",
    "display(numbers, negative=False)\n",
    "display(numbers, negative=False, odd=False)"
   ]
  },
  {
   "cell_type": "code",
   "execution_count": null,
   "id": "caba8031-c56e-42a6-acc6-de6e745ca0d9",
   "metadata": {},
   "outputs": [],
   "source": [
    "def display(numbers, *, negative=True, odd=True):\n",
    "    display(numbers, True, False)"
   ]
  },
  {
   "cell_type": "code",
   "execution_count": null,
   "id": "4682db61-58ee-4bb3-8713-a88eab204423",
   "metadata": {},
   "outputs": [],
   "source": [
    "display(numbers, negative=False)\n",
    "display(numbers, negative=False, odd=False)"
   ]
  },
  {
   "cell_type": "code",
   "execution_count": null,
   "id": "416a8f97-a2f7-4a95-9150-7e6c9258e3ed",
   "metadata": {},
   "outputs": [],
   "source": [
    "print(1, 2, 3, 4, sep='-', end=';')"
   ]
  },
  {
   "cell_type": "code",
   "execution_count": null,
   "id": "707b06b9-a337-45b4-a339-c48734a34791",
   "metadata": {},
   "outputs": [],
   "source": [
    "Max(1, -2, 3, 6, -9, key=abs)"
   ]
  },
  {
   "cell_type": "markdown",
   "id": "1c0ad012-8128-4848-a418-1c9b0e8f917f",
   "metadata": {},
   "source": [
    "Positional-only arguments"
   ]
  },
  {
   "cell_type": "code",
   "execution_count": null,
   "id": "389a7bd7-5b2e-4c46-93cf-83e8e4106d83",
   "metadata": {},
   "outputs": [],
   "source": [
    "def func(a, b, /, x, y):\n",
    " print(a, b, x, y)"
   ]
  },
  {
   "cell_type": "code",
   "execution_count": null,
   "id": "eb860ecb-187c-4fd2-8fb9-8454c7b98664",
   "metadata": {},
   "outputs": [],
   "source": [
    "func(1, 2, 3, 5) # correct\n",
    "func(1, 2, 3, y=5) # correct\n",
    "func(1, b=2, x=3, y=4)"
   ]
  },
  {
   "cell_type": "code",
   "execution_count": null,
   "id": "b2e76450-017a-4c57-8b9d-ebdf56ced9be",
   "metadata": {},
   "outputs": [],
   "source": [
    "func(a=1, b=2, x=3, y=4)"
   ]
  },
  {
   "cell_type": "code",
   "execution_count": null,
   "id": "8630166e-4458-46d4-8374-ed63ee17c7ac",
   "metadata": {},
   "outputs": [],
   "source": [
    "help(len)"
   ]
  },
  {
   "cell_type": "code",
   "execution_count": null,
   "id": "7b6f46f6-f772-4ea1-85a8-cddcad5a1c0c",
   "metadata": {},
   "outputs": [],
   "source": [
    "len(obj = [1,2,3,4])"
   ]
  },
  {
   "cell_type": "code",
   "execution_count": null,
   "id": "d74195aa-a54a-4946-a864-7c5efceeb370",
   "metadata": {},
   "outputs": [],
   "source": [
    "def func(a,b, /, c,d, *, e,f);\n",
    " pass"
   ]
  },
  {
   "cell_type": "code",
   "execution_count": null,
   "id": "663667f4-7770-40a5-80e1-dbad5002fc15",
   "metadata": {},
   "outputs": [],
   "source": [
    "help(sorted)"
   ]
  },
  {
   "cell_type": "markdown",
   "id": "a79d8533-a6b2-4331-a0ef-58071ff9a29e",
   "metadata": {},
   "source": [
    "Multiple Unpackings in a python functional call"
   ]
  },
  {
   "cell_type": "code",
   "execution_count": null,
   "id": "7c308ee5-6615-49eb-a32d-1ccf9a4d557c",
   "metadata": {},
   "outputs": [],
   "source": [
    "def average(*args):\n",
    " print(args)\n",
    " return sum(args) / len(args)\n",
    "x = {98, 23, 85, 56, 12}\n",
    "y = (48, 98)\n",
    "z = [67, 89, 43, 78]\n",
    "print(average(*x, *y, *z))"
   ]
  },
  {
   "cell_type": "code",
   "execution_count": null,
   "id": "b793209b-ebfb-4124-956c-df29ed2f744e",
   "metadata": {},
   "outputs": [],
   "source": [
    "def result(name, standard, **kwargs):\n",
    " total = sum(kwargs.values())\n",
    " per = total / len(kwargs)\n",
    " print(name,standard,kwargs)\n",
    " print(f'Total Marks = {total}, percentage=\n",
    "{per}%')\n",
    " print('Pass' if per > 40 else 'Fail')\n",
    "marks1 = {'Physics':78, 'Maths':34, 'Chemistry':89}\n",
    "marks2 = {'History':89, 'Geography':99}\n",
    "result('Amit', 'VI', **marks1, **marks2)"
   ]
  },
  {
   "cell_type": "markdown",
   "id": "13e17666-f98e-46c5-bea1-5782bb72fe91",
   "metadata": {},
   "source": [
    "Function objects"
   ]
  },
  {
   "cell_type": "code",
   "execution_count": null,
   "id": "4a8f11d1-b01e-43ed-9e1b-c36649083932",
   "metadata": {},
   "outputs": [],
   "source": [
    "def func(a, b):\n",
    "    print(a + b)"
   ]
  },
  {
   "cell_type": "code",
   "execution_count": null,
   "id": "8910753a-0e8f-424a-8260-0b4ba09392cb",
   "metadata": {},
   "outputs": [],
   "source": [
    "type(func)"
   ]
  },
  {
   "cell_type": "code",
   "execution_count": null,
   "id": "285a596b-7349-4ebd-ad80-ee5a386a5697",
   "metadata": {},
   "outputs": [],
   "source": [
    "id(func)"
   ]
  },
  {
   "cell_type": "code",
   "execution_count": null,
   "id": "77b7fa36-deeb-43c3-a4bc-ea84dea9107e",
   "metadata": {},
   "outputs": [],
   "source": [
    "func = 2\n",
    "func"
   ]
  },
  {
   "cell_type": "code",
   "execution_count": null,
   "id": "59549460-8c3a-4e60-9d9f-73d883e5fe4d",
   "metadata": {},
   "outputs": [],
   "source": [
    "func()"
   ]
  },
  {
   "cell_type": "code",
   "execution_count": null,
   "id": "df56c43f-4214-44e5-8469-ea1e1a7cb3ad",
   "metadata": {},
   "outputs": [],
   "source": [
    "def func(a, b):\n",
    "    print(a + b)\n",
    "func"
   ]
  },
  {
   "cell_type": "code",
   "execution_count": null,
   "id": "17917b44-1ab4-4598-9fed-7a7e07db85e2",
   "metadata": {},
   "outputs": [],
   "source": [
    "add = func"
   ]
  },
  {
   "cell_type": "code",
   "execution_count": null,
   "id": "de0f9811-63d0-4540-a57a-714f9cea5214",
   "metadata": {},
   "outputs": [],
   "source": [
    "add"
   ]
  },
  {
   "cell_type": "code",
   "execution_count": null,
   "id": "b2451065-d762-4e22-89db-1d52c02bb254",
   "metadata": {},
   "outputs": [],
   "source": [
    "add(4, 5)"
   ]
  },
  {
   "cell_type": "code",
   "execution_count": null,
   "id": "17d4dbf3-f9f1-4427-81e6-600044c96d33",
   "metadata": {},
   "outputs": [],
   "source": [
    "func(4, 5)"
   ]
  },
  {
   "cell_type": "code",
   "execution_count": null,
   "id": "5612f443-a93b-4ce9-8ce7-ae4d60c2e27c",
   "metadata": {},
   "outputs": [],
   "source": [
    "def subtract(a, b):\n",
    "    print(a - b)\n",
    "    \n",
    "def add(a, b):\n",
    "    print(a + b)\n",
    "\n",
    "def multiply(a, b):\n",
    "    print(a * b)\n",
    "\n",
    "def divide(a, b):\n",
    "    print(a // b)"
   ]
  },
  {
   "cell_type": "code",
   "execution_count": null,
   "id": "07cac692-d352-408d-b180-23ce22dff856",
   "metadata": {},
   "outputs": [],
   "source": [
    "functions = [add, subtract, multiply, divide]\n",
    "for function in functions:\n",
    "    function(3, 4)"
   ]
  },
  {
   "cell_type": "code",
   "execution_count": null,
   "id": "cef36303-39a7-4dbd-aed4-4a65ec91017a",
   "metadata": {},
   "outputs": [],
   "source": [
    "def calculate(fn, a1, a2):\n",
    "    fn(a1, a2)"
   ]
  },
  {
   "cell_type": "code",
   "execution_count": null,
   "id": "9b8840ec-439d-47fb-9b52-31f5e55dff59",
   "metadata": {},
   "outputs": [],
   "source": [
    "calculate(add, 5, 2)"
   ]
  },
  {
   "cell_type": "code",
   "execution_count": null,
   "id": "ef6f5f26-bffa-444d-84a6-afc979c368ba",
   "metadata": {},
   "outputs": [],
   "source": [
    "calculate(subtract, 5, 2)"
   ]
  },
  {
   "cell_type": "code",
   "execution_count": null,
   "id": "cdd51952-6f9a-487d-b7df-3a0ffbb625e6",
   "metadata": {},
   "outputs": [],
   "source": [
    "def calculate(a1, a2, fn=add):\n",
    "    return fn(a1, a2)"
   ]
  },
  {
   "cell_type": "code",
   "execution_count": null,
   "id": "7cda443d-f525-4b43-9aa4-dbf9d182d17d",
   "metadata": {},
   "outputs": [],
   "source": [
    "def calculate(a1, a2, fn=add):\n",
    "   return fn(a1, a2)\n",
    "\n",
    "calculate(1, 2)\n",
    "\n",
    "calculate(1, 2, multiply)"
   ]
  },
  {
   "cell_type": "code",
   "execution_count": null,
   "id": "0576d488-22ef-42a7-88bd-8cafe5c388b7",
   "metadata": {},
   "outputs": [],
   "source": [
    "min(-5, 2, -34, key=abs)"
   ]
  },
  {
   "cell_type": "code",
   "execution_count": null,
   "id": "a1a355cb-ef0b-44a5-9c88-f529fca0e105",
   "metadata": {},
   "outputs": [],
   "source": [
    "def absolute(n):\n",
    "    return -n if n < 0 else n"
   ]
  },
  {
   "cell_type": "code",
   "execution_count": null,
   "id": "e20fcb7b-ffdc-4195-97f2-738752179d74",
   "metadata": {},
   "outputs": [],
   "source": [
    "min(5, 2, -34, key=absolute)"
   ]
  },
  {
   "cell_type": "code",
   "execution_count": null,
   "id": "f49c5d6f-f719-4820-82d1-d6e749196b53",
   "metadata": {},
   "outputs": [],
   "source": [
    "def func(x):\n",
    "    if x < 0 :\n",
    "        def fn():\n",
    " print('Hello')\n",
    "\n",
    " elif x > 0:\n",
    "def fn():\n",
    "    print('Hi')\n",
    "\n",
    " else:\n",
    "def fn():\n",
    "    print('Hey')\n",
    "return fn"
   ]
  },
  {
   "cell_type": "code",
   "execution_count": null,
   "id": "e1f05115-44c2-424d-b996-138aee15ecce",
   "metadata": {},
   "outputs": [],
   "source": [
    "f = func(6)\n",
    "f()"
   ]
  },
  {
   "cell_type": "code",
   "execution_count": null,
   "id": "f9e2fdb0-aeb1-4f33-a9c5-7b6459fdbe3d",
   "metadata": {},
   "outputs": [],
   "source": [
    "def func(x):\n",
    "    if x < 0 :\n",
    "        def fn():\n",
    "        print('Hello')\n",
    "elif x > 0:\n",
    "def fn():\n",
    "print('Hi')\n",
    "\n",
    "else:\n",
    "def fn():\n",
    "  print('Hey')\n",
    "return fn()\n",
    "\n",
    "f = func(6)\n",
    "print(f)"
   ]
  },
  {
   "cell_type": "markdown",
   "id": "8b0ea006-65c7-4cc3-8dea-31d08120edbe",
   "metadata": {},
   "source": [
    "Attributes of a Function"
   ]
  },
  {
   "cell_type": "code",
   "execution_count": null,
   "id": "5b8b01af-ac1d-489a-8b82-87f5b4319295",
   "metadata": {},
   "outputs": [],
   "source": [
    "def func(a, b, c=1, d=2):\n",
    "    print(a, b, c, d)\n",
    "dir(func)"
   ]
  },
  {
   "cell_type": "code",
   "execution_count": null,
   "id": "ea66a745-33cf-4cc6-9bb7-86095afcf7dd",
   "metadata": {},
   "outputs": [],
   "source": [
    "func.__name__\n",
    "fn = func\n",
    "fn.__name__"
   ]
  },
  {
   "cell_type": "code",
   "execution_count": null,
   "id": "673bf37f-f66e-4123-9c1f-fe31a671e074",
   "metadata": {},
   "outputs": [],
   "source": [
    "func.__module__"
   ]
  },
  {
   "cell_type": "code",
   "execution_count": null,
   "id": "f1e9c10a-00b4-44a9-92f8-0eb7b4c03f0c",
   "metadata": {},
   "outputs": [],
   "source": [
    "from math import floor\n",
    "floor.__module__"
   ]
  },
  {
   "cell_type": "code",
   "execution_count": null,
   "id": "5f41618b-6ca4-4364-a531-92318c01ff1b",
   "metadata": {},
   "outputs": [],
   "source": [
    "func.__defaults__"
   ]
  },
  {
   "cell_type": "code",
   "execution_count": null,
   "id": "08546f47-fb72-4c70-b6f8-692ec5dfb62c",
   "metadata": {},
   "outputs": [],
   "source": [
    "func.author = 'Ted'\n",
    "func.creation_date = '9 Nov 2022'"
   ]
  },
  {
   "cell_type": "code",
   "execution_count": null,
   "id": "e7096146-e19e-4445-bf89-5c35de3a256d",
   "metadata": {},
   "outputs": [],
   "source": [
    "func.creation_date"
   ]
  },
  {
   "cell_type": "code",
   "execution_count": null,
   "id": "9c8ceb93-b9e5-4c00-8773-dbebcdebab61",
   "metadata": {},
   "outputs": [],
   "source": [
    "getattr(func, '__name__' )"
   ]
  },
  {
   "cell_type": "code",
   "execution_count": null,
   "id": "d1fbf1f2-0ae1-4911-ad6d-e3504a47f0ca",
   "metadata": {},
   "outputs": [],
   "source": [
    "getattr(func, '__module__' )"
   ]
  },
  {
   "cell_type": "code",
   "execution_count": null,
   "id": "13a11623-aaf2-4519-abec-0af1caa5acf4",
   "metadata": {},
   "outputs": [],
   "source": [
    "def show_attributes(fn):\n",
    " attributes = ['__annotations__',\n",
    "'__defaults__', '__module__', '__name__', \n",
    "'__repr__', '__sizeof__', '__str__']\n",
    " for attribute in attributes:\n",
    " print(attribute, '->', getattr(fn,\n",
    "attribute))\n",
    " print()"
   ]
  },
  {
   "cell_type": "code",
   "execution_count": null,
   "id": "e6836b89-db6b-428b-96ea-a2737a032362",
   "metadata": {},
   "outputs": [],
   "source": [
    "show_attributes(func)\n",
    "show_attributes(divide)"
   ]
  },
  {
   "cell_type": "code",
   "execution_count": null,
   "id": "880b1e1e-6e4c-40cc-8bb1-a476be731e23",
   "metadata": {},
   "outputs": [],
   "source": [
    "def add(a, b):\n",
    " ''' Add the two numbers.\n",
    " Input: two numbers\n",
    " Return : sum \n",
    " '''\n",
    " s = a + b\n",
    " return s"
   ]
  },
  {
   "cell_type": "code",
   "execution_count": null,
   "id": "2927410e-35f9-453e-8cce-788350e55b0a",
   "metadata": {},
   "outputs": [],
   "source": [
    "help(add)"
   ]
  },
  {
   "cell_type": "code",
   "execution_count": null,
   "id": "5c36b8ec-0965-4dd0-99ee-3dd87cde7be0",
   "metadata": {},
   "outputs": [],
   "source": [
    "print(add.__doc__)"
   ]
  },
  {
   "cell_type": "markdown",
   "id": "df4e7b6c-3aae-460e-b377-d98cfcc753e2",
   "metadata": {},
   "source": [
    "Function Annotation"
   ]
  },
  {
   "cell_type": "code",
   "execution_count": null,
   "id": "3d117c71-2810-4630-9da2-7c4a87134ca7",
   "metadata": {},
   "outputs": [],
   "source": [
    "def func(s, i, j):\n",
    " return s[i:j]"
   ]
  },
  {
   "cell_type": "code",
   "execution_count": null,
   "id": "cfe7f866-7efc-41dc-8614-94479bb37a78",
   "metadata": {},
   "outputs": [],
   "source": [
    "def func(s:str, i:int, j:int) -> str:\n",
    " return s[i:j]"
   ]
  },
  {
   "cell_type": "code",
   "execution_count": null,
   "id": "fad4a954-080d-4b9b-a200-db0907d3d748",
   "metadata": {},
   "outputs": [],
   "source": [
    "def func(s:str, i:'int 0 to 5', j:int) -> str:\n",
    " return s[i:j]"
   ]
  },
  {
   "cell_type": "code",
   "execution_count": null,
   "id": "14358830-d204-4a20-999f-216fbf3faf58",
   "metadata": {},
   "outputs": [],
   "source": [
    "def func(s:str, i:'int 0 to 5'=0, j:int=3) -> str:\n",
    " return s[i:j]"
   ]
  },
  {
   "cell_type": "code",
   "execution_count": null,
   "id": "3b2120ba-b52a-4ce0-a653-ad2696f9e085",
   "metadata": {},
   "outputs": [],
   "source": [
    "func([1,2,3,4,5,6,7,8,9,10], 6, 8)"
   ]
  },
  {
   "cell_type": "code",
   "execution_count": null,
   "id": "7e45acc0-13be-4893-ad65-06814de328fb",
   "metadata": {},
   "outputs": [],
   "source": [
    "func.__annotations__"
   ]
  },
  {
   "cell_type": "code",
   "execution_count": null,
   "id": "0d255c1e-cc2c-430d-b85b-18babc781765",
   "metadata": {},
   "outputs": [],
   "source": [
    "help(func)"
   ]
  },
  {
   "cell_type": "markdown",
   "id": "86978b08-8866-49ef-8146-7a215c0638c8",
   "metadata": {},
   "source": [
    "Recursive Function"
   ]
  },
  {
   "cell_type": "code",
   "execution_count": null,
   "id": "f95f01a0-8d29-4511-a713-8662b4773c1c",
   "metadata": {},
   "outputs": [],
   "source": [
    "def fact(n):\n",
    " if n == 0:\n",
    " return 1\n",
    " else:\n",
    " return n * fact(n-1)\n",
    "print(fact(3), fact(7))"
   ]
  },
  {
   "cell_type": "code",
   "execution_count": null,
   "id": "c79c8fb7-ae4e-474e-9d86-65b7d5b4935a",
   "metadata": {},
   "outputs": [],
   "source": [
    "def sum_digits(n):\n",
    " if n//10 == 0: # n is a single digit number\n",
    " return n\n",
    " else:\n",
    " return n % 10 + sum_digits(n//10)\n",
    "print(sum_digits(5432))"
   ]
  },
  {
   "cell_type": "code",
   "execution_count": null,
   "id": "ab2fa043-cc10-4ca4-81fe-d2b045a93cc7",
   "metadata": {},
   "outputs": [],
   "source": [
    "def fib(n):\n",
    " if n == 0:\n",
    " return 1\n",
    " elif n == 1:\n",
    " return 1\n",
    " else:\n",
    " return fib(n - 1) + fib(n - 2)\n",
    "for i in range(10):\n",
    " print(fib(i), end=' ')"
   ]
  },
  {
   "cell_type": "code",
   "execution_count": null,
   "id": "86c04260-ac12-4d95-95f5-a8cb239917cc",
   "metadata": {},
   "outputs": [],
   "source": [
    "fact(99999)"
   ]
  },
  {
   "cell_type": "code",
   "execution_count": null,
   "id": "85992ae1-cecc-47c9-ac20-e5e7a26d6aff",
   "metadata": {},
   "outputs": [],
   "source": [
    "import sys\n",
    "sys.getrecursionlimit()"
   ]
  },
  {
   "cell_type": "code",
   "execution_count": null,
   "id": "66e56f95-2bdd-47ed-bf27-3c3e38164f1e",
   "metadata": {},
   "outputs": [],
   "source": [
    "sys.setrecursionlimit(1500)\n",
    "sys.getrecursionlimit()"
   ]
  },
  {
   "cell_type": "code",
   "execution_count": null,
   "id": "2e92684e-b00e-4f4f-8b87-1dfff0114a45",
   "metadata": {},
   "outputs": [],
   "source": []
  },
  {
   "cell_type": "code",
   "execution_count": null,
   "id": "10ec16c0-0c69-4d4f-9e81-2a12a153faca",
   "metadata": {},
   "outputs": [],
   "source": []
  },
  {
   "cell_type": "code",
   "execution_count": null,
   "id": "c4b31a8f-9d7e-48cf-a5a1-5f7ba27f1706",
   "metadata": {},
   "outputs": [],
   "source": []
  },
  {
   "cell_type": "code",
   "execution_count": null,
   "id": "eef0333e-f614-4304-b375-77722c497979",
   "metadata": {},
   "outputs": [],
   "source": []
  },
  {
   "cell_type": "code",
   "execution_count": null,
   "id": "a80d17ae-ae8f-47a3-af25-0d93948de6f4",
   "metadata": {},
   "outputs": [],
   "source": []
  },
  {
   "cell_type": "code",
   "execution_count": null,
   "id": "2269074e-d851-4c7a-8ce0-0866ed680016",
   "metadata": {},
   "outputs": [],
   "source": []
  },
  {
   "cell_type": "code",
   "execution_count": null,
   "id": "2b9bfc3e-17ea-4be6-ba4d-f17d3c70257a",
   "metadata": {},
   "outputs": [],
   "source": []
  },
  {
   "cell_type": "code",
   "execution_count": null,
   "id": "021e6b45-e82d-40fd-ba4b-be01d26b5436",
   "metadata": {},
   "outputs": [],
   "source": []
  },
  {
   "cell_type": "code",
   "execution_count": null,
   "id": "97e103bd-608e-4a8e-85e7-156c0ac807cf",
   "metadata": {},
   "outputs": [],
   "source": []
  },
  {
   "cell_type": "code",
   "execution_count": null,
   "id": "54b15e6e-fba6-4e84-be0b-875748097bcc",
   "metadata": {},
   "outputs": [],
   "source": []
  },
  {
   "cell_type": "code",
   "execution_count": null,
   "id": "48190947-8649-4bff-96ed-21cc450d344e",
   "metadata": {},
   "outputs": [],
   "source": []
  }
 ],
 "metadata": {
  "kernelspec": {
   "display_name": "Python 3 (ipykernel)",
   "language": "python",
   "name": "python3"
  },
  "language_info": {
   "codemirror_mode": {
    "name": "ipython",
    "version": 3
   },
   "file_extension": ".py",
   "mimetype": "text/x-python",
   "name": "python",
   "nbconvert_exporter": "python",
   "pygments_lexer": "ipython3",
   "version": "3.12.7"
  }
 },
 "nbformat": 4,
 "nbformat_minor": 5
}
