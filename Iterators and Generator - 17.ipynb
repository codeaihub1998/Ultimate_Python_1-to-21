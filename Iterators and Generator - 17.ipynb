{
 "cells": [
  {
   "cell_type": "code",
   "execution_count": null,
   "id": "cc58a9b7-80f4-422d-a301-f68dcb6c36d6",
   "metadata": {},
   "outputs": [],
   "source": [
    "L = [1, 2, 3]\n",
    "s = 'abc'\n",
    "d = {1: 'a', 2: 'b'}\n",
    "x = 200\n",
    "iter(L)"
   ]
  },
  {
   "cell_type": "code",
   "execution_count": null,
   "id": "352ba6f0-a270-46f2-a4c2-5e6179c421e4",
   "metadata": {},
   "outputs": [],
   "source": [
    "iter(s)"
   ]
  },
  {
   "cell_type": "code",
   "execution_count": null,
   "id": "53aa7509-e899-466a-a9ee-2e3fef6b264a",
   "metadata": {},
   "outputs": [],
   "source": [
    "iter(d)"
   ]
  },
  {
   "cell_type": "code",
   "execution_count": null,
   "id": "c371efc3-248a-45ff-9d69-3ee9e56e265a",
   "metadata": {},
   "outputs": [],
   "source": [
    "iter(x)"
   ]
  },
  {
   "cell_type": "code",
   "execution_count": null,
   "id": "c08b6bac-2bcb-4d8b-961a-d167a7575a56",
   "metadata": {},
   "outputs": [],
   "source": [
    "a = range(1, 10)\n",
    "iter(a)"
   ]
  },
  {
   "cell_type": "code",
   "execution_count": null,
   "id": "3c7e555c-afc4-4edb-9a7d-eeac2c0190c6",
   "metadata": {},
   "outputs": [],
   "source": [
    "L = [10, 20, 30, 40]\n",
    "it = iter(L)\n",
    "it"
   ]
  },
  {
   "cell_type": "code",
   "execution_count": null,
   "id": "40713941-8c29-40f9-ae74-343f267e32a5",
   "metadata": {},
   "outputs": [],
   "source": [
    "next(it)"
   ]
  },
  {
   "cell_type": "code",
   "execution_count": null,
   "id": "4f2de8cc-c136-4669-a157-487424564da5",
   "metadata": {},
   "outputs": [],
   "source": [
    "next(it)"
   ]
  },
  {
   "cell_type": "code",
   "execution_count": null,
   "id": "c0e754f4-14c3-42a6-ae39-0fd9b025e823",
   "metadata": {},
   "outputs": [],
   "source": [
    "next(it)"
   ]
  },
  {
   "cell_type": "code",
   "execution_count": null,
   "id": "617110a5-7108-4561-b14f-1d13b8d20081",
   "metadata": {},
   "outputs": [],
   "source": [
    "next(it)"
   ]
  },
  {
   "cell_type": "code",
   "execution_count": null,
   "id": "d54f21ad-4b60-48ac-ae33-bfdfbb699a5b",
   "metadata": {},
   "outputs": [],
   "source": [
    "next(it)"
   ]
  },
  {
   "cell_type": "code",
   "execution_count": null,
   "id": "0526c11d-6e47-4913-a5b0-c7f1188d6d77",
   "metadata": {},
   "outputs": [],
   "source": [
    "it = iter(L)"
   ]
  },
  {
   "cell_type": "code",
   "execution_count": null,
   "id": "5e45f17c-6629-47b5-8186-087758819c51",
   "metadata": {},
   "outputs": [],
   "source": [
    "next(it)"
   ]
  },
  {
   "cell_type": "code",
   "execution_count": null,
   "id": "e31bb80e-766b-4f44-b5c4-2485b987057e",
   "metadata": {},
   "outputs": [],
   "source": [
    "next(it)"
   ]
  },
  {
   "cell_type": "code",
   "execution_count": null,
   "id": "396f0f6e-eba2-433e-9abf-af6f4558a60c",
   "metadata": {},
   "outputs": [],
   "source": [
    "x = range(1, 8, 2)\n",
    "i = iter(x)"
   ]
  },
  {
   "cell_type": "code",
   "execution_count": null,
   "id": "f9691943-7d1d-4560-bc47-1a1c9cccafdd",
   "metadata": {},
   "outputs": [],
   "source": [
    "next(i)"
   ]
  },
  {
   "cell_type": "code",
   "execution_count": null,
   "id": "bfbd62d0-910f-48f0-9909-8ef2efb6d40d",
   "metadata": {},
   "outputs": [],
   "source": [
    "next(i)"
   ]
  },
  {
   "cell_type": "code",
   "execution_count": null,
   "id": "90f9bafd-87ca-4875-a9f1-9e52ed2c03a5",
   "metadata": {},
   "outputs": [],
   "source": [
    "next(i)"
   ]
  },
  {
   "cell_type": "code",
   "execution_count": null,
   "id": "92ca009f-e4b1-4e63-8813-0e23efea4ecc",
   "metadata": {},
   "outputs": [],
   "source": [
    "next(i)"
   ]
  },
  {
   "cell_type": "code",
   "execution_count": null,
   "id": "6b0cbac8-7954-4837-bc34-033cf915b3dd",
   "metadata": {},
   "outputs": [],
   "source": [
    "next(i)"
   ]
  },
  {
   "cell_type": "code",
   "execution_count": null,
   "id": "d0e93e22-bd33-4e94-b954-76b8a0d5fabe",
   "metadata": {},
   "outputs": [],
   "source": [
    "L = ['a', 'b', 'c', 'd', 'e']\n",
    "i1 = iter(L)\n",
    "i2 = iter(L)\n",
    "i3 = iter(L)\n",
    "next(i1)"
   ]
  },
  {
   "cell_type": "code",
   "execution_count": null,
   "id": "022223a2-8384-4e1b-be2d-50fd64298282",
   "metadata": {},
   "outputs": [],
   "source": [
    "next(i1)"
   ]
  },
  {
   "cell_type": "code",
   "execution_count": null,
   "id": "9027a5ac-74e4-4402-8a26-3f29dc4175d3",
   "metadata": {},
   "outputs": [],
   "source": [
    "next(i1)"
   ]
  },
  {
   "cell_type": "code",
   "execution_count": null,
   "id": "908c2728-8cb7-4d16-8132-9dc7d218ef19",
   "metadata": {},
   "outputs": [],
   "source": [
    "next(i2)"
   ]
  },
  {
   "cell_type": "code",
   "execution_count": null,
   "id": "d101c428-696a-4c52-9125-e2ff8913037b",
   "metadata": {},
   "outputs": [],
   "source": [
    "next(i2)"
   ]
  },
  {
   "cell_type": "code",
   "execution_count": null,
   "id": "0fc26146-a157-4f62-9ff0-2b8e44728362",
   "metadata": {},
   "outputs": [],
   "source": [
    "next(i3)"
   ]
  },
  {
   "cell_type": "code",
   "execution_count": null,
   "id": "4144649c-ef89-48c5-b190-64230cc38683",
   "metadata": {},
   "outputs": [],
   "source": [
    "next(i1)"
   ]
  },
  {
   "cell_type": "code",
   "execution_count": null,
   "id": "8aaf73b0-7752-4bb2-9b06-a03fc322ac92",
   "metadata": {},
   "outputs": [],
   "source": [
    "next(i2)"
   ]
  },
  {
   "cell_type": "code",
   "execution_count": null,
   "id": "5e125bef-0825-406e-b873-74df47edb9cb",
   "metadata": {},
   "outputs": [],
   "source": [
    "next(i3)"
   ]
  },
  {
   "cell_type": "code",
   "execution_count": null,
   "id": "5adfc662-6f26-4577-93fc-bb41fc038b31",
   "metadata": {},
   "outputs": [],
   "source": [
    "next(L)"
   ]
  },
  {
   "cell_type": "code",
   "execution_count": null,
   "id": "9290a04b-dbe7-4998-9504-7b30175a38a4",
   "metadata": {},
   "outputs": [],
   "source": [
    "x = range(1,5)\n",
    "next(x)"
   ]
  },
  {
   "cell_type": "code",
   "execution_count": null,
   "id": "38c70b94-00eb-45b4-81de-bfb630a2a506",
   "metadata": {},
   "outputs": [],
   "source": [
    "L = ['a', 'b', 'c', 'd', 'e']\n",
    "i1 = iter(L)\n",
    "i1"
   ]
  },
  {
   "cell_type": "code",
   "execution_count": null,
   "id": "c7d13403-4a3c-475c-883c-4348e1544565",
   "metadata": {},
   "outputs": [],
   "source": [
    "iter(i1)"
   ]
  },
  {
   "cell_type": "code",
   "execution_count": null,
   "id": "26d65da4-63f9-4610-a6ff-70b8458a56c9",
   "metadata": {},
   "outputs": [],
   "source": [
    "i1 is iter(i1)"
   ]
  },
  {
   "cell_type": "code",
   "execution_count": null,
   "id": "55d5e4e1-611d-4224-add1-6319f61f4c00",
   "metadata": {},
   "outputs": [],
   "source": [
    "L = [1, 2, 3]\n",
    "it = iter(L)"
   ]
  },
  {
   "cell_type": "code",
   "execution_count": null,
   "id": "da14ecd8-de9a-49eb-bfdc-399b9f22b14b",
   "metadata": {},
   "outputs": [],
   "source": [
    "dir(L)"
   ]
  },
  {
   "cell_type": "code",
   "execution_count": null,
   "id": "b39f2f9b-7af1-4b69-b0ed-4886714aaa89",
   "metadata": {},
   "outputs": [],
   "source": [
    "dir(it)"
   ]
  },
  {
   "cell_type": "code",
   "execution_count": null,
   "id": "f76bdc31-970a-4ef7-8e69-54d68b5491a4",
   "metadata": {},
   "outputs": [],
   "source": [
    "L = [1, 2, 3]\n",
    "for item in L:\n",
    " print(item)"
   ]
  },
  {
   "cell_type": "code",
   "execution_count": null,
   "id": "f65461ed-403c-498d-9a0b-bfefeb085704",
   "metadata": {},
   "outputs": [],
   "source": [
    "it = iter(L) # Get the iterator\n",
    "item = next(it) # Get a value from the iterator and assign it to the loop variable\n",
    "print(item) # Execute the loop body (1 is printed)\n",
    "item = next(it) # Get a value from the iterator and assign it to the loop variable\n",
    "print(item) # Execute the loop body (2 is printed)\n",
    "item = next(it) # Get a value from the iterator and assign it to the loop variable\n",
    "print(item) # Execute the loop body (3 is printed) next(it) raises StopIteration"
   ]
  },
  {
   "cell_type": "code",
   "execution_count": null,
   "id": "62cf7238-31b1-48f0-a074-bc0d182701f7",
   "metadata": {},
   "outputs": [],
   "source": [
    "L = [1, 2, 3]\n",
    "it = iter(L)\n",
    "while True:\n",
    " try:\n",
    " item = next(it)\n",
    " print(item)\n",
    " except StopIteration:\n",
    " break"
   ]
  },
  {
   "cell_type": "code",
   "execution_count": null,
   "id": "efeea437-c744-45a6-86cc-c8dc9b588f90",
   "metadata": {},
   "outputs": [],
   "source": [
    "d = {1: 'a', 2: 'b'}\n",
    "for key, val in d.items():\n",
    " print(key, val)"
   ]
  },
  {
   "cell_type": "code",
   "execution_count": null,
   "id": "f6dd1bee-a546-4683-96c0-4d3ea987c1ca",
   "metadata": {},
   "outputs": [],
   "source": [
    "for item in enumerate([10,20,30]):\n",
    " print(item)"
   ]
  },
  {
   "cell_type": "code",
   "execution_count": null,
   "id": "0862535c-52c9-4027-aae2-2cd567d39d37",
   "metadata": {},
   "outputs": [],
   "source": [
    "for i in x:\n",
    " pass\n",
    "L = list(x)\n",
    "n = max(x)"
   ]
  },
  {
   "cell_type": "code",
   "execution_count": null,
   "id": "1c5d0d7c-4eba-4286-a948-701d89685f97",
   "metadata": {},
   "outputs": [],
   "source": [
    "for i in y:\n",
    " pass\n",
    "L = list(y)\n",
    "n = max(y)"
   ]
  },
  {
   "cell_type": "code",
   "execution_count": null,
   "id": "df39dbd9-b2c6-4f94-b364-944a6accc002",
   "metadata": {},
   "outputs": [],
   "source": [
    "x = range(3, 0, -1)\n",
    "y = reversed([1, 2, 3])\n",
    "iter(x)"
   ]
  },
  {
   "cell_type": "code",
   "execution_count": null,
   "id": "cf572a63-ced2-42a9-8e65-409c22173371",
   "metadata": {},
   "outputs": [],
   "source": [
    "iter(y)"
   ]
  },
  {
   "cell_type": "code",
   "execution_count": null,
   "id": "626169cb-d019-4a5b-b49f-1f93153c8f29",
   "metadata": {},
   "outputs": [],
   "source": [
    "for i in x:\n",
    "    for j in x:\n",
    "        print(f'i={i}, j={j}')"
   ]
  },
  {
   "cell_type": "code",
   "execution_count": null,
   "id": "d4c349da-bea1-4c6a-84c0-d1e4d5a4e598",
   "metadata": {},
   "outputs": [],
   "source": [
    "for i in y:\n",
    "...  for j in y:\n",
    "...  print(f'i={i}, j={j}')"
   ]
  },
  {
   "cell_type": "code",
   "execution_count": null,
   "id": "f2ef1748-9454-4c8f-8442-ddbedab1b81e",
   "metadata": {},
   "outputs": [],
   "source": [
    "y is iter(y)"
   ]
  },
  {
   "cell_type": "code",
   "execution_count": null,
   "id": "61c9e086-2e60-43a4-a1c7-d1b9139118bd",
   "metadata": {},
   "outputs": [],
   "source": [
    "x is iter(x)"
   ]
  },
  {
   "cell_type": "code",
   "execution_count": null,
   "id": "589d750a-ad5b-4dd0-a882-5d2feb3fb283",
   "metadata": {},
   "outputs": [],
   "source": [
    "x = range(3, 0, -1)\n",
    "y = reversed([1, 2, 3])\n",
    "list(x)"
   ]
  },
  {
   "cell_type": "code",
   "execution_count": null,
   "id": "a5093e39-b86e-4d31-8141-539084c6a959",
   "metadata": {},
   "outputs": [],
   "source": [
    "list(y)"
   ]
  },
  {
   "cell_type": "code",
   "execution_count": null,
   "id": "dd252f9c-c701-460b-867e-d7260a36ab15",
   "metadata": {},
   "outputs": [],
   "source": [
    "tuple(x)"
   ]
  },
  {
   "cell_type": "code",
   "execution_count": null,
   "id": "dfaff37e-30f2-4d83-9bde-f0731863b9a6",
   "metadata": {},
   "outputs": [],
   "source": [
    "tuple(y)"
   ]
  },
  {
   "cell_type": "code",
   "execution_count": null,
   "id": "db352a5a-1a43-4a41-8839-18c33629d534",
   "metadata": {},
   "outputs": [],
   "source": [
    "f = open('data.txt', 'r')"
   ]
  },
  {
   "cell_type": "code",
   "execution_count": null,
   "id": "5e362474-a59b-4f0d-a438-63a4a7e50600",
   "metadata": {},
   "outputs": [],
   "source": [
    "list(f)"
   ]
  },
  {
   "cell_type": "code",
   "execution_count": null,
   "id": "0d08d1be-5462-4bb0-ba02-c9999a3ce164",
   "metadata": {},
   "outputs": [],
   "source": [
    "for line in f:\n",
    "    print(line)"
   ]
  },
  {
   "cell_type": "code",
   "execution_count": null,
   "id": "c731dffc-9ecf-4eef-8272-5a4fe9f1fdfb",
   "metadata": {},
   "outputs": [],
   "source": [
    "f is iter(f)"
   ]
  },
  {
   "cell_type": "code",
   "execution_count": null,
   "id": "25c82c83-9228-4f75-8756-24fba1c73e49",
   "metadata": {},
   "outputs": [],
   "source": [
    "class Cubes:\n",
    " def __init__(self, start, stop):\n",
    " self.start = start\n",
    " self.stop = stop\n",
    " def __iter__(self):\n",
    " return CubesIterator(self)\n",
    "class CubesIterator:\n",
    " def __init__(self, source):\n",
    " self.source = source \n",
    " self.current = source.start\n",
    " def __next__(self):\n",
    " if self.current > self.source.stop:\n",
    " raise StopIteration\n",
    " else:\n",
    " x = self.current\n",
    " self.current += 1\n",
    " return x * x * x\n",
    "x = Cubes(2,8)\n",
    "for i in x:\n",
    " print(i, end=' ')\n",
    "print('Sum =',sum(x))"
   ]
  },
  {
   "cell_type": "code",
   "execution_count": null,
   "id": "d999c1dc-2206-4309-ba07-3c92a920b5ee",
   "metadata": {},
   "outputs": [],
   "source": [
    "\n",
    "# Fibonacci series: 0 1 1 2 3 5 8 13 21 34 55 89\n",
    "class Fibonacci:\n",
    " def __init__(self, max):\n",
    " self.max = max\n",
    " def __iter__(self):\n",
    " return FiboIterator(self)\n",
    "class FiboIterator:\n",
    " def __init__(self, source):\n",
    " self.source = source\n",
    " self.a = 0\n",
    " self.b = 1\n",
    " def __next__(self):\n",
    " f = self.a\n",
    " if self.a > self.source.max:\n",
    " raise StopIteration\n",
    " self.a, self.b = self.b, self.a + self.b\n",
    " return f\n",
    "x = Fibonacci(100)\n",
    "for i in x:\n",
    " print(i, end=' ')\n",
    "print(55 in x, 50 in x)"
   ]
  },
  {
   "cell_type": "code",
   "execution_count": null,
   "id": "3b599d65-194f-4f6b-8010-5cfad17bcc09",
   "metadata": {},
   "outputs": [],
   "source": [
    "def __init__(self, max):\n",
    " self.max = max\n",
    " self.a = 0\n",
    " self.b = 1\n",
    " def __iter__(self):\n",
    " return self\n",
    " def __next__(self):\n",
    " f = self.a\n",
    " if f > self.max:\n",
    " raise StopIteration\n",
    " self.a, self.b = self.b, self.a + self.b\n",
    " return f\n",
    "x = Fibonacci(100)\n",
    "for i in x:\n",
    " print(i, end = ' ')\n",
    "print(50 in x, 55 in x)"
   ]
  },
  {
   "cell_type": "code",
   "execution_count": null,
   "id": "b6e9f28e-bb28-4920-9de0-b6ca10137985",
   "metadata": {},
   "outputs": [],
   "source": [
    "class Cubes:\n",
    " def __init__(self, start, stop):\n",
    " self.current = start\n",
    " self.stop = stop\n",
    " def __iter__(self):\n",
    " return self\n",
    " def __next__(self):\n",
    " if self.current > self.stop:\n",
    " raise StopIteration\n",
    " x = self.current\n",
    " self.current += 1\n",
    " return x*x*x\n",
    "x = Cubes(2,8)\n",
    "for i in x:\n",
    " print(i, end = ' ')\n",
    "print('Sum =',sum(x))"
   ]
  },
  {
   "cell_type": "code",
   "execution_count": null,
   "id": "14dc542d-afc1-45de-a22c-9d48b1068fd7",
   "metadata": {},
   "outputs": [],
   "source": [
    "class Cubes:\n",
    " def __init__(self, start):\n",
    " self.current = start\n",
    " \n",
    " def __iter__(self):\n",
    " return self\n",
    " def __next__(self):\n",
    " x = self.current\n",
    " self.current += 1\n",
    " return x * x * x\n",
    "x = Cubes(2)\n",
    "print(next(x))\n",
    "print(next(x))\n",
    "print(next(x))\n",
    "x = Cubes(2)\n",
    "for i in x:\n",
    " if i > 150:\n",
    " break\n",
    " print(i, end=' ')"
   ]
  },
  {
   "cell_type": "code",
   "execution_count": null,
   "id": "6b9cfacd-c01e-4b69-a4b6-bcf71238eeb4",
   "metadata": {},
   "outputs": [],
   "source": [
    "next(x)"
   ]
  },
  {
   "cell_type": "code",
   "execution_count": null,
   "id": "d31f9d1d-6c25-4167-aa92-0611aa6c4008",
   "metadata": {},
   "outputs": [],
   "source": [
    "next(x)"
   ]
  },
  {
   "cell_type": "code",
   "execution_count": null,
   "id": "263d1393-5fdd-4af6-9657-3668feb8b39b",
   "metadata": {},
   "outputs": [],
   "source": [
    "next(x)"
   ]
  },
  {
   "cell_type": "code",
   "execution_count": null,
   "id": "1cde15d9-fb57-4d35-b6b2-67454ced7b49",
   "metadata": {},
   "outputs": [],
   "source": [
    "class Stack:\n",
    " def __init__(self):\n",
    " self.items = []\n",
    " def is_empty(self):\n",
    " return self.items == []\n",
    " def size(self):\n",
    " return len(self.items)\n",
    " def push(self, item):\n",
    " self.items.append(item)\n",
    " def pop(self):\n",
    " if self.is_empty():\n",
    " raise RuntimeError(\"Stack is empty\")\n",
    "return self.items.pop()\n",
    " def display(self):\n",
    " print(self.items)"
   ]
  },
  {
   "cell_type": "code",
   "execution_count": null,
   "id": "5c42eb3b-75d8-401f-93ba-291ee5715267",
   "metadata": {},
   "outputs": [],
   "source": [
    "class Stack:\n",
    " def __init__(self):\n",
    " self.items = []\n",
    " def is_empty(self):\n",
    " return self.items == []\n",
    " def size(self):\n",
    " return len(self.items)\n",
    " def push(self, item):\n",
    " self.items.append(item)\n",
    " def pop(self):\n",
    " if self.is_empty():\n",
    " raise RuntimeError(\"Stack is empty\")\n",
    " return self.items.pop()\n",
    " def display(self):\n",
    " print(self.items)\n",
    " def __iter__(self):\n",
    " return iter(self.items)\n",
    "stack = Stack()\n",
    "stack.push(20)\n",
    "stack.push(30)\n",
    "stack.push(10)\n",
    "stack.push(89)\n",
    "for item in stack:\n",
    " print(item)\n",
    "print(min(stack), max(stack), sum(stack))"
   ]
  },
  {
   "cell_type": "code",
   "execution_count": null,
   "id": "5ea4c75e-f26a-4474-ae7d-11f8dbffea80",
   "metadata": {},
   "outputs": [],
   "source": [
    "class Cart:\n",
    " def __init__(self):\n",
    " self.grocery_items = []\n",
    " self.stationery_items = []\n",
    " def add_stationery(self, item, quantity=1):\n",
    " self.grocery_items.append( (item, quantity) )\n",
    " \n",
    " def add_grocery(self, item, quantity=1):\n",
    " self.stationery_items.append( (item, quantity) )\n",
    "cart = Cart()\n",
    "cart.add_grocery('rice')\n",
    "cart.add_stationery('pen',3)\n",
    "cart.add_stationery('eraser')\n",
    "cart.add_stationery('pencil',5)\n",
    "cart.add_grocery('bread',2)\n",
    "cart.add_grocery('pasta')"
   ]
  },
  {
   "cell_type": "code",
   "execution_count": null,
   "id": "e82ea20e-95d0-4685-9653-ff4e315cfee9",
   "metadata": {},
   "outputs": [],
   "source": [
    "def __iter__(self):\n",
    " return CartIterator(self)\n",
    "Here is the code for the class CartIterator:\n",
    "class CartIterator:\n",
    "def __init__(self, source):\n",
    "self.source = source\n",
    "self.i = 0\n",
    "def __next__(self):\n",
    "if self.i >=\n",
    "(len(self.source.grocery_items) +\n",
    "len(self.source.stationery_items)):\n",
    " raise StopIteration\n",
    " if self.i < len(self.source.grocery_items):\n",
    " item =\n",
    "self.source.grocery_items[self.i]\n",
    " else:\n",
    " item =\n",
    "self.source.stationery_items[self.i\n",
    "- len(self.source.grocery_items)]\n",
    " self.i += 1\n",
    " return item"
   ]
  },
  {
   "cell_type": "code",
   "execution_count": null,
   "id": "52433e10-6b80-4aea-aa0a-cd51b519a25e",
   "metadata": {},
   "outputs": [],
   "source": [
    "for item, quantity in cart:\n",
    " print(item, quantity)"
   ]
  },
  {
   "cell_type": "code",
   "execution_count": null,
   "id": "9e68aa5a-3507-4042-9f3c-a462d9053142",
   "metadata": {},
   "outputs": [],
   "source": [
    "class Alternate:\n",
    " def __init__(self, source):\n",
    " self.source = source\n",
    " self.index = 0\n",
    " def __iter__(self):\n",
    " return self\n",
    " def __next__(self):\n",
    " if self.index >= len(self.source):\n",
    " raise StopIteration\n",
    " item = self.source[self.index]\n",
    " self.index = self.index + 2\n",
    " return item\n",
    "L = [1, 2, 3, 4, 5, 6, 7, 8]\n",
    "for i in Alternate(L):\n",
    "print(i, end=' ')\n",
    "for ch in Alternate('intelligent'):\n",
    " print(ch, end=' ')"
   ]
  },
  {
   "cell_type": "code",
   "execution_count": null,
   "id": "eeec227e-ed8f-4440-b4a9-d48c96544634",
   "metadata": {},
   "outputs": [],
   "source": [
    "class Reverse:\n",
    " def __init__(self, source):\n",
    " self.source = source\n",
    " self.index = len(source)\n",
    " def __iter__(self):\n",
    " return self\n",
    " def __next__(self):\n",
    " if self.index == 0:\n",
    " raise StopIteration\n",
    " self.index = self.index - 1\n",
    " return self.source[self.index]\n",
    "L = [1, 2, 3, 4, 5, 6, 7, 8]\n",
    "for i in Reverse(L):\n",
    " print(i, end=' ')\n",
    "for ch in Reverse('intelligent'):\n",
    " print(ch, end=' ')"
   ]
  },
  {
   "cell_type": "code",
   "execution_count": null,
   "id": "314b4b02-1d9c-42a4-9bde-35586e9c8780",
   "metadata": {},
   "outputs": [],
   "source": [
    "class Cycle:\n",
    " def __init__(self, source):\n",
    " self.source = source\n",
    " self.index = -1\n",
    " def __iter__(self):\n",
    " return self\n",
    " def __next__(self):\n",
    " self.index = (self.index + 1) %\n",
    "(len(self.source))\n",
    " return self.source[self.index]\n",
    "count = 0\n",
    "for i in Cycle([1,2,3]):\n",
    " print(i, end= ' ')\n",
    " count+=1\n",
    " if count == 10:\n",
    " break"
   ]
  },
  {
   "cell_type": "code",
   "execution_count": null,
   "id": "bf3648ef-107c-47ea-81aa-4774d9f43f02",
   "metadata": {},
   "outputs": [],
   "source": [
    "class Reverse:\n",
    " def __init__(self, source):\n",
    " self.source = source\n",
    " def __iter__(self):\n",
    " return ReverseIterator(self.source)\n",
    "class ReverseIterator():\n",
    " def __init__(self, source):\n",
    " self.source = source\n",
    " self.index = len(self.source)\n",
    " def __next__(self):\n",
    " if self.index == 0:\n",
    " raise StopIteration\n",
    " self.index = self.index - 1\n",
    " return self.source[self.index]\n",
    "x = Reverse('Knowledge')\n",
    "for c in x:\n",
    " print(c, end = ' ')\n",
    "for c in x:\n",
    " print(c, end = ' ')"
   ]
  },
  {
   "cell_type": "code",
   "execution_count": null,
   "id": "e67bc669-0d05-4511-9dff-7e5ffd5e1af6",
   "metadata": {},
   "outputs": [],
   "source": [
    "cubes = [x*x for x in range(1,1001)]"
   ]
  },
  {
   "cell_type": "code",
   "execution_count": null,
   "id": "677ff984-4536-4a93-b75a-ad8cf63d660e",
   "metadata": {},
   "outputs": [],
   "source": [
    "from itertools import count"
   ]
  },
  {
   "cell_type": "code",
   "execution_count": null,
   "id": "1b0cd698-7653-43b8-81a2-4a77bcf6c705",
   "metadata": {},
   "outputs": [],
   "source": [
    "it = count(start=10, step=3)"
   ]
  },
  {
   "cell_type": "code",
   "execution_count": null,
   "id": "dccf49da-67f7-4baf-8d90-591ad9349995",
   "metadata": {},
   "outputs": [],
   "source": [
    "next(it)"
   ]
  },
  {
   "cell_type": "code",
   "execution_count": null,
   "id": "35035c34-d308-48bf-964b-f3f1dc1ab585",
   "metadata": {},
   "outputs": [],
   "source": [
    "next(it)"
   ]
  },
  {
   "cell_type": "code",
   "execution_count": null,
   "id": "45924bfa-ce3c-4de5-9924-064717d18955",
   "metadata": {},
   "outputs": [],
   "source": [
    "next(it)"
   ]
  },
  {
   "cell_type": "code",
   "execution_count": null,
   "id": "0c224919-970e-492b-a134-42af548b4b18",
   "metadata": {},
   "outputs": [],
   "source": [
    "for i in count(10, 3):\n",
    "...  print(i)"
   ]
  },
  {
   "cell_type": "code",
   "execution_count": null,
   "id": "2b42474a-e45e-4ae7-8123-b744582139a3",
   "metadata": {},
   "outputs": [],
   "source": [
    "for i in count(10,3):\n",
    "...  if i > 30:\n",
    "...  break\n",
    "...  print(i)"
   ]
  },
  {
   "cell_type": "code",
   "execution_count": null,
   "id": "bb829100-e8fb-4949-9d2b-7de0f3cc84e3",
   "metadata": {},
   "outputs": [],
   "source": [
    "from itertools import cycle"
   ]
  },
  {
   "cell_type": "code",
   "execution_count": null,
   "id": "cb85bae2-74ff-4f19-89bd-cd35c472e1df",
   "metadata": {},
   "outputs": [],
   "source": [
    "colors = cycle(['Red', 'Blue', 'Green'])\n",
    "next(colors)"
   ]
  },
  {
   "cell_type": "code",
   "execution_count": null,
   "id": "54272e98-45e3-45ba-afba-7786d17f9a2d",
   "metadata": {},
   "outputs": [],
   "source": [
    "next(colors)"
   ]
  },
  {
   "cell_type": "code",
   "execution_count": null,
   "id": "419fc30e-de2d-4b2a-9aff-ea6dd6b0df5d",
   "metadata": {},
   "outputs": [],
   "source": [
    "next(colors)"
   ]
  },
  {
   "cell_type": "code",
   "execution_count": null,
   "id": "016c5cb2-2d9b-483e-98a9-85d3f55e1dd6",
   "metadata": {},
   "outputs": [],
   "source": [
    "next(colors)"
   ]
  },
  {
   "cell_type": "code",
   "execution_count": null,
   "id": "9afb5ee7-1a23-4fe8-8088-950ef7386955",
   "metadata": {},
   "outputs": [],
   "source": [
    "from itertools import repeat\n",
    "x = repeat('Red', 4)\n",
    "next(x)"
   ]
  },
  {
   "cell_type": "code",
   "execution_count": null,
   "id": "ffcf4260-aed3-4b20-9895-98cd1a54347c",
   "metadata": {},
   "outputs": [],
   "source": [
    "next(x)"
   ]
  },
  {
   "cell_type": "code",
   "execution_count": null,
   "id": "c9cc57ae-ed7d-46e0-b967-90588974754d",
   "metadata": {},
   "outputs": [],
   "source": [
    "next(x)"
   ]
  },
  {
   "cell_type": "code",
   "execution_count": null,
   "id": "be1efa49-ac98-4998-b0b8-0c5c741c3e4f",
   "metadata": {},
   "outputs": [],
   "source": [
    "next(x)"
   ]
  },
  {
   "cell_type": "code",
   "execution_count": null,
   "id": "a529e7a5-ae66-448d-b166-263906f140aa",
   "metadata": {},
   "outputs": [],
   "source": [
    "next(x)"
   ]
  },
  {
   "cell_type": "code",
   "execution_count": null,
   "id": "4836e618-95df-44c9-8919-1577c490522e",
   "metadata": {},
   "outputs": [],
   "source": [
    "from itertools import chain\n",
    "L = [1, 2]\n",
    "s = {7, 8, 9}\n",
    "for i in chain(L, s):\n",
    "... print(i, end = ' ')"
   ]
  },
  {
   "cell_type": "code",
   "execution_count": null,
   "id": "6a4929bb-de98-4265-b1f2-f302058ba260",
   "metadata": {},
   "outputs": [],
   "source": [
    "from itertools import cycle, islice\n",
    "fruits = cycle(['Apple', 'Mango', 'Banana', 'Grapes'])"
   ]
  },
  {
   "cell_type": "code",
   "execution_count": null,
   "id": "5c507238-9bc4-48e7-8f06-43a512ac4ef7",
   "metadata": {},
   "outputs": [],
   "source": [
    "for x in islice(fruits,5,10):\n",
    "...  print(x, end=' ')"
   ]
  },
  {
   "cell_type": "code",
   "execution_count": null,
   "id": "9bdc345a-f005-434a-b493-3024568a91f1",
   "metadata": {},
   "outputs": [],
   "source": [
    "from itertools import accumulate\n",
    ">>> L = [1, 2, 3, 4, 5, 6]\n",
    ">>> for i in accumulate(L):\n",
    "... print(i, end = ' ')"
   ]
  },
  {
   "cell_type": "code",
   "execution_count": null,
   "id": "042461c9-999b-495f-817f-20f013c197c5",
   "metadata": {},
   "outputs": [],
   "source": [
    "from itertools import zip_longest\n",
    "L1 = [1, 2, 3]\n",
    "L2 = [10, 20, 30, 40, 50]\n",
    "list(zip(L1, L2))"
   ]
  },
  {
   "cell_type": "code",
   "execution_count": null,
   "id": "045982f9-8e0a-43e8-af8e-dfe2722d35fe",
   "metadata": {},
   "outputs": [],
   "source": [
    "list(zip_longest(L1, L2))"
   ]
  },
  {
   "cell_type": "code",
   "execution_count": null,
   "id": "fb1db6e5-3fce-4ac2-b67d-31cd9e40dc0e",
   "metadata": {},
   "outputs": [],
   "source": [
    "list(zip_longest(L1, L2, fillvalue=0))"
   ]
  },
  {
   "cell_type": "code",
   "execution_count": null,
   "id": "4587da58-15c7-4e3f-a35e-6bb8e6524e74",
   "metadata": {},
   "outputs": [],
   "source": [
    "from itertools import permutations\n",
    "print(list(permutations([1, 2, 3, 4], 2)))"
   ]
  },
  {
   "cell_type": "code",
   "execution_count": null,
   "id": "7415397b-cb52-4184-bc3a-94512df013da",
   "metadata": {},
   "outputs": [],
   "source": [
    "print(list(permutations([1, 2, 3, 4],3)))"
   ]
  },
  {
   "cell_type": "code",
   "execution_count": null,
   "id": "607eadcc-ba87-4d8c-8669-9bb28bc1e52d",
   "metadata": {},
   "outputs": [],
   "source": [
    "class Cubes:\n",
    " def __init__(self, start, stop):\n",
    " self.current = start\n",
    " self.stop = stop\n",
    " def __iter__(self):\n",
    " return self\n",
    " def __next__(self):\n",
    "if self.current > self.stop:\n",
    " raise StopIteration\n",
    " x = self.current\n",
    " self.current += 1\n",
    " return x*x*x\n",
    "x = Cubes(2,5)"
   ]
  },
  {
   "cell_type": "code",
   "execution_count": null,
   "id": "d955ed53-4f2f-4ffa-8a21-a172f7b85153",
   "metadata": {},
   "outputs": [],
   "source": [
    "def cubes(start, stop):\n",
    "...  for n in range(start, stop+1):\n",
    "...  yield n * n * n\n",
    "y = cubes(2, 5)"
   ]
  },
  {
   "cell_type": "code",
   "execution_count": null,
   "id": "e4175f9d-b9e7-4077-9bc3-5a9384ab8afd",
   "metadata": {},
   "outputs": [],
   "source": [
    "y"
   ]
  },
  {
   "cell_type": "code",
   "execution_count": null,
   "id": "cb9da495-87b0-43b3-a929-cd78426db90f",
   "metadata": {},
   "outputs": [],
   "source": [
    "y is iter(y)"
   ]
  },
  {
   "cell_type": "code",
   "execution_count": null,
   "id": "5a03905e-959d-4051-98e6-7859aac3a4dd",
   "metadata": {},
   "outputs": [],
   "source": [
    "dir(y)"
   ]
  },
  {
   "cell_type": "code",
   "execution_count": null,
   "id": "20a20b97-0c12-4238-921d-1d3ba9ac2703",
   "metadata": {},
   "outputs": [],
   "source": [
    "next(y)"
   ]
  },
  {
   "cell_type": "code",
   "execution_count": null,
   "id": "67c406f4-1ac9-4343-85e8-f613e404fb6b",
   "metadata": {},
   "outputs": [],
   "source": [
    "next(y)"
   ]
  },
  {
   "cell_type": "code",
   "execution_count": null,
   "id": "fe460613-e844-4978-b1a1-1d6b8abaae97",
   "metadata": {},
   "outputs": [],
   "source": [
    "next(y)"
   ]
  },
  {
   "cell_type": "code",
   "execution_count": null,
   "id": "2e1ff709-bff8-4859-94ae-9f8fa00d9e5b",
   "metadata": {},
   "outputs": [],
   "source": [
    "next(y)"
   ]
  },
  {
   "cell_type": "code",
   "execution_count": null,
   "id": "7bd3c062-082d-47df-8be8-1a296c102e42",
   "metadata": {},
   "outputs": [],
   "source": [
    "next(y)"
   ]
  },
  {
   "cell_type": "code",
   "execution_count": null,
   "id": "be521c51-62d6-4a64-b49d-b94fdbc7f4e4",
   "metadata": {},
   "outputs": [],
   "source": [
    "for i in y:\n",
    "...  print(i, end = ' ')"
   ]
  },
  {
   "cell_type": "code",
   "execution_count": null,
   "id": "0f73d41e-d99d-4e2b-9ad2-eddcf53d78f7",
   "metadata": {},
   "outputs": [],
   "source": [
    "y = cubes(2, 5)\n",
    " for i in y:\n",
    "...  print(i, end = ' ')"
   ]
  },
  {
   "cell_type": "code",
   "execution_count": null,
   "id": "0eb2b297-a00e-4ee9-9d1f-4eab014ee316",
   "metadata": {},
   "outputs": [],
   "source": [
    "x = fn() # Calling a normal function executes its code, returns a value \n",
    "g = gen_fn() # Calling a generator object gives a generator object"
   ]
  },
  {
   "cell_type": "code",
   "execution_count": null,
   "id": "c84f9e46-8ac5-498c-9956-f2d687162664",
   "metadata": {},
   "outputs": [],
   "source": [
    "def gen_fn():\n",
    "...  n = 0\n",
    "...  print('ABC', n)\n",
    "...  n += 2\n",
    "...  yield 10\n",
    "...  print('GHI', n)\n",
    "...  print('XYZ')\n",
    "...  yield 20\n",
    "...  print('JKL', n)\n",
    "...  n *= 5\n",
    "...  yield 30\n",
    "...  print('MNO', n)\n",
    "g = gen_fn()"
   ]
  },
  {
   "cell_type": "code",
   "execution_count": null,
   "id": "d41014fd-c16b-4fa7-8fde-94345034f8f8",
   "metadata": {},
   "outputs": [],
   "source": [
    "v = next(g)"
   ]
  },
  {
   "cell_type": "code",
   "execution_count": null,
   "id": "1408aa59-a9ac-4c50-b036-f049409a700d",
   "metadata": {},
   "outputs": [],
   "source": [
    "v"
   ]
  },
  {
   "cell_type": "code",
   "execution_count": null,
   "id": "f38eb49b-05a1-4535-ae77-2e53b6f250f7",
   "metadata": {},
   "outputs": [],
   "source": [
    "v = next(g)"
   ]
  },
  {
   "cell_type": "code",
   "execution_count": null,
   "id": "7c374f69-8264-4695-8183-9f798464130b",
   "metadata": {},
   "outputs": [],
   "source": [
    "v"
   ]
  },
  {
   "cell_type": "code",
   "execution_count": null,
   "id": "b379d637-1ae8-4780-828f-5d87771324e5",
   "metadata": {},
   "outputs": [],
   "source": [
    "v = next(g)"
   ]
  },
  {
   "cell_type": "code",
   "execution_count": null,
   "id": "b1bc90db-a203-4ae5-a635-d38c5bbeb576",
   "metadata": {},
   "outputs": [],
   "source": [
    "v"
   ]
  },
  {
   "cell_type": "code",
   "execution_count": null,
   "id": "8718cbb9-63df-41b0-a6fc-6d4209b37b60",
   "metadata": {},
   "outputs": [],
   "source": [
    "v = next(g)"
   ]
  },
  {
   "cell_type": "code",
   "execution_count": null,
   "id": "a8f4b8dd-c3d9-4e36-bbf1-aba711f6296d",
   "metadata": {},
   "outputs": [],
   "source": [
    "v = next(g)"
   ]
  },
  {
   "cell_type": "code",
   "execution_count": null,
   "id": "79a2f8c1-33cd-419b-aee9-494d7ba1887f",
   "metadata": {},
   "outputs": [],
   "source": [
    "for i in g:\n",
    "...  print(i)"
   ]
  },
  {
   "cell_type": "code",
   "execution_count": null,
   "id": "5afe4b87-de87-4222-95dd-502386582254",
   "metadata": {},
   "outputs": [],
   "source": [
    "g = gen_fn()"
   ]
  },
  {
   "cell_type": "code",
   "execution_count": null,
   "id": "72f9c1ca-d6c6-4cd3-81f0-2417b8d79efb",
   "metadata": {},
   "outputs": [],
   "source": [
    "for i in g:\n",
    "...  print(i)"
   ]
  },
  {
   "cell_type": "code",
   "execution_count": null,
   "id": "da0623a7-9cb8-4f88-a7c9-e63994fbaca6",
   "metadata": {},
   "outputs": [],
   "source": [
    "def cubes(start, stop):\n",
    " for n in range(start, stop+1):\n",
    " yield n * n * n"
   ]
  },
  {
   "cell_type": "code",
   "execution_count": null,
   "id": "a8f68c45-e7d9-4320-9a0f-89954c661b2c",
   "metadata": {},
   "outputs": [],
   "source": [
    "y = cubes(2, 5)"
   ]
  },
  {
   "cell_type": "code",
   "execution_count": null,
   "id": "a3a65097-0eff-4217-b7fa-59a8dc982523",
   "metadata": {},
   "outputs": [],
   "source": [
    "next(y)"
   ]
  },
  {
   "cell_type": "code",
   "execution_count": null,
   "id": "153307ba-dec7-4247-b189-dcbd25c939c2",
   "metadata": {},
   "outputs": [],
   "source": [
    "next(y)"
   ]
  },
  {
   "cell_type": "code",
   "execution_count": null,
   "id": "5f433b0d-8fc4-492f-83ca-ef72c5f2424d",
   "metadata": {},
   "outputs": [],
   "source": [
    "next(y)"
   ]
  },
  {
   "cell_type": "code",
   "execution_count": null,
   "id": "99b7d371-7686-4a2f-ba00-1f81d122957c",
   "metadata": {},
   "outputs": [],
   "source": [
    "next(y)"
   ]
  },
  {
   "cell_type": "code",
   "execution_count": null,
   "id": "7d45e4fa-6e51-4d19-b5df-987dbe20cd5e",
   "metadata": {},
   "outputs": [],
   "source": [
    "next(y)"
   ]
  },
  {
   "cell_type": "code",
   "execution_count": null,
   "id": "debd36d4-e6d7-45d8-b0be-842861623eed",
   "metadata": {},
   "outputs": [],
   "source": [
    "def cubes(start):\n",
    " n = start\n",
    " while True:\n",
    "yield n * n * n\n",
    " n = n + 1\n",
    "y = cubes(2)"
   ]
  },
  {
   "cell_type": "code",
   "execution_count": null,
   "id": "e1cfa998-aed5-4287-95df-8a21a9c81a7c",
   "metadata": {},
   "outputs": [],
   "source": [
    "class Fibonacci:\n",
    " def __init__(self, max):\n",
    " self.max = max\n",
    " self.a = 0\n",
    " self.b = 1\n",
    " def __iter__(self):\n",
    " return self\n",
    " def __next__(self):\n",
    " f = self.a\n",
    " if f > self.max:\n",
    " raise StopIteration\n",
    " self.a, self.b = self.b, self.a + self.b\n",
    " return f\n",
    "x = Fibonacci(100)\n",
    "for i in x:\n",
    " print(i, end = ' ')\n",
    "print(50 in x, 55 in x)"
   ]
  },
  {
   "cell_type": "code",
   "execution_count": null,
   "id": "d949e57d-72ad-4171-bf4d-2106fc356526",
   "metadata": {},
   "outputs": [],
   "source": [
    "def fibo_gen(max):\n",
    " a = 0\n",
    " b = 1\n",
    " while a < max:\n",
    " yield a\n",
    " a, b = b, a + b\n",
    "fib = fibo_gen(100)\n",
    "for i in fib:\n",
    " print(i, end=' ')"
   ]
  },
  {
   "cell_type": "code",
   "execution_count": null,
   "id": "29254812-543e-40d9-b8aa-3765d4b1d8dc",
   "metadata": {},
   "outputs": [],
   "source": [
    "class Fibonacci:\n",
    " def __init__(self, max):\n",
    " self.max = max\n",
    " def __iter__(self):\n",
    " return FiboIterator(self)\n",
    "class FiboIterator:\n",
    " def __init__(self, source):\n",
    " self.source = source\n",
    " self.a = 0\n",
    " self.b = 1\n",
    " def __next__(self):\n",
    " f = self.a\n",
    " if f > self.source.max:\n",
    " raise StopIteration\n",
    " self.a, self.b = self.b, self.a + self.b\n",
    " return f\n",
    "x = Fibonacci(100)\n",
    "for i in x:\n",
    " print(i, end = ' ')\n",
    "print(55 in x, 50 in x)"
   ]
  },
  {
   "cell_type": "code",
   "execution_count": null,
   "id": "93178231-7d71-44ce-8aa3-a5ca459d4ad3",
   "metadata": {},
   "outputs": [],
   "source": [
    "class Fibonacci:\n",
    " def __init__(self, max):\n",
    " self.max = max\n",
    " def __iter__(self):\n",
    " a = 0\n",
    " b = 1\n",
    " while a < self.max:\n",
    " yield a\n",
    " a, b = b, a+b\n",
    "x = Fibonacci(100)\n",
    "for i in x:\n",
    " print(i, end = ' ')\n",
    "for i in x:\n",
    " print(i, end = ' ')"
   ]
  },
  {
   "cell_type": "code",
   "execution_count": null,
   "id": "1b1a14cc-e0ce-4ff1-ad76-489cca7a8cbe",
   "metadata": {},
   "outputs": [],
   "source": [
    " (n * n * n for n in range(2, 6))"
   ]
  },
  {
   "cell_type": "code",
   "execution_count": null,
   "id": "8955a0b2-2678-4f6a-b533-bc143bc5e85a",
   "metadata": {},
   "outputs": [],
   "source": [
    "g = (n * n * n for n in range(2, 6))\n",
    "g"
   ]
  },
  {
   "cell_type": "code",
   "execution_count": null,
   "id": "86856fd5-87dc-4079-a8ab-a00c8a04f7ca",
   "metadata": {},
   "outputs": [],
   "source": [
    "next(g)"
   ]
  },
  {
   "cell_type": "code",
   "execution_count": null,
   "id": "a33478b0-1f64-4361-87d5-362ec30fa885",
   "metadata": {},
   "outputs": [],
   "source": [
    "next(g)"
   ]
  },
  {
   "cell_type": "code",
   "execution_count": null,
   "id": "8dbcd026-e49f-4299-b979-1c5b05681095",
   "metadata": {},
   "outputs": [],
   "source": [
    "next(g)"
   ]
  },
  {
   "cell_type": "code",
   "execution_count": null,
   "id": "7e769abe-1f04-4260-bfd8-04d5bf8c2521",
   "metadata": {},
   "outputs": [],
   "source": [
    "next(g)"
   ]
  },
  {
   "cell_type": "code",
   "execution_count": null,
   "id": "4d11648a-6912-4bd2-ab45-490186f6c3fb",
   "metadata": {},
   "outputs": [],
   "source": [
    "next(g)"
   ]
  },
  {
   "cell_type": "code",
   "execution_count": null,
   "id": "097cd01b-7194-4d88-a1cd-f4305084661c",
   "metadata": {},
   "outputs": [],
   "source": [
    "g = (n*n*n for n in range(2,6) if n%2 ==0)"
   ]
  },
  {
   "cell_type": "code",
   "execution_count": null,
   "id": "d2a2f2b5-fb2c-4cef-8751-35e1592c7709",
   "metadata": {},
   "outputs": [],
   "source": [
    "for i in (n * n * n for n in range(2, 6) if n\n",
    "% 2 == 0):\n",
    "...  print(i)"
   ]
  },
  {
   "cell_type": "code",
   "execution_count": null,
   "id": "2786b1e7-94ef-4699-98c4-4d90c54c93c1",
   "metadata": {},
   "outputs": [],
   "source": [
    "func(n * n for n in range(2,4))"
   ]
  },
  {
   "cell_type": "code",
   "execution_count": null,
   "id": "6fe4b287-c4b9-4bfc-b452-4b2e8f54624c",
   "metadata": {},
   "outputs": [],
   "source": [
    "func((n*n for n in range(2,4)), 'x')"
   ]
  },
  {
   "cell_type": "markdown",
   "id": "2698f528-4947-45ce-95b8-59c810f41dbe",
   "metadata": {},
   "source": [
    "Happy Programming"
   ]
  }
 ],
 "metadata": {
  "kernelspec": {
   "display_name": "Python 3 (ipykernel)",
   "language": "python",
   "name": "python3"
  },
  "language_info": {
   "codemirror_mode": {
    "name": "ipython",
    "version": 3
   },
   "file_extension": ".py",
   "mimetype": "text/x-python",
   "name": "python",
   "nbconvert_exporter": "python",
   "pygments_lexer": "ipython3",
   "version": "3.12.7"
  }
 },
 "nbformat": 4,
 "nbformat_minor": 5
}
