{
 "cells": [
  {
   "cell_type": "code",
   "execution_count": 1,
   "id": "c2798c46-bcfa-4911-b707-3b7a4df00aad",
   "metadata": {},
   "outputs": [],
   "source": [
    "def fn():\n",
    " pass\n",
    "f1 = fn\n",
    "f2 = fn\n",
    "fn()\n",
    "f1()\n",
    "f2()"
   ]
  },
  {
   "cell_type": "code",
   "execution_count": null,
   "id": "a8ddaead-21aa-4304-8679-111b02523f51",
   "metadata": {},
   "outputs": [],
   "source": [
    "def func2():\n",
    " \n",
    " return g\n",
    "f3 = func2()\n",
    "f3()"
   ]
  },
  {
   "cell_type": "code",
   "execution_count": null,
   "id": "02afb834-2d4f-4cab-85fe-b0de6244797d",
   "metadata": {},
   "outputs": [],
   "source": [
    "def func(): \n",
    "\n",
    " def g():\n",
    " pass"
   ]
  },
  {
   "cell_type": "code",
   "execution_count": null,
   "id": "77ee2544-3d69-41ac-b12c-86c49d66c521",
   "metadata": {},
   "outputs": [],
   "source": [
    "def func(): \n",
    " \n",
    " def g():\n",
    " pass\n",
    " \n",
    " g()"
   ]
  },
  {
   "cell_type": "code",
   "execution_count": null,
   "id": "f22798ef-74ff-418e-9d66-97932025e27c",
   "metadata": {},
   "outputs": [],
   "source": [
    "def func(): \n",
    "def g():\n",
    " pass\n",
    " \n",
    " g()\n",
    " return g\n",
    "f1 = func()\n",
    "f1()\n",
    "print(f1.__name__)"
   ]
  },
  {
   "cell_type": "code",
   "execution_count": null,
   "id": "b56623e5-9221-4fc5-aa35-68e0fcce1359",
   "metadata": {},
   "outputs": [],
   "source": [
    "def func(f): \n",
    " x = 6\n",
    " …………\n",
    " def g():\n",
    " print(x)\n",
    " f()\n",
    " …………\n",
    " …………\n",
    " g()\n",
    " return g"
   ]
  },
  {
   "cell_type": "code",
   "execution_count": null,
   "id": "70f1bfb7-f687-4a19-83e8-000376d9428e",
   "metadata": {},
   "outputs": [],
   "source": [
    "def func1():\n",
    " print('Hello world')\n",
    " print('Welcome to Python')"
   ]
  },
  {
   "cell_type": "code",
   "execution_count": null,
   "id": "d1dac517-279a-4885-a1b6-29f35fc922e8",
   "metadata": {},
   "outputs": [],
   "source": [
    "def my_decorator(fn):\n",
    " def wrapper():\n",
    " print('Hi … Starting execution')\n",
    " fn()\n",
    " print('Bye … finished executing\\n')\n",
    " return wrapper \n",
    "decorated_func1 = my_decorator(func1)"
   ]
  },
  {
   "cell_type": "code",
   "execution_count": null,
   "id": "3f3d666f-d897-44d5-8053-f79e53c7d10b",
   "metadata": {},
   "outputs": [],
   "source": [
    "decorated_func1 = my_decorator(func1)"
   ]
  },
  {
   "cell_type": "code",
   "execution_count": null,
   "id": "89e76674-1aa5-4378-9fb0-2407da05daa2",
   "metadata": {},
   "outputs": [],
   "source": [
    "decorated_func1()"
   ]
  },
  {
   "cell_type": "code",
   "execution_count": null,
   "id": "aebfc958-ce01-433f-a5c1-0394ace623eb",
   "metadata": {},
   "outputs": [],
   "source": [
    "func1 = my_decorator(func1)"
   ]
  },
  {
   "cell_type": "code",
   "execution_count": null,
   "id": "466e7c83-a646-4d6e-baa8-fca0d3160f21",
   "metadata": {},
   "outputs": [],
   "source": [
    "def func2():\n",
    " for i in range(10):\n",
    " print(i, end=' ')\n",
    " print()\n",
    "def func3():\n",
    " print('Learning decorators')"
   ]
  },
  {
   "cell_type": "code",
   "execution_count": null,
   "id": "ef00c423-cf5f-430a-843e-e9ae859daadb",
   "metadata": {},
   "outputs": [],
   "source": [
    "func2 = my_decorator(func2)\n",
    "func3 = my_decorator(func3)"
   ]
  },
  {
   "cell_type": "code",
   "execution_count": null,
   "id": "a5b561c5-4c81-4955-b7c0-0ea0a9cff69a",
   "metadata": {},
   "outputs": [],
   "source": [
    "@my_decorator\n",
    "def func3():\n",
    " print('Learning decorators')"
   ]
  },
  {
   "cell_type": "code",
   "execution_count": null,
   "id": "b8324cd7-4c6e-4b54-8ef1-b0b814299715",
   "metadata": {},
   "outputs": [],
   "source": [
    "@my_decorator\n",
    "def func3():\n",
    " print('Learning decorators')"
   ]
  },
  {
   "cell_type": "code",
   "execution_count": null,
   "id": "8fd7b809-1661-488f-bc21-7c9208d2fe2b",
   "metadata": {},
   "outputs": [],
   "source": [
    "def func3():\n",
    " print('Learning decorators')\n",
    "func3 = my_decorator(func3)"
   ]
  },
  {
   "cell_type": "code",
   "execution_count": null,
   "id": "df11d2ad-bcae-4df0-84a2-54774ea9decf",
   "metadata": {},
   "outputs": [],
   "source": [
    "def func1():\n",
    " x = 999 ** 99999\n",
    "def func2():\n",
    " L = [x for x in range(9999999)]\n",
    "def func3():\n",
    " x = (66 * 9999) ** 99988"
   ]
  },
  {
   "cell_type": "code",
   "execution_count": null,
   "id": "2e5b968a-97a1-469f-9b8d-cff916c3b212",
   "metadata": {},
   "outputs": [],
   "source": [
    "from time import time\n",
    "start_time = time()\n",
    "func1()\n",
    "end_time = time()\n",
    "print(f'func1 took {end_time - start_time} seconds')"
   ]
  },
  {
   "cell_type": "code",
   "execution_count": null,
   "id": "89818672-6c89-4dcc-933a-fc8ed122447b",
   "metadata": {},
   "outputs": [],
   "source": [
    "start = time()\n",
    "func2()\n",
    "end = time()\n",
    "print(f'func2 took {end - start} seconds')\n",
    "start = time()\n",
    "func3()\n",
    "end = time()\n",
    "print(f'func3 took {end - start} seconds')"
   ]
  },
  {
   "cell_type": "code",
   "execution_count": null,
   "id": "9847dd9b-c00e-471b-b5c6-972c34576937",
   "metadata": {},
   "outputs": [],
   "source": [
    "def timer(fn): \n",
    " def wrapper():\n",
    "from time import time\n",
    " start = time()\n",
    " fn()\n",
    " end = time()\n",
    " print(f'{fn.__name__} took {end - start} seconds')\n",
    " return wrapper"
   ]
  },
  {
   "cell_type": "code",
   "execution_count": null,
   "id": "69845836-15a8-43b5-8569-5a12864a20d2",
   "metadata": {},
   "outputs": [],
   "source": [
    "@timer\n",
    "def func1():\n",
    " x = 999**99999\n",
    "@timer\n",
    "def func2():\n",
    " L = [x for x in range(9999999)]\n",
    "@timer\n",
    "def func3():\n",
    " x = (66*9999)**99988\n",
    "func1()\n",
    "func2()\n",
    "func3()"
   ]
  },
  {
   "cell_type": "code",
   "execution_count": null,
   "id": "12997abb-f75e-42c5-86e7-83dba60cdb96",
   "metadata": {},
   "outputs": [],
   "source": [
    "def logger(fn):\n",
    " def wrapper():\n",
    " from time import ctime\n",
    " with open('log.txt', 'a') as fout:\n",
    " fout.write(f'{fn.__name__} called at\n",
    "{ctime()}\\n')\n",
    " fn()\n",
    " return wrapper"
   ]
  },
  {
   "cell_type": "code",
   "execution_count": null,
   "id": "87205db9-f455-4aef-a47f-6ee856743169",
   "metadata": {},
   "outputs": [],
   "source": [
    "@logger\n",
    "def func1():\n",
    " x = 999 ** 99999\n",
    "@logger\n",
    "def func2():\n",
    " L = [x for x in range(9999999)]\n",
    "func1()\n",
    "func2()"
   ]
  },
  {
   "cell_type": "code",
   "execution_count": null,
   "id": "62032923-9de4-4247-a9a0-28b5f82067e6",
   "metadata": {},
   "outputs": [],
   "source": [
    "def calls_counter(fn):\n",
    " def wrapper():\n",
    " wrapper.number_of_calls += 1\n",
    " fn()\n",
    " wrapper.number_of_calls = 0\n",
    " return wrapper\n",
    "@calls_counter\n",
    "def func1():\n",
    " x = 999 ** 99999\n",
    "@calls_counter\n",
    "def func2():\n",
    " L = [x for x in range(9999999)]\n",
    "func1()\n",
    "func2()\n",
    "func1()\n",
    "func2()\n",
    "func1()\n",
    "print(func1.number_of_calls)\n",
    "print(func2.number_of_calls)"
   ]
  },
  {
   "cell_type": "code",
   "execution_count": null,
   "id": "314ba82a-f2fa-45ed-909c-ca1ba8e1f814",
   "metadata": {},
   "outputs": [],
   "source": [
    "def timer(fn):\n",
    " def wrapper():\n",
    " from time import time\n",
    " start = time()\n",
    " fn()\n",
    " end = time()\n",
    " print(f'{fn.__name__} took {end - start}\n",
    "seconds')\n",
    " return wrapper\n",
    "@timer\n",
    "def func1():\n",
    " L = [x for x in range(999999)]\n",
    "@timer\n",
    "def func2(n):\n",
    " total = 0\n",
    " for i in range(n):\n",
    " total += i\n",
    " print(total)\n",
    "func1()\n",
    "func2(999999)"
   ]
  },
  {
   "cell_type": "code",
   "execution_count": null,
   "id": "69cb6ff3-16d4-4a57-aec0-959effdda233",
   "metadata": {},
   "outputs": [],
   "source": [
    "def timer(func):\n",
    " def wrapper(n):\n",
    " from time import time\n",
    " start = time()\n",
    " func(n)\n",
    " end = time()\n",
    " print(f'{fn.__name__} took {end - start} seconds')\n",
    " return wrapper"
   ]
  },
  {
   "cell_type": "code",
   "execution_count": null,
   "id": "20831216-87d5-4b9f-9ee5-2eac01057ffe",
   "metadata": {},
   "outputs": [],
   "source": [
    "def timer(fn):\n",
    " def wrapper(*args, **kwargs):\n",
    " from time import time\n",
    " start = time()\n",
    " fn(*args, **kwargs)\n",
    " end = time()\n",
    " print(f'{fn.__name__} took {end - start} seconds')\n",
    " return wrapper"
   ]
  },
  {
   "cell_type": "code",
   "execution_count": null,
   "id": "b8035820-bfcf-4de3-a9cc-39b79c30ddf0",
   "metadata": {},
   "outputs": [],
   "source": [
    "def timer(fn):\n",
    " def wrapper(*args, **kwargs):\n",
    " from time import time\n",
    " start = time()\n",
    " fn(*args, **kwargs)\n",
    " end = time()\n",
    " print(f'{fn.__name__} took {end - start}\n",
    "seconds')\n",
    " return wrapper\n",
    "@timer\n",
    "def func(n):\n",
    " print('func executing')\n",
    " return n * 2\n",
    "s = func(9)\n",
    "print(s)"
   ]
  },
  {
   "cell_type": "code",
   "execution_count": null,
   "id": "71db9f55-1e45-4c95-8a27-64d57bfa0617",
   "metadata": {},
   "outputs": [],
   "source": [
    "def timer(fn):\n",
    " def wrapper(*args, **kwargs):\n",
    " from time import time\n",
    " start = time()\n",
    " result = fn(*args, **kwargs)\n",
    " end = time()\n",
    " print(f'{fn.__name__} took {end - start} seconds')\n",
    "    return result\n",
    " return wrapper"
   ]
  },
  {
   "cell_type": "code",
   "execution_count": null,
   "id": "0da32628-8b06-43cb-8db8-6cac3bd02562",
   "metadata": {},
   "outputs": [],
   "source": [
    "def limit_return_value(fn):\n",
    " def wrapper(*args, **kwargs):\n",
    " result = fn(*args, **kwargs)\n",
    " if result < 0 or result > 1000:\n",
    " raise ValueError('Value returned is\n",
    "not within limits')\n",
    " return result\n",
    " return wrapper\n",
    "@limit_return_value\n",
    "def func1(x, n):\n",
    " return x ** n\n",
    "@limit_return_value\n",
    "def func2(n):\n",
    "    total = 0\n",
    " for i in range (n):\n",
    " total += i\n",
    " return total\n",
    " \n",
    "x = func1(2,5)\n",
    "print(x)\n",
    "y = func2(600)\n",
    "print(y)"
   ]
  },
  {
   "cell_type": "code",
   "execution_count": null,
   "id": "01e8a812-49f0-483f-a659-12f79dc9b55c",
   "metadata": {},
   "outputs": [],
   "source": [
    "def accepts_ints(fn):\n",
    " def wrapper(*args, **kwargs):\n",
    " arguments = args\n",
    " arguments += tuple(kwargs.values())\n",
    " for argument in arguments:\n",
    " if not isinstance(argument, int):\n",
    " raise TypeError('This function accepts only integer arguments')\n",
    " result = fn(*args, **kwargs)\n",
    " return result\n",
    " return wrapper\n",
    "@accepts_ints\n",
    "def func1(x, n):\n",
    " return x ** n\n",
    "@accepts_ints\n",
    "def func2(n):\n",
    " total = 0\n",
    " for i in range (n):\n",
    " total += i\n",
    " return total\n",
    "x = func1(2, n=5.8)\n",
    "    y = func2(50)\n",
    "print(x, y)"
   ]
  },
  {
   "cell_type": "code",
   "execution_count": null,
   "id": "43db8939-792a-42ef-8f56-4b189617e209",
   "metadata": {},
   "outputs": [],
   "source": [
    "@decorator1\n",
    "@decorator2\n",
    "@decorator3\n",
    "def func():\n",
    " print('Hello')"
   ]
  },
  {
   "cell_type": "code",
   "execution_count": null,
   "id": "44f9db49-4f11-43ec-9f76-7cbf5147c63a",
   "metadata": {},
   "outputs": [],
   "source": [
    "def func():\n",
    " print('Hello')\n",
    "func = decorator1(decorator2(decorator3(func)))"
   ]
  },
  {
   "cell_type": "code",
   "execution_count": null,
   "id": "f8ee9551-1610-4529-9951-f52c08b30072",
   "metadata": {},
   "outputs": [],
   "source": [
    "@accepts_ints\n",
    "@limit_return_value\n",
    "def func1(x, n):\n",
    " return x ** n\n",
    "x = func1(2, n=59)\n",
    "print(x)"
   ]
  },
  {
   "cell_type": "code",
   "execution_count": null,
   "id": "369d65c0-6828-4033-8571-fed170090510",
   "metadata": {},
   "outputs": [],
   "source": [
    "def username(email_id):\n",
    " return email_id[:email_id.index('@')]\n",
    "u1 = username('john@xmail.com')\n",
    "u2 = username('jack@zmail.com')\n",
    "print(u1, u2)"
   ]
  },
  {
   "cell_type": "code",
   "execution_count": null,
   "id": "cc61b080-fa8b-4b1e-bbed-e1cebc6ed545",
   "metadata": {},
   "outputs": [],
   "source": [
    "def trace(fn):\n",
    " def wrapper(*args, **kwargs):\n",
    " print(f'{fn.__name__} called')\n",
    " print(f'args : {args} kwargs : {kwargs}')\n",
    " result = fn(*args, **kwargs)\n",
    " print(f'Return value : {result}\\n') \n",
    " return result\n",
    " return wrapper"
   ]
  },
  {
   "cell_type": "code",
   "execution_count": null,
   "id": "19133c92-9114-4fea-8c4e-10aefaf09076",
   "metadata": {},
   "outputs": [],
   "source": [
    "@trace\n",
    "def username(email_id):\n",
    " return email_id[:email_id.index('@')]\n",
    "u1 = username('john@xmail.com')\n",
    "u2 = username('jack@zmail.com')\n",
    "print(u1, u2)"
   ]
  },
  {
   "cell_type": "code",
   "execution_count": null,
   "id": "70487db5-69de-4621-8eef-e72ee4a2be7d",
   "metadata": {},
   "outputs": [],
   "source": [
    "def capitalizer(fn):\n",
    " def wrapper(*args, **kwargs):\n",
    " result = fn(*args, **kwargs)\n",
    " return result.upper()\n",
    " return wrapper"
   ]
  },
  {
   "cell_type": "code",
   "execution_count": null,
   "id": "148984cb-98af-4892-acfb-60c86404882c",
   "metadata": {},
   "outputs": [],
   "source": [
    "@capitalizer\n",
    "def username(email_id):\n",
    " return email_id[:email_id.index('@')]\n",
    "u1 = username('john@xmail.com')\n",
    "u2 = username('jack@zmail.com')\n",
    "print(u1, u2)"
   ]
  },
  {
   "cell_type": "code",
   "execution_count": null,
   "id": "10326f6a-04c7-4ce9-b4ad-446a6356092c",
   "metadata": {},
   "outputs": [],
   "source": [
    "@capitalizer\n",
    "@trace\n",
    "def username(email_id):\n",
    " return email_id[:email_id.index('@')]\n",
    "u1 = username('john@xmail.com')\n",
    "u2 = username('jack@zmail.com')\n",
    "print(u1, u2)"
   ]
  },
  {
   "cell_type": "code",
   "execution_count": null,
   "id": "d41709f7-d646-4c08-83b6-4777160b857f",
   "metadata": {},
   "outputs": [],
   "source": [
    "@capitalizer\n",
    "def username(email_id):\n",
    " return email_id[:email_id.index('@')]\n",
    "u1 = username('john@xmail.com')\n",
    "u2 = username('jack@zmail.com')\n",
    "print(u1, u2)"
   ]
  },
  {
   "cell_type": "code",
   "execution_count": null,
   "id": "3844c507-503b-4540-8d49-44ce3735813b",
   "metadata": {},
   "outputs": [],
   "source": [
    "def trace(fn):\n",
    " def wrapper(*args, **kwargs):\n",
    " print(f'{fn.__name__} called')\n",
    " print(f'args : {args} kwargs : {kwargs}')\n",
    " result = fn(*args, **kwargs)\n",
    " print(f'Return value : {result}\\n') \n",
    " return result\n",
    " return wrapper\n",
    "def username(email_id):\n",
    " \"\"\"Returns the username from an email id\"\"\"\n",
    " return email_id[:email_id.index('@')]\n",
    "u1 = username('john@xmail.com')"
   ]
  },
  {
   "cell_type": "code",
   "execution_count": null,
   "id": "c2138d05-a9d2-45c2-a7f7-dbe9e98e2313",
   "metadata": {},
   "outputs": [],
   "source": [
    "username.__name__"
   ]
  },
  {
   "cell_type": "code",
   "execution_count": null,
   "id": "b23d619d-5f91-4f1e-8c1b-b2d315dea9ca",
   "metadata": {},
   "outputs": [],
   "source": [
    "username.__doc__"
   ]
  },
  {
   "cell_type": "code",
   "execution_count": null,
   "id": "bfe1220f-d282-402f-a609-9e4ce4781e7e",
   "metadata": {},
   "outputs": [],
   "source": [
    "help(username)"
   ]
  },
  {
   "cell_type": "code",
   "execution_count": null,
   "id": "7123f417-23c1-40c8-8e3b-4de9a42700c7",
   "metadata": {},
   "outputs": [],
   "source": [
    "username"
   ]
  },
  {
   "cell_type": "code",
   "execution_count": null,
   "id": "6df3be2f-4cf3-4797-8f59-792199b7759e",
   "metadata": {},
   "outputs": [],
   "source": [
    "@trace\n",
    "def username(email_id):\n",
    " \"\"\"Returns the username from an emailid\"\"\"\n",
    " return email_id[:email_id.index('@')]"
   ]
  },
  {
   "cell_type": "code",
   "execution_count": null,
   "id": "67f8b2af-371d-497b-9ecc-8ed247d6221c",
   "metadata": {},
   "outputs": [],
   "source": [
    "username.__name__"
   ]
  },
  {
   "cell_type": "code",
   "execution_count": null,
   "id": "0621acca-d88a-46eb-a306-7faeef9c5b02",
   "metadata": {},
   "outputs": [],
   "source": [
    "username.__doc__\n",
    "help(username)"
   ]
  },
  {
   "cell_type": "code",
   "execution_count": null,
   "id": "4728f063-5e77-4317-9644-ffa31625b141",
   "metadata": {},
   "outputs": [],
   "source": [
    "username"
   ]
  },
  {
   "cell_type": "code",
   "execution_count": null,
   "id": "24214b40-5cac-435b-9fab-f9124c348592",
   "metadata": {},
   "outputs": [],
   "source": [
    "from functools import wraps\n",
    "\n",
    "def trace(fn):\n",
    " @wraps(fn)\n",
    " def wrapper(*args, **kwargs):\n",
    " print(f'{fn.__name__} called')\n",
    " print(f'args : {args} kwargs : {kwargs}')\n",
    " result = fn(*args, **kwargs)\n",
    " print(f'Return value : {result}\\n') \n",
    " return result\n",
    " return wrapper"
   ]
  },
  {
   "cell_type": "code",
   "execution_count": null,
   "id": "82a8913d-abb9-4d75-b95f-1189e36433af",
   "metadata": {},
   "outputs": [],
   "source": [
    "username.__name__"
   ]
  },
  {
   "cell_type": "code",
   "execution_count": null,
   "id": "08c44a44-1b6c-4786-9d86-00740e890f84",
   "metadata": {},
   "outputs": [],
   "source": [
    "username.__doc__"
   ]
  },
  {
   "cell_type": "code",
   "execution_count": null,
   "id": "d0d5a6cd-5dc6-4362-9162-6ff515457925",
   "metadata": {},
   "outputs": [],
   "source": [
    "help(username)"
   ]
  },
  {
   "cell_type": "code",
   "execution_count": null,
   "id": "448034ec-e060-4739-8797-77965e08dfbb",
   "metadata": {},
   "outputs": [],
   "source": [
    "username"
   ]
  },
  {
   "cell_type": "code",
   "execution_count": null,
   "id": "8e2b0b29-b903-4e08-91aa-51931c6f4b7b",
   "metadata": {},
   "outputs": [],
   "source": [
    "from functools import wraps\n",
    "def decorator_name(fn):\n",
    " @wraps(fn)\n",
    " def wrapper(*args, **kwargs):\n",
    " #Place code that has to be executed before\n",
    "function call\n",
    " result = fn(*args, **kwargs)\n",
    " #Place code that has to be executed after function call\n",
    " return result\n",
    " return wrapper"
   ]
  },
  {
   "cell_type": "code",
   "execution_count": null,
   "id": "b62ddb8d-8da8-4d73-9313-ff414f048c21",
   "metadata": {},
   "outputs": [],
   "source": [
    "from functools import wraps\n",
    "\n",
    "def limit_return_value(fn):\n",
    " @wraps(fn)\n",
    " def wrapper(*args, **kwargs):\n",
    "result = fn(*args, **kwargs)\n",
    " if result < 0 or result > 1000:\n",
    " raise ValueError('Value returned is\n",
    "not within limits')\n",
    " return result\n",
    " return wrapper\n",
    "@limit_return_value\n",
    "def func1(x, n):\n",
    " return x ** n"
   ]
  },
  {
   "cell_type": "code",
   "execution_count": null,
   "id": "22ccd19d-dd69-46c4-b43a-d642fcfa0489",
   "metadata": {},
   "outputs": [],
   "source": [
    "def func2(m, n):\n",
    " return m + n\n",
    "def func3(m, n):\n",
    " return m * n"
   ]
  },
  {
   "cell_type": "code",
   "execution_count": null,
   "id": "cf8706b1-4922-4c61-a773-8fb232a545da",
   "metadata": {},
   "outputs": [],
   "source": [
    "from functools import wraps\n",
    "def limit_return_value(fn, lower_limit,\n",
    "upper_limit):\n",
    " @wraps(fn)\n",
    " def wrapper(*args, **kwargs):\n",
    " result = fn(*args, **kwargs)\n",
    "if result < lower_limit or result >\n",
    "upper_limit:\n",
    " raise ValueError('Value returned is not within limits')\n",
    " return result\n",
    " return wrapper\n",
    "def func2(m, n):\n",
    " return m + n\n",
    "func2 = limit_return_value(func2, 100, 500)\n",
    "func2(2, 90)"
   ]
  },
  {
   "cell_type": "code",
   "execution_count": null,
   "id": "bf750308-8a29-4900-86a4-aa5db297e289",
   "metadata": {},
   "outputs": [],
   "source": [
    "def limit_return_value(lower_limit, upper_limit):\n",
    " def actual_decorator(fn):\n",
    " @wraps(fn)\n",
    " def wrapper(*args, **kwargs):\n",
    " result = fn(*args, **kwargs)\n",
    " if result < lower_limit or result > upper_limit:\n",
    " raise ValueError('Value returned is not within limits')\n",
    " return result\n",
    "return wrapper\n",
    " return actual_decorator"
   ]
  },
  {
   "cell_type": "code",
   "execution_count": null,
   "id": "f7860d4e-1cd2-4b21-8a72-380132443360",
   "metadata": {},
   "outputs": [],
   "source": [
    "@limit_return_value(0, 1000)\n",
    "def func1(x, n):\n",
    " return x ** n"
   ]
  },
  {
   "cell_type": "code",
   "execution_count": null,
   "id": "042ae563-1e75-42bd-92cc-cf2f34a48e6a",
   "metadata": {},
   "outputs": [],
   "source": [
    "@limit_return_value(100, 500)\n",
    "def func2(m, n):\n",
    " return m + n\n",
    "@limit_return_value(0, 5000)\n",
    "def func3(m, n):\n",
    " return m * n"
   ]
  },
  {
   "cell_type": "code",
   "execution_count": null,
   "id": "33efc3a4-f016-40f2-9854-802c36e4fcda",
   "metadata": {},
   "outputs": [],
   "source": [
    "def func3(x, n):\n",
    " return x * n\n",
    "func3 = limit_return_value(0,5000)(func3)"
   ]
  },
  {
   "cell_type": "code",
   "execution_count": null,
   "id": "540b3635-fa37-4853-977b-6ee6578bfc00",
   "metadata": {},
   "outputs": [],
   "source": [
    "from functools import wraps\n",
    "def decorator_name(parameter1, parameter2, …):\n",
    " def actual_decorator(fn):\n",
    " @wraps(fn)\n",
    " def wrapper(*args, **kwargs):\n",
    " #Place code that has to be executed before\n",
    "function call\n",
    " result = fn(*args, **kwargs)\n",
    " #Place code that has to be executed after function call\n",
    "return result\n",
    " return wrapper\n",
    " return actual_decorator"
   ]
  },
  {
   "cell_type": "code",
   "execution_count": null,
   "id": "f69d57c8-6dc8-49f7-a36a-0c0231a11e68",
   "metadata": {},
   "outputs": [],
   "source": [
    "def trace(fn):\n",
    " @wraps(fn)\n",
    " def wrapper(*args, **kwargs):\n",
    " print(f'{fn.__name__} called')\n",
    " print(f'args : {args} kwargs : {kwargs}')\n",
    " result = fn(*args, **kwargs)\n",
    " print(f'Return value : {result}\\n') \n",
    " return result\n",
    " return wrapper"
   ]
  },
  {
   "cell_type": "code",
   "execution_count": null,
   "id": "e679f794-e3a2-460c-ae85-acca0b5839df",
   "metadata": {},
   "outputs": [],
   "source": [
    "def trace(active=True):\n",
    " def actual_decorator(fn):\n",
    " if active:\n",
    " @wraps(fn)\n",
    " def wrapper(*args, **kwargs):\n",
    " print(f'{fn.__name__} called')\n",
    " print(f'args : {args} kwargs :\n",
    "{kwargs}')\n",
    " result = fn(*args, **kwargs)\n",
    " print(f'Return value :\n",
    "{result}\\n')\n",
    " return result\n",
    " return wrapper\n",
    " else:\n",
    " return fn\n",
    " return actual_decorator"
   ]
  },
  {
   "cell_type": "code",
   "execution_count": null,
   "id": "8b08ef68-3ac2-4ffb-bb30-17a5aa871a45",
   "metadata": {},
   "outputs": [],
   "source": [
    "@trace(active = False)\n",
    "def func1(x, n):\n",
    " return x ** n\n",
    "@trace()\n",
    "def func2(m, n):\n",
    " return m * n\n",
    "@trace(True)\n",
    "def func3(m, n):\n",
    " return m + n\n",
    "x = func1(2, 4)\n",
    "y = func2(10, 3)\n",
    "z = func3(2, 4)\n",
    "print(x, y, z)"
   ]
  },
  {
   "cell_type": "code",
   "execution_count": null,
   "id": "79637f49-72f4-43d6-b5e8-63830363a98e",
   "metadata": {},
   "outputs": [],
   "source": [
    "from math import factorial\n",
    "from random import randint\n",
    "\n",
    "def trace(fn):\n",
    " def wrapper(*args, **kwargs):\n",
    " print(f'{fn.__name__} called')\n",
    " print(f'args : {args} kwargs : {kwargs}')\n",
    " result = fn(*args, **kwargs)\n",
    " print(f'Return value : {result}\\n') \n",
    " return result\n",
    " return wrapper\n",
    "factorial = trace(factorial)\n",
    "randint = trace(randint)\n",
    "factorial(3)\n",
    "randint(5, 50)"
   ]
  },
  {
   "cell_type": "code",
   "execution_count": null,
   "id": "22f6c3fa-297c-40d9-81d6-b34538d14ecd",
   "metadata": {},
   "outputs": [],
   "source": [
    "class MyClass:\n",
    " def __init__(self, a):\n",
    " self.a = a\n",
    " @timer\n",
    " def method1(self, x, y):\n",
    " print('method1 executing')\n",
    " @timer\n",
    " def method2(self, x, y):\n",
    " print('method2 executing')\n",
    " @trace\n",
    " def method3(self, x, y):\n",
    " print('method3 executing')"
   ]
  },
  {
   "cell_type": "code",
   "execution_count": null,
   "id": "84f5e006-492d-4c1b-90ce-03eafcc35025",
   "metadata": {},
   "outputs": [],
   "source": [
    "@decorator\n",
    "class MyClass:\n",
    " pass\n",
    "class MyClass:\n",
    " pass\n",
    "MyClass = decorator(MyClass)"
   ]
  },
  {
   "cell_type": "code",
   "execution_count": null,
   "id": "68059944-c405-4b76-a5f4-70820fa6e0e6",
   "metadata": {},
   "outputs": [],
   "source": [
    "def my_decorator(cls):\n",
    " if cls.__doc__ is None:\n",
    " cls.__doc__ = '\\nThis is an important\n",
    "class\\n'\n",
    " else:\n",
    " cls.__doc__ += '\\nThis is an important\n",
    "class\\n'\n",
    " cls.author = 'Ryan'\n",
    " return cls\n",
    "@my_decorator\n",
    "class Person:\n",
    " \"\"\"This is the docstring of Person class\"\"\"\n",
    " def __init__(self, name, age):\n",
    " self.name = name\n",
    " self.age = age\n",
    " def speak(self):\n",
    " print(f'Hello, I am {self.name}')\n",
    "print(Person.__doc__)\n",
    "print(Person.__dict__)\n",
    "class Car:\n",
    "    def __init__(self, model, max_speed):\n",
    " self.model = model\n",
    " self.max_speed = max_speed\n",
    " def show(self):\n",
    " print(f'{self.model}, {self.max_speed}')\n",
    "Car = my_decorator(Car)\n",
    "print(Car.__doc__) \n",
    "print(Car.__dict__)"
   ]
  },
  {
   "cell_type": "code",
   "execution_count": null,
   "id": "57b2b959-6324-4f54-8774-5d32c7cb4df4",
   "metadata": {},
   "outputs": [],
   "source": [
    "def add_creation_time(cls):\n",
    " init = cls.__init__\n",
    " def new_init(self,*args, **kwargs):\n",
    " from time import ctime\n",
    " self.time_of_creation = ctime()\n",
    " print(f'A new object of type {cls.__name__ } created')\n",
    "init(self,*args, **kwargs)\n",
    " cls.__init__ = new_init\n",
    " return cls\n",
    "@add_creation_time \n",
    "class Person:\n",
    " def __init__(self, name, age):\n",
    " self.name = name\n",
    " self.age = age\n",
    " def speak(self):\n",
    " print(f'Hello, I am {self.name}')\n",
    "@add_creation_time\n",
    "class Car:\n",
    " def __init__(self, model, color):\n",
    " self.model = model\n",
    " self.color = color\n",
    " def show(self):\n",
    " print(f'{self.model}, {self.max_speed}')\n",
    "bob = Person('Bob', 23)\n",
    "tom = Person('Tom', 66)\n",
    "x = Car('Audi R8', 'White')\n",
    "y = Car('Jaguar XJ', 'Black')\n",
    "print(bob.time_of_creation)\n",
    "print(tom.time_of_creation)\n",
    "print(x.time_of_creation)\n",
    "print(y.time_of_creation)"
   ]
  },
  {
   "cell_type": "code",
   "execution_count": null,
   "id": "ac2a8e31-4fe5-46fb-b175-d69a552a73da",
   "metadata": {},
   "outputs": [],
   "source": [
    "def counter(cls):\n",
    " cls.count = 0\n",
    " init = cls.__init__\n",
    " def new_init(self,*args, **kwargs):\n",
    " cls.count += 1\n",
    " self.serial_number = cls.count\n",
    " init(self,*args, **kwargs)\n",
    " cls.__init__ = new_init\n",
    " cls.__lt__ = lambda self, other:\n",
    "self.serial_number < other.serial_number\n",
    " cls.__gt__ = lambda self, other:\n",
    "self.serial_number > other.serial_number\n",
    " return cls\n",
    "@counter\n",
    "class Person:\n",
    " def __init__(self, name, age):\n",
    " self.name = name\n",
    " self.age = age\n",
    " def speak(self):\n",
    "      print(f'Hello, I am {self.name}')\n",
    "@counter\n",
    "class Car:\n",
    " def __init__(self, model, color):\n",
    " self.model = model\n",
    " self.color = color\n",
    " def show(self):\n",
    " print(f'{self.model}, {self.max_speed}')\n",
    "bob = Person('Bob',23)\n",
    "tom = Person('Tom',66)\n",
    "sam = Person('Sam',45)\n",
    "jim = Person('Jim',56)\n",
    "x = Car('Audi R8','White')\n",
    "y = Car('Jaguar XJ','Black')\n",
    "z = Car('Toyota Glanza','Blue')\n",
    "L = [tom, bob, jim, sam]\n",
    "print(Person.count, Car.count)\n",
    "print(sam.serial_number, x.serial_number)\n",
    "for person in sorted(L):\n",
    " print(person.name, end=' ')"
   ]
  },
  {
   "cell_type": "code",
   "execution_count": null,
   "id": "3eb28db7-e2ac-46d0-8b36-d9a96f322785",
   "metadata": {},
   "outputs": [],
   "source": [
    "def introducer(cls):\n",
    " def introduce_yourself(self):\n",
    " print(f'I am an instance object of\n",
    "{self.__class__.__name__} ')\n",
    " print(f'My id is {hex(id(self))}')\n",
    " print(f'Here are my attributes - ')\n",
    " for key,value in self.__dict__.items():\n",
    " print(f'{key} : {value}')\n",
    " cls.introduce_yourself = introduce_yourself\n",
    " return cls\n",
    "@introducer\n",
    "class Person:\n",
    " def __init__(self, name, age):\n",
    " self.name = name\n",
    " self.age = age\n",
    " def speak(self):\n",
    " print(f'Hello, I am {self.name}')\n",
    "@introducer\n",
    "class Car:\n",
    "    def __init__(self, model, color):\n",
    " self.model = model\n",
    " self.color = color\n",
    " def show(self):\n",
    " print(f'{self.model}, {self.max_speed}')\n",
    "bob = Person('Bob',23)\n",
    "tom = Person('Tom',66)\n",
    "sam = Person('Sam',45)\n",
    "x = Car('Audi R8','White'))\n",
    "y = Car('Jaguar XJ','Black')\n",
    "z = Car('Toyota Glanza','Blue')\n",
    "bob.introduce_yourself()\n",
    "y.introduce_yourself()"
   ]
  },
  {
   "cell_type": "code",
   "execution_count": null,
   "id": "bef8cba8-6074-44eb-99ab-05c8940a1235",
   "metadata": {},
   "outputs": [],
   "source": [
    "def introduce_yourself(self):\n",
    " print(f'I am an instance object of\n",
    "{self.__class__.__name__} ')\n",
    " print(f'My id is {hex(id(self))}')\n",
    " print(f'Here are my attributes - ')\n",
    " for key,value in self.__dict__.items():\n",
    " print(f'{key} : {value}')\n",
    "def introducer(cls):\n",
    " cls.introduce_yourself = introduce_yourself\n",
    " return cls"
   ]
  },
  {
   "cell_type": "code",
   "execution_count": null,
   "id": "da8d7065-6e6c-4e15-8427-c461a9949f76",
   "metadata": {},
   "outputs": [],
   "source": [
    "from functools import wraps\n",
    "\n",
    "def trace(fn):\n",
    " @wraps(fn)\n",
    " def wrapper(*args, **kwargs):\n",
    " print(f'{fn.__name__} called')\n",
    " print(f'args : {args} kwargs : {kwargs}')\n",
    " result = fn(*args, **kwargs)\n",
    " print(f'Return value : {result}\\n') \n",
    " return result\n",
    " return wrapper"
   ]
  },
  {
   "cell_type": "code",
   "execution_count": null,
   "id": "9b2130d0-46c0-4858-95e7-c30e8def75aa",
   "metadata": {},
   "outputs": [],
   "source": [
    "def tracer(cls):\n",
    " for attr_name, value in cls.__dict__.items():\n",
    " if callable(value):\n",
    " setattr(cls, attr_name, trace(value))\n",
    " return cls\n",
    "@tracer\n",
    "class MyClass:\n",
    "def __init__(self, name, a, b):\n",
    " self.name = name\n",
    " self.a = a\n",
    " self.b = b\n",
    " def method1(self, x):\n",
    " return self.a + x\n",
    " def method2(self, message):\n",
    " print(message + self.name)\n",
    "a = MyClass('ABC', 1, 2)\n",
    "a.method1(4)\n",
    "a.method2(message = 'Hello ')"
   ]
  },
  {
   "cell_type": "code",
   "execution_count": null,
   "id": "5812b2bf-80f8-4b47-905f-e6a9560615fd",
   "metadata": {},
   "outputs": [],
   "source": [
    "def tracer(cls):\n",
    " for attr_name, value in cls.__dict__.items():\n",
    " if callable(value) and\n",
    "not(attr_name.startswith(\"__\") and\n",
    "attr_name.endswith(\"__\") ):\n",
    " setattr(cls, attr_name, trace(value) )\n",
    " return cls"
   ]
  },
  {
   "cell_type": "code",
   "execution_count": null,
   "id": "b4f79f41-ae10-4956-8569-8be5b3d4d444",
   "metadata": {},
   "outputs": [],
   "source": [
    "def trace(fn):\n",
    " @wraps(fn)\n",
    " def wrapper(*args, **kwargs):\n",
    " print(f'{fn.__name__} called')\n",
    " print(f'args : {args[1:]} kwargs :\n",
    "{kwargs}' )\n",
    " result = fn(*args, **kwargs)\n",
    " print(f'Return value : {result}\\n') \n",
    " return result\n",
    " return wrapper"
   ]
  },
  {
   "cell_type": "code",
   "execution_count": null,
   "id": "777c4491-96a5-43ef-805b-30f33e71f3f3",
   "metadata": {},
   "outputs": [],
   "source": [
    "class MyDecorator:\n",
    " def __init__(self, fn):\n",
    " self.fn = fn\n",
    " def __call__(self,*args, **kwargs):\n",
    " print('Decoration before execution of function')\n",
    " self.fn(*args, **kwargs)\n",
    "print('Decoration after execution of function\\n')\n",
    "def func(message, name):\n",
    " print(message, name)\n",
    "func = MyDecorator(func)"
   ]
  },
  {
   "cell_type": "code",
   "execution_count": null,
   "id": "54fe7695-2529-4144-b658-c6a76e73aa3e",
   "metadata": {},
   "outputs": [],
   "source": [
    "func"
   ]
  },
  {
   "cell_type": "code",
   "execution_count": null,
   "id": "27a460b3-cfdc-410f-aff8-8026a76f1dd9",
   "metadata": {},
   "outputs": [],
   "source": [
    "func('hello', 'bob')"
   ]
  },
  {
   "cell_type": "code",
   "execution_count": null,
   "id": "28b98618-776f-4689-9cae-23ed58abd487",
   "metadata": {},
   "outputs": [],
   "source": [
    "func('hi', 'tom')"
   ]
  },
  {
   "cell_type": "code",
   "execution_count": null,
   "id": "da0c0944-17f9-488f-bee9-08df55666589",
   "metadata": {},
   "outputs": [],
   "source": [
    "@MyDecorator\n",
    "def func(message, name):\n",
    " print(message, name)\n",
    "You can return the result from the __call__ method, so that the return\n",
    "value of the original function is not lost.\n",
    "def __call__(self,*args, **kwargs):\n",
    " print('Decoration before execution of\n",
    "function')\n",
    " result = self.fn(*args, **kwargs)\n",
    " print('Decoration after execution of function\\n')\n",
    " return result"
   ]
  },
  {
   "cell_type": "code",
   "execution_count": null,
   "id": "108bcd97-a3c3-46eb-bd9b-4755c145f739",
   "metadata": {},
   "outputs": [],
   "source": [
    "def __init__(self, fn):\n",
    " self.fn = fn\n",
    " wraps(fn)(self)\n",
    " self.author = 'Jim' # Add a new attribute here"
   ]
  },
  {
   "cell_type": "code",
   "execution_count": null,
   "id": "f05fad8c-7b3e-4b66-8305-40031393eee5",
   "metadata": {},
   "outputs": [],
   "source": [
    "class MyDecoratorWithArgs:\n",
    " def __init__(self, a1, a2):\n",
    " self.a1 = a1\n",
    " self.a2 = a2\n",
    " print(f'Decorator arguments {a1}, {a2}')\n",
    " def __call__(self, fn):\n",
    " def wrapper(*args, **kwargs):\n",
    " print('Executed Before function call')\n",
    " result = fn(*args, **kwargs)\n",
    " print('Executed After function call\\n')\n",
    " return result\n",
    " return wrapper\n",
    "@MyDecoratorWithArgs('Hello', 10)\n",
    "def func1():\n",
    " print('func1 executing')\n",
    "@MyDecoratorWithArgs(10, 12)\n",
    "def func2(a, b):\n",
    "print('func2 executing')\n",
    "def func3():\n",
    " print('func3 executing')\n",
    "func3 = MyDecoratorWithArgs(3,5)(func3)\n",
    "func1()\n",
    "func2(1, 2)\n",
    "func3()"
   ]
  },
  {
   "cell_type": "markdown",
   "id": "cb775888-ac44-46e2-892b-b5ae63f61147",
   "metadata": {},
   "source": [
    "Happy Programming"
   ]
  }
 ],
 "metadata": {
  "kernelspec": {
   "display_name": "Python 3 (ipykernel)",
   "language": "python",
   "name": "python3"
  },
  "language_info": {
   "codemirror_mode": {
    "name": "ipython",
    "version": 3
   },
   "file_extension": ".py",
   "mimetype": "text/x-python",
   "name": "python",
   "nbconvert_exporter": "python",
   "pygments_lexer": "ipython3",
   "version": "3.12.7"
  }
 },
 "nbformat": 4,
 "nbformat_minor": 5
}
