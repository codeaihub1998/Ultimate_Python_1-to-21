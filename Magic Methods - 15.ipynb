{
 "cells": [
  {
   "cell_type": "code",
   "execution_count": 2,
   "id": "a493851b-89d2-4ae0-ada7-64bb89b84785",
   "metadata": {},
   "outputs": [
    {
     "data": {
      "text/plain": [
       "9"
      ]
     },
     "execution_count": 2,
     "metadata": {},
     "output_type": "execute_result"
    }
   ],
   "source": [
    "4 + 5 # Add"
   ]
  },
  {
   "cell_type": "code",
   "execution_count": 3,
   "id": "cf695177-83c8-4947-875e-a658b0f6f6f8",
   "metadata": {},
   "outputs": [
    {
     "data": {
      "text/plain": [
       "'helloworld'"
      ]
     },
     "execution_count": 3,
     "metadata": {},
     "output_type": "execute_result"
    }
   ],
   "source": [
    "'hello' + 'world' # Concatenate"
   ]
  },
  {
   "cell_type": "code",
   "execution_count": 4,
   "id": "c817f53e-eb4c-4b70-94bf-29741f8f841f",
   "metadata": {},
   "outputs": [
    {
     "data": {
      "text/plain": [
       "6"
      ]
     },
     "execution_count": 4,
     "metadata": {},
     "output_type": "execute_result"
    }
   ],
   "source": [
    "2 * 3 # Multiply"
   ]
  },
  {
   "cell_type": "code",
   "execution_count": 5,
   "id": "38a845cc-bd8e-410d-ad1b-3482a15e66f5",
   "metadata": {},
   "outputs": [
    {
     "data": {
      "text/plain": [
       "'hellohellohello'"
      ]
     },
     "execution_count": 5,
     "metadata": {},
     "output_type": "execute_result"
    }
   ],
   "source": [
    "'hello' * 3 # Repeat"
   ]
  },
  {
   "cell_type": "markdown",
   "id": "6f11e991-ef6c-4ef3-a855-39ea1cd2a448",
   "metadata": {},
   "source": [
    "Overloading binary arithimetic operators"
   ]
  },
  {
   "cell_type": "code",
   "execution_count": null,
   "id": "e5b8d63e-a9ed-41fc-bf3d-62fd7c1690be",
   "metadata": {},
   "outputs": [],
   "source": [
    "class Fraction:\n",
    " def __init__(self, nr, dr=1):\n",
    " self.nr = nr\n",
    " self.dr = dr\n",
    " if self.dr < 0: \n",
    " self.nr *= -1\n",
    " self.dr *= -1\n",
    " self._reduce()\n",
    " def show(self):\n",
    "print(f'{self.nr}/{self.dr}')\n",
    " def add(self, other):\n",
    " if isinstance(other, int):\n",
    " other = Fraction(other)\n",
    " f = Fraction(self.nr * other.dr + other.nr\n",
    "* self.dr, self.dr * other.dr)\n",
    " f._reduce()\n",
    " return f\n",
    " def multiply(self, other):\n",
    " if isinstance(other,int):\n",
    " other = Fraction(other)\n",
    " f = Fraction(self.nr * other.nr , self.dr *\n",
    "other.dr)\n",
    " f._reduce()\n",
    " return f\n",
    " def _reduce(self):\n",
    " h = Fraction.hcf(self.nr, self.dr)\n",
    " if h == 0:\n",
    "     return\n",
    " self.nr //= h\n",
    " self.dr //= h\n",
    " @staticmethod\n",
    " def hcf(x, y):\n",
    " x = abs(x)\n",
    " y = abs(y)\n",
    " smaller = y if x > y else x\n",
    "s = smaller\n",
    " while s > 0:\n",
    " if x %s ==0 and y % s == 0:\n",
    " break\n",
    " s -= 1\n",
    " return s"
   ]
  },
  {
   "cell_type": "code",
   "execution_count": null,
   "id": "dab6b307-f98a-413e-8a01-b2a79523bea0",
   "metadata": {},
   "outputs": [],
   "source": [
    "f1 = Fraction(2, 3)\n",
    "f2 = Fraction(3, 4)\n",
    "f3 = f1 + f2"
   ]
  },
  {
   "cell_type": "code",
   "execution_count": null,
   "id": "727550b5-7fa4-41b1-bcd9-c849cacbeb64",
   "metadata": {},
   "outputs": [],
   "source": [
    "f4 = f1 * f2"
   ]
  },
  {
   "cell_type": "code",
   "execution_count": null,
   "id": "8022c336-c3fd-4ea3-a002-063a2bea314c",
   "metadata": {},
   "outputs": [],
   "source": [
    "f3 = f1.add(f2)\n",
    "f3.show()"
   ]
  },
  {
   "cell_type": "code",
   "execution_count": null,
   "id": "452acb0a-63c7-497e-8b2a-0966d28e28ae",
   "metadata": {},
   "outputs": [],
   "source": [
    "f4 = f1.multiply(f2)\n",
    "f4.show()"
   ]
  },
  {
   "cell_type": "code",
   "execution_count": null,
   "id": "c6472892-45a9-4a2d-848c-31712642b294",
   "metadata": {},
   "outputs": [],
   "source": [
    "def __add__(self, other):\n",
    " if isinstance(other, int):\n",
    " other = Fraction(other)\n",
    " f = Fraction(self.nr * other.dr + other.nr\n",
    "* self.dr, self.dr * other.dr)\n",
    " f._reduce()\n",
    " return f\n",
    " def __mul__(self, other):\n",
    " if isinstance(other, int):\n",
    " other = Fraction(other)\n",
    " f = Fraction(self.nr * other.nr , self.dr *\n",
    "other.dr)\n",
    " f._reduce()\n",
    " return f"
   ]
  },
  {
   "cell_type": "code",
   "execution_count": null,
   "id": "7bed1a80-fe69-4eb7-8f26-870e02d21ab9",
   "metadata": {},
   "outputs": [],
   "source": [
    "f1 = Fraction(2,3)\n",
    "f2 = Fraction(3,4)\n",
    "f3 = f1.__add__(f2)\n",
    "f3.show()"
   ]
  },
  {
   "cell_type": "code",
   "execution_count": null,
   "id": "e59716bc-23d8-4822-a0f0-89913cc574be",
   "metadata": {},
   "outputs": [],
   "source": [
    "f3 = f1 + f2\n",
    "f3.show()"
   ]
  },
  {
   "cell_type": "code",
   "execution_count": null,
   "id": "d422fb1c-c01c-4551-9e71-3d950bfbeec8",
   "metadata": {},
   "outputs": [],
   "source": [
    "f4 = f1 * f2\n",
    "f4.show()"
   ]
  },
  {
   "cell_type": "code",
   "execution_count": null,
   "id": "5e753a07-2c2b-425c-a0c3-385294b4b6ec",
   "metadata": {},
   "outputs": [],
   "source": [
    "def __sub__(self, other):\n",
    " if isinstance(other, int):\n",
    " other = Fraction(other)\n",
    " f = Fraction(self.nr * other.dr - other.nr\n",
    "* self.dr, self.dr * other.dr)\n",
    " f._reduce()\n",
    " return f"
   ]
  },
  {
   "cell_type": "markdown",
   "id": "c42efcf1-7a61-4cac-a6c8-616c484a3abe",
   "metadata": {},
   "source": [
    "Reversed Method"
   ]
  },
  {
   "cell_type": "code",
   "execution_count": null,
   "id": "fce5f9d2-1346-47af-97fe-4c1f361fc0e6",
   "metadata": {},
   "outputs": [],
   "source": [
    "f1 = Fraction(2, 3)\n",
    "f2 = f1 + 3\n",
    "f2.show()"
   ]
  },
  {
   "cell_type": "code",
   "execution_count": null,
   "id": "a10f1196-d2d8-4b3f-9b3a-9b9e77b933d8",
   "metadata": {},
   "outputs": [],
   "source": [
    "f2 = 3 + f1"
   ]
  },
  {
   "cell_type": "code",
   "execution_count": null,
   "id": "e6e4aead-d2fa-4c58-90a0-eab38557fc9e",
   "metadata": {},
   "outputs": [],
   "source": [
    "def __radd__(self, other):\n",
    " return self.__add__(other)"
   ]
  },
  {
   "cell_type": "code",
   "execution_count": null,
   "id": "33b106c3-4c28-438a-b8d5-91c96b75fbd0",
   "metadata": {},
   "outputs": [],
   "source": [
    "f2 = 3 + f1\n",
    "f2.show()"
   ]
  },
  {
   "cell_type": "code",
   "execution_count": null,
   "id": "ecfd1022-da8c-4e09-812a-df25c2963a6d",
   "metadata": {},
   "outputs": [],
   "source": [
    "class A:\n",
    " def __init__(self, value):\n",
    " self.value = value\n",
    " def __add__(self, other):\n",
    " if isinstance(other, A):\n",
    " return self.value + other.value\n",
    " elif isinstance(other, float) or\n",
    "isinstance(other, int):\n",
    " return self.value + other\n",
    " else:\n",
    "return NotImplemented\n",
    "class B:\n",
    " def __init__(self, data):\n",
    " self.data = data\n",
    " def __radd__(self, other):\n",
    " if isinstance(other, A):\n",
    " return self.data + other.value\n",
    " elif isinstance(other, B):\n",
    " return self.data + a.data\n",
    " else:\n",
    " return NotImplemented\n",
    "a = A(1)\n",
    "b = B(2)\n",
    "print(a + b)"
   ]
  },
  {
   "cell_type": "markdown",
   "id": "37855d64-9208-4a4d-9240-ab889382357d",
   "metadata": {},
   "source": [
    "Inplace methods"
   ]
  },
  {
   "cell_type": "code",
   "execution_count": null,
   "id": "a85f155e-cec6-4ebe-90b7-614c6f8434fe",
   "metadata": {},
   "outputs": [],
   "source": [
    "def __iadd__(self, other):\n",
    " if isinstance(other, int):\n",
    " self.nr = self.nr + other * self.dr\n",
    " else:\n",
    " self.nr = self.nr * other.dr + other.nr\n",
    "* self.dr\n",
    " self._reduce()\n",
    "return self\n"
   ]
  },
  {
   "cell_type": "code",
   "execution_count": null,
   "id": "94114736-ad1e-49cd-b21e-6d9dcea6d3aa",
   "metadata": {},
   "outputs": [],
   "source": [
    "f1 = Fraction(1, 2)\n",
    "f2 = Fraction(1, 3)\n",
    "f1 = f2\n",
    "f1 += 1\n",
    "f1"
   ]
  },
  {
   "cell_type": "code",
   "execution_count": null,
   "id": "55464eee-2c26-437c-9146-8f51a96be8db",
   "metadata": {},
   "outputs": [],
   "source": [
    "f1.show()"
   ]
  },
  {
   "cell_type": "code",
   "execution_count": null,
   "id": "6255a6ff-d893-4e19-9684-f8e4342a3d93",
   "metadata": {},
   "outputs": [],
   "source": [
    "f2.show()"
   ]
  },
  {
   "cell_type": "code",
   "execution_count": null,
   "id": "3d93856e-4700-46b2-a2b0-1bcfac2e78c0",
   "metadata": {},
   "outputs": [],
   "source": [
    "f1 = Fraction(1,2)\n",
    "f2 = Fraction(1,3)\n",
    "f1 = f2\n",
    "f1 += 1\n",
    "f1"
   ]
  },
  {
   "cell_type": "code",
   "execution_count": null,
   "id": "05df8000-4f1f-4326-a74a-ff955601e73d",
   "metadata": {},
   "outputs": [],
   "source": [
    "f1.show()"
   ]
  },
  {
   "cell_type": "code",
   "execution_count": null,
   "id": "1d8bcf52-f4cc-40fb-9f0f-d989b059a6f2",
   "metadata": {},
   "outputs": [],
   "source": [
    "f2.show()"
   ]
  },
  {
   "cell_type": "markdown",
   "id": "7ff638da-581a-44ba-bfad-1aecddb9f82c",
   "metadata": {},
   "source": [
    "Magic methods for comparison"
   ]
  },
  {
   "cell_type": "code",
   "execution_count": null,
   "id": "d6e772ac-76f0-4c86-b7c1-228afb30f356",
   "metadata": {},
   "outputs": [],
   "source": [
    "f1 = Fraction(2, 3)\n",
    "f2 = Fraction(2, 3)\n",
    "f3 = f2\n",
    "f1 == f2"
   ]
  },
  {
   "cell_type": "code",
   "execution_count": null,
   "id": "eceafe2f-9254-45e5-9305-6d0962aedcd9",
   "metadata": {},
   "outputs": [],
   "source": [
    "f2 == f3"
   ]
  },
  {
   "cell_type": "code",
   "execution_count": null,
   "id": "2bd6555a-f87b-474b-9a95-478823055893",
   "metadata": {},
   "outputs": [],
   "source": [
    "f1 != f2"
   ]
  },
  {
   "cell_type": "code",
   "execution_count": null,
   "id": "921211fd-6118-490a-b2b0-905a7d81fec4",
   "metadata": {},
   "outputs": [],
   "source": [
    "def __eq__(self,other):\n",
    " return (self.nr * other.dr) == (self.dr * other.nr)"
   ]
  },
  {
   "cell_type": "code",
   "execution_count": null,
   "id": "3a37c573-c731-45ef-af22-007fa8367abf",
   "metadata": {},
   "outputs": [],
   "source": [
    "f1 = Fraction(2, 3)\n",
    "f2 = Fraction(2, 3)\n",
    "f3 = f2\n",
    "f1 == f2"
   ]
  },
  {
   "cell_type": "code",
   "execution_count": null,
   "id": "ac8cbadb-393b-4105-a8b4-a904b6bb5630",
   "metadata": {},
   "outputs": [],
   "source": [
    "f2 == f3\n",
    "f1 != f2"
   ]
  },
  {
   "cell_type": "code",
   "execution_count": null,
   "id": "47a671ab-8454-4e5a-9b77-b6922db38fa3",
   "metadata": {},
   "outputs": [],
   "source": [
    "def __lt__(self,other):\n",
    " return (self.nr * other.dr) < (self.dr * other.nr)"
   ]
  },
  {
   "cell_type": "code",
   "execution_count": null,
   "id": "8020e5f5-e2b4-4f84-b3de-9369d8b0b79b",
   "metadata": {},
   "outputs": [],
   "source": [
    "f1 = Fraction(2 ,3)\n",
    "f2 = Fraction(1, 5)\n",
    "f1 < f2"
   ]
  },
  {
   "cell_type": "code",
   "execution_count": null,
   "id": "94dd08c8-6bfc-4d29-9e36-a9554f487bbd",
   "metadata": {},
   "outputs": [],
   "source": [
    "f1 > f2"
   ]
  },
  {
   "cell_type": "code",
   "execution_count": null,
   "id": "afd8eab9-ece0-4583-90a3-a22041f0b073",
   "metadata": {},
   "outputs": [],
   "source": [
    "def __le__(self,other):\n",
    " return (self.nr * other.dr) <= (self.dr * other.nr)"
   ]
  },
  {
   "cell_type": "code",
   "execution_count": null,
   "id": "35cf52a0-af2c-4b77-88a8-4ace60480e27",
   "metadata": {},
   "outputs": [],
   "source": [
    "f1 = Fraction(1, 100)\n",
    "f2 = Fraction(2, 3)\n",
    "f3 = Fraction(5, 6)\n",
    "f4 = Fraction(1, 3)\n",
    "L = [f1, f2, f3, f4]\n",
    "for f in sorted(L):\n",
    " f.show()\n",
    "min(L).show()\n",
    "max(f1, f2, f3).show()"
   ]
  },
  {
   "cell_type": "code",
   "execution_count": null,
   "id": "1505e92b-f418-41d6-9c38-862f17845a2a",
   "metadata": {},
   "outputs": [],
   "source": [
    "from functools import total_ordering\n",
    "@total_ordering\n",
    "class Fraction:\n",
    " def __init__(self, nr, dr=1):\n",
    " \n",
    " def __eq__(self, other):\n",
    "return (self.nr * other.dr) == (self.dr *\n",
    "other.nr)\n",
    " def __lt__(self, other):\n",
    " return (self.nr * other.dr) < (self.dr *\n",
    "other.nr)"
   ]
  },
  {
   "cell_type": "markdown",
   "id": "d9ee4b56-9141-46b4-b61c-d05fd0aa92f6",
   "metadata": {},
   "source": [
    "Comparing objects of different classes"
   ]
  },
  {
   "cell_type": "code",
   "execution_count": null,
   "id": "383d1440-03fb-4a0e-9c3c-2d60f9b345cd",
   "metadata": {},
   "outputs": [],
   "source": [
    "class MyClass:\n",
    " def __lt__():\n",
    " if isinstance(other, int):\n",
    " \n",
    " elif isinstance(other, MyClass):\n",
    " \n",
    " else:\n",
    " return NotImplemented"
   ]
  },
  {
   "cell_type": "markdown",
   "id": "5ccc5dbd-6c7b-47d6-ae15-b0b0c0693e84",
   "metadata": {},
   "source": [
    "String represetation of an instance objects"
   ]
  },
  {
   "cell_type": "code",
   "execution_count": null,
   "id": "e3919b31-6a2c-460d-ab90-008f1cce7b36",
   "metadata": {},
   "outputs": [],
   "source": [
    "f = Fraction(2, 3)\n",
    "print(f)"
   ]
  },
  {
   "cell_type": "code",
   "execution_count": null,
   "id": "7cbe5374-2320-40f3-af85-fe431ec2a585",
   "metadata": {},
   "outputs": [],
   "source": [
    "f"
   ]
  },
  {
   "cell_type": "code",
   "execution_count": null,
   "id": "4a18775f-8e04-4b5b-9534-eff2ddde86f0",
   "metadata": {},
   "outputs": [],
   "source": [
    "str(f)"
   ]
  },
  {
   "cell_type": "code",
   "execution_count": null,
   "id": "2a64105e-3688-4854-836e-da19f39fe036",
   "metadata": {},
   "outputs": [],
   "source": [
    "def __str__(self):\n",
    " return f'{self.nr}/{self.dr}'"
   ]
  },
  {
   "cell_type": "code",
   "execution_count": null,
   "id": "72039c66-3900-4911-bbd6-c0afea3f6c56",
   "metadata": {},
   "outputs": [],
   "source": [
    "f = Fraction(2, 3)\n",
    "print(f)"
   ]
  },
  {
   "cell_type": "code",
   "execution_count": null,
   "id": "f5c1df07-d7c3-4ba0-85dc-35470a7e281e",
   "metadata": {},
   "outputs": [],
   "source": [
    "str(f)"
   ]
  },
  {
   "cell_type": "code",
   "execution_count": null,
   "id": "4b80bd39-cd18-40fb-9359-1ce06d295ab2",
   "metadata": {},
   "outputs": [],
   "source": [
    "f"
   ]
  },
  {
   "cell_type": "code",
   "execution_count": null,
   "id": "b461128f-8c59-4a2b-9e50-927e700207af",
   "metadata": {},
   "outputs": [],
   "source": [
    "def __repr__(self):\n",
    " return f'Fraction({self.nr},{self.dr})'"
   ]
  },
  {
   "cell_type": "code",
   "execution_count": null,
   "id": "8d2c8a35-c570-4bf7-aa10-11b6baf25415",
   "metadata": {},
   "outputs": [],
   "source": [
    "f"
   ]
  },
  {
   "cell_type": "code",
   "execution_count": null,
   "id": "bb861c18-da79-4e65-ac2d-75543790194e",
   "metadata": {},
   "outputs": [],
   "source": [
    "repr(f)"
   ]
  },
  {
   "cell_type": "code",
   "execution_count": null,
   "id": "ee5de88a-f78c-404a-8e0a-cfd647de37ed",
   "metadata": {},
   "outputs": [],
   "source": [
    "x = eval(repr(f))\n",
    "print(x)"
   ]
  },
  {
   "cell_type": "code",
   "execution_count": null,
   "id": "21eb8cce-1d16-4742-b948-9a5b520cbd35",
   "metadata": {},
   "outputs": [],
   "source": [
    "eval(repr(f)) == f"
   ]
  },
  {
   "cell_type": "code",
   "execution_count": null,
   "id": "e5d95937-b212-4e02-8e63-96cbd064f36c",
   "metadata": {},
   "outputs": [],
   "source": [
    "f1 = Fraction(3,4)\n",
    "f2 = Fraction(4,5)\n",
    "f3 = Fraction(1,5)\n",
    "L = [f1, f2, f3]\n",
    "L"
   ]
  },
  {
   "cell_type": "code",
   "execution_count": null,
   "id": "f6b311c2-65e8-4cbc-8220-01dcdb7f3431",
   "metadata": {},
   "outputs": [],
   "source": [
    "print(L)"
   ]
  },
  {
   "cell_type": "code",
   "execution_count": null,
   "id": "6e60dd24-b2fc-4268-8258-04e4f28c2539",
   "metadata": {},
   "outputs": [],
   "source": [
    "str(L)"
   ]
  },
  {
   "cell_type": "markdown",
   "id": "b599915c-c6d1-4543-8007-b916f663dffe",
   "metadata": {},
   "source": [
    "Construction and destruction objects"
   ]
  },
  {
   "cell_type": "code",
   "execution_count": null,
   "id": "edd592ab-c5ac-46e5-8e38-70e24b2f4fef",
   "metadata": {},
   "outputs": [],
   "source": [
    "class MyClass:\n",
    " def __del__(self):\n",
    " print('Destroying')\n",
    "a = MyClass()\n",
    "b = a\n",
    "c = a\n",
    "del a\n",
    "del b\n",
    "del c"
   ]
  },
  {
   "cell_type": "markdown",
   "id": "68a43d82-828a-4001-ae5a-7b5abc5b5fc3",
   "metadata": {},
   "source": [
    "Making instance objects callable"
   ]
  },
  {
   "cell_type": "code",
   "execution_count": null,
   "id": "374ef82e-11ad-4d6e-b9de-5b7f800a293e",
   "metadata": {},
   "outputs": [],
   "source": [
    "class MyClass:\n",
    " def __init__(self, data):\n",
    " self.data = data\n",
    " def __call__(self, value):\n",
    " return self.data + value\n",
    "obj = MyClass(5)\n",
    "x = obj(2)\n",
    "print(x)"
   ]
  },
  {
   "cell_type": "markdown",
   "id": "e91d6f4b-f963-4af6-9b7a-c4bd0714beac",
   "metadata": {},
   "source": [
    "overloading type conversion function"
   ]
  },
  {
   "cell_type": "code",
   "execution_count": null,
   "id": "87753a9d-4f7f-4cd3-82fd-8d199dd4e7c5",
   "metadata": {},
   "outputs": [],
   "source": [
    "x = 10.5\n",
    "int(x)"
   ]
  },
  {
   "cell_type": "code",
   "execution_count": null,
   "id": "d5a5c4a1-28d1-489a-bc7d-98760ec681e3",
   "metadata": {},
   "outputs": [],
   "source": [
    "str(x)"
   ]
  },
  {
   "cell_type": "code",
   "execution_count": null,
   "id": "619e8367-d201-4899-b87d-f0478489a8a4",
   "metadata": {},
   "outputs": [],
   "source": [
    "bool(x)"
   ]
  },
  {
   "cell_type": "code",
   "execution_count": null,
   "id": "82339b0a-9308-4d79-aee8-dab8e5c2db26",
   "metadata": {},
   "outputs": [],
   "source": [
    "def __int__(self):\n",
    " return self.nr // self.dr\n",
    " def __float__(self):\n",
    " return self.nr / self.dr\n",
    " def __bool__(self):\n",
    " return True if self.nr !=0 else False"
   ]
  },
  {
   "cell_type": "code",
   "execution_count": null,
   "id": "fe66b6e5-bb9d-4da6-88b9-eb838d98fed6",
   "metadata": {},
   "outputs": [],
   "source": [
    "f1 = Fraction(19, 2)\n",
    "print(int(f1), float(f1), bool(f1))"
   ]
  },
  {
   "cell_type": "code",
   "execution_count": null,
   "id": "616367f4-8242-461a-a029-036469090486",
   "metadata": {},
   "outputs": [],
   "source": [
    "f2 = Fraction(0, 3)\n",
    "print(int(f2), float(f2), bool(f2))"
   ]
  },
  {
   "cell_type": "markdown",
   "id": "7d9e3e5c-bbfb-4b2b-abaa-5b0013101845",
   "metadata": {},
   "source": [
    "list of magic methods"
   ]
  },
  {
   "cell_type": "code",
   "execution_count": null,
   "id": "74df56e0-f752-481b-9dce-6e22655d3e97",
   "metadata": {},
   "outputs": [],
   "source": [
    "#a a.__pos__()\n",
    "#-a a.__neg__()\n",
    "# ~a a.__invert__()\n",
    "\n",
    "#abs(a) a.__abs__()\n",
    "#reversed(a) a.__reversed__()\n",
    "\n",
    "#round(a) a.__round__()\n",
    "#math.trunc(a) a.__trunc__()\n",
    "#math.floor(a) a.__floor__()\n",
    "#math.ceil(a) a.__ceil__()\n",
    "\n",
    "#__new__()\n",
    "#__init__(arg1, arg2, …)\n",
    "#__del__()\n",
    "\n",
    "#x in a a.__contains__(x)\n",
    "#a[k] a.__getitem__(k)\n",
    "#a[k] = x a.__setitem__(k,x)\n",
    "#del a[k] a.__delitem__(k)\n",
    "#len(a) a.__len__()\n",
    "\n",
    "#iter(a) a.__iter__()\n",
    "#next(a) a.__next__()\n",
    "#reversed(a) a.__reversed__()\n",
    "\n",
    "#__enter__\n",
    "#block __exit__"
   ]
  },
  {
   "cell_type": "markdown",
   "id": "e4374305-5e56-4d95-a8e4-3de4fc7ad640",
   "metadata": {},
   "source": [
    "Happy Programming"
   ]
  }
 ],
 "metadata": {
  "kernelspec": {
   "display_name": "Python 3 (ipykernel)",
   "language": "python",
   "name": "python3"
  },
  "language_info": {
   "codemirror_mode": {
    "name": "ipython",
    "version": 3
   },
   "file_extension": ".py",
   "mimetype": "text/x-python",
   "name": "python",
   "nbconvert_exporter": "python",
   "pygments_lexer": "ipython3",
   "version": "3.12.7"
  }
 },
 "nbformat": 4,
 "nbformat_minor": 5
}
