{
 "cells": [
  {
   "cell_type": "code",
   "execution_count": null,
   "id": "9428fff1-0e12-495d-ac54-fe4d9e445ba0",
   "metadata": {},
   "outputs": [],
   "source": [
    "s1 = 'Morning'\n",
    "s2 = \"Evening\""
   ]
  },
  {
   "cell_type": "code",
   "execution_count": null,
   "id": "ec950a34-41e7-4aae-be0d-c159a012e3d9",
   "metadata": {},
   "outputs": [],
   "source": [
    "s1"
   ]
  },
  {
   "cell_type": "code",
   "execution_count": null,
   "id": "7df842d7-3b91-4d1e-b66a-b416a0b4e401",
   "metadata": {},
   "outputs": [],
   "source": [
    "s2"
   ]
  },
  {
   "cell_type": "code",
   "execution_count": null,
   "id": "80272f2b-37a8-4b1b-8bfc-5682df6c19a7",
   "metadata": {},
   "outputs": [],
   "source": [
    "print(s1)"
   ]
  },
  {
   "cell_type": "markdown",
   "id": "1c03702d-853b-415e-8936-977b9d707b6f",
   "metadata": {},
   "source": [
    "Indexing"
   ]
  },
  {
   "cell_type": "code",
   "execution_count": null,
   "id": "8eefcc68-367c-46b5-b49d-e33255fbe237",
   "metadata": {},
   "outputs": [],
   "source": [
    "s = 'quintessence'"
   ]
  },
  {
   "cell_type": "code",
   "execution_count": null,
   "id": "a5a0e42c-6916-4951-988a-331385c1870a",
   "metadata": {},
   "outputs": [],
   "source": [
    "s[0]"
   ]
  },
  {
   "cell_type": "code",
   "execution_count": null,
   "id": "2cd72c6c-a030-41be-9001-46d3e2cfae37",
   "metadata": {},
   "outputs": [],
   "source": [
    "s[11]"
   ]
  },
  {
   "cell_type": "code",
   "execution_count": null,
   "id": "aacabcce-bcbb-48c2-ba81-ca4815525241",
   "metadata": {},
   "outputs": [],
   "source": [
    "s[12]"
   ]
  },
  {
   "cell_type": "code",
   "execution_count": 9,
   "id": "bfbdfa24-edc9-4dce-88c2-792792c83b7a",
   "metadata": {},
   "outputs": [
    {
     "data": {
      "text/plain": [
       "'e'"
      ]
     },
     "execution_count": 9,
     "metadata": {},
     "output_type": "execute_result"
    }
   ],
   "source": [
    "i = 5\n",
    "s[i]"
   ]
  },
  {
   "cell_type": "code",
   "execution_count": 10,
   "id": "613381b7-dd5c-4244-a24c-f88c65669a81",
   "metadata": {},
   "outputs": [
    {
     "data": {
      "text/plain": [
       "'i'"
      ]
     },
     "execution_count": 10,
     "metadata": {},
     "output_type": "execute_result"
    }
   ],
   "source": [
    "s[i-3]"
   ]
  },
  {
   "cell_type": "code",
   "execution_count": 11,
   "id": "8dbcd161-f907-4c66-9eb7-7a466d800353",
   "metadata": {},
   "outputs": [
    {
     "data": {
      "text/plain": [
       "12"
      ]
     },
     "execution_count": 11,
     "metadata": {},
     "output_type": "execute_result"
    }
   ],
   "source": [
    "len(s)"
   ]
  },
  {
   "cell_type": "code",
   "execution_count": 12,
   "id": "9923baa6-5776-4850-9710-4b5add78f91c",
   "metadata": {},
   "outputs": [
    {
     "data": {
      "text/plain": [
       "'e'"
      ]
     },
     "execution_count": 12,
     "metadata": {},
     "output_type": "execute_result"
    }
   ],
   "source": [
    "s[len(s)-1]"
   ]
  },
  {
   "cell_type": "code",
   "execution_count": 13,
   "id": "da3b82f2-908f-4bb3-a622-58aa4f1f74d7",
   "metadata": {},
   "outputs": [
    {
     "data": {
      "text/plain": [
       "'e'"
      ]
     },
     "execution_count": 13,
     "metadata": {},
     "output_type": "execute_result"
    }
   ],
   "source": [
    "s[-1]"
   ]
  },
  {
   "cell_type": "code",
   "execution_count": 14,
   "id": "bd8a0b94-3f35-4b32-920c-98d6310fc693",
   "metadata": {},
   "outputs": [
    {
     "data": {
      "text/plain": [
       "'q'"
      ]
     },
     "execution_count": 14,
     "metadata": {},
     "output_type": "execute_result"
    }
   ],
   "source": [
    "s[-12]"
   ]
  },
  {
   "cell_type": "code",
   "execution_count": 15,
   "id": "4437e1ec-1bdf-4659-8473-e576c609ad22",
   "metadata": {},
   "outputs": [
    {
     "ename": "IndexError",
     "evalue": "string index out of range",
     "output_type": "error",
     "traceback": [
      "\u001b[1;31m---------------------------------------------------------------------------\u001b[0m",
      "\u001b[1;31mIndexError\u001b[0m                                Traceback (most recent call last)",
      "Cell \u001b[1;32mIn[15], line 1\u001b[0m\n\u001b[1;32m----> 1\u001b[0m s[\u001b[38;5;241m-\u001b[39m\u001b[38;5;241m13\u001b[39m]\n",
      "\u001b[1;31mIndexError\u001b[0m: string index out of range"
     ]
    }
   ],
   "source": [
    "s[-13]"
   ]
  },
  {
   "cell_type": "markdown",
   "id": "723f28a8-6558-415c-bbe0-48b1fb0b8d95",
   "metadata": {},
   "source": [
    "Strings are Immutable"
   ]
  },
  {
   "cell_type": "code",
   "execution_count": 16,
   "id": "4d991625-67ed-41ac-b55b-9a73207b6dab",
   "metadata": {},
   "outputs": [],
   "source": [
    "s = 'ring'"
   ]
  },
  {
   "cell_type": "code",
   "execution_count": 17,
   "id": "42ab5373-6776-4769-b8ed-ce0dd9f962f2",
   "metadata": {},
   "outputs": [
    {
     "ename": "TypeError",
     "evalue": "'str' object does not support item assignment",
     "output_type": "error",
     "traceback": [
      "\u001b[1;31m---------------------------------------------------------------------------\u001b[0m",
      "\u001b[1;31mTypeError\u001b[0m                                 Traceback (most recent call last)",
      "Cell \u001b[1;32mIn[17], line 1\u001b[0m\n\u001b[1;32m----> 1\u001b[0m s[\u001b[38;5;241m0\u001b[39m] \u001b[38;5;241m=\u001b[39m \u001b[38;5;124m'\u001b[39m\u001b[38;5;124mp\u001b[39m\u001b[38;5;124m'\u001b[39m\n",
      "\u001b[1;31mTypeError\u001b[0m: 'str' object does not support item assignment"
     ]
    }
   ],
   "source": [
    "s[0] = 'p'"
   ]
  },
  {
   "cell_type": "code",
   "execution_count": 18,
   "id": "dc146eb8-9808-4c01-bc6e-5fea0a777518",
   "metadata": {},
   "outputs": [],
   "source": [
    "s = 'ping' "
   ]
  },
  {
   "cell_type": "markdown",
   "id": "3b6d480c-6df5-416e-bf16-ebfbd86ce00d",
   "metadata": {},
   "source": [
    "String Slicing"
   ]
  },
  {
   "cell_type": "code",
   "execution_count": 19,
   "id": "4cb8a40b-fd01-4167-a9a3-b4c3a364bec0",
   "metadata": {},
   "outputs": [
    {
     "ename": "NameError",
     "evalue": "name 'j' is not defined",
     "output_type": "error",
     "traceback": [
      "\u001b[1;31m---------------------------------------------------------------------------\u001b[0m",
      "\u001b[1;31mNameError\u001b[0m                                 Traceback (most recent call last)",
      "Cell \u001b[1;32mIn[19], line 1\u001b[0m\n\u001b[1;32m----> 1\u001b[0m s[i:j]\n",
      "\u001b[1;31mNameError\u001b[0m: name 'j' is not defined"
     ]
    }
   ],
   "source": [
    "s[i:j] "
   ]
  },
  {
   "cell_type": "code",
   "execution_count": 20,
   "id": "208d4e73-a227-4f39-a434-efd94b57c63c",
   "metadata": {},
   "outputs": [
    {
     "data": {
      "text/plain": [
       "'moge'"
      ]
     },
     "execution_count": 20,
     "metadata": {},
     "output_type": "execute_result"
    }
   ],
   "source": [
    "s = 'homogeneous'\n",
    "s[2:6]"
   ]
  },
  {
   "cell_type": "code",
   "execution_count": 21,
   "id": "cc85bb2f-0f3f-45e5-9523-b6115b1bcec7",
   "metadata": {},
   "outputs": [
    {
     "data": {
      "text/plain": [
       "'gen'"
      ]
     },
     "execution_count": 21,
     "metadata": {},
     "output_type": "execute_result"
    }
   ],
   "source": [
    "s1 = s[4:7]\n",
    "s1"
   ]
  },
  {
   "cell_type": "code",
   "execution_count": 22,
   "id": "98ecfde3-0fdf-434e-89c0-1e34933f5923",
   "metadata": {},
   "outputs": [
    {
     "data": {
      "text/plain": [
       "'homogeneous'"
      ]
     },
     "execution_count": 22,
     "metadata": {},
     "output_type": "execute_result"
    }
   ],
   "source": [
    "s"
   ]
  },
  {
   "cell_type": "code",
   "execution_count": 23,
   "id": "ece740a0-7983-4101-8905-0b60ec6264a2",
   "metadata": {},
   "outputs": [
    {
     "data": {
      "text/plain": [
       "2764807931440"
      ]
     },
     "execution_count": 23,
     "metadata": {},
     "output_type": "execute_result"
    }
   ],
   "source": [
    "id(s)"
   ]
  },
  {
   "cell_type": "code",
   "execution_count": 24,
   "id": "48b60266-332f-4dda-be48-9ab51fad3123",
   "metadata": {},
   "outputs": [
    {
     "data": {
      "text/plain": [
       "'ogen'"
      ]
     },
     "execution_count": 24,
     "metadata": {},
     "output_type": "execute_result"
    }
   ],
   "source": [
    "s = s[3:7]\n",
    "s"
   ]
  },
  {
   "cell_type": "code",
   "execution_count": 25,
   "id": "68029978-b30a-4d36-b3aa-128e2e2d84d4",
   "metadata": {},
   "outputs": [
    {
     "data": {
      "text/plain": [
       "2764795681344"
      ]
     },
     "execution_count": 25,
     "metadata": {},
     "output_type": "execute_result"
    }
   ],
   "source": [
    "id(s)"
   ]
  },
  {
   "cell_type": "code",
   "execution_count": 26,
   "id": "cd0ee183-4ed3-432c-8037-7dd9eb90c6da",
   "metadata": {},
   "outputs": [
    {
     "data": {
      "text/plain": [
       "'homo'"
      ]
     },
     "execution_count": 26,
     "metadata": {},
     "output_type": "execute_result"
    }
   ],
   "source": [
    "s = 'homogeneous'\n",
    "s[:4]"
   ]
  },
  {
   "cell_type": "code",
   "execution_count": 27,
   "id": "e698740f-5cb1-4402-a373-eb8045f74ee5",
   "metadata": {},
   "outputs": [
    {
     "data": {
      "text/plain": [
       "'eneous'"
      ]
     },
     "execution_count": 27,
     "metadata": {},
     "output_type": "execute_result"
    }
   ],
   "source": [
    "s[5:]"
   ]
  },
  {
   "cell_type": "code",
   "execution_count": 28,
   "id": "0aa8b948-ed49-41df-bab7-80201996aa52",
   "metadata": {},
   "outputs": [
    {
     "data": {
      "text/plain": [
       "'homogeneous'"
      ]
     },
     "execution_count": 28,
     "metadata": {},
     "output_type": "execute_result"
    }
   ],
   "source": [
    "s[:]"
   ]
  },
  {
   "cell_type": "code",
   "execution_count": 29,
   "id": "98af4c3a-f185-4514-b987-668982c5e777",
   "metadata": {},
   "outputs": [
    {
     "data": {
      "text/plain": [
       "'homogeneous'"
      ]
     },
     "execution_count": 29,
     "metadata": {},
     "output_type": "execute_result"
    }
   ],
   "source": [
    "scopy = s[:]\n",
    "scopy"
   ]
  },
  {
   "cell_type": "code",
   "execution_count": 30,
   "id": "0218f956-cb7b-4c1f-a3e1-5d6da209e5bd",
   "metadata": {},
   "outputs": [
    {
     "data": {
      "text/plain": [
       "'homogeneou'"
      ]
     },
     "execution_count": 30,
     "metadata": {},
     "output_type": "execute_result"
    }
   ],
   "source": [
    "s = 'homogeneous'\n",
    "s[:-1]"
   ]
  },
  {
   "cell_type": "code",
   "execution_count": 31,
   "id": "c0bf3fda-de0f-498a-b19c-7dfc7c682223",
   "metadata": {},
   "outputs": [
    {
     "data": {
      "text/plain": [
       "'homogene'"
      ]
     },
     "execution_count": 31,
     "metadata": {},
     "output_type": "execute_result"
    }
   ],
   "source": [
    "s[:-3]"
   ]
  },
  {
   "cell_type": "code",
   "execution_count": 32,
   "id": "a5124499-ea01-4d99-9414-b6afde0ad328",
   "metadata": {},
   "outputs": [
    {
     "data": {
      "text/plain": [
       "'neous'"
      ]
     },
     "execution_count": 32,
     "metadata": {},
     "output_type": "execute_result"
    }
   ],
   "source": [
    "s[-5:]"
   ]
  },
  {
   "cell_type": "code",
   "execution_count": 33,
   "id": "04923ad3-c76e-4861-bfdc-512bf8c19d65",
   "metadata": {},
   "outputs": [
    {
     "data": {
      "text/plain": [
       "''"
      ]
     },
     "execution_count": 33,
     "metadata": {},
     "output_type": "execute_result"
    }
   ],
   "source": [
    "s[3:3]"
   ]
  },
  {
   "cell_type": "code",
   "execution_count": 34,
   "id": "ed34537e-5c37-48a4-9343-35834669b359",
   "metadata": {},
   "outputs": [
    {
     "data": {
      "text/plain": [
       "'mogeneous'"
      ]
     },
     "execution_count": 34,
     "metadata": {},
     "output_type": "execute_result"
    }
   ],
   "source": [
    "s[2:100]"
   ]
  },
  {
   "cell_type": "code",
   "execution_count": 35,
   "id": "4828592e-95b4-4c46-815b-0bdf6799b72b",
   "metadata": {},
   "outputs": [
    {
     "data": {
      "text/plain": [
       "'homoge'"
      ]
     },
     "execution_count": 35,
     "metadata": {},
     "output_type": "execute_result"
    }
   ],
   "source": [
    "s[-50:6]"
   ]
  },
  {
   "cell_type": "code",
   "execution_count": 36,
   "id": "172ae8f4-f9b0-428c-9db0-fd286f6a43d3",
   "metadata": {},
   "outputs": [
    {
     "ename": "IndexError",
     "evalue": "string index out of range",
     "output_type": "error",
     "traceback": [
      "\u001b[1;31m---------------------------------------------------------------------------\u001b[0m",
      "\u001b[1;31mIndexError\u001b[0m                                Traceback (most recent call last)",
      "Cell \u001b[1;32mIn[36], line 1\u001b[0m\n\u001b[1;32m----> 1\u001b[0m s[\u001b[38;5;241m100\u001b[39m]\n",
      "\u001b[1;31mIndexError\u001b[0m: string index out of range"
     ]
    }
   ],
   "source": [
    "s[100]"
   ]
  },
  {
   "cell_type": "code",
   "execution_count": 37,
   "id": "dbe2ac9c-8590-453e-a866-56db49fb3009",
   "metadata": {},
   "outputs": [
    {
     "data": {
      "text/plain": [
       "'a ste'"
      ]
     },
     "execution_count": 37,
     "metadata": {},
     "output_type": "execute_result"
    }
   ],
   "source": [
    "s = 'Today is the day.'\n",
    "s[3:13:2]"
   ]
  },
  {
   "cell_type": "code",
   "execution_count": 38,
   "id": "a19bfa3a-5d79-43af-87ca-6202e4e202b9",
   "metadata": {},
   "outputs": [
    {
     "data": {
      "text/plain": [
       "'Tdyi h a.'"
      ]
     },
     "execution_count": 38,
     "metadata": {},
     "output_type": "execute_result"
    }
   ],
   "source": [
    "s[::2]"
   ]
  },
  {
   "cell_type": "code",
   "execution_count": 39,
   "id": "85a9c9fe-c671-4276-b6fb-586c38f58a37",
   "metadata": {},
   "outputs": [
    {
     "data": {
      "text/plain": [
       "'Tait y'"
      ]
     },
     "execution_count": 39,
     "metadata": {},
     "output_type": "execute_result"
    }
   ],
   "source": [
    "s[::3]"
   ]
  },
  {
   "cell_type": "code",
   "execution_count": 40,
   "id": "ffec6ffb-be91-4d88-b5dc-609febbaa210",
   "metadata": {},
   "outputs": [
    {
     "data": {
      "text/plain": [
       "'.yad eht si yadoT'"
      ]
     },
     "execution_count": 40,
     "metadata": {},
     "output_type": "execute_result"
    }
   ],
   "source": [
    "s[::-1]"
   ]
  },
  {
   "cell_type": "code",
   "execution_count": 41,
   "id": "c76fa41e-fa14-4c10-8bdc-a31d67187f3f",
   "metadata": {},
   "outputs": [
    {
     "data": {
      "text/plain": [
       "'abcd'"
      ]
     },
     "execution_count": 41,
     "metadata": {},
     "output_type": "execute_result"
    }
   ],
   "source": [
    "'ab' + 'cd'"
   ]
  },
  {
   "cell_type": "code",
   "execution_count": 42,
   "id": "85603f7c-f2c6-4c58-90aa-eb4b179ceae0",
   "metadata": {},
   "outputs": [
    {
     "data": {
      "text/plain": [
       "'HelloDev'"
      ]
     },
     "execution_count": 42,
     "metadata": {},
     "output_type": "execute_result"
    }
   ],
   "source": [
    "name = 'Dev'\n",
    "'Hello' + name"
   ]
  },
  {
   "cell_type": "code",
   "execution_count": 43,
   "id": "482aeb9f-a9bc-4e80-b0ea-b9408b61d1a4",
   "metadata": {},
   "outputs": [
    {
     "data": {
      "text/plain": [
       "'Hello Dev'"
      ]
     },
     "execution_count": 43,
     "metadata": {},
     "output_type": "execute_result"
    }
   ],
   "source": [
    " 'Hello' + ' ' + name"
   ]
  },
  {
   "cell_type": "code",
   "execution_count": 44,
   "id": "5f713f92-dcaf-47a5-a2da-0758a92d1b8f",
   "metadata": {},
   "outputs": [
    {
     "data": {
      "text/plain": [
       "'Hello Dev'"
      ]
     },
     "execution_count": 44,
     "metadata": {},
     "output_type": "execute_result"
    }
   ],
   "source": [
    "s = 'Hello' + ' ' + name\n",
    "s"
   ]
  },
  {
   "cell_type": "code",
   "execution_count": 45,
   "id": "eda5b7cd-8b8a-4842-83c9-8110648726ef",
   "metadata": {},
   "outputs": [
    {
     "data": {
      "text/plain": [
       "'Devraj'"
      ]
     },
     "execution_count": 45,
     "metadata": {},
     "output_type": "execute_result"
    }
   ],
   "source": [
    "name = name + 'raj'\n",
    "name"
   ]
  },
  {
   "cell_type": "code",
   "execution_count": 46,
   "id": "3843c67b-68ce-4b08-afec-493145a070ab",
   "metadata": {},
   "outputs": [
    {
     "data": {
      "text/plain": [
       "'DevDevDev'"
      ]
     },
     "execution_count": 46,
     "metadata": {},
     "output_type": "execute_result"
    }
   ],
   "source": [
    "name = 'Dev'\n",
    "name * 3"
   ]
  },
  {
   "cell_type": "code",
   "execution_count": 47,
   "id": "709e6253-f2c2-4be6-80da-4d89bd4310b0",
   "metadata": {},
   "outputs": [
    {
     "data": {
      "text/plain": [
       "'Hello Hello Hello Hello Hello '"
      ]
     },
     "execution_count": 47,
     "metadata": {},
     "output_type": "execute_result"
    }
   ],
   "source": [
    "'Hello ' * 5"
   ]
  },
  {
   "cell_type": "code",
   "execution_count": 48,
   "id": "46e61d87-d3a1-4c84-8232-587d204523ef",
   "metadata": {},
   "outputs": [
    {
     "name": "stdout",
     "output_type": "stream",
     "text": [
      "----------------------------------------\n"
     ]
    }
   ],
   "source": [
    "print('-' * 40)"
   ]
  },
  {
   "cell_type": "code",
   "execution_count": 49,
   "id": "187bd513-6e2a-44c5-9991-ee38a52c4050",
   "metadata": {},
   "outputs": [
    {
     "data": {
      "text/plain": [
       "'Hee..Hee..Hee..'"
      ]
     },
     "execution_count": 49,
     "metadata": {},
     "output_type": "execute_result"
    }
   ],
   "source": [
    "s = 'Hee..'\n",
    "s = s * 3\n",
    "s"
   ]
  },
  {
   "cell_type": "code",
   "execution_count": 50,
   "id": "737096e5-5b53-4f3c-8449-3c6f18ea2cd4",
   "metadata": {},
   "outputs": [
    {
     "data": {
      "text/plain": [
       "'butter scotch '"
      ]
     },
     "execution_count": 50,
     "metadata": {},
     "output_type": "execute_result"
    }
   ],
   "source": [
    "s = 'butter '\n",
    "s += 'scotch '\n",
    "s"
   ]
  },
  {
   "cell_type": "code",
   "execution_count": 51,
   "id": "10e31718-0b57-4251-abe3-f7ad131d400a",
   "metadata": {},
   "outputs": [
    {
     "data": {
      "text/plain": [
       "'butter scotch butter scotch butter scotch '"
      ]
     },
     "execution_count": 51,
     "metadata": {},
     "output_type": "execute_result"
    }
   ],
   "source": [
    "s *= 3\n",
    "s"
   ]
  },
  {
   "cell_type": "code",
   "execution_count": 52,
   "id": "61bf37b6-467e-494d-987a-eec7ac42173f",
   "metadata": {},
   "outputs": [],
   "source": [
    "s1 = 'Good Morning !'\n",
    "s2 = 'Bye Bye See you'"
   ]
  },
  {
   "cell_type": "code",
   "execution_count": 53,
   "id": "019afce1-074f-4483-96eb-387441696c32",
   "metadata": {},
   "outputs": [
    {
     "data": {
      "text/plain": [
       "'GoodBye'"
      ]
     },
     "execution_count": 53,
     "metadata": {},
     "output_type": "execute_result"
    }
   ],
   "source": [
    "s3 = s1[:4] + s2[:3]\n",
    "s3"
   ]
  },
  {
   "cell_type": "code",
   "execution_count": 54,
   "id": "e33c08c9-f0ed-4e84-ad6a-c951025aaf33",
   "metadata": {},
   "outputs": [
    {
     "data": {
      "text/plain": [
       "'GoodGoodGood Morning !!!!!'"
      ]
     },
     "execution_count": 54,
     "metadata": {},
     "output_type": "execute_result"
    }
   ],
   "source": [
    "s4 = s1[:4] * 3 + s1[4:-1] + s1[-1] * 5\n",
    "s4"
   ]
  },
  {
   "cell_type": "code",
   "execution_count": 55,
   "id": "e4fda801-6aeb-4f17-8b68-e61a75e6a9f6",
   "metadata": {},
   "outputs": [
    {
     "data": {
      "text/plain": [
       "'GoodGoodGood Morning !!!!!'"
      ]
     },
     "execution_count": 55,
     "metadata": {},
     "output_type": "execute_result"
    }
   ],
   "source": [
    "s1 = s1[:4] * 3 + s1[4:-1] + s1[-1] * 5\n",
    "s1"
   ]
  },
  {
   "cell_type": "code",
   "execution_count": 56,
   "id": "0b29cb54-8f83-4413-b3c1-1eaf7b80e8cd",
   "metadata": {},
   "outputs": [
    {
     "data": {
      "text/plain": [
       "'abcdefhij'"
      ]
     },
     "execution_count": 56,
     "metadata": {},
     "output_type": "execute_result"
    }
   ],
   "source": [
    " 'abc''def''hij'"
   ]
  },
  {
   "cell_type": "markdown",
   "id": "81e23dcd-7545-4b9f-9cf5-06d817765718",
   "metadata": {},
   "source": [
    "Checking Membership"
   ]
  },
  {
   "cell_type": "code",
   "execution_count": 57,
   "id": "cf1cbf4e-7366-47c0-9ea9-3c1649c8f2e9",
   "metadata": {},
   "outputs": [
    {
     "data": {
      "text/plain": [
       "True"
      ]
     },
     "execution_count": 57,
     "metadata": {},
     "output_type": "execute_result"
    }
   ],
   "source": [
    "s = 'good morning !'\n",
    "'ing' in s"
   ]
  },
  {
   "cell_type": "code",
   "execution_count": 58,
   "id": "9e355596-7716-453a-9e3e-e34f8131c993",
   "metadata": {},
   "outputs": [
    {
     "data": {
      "text/plain": [
       "False"
      ]
     },
     "execution_count": 58,
     "metadata": {},
     "output_type": "execute_result"
    }
   ],
   "source": [
    " '?' in s"
   ]
  },
  {
   "cell_type": "code",
   "execution_count": 59,
   "id": "ac849138-4b39-4f98-8c13-688d44e0a323",
   "metadata": {},
   "outputs": [
    {
     "data": {
      "text/plain": [
       "True"
      ]
     },
     "execution_count": 59,
     "metadata": {},
     "output_type": "execute_result"
    }
   ],
   "source": [
    "'good morning !' in s"
   ]
  },
  {
   "cell_type": "code",
   "execution_count": 60,
   "id": "d58da3b2-415f-4967-87d4-08e1416c7067",
   "metadata": {},
   "outputs": [
    {
     "data": {
      "text/plain": [
       "False"
      ]
     },
     "execution_count": 60,
     "metadata": {},
     "output_type": "execute_result"
    }
   ],
   "source": [
    "'Good' in s"
   ]
  },
  {
   "cell_type": "code",
   "execution_count": 61,
   "id": "6c5ebf75-e148-4a65-b39a-7890834a573e",
   "metadata": {},
   "outputs": [
    {
     "data": {
      "text/plain": [
       "True"
      ]
     },
     "execution_count": 61,
     "metadata": {},
     "output_type": "execute_result"
    }
   ],
   "source": [
    "'you' not in s"
   ]
  },
  {
   "cell_type": "code",
   "execution_count": 62,
   "id": "678fd48a-e912-4c42-b01d-38be1b1444d4",
   "metadata": {},
   "outputs": [
    {
     "data": {
      "text/plain": [
       "False"
      ]
     },
     "execution_count": 62,
     "metadata": {},
     "output_type": "execute_result"
    }
   ],
   "source": [
    " 'morning' not in s"
   ]
  },
  {
   "cell_type": "markdown",
   "id": "cb2de000-1875-4dd4-beb9-fc14b4f6c996",
   "metadata": {},
   "source": [
    "Adding Whitespace to Strings"
   ]
  },
  {
   "cell_type": "code",
   "execution_count": 63,
   "id": "69380cc5-fcd6-4d7f-83ee-356618489abc",
   "metadata": {},
   "outputs": [
    {
     "name": "stdout",
     "output_type": "stream",
     "text": [
      "Sun\tMon\tTue\n"
     ]
    }
   ],
   "source": [
    "print('Sun\\tMon\\tTue')"
   ]
  },
  {
   "cell_type": "code",
   "execution_count": 64,
   "id": "8fa802c4-7994-47d2-a699-ac662316d1c0",
   "metadata": {},
   "outputs": [
    {
     "name": "stdout",
     "output_type": "stream",
     "text": [
      "Sun\n",
      "Mon\n",
      "Tue\n",
      "\n"
     ]
    }
   ],
   "source": [
    "print('Sun\\nMon\\nTue\\n')"
   ]
  },
  {
   "cell_type": "code",
   "execution_count": 65,
   "id": "e64b65a5-598e-4807-a771-b0fb773d1adf",
   "metadata": {},
   "outputs": [
    {
     "name": "stdout",
     "output_type": "stream",
     "text": [
      "Days : \n",
      "\tSun\n",
      "\tMon\n",
      "\tTue\n",
      "\n"
     ]
    }
   ],
   "source": [
    "print('Days : \\n\\tSun\\n\\tMon\\n\\tTue\\n')"
   ]
  },
  {
   "cell_type": "markdown",
   "id": "fcf399e1-c803-497e-be7c-52e24888ad3a",
   "metadata": {},
   "source": [
    "Creating Multiline Strings"
   ]
  },
  {
   "cell_type": "code",
   "execution_count": 67,
   "id": "979dba6b-2aa1-4351-9d7d-0d86ee8f9be6",
   "metadata": {},
   "outputs": [
    {
     "ename": "SyntaxError",
     "evalue": "unterminated string literal (detected at line 1) (92382493.py, line 1)",
     "output_type": "error",
     "traceback": [
      "\u001b[1;36m  Cell \u001b[1;32mIn[67], line 1\u001b[1;36m\u001b[0m\n\u001b[1;33m    s = 'Let us get up and get going, With a strong heart for whatever may come our way.Keep working,\u001b[0m\n\u001b[1;37m        ^\u001b[0m\n\u001b[1;31mSyntaxError\u001b[0m\u001b[1;31m:\u001b[0m unterminated string literal (detected at line 1)\n"
     ]
    }
   ],
   "source": [
    "s = 'Let us get up and get going, With a strong heart for whatever may come our way.Keep working, \n",
    "keep trying, Learn to work hard and be patient each day.'"
   ]
  },
  {
   "cell_type": "code",
   "execution_count": 70,
   "id": "16c57bc1-c3ac-4d12-8e5e-9e076b8bd1aa",
   "metadata": {},
   "outputs": [
    {
     "name": "stderr",
     "output_type": "stream",
     "text": [
      "<>:1: SyntaxWarning: invalid escape sequence '\\ '\n",
      "<>:1: SyntaxWarning: invalid escape sequence '\\ '\n",
      "C:\\Users\\HAROON TRADERS\\AppData\\Local\\Temp\\ipykernel_5776\\145663432.py:1: SyntaxWarning: invalid escape sequence '\\ '\n",
      "  s = 'Let us get up and get going,\\\n"
     ]
    }
   ],
   "source": [
    "s = 'Let us get up and get going,\\\n",
    "With a strong heart for whatever may come our way.\\ \n",
    "Keep working, keep trying,\n",
    "\\ Learn to work hard and be patient each day.'"
   ]
  },
  {
   "cell_type": "code",
   "execution_count": 71,
   "id": "89bb8aa5-f1a6-4e9e-b619-d2bc679246b7",
   "metadata": {},
   "outputs": [
    {
     "data": {
      "text/plain": [
       "'Let us get up and get going,With a strong heart for whatever may come our way.\\\\ Keep working, keep trying,\\\\ Learn to work hard and be patient each day.'"
      ]
     },
     "execution_count": 71,
     "metadata": {},
     "output_type": "execute_result"
    }
   ],
   "source": [
    "s"
   ]
  },
  {
   "cell_type": "code",
   "execution_count": 72,
   "id": "d1a6501a-8176-4c6c-a69b-4bf6dd480ecd",
   "metadata": {},
   "outputs": [
    {
     "name": "stdout",
     "output_type": "stream",
     "text": [
      "Let us get up and get going,With a strong heart for whatever may come our way.\\ Keep working, keep trying,\\ Learn to work hard and be patient each day.\n"
     ]
    }
   ],
   "source": [
    "print(s)"
   ]
  },
  {
   "cell_type": "code",
   "execution_count": 73,
   "id": "cc8c88a2-c69c-46f0-94db-799527088503",
   "metadata": {},
   "outputs": [
    {
     "ename": "SyntaxError",
     "evalue": "unterminated string literal (detected at line 2) (196372398.py, line 1)",
     "output_type": "error",
     "traceback": [
      "\u001b[1;36m  Cell \u001b[1;32mIn[73], line 1\u001b[1;36m\u001b[0m\n\u001b[1;33m    s = 'Let us get up and get going,\\n\\\u001b[0m\n\u001b[1;37m        ^\u001b[0m\n\u001b[1;31mSyntaxError\u001b[0m\u001b[1;31m:\u001b[0m unterminated string literal (detected at line 2)\n"
     ]
    }
   ],
   "source": [
    "s = 'Let us get up and get going,\\n\\\n",
    "With a strong heart for whatever may come our\n",
    "way.\\n\\\n",
    "Keep working, keep trying,\\n\\\n",
    "Learn to work hard and be patient each day.'"
   ]
  },
  {
   "cell_type": "code",
   "execution_count": 74,
   "id": "cdac5cfe-e017-4d88-8c58-5141c24d92f1",
   "metadata": {},
   "outputs": [
    {
     "name": "stdout",
     "output_type": "stream",
     "text": [
      "Let us get up and get going,With a strong heart for whatever may come our way.\\ Keep working, keep trying,\\ Learn to work hard and be patient each day.\n"
     ]
    }
   ],
   "source": [
    "print(s)"
   ]
  },
  {
   "cell_type": "code",
   "execution_count": 75,
   "id": "f0e9a15e-c10a-4335-943a-d77da04f689b",
   "metadata": {},
   "outputs": [],
   "source": [
    "s = '''Let us get up and get going,\n",
    "With a strong heart for whatever may come our way.\n",
    "Keep working, keep trying,\n",
    "Learn to work hard and be patient each day.'''"
   ]
  },
  {
   "cell_type": "code",
   "execution_count": 76,
   "id": "f85838f3-ca81-4f53-a73f-20a0b74eb00d",
   "metadata": {},
   "outputs": [
    {
     "name": "stdout",
     "output_type": "stream",
     "text": [
      "Let us get up and get going,\n",
      "With a strong heart for whatever may come our way.\n",
      "Keep working, keep trying,\n",
      "Learn to work hard and be patient each day.\n"
     ]
    }
   ],
   "source": [
    "print(s)"
   ]
  },
  {
   "cell_type": "code",
   "execution_count": 77,
   "id": "04a503de-d129-4be1-80d0-d0d83b5b3654",
   "metadata": {},
   "outputs": [
    {
     "data": {
      "text/plain": [
       "'Let us get up and get going,\\nWith a strong heart for whatever may come our way.\\nKeep working, keep trying,\\nLearn to work hard and be patient each day.'"
      ]
     },
     "execution_count": 77,
     "metadata": {},
     "output_type": "execute_result"
    }
   ],
   "source": [
    "s"
   ]
  },
  {
   "cell_type": "code",
   "execution_count": 78,
   "id": "6abb7179-519a-42b3-a70c-61f83f1a23a7",
   "metadata": {},
   "outputs": [],
   "source": [
    "s = '''Let us get up and get going,\n",
    "With a strong heart for whatever may come our\n",
    "way.\\\n",
    "Keep working, keep trying, Learn to work hard and be patient each day.'''\n"
   ]
  },
  {
   "cell_type": "code",
   "execution_count": 79,
   "id": "e4fe4ec4-b1a9-42b4-91f9-5ce155741e36",
   "metadata": {},
   "outputs": [
    {
     "name": "stdout",
     "output_type": "stream",
     "text": [
      "Let us get up and get going,\n",
      "With a strong heart for whatever may come our\n",
      "way.Keep working, keep trying, Learn to work hard and be patient each day.\n"
     ]
    }
   ],
   "source": [
    "print(s)"
   ]
  },
  {
   "cell_type": "code",
   "execution_count": 80,
   "id": "eb0b21aa-a19a-4a43-bef0-62a68af30db4",
   "metadata": {},
   "outputs": [
    {
     "name": "stdout",
     "output_type": "stream",
     "text": [
      "My height is 5'3\" \n"
     ]
    }
   ],
   "source": [
    "print('''My height is 5'3\" ''')"
   ]
  },
  {
   "cell_type": "code",
   "execution_count": 81,
   "id": "4e316d6b-d00e-4172-b80e-d360e4eb1218",
   "metadata": {},
   "outputs": [
    {
     "data": {
      "text/plain": [
       "'abcdefhij'"
      ]
     },
     "execution_count": 81,
     "metadata": {},
     "output_type": "execute_result"
    }
   ],
   "source": [
    "'abc' 'def' 'hij'"
   ]
  },
  {
   "cell_type": "code",
   "execution_count": 82,
   "id": "14da5777-d7b2-4bb7-ac2e-82467fc9af7f",
   "metadata": {},
   "outputs": [
    {
     "ename": "SyntaxError",
     "evalue": "unterminated string literal (detected at line 2) (3912457382.py, line 2)",
     "output_type": "error",
     "traceback": [
      "\u001b[1;36m  Cell \u001b[1;32mIn[82], line 2\u001b[1;36m\u001b[0m\n\u001b[1;33m    'With a strong heart for whatever may come our\u001b[0m\n\u001b[1;37m    ^\u001b[0m\n\u001b[1;31mSyntaxError\u001b[0m\u001b[1;31m:\u001b[0m unterminated string literal (detected at line 2)\n"
     ]
    }
   ],
   "source": [
    "s = ('Let us get up and get going,'\n",
    "'With a strong heart for whatever may come our\n",
    "way.' 'Keep working, keep trying,' 'Learn to work hard and be patient each day. ')"
   ]
  },
  {
   "cell_type": "code",
   "execution_count": 83,
   "id": "7f0d2a04-4071-416d-9778-0ae73fd18998",
   "metadata": {},
   "outputs": [
    {
     "name": "stdout",
     "output_type": "stream",
     "text": [
      "Let us get up and get going,\n",
      "With a strong heart for whatever may come our\n",
      "way.Keep working, keep trying, Learn to work hard and be patient each day.\n"
     ]
    }
   ],
   "source": [
    "print(s)"
   ]
  },
  {
   "cell_type": "code",
   "execution_count": 84,
   "id": "29a30d95-93b1-4899-9beb-b466e36478ca",
   "metadata": {},
   "outputs": [
    {
     "ename": "SyntaxError",
     "evalue": "unterminated string literal (detected at line 2) (2579216927.py, line 2)",
     "output_type": "error",
     "traceback": [
      "\u001b[1;36m  Cell \u001b[1;32mIn[84], line 2\u001b[1;36m\u001b[0m\n\u001b[1;33m    'With a strong heart for whatever may come our\u001b[0m\n\u001b[1;37m    ^\u001b[0m\n\u001b[1;31mSyntaxError\u001b[0m\u001b[1;31m:\u001b[0m unterminated string literal (detected at line 2)\n"
     ]
    }
   ],
   "source": [
    "s = ('Let us get up and get going,'\n",
    "'With a strong heart for whatever may come our\n",
    "way.' # prepared for anything\n",
    "... 'Keep working, keep trying,'\n",
    "... 'Learn to work hard and be patient each day. ')\n",
    "# patience is the key"
   ]
  },
  {
   "cell_type": "code",
   "execution_count": 85,
   "id": "0f4e2709-4e7d-4fa3-9d9d-59b18c657a09",
   "metadata": {},
   "outputs": [
    {
     "name": "stdout",
     "output_type": "stream",
     "text": [
      "Let us get up and get going,\n",
      "With a strong heart for whatever may come our\n",
      "way.Keep working, keep trying, Learn to work hard and be patient each day.\n"
     ]
    }
   ],
   "source": [
    "print(s)"
   ]
  },
  {
   "cell_type": "code",
   "execution_count": 86,
   "id": "b6fad3e3-2f1d-4e2a-8e5d-23b4779d7fb3",
   "metadata": {},
   "outputs": [
    {
     "data": {
      "text/plain": [
       "' This is also a multiline comment\\n It explains the code\\n It has no effect on the code\\n'"
      ]
     },
     "execution_count": 86,
     "metadata": {},
     "output_type": "execute_result"
    }
   ],
   "source": [
    "# This is a multiline comment\n",
    "# It explains the code\n",
    "# It has no effect on the code\n",
    "''' This is also a multiline comment\n",
    " It explains the code\n",
    " It has no effect on the code\n",
    "''' "
   ]
  },
  {
   "cell_type": "markdown",
   "id": "75edce5b-98e5-4a0a-8ea0-f7a92f13f972",
   "metadata": {},
   "source": [
    "String Method"
   ]
  },
  {
   "cell_type": "code",
   "execution_count": 87,
   "id": "aaa6c34f-8d1f-410d-a7ac-795e1de8ab88",
   "metadata": {},
   "outputs": [],
   "source": [
    "s = \"Hello\""
   ]
  },
  {
   "cell_type": "code",
   "execution_count": 88,
   "id": "479ca3bc-8b23-4962-8e07-a05eb963e865",
   "metadata": {},
   "outputs": [
    {
     "data": {
      "text/plain": [
       "'HELLO'"
      ]
     },
     "execution_count": 88,
     "metadata": {},
     "output_type": "execute_result"
    }
   ],
   "source": [
    "s.upper()"
   ]
  },
  {
   "cell_type": "code",
   "execution_count": 89,
   "id": "c17ca672-da0c-4064-abf0-71c639ebaf4f",
   "metadata": {},
   "outputs": [
    {
     "data": {
      "text/plain": [
       "'HELLO'"
      ]
     },
     "execution_count": 89,
     "metadata": {},
     "output_type": "execute_result"
    }
   ],
   "source": [
    "s1 = s.upper()\n",
    "s1"
   ]
  },
  {
   "cell_type": "markdown",
   "id": "24d4e7d1-caaa-46cc-a78d-a6bc4bc73196",
   "metadata": {},
   "source": [
    "Case-Changing Methods"
   ]
  },
  {
   "cell_type": "code",
   "execution_count": 90,
   "id": "4e89c41c-da54-4009-bf8e-fab45570353b",
   "metadata": {},
   "outputs": [
    {
     "data": {
      "text/plain": [
       "'life is a journey, not a race'"
      ]
     },
     "execution_count": 90,
     "metadata": {},
     "output_type": "execute_result"
    }
   ],
   "source": [
    "s = 'Life is a journey, not a race'\n",
    "s.lower()"
   ]
  },
  {
   "cell_type": "code",
   "execution_count": 91,
   "id": "fac1798b-4cbe-4273-899a-a5a551d267ee",
   "metadata": {},
   "outputs": [
    {
     "data": {
      "text/plain": [
       "'Life is a journey, not a race'"
      ]
     },
     "execution_count": 91,
     "metadata": {},
     "output_type": "execute_result"
    }
   ],
   "source": [
    "s"
   ]
  },
  {
   "cell_type": "code",
   "execution_count": 92,
   "id": "0b402d7f-6833-486a-8e46-90d58a2b2f5d",
   "metadata": {},
   "outputs": [
    {
     "data": {
      "text/plain": [
       "'Life Is A Journey, Not A Race'"
      ]
     },
     "execution_count": 92,
     "metadata": {},
     "output_type": "execute_result"
    }
   ],
   "source": [
    "s = s.title()\n",
    "s"
   ]
  },
  {
   "cell_type": "code",
   "execution_count": 93,
   "id": "b61652f7-8e78-410f-b4b9-c4d4a2a6b2fd",
   "metadata": {},
   "outputs": [
    {
     "data": {
      "text/plain": [
       "True"
      ]
     },
     "execution_count": 93,
     "metadata": {},
     "output_type": "execute_result"
    }
   ],
   "source": [
    " 'out' in 'Output'.lower()"
   ]
  },
  {
   "cell_type": "code",
   "execution_count": 94,
   "id": "547e488e-a2b4-47ff-ada8-426e554a242c",
   "metadata": {},
   "outputs": [],
   "source": [
    "s = 'telephone'"
   ]
  },
  {
   "cell_type": "code",
   "execution_count": null,
   "id": "d3f5dfa6-b1e6-474f-a795-3314150250e7",
   "metadata": {},
   "outputs": [],
   "source": [
    "response.lower() == 'yes'"
   ]
  },
  {
   "cell_type": "code",
   "execution_count": null,
   "id": "2089192d-d7b2-45af-b227-994a2d624cae",
   "metadata": {},
   "outputs": [],
   "source": [
    "response = input('Enter yes or no : ')"
   ]
  },
  {
   "cell_type": "markdown",
   "id": "3475a54c-7fbc-4d0f-8221-f9ab61e82098",
   "metadata": {},
   "source": [
    "Character Classification Method"
   ]
  },
  {
   "cell_type": "code",
   "execution_count": null,
   "id": "319e752a-09e1-45f5-86a1-ab932eaadded",
   "metadata": {},
   "outputs": [],
   "source": [
    "s = 'Yes Sir'\n",
    "s.isalpha()"
   ]
  },
  {
   "cell_type": "code",
   "execution_count": null,
   "id": "9963209b-b7f0-497b-bf70-fa9758a96954",
   "metadata": {},
   "outputs": [],
   "source": [
    "s.isupper()"
   ]
  },
  {
   "cell_type": "code",
   "execution_count": null,
   "id": "62827b0c-0f35-43d2-9f38-4b37c5860fbe",
   "metadata": {},
   "outputs": [],
   "source": [
    "s.istitle()"
   ]
  },
  {
   "cell_type": "markdown",
   "id": "cf702ebd-8048-4ee7-90e4-8a8b4d5c8218",
   "metadata": {},
   "source": [
    "Aligning Text within Strings"
   ]
  },
  {
   "cell_type": "code",
   "execution_count": null,
   "id": "447f6541-9ca3-4492-8090-14b67d51dba1",
   "metadata": {},
   "outputs": [],
   "source": [
    "s = 'Be a voice, not an echo'\n",
    "s.ljust(40)"
   ]
  },
  {
   "cell_type": "code",
   "execution_count": null,
   "id": "d8cb8f04-99cf-48c2-9db2-439293050492",
   "metadata": {},
   "outputs": [],
   "source": [
    "s.rjust(40)"
   ]
  },
  {
   "cell_type": "code",
   "execution_count": null,
   "id": "8e481ca2-ce19-4b9b-8cc2-21bdb7bb78e9",
   "metadata": {},
   "outputs": [],
   "source": [
    "s.center(40)"
   ]
  },
  {
   "cell_type": "code",
   "execution_count": null,
   "id": "b8622902-82bf-4055-b85b-0b7add4f8757",
   "metadata": {},
   "outputs": [],
   "source": [
    "s.center(4)"
   ]
  },
  {
   "cell_type": "code",
   "execution_count": null,
   "id": "235fa368-4bdb-4ea3-9aac-4663c37778d7",
   "metadata": {},
   "outputs": [],
   "source": [
    "s.center(40, '*')"
   ]
  },
  {
   "cell_type": "markdown",
   "id": "82efab81-4e57-4e69-98de-4dbd3d478460",
   "metadata": {},
   "source": [
    "Removing Unwanted Leading and Trailing Character"
   ]
  },
  {
   "cell_type": "code",
   "execution_count": null,
   "id": "905c6522-a0dd-41b1-b470-0638bbda2b2d",
   "metadata": {},
   "outputs": [],
   "source": [
    "'!!..Imagine .. believe .. achieve ..!! ?'.rstrip('!?. ')"
   ]
  },
  {
   "cell_type": "code",
   "execution_count": null,
   "id": "582a800a-14eb-466f-a129-92269d5b98d9",
   "metadata": {},
   "outputs": [],
   "source": [
    "'!!..Imagine .. believe .. achieve ..!! ?'.lstrip('!?. ')"
   ]
  },
  {
   "cell_type": "code",
   "execution_count": null,
   "id": "bd289c0c-12b4-43a4-82ba-f7de3215fc2c",
   "metadata": {},
   "outputs": [],
   "source": [
    "'!!..Imagine .. believe .. achieve ..!! ?'.strip('!?. ')"
   ]
  },
  {
   "cell_type": "code",
   "execution_count": null,
   "id": "3079d5d2-5973-4e6f-9de4-45b15a054c61",
   "metadata": {},
   "outputs": [],
   "source": [
    "s = ' All is well '\n",
    "s.lstrip()"
   ]
  },
  {
   "cell_type": "code",
   "execution_count": null,
   "id": "8233f3f1-b500-441a-a9d3-bddea4849600",
   "metadata": {},
   "outputs": [],
   "source": [
    "s.rstrip()"
   ]
  },
  {
   "cell_type": "code",
   "execution_count": null,
   "id": "1aab3617-114f-4286-894d-0d2d5a33080a",
   "metadata": {},
   "outputs": [],
   "source": [
    "s.strip()"
   ]
  },
  {
   "cell_type": "code",
   "execution_count": null,
   "id": "4db3f798-ddc0-465a-bc3c-2f47bb45a9a5",
   "metadata": {},
   "outputs": [],
   "source": [
    "s.strip().upper()"
   ]
  },
  {
   "cell_type": "code",
   "execution_count": null,
   "id": "bc6a611c-37c1-4749-b7c8-f4163e846289",
   "metadata": {},
   "outputs": [],
   "source": [
    "'PyTorch'.removeprefix('Py')"
   ]
  },
  {
   "cell_type": "code",
   "execution_count": null,
   "id": "0d7387c8-9397-4fe6-a94c-768c390e185b",
   "metadata": {},
   "outputs": [],
   "source": [
    "'Numpy'.removesuffix('Py')"
   ]
  },
  {
   "cell_type": "code",
   "execution_count": null,
   "id": "56d7915d-59ea-48b0-a7ef-4cb5dddf530d",
   "metadata": {},
   "outputs": [],
   "source": [
    " 'Numpy'.removesuffix('py')"
   ]
  },
  {
   "cell_type": "markdown",
   "id": "e83c8cd3-6f78-4a92-b436-d1d7525abf96",
   "metadata": {},
   "source": [
    "Searching and Replacing Substrings"
   ]
  },
  {
   "cell_type": "code",
   "execution_count": null,
   "id": "0d752500-005e-44b3-9de5-4bef182fd285",
   "metadata": {},
   "outputs": [],
   "source": [
    "s = '''Focus on present, not on past or future\n",
    "Focus on yourself, not on others\n",
    "Focus on the process, not on outcome\n",
    "Focus on what you can control, not on what you cannot control'''"
   ]
  },
  {
   "cell_type": "code",
   "execution_count": null,
   "id": "b8b812a5-1f45-407c-839b-185d159c1b71",
   "metadata": {},
   "outputs": [],
   "source": [
    " s.find('Focus')"
   ]
  },
  {
   "cell_type": "code",
   "execution_count": null,
   "id": "7b24e0e0-e733-4000-bc06-2e3beb4ce6d0",
   "metadata": {},
   "outputs": [],
   "source": [
    "s.rfind('Focus')"
   ]
  },
  {
   "cell_type": "code",
   "execution_count": null,
   "id": "d8a57297-6ec2-4641-8a6f-81cdd7cbb9ae",
   "metadata": {},
   "outputs": [],
   "source": [
    "s.find('focus')"
   ]
  },
  {
   "cell_type": "code",
   "execution_count": null,
   "id": "18b2a138-53d2-4e7f-9d1a-306f37c945ad",
   "metadata": {},
   "outputs": [],
   "source": [
    "s.index('focus')"
   ]
  },
  {
   "cell_type": "code",
   "execution_count": null,
   "id": "b53230eb-c7d4-49a9-b75e-3cae154d3255",
   "metadata": {},
   "outputs": [],
   "source": [
    "s.count('on')"
   ]
  },
  {
   "cell_type": "code",
   "execution_count": null,
   "id": "89bbe477-aace-4a51-827b-e51e29dea616",
   "metadata": {},
   "outputs": [],
   "source": [
    "s.startswith('Focus')"
   ]
  },
  {
   "cell_type": "code",
   "execution_count": null,
   "id": "bc7ac677-4904-4999-9a94-7d564d7c70b8",
   "metadata": {},
   "outputs": [],
   "source": [
    "s.endswith('?')"
   ]
  },
  {
   "cell_type": "code",
   "execution_count": null,
   "id": "7b4045fa-810f-4add-a8a4-7de439ee2cab",
   "metadata": {},
   "outputs": [],
   "source": [
    "s.find('Focus', 20, 100)"
   ]
  },
  {
   "cell_type": "code",
   "execution_count": null,
   "id": "9874c1c3-0c77-4c37-86a9-8a8a3572d745",
   "metadata": {},
   "outputs": [],
   "source": [
    "s = 'Dev; 22; male; graduate; Bareilly'"
   ]
  },
  {
   "cell_type": "code",
   "execution_count": null,
   "id": "3170c638-2a04-42c2-9eee-5e71a6d2b4e9",
   "metadata": {},
   "outputs": [],
   "source": [
    "s[s.index(';'):]"
   ]
  },
  {
   "cell_type": "code",
   "execution_count": null,
   "id": "093705d2-c936-4480-8aad-85c269fcec32",
   "metadata": {},
   "outputs": [],
   "source": [
    "s[s.index(';')+1:]"
   ]
  },
  {
   "cell_type": "code",
   "execution_count": null,
   "id": "8b375f73-5087-48a3-b341-27b94f899968",
   "metadata": {},
   "outputs": [],
   "source": [
    "s2 = s[s.index(';')+1:]\n",
    "s2"
   ]
  },
  {
   "cell_type": "code",
   "execution_count": null,
   "id": "7d69907d-b597-401e-8426-22ad98a2c166",
   "metadata": {},
   "outputs": [],
   "source": [
    "s2 = s[s.rindex(';')+1:]\n",
    "s2"
   ]
  },
  {
   "cell_type": "code",
   "execution_count": null,
   "id": "7a25ed23-6117-4140-a207-895bd5c48661",
   "metadata": {},
   "outputs": [],
   "source": [
    "s2 = s[s.index(';')+1: s.rindex(';')]\n",
    "s2"
   ]
  },
  {
   "cell_type": "code",
   "execution_count": null,
   "id": "981efc3e-7c25-4ddb-9d52-a71a453bae45",
   "metadata": {},
   "outputs": [],
   "source": [
    "s2 = s[: s.index('xy')]"
   ]
  },
  {
   "cell_type": "code",
   "execution_count": null,
   "id": "7cf73d5e-eaa5-4338-895e-0a776d525198",
   "metadata": {},
   "outputs": [],
   "source": [
    "s2 = s[: s.find('xy')]"
   ]
  },
  {
   "cell_type": "code",
   "execution_count": null,
   "id": "9bdcbf0c-8520-4358-8d82-7d618bac4328",
   "metadata": {},
   "outputs": [],
   "source": [
    "s2"
   ]
  },
  {
   "cell_type": "code",
   "execution_count": null,
   "id": "e33ece3d-2d7c-41ea-8188-da9ddf38b714",
   "metadata": {},
   "outputs": [],
   "source": [
    "s = '''Focus on present, not on past or future\n",
    "... Focus on yourself, not on others\n",
    "... Focus on the process, not on outcome\n",
    "... Focus on what you can control, not on what you\n",
    "can't control'''"
   ]
  },
  {
   "cell_type": "code",
   "execution_count": null,
   "id": "46852f4d-7991-4e9a-91f5-f062a557ae93",
   "metadata": {},
   "outputs": [],
   "source": [
    "s2 = s.replace('Focus', 'Concentrate')\n",
    "print(s2)"
   ]
  },
  {
   "cell_type": "code",
   "execution_count": null,
   "id": "de800bc0-c164-4ff5-a0b2-59833c687c68",
   "metadata": {},
   "outputs": [],
   "source": [
    "s2 = s.replace('Focus', 'Concentrate', 3)\n",
    "print(s2)"
   ]
  },
  {
   "cell_type": "code",
   "execution_count": null,
   "id": "ee699558-6f0d-437c-99c4-95020d6f87ed",
   "metadata": {},
   "outputs": [],
   "source": [
    "s2 = s.replace('not', '')\n",
    "print(s2)"
   ]
  },
  {
   "cell_type": "code",
   "execution_count": null,
   "id": "b6f3f021-718f-46df-ac04-3dbe14b4f347",
   "metadata": {},
   "outputs": [],
   "source": [
    "s2 = s.replace('not', '').replace(' ', ' ')\n",
    ">>> print(s2)"
   ]
  },
  {
   "cell_type": "markdown",
   "id": "842e65d2-0749-4e26-8ddb-41f2ee52fe62",
   "metadata": {},
   "source": [
    "Changing Method Calls"
   ]
  },
  {
   "cell_type": "code",
   "execution_count": null,
   "id": "e902668a-306d-4a52-b41b-d1a172615056",
   "metadata": {},
   "outputs": [],
   "source": [
    "s = ' hello '\n",
    "s = s.strip().upper().center(20, '*')\n",
    "s"
   ]
  },
  {
   "cell_type": "code",
   "execution_count": null,
   "id": "36e95c45-1403-44fb-b17b-0f274bd4f58c",
   "metadata": {},
   "outputs": [],
   "source": [
    "s = ' hello '"
   ]
  },
  {
   "cell_type": "markdown",
   "id": "66b052a5-f968-466d-9793-93e7fad875eb",
   "metadata": {},
   "source": [
    "String Comparison"
   ]
  },
  {
   "cell_type": "code",
   "execution_count": null,
   "id": "7c644181-3ff8-4786-b6fb-a8c1d12bf759",
   "metadata": {},
   "outputs": [],
   "source": [
    "s1 = 'Python'\n",
    "s2 = 'Python'\n",
    "s1 == s2"
   ]
  },
  {
   "cell_type": "code",
   "execution_count": null,
   "id": "80dc2fb0-2f07-4444-bdcd-9e4152c5907b",
   "metadata": {},
   "outputs": [],
   "source": [
    "s1 != s2"
   ]
  },
  {
   "cell_type": "code",
   "execution_count": null,
   "id": "42160a6e-abfe-43d8-a474-f49c46ef6de1",
   "metadata": {},
   "outputs": [],
   "source": [
    "s1 = 'Python'\n",
    "s2 = 'python'\n",
    "s1 == s2"
   ]
  },
  {
   "cell_type": "code",
   "execution_count": null,
   "id": "7a6ff5a5-60ae-4cb4-9410-7b8d30ca1fe1",
   "metadata": {},
   "outputs": [],
   "source": [
    "s1.lower() == s2.lower()"
   ]
  },
  {
   "cell_type": "code",
   "execution_count": null,
   "id": "f8c82665-6c06-49a8-bd51-2ca15ea94959",
   "metadata": {},
   "outputs": [],
   "source": [
    "s1.upper() == s2.upper()"
   ]
  },
  {
   "cell_type": "code",
   "execution_count": null,
   "id": "a34c1525-4b14-4fbc-9e9f-cbf7309764fb",
   "metadata": {},
   "outputs": [],
   "source": [
    "s1.casefold() == s2.casefold()"
   ]
  },
  {
   "cell_type": "code",
   "execution_count": null,
   "id": "03028093-e4b8-453f-9378-976f79b5c350",
   "metadata": {},
   "outputs": [],
   "source": [
    "ord('P')"
   ]
  },
  {
   "cell_type": "code",
   "execution_count": null,
   "id": "0c9c256c-148f-4a6d-887f-76980e8f6674",
   "metadata": {},
   "outputs": [],
   "source": [
    "ord('p')"
   ]
  },
  {
   "cell_type": "code",
   "execution_count": null,
   "id": "9f6a891b-b5f3-4520-8fbe-56c204235618",
   "metadata": {},
   "outputs": [],
   "source": [
    " 'Python' < 'python'"
   ]
  },
  {
   "cell_type": "markdown",
   "id": "b7fefbb4-cfd0-49b0-a2fe-3d4fe3070d29",
   "metadata": {},
   "source": [
    "Strings Conversion"
   ]
  },
  {
   "cell_type": "code",
   "execution_count": null,
   "id": "3241114d-43f4-43c5-bda2-6cbc8ed2c008",
   "metadata": {},
   "outputs": [],
   "source": [
    "s = '23'"
   ]
  },
  {
   "cell_type": "code",
   "execution_count": null,
   "id": "10161f57-07a9-46c3-bfec-bac39c5122b1",
   "metadata": {},
   "outputs": [],
   "source": [
    "s + 1"
   ]
  },
  {
   "cell_type": "code",
   "execution_count": null,
   "id": "6f6253be-6c0d-45f5-93c2-b95be474339d",
   "metadata": {},
   "outputs": [],
   "source": [
    "x = int(s)"
   ]
  },
  {
   "cell_type": "code",
   "execution_count": null,
   "id": "addad9fc-0e6e-4d5c-8072-f6dc297d54e4",
   "metadata": {},
   "outputs": [],
   "source": [
    "x + 1"
   ]
  },
  {
   "cell_type": "code",
   "execution_count": null,
   "id": "d7e1063e-f93b-495c-af0d-6102b62a042d",
   "metadata": {},
   "outputs": [],
   "source": [
    "float(s) / 2"
   ]
  },
  {
   "cell_type": "code",
   "execution_count": null,
   "id": "9c276d08-fdb5-447a-a152-6edd9ff9f33e",
   "metadata": {},
   "outputs": [],
   "source": [
    "s = 'UP05788'\n",
    "n = int(s[2:])\n",
    "n + 1"
   ]
  },
  {
   "cell_type": "code",
   "execution_count": null,
   "id": "ff59cb67-b97f-4b25-91d3-657a34e4e09c",
   "metadata": {},
   "outputs": [],
   "source": [
    "s1 = 'UP05'\n",
    "n = 2456\n",
    "s1 + n"
   ]
  },
  {
   "cell_type": "code",
   "execution_count": null,
   "id": "fb6bb565-bbc0-4171-81b2-e7cf321eb2b7",
   "metadata": {},
   "outputs": [],
   "source": [
    "s1 + str(n)"
   ]
  },
  {
   "cell_type": "code",
   "execution_count": null,
   "id": "a763fa41-ce9c-4bac-94a8-86e8c4c1831c",
   "metadata": {},
   "outputs": [],
   "source": [
    "bin(100)"
   ]
  },
  {
   "cell_type": "code",
   "execution_count": null,
   "id": "eb3cfe3b-4f14-44d3-947d-6f7995d14607",
   "metadata": {},
   "outputs": [],
   "source": [
    "oct(100)"
   ]
  },
  {
   "cell_type": "code",
   "execution_count": null,
   "id": "2aa2b503-5cfa-477c-ad48-37dcc75ee863",
   "metadata": {},
   "outputs": [],
   "source": [
    "hex(100)"
   ]
  },
  {
   "cell_type": "markdown",
   "id": "a2bb96cb-b2b4-4789-b49c-492ebe6a55b0",
   "metadata": {},
   "source": [
    "Escape Sequence"
   ]
  },
  {
   "cell_type": "code",
   "execution_count": null,
   "id": "b39e6a35-64a2-496b-9d74-1b46d34dbef2",
   "metadata": {},
   "outputs": [],
   "source": [
    "print('How\\nare\\nyou')"
   ]
  },
  {
   "cell_type": "code",
   "execution_count": null,
   "id": "915e3914-0d2d-488a-80fc-fe10bc23b196",
   "metadata": {},
   "outputs": [],
   "source": [
    "len('How\\nare\\nyou')"
   ]
  },
  {
   "cell_type": "code",
   "execution_count": null,
   "id": "ad8f1722-fed3-4edd-a70b-961b13b07dee",
   "metadata": {},
   "outputs": [],
   "source": [
    "print('How\\tare\\nyou')"
   ]
  },
  {
   "cell_type": "code",
   "execution_count": null,
   "id": "679dad41-feea-4d5b-ab7a-525b33830e76",
   "metadata": {},
   "outputs": [],
   "source": [
    "print('H\\el\\lo')"
   ]
  },
  {
   "cell_type": "code",
   "execution_count": null,
   "id": "2aece5b2-32c9-4687-a00c-8b31ad3e2981",
   "metadata": {},
   "outputs": [],
   "source": [
    "print('C:\\textfiles\\newFile')"
   ]
  },
  {
   "cell_type": "code",
   "execution_count": null,
   "id": "168d03d0-4b4f-4f05-80e1-b75e93ee9019",
   "metadata": {},
   "outputs": [],
   "source": [
    "print('C:\\\\textfiles\\\\newFile')"
   ]
  },
  {
   "cell_type": "code",
   "execution_count": null,
   "id": "0581bcc7-c715-4a89-be43-d6e081595131",
   "metadata": {},
   "outputs": [],
   "source": [
    "print('Don't run')"
   ]
  },
  {
   "cell_type": "code",
   "execution_count": null,
   "id": "a0c60968-628f-4cdb-bffd-e398d43709ad",
   "metadata": {},
   "outputs": [],
   "source": [
    "print('Don\\'t run')"
   ]
  },
  {
   "cell_type": "markdown",
   "id": "bbff23c0-9d60-4ceb-a2fd-9e1aa5a0b248",
   "metadata": {},
   "source": [
    "Raw String Literal"
   ]
  },
  {
   "cell_type": "code",
   "execution_count": null,
   "id": "8eac1dd0-6668-46b5-b178-6e25f7fbfffa",
   "metadata": {},
   "outputs": [],
   "source": [
    "s = r'hello\\n'\n",
    "print(s)"
   ]
  },
  {
   "cell_type": "code",
   "execution_count": null,
   "id": "507a2613-abb0-439a-86d0-2c8b26406529",
   "metadata": {},
   "outputs": [],
   "source": [
    "print(r'C:\\Yashvaant\\newFiles')"
   ]
  },
  {
   "cell_type": "code",
   "execution_count": null,
   "id": "53e47657-29f8-4486-97ce-3aec9094698d",
   "metadata": {},
   "outputs": [],
   "source": [
    "print('C:\\Yashvaant\\newFiles')"
   ]
  },
  {
   "cell_type": "markdown",
   "id": "34c08fb2-9d26-4cfe-9063-269fe2f58526",
   "metadata": {},
   "source": [
    "String Formatting"
   ]
  },
  {
   "cell_type": "code",
   "execution_count": null,
   "id": "40dee364-0344-4369-9044-9fabb24a05da",
   "metadata": {},
   "outputs": [],
   "source": [
    "name = 'Raj'\n",
    "age = 23\n",
    "wt = 43.567"
   ]
  },
  {
   "cell_type": "code",
   "execution_count": null,
   "id": "25bca14d-bc2c-4587-a1ab-ed2eb3a80573",
   "metadata": {},
   "outputs": [],
   "source": [
    "s = 'My name is ' + name + ', I am ' + str(age)\n",
    "+ ' years old and my weight is ' + str(wt) + ' kg'"
   ]
  },
  {
   "cell_type": "code",
   "execution_count": null,
   "id": "65cc6af2-67c1-43f2-9058-3c408ac92fc6",
   "metadata": {},
   "outputs": [],
   "source": [
    "s"
   ]
  },
  {
   "cell_type": "code",
   "execution_count": null,
   "id": "c6fc68a5-283f-49f7-84b7-b49e4809b212",
   "metadata": {},
   "outputs": [],
   "source": [
    "print('My name is', name, ', I am', age, 'years old and my weight is', wt, 'kg')"
   ]
  },
  {
   "cell_type": "code",
   "execution_count": null,
   "id": "aae99c69-1834-4720-8be6-a1091754fe28",
   "metadata": {},
   "outputs": [],
   "source": [
    "name = 'Raj'\n",
    "age = 23\n",
    "wt = 47.5\n",
    "s = 'My name is %s, I am %d years old and my weight is %f kg' % (name, age, wt)\n",
    "s"
   ]
  },
  {
   "cell_type": "code",
   "execution_count": null,
   "id": "a48ed871-0be9-4916-85d6-037e3a3c7987",
   "metadata": {},
   "outputs": [],
   "source": [
    "name = 'Raj'\n",
    "age = 23\n",
    "wt = 47.5\n",
    "s = 'My name is {}, I am {} years old and my weight is {} kg'.format(name, age, wt)\n",
    "print(s)"
   ]
  },
  {
   "cell_type": "code",
   "execution_count": null,
   "id": "7887f47a-1c45-4236-b95a-8c030a48ffbd",
   "metadata": {},
   "outputs": [],
   "source": [
    "name = 'Raj'\n",
    "age = 23\n",
    "wt = 47.5\n",
    "s = f'My name is {name}, I am {age} years old and my weight is {wt} kg'\n",
    "print(s)"
   ]
  },
  {
   "cell_type": "code",
   "execution_count": null,
   "id": "c27015fb-2447-4a56-b25b-ecd2cf1c94c5",
   "metadata": {},
   "outputs": [],
   "source": [
    "name = 'Raj'\n",
    "age = 23\n",
    "wt = 47.567\n",
    "f'After 10 years {name.upper()} will be {age + 10} years old'"
   ]
  },
  {
   "cell_type": "code",
   "execution_count": null,
   "id": "0444bcb1-67aa-43cf-874f-9c5730ca1dc4",
   "metadata": {},
   "outputs": [],
   "source": [
    "f'He is {{ {name}, {age} }}'"
   ]
  },
  {
   "cell_type": "code",
   "execution_count": null,
   "id": "0abe09b0-dc59-4887-9646-c5943005df22",
   "metadata": {},
   "outputs": [],
   "source": [
    "f'His name is {name:8} and he is {age:6} years old'"
   ]
  },
  {
   "cell_type": "code",
   "execution_count": null,
   "id": "04bb280a-4f78-4fc0-b4b4-1ccdfa5c7a44",
   "metadata": {},
   "outputs": [],
   "source": [
    "f'His name is {name:>8} and he is {age:<6} years old'"
   ]
  },
  {
   "cell_type": "code",
   "execution_count": null,
   "id": "bfd7e396-9462-40de-be45-921bb6e24bea",
   "metadata": {},
   "outputs": [],
   "source": [
    "f'His name is {name:^8} and he is {age:^6} years old'"
   ]
  },
  {
   "cell_type": "code",
   "execution_count": null,
   "id": "d09002de-ece9-4880-b0a8-426422d3f74f",
   "metadata": {},
   "outputs": [],
   "source": [
    "f'Age is {age:f} and weight is {wt}' "
   ]
  },
  {
   "cell_type": "code",
   "execution_count": null,
   "id": "13f38c21-9389-424e-9020-f09233a79228",
   "metadata": {},
   "outputs": [],
   "source": [
    "f'Age is {age:.3f} and weight is {wt}' "
   ]
  },
  {
   "cell_type": "code",
   "execution_count": null,
   "id": "1dfd0c6a-b304-4651-aee5-0615861fc65c",
   "metadata": {},
   "outputs": [],
   "source": [
    "f'Age is {age:<10.3f} and weight is {wt}'"
   ]
  },
  {
   "cell_type": "code",
   "execution_count": null,
   "id": "2ee2a8f1-10bd-4274-a2df-a8dd22a86c60",
   "metadata": {},
   "outputs": [],
   "source": [
    "f'Age is {age:<10.3f} and weight is {wt:.3}'"
   ]
  },
  {
   "cell_type": "code",
   "execution_count": null,
   "id": "28907fb3-e89f-4736-8594-2a22487a0b54",
   "metadata": {},
   "outputs": [],
   "source": [
    "f'Age is {age:<10.3f} and weight is {wt:8.3}'"
   ]
  },
  {
   "cell_type": "code",
   "execution_count": null,
   "id": "8f4af469-bcb8-4e06-8962-4c315d5454f6",
   "metadata": {},
   "outputs": [],
   "source": [
    "f'Age is {age:<10.3f} and weight is {wt:8.3f}'"
   ]
  },
  {
   "cell_type": "code",
   "execution_count": null,
   "id": "366bee8a-1251-4830-957f-0c41d4d4989e",
   "metadata": {},
   "outputs": [],
   "source": [
    "f'My name is {name:*^10} and age is {age:->12}'"
   ]
  },
  {
   "cell_type": "code",
   "execution_count": null,
   "id": "d85e069c-cb08-4391-95dc-c7df5f69b844",
   "metadata": {},
   "outputs": [],
   "source": [
    "print(fr'\\name: {name}')"
   ]
  },
  {
   "cell_type": "code",
   "execution_count": null,
   "id": "4ec2aac5-03ce-49a2-a4fb-428e3d456cfc",
   "metadata": {},
   "outputs": [],
   "source": [
    "s = f'''My name is {name}, I am {age} years old and my weight is {wt} kg'''"
   ]
  },
  {
   "cell_type": "code",
   "execution_count": null,
   "id": "c163458d-6860-4b21-be49-243c3e9c6a5c",
   "metadata": {},
   "outputs": [],
   "source": [
    "s"
   ]
  },
  {
   "cell_type": "code",
   "execution_count": null,
   "id": "b9de6086-73ad-457f-8d4a-79892b3a6cda",
   "metadata": {},
   "outputs": [],
   "source": [
    "print(s)"
   ]
  },
  {
   "cell_type": "code",
   "execution_count": null,
   "id": "170e0233-66d8-46ab-a7c0-d0a32d30eb2b",
   "metadata": {},
   "outputs": [],
   "source": [
    "num = 1247\n",
    "f'{num:x} {num:o} {num:b}'"
   ]
  },
  {
   "cell_type": "code",
   "execution_count": null,
   "id": "e5054c6b-398b-40bd-8ed5-c2adb33cc6df",
   "metadata": {},
   "outputs": [],
   "source": [
    "num1 = 0.00000082478\n",
    "num2 = 3345600000000\n",
    "f'{num1:e} {num2:e} {num1:E} {num2:E}'"
   ]
  },
  {
   "cell_type": "code",
   "execution_count": null,
   "id": "2bd45a36-847c-4620-b73f-0eb3302c81a4",
   "metadata": {},
   "outputs": [],
   "source": [
    "f'{num2:,}'"
   ]
  },
  {
   "cell_type": "code",
   "execution_count": null,
   "id": "9970f2b4-0aec-40a9-afc3-eb022c835b22",
   "metadata": {},
   "outputs": [],
   "source": [
    "name = 'Raj'\n",
    "age = 23\n",
    "print(f'name = {name}, age = {age}')"
   ]
  },
  {
   "cell_type": "code",
   "execution_count": null,
   "id": "0dd8c366-ae2f-42a9-b588-f98ed9c5b911",
   "metadata": {},
   "outputs": [],
   "source": [
    "name = Raj, age = 23\n",
    "a = 14\n",
    "b = 12\n",
    "print(f'a + b = {a + b} , a - b = {a - b}')"
   ]
  },
  {
   "cell_type": "code",
   "execution_count": null,
   "id": "af486861-ca52-40a4-9c90-56646a290844",
   "metadata": {},
   "outputs": [],
   "source": [
    "print(f'min(a,b) = {min(a,b)}, max(a,b) = {max(a,b)}')"
   ]
  },
  {
   "cell_type": "code",
   "execution_count": null,
   "id": "4e4687a8-30f4-4ff4-95d2-8afdfd88856a",
   "metadata": {},
   "outputs": [],
   "source": [
    "print(f'{name = }, {age = }')"
   ]
  },
  {
   "cell_type": "code",
   "execution_count": null,
   "id": "5ee97825-e673-4883-93b0-6abf5a94b37e",
   "metadata": {},
   "outputs": [],
   "source": [
    "print(f'{a + b = }, {a - b = }')"
   ]
  },
  {
   "cell_type": "code",
   "execution_count": null,
   "id": "b75a8528-92c2-4510-bc27-dfa75db2b3c4",
   "metadata": {},
   "outputs": [],
   "source": [
    "print(f'{min(a,b) = }, {max(a,b) = }')"
   ]
  },
  {
   "cell_type": "markdown",
   "id": "0b238303-9347-4ee3-b8c3-ba6a5c9e3f38",
   "metadata": {},
   "source": [
    "String Operation using the format() Method of String Class"
   ]
  },
  {
   "cell_type": "code",
   "execution_count": null,
   "id": "c6179484-1935-4239-b964-ece21c71f659",
   "metadata": {},
   "outputs": [],
   "source": [
    "name = 'Raj'\n",
    "age = 23\n",
    "wt = 47.567\n",
    "s = 'My name is {}, I am {} years old and my weight is {} kg'.format(name, age, wt)\n",
    "s"
   ]
  },
  {
   "cell_type": "code",
   "execution_count": null,
   "id": "12bf9d61-dcf8-4aee-b364-715cabf07de1",
   "metadata": {},
   "outputs": [],
   "source": [
    "s = 'My name is {0}, I am {1} years old and my weight is {2} kg'.format(name, age, wt)\n",
    "s"
   ]
  },
  {
   "cell_type": "code",
   "execution_count": null,
   "id": "c31034d7-0a23-43f4-a180-48194257c94d",
   "metadata": {},
   "outputs": [],
   "source": [
    "s = 'Age {1} years, Name {0}, weight {2} kg, bye from {0}'.format(name, age, wt)\n",
    "s"
   ]
  },
  {
   "cell_type": "code",
   "execution_count": null,
   "id": "69696ebf-5765-491a-925d-e1f6c1a91576",
   "metadata": {},
   "outputs": [],
   "source": [
    "s = '{msg}, my name is {n}, I am {a} years old'.format(n=name, a=age, msg='Hello')\n",
    "s"
   ]
  },
  {
   "cell_type": "code",
   "execution_count": null,
   "id": "4df4ad0b-d491-4a07-8c37-6afbb1c7efc7",
   "metadata": {},
   "outputs": [],
   "source": [
    "s = '{msg}, I am {1} years old and my weight is {0} kg'.format(wt, age, msg='Hello')\n",
    "s"
   ]
  },
  {
   "cell_type": "code",
   "execution_count": null,
   "id": "1e0a601c-75b6-40bd-927a-208af1564c3b",
   "metadata": {},
   "outputs": [],
   "source": [
    "num1 = 123\n",
    "num2 = 345.43678\n",
    "print('number1 is {:.2f}'.format(num1))"
   ]
  },
  {
   "cell_type": "code",
   "execution_count": null,
   "id": "9428716f-81ba-42b4-a56c-c4ad26993b1c",
   "metadata": {},
   "outputs": [],
   "source": [
    "print('number2 is {:.2f}'.format(num2))"
   ]
  },
  {
   "cell_type": "code",
   "execution_count": null,
   "id": "b01e7c65-6d53-4796-98b1-f57d71e2eb70",
   "metadata": {},
   "outputs": [],
   "source": [
    "print('number2 is {:.0f}'.format(num2))"
   ]
  },
  {
   "cell_type": "code",
   "execution_count": null,
   "id": "8748bb53-0740-410f-af78-7619d59b57a5",
   "metadata": {},
   "outputs": [],
   "source": [
    "name = 'Raj'\n",
    "age = 23\n",
    "print('My name is {:8} and I am {:6} years old'.format(name,age)"
   ]
  },
  {
   "cell_type": "code",
   "execution_count": null,
   "id": "bfee232d-60a0-4780-9906-b65ba60d9cd2",
   "metadata": {},
   "outputs": [],
   "source": [
    "print('My name is {:^8} and I am {:<6} years old'.format(name, age))"
   ]
  },
  {
   "cell_type": "code",
   "execution_count": null,
   "id": "741d672c-4a36-4e1a-844b-57766ca87690",
   "metadata": {},
   "outputs": [],
   "source": [
    "number = 78.386367\n",
    "print('number is {:10.4}'.format(number))"
   ]
  },
  {
   "cell_type": "code",
   "execution_count": null,
   "id": "26ff173c-7749-4eee-a01f-1df088015a43",
   "metadata": {},
   "outputs": [],
   "source": [
    "print('number is {:10.4f}'.format(number))"
   ]
  },
  {
   "cell_type": "code",
   "execution_count": null,
   "id": "56371625-1a54-4593-a369-54663e283c22",
   "metadata": {},
   "outputs": [],
   "source": [
    "print('My name is {:*^8} and age is {:.>6}'.format(name, age))"
   ]
  },
  {
   "cell_type": "code",
   "execution_count": null,
   "id": "ce377a11-cfec-4ee4-a4e7-931b0fd52196",
   "metadata": {},
   "outputs": [],
   "source": [
    "print('My name is {:*^8} and age is {:>06}'.format(name, age))"
   ]
  },
  {
   "cell_type": "code",
   "execution_count": null,
   "id": "2b5ce2ae-5e76-45f7-b47e-6dc0e3315a34",
   "metadata": {},
   "outputs": [],
   "source": [
    "num = 246\n",
    "print('{:x}'.format(num))"
   ]
  },
  {
   "cell_type": "code",
   "execution_count": null,
   "id": "ab5f68f4-7155-4da2-949a-fe00a5f1d914",
   "metadata": {},
   "outputs": [],
   "source": [
    "print('{:X}'.format(num))"
   ]
  },
  {
   "cell_type": "code",
   "execution_count": null,
   "id": "18a134ec-2410-4199-a836-66d9a2ad96b9",
   "metadata": {},
   "outputs": [],
   "source": [
    "print('{:o}'.format(num))"
   ]
  },
  {
   "cell_type": "code",
   "execution_count": null,
   "id": "de6d2e6a-cddb-456d-9ad0-6dcff710dde8",
   "metadata": {},
   "outputs": [],
   "source": [
    "print('{:b}'.format(num))"
   ]
  },
  {
   "cell_type": "code",
   "execution_count": null,
   "id": "f0bd6ade-9a09-4137-aadd-2ae7c83199fa",
   "metadata": {},
   "outputs": [],
   "source": [
    "num1 = 0.000000000412\n",
    "num2 = 124300000000000\n",
    "print('{:e}'.format(num1))"
   ]
  },
  {
   "cell_type": "code",
   "execution_count": null,
   "id": "bdc1c57d-a6c4-4585-a098-0030ef54e613",
   "metadata": {},
   "outputs": [],
   "source": [
    "print('{:e}'.format(num2))"
   ]
  },
  {
   "cell_type": "code",
   "execution_count": null,
   "id": "f6b48780-3830-4679-b19d-b92542e07bd6",
   "metadata": {},
   "outputs": [],
   "source": [
    "print('{:,}'.format(num2))"
   ]
  },
  {
   "cell_type": "markdown",
   "id": "c65362b9-cc1b-46a3-aef5-1972a365b474",
   "metadata": {},
   "source": [
    "Representation of Text - Character Encoding"
   ]
  },
  {
   "cell_type": "code",
   "execution_count": null,
   "id": "4bf4f81d-526e-4f90-befb-2c36301da9e0",
   "metadata": {},
   "outputs": [],
   "source": [
    "s = 'Hello World ☺'\n",
    "c = 'Copyright © '"
   ]
  },
  {
   "cell_type": "code",
   "execution_count": null,
   "id": "df7885d7-9c4a-451d-acbc-ab71189c4649",
   "metadata": {},
   "outputs": [],
   "source": [
    "greeting = '🙏 नमस्कर  ना\n",
    "message = 'ನನು ಗಳೂ\n",
    "bday_wish = '생일 축하해 신의 축복이 있기를 🎂💐'"
   ]
  },
  {
   "cell_type": "code",
   "execution_count": null,
   "id": "643e02be-c247-4e48-9d80-c879c20c49a7",
   "metadata": {},
   "outputs": [],
   "source": [
    "'100\\xA5'"
   ]
  },
  {
   "cell_type": "code",
   "execution_count": null,
   "id": "6468727b-eadf-4ec7-ab9c-4f46b8f91793",
   "metadata": {},
   "outputs": [],
   "source": [
    "'\\u2660\\u2663\\u2665\\u2666'"
   ]
  },
  {
   "cell_type": "code",
   "execution_count": null,
   "id": "87027869-0cb4-4c21-b3bd-69364605a9fb",
   "metadata": {},
   "outputs": [],
   "source": [
    "'\\N{Black Smiling Face} Hello World \\N{White Smiling Face}'"
   ]
  },
  {
   "cell_type": "code",
   "execution_count": null,
   "id": "479fdbaf-ec5b-4001-83fb-931e567b7f2e",
   "metadata": {},
   "outputs": [],
   "source": [
    "'\\U0001F929\\U0001F607\\U0001F60E\\N{rolling on the floor laughing}'"
   ]
  },
  {
   "cell_type": "code",
   "execution_count": null,
   "id": "c58d888d-15f5-4863-8200-afe2b0337a1e",
   "metadata": {},
   "outputs": [],
   "source": [
    "'\\xA9\\u00A9\\U000000A9\\N{Copyright sign}'"
   ]
  },
  {
   "cell_type": "code",
   "execution_count": null,
   "id": "1eafc5c5-3615-4139-82a2-d47ea08639f5",
   "metadata": {},
   "outputs": [],
   "source": [
    "import unicodedata\n",
    "unicodedata.name('♠')"
   ]
  },
  {
   "cell_type": "code",
   "execution_count": null,
   "id": "d4fede64-3602-4582-ac2f-3a580bc4595e",
   "metadata": {},
   "outputs": [],
   "source": [
    "unicodedata.lookup('black spade suit')"
   ]
  },
  {
   "cell_type": "code",
   "execution_count": null,
   "id": "2c702f6c-b9ba-4ed8-9f0b-6ea017e3f6db",
   "metadata": {},
   "outputs": [],
   "source": [
    "import unicodedata\n",
    "s = 'नमस्ते Helo \n",
    "for i in range(len(s)):\n",
    "print(unicodedata.name(s[i]))"
   ]
  },
  {
   "cell_type": "code",
   "execution_count": null,
   "id": "da9bbd9e-cf32-4639-a6ff-06b4fdd97aff",
   "metadata": {},
   "outputs": [],
   "source": [
    "# -*- coding: encoding-name -*-\n",
    "# -*- coding: ascii -*- \n",
    "# -*- coding: windows-1252 -*-"
   ]
  },
  {
   "cell_type": "code",
   "execution_count": null,
   "id": "fcae5994-06e7-4ba3-8f95-3b9dc7eb14fd",
   "metadata": {},
   "outputs": [],
   "source": [
    "ord('A')"
   ]
  },
  {
   "cell_type": "code",
   "execution_count": null,
   "id": "2f65fc82-d0dd-4a29-a061-142e06229095",
   "metadata": {},
   "outputs": [],
   "source": [
    "ord('🙏')"
   ]
  },
  {
   "cell_type": "code",
   "execution_count": null,
   "id": "b597a053-87e2-44af-979f-94359959b235",
   "metadata": {},
   "outputs": [],
   "source": [
    "hex(ord('🙏'))"
   ]
  },
  {
   "cell_type": "code",
   "execution_count": null,
   "id": "4f2aa68c-b126-4d59-9e88-2d1f794de937",
   "metadata": {},
   "outputs": [],
   "source": [
    "chr(0x1f64f)"
   ]
  },
  {
   "cell_type": "code",
   "execution_count": null,
   "id": "f41601a4-a422-4502-84cd-b8fb0a521926",
   "metadata": {},
   "outputs": [],
   "source": [
    "chr(65)"
   ]
  },
  {
   "cell_type": "code",
   "execution_count": null,
   "id": "46f957d4-be34-45a6-a52e-3dd775ca0181",
   "metadata": {},
   "outputs": [],
   "source": [
    "y = b'\\x44\\x35\\xC8'"
   ]
  },
  {
   "cell_type": "code",
   "execution_count": null,
   "id": "68265971-a5a8-42fe-bed3-f5fabf57909d",
   "metadata": {},
   "outputs": [],
   "source": [
    "type(y)"
   ]
  },
  {
   "cell_type": "code",
   "execution_count": null,
   "id": "86827829-7252-4dc6-9d1a-2d24c0642df3",
   "metadata": {},
   "outputs": [],
   "source": [
    "y"
   ]
  },
  {
   "cell_type": "code",
   "execution_count": null,
   "id": "5ca00fe2-170f-4a03-9291-360de8820c7a",
   "metadata": {},
   "outputs": [],
   "source": [
    "y = b'D5\\xc8'"
   ]
  },
  {
   "cell_type": "code",
   "execution_count": null,
   "id": "792dfe7a-b047-4849-afb7-90c1a86de7f8",
   "metadata": {},
   "outputs": [],
   "source": [
    "len(y)"
   ]
  },
  {
   "cell_type": "code",
   "execution_count": null,
   "id": "0213b51d-b877-4e12-9a47-57d98a35c93e",
   "metadata": {},
   "outputs": [],
   "source": [
    " 'AS😄'.encode('utf-8') # bytes representation of string according to utf-8 encoding\n",
    "#b'AS\\xf0\\x9f\\x98\\x84' "
   ]
  },
  {
   "cell_type": "code",
   "execution_count": null,
   "id": "13f49e16-afc4-491f-b3bc-7d83e48a99ee",
   "metadata": {},
   "outputs": [],
   "source": [
    "b'AS\\xf0\\x9f\\x98\\x84'.decode('utf-8') # converting encoded bytes back to Unicode string "
   ]
  },
  {
   "cell_type": "code",
   "execution_count": null,
   "id": "b4cb3d8b-ebb9-4e10-bf9c-8f99a48ed92e",
   "metadata": {},
   "outputs": [],
   "source": [
    " 'AS😄'.encode('utf-32')"
   ]
  },
  {
   "cell_type": "code",
   "execution_count": null,
   "id": "0104a8a4-2a10-450f-addb-e78ec2949125",
   "metadata": {},
   "outputs": [],
   "source": [
    "b'\\xff\\xfe\\x00\\x00A\\x00\\x00\\x00S\\x00\\x00\\x00\\x04\\xf 6\\x01\\x00'.decode('utf-32')"
   ]
  },
  {
   "cell_type": "code",
   "execution_count": null,
   "id": "bb4727d0-6211-4579-8256-632c5546535d",
   "metadata": {},
   "outputs": [],
   "source": [
    "'AS😄'.encode('ascii')"
   ]
  },
  {
   "cell_type": "code",
   "execution_count": null,
   "id": "84a4cf6f-2a2f-4019-88d7-23c42471f0e8",
   "metadata": {},
   "outputs": [],
   "source": [
    " 'AS😄'.encode('latin-1')"
   ]
  },
  {
   "cell_type": "code",
   "execution_count": null,
   "id": "c18be2d1-19d0-44c6-b9d7-0f1bf22e39a0",
   "metadata": {},
   "outputs": [],
   "source": [
    "'AS😄'.encode('ascii', 'ignore')"
   ]
  },
  {
   "cell_type": "code",
   "execution_count": null,
   "id": "58babbae-db37-4ad1-ac5e-6638cabecc5a",
   "metadata": {},
   "outputs": [],
   "source": [
    " 'AS😄'.encode('ascii', 'replace')"
   ]
  },
  {
   "cell_type": "code",
   "execution_count": null,
   "id": "178b46ae-5425-43bf-94ae-d37f887299fc",
   "metadata": {},
   "outputs": [],
   "source": [
    "data = 'AS😄'\n",
    "binary_data = data.encode('utf-32')\n",
    "binary_data.decode('utf-8')"
   ]
  },
  {
   "cell_type": "code",
   "execution_count": null,
   "id": "fc501cbb-2ad6-4e04-a67e-194ff2bf3392",
   "metadata": {},
   "outputs": [],
   "source": [
    "data = '±µ'\n",
    "binary_data = data.encode('utf-8')\n",
    "binary_data.decode('latin-1')"
   ]
  },
  {
   "cell_type": "code",
   "execution_count": null,
   "id": "987f306e-bbf8-4c3f-b4fb-f9cd0557e187",
   "metadata": {},
   "outputs": [],
   "source": [
    "data = 'εθ'\n",
    "binary_data = data.encode('utf-8')\n",
    "binary_data.decode('utf-16')"
   ]
  },
  {
   "cell_type": "code",
   "execution_count": null,
   "id": "a9465efd-1ff0-4f37-80e1-8d2128c47db0",
   "metadata": {},
   "outputs": [],
   "source": [
    "bytes('AS😄', 'utf-8')"
   ]
  },
  {
   "cell_type": "code",
   "execution_count": null,
   "id": "82b824d9-d5c8-49e4-8131-8720b4c8f482",
   "metadata": {},
   "outputs": [],
   "source": [
    "len('µ')"
   ]
  },
  {
   "cell_type": "code",
   "execution_count": null,
   "id": "6ee6dadb-0904-496e-ab2b-4a2039de32da",
   "metadata": {},
   "outputs": [],
   "source": [
    "len('µ'.encode('latin-1'))"
   ]
  },
  {
   "cell_type": "code",
   "execution_count": null,
   "id": "9b083b19-5bf4-43ea-a52b-5a8ca47cb4c2",
   "metadata": {},
   "outputs": [],
   "source": [
    "len('µ'.encode('utf-8'))"
   ]
  },
  {
   "cell_type": "code",
   "execution_count": null,
   "id": "a1e60d63-f08a-4553-9541-31d72a8a40e2",
   "metadata": {},
   "outputs": [],
   "source": [
    "len('µ'.encode('utf-16'))"
   ]
  },
  {
   "cell_type": "code",
   "execution_count": null,
   "id": "54980a6e-02d3-462b-839d-1ffc0c57f326",
   "metadata": {},
   "outputs": [],
   "source": [
    "len('µ'.encode('utf-32'))"
   ]
  },
  {
   "cell_type": "code",
   "execution_count": null,
   "id": "1e5aea0f-c8e5-43fa-ab58-ff0814f26c21",
   "metadata": {},
   "outputs": [],
   "source": [
    "len('A'.encode('utf-8'))"
   ]
  },
  {
   "cell_type": "code",
   "execution_count": null,
   "id": "03542e8a-b494-42a8-aa8f-e961c58174de",
   "metadata": {},
   "outputs": [],
   "source": [
    "len('µ'.encode('utf-8'))"
   ]
  },
  {
   "cell_type": "code",
   "execution_count": null,
   "id": "f4512db7-0846-4d14-b90a-08c24e7aa399",
   "metadata": {},
   "outputs": [],
   "source": [
    "len('₹'.encode('utf-8'))"
   ]
  },
  {
   "cell_type": "code",
   "execution_count": null,
   "id": "3965bf6a-3dea-4916-b4f3-c429389dced6",
   "metadata": {},
   "outputs": [],
   "source": []
  },
  {
   "cell_type": "code",
   "execution_count": null,
   "id": "22ae6648-1b8f-45ae-8f13-cfaba5ac3543",
   "metadata": {},
   "outputs": [],
   "source": []
  },
  {
   "cell_type": "code",
   "execution_count": null,
   "id": "4bdbd389-c39f-4cac-98bd-e9fe81b93af4",
   "metadata": {},
   "outputs": [],
   "source": []
  },
  {
   "cell_type": "code",
   "execution_count": null,
   "id": "8251829e-79f1-435d-8d8e-d44d4c91bb29",
   "metadata": {},
   "outputs": [],
   "source": []
  },
  {
   "cell_type": "code",
   "execution_count": null,
   "id": "c8460cb1-437e-4baa-84c9-48d92d366d13",
   "metadata": {},
   "outputs": [],
   "source": []
  },
  {
   "cell_type": "code",
   "execution_count": null,
   "id": "6b6d8286-5cce-43c9-ad98-68ccec356952",
   "metadata": {},
   "outputs": [],
   "source": []
  },
  {
   "cell_type": "code",
   "execution_count": null,
   "id": "0c667683-0676-44d9-ba87-6c241d60292b",
   "metadata": {},
   "outputs": [],
   "source": []
  },
  {
   "cell_type": "code",
   "execution_count": null,
   "id": "50b02fd5-5ff7-47ce-b470-10b017261c1e",
   "metadata": {},
   "outputs": [],
   "source": []
  },
  {
   "cell_type": "code",
   "execution_count": null,
   "id": "96d98e03-cea6-495d-afe3-93570313fa3a",
   "metadata": {},
   "outputs": [],
   "source": []
  },
  {
   "cell_type": "code",
   "execution_count": null,
   "id": "457e28f2-4770-41b9-9f68-9664d57e7316",
   "metadata": {},
   "outputs": [],
   "source": []
  },
  {
   "cell_type": "code",
   "execution_count": null,
   "id": "249d9be9-b753-4bca-8431-16f24a098718",
   "metadata": {},
   "outputs": [],
   "source": []
  },
  {
   "cell_type": "code",
   "execution_count": null,
   "id": "14d31733-f9bd-4fa0-92a0-08c74b79defd",
   "metadata": {},
   "outputs": [],
   "source": []
  },
  {
   "cell_type": "code",
   "execution_count": null,
   "id": "67160c5c-6bd6-465c-87a9-ec80eca8eaff",
   "metadata": {},
   "outputs": [],
   "source": []
  },
  {
   "cell_type": "code",
   "execution_count": null,
   "id": "6cf91f90-b9a6-4362-84ea-0083743a5da0",
   "metadata": {},
   "outputs": [],
   "source": []
  },
  {
   "cell_type": "code",
   "execution_count": null,
   "id": "0305dbfc-9eff-4d37-bf70-7ef9f7c103a2",
   "metadata": {},
   "outputs": [],
   "source": []
  },
  {
   "cell_type": "code",
   "execution_count": null,
   "id": "a9a44f1d-bb4f-4892-8686-6f002eec888f",
   "metadata": {},
   "outputs": [],
   "source": []
  },
  {
   "cell_type": "code",
   "execution_count": null,
   "id": "94e04328-2639-4869-b836-931e28b303b9",
   "metadata": {},
   "outputs": [],
   "source": []
  },
  {
   "cell_type": "code",
   "execution_count": null,
   "id": "1b2aa956-7e2a-4b1a-b080-33d487f06df7",
   "metadata": {},
   "outputs": [],
   "source": []
  },
  {
   "cell_type": "code",
   "execution_count": null,
   "id": "d630767b-14e7-4f7e-b218-365cff3f472d",
   "metadata": {},
   "outputs": [],
   "source": []
  },
  {
   "cell_type": "code",
   "execution_count": null,
   "id": "bb156b87-cc58-4f31-be75-5bbef3574aff",
   "metadata": {},
   "outputs": [],
   "source": []
  },
  {
   "cell_type": "code",
   "execution_count": null,
   "id": "499a4b4d-2be9-47aa-84ed-a886cc1cb370",
   "metadata": {},
   "outputs": [],
   "source": []
  },
  {
   "cell_type": "code",
   "execution_count": null,
   "id": "76da884c-9f92-409b-9540-2257b542017c",
   "metadata": {},
   "outputs": [],
   "source": []
  },
  {
   "cell_type": "code",
   "execution_count": null,
   "id": "0b262894-f13f-4fc9-a30b-46937ea70f8b",
   "metadata": {},
   "outputs": [],
   "source": []
  },
  {
   "cell_type": "code",
   "execution_count": null,
   "id": "9d3becfc-40bc-45f1-b28b-99bd02c26730",
   "metadata": {},
   "outputs": [],
   "source": []
  },
  {
   "cell_type": "code",
   "execution_count": null,
   "id": "bbf0e7b0-315c-47b4-b635-2436435282c0",
   "metadata": {},
   "outputs": [],
   "source": []
  },
  {
   "cell_type": "code",
   "execution_count": null,
   "id": "366e93e2-821b-423b-9255-5aaeae513f3d",
   "metadata": {},
   "outputs": [],
   "source": []
  },
  {
   "cell_type": "code",
   "execution_count": null,
   "id": "bf9af883-5804-4ec8-bed5-abc37f507fd9",
   "metadata": {},
   "outputs": [],
   "source": []
  },
  {
   "cell_type": "code",
   "execution_count": null,
   "id": "82bc4d37-c8bb-478a-b234-a959bfb92fe9",
   "metadata": {},
   "outputs": [],
   "source": []
  },
  {
   "cell_type": "code",
   "execution_count": null,
   "id": "5ab745fa-7e44-49cb-be0a-3ea5d2c809cb",
   "metadata": {},
   "outputs": [],
   "source": []
  },
  {
   "cell_type": "code",
   "execution_count": null,
   "id": "ef4fddfd-7e97-4548-b7cf-52ba22c91978",
   "metadata": {},
   "outputs": [],
   "source": []
  },
  {
   "cell_type": "code",
   "execution_count": null,
   "id": "9e662613-0de2-4442-a799-b7f7014c905d",
   "metadata": {},
   "outputs": [],
   "source": []
  },
  {
   "cell_type": "code",
   "execution_count": null,
   "id": "6275958d-183b-4317-a4fa-1bf326c18956",
   "metadata": {},
   "outputs": [],
   "source": []
  }
 ],
 "metadata": {
  "kernelspec": {
   "display_name": "Python 3 (ipykernel)",
   "language": "python",
   "name": "python3"
  },
  "language_info": {
   "codemirror_mode": {
    "name": "ipython",
    "version": 3
   },
   "file_extension": ".py",
   "mimetype": "text/x-python",
   "name": "python",
   "nbconvert_exporter": "python",
   "pygments_lexer": "ipython3",
   "version": "3.12.7"
  }
 },
 "nbformat": 4,
 "nbformat_minor": 5
}
