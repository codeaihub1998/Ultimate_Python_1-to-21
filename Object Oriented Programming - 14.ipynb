{
 "cells": [
  {
   "cell_type": "code",
   "execution_count": 1,
   "id": "f6cf5c08-127a-47db-b1d4-bd2b9a1ddbe8",
   "metadata": {},
   "outputs": [],
   "source": [
    "class Person:\n",
    " pass"
   ]
  },
  {
   "cell_type": "code",
   "execution_count": 2,
   "id": "c4247554-9496-4b60-b1e6-838b2743cbc5",
   "metadata": {},
   "outputs": [
    {
     "data": {
      "text/plain": [
       "2744970322368"
      ]
     },
     "execution_count": 2,
     "metadata": {},
     "output_type": "execute_result"
    }
   ],
   "source": [
    "id(Person)"
   ]
  },
  {
   "cell_type": "code",
   "execution_count": 3,
   "id": "9b4e4638-7783-4fbf-b22b-aaa34dc736f6",
   "metadata": {},
   "outputs": [
    {
     "data": {
      "text/plain": [
       "type"
      ]
     },
     "execution_count": 3,
     "metadata": {},
     "output_type": "execute_result"
    }
   ],
   "source": [
    "type(Person)"
   ]
  },
  {
   "cell_type": "code",
   "execution_count": 4,
   "id": "eb983f6c-45a9-4635-8960-f95d703ffccf",
   "metadata": {},
   "outputs": [],
   "source": [
    "p1 = Person()"
   ]
  },
  {
   "cell_type": "code",
   "execution_count": 5,
   "id": "c6c49494-d5d9-4df1-9b73-e8ff6037e82c",
   "metadata": {},
   "outputs": [],
   "source": [
    "p2 = Person()"
   ]
  },
  {
   "cell_type": "code",
   "execution_count": 6,
   "id": "a7984c64-4644-4b2c-8cb3-4cbf91674adf",
   "metadata": {},
   "outputs": [
    {
     "data": {
      "text/plain": [
       "__main__.Person"
      ]
     },
     "execution_count": 6,
     "metadata": {},
     "output_type": "execute_result"
    }
   ],
   "source": [
    "type(p1)"
   ]
  },
  {
   "cell_type": "code",
   "execution_count": 7,
   "id": "108eaeeb-2757-4f23-aedd-a650d6a3c70c",
   "metadata": {},
   "outputs": [
    {
     "data": {
      "text/plain": [
       "__main__.Person"
      ]
     },
     "execution_count": 7,
     "metadata": {},
     "output_type": "execute_result"
    }
   ],
   "source": [
    "type(p2)"
   ]
  },
  {
   "cell_type": "code",
   "execution_count": 8,
   "id": "ad600a16-e229-4062-9281-bec4f999e8fa",
   "metadata": {},
   "outputs": [
    {
     "data": {
      "text/plain": [
       "2745009385792"
      ]
     },
     "execution_count": 8,
     "metadata": {},
     "output_type": "execute_result"
    }
   ],
   "source": [
    "id(p1)"
   ]
  },
  {
   "cell_type": "code",
   "execution_count": 9,
   "id": "dbfc7226-dc1b-4287-8933-52c9128cb8f8",
   "metadata": {},
   "outputs": [
    {
     "data": {
      "text/plain": [
       "2745009379360"
      ]
     },
     "execution_count": 9,
     "metadata": {},
     "output_type": "execute_result"
    }
   ],
   "source": [
    "id(p2)"
   ]
  },
  {
   "cell_type": "code",
   "execution_count": 10,
   "id": "0a661cb4-09db-4940-88b8-2cafb8f01d05",
   "metadata": {},
   "outputs": [
    {
     "data": {
      "text/plain": [
       "<__main__.Person at 0x27f1f4f3140>"
      ]
     },
     "execution_count": 10,
     "metadata": {},
     "output_type": "execute_result"
    }
   ],
   "source": [
    "p1"
   ]
  },
  {
   "cell_type": "code",
   "execution_count": 11,
   "id": "4a9ca485-5139-4f3e-8a60-b9d7f46557d9",
   "metadata": {},
   "outputs": [
    {
     "data": {
      "text/plain": [
       "<__main__.Person at 0x27f1f4f1820>"
      ]
     },
     "execution_count": 11,
     "metadata": {},
     "output_type": "execute_result"
    }
   ],
   "source": [
    "p2"
   ]
  },
  {
   "cell_type": "code",
   "execution_count": 13,
   "id": "8a5d50da-5b11-4648-bd7e-36fb85ff50c5",
   "metadata": {},
   "outputs": [],
   "source": [
    "class Person:\n",
    "    def display(self):\n",
    "        print('I am a person')\n",
    "    def greet(self):\n",
    "        print('Hello, how are you doing?')"
   ]
  },
  {
   "cell_type": "code",
   "execution_count": 14,
   "id": "d779b281-65e1-45b3-a406-4fb817fe3856",
   "metadata": {},
   "outputs": [
    {
     "name": "stdout",
     "output_type": "stream",
     "text": [
      "I am a person\n",
      "Hello, how are you doing?\n",
      "I am a person\n",
      "Hello, how are you doing?\n"
     ]
    }
   ],
   "source": [
    "p1 = Person()\n",
    "p2 = Person()\n",
    "p1.display()\n",
    "p1.greet()\n",
    "p2.display()\n",
    "p2.greet()"
   ]
  },
  {
   "cell_type": "code",
   "execution_count": 15,
   "id": "d6408333-ea25-42f9-b207-676e2c3e83bf",
   "metadata": {},
   "outputs": [
    {
     "name": "stdout",
     "output_type": "stream",
     "text": [
      "I am a person <__main__.Person object at 0x0000027F1F4F2A80>\n",
      "Hi, how are you doing ?  <__main__.Person object at 0x0000027F1F4F2A80>\n",
      "I am a person <__main__.Person object at 0x0000027F1F515490>\n",
      "Hi, how are you doing ?  <__main__.Person object at 0x0000027F1F515490>\n"
     ]
    }
   ],
   "source": [
    "class Person:\n",
    "    def display(self):\n",
    "     print('I am a person', self)\n",
    "    def greet(self):\n",
    "     print('Hi, how are you doing ? ', self)\n",
    "p1 = Person()\n",
    "p2 = Person()\n",
    "p1.display()\n",
    "p1.greet()\n",
    "p2.display()\n",
    "p2.greet()"
   ]
  },
  {
   "cell_type": "markdown",
   "id": "131fe3ba-d0f6-4da2-8da9-41aa2f400824",
   "metadata": {},
   "source": [
    "Adding instance variables"
   ]
  },
  {
   "cell_type": "code",
   "execution_count": 16,
   "id": "c72ba012-9de6-431b-a928-d562573a55b8",
   "metadata": {},
   "outputs": [],
   "source": [
    "p1.name = 'Tom'"
   ]
  },
  {
   "cell_type": "code",
   "execution_count": 17,
   "id": "2318b6b5-111a-42e8-a252-7e5356f05bc7",
   "metadata": {},
   "outputs": [
    {
     "data": {
      "text/plain": [
       "'Tom'"
      ]
     },
     "execution_count": 17,
     "metadata": {},
     "output_type": "execute_result"
    }
   ],
   "source": [
    "p1.name"
   ]
  },
  {
   "cell_type": "code",
   "execution_count": 18,
   "id": "6d03b2bd-ac56-4f96-bfe8-88d9dc29b38a",
   "metadata": {},
   "outputs": [
    {
     "ename": "AttributeError",
     "evalue": "'Person' object has no attribute 'name'",
     "output_type": "error",
     "traceback": [
      "\u001b[1;31m---------------------------------------------------------------------------\u001b[0m",
      "\u001b[1;31mAttributeError\u001b[0m                            Traceback (most recent call last)",
      "Cell \u001b[1;32mIn[18], line 1\u001b[0m\n\u001b[1;32m----> 1\u001b[0m p2\u001b[38;5;241m.\u001b[39mname\n",
      "\u001b[1;31mAttributeError\u001b[0m: 'Person' object has no attribute 'name'"
     ]
    }
   ],
   "source": [
    "p2.name"
   ]
  },
  {
   "cell_type": "code",
   "execution_count": 21,
   "id": "976fea31-2f0f-4f39-bf0d-407372922ff9",
   "metadata": {},
   "outputs": [],
   "source": [
    "class Person:\n",
    "    def set_details(self):\n",
    "     self.name = 'John'\n",
    "     self.age = 20\n",
    "    def display(self):\n",
    "     print('I am a person', self)\n",
    "    def greet(self):\n",
    "     print('Hi, how are you doing ? ', self)\n",
    "p1 = Person()\n",
    "p1.set_details()\n",
    "p2 = Person()\n",
    "p2.set_details()"
   ]
  },
  {
   "cell_type": "code",
   "execution_count": 22,
   "id": "4e359664-f9fd-4e2d-9ab4-6306a44b36ed",
   "metadata": {},
   "outputs": [
    {
     "data": {
      "text/plain": [
       "'John'"
      ]
     },
     "execution_count": 22,
     "metadata": {},
     "output_type": "execute_result"
    }
   ],
   "source": [
    "p1.name"
   ]
  },
  {
   "cell_type": "code",
   "execution_count": 23,
   "id": "e7d93e52-8bf8-425b-86ee-d5b8f0908f12",
   "metadata": {},
   "outputs": [
    {
     "data": {
      "text/plain": [
       "20"
      ]
     },
     "execution_count": 23,
     "metadata": {},
     "output_type": "execute_result"
    }
   ],
   "source": [
    "p1.age"
   ]
  },
  {
   "cell_type": "code",
   "execution_count": 24,
   "id": "4543d828-5dcb-4d1f-9bd2-90f68b0b41f9",
   "metadata": {},
   "outputs": [
    {
     "data": {
      "text/plain": [
       "'John'"
      ]
     },
     "execution_count": 24,
     "metadata": {},
     "output_type": "execute_result"
    }
   ],
   "source": [
    "p2.name"
   ]
  },
  {
   "cell_type": "code",
   "execution_count": 25,
   "id": "20a4399b-ae8e-4dc5-b6d3-95fc44f55987",
   "metadata": {},
   "outputs": [
    {
     "data": {
      "text/plain": [
       "20"
      ]
     },
     "execution_count": 25,
     "metadata": {},
     "output_type": "execute_result"
    }
   ],
   "source": [
    "p2.age"
   ]
  },
  {
   "cell_type": "code",
   "execution_count": 26,
   "id": "9a6f6dc1-7bde-4a6e-8faf-1b5b37c4d8c2",
   "metadata": {},
   "outputs": [
    {
     "data": {
      "text/plain": [
       "'Jack'"
      ]
     },
     "execution_count": 26,
     "metadata": {},
     "output_type": "execute_result"
    }
   ],
   "source": [
    "p2.name = 'Jack'\n",
    "p2.age = 30\n",
    "p2.name"
   ]
  },
  {
   "cell_type": "code",
   "execution_count": 27,
   "id": "6cceb321-0e97-440e-9e82-15c7cf65acb1",
   "metadata": {},
   "outputs": [
    {
     "data": {
      "text/plain": [
       "30"
      ]
     },
     "execution_count": 27,
     "metadata": {},
     "output_type": "execute_result"
    }
   ],
   "source": [
    "p2.age"
   ]
  },
  {
   "cell_type": "code",
   "execution_count": 28,
   "id": "7b7d4d9a-8437-4182-b9d3-f52228ca08a7",
   "metadata": {},
   "outputs": [
    {
     "data": {
      "text/plain": [
       "'John'"
      ]
     },
     "execution_count": 28,
     "metadata": {},
     "output_type": "execute_result"
    }
   ],
   "source": [
    "p1.name"
   ]
  },
  {
   "cell_type": "code",
   "execution_count": 29,
   "id": "1724ceaf-2141-48c2-a439-aeec22ccc4a5",
   "metadata": {},
   "outputs": [
    {
     "data": {
      "text/plain": [
       "20"
      ]
     },
     "execution_count": 29,
     "metadata": {},
     "output_type": "execute_result"
    }
   ],
   "source": [
    "p1.age"
   ]
  },
  {
   "cell_type": "code",
   "execution_count": 30,
   "id": "0424f3ea-9d58-43f0-8bdd-c940fb6ab628",
   "metadata": {},
   "outputs": [],
   "source": [
    "def set_details(self, name, age):\n",
    "    self.name = name\n",
    "    self.age = age"
   ]
  },
  {
   "cell_type": "code",
   "execution_count": null,
   "id": "28eeb901-772f-45b5-b679-7de7236a1a4b",
   "metadata": {},
   "outputs": [],
   "source": [
    "p1 = Person()\n",
    "p1.set_details('Bob', 20)\n",
    "p2 = Person()\n",
    "p2.set_details('Ted', 90)"
   ]
  },
  {
   "cell_type": "code",
   "execution_count": null,
   "id": "c0754ed2-9e6f-4f95-a061-e874fa464c22",
   "metadata": {},
   "outputs": [],
   "source": [
    "p1.name"
   ]
  },
  {
   "cell_type": "code",
   "execution_count": null,
   "id": "6aee0739-105e-43ea-b872-c2128eebb1ba",
   "metadata": {},
   "outputs": [],
   "source": [
    "p2.name"
   ]
  },
  {
   "cell_type": "code",
   "execution_count": null,
   "id": "5a0b873b-df30-4010-8bba-2be66a407228",
   "metadata": {},
   "outputs": [],
   "source": [
    "p1.age"
   ]
  },
  {
   "cell_type": "code",
   "execution_count": null,
   "id": "8ab7137a-81b5-42fa-88f2-ac8ba8dfce81",
   "metadata": {},
   "outputs": [],
   "source": [
    "p2.age"
   ]
  },
  {
   "cell_type": "code",
   "execution_count": null,
   "id": "bfb0c32b-1eef-419a-946e-818e1a0d3205",
   "metadata": {},
   "outputs": [],
   "source": [
    "class Person:\n",
    " def set_details(self, name, age):\n",
    " self.name = name\n",
    " self.age = age\n",
    " def display(self):\n",
    " print('I am', self.name)\n",
    " def greet(self):\n",
    " if self.age < 80:\n",
    " print('Hi, how are you doing?')\n",
    " else:\n",
    " print('Hello, how do you do?')\n",
    "p1 = Person()\n",
    "p1.set_details('Bob', 20)\n",
    "p1.display()\n",
    "p1.greet()\n",
    "p2 = Person()\n",
    "p2.set_details('Ted', 90)\n",
    "p2.display()\n",
    "p2.greet()"
   ]
  },
  {
   "cell_type": "markdown",
   "id": "5e57ebcd-c4cb-4dd7-9128-7381fa5716aa",
   "metadata": {},
   "source": [
    "Calling a method inside another method"
   ]
  },
  {
   "cell_type": "code",
   "execution_count": null,
   "id": "c678a6af-e320-4edf-bed1-e4f18c3acdde",
   "metadata": {},
   "outputs": [],
   "source": [
    "def greet(self):\n",
    " if self.age < 80:\n",
    " print('Hi, how are you doing?')\n",
    " else:\n",
    " print('Hello, how do you do?')\n",
    " self.display()"
   ]
  },
  {
   "cell_type": "code",
   "execution_count": null,
   "id": "68908c1b-e7b9-4ced-8735-40ae1cfad5a8",
   "metadata": {},
   "outputs": [],
   "source": [
    "p1 = Person()\n",
    "p1.set_details('Bob', 20)\n",
    "p1.greet()\n",
    "p2 = Person()\n",
    "p2.set_details('Ted', 90)\n",
    "p2.greet()"
   ]
  },
  {
   "cell_type": "markdown",
   "id": "e35f9919-8ccb-41cb-bc3e-7ee570e78aa2",
   "metadata": {},
   "source": [
    "Common Pitfalls"
   ]
  },
  {
   "cell_type": "code",
   "execution_count": null,
   "id": "f5429e86-cb44-4111-9751-1751792e9f0b",
   "metadata": {},
   "outputs": [],
   "source": [
    "class Person:\n",
    " def set_details(name, age):\n",
    " self.name = name\n",
    " self.age = age\n",
    " def display(self):\n",
    " print('I am', self.name)\n",
    " def greet(self):\n",
    " if self.age < 80:\n",
    " print('Hi, how are you doing?')\n",
    "else:\n",
    " print('Hello, how do you do?')\n",
    " self.display()\n",
    "p1 = Person()\n",
    "p1.set_details('Bob', 20)\n",
    "p1.greet()"
   ]
  },
  {
   "cell_type": "code",
   "execution_count": null,
   "id": "d6f53621-65ef-462d-9075-cb9568c37fa8",
   "metadata": {},
   "outputs": [],
   "source": [
    "def greet(self):\n",
    " if self.age < 80:\n",
    " print('Hi, how are you doing?')\n",
    " else:\n",
    " print('Hello, how do you do?')\n",
    " display()"
   ]
  },
  {
   "cell_type": "code",
   "execution_count": null,
   "id": "61b0a086-4e1c-4bb5-9568-b33f247fe49c",
   "metadata": {},
   "outputs": [],
   "source": [
    "def greet(self):\n",
    " if age < 80:\n",
    " print('Hi, how are you doing?')\n",
    " else:\n",
    " print('Hello, how do you do?')\n",
    " self.display()"
   ]
  },
  {
   "cell_type": "code",
   "execution_count": null,
   "id": "676a401b-923d-479a-a95b-294de6ae2816",
   "metadata": {},
   "outputs": [],
   "source": [
    "def get_old(self):\n",
    " age = 75"
   ]
  },
  {
   "cell_type": "code",
   "execution_count": null,
   "id": "c215af18-4442-4544-ac9a-0737ee130608",
   "metadata": {},
   "outputs": [],
   "source": [
    "p1.get_old()"
   ]
  },
  {
   "cell_type": "code",
   "execution_count": null,
   "id": "740e9e51-7ea6-4e32-bf53-e8bf449f1b69",
   "metadata": {},
   "outputs": [],
   "source": [
    "p1.age"
   ]
  },
  {
   "cell_type": "code",
   "execution_count": null,
   "id": "af648202-b606-46a9-b58a-40d40da45e04",
   "metadata": {},
   "outputs": [],
   "source": [
    "def get_old(self):\n",
    " self.age = 75"
   ]
  },
  {
   "cell_type": "code",
   "execution_count": null,
   "id": "f526affa-eea2-41b3-8ba9-bc1f9d9e6e60",
   "metadata": {},
   "outputs": [],
   "source": [
    "p1.get_old()\n",
    "p1.age"
   ]
  },
  {
   "cell_type": "markdown",
   "id": "c66a459e-348d-4bda-9eef-564dd5a7e30b",
   "metadata": {},
   "source": [
    "Initializer"
   ]
  },
  {
   "cell_type": "code",
   "execution_count": null,
   "id": "420cb2e6-0640-4f74-b324-d727d9973d49",
   "metadata": {},
   "outputs": [],
   "source": [
    "class Person:\n",
    " def set_details(self, name, age):\n",
    " self.name = name\n",
    " self.age = age\n",
    " def display(self):\n",
    " print('I am', self.name)\n",
    " def greet(self):\n",
    " if self.age < 80:\n",
    " print('Hi, how are you doing?')\n",
    " else:\n",
    " print('Hello, how do you do?')\n",
    "p1 = Person()\n",
    "p1.set_details('Bob', 20)\n",
    "p1.display()\n",
    "p1.greet()\n",
    "p2 = Person()\n",
    "p2.set_details('Ted', 90)\n",
    "p2.display()\n",
    "p2.greet()"
   ]
  },
  {
   "cell_type": "code",
   "execution_count": null,
   "id": "e60c5d52-226d-4363-831d-f7f413a594eb",
   "metadata": {},
   "outputs": [],
   "source": [
    "p1 = Person()\n",
    "p1.set_details('Bob', 20)\n",
    "p1.display()\n",
    "p1.greet()\n",
    "p2 = Person()\n",
    "p2.display()\n",
    "p2.greet()"
   ]
  },
  {
   "cell_type": "code",
   "execution_count": null,
   "id": "f471d58e-b5c5-40df-8a99-7c16be069c57",
   "metadata": {},
   "outputs": [],
   "source": [
    "def __init__(self, name, age):\n",
    " self.name = name\n",
    " self.age = age"
   ]
  },
  {
   "cell_type": "code",
   "execution_count": null,
   "id": "9d86eccf-cc5d-43d6-863a-e06ddcc6dcab",
   "metadata": {},
   "outputs": [],
   "source": [
    "p1 = Person('Bob', 20)\n",
    "p1.display()\n",
    "p1.greet()\n",
    "p2 = Person('Ted', 90)\n",
    "p2.display()\n",
    "p2.greet()"
   ]
  },
  {
   "cell_type": "markdown",
   "id": "e5d3a787-3995-48c3-87dc-293082e3d135",
   "metadata": {},
   "source": [
    "Data Hiding"
   ]
  },
  {
   "cell_type": "code",
   "execution_count": null,
   "id": "94166cc6-108b-4a7e-bca6-5b4cc9035a57",
   "metadata": {},
   "outputs": [],
   "source": [
    "class Product:\n",
    " def __init__(self):\n",
    " self.data1 = 10\n",
    " self._data2 = 20\n",
    " def method1(self):\n",
    " print('Executing method1')\n",
    "def _method2(self):\n",
    " print('Executing method2')\n",
    "p = Product()\n",
    "print(p.data1, p._data2)\n",
    "p.method1()\n",
    "p._method2()"
   ]
  },
  {
   "cell_type": "code",
   "execution_count": null,
   "id": "fd5b6858-fc7c-4ea2-9fa3-82583da9f0d2",
   "metadata": {},
   "outputs": [],
   "source": [
    "class Product:\n",
    " def __init__(self):\n",
    " self.data1 = 10\n",
    " self.__data2 = 20\n",
    " def method1(self):\n",
    " print('Executing method1')\n",
    " def __method2(self):\n",
    " print('Executing method2')\n",
    "p = Product()\n",
    "print(p.data1, p.__data2)\n",
    "p.method1()\n",
    "p.__method2()"
   ]
  },
  {
   "cell_type": "code",
   "execution_count": null,
   "id": "06240b9d-6f7e-4055-b440-c73532aa6b8d",
   "metadata": {},
   "outputs": [],
   "source": [
    "dir(p)"
   ]
  },
  {
   "cell_type": "code",
   "execution_count": null,
   "id": "746ddee7-1f6f-4fb8-b63d-ae9953a356c8",
   "metadata": {},
   "outputs": [],
   "source": [
    "p = Product()\n",
    "print(p.data1, p._Product__data2)\n",
    "p.method1()\n",
    "p._Product__method2()"
   ]
  },
  {
   "cell_type": "code",
   "execution_count": null,
   "id": "6ea0c47d-e51f-4f84-a6be-2a69ee2102a6",
   "metadata": {},
   "outputs": [],
   "source": [
    "# student.py - example file name\n",
    "class Student:\n",
    " def __init__(self, name, phone, marks):\n",
    " self.name = name\n",
    " self.phone = phone\n",
    "self._marks = marks\n",
    " def _calculate_total(self):\n",
    " return sum(self._marks)\n",
    " def _calculate_percentage(self):\n",
    " return self._calculate_total() / 4\n",
    " def display(self):\n",
    " print(self.name, self.phone)\n",
    " def show_result(self):\n",
    " self.display()\n",
    " percentage = self._calculate_percentage()\n",
    " print(f'Percentage : {percentage : .1f}')\n",
    " print('Pass' if percentage > 40 else 'Fail')"
   ]
  },
  {
   "cell_type": "code",
   "execution_count": null,
   "id": "f86cf40e-a3b3-48d6-9e7a-0021a89161d1",
   "metadata": {},
   "outputs": [],
   "source": [
    "# client1.py - example file\n",
    "from student import Student\n",
    "s = Student('Dev', 986754361, [50, 85, 70, 90])\n",
    "s.show_result()\n",
    "# client2.py - example file\n",
    "\n",
    "from student import Student\n",
    "\n",
    "s = Student('Raj', 987654535, [73, 89, 78, 88])\n",
    "s.display()\n",
    "if s._calculate_total() > 160:\n",
    " print('Pass')\n",
    "else:\n",
    " print('Fail')"
   ]
  },
  {
   "cell_type": "code",
   "execution_count": null,
   "id": "ed6aeebc-9dbf-4e4c-9db6-316c76ba8afd",
   "metadata": {},
   "outputs": [],
   "source": [
    "# student.py - example file name\n",
    "class Student:\n",
    " def __init__(self, name, phone, marks):\n",
    " self.name = name\n",
    " self.phone = phone\n",
    " self._marks = marks\n",
    " def _calculate_total(self):\n",
    " total_best3 = sum(sorted(self._marks)[1:])\n",
    " return total_best3\n",
    " def _calculate_percentage(self):\n",
    " return self._calculate_total() / 3\n",
    " def display(self):\n",
    " print(self.name, self.phone)\n",
    " def show_result(self):\n",
    " self.display()\n",
    " percentage = self._calculate_percentage()\n",
    "print(f'Percentage : {percentage : .1f}')\n",
    "print('Pass' if percentage > 40 else 'Fail')"
   ]
  },
  {
   "cell_type": "code",
   "execution_count": null,
   "id": "8a604bfb-8bd5-4cff-8434-f90c56579678",
   "metadata": {},
   "outputs": [],
   "source": [
    "# student.py - example file\n",
    "class Student:\n",
    " def __init__(self, name, phone, marks):\n",
    " self.name = name\n",
    " self.phone = phone\n",
    " self._marks = marks\n",
    " def _calculate_cgpa(self):\n",
    " credit_hours = [3, 3, 4, 2]\n",
    " total_grade_points = 0\n",
    " for i, score in enumerate(self._marks):\n",
    " if score > 90:\n",
    " grade_points = 10\n",
    " elif score > 70:\n",
    " grade_points = 8\n",
    " elif score > 50:\n",
    " grade_points = 6\n",
    " elif score > 30:\n",
    " grade_points = 4\n",
    "else:\n",
    " grade_points = 0\n",
    " total_grade_points += grade_points *\n",
    "credit_hours[i]\n",
    " cgpa = total_grade_points /\n",
    "sum(credit_hours)\n",
    " return cgpa\n",
    " def display(self):\n",
    " print(self.name, self.phone)\n",
    " def show_result(self):\n",
    " self.display()\n",
    " cgpa = self._calculate_cgpa()\n",
    " print(f'cgpa : {cgpa : .1f}')\n",
    " print('Pass' if cgpa > 4 else 'Fail')"
   ]
  },
  {
   "cell_type": "markdown",
   "id": "d255c808-336f-4f15-b9ea-54b58f3ff513",
   "metadata": {},
   "source": [
    "Class Variables "
   ]
  },
  {
   "cell_type": "code",
   "execution_count": null,
   "id": "f994f9a4-fa3b-4177-a38b-e94c1dba8e4c",
   "metadata": {},
   "outputs": [],
   "source": [
    "class Person:\n",
    " species = 'Homo sapien'\n",
    " def __init__(self, name, age):\n",
    " self.name = name\n",
    " self.age = age\n",
    " def display(self):\n",
    " print(f'{self.name} is {self.age} years\n",
    "old')\n",
    "p1 = Person('John', 20)\n",
    "p2 = Person('Jack', 34)\n",
    "p1.display()\n",
    "p2.display()"
   ]
  },
  {
   "cell_type": "code",
   "execution_count": null,
   "id": "5158cc08-c733-4557-a0b5-36d2bbdc517e",
   "metadata": {},
   "outputs": [],
   "source": [
    "Person.species"
   ]
  },
  {
   "cell_type": "code",
   "execution_count": null,
   "id": "9acf86f6-c253-47e3-a343-e711897d4608",
   "metadata": {},
   "outputs": [],
   "source": [
    "p1.species"
   ]
  },
  {
   "cell_type": "code",
   "execution_count": null,
   "id": "e6652eda-4603-456e-9a82-ca3fc7f2c44c",
   "metadata": {},
   "outputs": [],
   "source": [
    "p2.species"
   ]
  },
  {
   "cell_type": "code",
   "execution_count": null,
   "id": "f53be749-4e3f-46f4-bf04-97293772d617",
   "metadata": {},
   "outputs": [],
   "source": [
    "id(Person.species)"
   ]
  },
  {
   "cell_type": "code",
   "execution_count": null,
   "id": "46f7c11a-b686-4d5d-893d-605962daaa23",
   "metadata": {},
   "outputs": [],
   "source": [
    "id(p1.species)"
   ]
  },
  {
   "cell_type": "code",
   "execution_count": null,
   "id": "e2f2696b-6869-430b-b88a-f87e8fded0c6",
   "metadata": {},
   "outputs": [],
   "source": [
    "id(p2.species)"
   ]
  },
  {
   "cell_type": "code",
   "execution_count": null,
   "id": "97e2114f-1cef-4a92-82a1-54e8cbc891e7",
   "metadata": {},
   "outputs": [],
   "source": [
    "Person.name"
   ]
  },
  {
   "cell_type": "code",
   "execution_count": null,
   "id": "b516e9ff-4517-48a2-9141-baf53efc9d07",
   "metadata": {},
   "outputs": [],
   "source": [
    "def display(self):\n",
    " print(f'{self.name} is {self.age} years old {Person.species}')"
   ]
  },
  {
   "cell_type": "code",
   "execution_count": null,
   "id": "b261cc3c-708d-4a06-8599-1e4f05fa57cf",
   "metadata": {},
   "outputs": [],
   "source": [
    "class BankAccount:\n",
    " rate = 5\n",
    " min_balance = 1000\n",
    " min_balance_fees = 10\n",
    " def __init__(self, account_number, owner_name,\n",
    "balance):\n",
    " self.account_number = account_number\n",
    " self.owner_name = owner_name\n",
    " self.balance = balance\n",
    " def withdraw(self, amount):\n",
    " self.balance -= amount\n",
    " def deposit(self, amount):\n",
    " self.balance += amount\n",
    "account1 = BankAccount('7348', 'Tom', 50)\n",
    "account2 = BankAccount('6378', 'Bob', 400)"
   ]
  },
  {
   "cell_type": "code",
   "execution_count": null,
   "id": "df91cda3-c978-4f45-bcfe-a162b60bfacb",
   "metadata": {},
   "outputs": [],
   "source": [
    "class Stack:\n",
    " MAX_LIMIT = 10\n",
    " def __init__(self):\n",
    " self.items = []\n",
    " def push(self, item):\n",
    " if len(self.items) >= Stack.MAX_LIMIT:\n",
    " raise Exception('Stack is full')\n",
    " self.items.append(item)\n",
    " def pop(self):\n",
    " if self.items == []:\n",
    " raise RuntimeError('Stack is empty')\n",
    " return self.items.pop()\n",
    " def display(self):\n",
    " print(self.items)"
   ]
  },
  {
   "cell_type": "code",
   "execution_count": null,
   "id": "1f0bc9cb-6d75-417e-af82-5cb2909d3fc7",
   "metadata": {},
   "outputs": [],
   "source": [
    "class Person:\n",
    " species = 'Homo sapien'\n",
    " count = 0\n",
    " def __init__(self, name, age):\n",
    " self.name = name\n",
    " self.age = age\n",
    " Person.count += 1\n",
    "def display(self):\n",
    " print(f'{self.name} is {self.age} years old {Person.species}')\n",
    "\n",
    "p1 = Person('Devanshi', 18)\n",
    "p2 = Person('Devank', 10)\n",
    "Person.count"
   ]
  },
  {
   "cell_type": "code",
   "execution_count": null,
   "id": "621d2fd7-b6ad-4a6d-9651-bd1951cc1fa5",
   "metadata": {},
   "outputs": [],
   "source": [
    "class BankAccount:\n",
    " account_holders = []\n",
    " def __init__(self, account_number, owner_name,\n",
    "balance):\n",
    " self.account_number = account_number\n",
    " self.owner_name = owner_name\n",
    " self.balance = balance\n",
    " \n",
    "BankAccount.account_holders.append(self.owner_name)\n",
    "account1 = BankAccount('7348', 'Tom', 50)\n",
    "account2 = BankAccount('6378', 'Bob', 400)\n",
    "account3 = BankAccount('8348', 'Ron', 500)\n",
    "print(BankAccount.account_holders)"
   ]
  },
  {
   "cell_type": "markdown",
   "id": "62c1ccae-1a79-410a-a482-fff6ff495c39",
   "metadata": {},
   "source": [
    "Class objects namespaces"
   ]
  },
  {
   "cell_type": "code",
   "execution_count": null,
   "id": "1da73a03-b2dc-429f-a2f7-e598497fd0f4",
   "metadata": {},
   "outputs": [],
   "source": [
    "account1.__dict__"
   ]
  },
  {
   "cell_type": "code",
   "execution_count": null,
   "id": "3b89106e-dc5a-4de9-b896-7484feb891a6",
   "metadata": {},
   "outputs": [],
   "source": [
    "account2.__dict__"
   ]
  },
  {
   "cell_type": "code",
   "execution_count": null,
   "id": "0d2fc9f7-a1b5-4df9-b99f-47d4b64ac510",
   "metadata": {},
   "outputs": [],
   "source": [
    "BankAccount.__dict__"
   ]
  },
  {
   "cell_type": "code",
   "execution_count": null,
   "id": "cb925e8d-f10f-49df-8ded-8fcd9031e78f",
   "metadata": {},
   "outputs": [],
   "source": [
    "class Account():\n",
    " rate = 5\n",
    " def __init__(self):\n",
    " self.rate = 10\n",
    " def display(self):\n",
    " print(Account.rate, self.rate)\n",
    "a = Account()\n",
    "a.display()"
   ]
  },
  {
   "cell_type": "markdown",
   "id": "24ab1cc7-6b2c-40fe-ac03-619eeadc47ca",
   "metadata": {},
   "source": [
    "Changing a class variable through an instance "
   ]
  },
  {
   "cell_type": "code",
   "execution_count": null,
   "id": "7bff9799-21ad-4545-8859-0cfc077b3673",
   "metadata": {},
   "outputs": [],
   "source": [
    "class Account():\n",
    " rate = 5\n",
    "a1 = Account()\n",
    "a2 = Account()"
   ]
  },
  {
   "cell_type": "code",
   "execution_count": null,
   "id": "04c68171-d6fb-4c2f-8f56-3a81d53cca31",
   "metadata": {},
   "outputs": [],
   "source": [
    "Account.rate"
   ]
  },
  {
   "cell_type": "code",
   "execution_count": null,
   "id": "a50bee57-8bc8-46d7-a1f3-6ce2afe94b31",
   "metadata": {},
   "outputs": [],
   "source": [
    "a1.rate"
   ]
  },
  {
   "cell_type": "code",
   "execution_count": null,
   "id": "24f2cb82-f439-4a33-b6ad-7b26b5eb394a",
   "metadata": {},
   "outputs": [],
   "source": [
    "a2.rate"
   ]
  },
  {
   "cell_type": "code",
   "execution_count": null,
   "id": "4ee37e96-9551-4898-abc7-83a028183f6d",
   "metadata": {},
   "outputs": [],
   "source": [
    "Account.rate = 6\n",
    "Account.rate"
   ]
  },
  {
   "cell_type": "code",
   "execution_count": null,
   "id": "badadefe-d50c-45cf-9dc1-99c5b38dc212",
   "metadata": {},
   "outputs": [],
   "source": [
    "a1.rate"
   ]
  },
  {
   "cell_type": "code",
   "execution_count": null,
   "id": "7e8cd1cb-e1f4-4b37-9761-9b8b89b9de8f",
   "metadata": {},
   "outputs": [],
   "source": [
    "a2.rate"
   ]
  },
  {
   "cell_type": "code",
   "execution_count": null,
   "id": "47651413-2b0f-4fa1-9a24-f135ea486689",
   "metadata": {},
   "outputs": [],
   "source": [
    "a1.rate = 7\n",
    "Account.rate"
   ]
  },
  {
   "cell_type": "code",
   "execution_count": null,
   "id": "2a321207-12a3-434c-a230-d699c804755f",
   "metadata": {},
   "outputs": [],
   "source": [
    "a1.rate"
   ]
  },
  {
   "cell_type": "code",
   "execution_count": null,
   "id": "9af3c3f2-2303-43f9-ab44-dca46157b66b",
   "metadata": {},
   "outputs": [],
   "source": [
    "a2.rate"
   ]
  },
  {
   "cell_type": "code",
   "execution_count": null,
   "id": "5d3659e5-2411-4a42-ad38-fd694080a733",
   "metadata": {},
   "outputs": [],
   "source": [
    "id(Account.rate)"
   ]
  },
  {
   "cell_type": "code",
   "execution_count": null,
   "id": "c673f62a-737d-4949-9044-f78ba7bfcbb0",
   "metadata": {},
   "outputs": [],
   "source": [
    "id(a1.rate)"
   ]
  },
  {
   "cell_type": "code",
   "execution_count": null,
   "id": "c939c353-00e6-46b8-9b62-62a204a4374b",
   "metadata": {},
   "outputs": [],
   "source": [
    "id(a2.rate)"
   ]
  },
  {
   "cell_type": "code",
   "execution_count": null,
   "id": "08c95709-7d3f-4b42-aa05-5e46ac2cd169",
   "metadata": {},
   "outputs": [],
   "source": [
    "a1.__dict__"
   ]
  },
  {
   "cell_type": "code",
   "execution_count": null,
   "id": "8a6dbe75-ecb4-48f3-8e6d-e297365779b8",
   "metadata": {},
   "outputs": [],
   "source": [
    "a2.__dict__"
   ]
  },
  {
   "cell_type": "code",
   "execution_count": null,
   "id": "f869bc70-13d9-401e-8882-a6a547468d4f",
   "metadata": {},
   "outputs": [],
   "source": [
    "Account.__dict__"
   ]
  },
  {
   "cell_type": "code",
   "execution_count": null,
   "id": "211ee4ec-5c74-4c01-80f0-5946811faa79",
   "metadata": {},
   "outputs": [],
   "source": [
    "class Person:\n",
    " species = 'Homo sapien'\n",
    " count = 0\n",
    " def __init__(self, name, age):\n",
    " self.name = name\n",
    " self.age = age\n",
    " self.count += 1\n",
    " def display(self):\n",
    " print(f'{self.name} is {self.age} years old {Person.species}')\n",
    "p1 = Person('Devanshi', 18)\n",
    "p2 = Person('Devank', 10)\n",
    "print(Person.count, p1.count, p2.count)"
   ]
  },
  {
   "cell_type": "code",
   "execution_count": null,
   "id": "e3daf44d-91f4-46b4-a589-0bcb170ccc24",
   "metadata": {},
   "outputs": [],
   "source": [
    "class BankAccount:\n",
    " rate = 5\n",
    " min_balance = 100\n",
    " min_balance_fees = 10\n",
    " def __init__(self, account_number, owner_name, balance):\n",
    " self.account_number = account_number\n",
    " self.owner_name = owner_name\n",
    " self.balance = balance\n",
    " def withdraw(self, amount):\n",
    " self.balance -= amount\n",
    " def deposit(self, amount):\n",
    " self.balance += amount\n",
    "def details(self):\n",
    " print(f'Rate : {BankAccount.rate}')\n",
    " print(f'Minimum Balance :\n",
    "{BankAccount.min_balance}')\n",
    " print(f'Minimum Balance fees :\n",
    "{BankAccount.min_balance_fees}')\n",
    "account1 = BankAccount('7348', 'Tom', 50)\n",
    "account1.details()"
   ]
  },
  {
   "cell_type": "code",
   "execution_count": null,
   "id": "757db8e1-76ae-429e-a784-1e2fccc259de",
   "metadata": {},
   "outputs": [],
   "source": [
    " @classmethod\n",
    " def details(cls):\n",
    " print(f'Rate : {cls.rate}')\n",
    " print(f'Minimum Balance : {cls.min_balance}')\n",
    " print(f'Minimum Balance fees : {cls.min_balance_fees}')"
   ]
  },
  {
   "cell_type": "code",
   "execution_count": null,
   "id": "7ed5fb0e-44a1-4c53-8bc4-4472551cd5e1",
   "metadata": {},
   "outputs": [],
   "source": [
    "BankAccount.details()"
   ]
  },
  {
   "cell_type": "code",
   "execution_count": null,
   "id": "b3e74fd9-6487-4b9a-98d6-e88de057a43f",
   "metadata": {},
   "outputs": [],
   "source": [
    "class Person:\n",
    " species = 'Homo sapien'\n",
    " count = 0\n",
    " def __init__(self, name, age):\n",
    " self.name = name\n",
    " self.age = age\n",
    " Person.count += 1\n",
    " def display(self):\n",
    " print(f'{self.name} is {self.age} years old\n",
    "{Person.species}')\n",
    " @classmethod\n",
    " def show_count(cls):\n",
    " print(f'There are {cls.count}\n",
    "{cls.species}s')\n",
    "Person.show_count()\n",
    "p1 = Person('Devanshi', 18)\n",
    "p2 = Person('Devank', 10)\n",
    "Person.show_count()"
   ]
  },
  {
   "cell_type": "code",
   "execution_count": null,
   "id": "d560b325-452a-45a6-aaee-66795dee78d5",
   "metadata": {},
   "outputs": [],
   "source": [
    "p1.count"
   ]
  },
  {
   "cell_type": "code",
   "execution_count": null,
   "id": "9885188d-4d0c-4079-a1ab-56c65c2110e6",
   "metadata": {},
   "outputs": [],
   "source": [
    "p2.count"
   ]
  },
  {
   "cell_type": "markdown",
   "id": "5f9f341d-a2ff-4b06-8d42-94354093d6df",
   "metadata": {},
   "source": [
    "Creating alternative initializers using class methods"
   ]
  },
  {
   "cell_type": "code",
   "execution_count": null,
   "id": "44d74b16-e020-4173-8fbd-6e6559b0eb7b",
   "metadata": {},
   "outputs": [],
   "source": [
    "class Person:\n",
    " def __init__(self, name, age):\n",
    " self.name = name\n",
    " self.age = age\n",
    " def display(self):\n",
    " print(f'{self.name} is {self.age} years\n",
    "old')\n",
    "p1 = Person('Devanshi', 18)\n",
    "p2 = Person('Devank', 10)"
   ]
  },
  {
   "cell_type": "code",
   "execution_count": null,
   "id": "eaa14dda-bee7-4a09-af42-3ed39317a542",
   "metadata": {},
   "outputs": [],
   "source": [
    "s = 'Jack, 23'\n",
    "d = {'name': 'Jane', 'age': 34}"
   ]
  },
  {
   "cell_type": "code",
   "execution_count": null,
   "id": "a6be24fa-65eb-409a-8fe0-250ca4f8faf1",
   "metadata": {},
   "outputs": [],
   "source": [
    " and from_dict.\n",
    "class Person:\n",
    " def __init__(self, name, age):\n",
    " self.name = name\n",
    " self.age = age\n",
    " @classmethod\n",
    " def from_str(cls, s):\n",
    " name, age = s.split(',')\n",
    " return cls(name, int(age))\n",
    " @classmethod\n",
    " def from_dict(cls, d):\n",
    " return cls(d['name'], d['age'])\n",
    " def display(self):\n",
    " print(f'{self.name} is {self.age} years\n",
    "old')\n",
    "s = 'Jack, 23'\n",
    "d = {'name': 'Jane', 'age': 34}\n",
    "p3 = Person.from_str(s)\n",
    "p3.display()\n",
    "p4 = Person.from_dict(d)\n",
    "p4.display()"
   ]
  },
  {
   "cell_type": "code",
   "execution_count": null,
   "id": "8ed0f0b6-bcdb-428b-b603-c14eb1774348",
   "metadata": {},
   "outputs": [],
   "source": [
    "from datetime import datetime\n",
    "class Employee:\n",
    " def __init__(self, first_name, last_name,\n",
    "birth_year, salary):\n",
    " self.first_name = first_name\n",
    " self.last_name = last_name\n",
    " self.birth_year = birth_year\n",
    " self.salary = salary\n",
    " def show(self):\n",
    " print(f'I am {self.first_name}\n",
    "{self.last_name} born in {self.birth_year}')\n",
    "class Person:\n",
    " def __init__(self, name, age):\n",
    " self.name = name\n",
    " self.age = age\n",
    " @classmethod\n",
    " def from_employee(cls, emp):\n",
    " name = emp.first_name + ' ' + emp.last_name\n",
    " age = datetime.today().year -\n",
    "emp.birth_year\n",
    "return cls(name, age)\n",
    " def display(self):\n",
    " print('I am', self.name, self.age, 'years old')\n",
    "e1 = Employee('James', 'Smith', 1990, 5000)\n",
    "p1 = Person.from_employee(e1)\n",
    "p1.display()"
   ]
  },
  {
   "cell_type": "markdown",
   "id": "0135c3c2-e0c8-4b64-ba9a-3f7a67e61470",
   "metadata": {},
   "source": [
    "Static method"
   ]
  },
  {
   "cell_type": "code",
   "execution_count": null,
   "id": "fadcca85-e084-435d-934f-b39e458a5ea4",
   "metadata": {},
   "outputs": [],
   "source": [
    "class BankAccount:\n",
    " @staticmethod\n",
    "\n",
    "    def about():\n",
    " print('Information about BankAccount class')\n",
    " print('…………')\n",
    " print('…………')\n",
    "BankAccount.about()\n",
    "class Date:\n",
    " def __init__(self, d, m, y):\n",
    " self.d = d\n",
    " self.m = m\n",
    " self.y = y\n",
    " def method1(self, year):\n",
    " \n",
    " if Date.isleap(year):\n",
    " \n",
    " def method2(self, days):\n",
    " \n",
    " if Date.isleap(self.y):\n",
    " \n",
    " @staticmethod\n",
    " def is_leap(year):\n",
    "\n",
    "     if year % 4 == 0 and year % 100 != 0 or\n",
    "year % 400 == 0:\n",
    " return True\n",
    " else:\n",
    " return False"
   ]
  },
  {
   "cell_type": "code",
   "execution_count": null,
   "id": "3bc30d9d-d4cd-464d-8dad-4c20f0ea7b6e",
   "metadata": {},
   "outputs": [],
   "source": [
    "class MyClass:\n",
    " @staticmethod\n",
    " def method1():\n",
    " print('method1 doing work')\n",
    " MyClass.method2()\n",
    " MyClass.method3()\n",
    " @staticmethod\n",
    " def method2():\n",
    " print('method2 doing work')\n",
    " @staticmethod\n",
    " def method3():\n",
    " print('method3 doing work')"
   ]
  },
  {
   "cell_type": "code",
   "execution_count": null,
   "id": "62b06507-ee15-44ae-88e8-d6da066ae9b5",
   "metadata": {},
   "outputs": [],
   "source": [
    "class MyClass:\n",
    " @classmethod\n",
    " def method1(cls):\n",
    " print('method1 doing work')\n",
    " cls.method2()\n",
    " cls.method3()\n",
    " @staticmethod\n",
    " def method2():\n",
    " print('method2 doing work')\n",
    " @staticmethod\n",
    " def method3():\n",
    " print('method3 doing work')"
   ]
  },
  {
   "cell_type": "markdown",
   "id": "92e4e37a-1027-4b8f-9bdc-1953835de2fc",
   "metadata": {},
   "source": [
    "Creating managed attributes using properties"
   ]
  },
  {
   "cell_type": "code",
   "execution_count": null,
   "id": "0a656b04-b25d-4856-b641-6feac5138f50",
   "metadata": {},
   "outputs": [],
   "source": [
    "class Person:\n",
    " def __init__(self, name, age):\n",
    " self.name = name\n",
    " self.age = age\n",
    " def display(self):\n",
    " print(self.name, self.age)\n",
    "if __name__ == '__main__':\n",
    " p = Person('Raj', 30)\n",
    " p.display()"
   ]
  },
  {
   "cell_type": "code",
   "execution_count": null,
   "id": "781903a3-b7f1-4841-afbd-ca57c68f08dd",
   "metadata": {},
   "outputs": [],
   "source": [
    "class Person:\n",
    " def __init__(self, name, age):\n",
    " self.name = name\n",
    " self._age = age\n",
    " def display(self):\n",
    " print(self.name, self._age)\n",
    " def set_age(self, new_age):\n",
    " if 20 <= new_age <= 80:\n",
    " self._age = new_age\n",
    " else:\n",
    " raise ValueError('Age must be between\n",
    "20 and 80')\n",
    " def get_age(self):\n",
    " return self._age\n",
    "if __name__ == '__main__':\n",
    " p = Person('Raj', 30)\n",
    " p.display()"
   ]
  },
  {
   "cell_type": "code",
   "execution_count": null,
   "id": "598e5405-d4c3-441b-9b70-4f350c8c3554",
   "metadata": {},
   "outputs": [],
   "source": [
    "p.set_age(100)"
   ]
  },
  {
   "cell_type": "code",
   "execution_count": null,
   "id": "19e6c322-2c5c-4e9c-aa22-7b92169d1d73",
   "metadata": {},
   "outputs": [],
   "source": [
    "p.set_age(12)"
   ]
  },
  {
   "cell_type": "code",
   "execution_count": null,
   "id": "129d34f3-eb73-4e73-9354-acc37dbc717f",
   "metadata": {},
   "outputs": [],
   "source": [
    "p.set_age(25)\n",
    "p.display()"
   ]
  },
  {
   "cell_type": "code",
   "execution_count": null,
   "id": "ca9c1323-676b-44c4-8836-c440028dfd02",
   "metadata": {},
   "outputs": [],
   "source": [
    "p.age +=1"
   ]
  },
  {
   "cell_type": "code",
   "execution_count": null,
   "id": "56ab2b73-f9e9-4604-a786-1a4d34a165ca",
   "metadata": {},
   "outputs": [],
   "source": [
    "p.set_age(p.get_age() + 1)"
   ]
  },
  {
   "cell_type": "code",
   "execution_count": null,
   "id": "dd1c505c-b76a-4b5a-b447-471509f0ba35",
   "metadata": {},
   "outputs": [],
   "source": [
    "p1 = Person('Dev', 2000)"
   ]
  },
  {
   "cell_type": "code",
   "execution_count": null,
   "id": "749ce4dc-113e-4fcb-b966-4e59aaa06ebe",
   "metadata": {},
   "outputs": [],
   "source": [
    "def __init__(self, name, age):\n",
    " self.name = name\n",
    " self.set_age(age)"
   ]
  },
  {
   "cell_type": "code",
   "execution_count": null,
   "id": "e9166c62-a077-481b-8201-881a517dfe4e",
   "metadata": {},
   "outputs": [],
   "source": [
    "class Person:\n",
    " def __init__(self, name, age):\n",
    " self.name = name\n",
    " self.age = age\n",
    " def display(self):\n",
    " print(self.name, self.age)"
   ]
  },
  {
   "cell_type": "code",
   "execution_count": null,
   "id": "efdb22d7-6af4-4f63-8a6b-de69d251d1ee",
   "metadata": {},
   "outputs": [],
   "source": [
    "class Person:\n",
    " def __init__(self, name, age):\n",
    " self.name = name\n",
    " self.age = age\n",
    " @property\n",
    " def age(self):\n",
    " return self._age\n",
    " @age.setter\n",
    " def age(self, new_age):\n",
    " if 20 <= new_age <= 80:\n",
    " self._age = new_age\n",
    " else:\n",
    " raise ValueError('Age must be between\n",
    "20 and 80')\n",
    " def display(self):\n",
    " print(self.name, self._age)"
   ]
  },
  {
   "cell_type": "code",
   "execution_count": null,
   "id": "a0600daa-58e2-41ce-91c4-9b1d9ba84b55",
   "metadata": {},
   "outputs": [],
   "source": [
    "p = Person('Raj', 30)\n",
    "p.age + 1"
   ]
  },
  {
   "cell_type": "code",
   "execution_count": null,
   "id": "4c018460-abc7-4c70-94ce-54528ea47be9",
   "metadata": {},
   "outputs": [],
   "source": [
    "p.age = 40\n",
    "p.age = 200"
   ]
  },
  {
   "cell_type": "code",
   "execution_count": null,
   "id": "7450adc4-9a34-4c31-b439-8f1b19b4bbf2",
   "metadata": {},
   "outputs": [],
   "source": [
    "p.age()"
   ]
  },
  {
   "cell_type": "code",
   "execution_count": null,
   "id": "7f6964ef-10e9-460e-8b5b-ee29746ac0fd",
   "metadata": {},
   "outputs": [],
   "source": [
    "p = Person('Raj', 300)"
   ]
  },
  {
   "cell_type": "markdown",
   "id": "41d4c9fa-5394-4ef7-b54f-5099e0bfc279",
   "metadata": {},
   "source": [
    "Creating read-only attributes using properties"
   ]
  },
  {
   "cell_type": "code",
   "execution_count": null,
   "id": "af174682-dc46-4750-a3d8-4c0f3237751d",
   "metadata": {},
   "outputs": [],
   "source": [
    "class Employee:\n",
    " def __init__(self, name, password, salary):\n",
    " self._name = name\n",
    " self.password = password\n",
    " self.salary = salary\n",
    " @property\n",
    " def name(self):\n",
    " return self._name\n",
    " @property\n",
    " def password(self):\n",
    " raise AttributeError('password not\n",
    "readable')\n",
    " @password.setter\n",
    "def password(self, new_password):\n",
    " self._password = new_password\n",
    " @property\n",
    " def salary(self):\n",
    " return self._salary\n",
    " @salary.setter\n",
    " def salary(self, new_salary):\n",
    " self._password = new_salary"
   ]
  },
  {
   "cell_type": "code",
   "execution_count": null,
   "id": "0c8895f2-ad12-4d3f-bc01-0d78f79655dc",
   "metadata": {},
   "outputs": [],
   "source": []
  },
  {
   "cell_type": "code",
   "execution_count": null,
   "id": "f9cbc840-1deb-40eb-be55-73ea3cff2426",
   "metadata": {},
   "outputs": [],
   "source": [
    "e = Employee('Jill', 'feb31', 5000)\n",
    "e.name"
   ]
  },
  {
   "cell_type": "code",
   "execution_count": null,
   "id": "0c2831b1-f633-4d22-a61b-8b49a4c8b603",
   "metadata": {},
   "outputs": [],
   "source": [
    "e.name = 'Jack'"
   ]
  },
  {
   "cell_type": "code",
   "execution_count": null,
   "id": "0ed7210a-e093-47d2-a271-dfefc5af27bb",
   "metadata": {},
   "outputs": [],
   "source": [
    "e.password"
   ]
  },
  {
   "cell_type": "code",
   "execution_count": null,
   "id": "0589c2da-db88-4029-b120-8b1398fdec55",
   "metadata": {},
   "outputs": [],
   "source": [
    "e.password = 'feb29'"
   ]
  },
  {
   "cell_type": "code",
   "execution_count": null,
   "id": "75f59033-15c8-4084-8223-d9829b1cfdc9",
   "metadata": {},
   "outputs": [],
   "source": [
    "e.salary = 6000\n",
    "e.salary"
   ]
  },
  {
   "cell_type": "markdown",
   "id": "7e438eb5-ca7f-4230-a7b4-2013256c7084",
   "metadata": {},
   "source": [
    "Creating computed attributes using properties"
   ]
  },
  {
   "cell_type": "code",
   "execution_count": null,
   "id": "c5688c0e-2a15-4616-8d7d-03585fd7e17c",
   "metadata": {},
   "outputs": [],
   "source": [
    "class Rectangle():\n",
    " def __init__(self, length, breadth):\n",
    " self.length = length\n",
    " self.breadth = breadth\n",
    " self.diagonal = (self.length * self.length\n",
    "+ self.breadth * self.breadth) ** 0.5\n",
    " def area(self):\n",
    " return self.length * self.breadth\n",
    " def perimeter(self):\n",
    " return 2 * (self.length + self.breadth)"
   ]
  },
  {
   "cell_type": "code",
   "execution_count": null,
   "id": "8ca2ad81-1e9b-4858-ab42-f789dbf229b4",
   "metadata": {},
   "outputs": [],
   "source": [
    "r = Rectangle(2, 5)\n",
    "r.diagonal"
   ]
  },
  {
   "cell_type": "code",
   "execution_count": null,
   "id": "a38a5690-d97b-4e3f-b2dc-61f5673d7ca9",
   "metadata": {},
   "outputs": [],
   "source": [
    "r.area()"
   ]
  },
  {
   "cell_type": "code",
   "execution_count": null,
   "id": "f63cff47-22c6-4a96-a12a-34213d038f44",
   "metadata": {},
   "outputs": [],
   "source": [
    "r.perimeter()"
   ]
  },
  {
   "cell_type": "code",
   "execution_count": null,
   "id": "d84e4f16-0b5c-42d5-89e5-c56e9b9a0a23",
   "metadata": {},
   "outputs": [],
   "source": [
    "r.length = 10\n",
    "r.diagonal"
   ]
  },
  {
   "cell_type": "code",
   "execution_count": null,
   "id": "42d5eebb-6ddd-4258-8846-c7ea379770f3",
   "metadata": {},
   "outputs": [],
   "source": [
    "r.area()"
   ]
  },
  {
   "cell_type": "code",
   "execution_count": null,
   "id": "e4fa7b54-3ac9-40e7-9b0f-ae06169bece1",
   "metadata": {},
   "outputs": [],
   "source": [
    "r.perimeter()"
   ]
  },
  {
   "cell_type": "code",
   "execution_count": null,
   "id": "4809cabd-42ec-4e3c-8dbf-34623f93d072",
   "metadata": {},
   "outputs": [],
   "source": [
    "@property\n",
    "def diagonal(self):\n",
    " return (self.length * self.length +\n",
    "self.breadth * self.breadth) ** 0.5"
   ]
  },
  {
   "cell_type": "code",
   "execution_count": null,
   "id": "5137a104-6846-45b3-af13-35654f960be7",
   "metadata": {},
   "outputs": [],
   "source": [
    "r = Rectangle(2, 5)\n",
    "r.diagonal"
   ]
  },
  {
   "cell_type": "code",
   "execution_count": null,
   "id": "ec2df2da-c94d-447b-a76b-e9fd51c89db7",
   "metadata": {},
   "outputs": [],
   "source": [
    "r.length = 10\n",
    "r.diagonal"
   ]
  },
  {
   "cell_type": "markdown",
   "id": "e8255dfa-d9d5-4169-bfc5-99cae91a2405",
   "metadata": {},
   "source": [
    "Deleter method of property"
   ]
  },
  {
   "cell_type": "code",
   "execution_count": null,
   "id": "2375c5f7-2dde-4f59-a649-25286224d719",
   "metadata": {},
   "outputs": [],
   "source": [
    "class Person:\n",
    " def __init__(self, name, age):\n",
    " self.name = name\n",
    " self.age = age\n",
    " @property\n",
    " def age(self):\n",
    " return self._age\n",
    " @age.setter\n",
    " def age(self, new_age):\n",
    "if 20 <= new_age <= 80:\n",
    " self._age = new_age\n",
    " else:\n",
    " raise ValueError('Age must be between\n",
    "20 and 80')\n",
    " @age.deleter\n",
    " def age(self):\n",
    " del self._age\n",
    " print('age deleted')\n",
    " def display(self):\n",
    " print(self.name, self._age)"
   ]
  },
  {
   "cell_type": "code",
   "execution_count": null,
   "id": "04682d0b-64d6-48e9-a345-3bb163f4e581",
   "metadata": {},
   "outputs": [],
   "source": [
    "p = Person('Jill', 25)\n",
    "print(p.age)"
   ]
  },
  {
   "cell_type": "code",
   "execution_count": null,
   "id": "acf57a5d-f4e0-464d-a698-71fa09b419c1",
   "metadata": {},
   "outputs": [],
   "source": [
    "del p.age"
   ]
  },
  {
   "cell_type": "code",
   "execution_count": null,
   "id": "8eb8650e-563f-4b70-9008-1051695d482c",
   "metadata": {},
   "outputs": [],
   "source": []
  },
  {
   "cell_type": "code",
   "execution_count": null,
   "id": "ddb86364-990e-46ec-b82c-4e5c90960c31",
   "metadata": {},
   "outputs": [],
   "source": []
  },
  {
   "cell_type": "code",
   "execution_count": null,
   "id": "7fc51f94-8cab-4aab-82d4-63b63fc24330",
   "metadata": {},
   "outputs": [],
   "source": []
  },
  {
   "cell_type": "code",
   "execution_count": null,
   "id": "4a815bb8-cfc4-4b52-8106-b58015b1f617",
   "metadata": {},
   "outputs": [],
   "source": []
  },
  {
   "cell_type": "code",
   "execution_count": null,
   "id": "e69b343c-e482-4aac-8f21-9ed9dbe1ddcb",
   "metadata": {},
   "outputs": [],
   "source": []
  }
 ],
 "metadata": {
  "kernelspec": {
   "display_name": "Python 3 (ipykernel)",
   "language": "python",
   "name": "python3"
  },
  "language_info": {
   "codemirror_mode": {
    "name": "ipython",
    "version": 3
   },
   "file_extension": ".py",
   "mimetype": "text/x-python",
   "name": "python",
   "nbconvert_exporter": "python",
   "pygments_lexer": "ipython3",
   "version": "3.12.7"
  }
 },
 "nbformat": 4,
 "nbformat_minor": 5
}
