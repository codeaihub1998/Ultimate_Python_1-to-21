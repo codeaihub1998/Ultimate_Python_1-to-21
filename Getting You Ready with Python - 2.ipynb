{
 "cells": [
  {
   "cell_type": "code",
   "execution_count": 1,
   "id": "da92df61-d5dd-43ca-833d-82fc1b10c19a",
   "metadata": {},
   "outputs": [
    {
     "name": "stdout",
     "output_type": "stream",
     "text": [
      "\n",
      "Here is a list of the Python keywords.  Enter any keyword to get more help.\n",
      "\n",
      "False               class               from                or\n",
      "None                continue            global              pass\n",
      "True                def                 if                  raise\n",
      "and                 del                 import              return\n",
      "as                  elif                in                  try\n",
      "assert              else                is                  while\n",
      "async               except              lambda              with\n",
      "await               finally             nonlocal            yield\n",
      "break               for                 not                 \n",
      "\n"
     ]
    }
   ],
   "source": [
    "help('keywords')"
   ]
  },
  {
   "cell_type": "code",
   "execution_count": 2,
   "id": "f6d08f1d-f44c-48bd-8594-7882e45724e7",
   "metadata": {},
   "outputs": [
    {
     "data": {
      "text/plain": [
       "['ArithmeticError',\n",
       " 'AssertionError',\n",
       " 'AttributeError',\n",
       " 'BaseException',\n",
       " 'BaseExceptionGroup',\n",
       " 'BlockingIOError',\n",
       " 'BrokenPipeError',\n",
       " 'BufferError',\n",
       " 'BytesWarning',\n",
       " 'ChildProcessError',\n",
       " 'ConnectionAbortedError',\n",
       " 'ConnectionError',\n",
       " 'ConnectionRefusedError',\n",
       " 'ConnectionResetError',\n",
       " 'DeprecationWarning',\n",
       " 'EOFError',\n",
       " 'Ellipsis',\n",
       " 'EncodingWarning',\n",
       " 'EnvironmentError',\n",
       " 'Exception',\n",
       " 'ExceptionGroup',\n",
       " 'False',\n",
       " 'FileExistsError',\n",
       " 'FileNotFoundError',\n",
       " 'FloatingPointError',\n",
       " 'FutureWarning',\n",
       " 'GeneratorExit',\n",
       " 'IOError',\n",
       " 'ImportError',\n",
       " 'ImportWarning',\n",
       " 'IndentationError',\n",
       " 'IndexError',\n",
       " 'InterruptedError',\n",
       " 'IsADirectoryError',\n",
       " 'KeyError',\n",
       " 'KeyboardInterrupt',\n",
       " 'LookupError',\n",
       " 'MemoryError',\n",
       " 'ModuleNotFoundError',\n",
       " 'NameError',\n",
       " 'None',\n",
       " 'NotADirectoryError',\n",
       " 'NotImplemented',\n",
       " 'NotImplementedError',\n",
       " 'OSError',\n",
       " 'OverflowError',\n",
       " 'PendingDeprecationWarning',\n",
       " 'PermissionError',\n",
       " 'ProcessLookupError',\n",
       " 'RecursionError',\n",
       " 'ReferenceError',\n",
       " 'ResourceWarning',\n",
       " 'RuntimeError',\n",
       " 'RuntimeWarning',\n",
       " 'StopAsyncIteration',\n",
       " 'StopIteration',\n",
       " 'SyntaxError',\n",
       " 'SyntaxWarning',\n",
       " 'SystemError',\n",
       " 'SystemExit',\n",
       " 'TabError',\n",
       " 'TimeoutError',\n",
       " 'True',\n",
       " 'TypeError',\n",
       " 'UnboundLocalError',\n",
       " 'UnicodeDecodeError',\n",
       " 'UnicodeEncodeError',\n",
       " 'UnicodeError',\n",
       " 'UnicodeTranslateError',\n",
       " 'UnicodeWarning',\n",
       " 'UserWarning',\n",
       " 'ValueError',\n",
       " 'Warning',\n",
       " 'WindowsError',\n",
       " 'ZeroDivisionError',\n",
       " '__IPYTHON__',\n",
       " '__build_class__',\n",
       " '__debug__',\n",
       " '__doc__',\n",
       " '__import__',\n",
       " '__loader__',\n",
       " '__name__',\n",
       " '__package__',\n",
       " '__spec__',\n",
       " 'abs',\n",
       " 'aiter',\n",
       " 'all',\n",
       " 'anext',\n",
       " 'any',\n",
       " 'ascii',\n",
       " 'bin',\n",
       " 'bool',\n",
       " 'breakpoint',\n",
       " 'bytearray',\n",
       " 'bytes',\n",
       " 'callable',\n",
       " 'chr',\n",
       " 'classmethod',\n",
       " 'compile',\n",
       " 'complex',\n",
       " 'copyright',\n",
       " 'credits',\n",
       " 'delattr',\n",
       " 'dict',\n",
       " 'dir',\n",
       " 'display',\n",
       " 'divmod',\n",
       " 'enumerate',\n",
       " 'eval',\n",
       " 'exec',\n",
       " 'execfile',\n",
       " 'filter',\n",
       " 'float',\n",
       " 'format',\n",
       " 'frozenset',\n",
       " 'get_ipython',\n",
       " 'getattr',\n",
       " 'globals',\n",
       " 'hasattr',\n",
       " 'hash',\n",
       " 'help',\n",
       " 'hex',\n",
       " 'id',\n",
       " 'input',\n",
       " 'int',\n",
       " 'isinstance',\n",
       " 'issubclass',\n",
       " 'iter',\n",
       " 'len',\n",
       " 'license',\n",
       " 'list',\n",
       " 'locals',\n",
       " 'map',\n",
       " 'max',\n",
       " 'memoryview',\n",
       " 'min',\n",
       " 'next',\n",
       " 'object',\n",
       " 'oct',\n",
       " 'open',\n",
       " 'ord',\n",
       " 'pow',\n",
       " 'print',\n",
       " 'property',\n",
       " 'range',\n",
       " 'repr',\n",
       " 'reversed',\n",
       " 'round',\n",
       " 'runfile',\n",
       " 'set',\n",
       " 'setattr',\n",
       " 'slice',\n",
       " 'sorted',\n",
       " 'staticmethod',\n",
       " 'str',\n",
       " 'sum',\n",
       " 'super',\n",
       " 'tuple',\n",
       " 'type',\n",
       " 'vars',\n",
       " 'zip']"
      ]
     },
     "execution_count": 2,
     "metadata": {},
     "output_type": "execute_result"
    }
   ],
   "source": [
    "dir(__builtins__)"
   ]
  },
  {
   "cell_type": "markdown",
   "id": "62fd9b59-95ba-4ab1-b0ca-b7338b9fc184",
   "metadata": {},
   "source": [
    "Python Types"
   ]
  },
  {
   "cell_type": "code",
   "execution_count": 7,
   "id": "77ec9e07-cd73-4460-acaf-11ddbcc43d1b",
   "metadata": {},
   "outputs": [
    {
     "data": {
      "text/plain": [
       "25"
      ]
     },
     "execution_count": 7,
     "metadata": {},
     "output_type": "execute_result"
    }
   ],
   "source": [
    "25"
   ]
  },
  {
   "cell_type": "code",
   "execution_count": 5,
   "id": "5bf61379-8b2b-4273-b187-eded98254dc1",
   "metadata": {},
   "outputs": [
    {
     "data": {
      "text/plain": [
       "45"
      ]
     },
     "execution_count": 5,
     "metadata": {},
     "output_type": "execute_result"
    }
   ],
   "source": [
    "3 + 42"
   ]
  },
  {
   "cell_type": "code",
   "execution_count": 6,
   "id": "e5254fd6-6dad-4426-9e7d-777dd18592be",
   "metadata": {},
   "outputs": [
    {
     "data": {
      "text/plain": [
       "426825223812027400796974891518773732342988745354489429495479078935112929549619739019072139340757097296812815466676129830954465240517595242384015591919845376"
      ]
     },
     "execution_count": 6,
     "metadata": {},
     "output_type": "execute_result"
    }
   ],
   "source": [
    "6 ** 200"
   ]
  },
  {
   "cell_type": "code",
   "execution_count": 8,
   "id": "d8a45d8c-11cb-47fe-9d86-d8088cd5d580",
   "metadata": {},
   "outputs": [
    {
     "data": {
      "text/plain": [
       "6844"
      ]
     },
     "execution_count": 8,
     "metadata": {},
     "output_type": "execute_result"
    }
   ],
   "source": [
    "0x1abc"
   ]
  },
  {
   "cell_type": "code",
   "execution_count": 9,
   "id": "0d35b8c0-13be-4f61-84e4-fc02397b8780",
   "metadata": {},
   "outputs": [
    {
     "data": {
      "text/plain": [
       "6844"
      ]
     },
     "execution_count": 9,
     "metadata": {},
     "output_type": "execute_result"
    }
   ],
   "source": [
    "0X1ABC"
   ]
  },
  {
   "cell_type": "code",
   "execution_count": 10,
   "id": "855ee924-efd1-46aa-a351-14295b44d673",
   "metadata": {},
   "outputs": [
    {
     "data": {
      "text/plain": [
       "1022"
      ]
     },
     "execution_count": 10,
     "metadata": {},
     "output_type": "execute_result"
    }
   ],
   "source": [
    "0o1776"
   ]
  },
  {
   "cell_type": "code",
   "execution_count": 11,
   "id": "3eaec368-03bf-4b4c-882e-35f54cf46b8d",
   "metadata": {},
   "outputs": [
    {
     "data": {
      "text/plain": [
       "195"
      ]
     },
     "execution_count": 11,
     "metadata": {},
     "output_type": "execute_result"
    }
   ],
   "source": [
    "0b11000011"
   ]
  },
  {
   "cell_type": "code",
   "execution_count": 12,
   "id": "cc6f938a-98d2-43d8-acb4-aaf71365104b",
   "metadata": {},
   "outputs": [
    {
     "data": {
      "text/plain": [
       "int"
      ]
     },
     "execution_count": 12,
     "metadata": {},
     "output_type": "execute_result"
    }
   ],
   "source": [
    "type(23)"
   ]
  },
  {
   "cell_type": "code",
   "execution_count": 13,
   "id": "10e4f31e-66fb-4841-8d9b-76e399688bc0",
   "metadata": {},
   "outputs": [
    {
     "data": {
      "text/plain": [
       "bool"
      ]
     },
     "execution_count": 13,
     "metadata": {},
     "output_type": "execute_result"
    }
   ],
   "source": [
    "type(True)"
   ]
  },
  {
   "cell_type": "code",
   "execution_count": 14,
   "id": "4a4f02ec-a520-45c0-9e91-010334730b53",
   "metadata": {},
   "outputs": [
    {
     "data": {
      "text/plain": [
       "float"
      ]
     },
     "execution_count": 14,
     "metadata": {},
     "output_type": "execute_result"
    }
   ],
   "source": [
    "type(2.3)"
   ]
  },
  {
   "cell_type": "code",
   "execution_count": 15,
   "id": "bb5f356f-8f35-4545-8b20-27a966a74d51",
   "metadata": {},
   "outputs": [
    {
     "data": {
      "text/plain": [
       "str"
      ]
     },
     "execution_count": 15,
     "metadata": {},
     "output_type": "execute_result"
    }
   ],
   "source": [
    "type('hi')"
   ]
  },
  {
   "cell_type": "code",
   "execution_count": 16,
   "id": "e99efa61-bd69-4136-b977-ac302f466b06",
   "metadata": {},
   "outputs": [
    {
     "data": {
      "text/plain": [
       "str"
      ]
     },
     "execution_count": 16,
     "metadata": {},
     "output_type": "execute_result"
    }
   ],
   "source": [
    "type(\"Hello\")"
   ]
  },
  {
   "cell_type": "code",
   "execution_count": 17,
   "id": "8d46cd50-c9a6-480f-a7f3-91db41695a82",
   "metadata": {},
   "outputs": [
    {
     "data": {
      "text/plain": [
       "NoneType"
      ]
     },
     "execution_count": 17,
     "metadata": {},
     "output_type": "execute_result"
    }
   ],
   "source": [
    "type(None)"
   ]
  },
  {
   "cell_type": "markdown",
   "id": "e3e5a303-1823-4b9a-9800-351d1fcc1d89",
   "metadata": {},
   "source": [
    "Objects"
   ]
  },
  {
   "cell_type": "code",
   "execution_count": 18,
   "id": "aeb83d23-f578-4b9c-b61c-0bbde5e2f676",
   "metadata": {},
   "outputs": [],
   "source": [
    "x = 52"
   ]
  },
  {
   "cell_type": "code",
   "execution_count": 19,
   "id": "ecaf757d-0dbf-4760-83be-c00735253c0e",
   "metadata": {},
   "outputs": [
    {
     "data": {
      "text/plain": [
       "52"
      ]
     },
     "execution_count": 19,
     "metadata": {},
     "output_type": "execute_result"
    }
   ],
   "source": [
    "x"
   ]
  },
  {
   "cell_type": "code",
   "execution_count": 20,
   "id": "c673cc44-a017-427c-a15f-4e47fc2a4f9a",
   "metadata": {},
   "outputs": [
    {
     "name": "stdout",
     "output_type": "stream",
     "text": [
      "52\n"
     ]
    }
   ],
   "source": [
    "print(x)"
   ]
  },
  {
   "cell_type": "code",
   "execution_count": 21,
   "id": "09737c41-1003-4b11-abf1-acb92558ffde",
   "metadata": {},
   "outputs": [
    {
     "data": {
      "text/plain": [
       "57"
      ]
     },
     "execution_count": 21,
     "metadata": {},
     "output_type": "execute_result"
    }
   ],
   "source": [
    "x + 5"
   ]
  },
  {
   "cell_type": "code",
   "execution_count": 22,
   "id": "52c34b9b-70d2-4d0d-9052-0bc5d0e8af2f",
   "metadata": {},
   "outputs": [
    {
     "data": {
      "text/plain": [
       "int"
      ]
     },
     "execution_count": 22,
     "metadata": {},
     "output_type": "execute_result"
    }
   ],
   "source": [
    "type(x)"
   ]
  },
  {
   "cell_type": "code",
   "execution_count": 23,
   "id": "60fcd564-4eaa-4041-9feb-4bac8f3bfa80",
   "metadata": {},
   "outputs": [
    {
     "data": {
      "text/plain": [
       "140705858662424"
      ]
     },
     "execution_count": 23,
     "metadata": {},
     "output_type": "execute_result"
    }
   ],
   "source": [
    "id(x)"
   ]
  },
  {
   "cell_type": "code",
   "execution_count": 24,
   "id": "a0cb1544-4715-4c2c-a25e-3b35a1c44b13",
   "metadata": {},
   "outputs": [],
   "source": [
    "p = 'Hello'"
   ]
  },
  {
   "cell_type": "code",
   "execution_count": 25,
   "id": "faa124d3-3a23-4479-9a92-9163fecc7c23",
   "metadata": {},
   "outputs": [
    {
     "data": {
      "text/plain": [
       "'Hello'"
      ]
     },
     "execution_count": 25,
     "metadata": {},
     "output_type": "execute_result"
    }
   ],
   "source": [
    "p"
   ]
  },
  {
   "cell_type": "code",
   "execution_count": 26,
   "id": "169d5b63-26f6-4e19-96bb-e086b268186f",
   "metadata": {},
   "outputs": [
    {
     "name": "stdout",
     "output_type": "stream",
     "text": [
      "Hello\n"
     ]
    }
   ],
   "source": [
    "print(p)"
   ]
  },
  {
   "cell_type": "code",
   "execution_count": 27,
   "id": "c2dac562-93f6-4141-b9f3-a88365967347",
   "metadata": {},
   "outputs": [],
   "source": [
    "z = x"
   ]
  },
  {
   "cell_type": "code",
   "execution_count": 28,
   "id": "baa96409-900d-4612-b0b6-59bc77ad0a26",
   "metadata": {},
   "outputs": [],
   "source": [
    "y = z"
   ]
  },
  {
   "cell_type": "code",
   "execution_count": 29,
   "id": "2dd9d135-a364-4f32-b36b-bdd0d257a3e9",
   "metadata": {},
   "outputs": [
    {
     "data": {
      "text/plain": [
       "52"
      ]
     },
     "execution_count": 29,
     "metadata": {},
     "output_type": "execute_result"
    }
   ],
   "source": [
    "x"
   ]
  },
  {
   "cell_type": "code",
   "execution_count": 30,
   "id": "896885a2-68d6-4a7c-91ba-aa8afa2d7202",
   "metadata": {},
   "outputs": [
    {
     "data": {
      "text/plain": [
       "52"
      ]
     },
     "execution_count": 30,
     "metadata": {},
     "output_type": "execute_result"
    }
   ],
   "source": [
    "y"
   ]
  },
  {
   "cell_type": "code",
   "execution_count": 31,
   "id": "18bd90d7-aeca-47dd-b98a-234006a259d8",
   "metadata": {},
   "outputs": [
    {
     "data": {
      "text/plain": [
       "52"
      ]
     },
     "execution_count": 31,
     "metadata": {},
     "output_type": "execute_result"
    }
   ],
   "source": [
    "z"
   ]
  },
  {
   "cell_type": "code",
   "execution_count": 32,
   "id": "c9059649-3fde-4fe7-96f8-717f83a851ef",
   "metadata": {},
   "outputs": [
    {
     "data": {
      "text/plain": [
       "140705858662424"
      ]
     },
     "execution_count": 32,
     "metadata": {},
     "output_type": "execute_result"
    }
   ],
   "source": [
    "id(x)"
   ]
  },
  {
   "cell_type": "code",
   "execution_count": 33,
   "id": "bbcc38b3-4038-4c6f-bbdb-73ec4bb008ee",
   "metadata": {},
   "outputs": [
    {
     "data": {
      "text/plain": [
       "140705858662424"
      ]
     },
     "execution_count": 33,
     "metadata": {},
     "output_type": "execute_result"
    }
   ],
   "source": [
    "id(y)"
   ]
  },
  {
   "cell_type": "code",
   "execution_count": 34,
   "id": "a43c3c52-e9f0-4a89-bcba-b6f0b8f0cd13",
   "metadata": {},
   "outputs": [
    {
     "data": {
      "text/plain": [
       "140705858662424"
      ]
     },
     "execution_count": 34,
     "metadata": {},
     "output_type": "execute_result"
    }
   ],
   "source": [
    "id(z)"
   ]
  },
  {
   "cell_type": "code",
   "execution_count": 35,
   "id": "fcbaeb9f-a24e-4962-bc81-857cd9abf42a",
   "metadata": {},
   "outputs": [],
   "source": [
    "x = 25"
   ]
  },
  {
   "cell_type": "code",
   "execution_count": 36,
   "id": "1447ff69-6548-4c90-bd8d-cce810d54cab",
   "metadata": {},
   "outputs": [
    {
     "data": {
      "text/plain": [
       "25"
      ]
     },
     "execution_count": 36,
     "metadata": {},
     "output_type": "execute_result"
    }
   ],
   "source": [
    "x"
   ]
  },
  {
   "cell_type": "code",
   "execution_count": 37,
   "id": "8cc6d284-6b56-428f-9628-44cce84478c4",
   "metadata": {},
   "outputs": [
    {
     "data": {
      "text/plain": [
       "140705858661560"
      ]
     },
     "execution_count": 37,
     "metadata": {},
     "output_type": "execute_result"
    }
   ],
   "source": [
    "id(x)"
   ]
  },
  {
   "cell_type": "code",
   "execution_count": 38,
   "id": "2b6fc257-173f-4efd-a245-4003404fdecb",
   "metadata": {},
   "outputs": [],
   "source": [
    "z = z + 3"
   ]
  },
  {
   "cell_type": "code",
   "execution_count": 39,
   "id": "4c747279-00e8-43e4-b4e2-8e461c9a231a",
   "metadata": {},
   "outputs": [],
   "source": [
    "y = 3.6"
   ]
  },
  {
   "cell_type": "code",
   "execution_count": 41,
   "id": "d806f209-5a30-4605-83e8-fde205ee0abb",
   "metadata": {},
   "outputs": [
    {
     "data": {
      "text/plain": [
       "float"
      ]
     },
     "execution_count": 41,
     "metadata": {},
     "output_type": "execute_result"
    }
   ],
   "source": [
    "type(y)"
   ]
  },
  {
   "cell_type": "markdown",
   "id": "eb0b0171-033d-4a9a-a3ec-8e1e4f42216f",
   "metadata": {},
   "source": [
    "Multiple Pairwise Assignment"
   ]
  },
  {
   "cell_type": "code",
   "execution_count": 42,
   "id": "36cf9fb8-6014-412f-8c97-14c5f4e73b63",
   "metadata": {},
   "outputs": [],
   "source": [
    "a = b = c = 10"
   ]
  },
  {
   "cell_type": "code",
   "execution_count": 43,
   "id": "e0b80386-6509-4160-a529-8a20d9e3ed99",
   "metadata": {},
   "outputs": [],
   "source": [
    "x, y, z = 1, 2.5, 3"
   ]
  },
  {
   "cell_type": "markdown",
   "id": "60696911-cab7-45ba-8ed6-3c4ce3389aec",
   "metadata": {},
   "source": [
    "Deleting a Name"
   ]
  },
  {
   "cell_type": "code",
   "execution_count": 45,
   "id": "148ee2e5-0a47-48f6-9123-73117b29fddc",
   "metadata": {},
   "outputs": [],
   "source": [
    "del x"
   ]
  },
  {
   "cell_type": "code",
   "execution_count": 46,
   "id": "90fc2163-1370-4969-95a8-2a2b11d5107a",
   "metadata": {},
   "outputs": [],
   "source": [
    "del y\n",
    "z = 10"
   ]
  },
  {
   "cell_type": "code",
   "execution_count": 47,
   "id": "3d59b1c5-7318-4398-a146-225c0deb0106",
   "metadata": {},
   "outputs": [],
   "source": [
    "del a,b,c"
   ]
  },
  {
   "cell_type": "markdown",
   "id": "c3aed7b2-cda1-4735-92e5-dbff09f26635",
   "metadata": {},
   "source": [
    "Naming Convention For Constants"
   ]
  },
  {
   "cell_type": "code",
   "execution_count": 48,
   "id": "9f38929a-a0e0-4391-93f6-ea6fc7610df4",
   "metadata": {},
   "outputs": [],
   "source": [
    "PI = 3.14159\n",
    "MAXIMUM_SIZE = 100\n",
    "RATE_OF_INTEREST = 5"
   ]
  },
  {
   "cell_type": "markdown",
   "id": "2116f556-f8ee-4257-8cff-5a0d961829ad",
   "metadata": {},
   "source": [
    "Operator - Arithimetic "
   ]
  },
  {
   "cell_type": "code",
   "execution_count": 49,
   "id": "4339ac01-0194-48a8-a006-fcdefb5f93ee",
   "metadata": {},
   "outputs": [
    {
     "data": {
      "text/plain": [
       "5.2"
      ]
     },
     "execution_count": 49,
     "metadata": {},
     "output_type": "execute_result"
    }
   ],
   "source": [
    "1.2 + 4"
   ]
  },
  {
   "cell_type": "code",
   "execution_count": 50,
   "id": "4ace2431-349a-4be8-9056-b4019cc9a240",
   "metadata": {},
   "outputs": [
    {
     "data": {
      "text/plain": [
       "9"
      ]
     },
     "execution_count": 50,
     "metadata": {},
     "output_type": "execute_result"
    }
   ],
   "source": [
    "3 ** 2"
   ]
  },
  {
   "cell_type": "code",
   "execution_count": 51,
   "id": "7ad0a63f-e504-4c60-9b1c-a66f536c078a",
   "metadata": {},
   "outputs": [
    {
     "data": {
      "text/plain": [
       "4.0"
      ]
     },
     "execution_count": 51,
     "metadata": {},
     "output_type": "execute_result"
    }
   ],
   "source": [
    "16 ** 0.5"
   ]
  },
  {
   "cell_type": "code",
   "execution_count": 52,
   "id": "629b774e-b6fa-4d0d-a63d-ed0065c4144a",
   "metadata": {},
   "outputs": [
    {
     "data": {
      "text/plain": [
       "3.4"
      ]
     },
     "execution_count": 52,
     "metadata": {},
     "output_type": "execute_result"
    }
   ],
   "source": [
    "17 / 5"
   ]
  },
  {
   "cell_type": "code",
   "execution_count": 53,
   "id": "1324323a-1528-422c-842e-a83e9b3c008a",
   "metadata": {},
   "outputs": [
    {
     "data": {
      "text/plain": [
       "3"
      ]
     },
     "execution_count": 53,
     "metadata": {},
     "output_type": "execute_result"
    }
   ],
   "source": [
    "17 // 5"
   ]
  },
  {
   "cell_type": "code",
   "execution_count": 54,
   "id": "5e54c9fc-3bb7-4d10-ac2d-b933a0c294a5",
   "metadata": {},
   "outputs": [
    {
     "data": {
      "text/plain": [
       "2"
      ]
     },
     "execution_count": 54,
     "metadata": {},
     "output_type": "execute_result"
    }
   ],
   "source": [
    "17 % 5"
   ]
  },
  {
   "cell_type": "code",
   "execution_count": 55,
   "id": "937effd5-b0c2-49f4-901c-9c2ea595cab6",
   "metadata": {},
   "outputs": [
    {
     "data": {
      "text/plain": [
       "9"
      ]
     },
     "execution_count": 55,
     "metadata": {},
     "output_type": "execute_result"
    }
   ],
   "source": [
    "x = 4\n",
    "y = 5\n",
    "x + 5"
   ]
  },
  {
   "cell_type": "code",
   "execution_count": 56,
   "id": "ec682a3d-0fd1-4b87-b06c-dd5b103c7d4c",
   "metadata": {},
   "outputs": [
    {
     "data": {
      "text/plain": [
       "1024"
      ]
     },
     "execution_count": 56,
     "metadata": {},
     "output_type": "execute_result"
    }
   ],
   "source": [
    "x ** y"
   ]
  },
  {
   "cell_type": "code",
   "execution_count": 57,
   "id": "62d7bc9a-064e-4fa9-95ac-fac07a5ef241",
   "metadata": {},
   "outputs": [
    {
     "data": {
      "text/plain": [
       "0"
      ]
     },
     "execution_count": 57,
     "metadata": {},
     "output_type": "execute_result"
    }
   ],
   "source": [
    "x // y"
   ]
  },
  {
   "cell_type": "markdown",
   "id": "4cb70487-8c97-4a52-a5d3-c050092dfc6a",
   "metadata": {},
   "source": [
    "Operator - Relational"
   ]
  },
  {
   "cell_type": "code",
   "execution_count": 58,
   "id": "7fafcc9a-54f8-4826-90c8-a4288783399a",
   "metadata": {},
   "outputs": [
    {
     "data": {
      "text/plain": [
       "True"
      ]
     },
     "execution_count": 58,
     "metadata": {},
     "output_type": "execute_result"
    }
   ],
   "source": [
    "x = 3\n",
    "y = 4\n",
    "x < y"
   ]
  },
  {
   "cell_type": "code",
   "execution_count": 59,
   "id": "cd59d2f1-2f70-44a3-98eb-77c3f1ad789a",
   "metadata": {},
   "outputs": [
    {
     "data": {
      "text/plain": [
       "False"
      ]
     },
     "execution_count": 59,
     "metadata": {},
     "output_type": "execute_result"
    }
   ],
   "source": [
    "x == y"
   ]
  },
  {
   "cell_type": "code",
   "execution_count": 60,
   "id": "3661667c-1821-4721-8510-d9bcf85a1cfc",
   "metadata": {},
   "outputs": [
    {
     "data": {
      "text/plain": [
       "True"
      ]
     },
     "execution_count": 60,
     "metadata": {},
     "output_type": "execute_result"
    }
   ],
   "source": [
    "x != y"
   ]
  },
  {
   "cell_type": "code",
   "execution_count": 61,
   "id": "8ff69742-19ab-4355-b8d8-53afe8202108",
   "metadata": {},
   "outputs": [
    {
     "data": {
      "text/plain": [
       "False"
      ]
     },
     "execution_count": 61,
     "metadata": {},
     "output_type": "execute_result"
    }
   ],
   "source": [
    "x >= y"
   ]
  },
  {
   "cell_type": "markdown",
   "id": "df2a7372-4b1b-4eb8-9728-8f3d3953a692",
   "metadata": {},
   "source": [
    "Operator - Logical"
   ]
  },
  {
   "cell_type": "code",
   "execution_count": 62,
   "id": "8f3c8dee-52a1-46bc-9db4-77c5a0bbf949",
   "metadata": {},
   "outputs": [
    {
     "data": {
      "text/plain": [
       "True"
      ]
     },
     "execution_count": 62,
     "metadata": {},
     "output_type": "execute_result"
    }
   ],
   "source": [
    "x = 3\n",
    "y = 4\n",
    "x > 0 and x < 6"
   ]
  },
  {
   "cell_type": "code",
   "execution_count": 63,
   "id": "daae130f-f873-47eb-b645-b579b0fdee51",
   "metadata": {},
   "outputs": [
    {
     "data": {
      "text/plain": [
       "True"
      ]
     },
     "execution_count": 63,
     "metadata": {},
     "output_type": "execute_result"
    }
   ],
   "source": [
    "x == 3 and y < 6"
   ]
  },
  {
   "cell_type": "code",
   "execution_count": 64,
   "id": "86ac08e7-bede-4930-a1fe-992679a52b87",
   "metadata": {},
   "outputs": [
    {
     "data": {
      "text/plain": [
       "False"
      ]
     },
     "execution_count": 64,
     "metadata": {},
     "output_type": "execute_result"
    }
   ],
   "source": [
    "x > 10 and y < 6"
   ]
  },
  {
   "cell_type": "code",
   "execution_count": 65,
   "id": "f516d901-1ebc-4ba9-bacf-f20cae77c293",
   "metadata": {},
   "outputs": [
    {
     "data": {
      "text/plain": [
       "True"
      ]
     },
     "execution_count": 65,
     "metadata": {},
     "output_type": "execute_result"
    }
   ],
   "source": [
    "x > 10 or y < 6"
   ]
  },
  {
   "cell_type": "code",
   "execution_count": 66,
   "id": "6a191167-2e42-4f1b-bf80-84d7ef7712a2",
   "metadata": {},
   "outputs": [
    {
     "data": {
      "text/plain": [
       "True"
      ]
     },
     "execution_count": 66,
     "metadata": {},
     "output_type": "execute_result"
    }
   ],
   "source": [
    "1 < x < 8"
   ]
  },
  {
   "cell_type": "markdown",
   "id": "0f4bf1d6-d7f1-4572-a940-79f4db3079dc",
   "metadata": {},
   "source": [
    "Operator - Identity"
   ]
  },
  {
   "cell_type": "code",
   "execution_count": 68,
   "id": "2648d565-3827-434a-a78c-dbba5e95eb13",
   "metadata": {},
   "outputs": [
    {
     "data": {
      "text/plain": [
       "False"
      ]
     },
     "execution_count": 68,
     "metadata": {},
     "output_type": "execute_result"
    }
   ],
   "source": [
    "a = 123456789\n",
    "b = 123456789\n",
    "c = a\n",
    "a is b"
   ]
  },
  {
   "cell_type": "code",
   "execution_count": 69,
   "id": "bca6835c-78ff-41a8-bd85-a2143ef38475",
   "metadata": {},
   "outputs": [
    {
     "data": {
      "text/plain": [
       "True"
      ]
     },
     "execution_count": 69,
     "metadata": {},
     "output_type": "execute_result"
    }
   ],
   "source": [
    "a is c"
   ]
  },
  {
   "cell_type": "code",
   "execution_count": 70,
   "id": "c1308c13-5d9d-4931-b991-de2b13ad74dd",
   "metadata": {},
   "outputs": [
    {
     "data": {
      "text/plain": [
       "2212587269008"
      ]
     },
     "execution_count": 70,
     "metadata": {},
     "output_type": "execute_result"
    }
   ],
   "source": [
    "id(a)"
   ]
  },
  {
   "cell_type": "code",
   "execution_count": 71,
   "id": "f8ab2ea4-201e-4660-af4a-aa26fdd64ac5",
   "metadata": {},
   "outputs": [
    {
     "data": {
      "text/plain": [
       "2212587269520"
      ]
     },
     "execution_count": 71,
     "metadata": {},
     "output_type": "execute_result"
    }
   ],
   "source": [
    "id(b)"
   ]
  },
  {
   "cell_type": "code",
   "execution_count": 72,
   "id": "5181d2e0-5556-46b2-9840-041b2b07b6c0",
   "metadata": {},
   "outputs": [
    {
     "data": {
      "text/plain": [
       "2212587269008"
      ]
     },
     "execution_count": 72,
     "metadata": {},
     "output_type": "execute_result"
    }
   ],
   "source": [
    "id(c)"
   ]
  },
  {
   "cell_type": "code",
   "execution_count": 73,
   "id": "46d5a13e-6033-45a2-bd80-86137cdf5ad3",
   "metadata": {},
   "outputs": [
    {
     "data": {
      "text/plain": [
       "True"
      ]
     },
     "execution_count": 73,
     "metadata": {},
     "output_type": "execute_result"
    }
   ],
   "source": [
    "a is not b"
   ]
  },
  {
   "cell_type": "code",
   "execution_count": 74,
   "id": "a7dace4b-dcff-495e-80d5-f3bd72693af4",
   "metadata": {},
   "outputs": [
    {
     "data": {
      "text/plain": [
       "True"
      ]
     },
     "execution_count": 74,
     "metadata": {},
     "output_type": "execute_result"
    }
   ],
   "source": [
    "a == b"
   ]
  },
  {
   "cell_type": "code",
   "execution_count": 75,
   "id": "d1517021-234f-4a17-9e71-3ae069ce6bbc",
   "metadata": {},
   "outputs": [
    {
     "data": {
      "text/plain": [
       "True"
      ]
     },
     "execution_count": 75,
     "metadata": {},
     "output_type": "execute_result"
    }
   ],
   "source": [
    "a = None\n",
    "a is None"
   ]
  },
  {
   "cell_type": "code",
   "execution_count": 76,
   "id": "ab6b2fa6-85f0-481f-9cb2-bb5d8915fb6f",
   "metadata": {},
   "outputs": [
    {
     "data": {
      "text/plain": [
       "True"
      ]
     },
     "execution_count": 76,
     "metadata": {},
     "output_type": "execute_result"
    }
   ],
   "source": [
    "c = 2\n",
    "d = 2\n",
    "c is d"
   ]
  },
  {
   "cell_type": "code",
   "execution_count": 77,
   "id": "73472b46-1b65-49ab-b5e2-1953b441ba02",
   "metadata": {},
   "outputs": [
    {
     "data": {
      "text/plain": [
       "False"
      ]
     },
     "execution_count": 77,
     "metadata": {},
     "output_type": "execute_result"
    }
   ],
   "source": [
    "e = 1.5\n",
    "f = 1.5\n",
    "e is f"
   ]
  },
  {
   "cell_type": "code",
   "execution_count": 78,
   "id": "18413db4-598d-4d95-814b-3cfbc6a7ab36",
   "metadata": {},
   "outputs": [
    {
     "data": {
      "text/plain": [
       "True"
      ]
     },
     "execution_count": 78,
     "metadata": {},
     "output_type": "execute_result"
    }
   ],
   "source": [
    "g = 'cat'\n",
    "h = 'cat'\n",
    "g is h"
   ]
  },
  {
   "cell_type": "markdown",
   "id": "f489ff89-5dfe-42a1-8c2e-a3af45a40347",
   "metadata": {},
   "source": [
    "Operator - Membership"
   ]
  },
  {
   "cell_type": "code",
   "execution_count": null,
   "id": "1dd6634d-dab7-4e00-8c28-d65a71281856",
   "metadata": {},
   "outputs": [],
   "source": [
    "in or not in"
   ]
  },
  {
   "cell_type": "markdown",
   "id": "9b4cfde3-2871-44b2-b430-08b302f1ce96",
   "metadata": {},
   "source": [
    "Operator - Bitwise Augmented Assignment"
   ]
  },
  {
   "cell_type": "code",
   "execution_count": 84,
   "id": "4c0adbfb-c192-4cea-bfe6-c1437d1ea362",
   "metadata": {},
   "outputs": [],
   "source": [
    "count = 100\n",
    "salary = 200\n",
    "marks_in_maths = 300\n",
    "grace_marks = 400\n",
    "price_pencil = 500\n",
    "\n",
    "count = count + 1\n",
    "salary = salary - 1000\n",
    "marks_in_maths = marks_in_maths + grace_marks\n",
    "price_pencil = price_pencil // 2"
   ]
  },
  {
   "cell_type": "code",
   "execution_count": 85,
   "id": "200eaf21-dc73-45fe-9086-9f33af9e87cb",
   "metadata": {},
   "outputs": [],
   "source": [
    "count += 1\n",
    "salary -= 1000\n",
    "marks_in_maths += grace_marks\n",
    "price_pencil //= 2"
   ]
  },
  {
   "cell_type": "markdown",
   "id": "62a896c1-a45d-4bfc-909a-42d0bbe75b74",
   "metadata": {},
   "source": [
    "Operator - Expression"
   ]
  },
  {
   "cell_type": "code",
   "execution_count": 86,
   "id": "6d226946-6d19-44ca-a365-2e66bfd88710",
   "metadata": {},
   "outputs": [],
   "source": [
    "z = x + y * 3"
   ]
  },
  {
   "cell_type": "code",
   "execution_count": 87,
   "id": "081ca010-6653-4852-a748-2e4f4c504a12",
   "metadata": {},
   "outputs": [
    {
     "name": "stdout",
     "output_type": "stream",
     "text": [
      "Operator precedence\n",
      "*******************\n",
      "\n",
      "The following table summarizes the operator precedence in Python, from\n",
      "highest precedence (most binding) to lowest precedence (least\n",
      "binding).  Operators in the same box have the same precedence.  Unless\n",
      "the syntax is explicitly given, operators are binary.  Operators in\n",
      "the same box group left to right (except for exponentiation and\n",
      "conditional expressions, which group from right to left).\n",
      "\n",
      "Note that comparisons, membership tests, and identity tests, all have\n",
      "the same precedence and have a left-to-right chaining feature as\n",
      "described in the Comparisons section.\n",
      "\n",
      "+-------------------------------------------------+---------------------------------------+\n",
      "| Operator                                        | Description                           |\n",
      "|=================================================|=======================================|\n",
      "| \"(expressions...)\",  \"[expressions...]\", \"{key: | Binding or parenthesized expression,  |\n",
      "| value...}\", \"{expressions...}\"                  | list display, dictionary display, set |\n",
      "|                                                 | display                               |\n",
      "+-------------------------------------------------+---------------------------------------+\n",
      "| \"x[index]\", \"x[index:index]\",                   | Subscription, slicing, call,          |\n",
      "| \"x(arguments...)\", \"x.attribute\"                | attribute reference                   |\n",
      "+-------------------------------------------------+---------------------------------------+\n",
      "| \"await x\"                                       | Await expression                      |\n",
      "+-------------------------------------------------+---------------------------------------+\n",
      "| \"**\"                                            | Exponentiation [5]                    |\n",
      "+-------------------------------------------------+---------------------------------------+\n",
      "| \"+x\", \"-x\", \"~x\"                                | Positive, negative, bitwise NOT       |\n",
      "+-------------------------------------------------+---------------------------------------+\n",
      "| \"*\", \"@\", \"/\", \"//\", \"%\"                        | Multiplication, matrix                |\n",
      "|                                                 | multiplication, division, floor       |\n",
      "|                                                 | division, remainder [6]               |\n",
      "+-------------------------------------------------+---------------------------------------+\n",
      "| \"+\", \"-\"                                        | Addition and subtraction              |\n",
      "+-------------------------------------------------+---------------------------------------+\n",
      "| \"<<\", \">>\"                                      | Shifts                                |\n",
      "+-------------------------------------------------+---------------------------------------+\n",
      "| \"&\"                                             | Bitwise AND                           |\n",
      "+-------------------------------------------------+---------------------------------------+\n",
      "| \"^\"                                             | Bitwise XOR                           |\n",
      "+-------------------------------------------------+---------------------------------------+\n",
      "| \"|\"                                             | Bitwise OR                            |\n",
      "+-------------------------------------------------+---------------------------------------+\n",
      "| \"in\", \"not in\", \"is\", \"is not\", \"<\", \"<=\", \">\", | Comparisons, including membership     |\n",
      "| \">=\", \"!=\", \"==\"                                | tests and identity tests              |\n",
      "+-------------------------------------------------+---------------------------------------+\n",
      "| \"not x\"                                         | Boolean NOT                           |\n",
      "+-------------------------------------------------+---------------------------------------+\n",
      "| \"and\"                                           | Boolean AND                           |\n",
      "+-------------------------------------------------+---------------------------------------+\n",
      "| \"or\"                                            | Boolean OR                            |\n",
      "+-------------------------------------------------+---------------------------------------+\n",
      "| \"if\" – \"else\"                                   | Conditional expression                |\n",
      "+-------------------------------------------------+---------------------------------------+\n",
      "| \"lambda\"                                        | Lambda expression                     |\n",
      "+-------------------------------------------------+---------------------------------------+\n",
      "| \":=\"                                            | Assignment expression                 |\n",
      "+-------------------------------------------------+---------------------------------------+\n",
      "\n",
      "-[ Footnotes ]-\n",
      "\n",
      "[1] While \"abs(x%y) < abs(y)\" is true mathematically, for floats it\n",
      "    may not be true numerically due to roundoff.  For example, and\n",
      "    assuming a platform on which a Python float is an IEEE 754 double-\n",
      "    precision number, in order that \"-1e-100 % 1e100\" have the same\n",
      "    sign as \"1e100\", the computed result is \"-1e-100 + 1e100\", which\n",
      "    is numerically exactly equal to \"1e100\".  The function\n",
      "    \"math.fmod()\" returns a result whose sign matches the sign of the\n",
      "    first argument instead, and so returns \"-1e-100\" in this case.\n",
      "    Which approach is more appropriate depends on the application.\n",
      "\n",
      "[2] If x is very close to an exact integer multiple of y, it’s\n",
      "    possible for \"x//y\" to be one larger than \"(x-x%y)//y\" due to\n",
      "    rounding.  In such cases, Python returns the latter result, in\n",
      "    order to preserve that \"divmod(x,y)[0] * y + x % y\" be very close\n",
      "    to \"x\".\n",
      "\n",
      "[3] The Unicode standard distinguishes between *code points* (e.g.\n",
      "    U+0041) and *abstract characters* (e.g. “LATIN CAPITAL LETTER A”).\n",
      "    While most abstract characters in Unicode are only represented\n",
      "    using one code point, there is a number of abstract characters\n",
      "    that can in addition be represented using a sequence of more than\n",
      "    one code point.  For example, the abstract character “LATIN\n",
      "    CAPITAL LETTER C WITH CEDILLA” can be represented as a single\n",
      "    *precomposed character* at code position U+00C7, or as a sequence\n",
      "    of a *base character* at code position U+0043 (LATIN CAPITAL\n",
      "    LETTER C), followed by a *combining character* at code position\n",
      "    U+0327 (COMBINING CEDILLA).\n",
      "\n",
      "    The comparison operators on strings compare at the level of\n",
      "    Unicode code points. This may be counter-intuitive to humans.  For\n",
      "    example, \"\"\\u00C7\" == \"\\u0043\\u0327\"\" is \"False\", even though both\n",
      "    strings represent the same abstract character “LATIN CAPITAL\n",
      "    LETTER C WITH CEDILLA”.\n",
      "\n",
      "    To compare strings at the level of abstract characters (that is,\n",
      "    in a way intuitive to humans), use \"unicodedata.normalize()\".\n",
      "\n",
      "[4] Due to automatic garbage-collection, free lists, and the dynamic\n",
      "    nature of descriptors, you may notice seemingly unusual behaviour\n",
      "    in certain uses of the \"is\" operator, like those involving\n",
      "    comparisons between instance methods, or constants.  Check their\n",
      "    documentation for more info.\n",
      "\n",
      "[5] The power operator \"**\" binds less tightly than an arithmetic or\n",
      "    bitwise unary operator on its right, that is, \"2**-1\" is \"0.5\".\n",
      "\n",
      "[6] The \"%\" operator is also used for string formatting; the same\n",
      "    precedence applies.\n",
      "\n",
      "Related help topics: lambda, or, and, not, in, is, BOOLEAN, COMPARISON,\n",
      "BITWISE, SHIFTING, BINARY, FORMATTING, POWER, UNARY, ATTRIBUTES,\n",
      "SUBSCRIPTS, SLICINGS, CALLS, TUPLES, LISTS, DICTIONARIES\n",
      "\n"
     ]
    }
   ],
   "source": [
    "help('PRECEDENCE')"
   ]
  },
  {
   "cell_type": "code",
   "execution_count": 89,
   "id": "b2067e2a-c1d1-4a26-aedb-b22c1367f524",
   "metadata": {},
   "outputs": [],
   "source": [
    "#x + y**2 - a/b\n",
    "#a+b < c+d"
   ]
  },
  {
   "cell_type": "markdown",
   "id": "e9aa29bd-ef97-4888-9b73-13729de9e5e1",
   "metadata": {},
   "source": [
    "Type Conversion"
   ]
  },
  {
   "cell_type": "code",
   "execution_count": 90,
   "id": "bfd0f911-f3bd-43fd-b7a3-a6f54431ab04",
   "metadata": {},
   "outputs": [
    {
     "data": {
      "text/plain": [
       "12"
      ]
     },
     "execution_count": 90,
     "metadata": {},
     "output_type": "execute_result"
    }
   ],
   "source": [
    "int(12.3)"
   ]
  },
  {
   "cell_type": "code",
   "execution_count": 91,
   "id": "050ed374-a5d8-4a08-8b84-1267df7fa25f",
   "metadata": {},
   "outputs": [
    {
     "data": {
      "text/plain": [
       "100"
      ]
     },
     "execution_count": 91,
     "metadata": {},
     "output_type": "execute_result"
    }
   ],
   "source": [
    "int('100')"
   ]
  },
  {
   "cell_type": "code",
   "execution_count": 92,
   "id": "846dccb9-3479-4c08-8c5e-f7b5417c0ea9",
   "metadata": {},
   "outputs": [
    {
     "data": {
      "text/plain": [
       "1"
      ]
     },
     "execution_count": 92,
     "metadata": {},
     "output_type": "execute_result"
    }
   ],
   "source": [
    "int(True)"
   ]
  },
  {
   "cell_type": "code",
   "execution_count": 93,
   "id": "fdf6ef33-85a0-4d27-a3cc-2b5dc642acf1",
   "metadata": {},
   "outputs": [
    {
     "data": {
      "text/plain": [
       "0"
      ]
     },
     "execution_count": 93,
     "metadata": {},
     "output_type": "execute_result"
    }
   ],
   "source": [
    "int(False)"
   ]
  },
  {
   "cell_type": "code",
   "execution_count": 94,
   "id": "249a0624-7bd5-4047-a6e0-481c552cf319",
   "metadata": {},
   "outputs": [
    {
     "ename": "ValueError",
     "evalue": "invalid literal for int() with base 10: 'two'",
     "output_type": "error",
     "traceback": [
      "\u001b[1;31m---------------------------------------------------------------------------\u001b[0m",
      "\u001b[1;31mValueError\u001b[0m                                Traceback (most recent call last)",
      "Cell \u001b[1;32mIn[94], line 1\u001b[0m\n\u001b[1;32m----> 1\u001b[0m \u001b[38;5;28mint\u001b[39m(\u001b[38;5;124m'\u001b[39m\u001b[38;5;124mtwo\u001b[39m\u001b[38;5;124m'\u001b[39m)\n",
      "\u001b[1;31mValueError\u001b[0m: invalid literal for int() with base 10: 'two'"
     ]
    }
   ],
   "source": [
    "int('two')"
   ]
  },
  {
   "cell_type": "code",
   "execution_count": 95,
   "id": "1430edad-e9ed-4427-905c-d23141d611dc",
   "metadata": {},
   "outputs": [
    {
     "data": {
      "text/plain": [
       "255"
      ]
     },
     "execution_count": 95,
     "metadata": {},
     "output_type": "execute_result"
    }
   ],
   "source": [
    "int('FF', 16)"
   ]
  },
  {
   "cell_type": "code",
   "execution_count": 96,
   "id": "cd5f4e4d-9c0c-4731-8753-525ae5530d8a",
   "metadata": {},
   "outputs": [
    {
     "data": {
      "text/plain": [
       "10"
      ]
     },
     "execution_count": 96,
     "metadata": {},
     "output_type": "execute_result"
    }
   ],
   "source": [
    "int('1010', 2)"
   ]
  },
  {
   "cell_type": "code",
   "execution_count": 97,
   "id": "8e176ba8-5992-4ea2-b8a7-0a9933260ee7",
   "metadata": {},
   "outputs": [
    {
     "data": {
      "text/plain": [
       "'100'"
      ]
     },
     "execution_count": 97,
     "metadata": {},
     "output_type": "execute_result"
    }
   ],
   "source": [
    "str(100)"
   ]
  },
  {
   "cell_type": "code",
   "execution_count": 98,
   "id": "058cb9a8-c4c6-4443-a422-ffc323dbe073",
   "metadata": {},
   "outputs": [
    {
     "data": {
      "text/plain": [
       "'3.6'"
      ]
     },
     "execution_count": 98,
     "metadata": {},
     "output_type": "execute_result"
    }
   ],
   "source": [
    "str(3.6)"
   ]
  },
  {
   "cell_type": "code",
   "execution_count": 99,
   "id": "3d75988e-bfcf-43a8-96a7-a6e6c3f81777",
   "metadata": {},
   "outputs": [
    {
     "data": {
      "text/plain": [
       "3.45"
      ]
     },
     "execution_count": 99,
     "metadata": {},
     "output_type": "execute_result"
    }
   ],
   "source": [
    "float('3.45')"
   ]
  },
  {
   "cell_type": "code",
   "execution_count": 100,
   "id": "ec078e50-6188-422a-bdc9-28cf132ee426",
   "metadata": {},
   "outputs": [
    {
     "data": {
      "text/plain": [
       "3.0"
      ]
     },
     "execution_count": 100,
     "metadata": {},
     "output_type": "execute_result"
    }
   ],
   "source": [
    "float(3)"
   ]
  },
  {
   "cell_type": "markdown",
   "id": "56189d8c-223b-432c-b8d6-ac404bb15641",
   "metadata": {},
   "source": [
    "Operator - Statements"
   ]
  },
  {
   "cell_type": "code",
   "execution_count": 102,
   "id": "b0992db3-1493-45a1-927c-0d340ded03b2",
   "metadata": {},
   "outputs": [],
   "source": [
    "marks_science = 10\n",
    "marks_maths = 20\n",
    "marks_english = 30\n",
    "marks_socials = 40\n",
    "grace_marks = 50\n",
    "\n",
    "total_marks = marks_science + marks_maths \\\n",
    " + marks_english + marks_socials \\\n",
    " + grace_marks"
   ]
  },
  {
   "cell_type": "code",
   "execution_count": 108,
   "id": "9ff92ffa-29df-4b38-b3aa-c215f2580e6c",
   "metadata": {},
   "outputs": [
    {
     "ename": "IndentationError",
     "evalue": "expected an indented block after 'if' statement on line 7 (3303841401.py, line 9)",
     "output_type": "error",
     "traceback": [
      "\u001b[1;36m  Cell \u001b[1;32mIn[108], line 9\u001b[1;36m\u001b[0m\n\u001b[1;33m    student = {'name': 'John',\u001b[0m\n\u001b[1;37m    ^\u001b[0m\n\u001b[1;31mIndentationError\u001b[0m\u001b[1;31m:\u001b[0m expected an indented block after 'if' statement on line 7\n"
     ]
    }
   ],
   "source": [
    "months = [\n",
    " 'January', 'February', 'March', 'April',\n",
    " 'May', 'June', 'July', 'August',\n",
    " 'September', 'October', 'November','December']\n",
    "\n",
    "\n",
    "if (is_leap==TRUE and month=='MARCH'\n",
    "and weekday=='SUNDAY'):\n",
    "student = {'name': 'John', 'gender': 'M', 'city': 'Paris', 'age': 21}"
   ]
  },
  {
   "cell_type": "code",
   "execution_count": 110,
   "id": "d7c68668-2ca6-4c54-81d2-9a40170b3a28",
   "metadata": {},
   "outputs": [
    {
     "name": "stdout",
     "output_type": "stream",
     "text": [
      "Age should be less than 80 and greater than 18\n"
     ]
    }
   ],
   "source": [
    "print('Age should be less than 80 and greater than 18')"
   ]
  },
  {
   "cell_type": "code",
   "execution_count": 111,
   "id": "518b9c30-edff-42a7-a21f-a7dea19948e0",
   "metadata": {},
   "outputs": [],
   "source": [
    "total_marks = ( marks_science + marks_maths\n",
    " + marks_english + marks_socials\n",
    " + grace_marks ) "
   ]
  },
  {
   "cell_type": "code",
   "execution_count": 112,
   "id": "baeb6fe8-f4fb-4478-8d17-73a1cb681da3",
   "metadata": {},
   "outputs": [],
   "source": [
    "a = 10; x = 5; y = a + x; z = a - y;"
   ]
  },
  {
   "cell_type": "markdown",
   "id": "c6904f5f-77f7-4fd8-9ed6-3ce35bae635b",
   "metadata": {},
   "source": [
    "Printing Output"
   ]
  },
  {
   "cell_type": "code",
   "execution_count": 113,
   "id": "ac3bf6d0-9a61-4785-9921-b90e56936d03",
   "metadata": {},
   "outputs": [
    {
     "name": "stdout",
     "output_type": "stream",
     "text": [
      "Let us start programming\n",
      "23\n",
      "Devank\n",
      "10\n"
     ]
    }
   ],
   "source": [
    "print('Let us start programming')\n",
    "print(5 + 3*6)\n",
    "name = 'Devank'\n",
    "age = 10\n",
    "print(name)\n",
    "print(age)"
   ]
  },
  {
   "cell_type": "code",
   "execution_count": 114,
   "id": "cc4cd36b-d677-412d-a726-5c23f345b261",
   "metadata": {},
   "outputs": [
    {
     "name": "stdout",
     "output_type": "stream",
     "text": [
      "Devank 10\n",
      "Age = 10\n",
      "Five times six is 30\n",
      "My name is Devank I will be an adult after 8 years\n"
     ]
    }
   ],
   "source": [
    "name = 'Devank'\n",
    "age = 10\n",
    "print(name, age)\n",
    "print('Age =', age)\n",
    "print('Five times six is', 5 * 6)\n",
    "print('My name is', name, 'I will be an adult after', 18 - age, 'years')"
   ]
  },
  {
   "cell_type": "code",
   "execution_count": 115,
   "id": "09a9b65e-0a11-4737-a3d0-49a743dfa30b",
   "metadata": {},
   "outputs": [
    {
     "name": "stdout",
     "output_type": "stream",
     "text": [
      "9/11/1977\n",
      "9-11-1977\n",
      "9::11::1977\n",
      "9111977\n"
     ]
    }
   ],
   "source": [
    "day = 9\n",
    "month = 11\n",
    "year = 1977\n",
    "print(day, month, year, sep='/')\n",
    "print(day, month, year, sep='-')\n",
    "print(day, month, year, sep='::')\n",
    "print(day, month, year, sep='')"
   ]
  },
  {
   "cell_type": "code",
   "execution_count": 116,
   "id": "9fdf5871-8bc3-4207-9b2c-483c7708277c",
   "metadata": {},
   "outputs": [
    {
     "name": "stdout",
     "output_type": "stream",
     "text": [
      "Hello world---Python is easy Python is interesting!Programming is fun\n",
      "Good Bye\n"
     ]
    }
   ],
   "source": [
    "print('Hello world', end='---')\n",
    "print('Python is easy', end=' ')\n",
    "print('Python is interesting!', end='')\n",
    "print('Programming is fun')\n",
    "print('Good Bye')"
   ]
  },
  {
   "cell_type": "code",
   "execution_count": 117,
   "id": "05c9580f-a492-4dbc-8519-2a3bbcee436b",
   "metadata": {},
   "outputs": [
    {
     "name": "stdout",
     "output_type": "stream",
     "text": [
      "Let us start programming\n",
      "\n",
      "\n",
      "Python is interesting\n"
     ]
    }
   ],
   "source": [
    "print('Let us start programming')\n",
    "print()\n",
    "print()\n",
    "print('Python is interesting')"
   ]
  },
  {
   "cell_type": "markdown",
   "id": "5a92e005-db2a-4e8e-9ecc-4aec0c2b2088",
   "metadata": {},
   "source": [
    "Getting User Input"
   ]
  },
  {
   "cell_type": "code",
   "execution_count": null,
   "id": "cbfc87f8-e1ba-48b8-bcc9-47e2935823de",
   "metadata": {},
   "outputs": [],
   "source": [
    "city = input('Enter name of a city : ')\n",
    "print('You entered', city)"
   ]
  },
  {
   "cell_type": "code",
   "execution_count": null,
   "id": "f22f3b92-457e-4295-ac93-3cb898909e8a",
   "metadata": {},
   "outputs": [
    {
     "name": "stdout",
     "output_type": "stream",
     "text": [
      "Enter name of a city : "
     ]
    }
   ],
   "source": [
    "print('Enter name of a city : ', end='')\n",
    "city = input()\n",
    "print('You entered', city)"
   ]
  },
  {
   "cell_type": "code",
   "execution_count": null,
   "id": "c6559d39-5ff4-44ef-88c8-e454042809f2",
   "metadata": {},
   "outputs": [],
   "source": [
    "salary = input('Enter salary : ')\n",
    "print('Initial salary', salary)\n",
    "salary += 200\n",
    "print('Incremented salary', salary)"
   ]
  },
  {
   "cell_type": "code",
   "execution_count": null,
   "id": "50cadd28-95da-4a01-8f11-3e6b46487072",
   "metadata": {},
   "outputs": [],
   "source": [
    "salary = int(input('Enter salary : '))\n",
    "print('Initial salary', salary)\n",
    "salary += 200\n",
    "print('Incremented salary', salary)"
   ]
  },
  {
   "cell_type": "markdown",
   "id": "ff53ab5f-7c2b-4a64-b42b-2fe28c751bcf",
   "metadata": {},
   "source": [
    "Complete Programs"
   ]
  },
  {
   "cell_type": "code",
   "execution_count": null,
   "id": "f21e6688-c8a3-4893-afb1-18522f395c9f",
   "metadata": {},
   "outputs": [],
   "source": [
    "n1 = int(input('Enter first number : '))\n",
    "n2 = int(input('Enter second number : '))\n",
    "\n",
    "print('Sum =', n1 + n2)\n",
    "print('Difference =', n1 - n2)\n",
    "print('Product =', n1 * n2)"
   ]
  },
  {
   "cell_type": "code",
   "execution_count": null,
   "id": "6c2626a8-0758-4017-ae78-95842f848132",
   "metadata": {},
   "outputs": [],
   "source": [
    "ht_inches = int(input('Enter the height in inches :'))\n",
    "ft = ht_inches // 12\n",
    "inches = ht_inches % 12\n",
    "print(ft, 'feet', inches, 'inches')"
   ]
  },
  {
   "cell_type": "code",
   "execution_count": null,
   "id": "c81c81c5-2c5d-46d0-84ae-e99f5937ba57",
   "metadata": {},
   "outputs": [],
   "source": [
    "length = float(input('Enter length of rectangle in cm : '))\n",
    "breadth = float(input('Enter breadth of rectangle in cm : '))\n",
    "area = length * breadth\n",
    "perimeter = 2 * (length + breadth)\n",
    "diagonal = (length*length + breadth*breadth) ** 0.5\n",
    "print('Area of rectangle is ', area, 'sq cm')\n",
    "print('Perimeter of rectangle is ', perimeter,'cm')\n",
    "print('Diagonal of rectangle is ', diagonal, 'cm')"
   ]
  },
  {
   "cell_type": "code",
   "execution_count": null,
   "id": "736e61f6-6b73-44c4-ab45-2641719ff5e5",
   "metadata": {},
   "outputs": [],
   "source": [
    "principal = float(input('Enter the principal : '))\n",
    "time = int(input('Enter the time in years : '))\n",
    "rate = float(input('Enter the interest rate : '))\n",
    "simple_interest = (principal * time * rate) / 100\n",
    "print('Simple interest is ', simple_interest)\n",
    "compound_interest = principal * (1 + rate / 100) **\n",
    "time - principal\n",
    "print('Compound interest is ', compound_interest)"
   ]
  },
  {
   "cell_type": "code",
   "execution_count": null,
   "id": "7d82e9ac-f748-4ea1-9f59-4fc31c04afd7",
   "metadata": {},
   "outputs": [],
   "source": [
    "name = input('Enter name : ')\n",
    "marks_maths = int(input('Enter marks in maths : '))\n",
    "marks_physics = int(input('Enter marks in physics :'))\n",
    "marks_chemistry = int(input('Enter marks in chemistry : '))\n",
    "total_marks = marks_maths + marks_physics + marks_chemistry\n",
    "percentage = (total_marks/300) * 100\n",
    "print(name, percentage)"
   ]
  },
  {
   "cell_type": "markdown",
   "id": "8b9ae354-d3ac-477f-8614-415eef9feb04",
   "metadata": {},
   "source": [
    "Comments"
   ]
  },
  {
   "cell_type": "code",
   "execution_count": null,
   "id": "eb60436e-cd30-49b2-b58e-bd5a876cf8b6",
   "metadata": {},
   "outputs": [],
   "source": [
    "# this program sort a list by using quick sort technique\n",
    "def sort_quick(a):\n",
    "    sort(a, 0, len(a)-1)\n",
    "def sort(a, low, up):\n",
    "    if low >= up: # zero or one in sublist\n",
    "        return\n",
    "    p = partition(a, low, up)\n",
    "    sort(a, low, p-1)\n",
    "    sort(a, low, p+1)\n",
    "def partition (a, low, up):\n",
    "    pivot = a[low]\n",
    "    i = low+1\n",
    "    j = up\n",
    "    while i <= j:\n",
    "        while a[i] < pivot and i < up:\n",
    "            i+=1\n",
    "            while a[j] > pivot:\n",
    "                j-=1\n",
    "            if i < j:\n",
    "                temp = a[i]\n",
    "                a[i] = a[j]\n",
    "                a[j] = temp\n",
    "                i+=1\n",
    "                j-=1\n",
    "            else:\n",
    "            # proper place for pivot is j\n",
    "            a[low] = a[j]\n",
    "            a[j] = pivot\n",
    "            return j\n",
    "list1 = [6,3,1,5,9,8]\n",
    "quick_sort(list1)\n",
    "print(list1)"
   ]
  },
  {
   "cell_type": "markdown",
   "id": "3b645955-7d18-4ad6-910f-1c3f9b7d4e4b",
   "metadata": {},
   "source": [
    "Indentation in Python"
   ]
  },
  {
   "cell_type": "code",
   "execution_count": null,
   "id": "2e3dca81-f669-4dc2-890f-064d519aa6d3",
   "metadata": {},
   "outputs": [],
   "source": [
    "name = input('Enter name : ')\n",
    " age = int(input('Enter age : '))\n",
    "print(name, age)"
   ]
  },
  {
   "cell_type": "markdown",
   "id": "9dbb1034-b119-4596-aa20-0256f6593c3c",
   "metadata": {},
   "source": [
    "Container Type"
   ]
  },
  {
   "cell_type": "code",
   "execution_count": null,
   "id": "d9b559bb-722c-4d5e-bacc-24459bb5f3c9",
   "metadata": {},
   "outputs": [],
   "source": [
    "Lists (type list) [1, 2, 3, 4]\n",
    "Tuples (type tuple) (1, 2, 4, 5)\n",
    "Dictionaries (type dict) {'a': 1, 'b': 2, 'c': 3}\n",
    "Sets (type set) {2, 3, 4, 6, 8}"
   ]
  },
  {
   "cell_type": "markdown",
   "id": "c9ba87df-28cf-4bcb-98e6-2998db6168e3",
   "metadata": {},
   "source": [
    "Mutable and Immutable Objects"
   ]
  },
  {
   "cell_type": "code",
   "execution_count": null,
   "id": "c2d678fb-b5f8-49ed-a939-7f420ff3be62",
   "metadata": {},
   "outputs": [],
   "source": [
    "Immutable - bool int float str tuple frozenset\n",
    "Mutable - list set dict"
   ]
  },
  {
   "cell_type": "markdown",
   "id": "b6a0dcc4-6238-418f-9b38-5f6ca29d1bc3",
   "metadata": {},
   "source": [
    "Functions and Methods"
   ]
  },
  {
   "cell_type": "code",
   "execution_count": null,
   "id": "c9e50405-111f-4582-9e1f-3792cdea2c9a",
   "metadata": {},
   "outputs": [],
   "source": [
    "'hello'.upper()\n",
    "list1.append(10)"
   ]
  },
  {
   "cell_type": "code",
   "execution_count": null,
   "id": "9960f07b-1096-4f12-9425-c751c1e5eb38",
   "metadata": {},
   "outputs": [],
   "source": [
    "dir(list)"
   ]
  },
  {
   "cell_type": "code",
   "execution_count": null,
   "id": "61a35baf-1374-4265-a17d-730ebeef6450",
   "metadata": {},
   "outputs": [],
   "source": [
    "help(list.append)"
   ]
  },
  {
   "cell_type": "code",
   "execution_count": null,
   "id": "dce16eae-b02a-43fb-8ec2-2d31bb011373",
   "metadata": {},
   "outputs": [],
   "source": [
    "help(str.upper)"
   ]
  },
  {
   "cell_type": "markdown",
   "id": "807cae27-056e-4990-bb99-d42190cc6986",
   "metadata": {},
   "source": [
    "Importing "
   ]
  },
  {
   "cell_type": "code",
   "execution_count": 4,
   "id": "f5e613a0-b623-4ab1-a7ec-8bd022467e30",
   "metadata": {},
   "outputs": [],
   "source": [
    "from math import sqrt, trunc"
   ]
  },
  {
   "cell_type": "code",
   "execution_count": 5,
   "id": "c5176df5-d077-45d6-b7a5-2ea1cbfedd7e",
   "metadata": {},
   "outputs": [
    {
     "name": "stdout",
     "output_type": "stream",
     "text": [
      "5.830951894845301\n",
      "23\n"
     ]
    }
   ],
   "source": [
    "x = 34\n",
    "y = 23.4\n",
    "print(sqrt(34))\n",
    "print(trunc(23.4))"
   ]
  },
  {
   "cell_type": "code",
   "execution_count": 6,
   "id": "51aaa0b8-ec0b-4fa3-972e-7054f246d68a",
   "metadata": {},
   "outputs": [
    {
     "name": "stdout",
     "output_type": "stream",
     "text": [
      "5.830951894845301\n",
      "23\n"
     ]
    }
   ],
   "source": [
    "import math\n",
    "x = 34\n",
    "y = 23.4\n",
    "print(math.sqrt(34))\n",
    "print(math.trunc(23.4))"
   ]
  },
  {
   "cell_type": "code",
   "execution_count": 7,
   "id": "22f75b0e-bdd8-49b3-b711-7c9d252ef2b8",
   "metadata": {},
   "outputs": [
    {
     "name": "stdout",
     "output_type": "stream",
     "text": [
      "Help on built-in module math:\n",
      "\n",
      "NAME\n",
      "    math\n",
      "\n",
      "DESCRIPTION\n",
      "    This module provides access to the mathematical functions\n",
      "    defined by the C standard.\n",
      "\n",
      "FUNCTIONS\n",
      "    acos(x, /)\n",
      "        Return the arc cosine (measured in radians) of x.\n",
      "\n",
      "        The result is between 0 and pi.\n",
      "\n",
      "    acosh(x, /)\n",
      "        Return the inverse hyperbolic cosine of x.\n",
      "\n",
      "    asin(x, /)\n",
      "        Return the arc sine (measured in radians) of x.\n",
      "\n",
      "        The result is between -pi/2 and pi/2.\n",
      "\n",
      "    asinh(x, /)\n",
      "        Return the inverse hyperbolic sine of x.\n",
      "\n",
      "    atan(x, /)\n",
      "        Return the arc tangent (measured in radians) of x.\n",
      "\n",
      "        The result is between -pi/2 and pi/2.\n",
      "\n",
      "    atan2(y, x, /)\n",
      "        Return the arc tangent (measured in radians) of y/x.\n",
      "\n",
      "        Unlike atan(y/x), the signs of both x and y are considered.\n",
      "\n",
      "    atanh(x, /)\n",
      "        Return the inverse hyperbolic tangent of x.\n",
      "\n",
      "    cbrt(x, /)\n",
      "        Return the cube root of x.\n",
      "\n",
      "    ceil(x, /)\n",
      "        Return the ceiling of x as an Integral.\n",
      "\n",
      "        This is the smallest integer >= x.\n",
      "\n",
      "    comb(n, k, /)\n",
      "        Number of ways to choose k items from n items without repetition and without order.\n",
      "\n",
      "        Evaluates to n! / (k! * (n - k)!) when k <= n and evaluates\n",
      "        to zero when k > n.\n",
      "\n",
      "        Also called the binomial coefficient because it is equivalent\n",
      "        to the coefficient of k-th term in polynomial expansion of the\n",
      "        expression (1 + x)**n.\n",
      "\n",
      "        Raises TypeError if either of the arguments are not integers.\n",
      "        Raises ValueError if either of the arguments are negative.\n",
      "\n",
      "    copysign(x, y, /)\n",
      "        Return a float with the magnitude (absolute value) of x but the sign of y.\n",
      "\n",
      "        On platforms that support signed zeros, copysign(1.0, -0.0)\n",
      "        returns -1.0.\n",
      "\n",
      "    cos(x, /)\n",
      "        Return the cosine of x (measured in radians).\n",
      "\n",
      "    cosh(x, /)\n",
      "        Return the hyperbolic cosine of x.\n",
      "\n",
      "    degrees(x, /)\n",
      "        Convert angle x from radians to degrees.\n",
      "\n",
      "    dist(p, q, /)\n",
      "        Return the Euclidean distance between two points p and q.\n",
      "\n",
      "        The points should be specified as sequences (or iterables) of\n",
      "        coordinates.  Both inputs must have the same dimension.\n",
      "\n",
      "        Roughly equivalent to:\n",
      "            sqrt(sum((px - qx) ** 2.0 for px, qx in zip(p, q)))\n",
      "\n",
      "    erf(x, /)\n",
      "        Error function at x.\n",
      "\n",
      "    erfc(x, /)\n",
      "        Complementary error function at x.\n",
      "\n",
      "    exp(x, /)\n",
      "        Return e raised to the power of x.\n",
      "\n",
      "    exp2(x, /)\n",
      "        Return 2 raised to the power of x.\n",
      "\n",
      "    expm1(x, /)\n",
      "        Return exp(x)-1.\n",
      "\n",
      "        This function avoids the loss of precision involved in the direct evaluation of exp(x)-1 for small x.\n",
      "\n",
      "    fabs(x, /)\n",
      "        Return the absolute value of the float x.\n",
      "\n",
      "    factorial(n, /)\n",
      "        Find n!.\n",
      "\n",
      "        Raise a ValueError if x is negative or non-integral.\n",
      "\n",
      "    floor(x, /)\n",
      "        Return the floor of x as an Integral.\n",
      "\n",
      "        This is the largest integer <= x.\n",
      "\n",
      "    fmod(x, y, /)\n",
      "        Return fmod(x, y), according to platform C.\n",
      "\n",
      "        x % y may differ.\n",
      "\n",
      "    frexp(x, /)\n",
      "        Return the mantissa and exponent of x, as pair (m, e).\n",
      "\n",
      "        m is a float and e is an int, such that x = m * 2.**e.\n",
      "        If x is 0, m and e are both 0.  Else 0.5 <= abs(m) < 1.0.\n",
      "\n",
      "    fsum(seq, /)\n",
      "        Return an accurate floating-point sum of values in the iterable seq.\n",
      "\n",
      "        Assumes IEEE-754 floating-point arithmetic.\n",
      "\n",
      "    gamma(x, /)\n",
      "        Gamma function at x.\n",
      "\n",
      "    gcd(*integers)\n",
      "        Greatest Common Divisor.\n",
      "\n",
      "    hypot(...)\n",
      "        hypot(*coordinates) -> value\n",
      "\n",
      "        Multidimensional Euclidean distance from the origin to a point.\n",
      "\n",
      "        Roughly equivalent to:\n",
      "            sqrt(sum(x**2 for x in coordinates))\n",
      "\n",
      "        For a two dimensional point (x, y), gives the hypotenuse\n",
      "        using the Pythagorean theorem:  sqrt(x*x + y*y).\n",
      "\n",
      "        For example, the hypotenuse of a 3/4/5 right triangle is:\n",
      "\n",
      "            >>> hypot(3.0, 4.0)\n",
      "            5.0\n",
      "\n",
      "    isclose(a, b, *, rel_tol=1e-09, abs_tol=0.0)\n",
      "        Determine whether two floating-point numbers are close in value.\n",
      "\n",
      "          rel_tol\n",
      "            maximum difference for being considered \"close\", relative to the\n",
      "            magnitude of the input values\n",
      "          abs_tol\n",
      "            maximum difference for being considered \"close\", regardless of the\n",
      "            magnitude of the input values\n",
      "\n",
      "        Return True if a is close in value to b, and False otherwise.\n",
      "\n",
      "        For the values to be considered close, the difference between them\n",
      "        must be smaller than at least one of the tolerances.\n",
      "\n",
      "        -inf, inf and NaN behave similarly to the IEEE 754 Standard.  That\n",
      "        is, NaN is not close to anything, even itself.  inf and -inf are\n",
      "        only close to themselves.\n",
      "\n",
      "    isfinite(x, /)\n",
      "        Return True if x is neither an infinity nor a NaN, and False otherwise.\n",
      "\n",
      "    isinf(x, /)\n",
      "        Return True if x is a positive or negative infinity, and False otherwise.\n",
      "\n",
      "    isnan(x, /)\n",
      "        Return True if x is a NaN (not a number), and False otherwise.\n",
      "\n",
      "    isqrt(n, /)\n",
      "        Return the integer part of the square root of the input.\n",
      "\n",
      "    lcm(*integers)\n",
      "        Least Common Multiple.\n",
      "\n",
      "    ldexp(x, i, /)\n",
      "        Return x * (2**i).\n",
      "\n",
      "        This is essentially the inverse of frexp().\n",
      "\n",
      "    lgamma(x, /)\n",
      "        Natural logarithm of absolute value of Gamma function at x.\n",
      "\n",
      "    log(...)\n",
      "        log(x, [base=math.e])\n",
      "        Return the logarithm of x to the given base.\n",
      "\n",
      "        If the base is not specified, returns the natural logarithm (base e) of x.\n",
      "\n",
      "    log10(x, /)\n",
      "        Return the base 10 logarithm of x.\n",
      "\n",
      "    log1p(x, /)\n",
      "        Return the natural logarithm of 1+x (base e).\n",
      "\n",
      "        The result is computed in a way which is accurate for x near zero.\n",
      "\n",
      "    log2(x, /)\n",
      "        Return the base 2 logarithm of x.\n",
      "\n",
      "    modf(x, /)\n",
      "        Return the fractional and integer parts of x.\n",
      "\n",
      "        Both results carry the sign of x and are floats.\n",
      "\n",
      "    nextafter(x, y, /, *, steps=None)\n",
      "        Return the floating-point value the given number of steps after x towards y.\n",
      "\n",
      "        If steps is not specified or is None, it defaults to 1.\n",
      "\n",
      "        Raises a TypeError, if x or y is not a double, or if steps is not an integer.\n",
      "        Raises ValueError if steps is negative.\n",
      "\n",
      "    perm(n, k=None, /)\n",
      "        Number of ways to choose k items from n items without repetition and with order.\n",
      "\n",
      "        Evaluates to n! / (n - k)! when k <= n and evaluates\n",
      "        to zero when k > n.\n",
      "\n",
      "        If k is not specified or is None, then k defaults to n\n",
      "        and the function returns n!.\n",
      "\n",
      "        Raises TypeError if either of the arguments are not integers.\n",
      "        Raises ValueError if either of the arguments are negative.\n",
      "\n",
      "    pow(x, y, /)\n",
      "        Return x**y (x to the power of y).\n",
      "\n",
      "    prod(iterable, /, *, start=1)\n",
      "        Calculate the product of all the elements in the input iterable.\n",
      "\n",
      "        The default start value for the product is 1.\n",
      "\n",
      "        When the iterable is empty, return the start value.  This function is\n",
      "        intended specifically for use with numeric values and may reject\n",
      "        non-numeric types.\n",
      "\n",
      "    radians(x, /)\n",
      "        Convert angle x from degrees to radians.\n",
      "\n",
      "    remainder(x, y, /)\n",
      "        Difference between x and the closest integer multiple of y.\n",
      "\n",
      "        Return x - n*y where n*y is the closest integer multiple of y.\n",
      "        In the case where x is exactly halfway between two multiples of\n",
      "        y, the nearest even value of n is used. The result is always exact.\n",
      "\n",
      "    sin(x, /)\n",
      "        Return the sine of x (measured in radians).\n",
      "\n",
      "    sinh(x, /)\n",
      "        Return the hyperbolic sine of x.\n",
      "\n",
      "    sqrt(x, /)\n",
      "        Return the square root of x.\n",
      "\n",
      "    sumprod(p, q, /)\n",
      "        Return the sum of products of values from two iterables p and q.\n",
      "\n",
      "        Roughly equivalent to:\n",
      "\n",
      "            sum(itertools.starmap(operator.mul, zip(p, q, strict=True)))\n",
      "\n",
      "        For float and mixed int/float inputs, the intermediate products\n",
      "        and sums are computed with extended precision.\n",
      "\n",
      "    tan(x, /)\n",
      "        Return the tangent of x (measured in radians).\n",
      "\n",
      "    tanh(x, /)\n",
      "        Return the hyperbolic tangent of x.\n",
      "\n",
      "    trunc(x, /)\n",
      "        Truncates the Real x to the nearest Integral toward 0.\n",
      "\n",
      "        Uses the __trunc__ magic method.\n",
      "\n",
      "    ulp(x, /)\n",
      "        Return the value of the least significant bit of the float x.\n",
      "\n",
      "DATA\n",
      "    e = 2.718281828459045\n",
      "    inf = inf\n",
      "    nan = nan\n",
      "    pi = 3.141592653589793\n",
      "    tau = 6.283185307179586\n",
      "\n",
      "FILE\n",
      "    (built-in)\n",
      "\n",
      "\n"
     ]
    }
   ],
   "source": [
    "import math\n",
    "help(math)"
   ]
  },
  {
   "cell_type": "code",
   "execution_count": 8,
   "id": "6f673934-2963-425f-8faf-0ecb2aa6c770",
   "metadata": {},
   "outputs": [
    {
     "data": {
      "text/plain": [
       "['__doc__',\n",
       " '__loader__',\n",
       " '__name__',\n",
       " '__package__',\n",
       " '__spec__',\n",
       " 'acos',\n",
       " 'acosh',\n",
       " 'asin',\n",
       " 'asinh',\n",
       " 'atan',\n",
       " 'atan2',\n",
       " 'atanh',\n",
       " 'cbrt',\n",
       " 'ceil',\n",
       " 'comb',\n",
       " 'copysign',\n",
       " 'cos',\n",
       " 'cosh',\n",
       " 'degrees',\n",
       " 'dist',\n",
       " 'e',\n",
       " 'erf',\n",
       " 'erfc',\n",
       " 'exp',\n",
       " 'exp2',\n",
       " 'expm1',\n",
       " 'fabs',\n",
       " 'factorial',\n",
       " 'floor',\n",
       " 'fmod',\n",
       " 'frexp',\n",
       " 'fsum',\n",
       " 'gamma',\n",
       " 'gcd',\n",
       " 'hypot',\n",
       " 'inf',\n",
       " 'isclose',\n",
       " 'isfinite',\n",
       " 'isinf',\n",
       " 'isnan',\n",
       " 'isqrt',\n",
       " 'lcm',\n",
       " 'ldexp',\n",
       " 'lgamma',\n",
       " 'log',\n",
       " 'log10',\n",
       " 'log1p',\n",
       " 'log2',\n",
       " 'modf',\n",
       " 'nan',\n",
       " 'nextafter',\n",
       " 'perm',\n",
       " 'pi',\n",
       " 'pow',\n",
       " 'prod',\n",
       " 'radians',\n",
       " 'remainder',\n",
       " 'sin',\n",
       " 'sinh',\n",
       " 'sqrt',\n",
       " 'sumprod',\n",
       " 'tan',\n",
       " 'tanh',\n",
       " 'tau',\n",
       " 'trunc',\n",
       " 'ulp']"
      ]
     },
     "execution_count": 8,
     "metadata": {},
     "output_type": "execute_result"
    }
   ],
   "source": [
    "dir(math)"
   ]
  },
  {
   "cell_type": "code",
   "execution_count": 9,
   "id": "39095021-48e8-4905-8488-7d8492c635c4",
   "metadata": {},
   "outputs": [
    {
     "name": "stdout",
     "output_type": "stream",
     "text": [
      "Help on built-in function floor in module math:\n",
      "\n",
      "floor(x, /)\n",
      "    Return the floor of x as an Integral.\n",
      "\n",
      "    This is the largest integer <= x.\n",
      "\n"
     ]
    }
   ],
   "source": [
    "import math\n",
    "help(math.floor)"
   ]
  },
  {
   "cell_type": "code",
   "execution_count": 10,
   "id": "3edd7522-f438-4d8f-8a9a-9a4f0f18c003",
   "metadata": {},
   "outputs": [
    {
     "data": {
      "text/plain": [
       "10"
      ]
     },
     "execution_count": 10,
     "metadata": {},
     "output_type": "execute_result"
    }
   ],
   "source": [
    "a = 10\n",
    "a"
   ]
  },
  {
   "cell_type": "code",
   "execution_count": 11,
   "id": "1d35d8e2-eb90-4b4f-a2a9-6410117ce20a",
   "metadata": {},
   "outputs": [
    {
     "name": "stdout",
     "output_type": "stream",
     "text": [
      "10\n"
     ]
    }
   ],
   "source": [
    "print(a)"
   ]
  },
  {
   "cell_type": "code",
   "execution_count": 12,
   "id": "0d352ace-4304-4d8b-a70a-8ea289498b1f",
   "metadata": {},
   "outputs": [],
   "source": [
    "a = 5"
   ]
  },
  {
   "cell_type": "code",
   "execution_count": 13,
   "id": "a86bccb2-ee69-46f5-bad7-0d995260cef0",
   "metadata": {},
   "outputs": [
    {
     "data": {
      "text/plain": [
       "7"
      ]
     },
     "execution_count": 13,
     "metadata": {},
     "output_type": "execute_result"
    }
   ],
   "source": [
    "a + 2"
   ]
  },
  {
   "cell_type": "code",
   "execution_count": 14,
   "id": "b775f720-c838-4465-944a-7817ca264b3f",
   "metadata": {},
   "outputs": [
    {
     "data": {
      "text/plain": [
       "7"
      ]
     },
     "execution_count": 14,
     "metadata": {},
     "output_type": "execute_result"
    }
   ],
   "source": [
    "_"
   ]
  },
  {
   "cell_type": "code",
   "execution_count": 16,
   "id": "e266d485-9ce9-4117-8af9-e458a8e482ab",
   "metadata": {},
   "outputs": [
    {
     "data": {
      "text/plain": [
       "17"
      ]
     },
     "execution_count": 16,
     "metadata": {},
     "output_type": "execute_result"
    }
   ],
   "source": [
    "_ + 5"
   ]
  },
  {
   "cell_type": "code",
   "execution_count": null,
   "id": "1f5191ab-c99f-4c5f-9e77-d777e48aeeff",
   "metadata": {},
   "outputs": [],
   "source": [
    "total_marks = marks_science + marks_maths \\\n",
    "+ marks_english + marks_socials \\\n",
    "+ grace_marks"
   ]
  },
  {
   "cell_type": "code",
   "execution_count": null,
   "id": "77a9d9f6-e668-470e-b61c-9d38f13fc17e",
   "metadata": {},
   "outputs": [],
   "source": [
    "months = [ 'January', 'February', 'March',\n",
    "'April','May', 'June', 'July', 'August',\n",
    "'September', 'October', 'November','December']"
   ]
  },
  {
   "cell_type": "markdown",
   "id": "17a1fc0d-10f6-4712-9edb-58b998be54ca",
   "metadata": {},
   "source": [
    "PEP8"
   ]
  },
  {
   "cell_type": "code",
   "execution_count": null,
   "id": "0b54f733-676e-4b94-acd2-9afc604d0bf0",
   "metadata": {},
   "outputs": [],
   "source": [
    "Reference Link:\n",
    "https://peps.python.org/pep-0000/\n",
    "online at https://peps.python.org/pep-0008/"
   ]
  },
  {
   "cell_type": "code",
   "execution_count": null,
   "id": "7d1e2d7c-1799-47d0-8689-7e4afdf2521b",
   "metadata": {},
   "outputs": [],
   "source": []
  },
  {
   "cell_type": "code",
   "execution_count": null,
   "id": "20545676-4a21-4ad9-a3c3-2ff0bf3f8ee2",
   "metadata": {},
   "outputs": [],
   "source": []
  }
 ],
 "metadata": {
  "kernelspec": {
   "display_name": "Python 3 (ipykernel)",
   "language": "python",
   "name": "python3"
  },
  "language_info": {
   "codemirror_mode": {
    "name": "ipython",
    "version": 3
   },
   "file_extension": ".py",
   "mimetype": "text/x-python",
   "name": "python",
   "nbconvert_exporter": "python",
   "pygments_lexer": "ipython3",
   "version": "3.12.7"
  }
 },
 "nbformat": 4,
 "nbformat_minor": 5
}
