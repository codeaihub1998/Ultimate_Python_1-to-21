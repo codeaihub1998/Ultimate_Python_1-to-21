{
 "cells": [
  {
   "cell_type": "code",
   "execution_count": 1,
   "id": "7c81036e-2ffe-4b57-9536-2f251a9e8ca3",
   "metadata": {},
   "outputs": [
    {
     "data": {
      "text/plain": [
       "5"
      ]
     },
     "execution_count": 1,
     "metadata": {},
     "output_type": "execute_result"
    }
   ],
   "source": [
    "(lambda x, y: x + y)(2, 3)"
   ]
  },
  {
   "cell_type": "code",
   "execution_count": 2,
   "id": "358476e5-3b9f-4205-ae7e-d6363f2c502b",
   "metadata": {},
   "outputs": [],
   "source": [
    "add = lambda x, y: x + y"
   ]
  },
  {
   "cell_type": "code",
   "execution_count": 3,
   "id": "0abb86bd-24de-4919-901f-d2ca6e9e11b6",
   "metadata": {},
   "outputs": [
    {
     "data": {
      "text/plain": [
       "5"
      ]
     },
     "execution_count": 3,
     "metadata": {},
     "output_type": "execute_result"
    }
   ],
   "source": [
    "add(2, 3)"
   ]
  },
  {
   "cell_type": "code",
   "execution_count": null,
   "id": "d0317410-2847-4af1-b1c2-be9d6ce464ef",
   "metadata": {},
   "outputs": [],
   "source": [
    "func(5, 6, lambda x,y: x+y)"
   ]
  },
  {
   "cell_type": "code",
   "execution_count": null,
   "id": "1aae4200-52ef-4094-85c4-37e3ab94929f",
   "metadata": {},
   "outputs": [],
   "source": [
    "def add(x, y):\n",
    "return x + y\n",
    "type(add)"
   ]
  },
  {
   "cell_type": "code",
   "execution_count": null,
   "id": "fbe3c216-fde0-4c0a-b8d7-0c15cae70388",
   "metadata": {},
   "outputs": [],
   "source": [
    "add"
   ]
  },
  {
   "cell_type": "code",
   "execution_count": null,
   "id": "a6090997-f368-492b-8023-fe5438eeae6a",
   "metadata": {},
   "outputs": [],
   "source": [
    "lambda x, y: x + y"
   ]
  },
  {
   "cell_type": "code",
   "execution_count": null,
   "id": "92d7b33d-748a-4420-a15a-2d5b40418f50",
   "metadata": {},
   "outputs": [],
   "source": [
    "lambda n: n*n"
   ]
  },
  {
   "cell_type": "code",
   "execution_count": null,
   "id": "e89d6fd1-3e36-438f-b85f-3b31a441bee1",
   "metadata": {},
   "outputs": [],
   "source": [
    "type(lambda x, y: x + y)"
   ]
  },
  {
   "cell_type": "code",
   "execution_count": null,
   "id": "e67488d3-6227-46c7-bbc5-1887a5a584f0",
   "metadata": {},
   "outputs": [],
   "source": [
    "a = lambda x, y: x + y\n",
    "type(a)"
   ]
  },
  {
   "cell_type": "code",
   "execution_count": null,
   "id": "bde87a4c-c1f2-42f8-8b05-4dddfc9a867a",
   "metadata": {},
   "outputs": [],
   "source": [
    "a "
   ]
  },
  {
   "cell_type": "code",
   "execution_count": null,
   "id": "c8d14d19-efaa-46fe-b823-41eca0d5cd32",
   "metadata": {},
   "outputs": [],
   "source": [
    "a.__name__"
   ]
  },
  {
   "cell_type": "code",
   "execution_count": null,
   "id": "27ef9181-547e-4254-84f5-51835e4c8a30",
   "metadata": {},
   "outputs": [],
   "source": [
    "a(3, 4)"
   ]
  },
  {
   "cell_type": "code",
   "execution_count": null,
   "id": "6c085311-a07d-4c5a-b8cd-2f071598f46a",
   "metadata": {},
   "outputs": [],
   "source": [
    "lambda s: print('Hello', s)"
   ]
  },
  {
   "cell_type": "code",
   "execution_count": null,
   "id": "1dd1315a-b6f7-4e6d-a648-066ac80f3347",
   "metadata": {},
   "outputs": [],
   "source": [
    "(lambda s: print('Hello', s)) ('Sir')"
   ]
  },
  {
   "cell_type": "code",
   "execution_count": null,
   "id": "e1e7b5c6-d24f-4214-a68d-59c7bae14073",
   "metadata": {},
   "outputs": [],
   "source": [
    "(lambda x: 0 if x > 10 else 1)(15)"
   ]
  },
  {
   "cell_type": "code",
   "execution_count": null,
   "id": "ff2ddb13-305a-47af-9812-51ce0113f20f",
   "metadata": {},
   "outputs": [],
   "source": [
    "def max_min_avg(L):\n",
    " return max(L), min(L), sum(L)/len(L)\n",
    "marks = [92, 76, 98, 67, 88, 92, 89]\n",
    "maxmarks, minmarks, avgmarks = max_min_avg(marks)"
   ]
  },
  {
   "cell_type": "code",
   "execution_count": null,
   "id": "3ab30b01-3206-41c3-9040-68732a69ebe0",
   "metadata": {},
   "outputs": [],
   "source": [
    "lambda L: max(L), min(L), sum(L)/len(L)"
   ]
  },
  {
   "cell_type": "code",
   "execution_count": null,
   "id": "4c0fda91-b16c-49e1-9e52-13c441e630dd",
   "metadata": {},
   "outputs": [],
   "source": [
    "lambda L: (max(L), min(L), sum(L)/len(L))"
   ]
  },
  {
   "cell_type": "code",
   "execution_count": null,
   "id": "dd20ca97-1d44-4ebf-98d6-c0075d83fc0b",
   "metadata": {},
   "outputs": [],
   "source": [
    "lambda L: [max(L), min(L), sum(L)/len(L)]"
   ]
  },
  {
   "cell_type": "code",
   "execution_count": null,
   "id": "f72fd23d-774c-4f00-8d6e-94daef5b1f35",
   "metadata": {},
   "outputs": [],
   "source": [
    "x = 4\n",
    "lambda a: x ** a"
   ]
  },
  {
   "cell_type": "code",
   "execution_count": null,
   "id": "3bd5cf27-92ec-43cf-97b0-99631ba81fe7",
   "metadata": {},
   "outputs": [],
   "source": [
    "lambda a: x=5"
   ]
  },
  {
   "cell_type": "code",
   "execution_count": null,
   "id": "7194f381-d14f-4831-9c1d-d82b367709b4",
   "metadata": {},
   "outputs": [],
   "source": [
    "f = lambda x, y: [x*i for i in range(y)]\n",
    "f(4, 5)"
   ]
  },
  {
   "cell_type": "code",
   "execution_count": null,
   "id": "7e631c2f-ef40-4773-a6ab-8f865e3538c4",
   "metadata": {},
   "outputs": [],
   "source": [
    "def subtract(a, b):\n",
    " print(a - b)\n",
    "def add(a, b):\n",
    " print(a + b)\n",
    "def multiply(a, b):\n",
    " print(a * b)\n",
    "def divide(a, b):\n",
    " print(a // b)\n",
    "def calculate(a1, a2, fn):\n",
    " fn(a1, a2)\n",
    "calculate(2, 4, add)"
   ]
  },
  {
   "cell_type": "code",
   "execution_count": null,
   "id": "f511d962-6b34-4394-961e-b34c515dcc9e",
   "metadata": {},
   "outputs": [],
   "source": [
    "calculate(5,3, lambda x, y: print(x + y))"
   ]
  },
  {
   "cell_type": "code",
   "execution_count": null,
   "id": "72cf6c8a-d81b-4faa-b7af-eeae196bb01e",
   "metadata": {},
   "outputs": [],
   "source": [
    "calculate(5, 3, lambda x, y: print(2*x - y))"
   ]
  },
  {
   "cell_type": "code",
   "execution_count": null,
   "id": "9c30e917-c161-4e6c-9a97-1cd1ee63d56b",
   "metadata": {},
   "outputs": [],
   "source": [
    "def func(x, y):\n",
    " print(2*x - y)\n",
    "calculate(5, 3, func)"
   ]
  },
  {
   "cell_type": "code",
   "execution_count": null,
   "id": "f3f231e1-ef26-4c07-a38c-49ca1d77249f",
   "metadata": {},
   "outputs": [],
   "source": [
    "def func(x):\n",
    " if x < 0:\n",
    " def fn():\n",
    " print('Hello')\n",
    " elif x > 0:\n",
    " def fn():\n",
    " print('Hi')\n",
    " else:\n",
    " def fn():\n",
    " print('Hey')\n",
    " return fn\n",
    "f1 = func(6)\n",
    "f1()\n",
    "f2 = func(0)\n",
    "f2()"
   ]
  },
  {
   "cell_type": "code",
   "execution_count": null,
   "id": "5eb16684-3015-43fd-a2e7-98519b93727f",
   "metadata": {},
   "outputs": [],
   "source": [
    "def func(x):\n",
    " if x < 0:\n",
    " return lambda: print('Hello')\n",
    " elif x > 0:\n",
    " return lambda: print('Hi')\n",
    " else:\n",
    " return lambda: print('Hey')"
   ]
  },
  {
   "cell_type": "code",
   "execution_count": null,
   "id": "77744957-ff36-41c2-886c-a36731cfaef9",
   "metadata": {},
   "outputs": [],
   "source": [
    "def func(x, username):\n",
    " if x < 0:\n",
    " return lambda: print('Hello', username)\n",
    " elif x > 0:\n",
    " return lambda: print('Hi', username)\n",
    " else:\n",
    " return lambda: print('Hey', username)\n",
    "f1 = func(6, 'Sam')\n",
    "f1()\n",
    "f2 = func(0, 'Tim')\n",
    "f2()"
   ]
  },
  {
   "cell_type": "code",
   "execution_count": null,
   "id": "aa4a261e-c1da-442f-ada0-463013b41af8",
   "metadata": {},
   "outputs": [],
   "source": [
    "def func(symbol):\n",
    " return lambda message: print(message + symbol)\n",
    "exclaim = func('!!!!!')\n",
    "question = func('???')\n",
    "sentence = func('.')\n",
    "exclaim('OMG')\n",
    "question('What is this')\n",
    "sentence('Python is easy')\n",
    "exclaim('Really')"
   ]
  },
  {
   "cell_type": "code",
   "execution_count": null,
   "id": "7da6a2bc-8325-420d-9a37-f1052ddd89de",
   "metadata": {},
   "outputs": [],
   "source": [
    "L = [lambda s: s.strip().lower(),\n",
    "...  lambda s: s.strip().upper(),\n",
    "...  lambda s: s.lstrip().title(),\n",
    "...  lambda s: s[::-1].lower(),\n",
    "...  ]"
   ]
  },
  {
   "cell_type": "code",
   "execution_count": null,
   "id": "6c0905ae-11ed-4919-a9ed-0279f6e935c6",
   "metadata": {},
   "outputs": [],
   "source": [
    "L[1]('Python')"
   ]
  },
  {
   "cell_type": "code",
   "execution_count": null,
   "id": "1824b5a7-0cef-4685-a48f-8b7b4c618899",
   "metadata": {},
   "outputs": [],
   "source": [
    "L[3]('Python')"
   ]
  },
  {
   "cell_type": "code",
   "execution_count": null,
   "id": "f1acb736-116c-49f3-b4f4-0951172c2233",
   "metadata": {},
   "outputs": [],
   "source": [
    "d = {'add': lambda x, y: x + y,\n",
    "...  'subtract': lambda x, y: x - y,\n",
    "...  'multiply': lambda x, y: x * y,\n",
    "...  'divide': lambda x, y: x // y,\n",
    "...  'power': lambda x, y: x ** y,\n",
    "...  'double': lambda x: x * 2,\n",
    "...  'square': lambda x: x ** 2,\n",
    "...  'table': lambda x: [x * i for i in\n",
    "range(1, 11)],\n",
    ",'summation': lambda x: sum(range(1, x + 1)),}"
   ]
  },
  {
   "cell_type": "code",
   "execution_count": null,
   "id": "9ebe5628-9d40-46a1-9b43-dd953e79b05e",
   "metadata": {},
   "outputs": [],
   "source": [
    "d['summation'](4)"
   ]
  },
  {
   "cell_type": "code",
   "execution_count": null,
   "id": "f271760f-3253-419a-b14f-87412bfd6557",
   "metadata": {},
   "outputs": [],
   "source": [
    "d['power'](3,2)"
   ]
  },
  {
   "cell_type": "code",
   "execution_count": null,
   "id": "da0de810-71ad-439e-8bd9-f24204ae6758",
   "metadata": {},
   "outputs": [],
   "source": [
    "help(sorted)"
   ]
  },
  {
   "cell_type": "code",
   "execution_count": null,
   "id": "3e6e73e3-aa85-4a51-a0a9-a2cab1f47573",
   "metadata": {},
   "outputs": [],
   "source": [
    "L = ['elephant', 'bear', 'duck', 'fox', 'giraffe']\n",
    "sorted(L)"
   ]
  },
  {
   "cell_type": "code",
   "execution_count": null,
   "id": "bef1eb7c-33f9-4686-b44b-1b500a5a7c55",
   "metadata": {},
   "outputs": [],
   "source": [
    "L = ['elephant', 'bear', 'Duck', 'Fox', 'Giraffe']\n",
    "sorted(L)"
   ]
  },
  {
   "cell_type": "code",
   "execution_count": null,
   "id": "c5855536-8e78-49e4-ae94-598520c8fa67",
   "metadata": {},
   "outputs": [],
   "source": [
    "ord('D')"
   ]
  },
  {
   "cell_type": "code",
   "execution_count": null,
   "id": "a843c2b9-6c93-4c49-bfd4-1278cfdb5922",
   "metadata": {},
   "outputs": [],
   "source": [
    "ord('b')"
   ]
  },
  {
   "cell_type": "code",
   "execution_count": null,
   "id": "ee4c91bc-0575-48e1-8780-63bd8e737345",
   "metadata": {},
   "outputs": [],
   "source": [
    "L = ['elephant', 'bear', 'Duck', 'Fox', 'Giraffe']"
   ]
  },
  {
   "cell_type": "code",
   "execution_count": null,
   "id": "59a791e7-6f41-408d-bfa8-723bda538aa0",
   "metadata": {},
   "outputs": [],
   "source": [
    "sorted(L, key=len)"
   ]
  },
  {
   "cell_type": "code",
   "execution_count": null,
   "id": "c4b262b1-1ddc-4dab-a891-f39e4d3ccaa3",
   "metadata": {},
   "outputs": [],
   "source": [
    "L = ['elephant', 'bear', 'Duck', 'Fox', 'Giraffe']\n",
    "sorted(L)"
   ]
  },
  {
   "cell_type": "code",
   "execution_count": null,
   "id": "190c0ccc-a1e2-485f-8135-b90a60ebb8c9",
   "metadata": {},
   "outputs": [],
   "source": [
    "sorted(L, key=str.lower)"
   ]
  },
  {
   "cell_type": "code",
   "execution_count": null,
   "id": "bdd1a88c-ee3a-4a99-915d-5debabdb4f4f",
   "metadata": {},
   "outputs": [],
   "source": [
    "sorted(L, key=str.upper) "
   ]
  },
  {
   "cell_type": "code",
   "execution_count": null,
   "id": "9acf1f88-298f-456e-b3d6-b6761549fe79",
   "metadata": {},
   "outputs": [],
   "source": [
    "def rev(s):\n",
    " return s.lower()[::-1]\n",
    "sorted(L, key=rev)"
   ]
  },
  {
   "cell_type": "code",
   "execution_count": null,
   "id": "6eb57103-00ce-4f31-91b5-7771060ee75e",
   "metadata": {},
   "outputs": [],
   "source": [
    "sorted(L, key=lambda s: s.lower()[::-1])"
   ]
  },
  {
   "cell_type": "code",
   "execution_count": null,
   "id": "536e4143-d19d-413b-8830-7f6d82c17128",
   "metadata": {},
   "outputs": [],
   "source": [
    "employees = [ ('Rajendra', 'Kumar', 32, 6000),\n",
    "... ('Sam', 'Saxena', 43, 8000),\n",
    "... ('Shyamchandra', 'Verma', 23, 3000),\n",
    "... ('Sam', 'Gupta', 33, 7000),\n",
    "... ('Sam', 'Sung', 31, 5000)\n",
    "... ]"
   ]
  },
  {
   "cell_type": "code",
   "execution_count": null,
   "id": "9ff05247-8cce-46f8-8c59-b8bf4a9ee32f",
   "metadata": {},
   "outputs": [],
   "source": [
    "sorted(employees)"
   ]
  },
  {
   "cell_type": "code",
   "execution_count": null,
   "id": "a5bc0c30-37cc-467b-8db8-d0ed6292f7e4",
   "metadata": {},
   "outputs": [],
   "source": [
    "sorted(employees, key=lambda x: x[2])"
   ]
  },
  {
   "cell_type": "code",
   "execution_count": null,
   "id": "08b8c14b-dad0-4036-a974-ab7dc92a36c8",
   "metadata": {},
   "outputs": [],
   "source": [
    "sorted(employees, key=lambda x: len(x[0]) + len(x[1]))"
   ]
  },
  {
   "cell_type": "code",
   "execution_count": null,
   "id": "e83ba277-7f43-4511-b78e-b41d2dd3539c",
   "metadata": {},
   "outputs": [],
   "source": [
    "sorted(employees)"
   ]
  },
  {
   "cell_type": "code",
   "execution_count": null,
   "id": "c378d8e3-b1d3-43ea-8bc3-95e4e54d5152",
   "metadata": {},
   "outputs": [],
   "source": [
    "sorted(employees, key=lambda t: (t[0], t[2]))"
   ]
  },
  {
   "cell_type": "code",
   "execution_count": null,
   "id": "e2060881-389f-4b3d-853c-81672fde1340",
   "metadata": {},
   "outputs": [],
   "source": [
    "sorted(employees, key=lambda t: (t[0].upper(), t[2]))"
   ]
  },
  {
   "cell_type": "code",
   "execution_count": null,
   "id": "c35a4456-32f8-46df-86fa-55416a8a010a",
   "metadata": {},
   "outputs": [],
   "source": [
    "employees.sort(key=lambda x: x[1])\n",
    "employees"
   ]
  },
  {
   "cell_type": "code",
   "execution_count": null,
   "id": "a20aa93d-9f61-4ecc-8ab3-f2f7426a743a",
   "metadata": {},
   "outputs": [],
   "source": [
    "employees = [ ('Rajendra', 'Kumar', 32, 6000),\n",
    "... ('Sam', 'Saxena', 43, 8000),\n",
    "... ('Shyamchandra', 'Verma', 23, 3000),\n",
    "... ('Sam', 'Gupta', 33, 7000),\n",
    "... ('Sam', 'Sung', 31, 5000)\n",
    "... ]"
   ]
  },
  {
   "cell_type": "code",
   "execution_count": null,
   "id": "e41fc384-e8fa-4c26-85f9-f4e5deb200e9",
   "metadata": {},
   "outputs": [],
   "source": [
    "max(employees, key=lambda x: x[3])"
   ]
  },
  {
   "cell_type": "code",
   "execution_count": null,
   "id": "57d9aad5-ba1e-409b-bc7b-773dfc88338c",
   "metadata": {},
   "outputs": [],
   "source": [
    "min(employees, key=lambda x: x[2])"
   ]
  },
  {
   "cell_type": "code",
   "execution_count": null,
   "id": "9e240cb6-d8f9-4914-914b-f8cb4b249162",
   "metadata": {},
   "outputs": [],
   "source": [
    "d = {'pen': 23, 'eraser': 5, 'book': 30}\n",
    "sorted(d)"
   ]
  },
  {
   "cell_type": "code",
   "execution_count": null,
   "id": "67dde64a-95ce-4e0a-ba66-b27f0069a7cf",
   "metadata": {},
   "outputs": [],
   "source": [
    "sorted(d.keys())"
   ]
  },
  {
   "cell_type": "code",
   "execution_count": null,
   "id": "333d7af0-c4be-4d2e-88dc-5e9676eb96b7",
   "metadata": {},
   "outputs": [],
   "source": [
    "sorted(d.values())"
   ]
  },
  {
   "cell_type": "code",
   "execution_count": null,
   "id": "4443e973-9d62-40dc-b6b0-5e8fd7d76ab7",
   "metadata": {},
   "outputs": [],
   "source": [
    "sorted(d.items())"
   ]
  },
  {
   "cell_type": "code",
   "execution_count": null,
   "id": "8e7507c3-bcd7-492d-85bb-1c52e02cc397",
   "metadata": {},
   "outputs": [],
   "source": [
    "sorted(d.items(), key=lambda t: t[1])"
   ]
  },
  {
   "cell_type": "code",
   "execution_count": null,
   "id": "56487938-acca-454f-a264-e997fe658796",
   "metadata": {},
   "outputs": [],
   "source": [
    "class Student:\n",
    " def __init__(self, name, marks, birthYear):\n",
    " self.name = name \n",
    " self.marks = marks\n",
    " self.birthYear = birthYear\n",
    " def __str__(self):\n",
    " return f'{self.name} {self.marks}\n",
    "{self.birthYear}'\n",
    "s1 = Student('John', 97, 1988)\n",
    "s2 = Student('Sam', 89, 1987)\n",
    "s3 = Student('Pam', 99, 1982)\n",
    "L = [s1, s2, s3]"
   ]
  },
  {
   "cell_type": "code",
   "execution_count": null,
   "id": "4a148d20-3381-4c1f-baa7-9a451ce59b3c",
   "metadata": {},
   "outputs": [],
   "source": [
    "L.sort(key=lambda s: s.marks)"
   ]
  },
  {
   "cell_type": "code",
   "execution_count": null,
   "id": "01001b77-8cd7-4784-8049-3be1971d18c2",
   "metadata": {},
   "outputs": [],
   "source": [
    "for i in L:\n",
    " print(i)"
   ]
  },
  {
   "cell_type": "code",
   "execution_count": null,
   "id": "8aa527e7-0238-4581-b830-453da42512e2",
   "metadata": {},
   "outputs": [],
   "source": [
    "class Employee:\n",
    " def __init__(self, name, phone, basic, ta,\n",
    "da):\n",
    " self.name = name\n",
    " self.phone = phone\n",
    " self.basic = basic\n",
    " self.ta = ta\n",
    " self.da = da\n",
    " def __lt__(self, other):\n",
    " return self.name < other.name\n",
    " def __str__(self):\n",
    "return f'{self.name} {self.phone}\n",
    "{self.basic} {self.ta} {self.da}'\n",
    " def __repr__(self):\n",
    " return f'{self.name} {self.phone}\n",
    "{self.basic} {self.ta} {self.da}'\n",
    "e1 = Employee('Zeba', 89889444, 3000, 500, 200)\n",
    "e2 = Employee('Amit', 99883994, 4000, 300, 500)\n",
    "e3 = Employee('Neema',83988399, 3000, 1000, 500)\n",
    "e4 = Employee('Rini', 99878784, 3500, 0, 500)\n",
    "L = [e1, e2, e3, e4]\n",
    "print(L)\n",
    "L.sort()\n",
    "print(L)"
   ]
  },
  {
   "cell_type": "code",
   "execution_count": null,
   "id": "668f5966-ab3f-4413-a041-de5fb2bad733",
   "metadata": {},
   "outputs": [],
   "source": [
    "L.sort(key=lambda e: e.basic + e.ta + e.da)"
   ]
  },
  {
   "cell_type": "code",
   "execution_count": null,
   "id": "0be4b230-8e5d-4b1b-af01-9c6657c03245",
   "metadata": {},
   "outputs": [],
   "source": [
    "map(func, iterable)\n",
    "filter(func, iterable)\n",
    "reduce(func, iterable)"
   ]
  },
  {
   "cell_type": "code",
   "execution_count": null,
   "id": "053c15ae-6054-43a2-a7e0-e6096cab0fce",
   "metadata": {},
   "outputs": [],
   "source": [
    "map(func, iterable)"
   ]
  },
  {
   "cell_type": "code",
   "execution_count": null,
   "id": "96a57fd2-d689-4411-b5b0-f37fc50f83b0",
   "metadata": {},
   "outputs": [],
   "source": [
    "numbers = [4, 6, 7, 9]\n",
    "def square(n):\n",
    "...  return n * n"
   ]
  },
  {
   "cell_type": "code",
   "execution_count": null,
   "id": "921c1f97-eefd-4a3a-89d5-08f151e3447e",
   "metadata": {},
   "outputs": [],
   "source": [
    "map(square, numbers)"
   ]
  },
  {
   "cell_type": "code",
   "execution_count": null,
   "id": "a9db29e4-9d2f-4e00-a70c-36f931dbcd5e",
   "metadata": {},
   "outputs": [],
   "source": [
    "list(map(square, numbers))"
   ]
  },
  {
   "cell_type": "code",
   "execution_count": null,
   "id": "7e5e3763-23f8-45bb-9760-5b931bfd2cc8",
   "metadata": {},
   "outputs": [],
   "source": [
    "list(map(lambda n: n*n, numbers))"
   ]
  },
  {
   "cell_type": "code",
   "execution_count": null,
   "id": "bbfb3abf-6361-44c6-aba6-c49ebf245829",
   "metadata": {},
   "outputs": [],
   "source": [
    "list(map(str, numbers))"
   ]
  },
  {
   "cell_type": "code",
   "execution_count": null,
   "id": "13dfd7a8-8205-41d5-9ea0-d8bf8530585f",
   "metadata": {},
   "outputs": [],
   "source": [
    "L = [4, 6, 8, 9, 3]"
   ]
  },
  {
   "cell_type": "code",
   "execution_count": null,
   "id": "6005e929-5c5f-4ba9-9309-a3381e4f4fd4",
   "metadata": {},
   "outputs": [],
   "source": [
    "map(lambda x: x*10, L)"
   ]
  },
  {
   "cell_type": "code",
   "execution_count": null,
   "id": "afb51088-2101-4eaa-931e-ffc798111ec7",
   "metadata": {},
   "outputs": [],
   "source": [
    "list(map(lambda x: x*10, L))"
   ]
  },
  {
   "cell_type": "code",
   "execution_count": null,
   "id": "97968caf-bd1e-40db-a210-ae6c43db0a3a",
   "metadata": {},
   "outputs": [],
   "source": [
    "list(map(lambda x: x**3, range(5,11)))"
   ]
  },
  {
   "cell_type": "code",
   "execution_count": null,
   "id": "43010903-338d-4129-b7b3-77bf2a7dd240",
   "metadata": {},
   "outputs": [],
   "source": [
    "students = { 105416: { 'name':'John',\n",
    " 'gender': 'M', \n",
    " 'city': 'Paris',\n",
    " 'age': 21,\n",
    " 'marks': { 'Maths': 89,\n",
    " 'Physics':\n",
    "78,\n",
    " \n",
    "'Chemistry':91 },\n",
    " 'is_sporty': True },\n",
    " \n",
    " 144547: { 'name':'Dev',\n",
    " 'gender': 'M', \n",
    " 'city': 'London',\n",
    " 'age': 23,\n",
    " 'marks': { 'Maths': 88,\n",
    " 'Physics':\n",
    "           77,\n",
    " \n",
    "'Chemistry':98 },\n",
    " 'is_sporty': False }, \n",
    " 132399: { 'name':'Mary',\n",
    " 'gender': 'F', \n",
    " 'city': 'Paris',\n",
    " 'age': 22,\n",
    " 'marks': { 'Maths': 99, 'Physics': 87,\n",
    " 'Chemistry':88 },\n",
    " 'is_sporty': True }"
   ]
  },
  {
   "cell_type": "code",
   "execution_count": null,
   "id": "048f65d4-e8b7-4764-a834-d50ad49e73a1",
   "metadata": {},
   "outputs": [],
   "source": [
    "list(map(lambda d: (d['name'], d['age']), students.values()))"
   ]
  },
  {
   "cell_type": "code",
   "execution_count": null,
   "id": "1c77918a-1c9f-47f4-b998-3125d1467dd0",
   "metadata": {},
   "outputs": [],
   "source": [
    "def multiply(x, y, z):\n",
    "...  return x * y * z\n",
    "map(multiply, [1,2,3,4], (4,5,6,7), [10,20,30,40])"
   ]
  },
  {
   "cell_type": "code",
   "execution_count": null,
   "id": "8e2b383d-4acd-4b4c-ad2d-532d2317b849",
   "metadata": {},
   "outputs": [],
   "source": [
    "list(map(multiply, [1,2,3,4], (4,5,6,7), [10,20,30,40]))"
   ]
  },
  {
   "cell_type": "code",
   "execution_count": null,
   "id": "4712c06d-5bbf-4387-9b39-90e8a2064770",
   "metadata": {},
   "outputs": [],
   "source": [
    "list1 = [1, 9, 3, 4]\n",
    "list2 = [4, 3, 6, 1, 7, 8]\n",
    "list3 = [8, 9, 3, 5, 6]\n",
    "list(map(lambda x, y, z: x + y + z, list1, list2, list3))"
   ]
  },
  {
   "cell_type": "code",
   "execution_count": null,
   "id": "5c1aaa2b-b4c2-42f0-90dd-ec531a994189",
   "metadata": {},
   "outputs": [],
   "source": [
    "names = ['Sophia', 'Michael', 'Benedict', 'Anthony']\n",
    "cities = ['Paris', 'London', 'Bareilly', 'Tokyo']\n",
    "phones = [676858939, 223878965, 856937891, 676757913]"
   ]
  },
  {
   "cell_type": "code",
   "execution_count": null,
   "id": "235949ec-025a-448a-a168-38f50e58771e",
   "metadata": {},
   "outputs": [],
   "source": [
    "ids = list(map(lambda x,y,z: x[-2:] + y[:2] + str(z)[:3], names, cities, phones))"
   ]
  },
  {
   "cell_type": "code",
   "execution_count": null,
   "id": "a9677b72-be7b-4233-9fe5-f7892aa45d2a",
   "metadata": {},
   "outputs": [],
   "source": [
    "ids"
   ]
  },
  {
   "cell_type": "code",
   "execution_count": null,
   "id": "1300e421-e43d-4768-a680-edbe8089c794",
   "metadata": {},
   "outputs": [],
   "source": [
    "numbers = [24, 34, 0, 4, 12, 45, 67, 15]"
   ]
  },
  {
   "cell_type": "code",
   "execution_count": null,
   "id": "60587def-4b02-4418-9f96-a8b5dcae9c29",
   "metadata": {},
   "outputs": [],
   "source": [
    "def func(x):\n",
    "...  return x % 3 == 0"
   ]
  },
  {
   "cell_type": "code",
   "execution_count": null,
   "id": "a80d5d45-9bfb-40d7-9124-f92bec4e2d0b",
   "metadata": {},
   "outputs": [],
   "source": [
    "filter(func, numbers)"
   ]
  },
  {
   "cell_type": "code",
   "execution_count": null,
   "id": "59956772-18cd-4d56-a354-20c47e202897",
   "metadata": {},
   "outputs": [],
   "source": [
    "list(filter(func, numbers))"
   ]
  },
  {
   "cell_type": "code",
   "execution_count": null,
   "id": "80d77b50-4797-4427-a4f5-3026f13c8e36",
   "metadata": {},
   "outputs": [],
   "source": [
    "list(filter(lambda x: x % 3 == 0, numbers))"
   ]
  },
  {
   "cell_type": "code",
   "execution_count": null,
   "id": "e9075535-7673-41b8-9dab-682990f7b914",
   "metadata": {},
   "outputs": [],
   "source": [
    "list(filter(None, numbers))"
   ]
  },
  {
   "cell_type": "code",
   "execution_count": null,
   "id": "49d57c73-fc21-4270-8a49-8b003839b558",
   "metadata": {},
   "outputs": [],
   "source": [
    "numbers = [12, 109, 67, 34, 390, 65, 990, 87, 52]\n",
    "list(filter(lambda x: x < 100, numbers))"
   ]
  },
  {
   "cell_type": "code",
   "execution_count": null,
   "id": "a89209f9-87fa-4d9e-b943-41c4252f2c47",
   "metadata": {},
   "outputs": [],
   "source": [
    "L = [('A', 101), ('X', 89), ('C', 209), ('F',39)]"
   ]
  },
  {
   "cell_type": "code",
   "execution_count": null,
   "id": "4bed9644-2333-4215-a73e-4d51702dbb9b",
   "metadata": {},
   "outputs": [],
   "source": [
    "list(filter (lambda t: t[1] < 100, L))"
   ]
  },
  {
   "cell_type": "code",
   "execution_count": null,
   "id": "49c62b01-5079-487f-a423-4aabc7dcd995",
   "metadata": {},
   "outputs": [],
   "source": [
    "L = ['names.doc', 'file2.xls', '', 'info.doc', 'help.doc', '', 'show.ppt']\n",
    "list(filter(lambda s: s.endswith('.doc'), L))"
   ]
  },
  {
   "cell_type": "code",
   "execution_count": null,
   "id": "37aadc9c-1929-4a34-a731-0711fbeae371",
   "metadata": {},
   "outputs": [],
   "source": [
    "list(filter(None, L))"
   ]
  },
  {
   "cell_type": "code",
   "execution_count": null,
   "id": "95e11ead-563e-49b4-af14-daec628b959f",
   "metadata": {},
   "outputs": [],
   "source": [
    "L = ['ab12', '23', '22%cd', 'cv', 'xy@z']\n",
    "list(filter(str.isalnum, L))"
   ]
  },
  {
   "cell_type": "code",
   "execution_count": null,
   "id": "ccdb2ec7-46e5-4ca6-a5ee-9b3b3f482fcf",
   "metadata": {},
   "outputs": [],
   "source": [
    "class Student:\n",
    " def __init__(self, name, marks, birthYear):\n",
    " self.name = name \n",
    " self.marks = marks\n",
    " self.birthYear = birthYear\n",
    " def __str__(self):\n",
    " return f'{self.name} {self.marks}\n",
    "{self.birthYear}'\n",
    " def __repr__(self):\n",
    " return f'{self.name} {self.marks}\n",
    "{self.birthYear}' \n",
    "s1 = Student('John', 97, 1988)\n",
    "s2 = Student('Sam', 89, 1987)\n",
    "s3 = Student('Pam', 99, 1985)\n",
    "s4 = Student('Tim', 91, 1983)\n",
    "s5 = Student('Jim', 80, 1987)\n",
    "L = [s1, s2, s3, s4, s5]"
   ]
  },
  {
   "cell_type": "code",
   "execution_count": null,
   "id": "873783c7-01e2-4c07-84bb-9b8e3f533b64",
   "metadata": {},
   "outputs": [],
   "source": [
    "new_list = list(filter(lambda x: x.marks > 90, L))\n",
    "print(new_list)"
   ]
  },
  {
   "cell_type": "code",
   "execution_count": null,
   "id": "83f74000-cf45-4d70-9c34-a838caca6c7e",
   "metadata": {},
   "outputs": [],
   "source": [
    "L = [-3, 7, -9, 6, 3, 5, -8]"
   ]
  },
  {
   "cell_type": "code",
   "execution_count": null,
   "id": "d2a8aecb-05fb-4501-a5ce-060d5307f93f",
   "metadata": {},
   "outputs": [],
   "source": [
    "map(lambda x: x*x*x, filter(lambda x: x>0, L))"
   ]
  },
  {
   "cell_type": "code",
   "execution_count": null,
   "id": "282afd92-dc75-4147-a976-175594bec033",
   "metadata": {},
   "outputs": [],
   "source": [
    "list(map(lambda x: x*x*x, filter(lambda x:x>0, L)))"
   ]
  },
  {
   "cell_type": "code",
   "execution_count": null,
   "id": "62779d31-bc9f-4f1b-80ba-1b2a2788a74b",
   "metadata": {},
   "outputs": [],
   "source": [
    "L1 = ['??', 'abc', 'Efg', '123', 'A1', 'pqr']\n",
    "list(map(str.upper, filter(lambda s:s.isalpha(), L1)))"
   ]
  },
  {
   "cell_type": "code",
   "execution_count": null,
   "id": "afb7b6e2-5acc-435b-bea1-f2083117e596",
   "metadata": {},
   "outputs": [],
   "source": [
    "[x * x * x for x in L if x > 0]"
   ]
  },
  {
   "cell_type": "code",
   "execution_count": null,
   "id": "a910a64a-1f03-4ca1-9de0-e5a4ae607b71",
   "metadata": {},
   "outputs": [],
   "source": [
    " [s.upper() for s in L1 if s.isalpha()]"
   ]
  },
  {
   "cell_type": "code",
   "execution_count": null,
   "id": "0bbcb907-8b24-474f-805f-bfbc41342560",
   "metadata": {},
   "outputs": [],
   "source": [
    "reduce(func, iterable)"
   ]
  },
  {
   "cell_type": "code",
   "execution_count": null,
   "id": "ba82369b-7c35-4461-868a-e7e16f9b6c93",
   "metadata": {},
   "outputs": [],
   "source": [
    "L = [4, 6, 3, 1, 2]\n",
    "def add(x, y):\n",
    "...  return x + y \n",
    "from functools import reduce\n",
    "reduce(add, L)"
   ]
  },
  {
   "cell_type": "code",
   "execution_count": null,
   "id": "d495e21e-7939-4497-9d9a-4876aa0bcf83",
   "metadata": {},
   "outputs": [],
   "source": [
    "add(add(add(add(4,6), 3), 1), 2)"
   ]
  },
  {
   "cell_type": "code",
   "execution_count": null,
   "id": "47cb8640-27f5-4744-8647-59964af3cca2",
   "metadata": {},
   "outputs": [],
   "source": [
    "reduce(func, iterable, initialvalue)"
   ]
  },
  {
   "cell_type": "code",
   "execution_count": null,
   "id": "7d9a33d5-f07f-42de-a5ff-2841c01b1792",
   "metadata": {},
   "outputs": [],
   "source": [
    "reduce(add, L, 1000)"
   ]
  },
  {
   "cell_type": "code",
   "execution_count": null,
   "id": "dab1edd6-9d09-46a8-aba9-db0d34c8ac04",
   "metadata": {},
   "outputs": [],
   "source": [
    "words = ['apple', 'boy', 'cat']"
   ]
  },
  {
   "cell_type": "code",
   "execution_count": null,
   "id": "28967b3e-0f4a-4291-8330-50588468056d",
   "metadata": {},
   "outputs": [],
   "source": [
    "reduce(add, words)"
   ]
  },
  {
   "cell_type": "code",
   "execution_count": null,
   "id": "c6ff84ca-e552-45c8-ad3b-66ad40afc74b",
   "metadata": {},
   "outputs": [],
   "source": [
    "L = [4, 6, 3, 1, 2]\n",
    "reduce(lambda x, y: x if x > y else y, L)"
   ]
  },
  {
   "cell_type": "code",
   "execution_count": null,
   "id": "23c1b129-0f91-4b08-ba6f-e25a8d87cee4",
   "metadata": {},
   "outputs": [],
   "source": [
    "L.clear()"
   ]
  },
  {
   "cell_type": "code",
   "execution_count": null,
   "id": "b67cda89-8511-4e7f-996a-8bb8e5268839",
   "metadata": {},
   "outputs": [],
   "source": [
    "reduce(add, L)"
   ]
  },
  {
   "cell_type": "code",
   "execution_count": null,
   "id": "fbbba6c9-4c05-47b2-b3b7-f62263a3e249",
   "metadata": {},
   "outputs": [],
   "source": [
    "reduce(add, L, 0)"
   ]
  },
  {
   "cell_type": "code",
   "execution_count": null,
   "id": "d9c3f665-fe79-418f-a549-f27997a9aad2",
   "metadata": {},
   "outputs": [],
   "source": [
    "all([1, 2, 3, 0, 5, 8])"
   ]
  },
  {
   "cell_type": "code",
   "execution_count": null,
   "id": "68b7e396-11eb-489f-99e0-6fe485c1e755",
   "metadata": {},
   "outputs": [],
   "source": [
    "all([1, 2, 3, 5, 8])"
   ]
  },
  {
   "cell_type": "code",
   "execution_count": null,
   "id": "a2d99608-c146-4142-bd1e-092f36758080",
   "metadata": {},
   "outputs": [],
   "source": [
    "names = ['Raj', 'Dev', '', 'Sam']\n",
    "all(names)"
   ]
  },
  {
   "cell_type": "code",
   "execution_count": null,
   "id": "ed7a01b7-c142-41b3-80ee-ea3d2fd5b284",
   "metadata": {},
   "outputs": [],
   "source": [
    "if all(names):\n",
    " pass"
   ]
  },
  {
   "cell_type": "code",
   "execution_count": null,
   "id": "79d9d670-44ab-4d4a-bb8d-170bfe11cf02",
   "metadata": {},
   "outputs": [],
   "source": [
    "marks = [65, 67, 89, 48, 90, 56]"
   ]
  },
  {
   "cell_type": "code",
   "execution_count": null,
   "id": "9851ded7-33cb-4228-956d-21df1150135d",
   "metadata": {},
   "outputs": [],
   "source": [
    "(m > 50 for m in marks)"
   ]
  },
  {
   "cell_type": "code",
   "execution_count": null,
   "id": "bf863f65-9af2-4a50-ba16-584bb6cf147f",
   "metadata": {},
   "outputs": [],
   "source": [
    "all(m > 50 for m in marks) "
   ]
  },
  {
   "cell_type": "code",
   "execution_count": null,
   "id": "fe362e15-2cab-49df-a630-78d96419df0b",
   "metadata": {},
   "outputs": [],
   "source": [
    "marks.remove(48)\n",
    "all(m > 50 for m in marks)"
   ]
  },
  {
   "cell_type": "code",
   "execution_count": null,
   "id": "a5936e9a-ca6c-4f17-a380-f8cc23278f0b",
   "metadata": {},
   "outputs": [],
   "source": [
    "any(m > 100 for m in marks)"
   ]
  },
  {
   "cell_type": "code",
   "execution_count": null,
   "id": "9ce4ac91-bcb0-4308-ada4-2563fe5ab72b",
   "metadata": {},
   "outputs": [],
   "source": [
    "marks.insert(2, 150)\n",
    "any(m > 100 for m in marks)"
   ]
  },
  {
   "cell_type": "code",
   "execution_count": null,
   "id": "e31ea798-2fc7-4fef-bfed-45f509abc160",
   "metadata": {},
   "outputs": [],
   "source": [
    "students = [ {'name':'John',\n",
    "...  'city': 'Paris',\n",
    "...  'marks': 21,\n",
    "...  },\n",
    "...  {'name':'Dev',\n",
    " 'city': 'London',\n",
    "...  'marks': 23,\n",
    "...  }, \n",
    "...  {'name':'Mary',\n",
    "...  'city': 'Paris',\n",
    "...  'marks': 22,\n",
    "...  } \n",
    "...  ]"
   ]
  },
  {
   "cell_type": "code",
   "execution_count": null,
   "id": "2213dd9f-bca1-4681-9a88-74b7422e060d",
   "metadata": {},
   "outputs": [],
   "source": [
    "max(student['marks'] for student in students)"
   ]
  },
  {
   "cell_type": "code",
   "execution_count": null,
   "id": "19996492-689d-483a-a806-0dbf888d22f8",
   "metadata": {},
   "outputs": [],
   "source": [
    "max(students, key=lambda d: d['marks'])"
   ]
  },
  {
   "cell_type": "code",
   "execution_count": null,
   "id": "ffc442eb-3e25-4b88-97ee-2cb8ee063594",
   "metadata": {},
   "outputs": [],
   "source": [
    "topper = max(students, key=lambda d:d['marks'])\n",
    "topper['name']"
   ]
  },
  {
   "cell_type": "code",
   "execution_count": null,
   "id": "be031114-dfa6-4501-b10b-a2ef73128cb2",
   "metadata": {},
   "outputs": [],
   "source": [
    "max(students, key=lambda d: d['marks'])"
   ]
  },
  {
   "cell_type": "code",
   "execution_count": null,
   "id": "cb434195-39b6-4efb-8e8a-a452969b0155",
   "metadata": {},
   "outputs": [],
   "source": [
    "any(student['city'] == 'Paris' for student in students)"
   ]
  },
  {
   "cell_type": "code",
   "execution_count": null,
   "id": "01dcf0fe-7b79-4a4e-836f-fb18c8f565ff",
   "metadata": {},
   "outputs": [],
   "source": [
    "import operator\n",
    "help(operator)"
   ]
  },
  {
   "cell_type": "code",
   "execution_count": null,
   "id": "2c56d3e0-8d87-465c-be79-658c6243f391",
   "metadata": {},
   "outputs": [],
   "source": [
    "list(map(lambda x, y: x * y, [1,2,3,4], [5,6,7,8]))"
   ]
  },
  {
   "cell_type": "code",
   "execution_count": null,
   "id": "bce51f92-bea4-49f3-9402-5d0805e740f0",
   "metadata": {},
   "outputs": [],
   "source": [
    "list(map(operator.mul, [1,2,3,4], [5,6,7,8]))"
   ]
  },
  {
   "cell_type": "code",
   "execution_count": null,
   "id": "ee8f260b-cd6e-4984-81fa-7deb70bebc9a",
   "metadata": {},
   "outputs": [],
   "source": [
    "from operator import itemgetter\n",
    "\n",
    "employees = [ ('Rajendra', 'Kumar', 32, 6000),\n",
    "...  ('Sam', 'Saxena', 43,\n",
    "8000),\n",
    "... ('Shyamchandra', 'Verma', 23,\n",
    "3000),\n",
    "... ('Sam', 'Gupta', 33, 7000),\n",
    "... ('Sam', 'Sung', 31, 5000)\n",
    "... ]"
   ]
  },
  {
   "cell_type": "code",
   "execution_count": null,
   "id": "1958ab17-a96e-4bef-86d1-324d402975c8",
   "metadata": {},
   "outputs": [],
   "source": [
    "sorted(employees, key=lambda t: t[2])"
   ]
  },
  {
   "cell_type": "code",
   "execution_count": null,
   "id": "c9c0fa1f-2ab6-41b7-b426-3f0e63ae1a2e",
   "metadata": {},
   "outputs": [],
   "source": [
    "sorted(employees, key=itemgetter(2))"
   ]
  },
  {
   "cell_type": "code",
   "execution_count": null,
   "id": "f40c2898-3876-4787-82f4-87402893b2d9",
   "metadata": {},
   "outputs": [],
   "source": [
    "sorted(employees, key=itemgetter (1,2))"
   ]
  },
  {
   "cell_type": "code",
   "execution_count": null,
   "id": "7c5e8f2b-3433-4936-b905-c08e030a866b",
   "metadata": {},
   "outputs": [],
   "source": [
    "from operator import attrgetter\n",
    "class Student:\n",
    " def __init__(self, name, marks, birthYear):\n",
    " self.name = name \n",
    " self.marks = marks\n",
    " self.birthYear = birthYear\n",
    " def __str__(self):\n",
    " return f'{self.name} {self.marks}\n",
    "{self.birthYear}'\n",
    "s1 = Student('John', 97, 1988)\n",
    "s2 = Student('Sam', 89, 1987)\n",
    "s3 = Student('Pam', 99, 1982)\n",
    "s4 = Student('Pam', 99, 1978)\n",
    "L = [s1, s2, s3, s4]\n",
    "L.sort(key=attrgetter('marks'))\n",
    "for i in L:\n",
    " print(i)\n",
    "print()\n",
    "L.sort(key=attrgetter('marks', 'birthYear'))\n",
    "for i in L:\n",
    "print(i)"
   ]
  },
  {
   "cell_type": "markdown",
   "id": "fc1d4887-3470-4857-9dc9-10aebf25ae9f",
   "metadata": {},
   "source": [
    "Happy Programming"
   ]
  }
 ],
 "metadata": {
  "kernelspec": {
   "display_name": "Python 3 (ipykernel)",
   "language": "python",
   "name": "python3"
  },
  "language_info": {
   "codemirror_mode": {
    "name": "ipython",
    "version": 3
   },
   "file_extension": ".py",
   "mimetype": "text/x-python",
   "name": "python",
   "nbconvert_exporter": "python",
   "pygments_lexer": "ipython3",
   "version": "3.12.7"
  }
 },
 "nbformat": 4,
 "nbformat_minor": 5
}
