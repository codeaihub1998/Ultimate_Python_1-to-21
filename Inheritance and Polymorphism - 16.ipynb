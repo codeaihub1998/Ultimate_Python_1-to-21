{
 "cells": [
  {
   "cell_type": "code",
   "execution_count": null,
   "id": "ecb8709a-23dd-45ad-9b18-cf17b96a60ab",
   "metadata": {},
   "outputs": [],
   "source": [
    "class Person:\n",
    " def __init__(self, name, age, address, phone):\n",
    " self.name = name\n",
    " self.age = age\n",
    " self.address = address\n",
    " self.phone = phone\n",
    " def greet(self):\n",
    " print('Hello I am', self.name)\n",
    " def is_adult(self):\n",
    " if self.age > 18:\n",
    " return True\n",
    " else:\n",
    " return False\n",
    " def contact_details(self):\n",
    " print(self.address, self.phone)\n",
    "class Employee(Person):\n",
    "pass"
   ]
  },
  {
   "cell_type": "code",
   "execution_count": null,
   "id": "79184345-830a-4657-9d50-ee45cf576523",
   "metadata": {},
   "outputs": [],
   "source": [
    "emp = Employee('Raghu', 30, 'D4, XYZ Street, Delhi', '994477291')"
   ]
  },
  {
   "cell_type": "code",
   "execution_count": null,
   "id": "44bda62e-f99f-4138-8af9-76435c2ee6eb",
   "metadata": {},
   "outputs": [],
   "source": [
    "emp.name"
   ]
  },
  {
   "cell_type": "code",
   "execution_count": null,
   "id": "cef6219a-a4e6-475a-a46f-95d394fb6ec7",
   "metadata": {},
   "outputs": [],
   "source": [
    "emp.age"
   ]
  },
  {
   "cell_type": "code",
   "execution_count": null,
   "id": "69c560db-04d1-4bc9-b867-7c96001ce989",
   "metadata": {},
   "outputs": [],
   "source": [
    "emp.address"
   ]
  },
  {
   "cell_type": "code",
   "execution_count": null,
   "id": "f6dfe924-ef68-4599-bd7e-49a0aa00ed32",
   "metadata": {},
   "outputs": [],
   "source": [
    "emp.phone"
   ]
  },
  {
   "cell_type": "code",
   "execution_count": null,
   "id": "6c00a99e-e93a-4a2f-a34c-422f079c2c98",
   "metadata": {},
   "outputs": [],
   "source": [
    "emp.greet()"
   ]
  },
  {
   "cell_type": "code",
   "execution_count": null,
   "id": "b757f593-fc77-4568-bf04-29aea302086e",
   "metadata": {},
   "outputs": [],
   "source": [
    "emp.is_adult()"
   ]
  },
  {
   "cell_type": "code",
   "execution_count": null,
   "id": "318c0acf-632d-4290-b7ef-ba257e977137",
   "metadata": {},
   "outputs": [],
   "source": [
    "emp.contact_details()"
   ]
  },
  {
   "cell_type": "code",
   "execution_count": null,
   "id": "bb566f44-4d3a-4a4e-9ff4-5f754ebb6d1c",
   "metadata": {},
   "outputs": [],
   "source": [
    "isinstance(emp, Employee)"
   ]
  },
  {
   "cell_type": "code",
   "execution_count": null,
   "id": "1632b1e6-bc54-4a69-8a63-bb365b11a8bc",
   "metadata": {},
   "outputs": [],
   "source": [
    "isinstance(emp, Person)"
   ]
  },
  {
   "cell_type": "code",
   "execution_count": null,
   "id": "bb7ecb5a-6a79-47c0-8c29-6b0c5b369839",
   "metadata": {},
   "outputs": [],
   "source": [
    "issubclass(Employee, Person)"
   ]
  },
  {
   "cell_type": "code",
   "execution_count": null,
   "id": "233785df-6ccc-4a00-8fd2-55ac7f24cb09",
   "metadata": {},
   "outputs": [],
   "source": [
    "class Employee(Person):\n",
    " def __init__(self, name, age, address, phone,\n",
    "salary, office_address, office_phone):\n",
    " self.name = name\n",
    " self.age = age\n",
    " self.address = address\n",
    " self.phone = phone\n",
    " self.salary = salary\n",
    " self.office_address = office_address\n",
    " self.office_phone = office_phone\n",
    " def calculate_tax(self):\n",
    " if self.salary < 5000:\n",
    " return 0\n",
    " else:\n",
    " return self.salary * 0.05"
   ]
  },
  {
   "cell_type": "code",
   "execution_count": null,
   "id": "26fc8488-2c73-429a-a940-c18dd2413ba6",
   "metadata": {},
   "outputs": [],
   "source": [
    "emp = Employee('Raghu', 30, 'D4, XYZ Street, Delhi', '994477291', 8000, 'ABC Street, Delhi', '897657888')"
   ]
  },
  {
   "cell_type": "code",
   "execution_count": null,
   "id": "cad69216-7335-4393-a088-9b4f8ef9d71b",
   "metadata": {},
   "outputs": [],
   "source": [
    "emp.name"
   ]
  },
  {
   "cell_type": "code",
   "execution_count": null,
   "id": "017e0d95-7b11-456c-a60e-5844888b36df",
   "metadata": {},
   "outputs": [],
   "source": [
    "emp.salary"
   ]
  },
  {
   "cell_type": "code",
   "execution_count": null,
   "id": "506d6678-ebe9-4b1d-bc80-d90fc39df4de",
   "metadata": {},
   "outputs": [],
   "source": [
    "emp.calculate_tax()"
   ]
  },
  {
   "cell_type": "code",
   "execution_count": null,
   "id": "8e7b6ecb-70cf-4e06-acb9-cbee72872c2d",
   "metadata": {},
   "outputs": [],
   "source": [
    "class Employee(Person):\n",
    " def __init__(self, name, age, address, phone,\n",
    "salary, office_address, office_phone):\n",
    " self.name = name\n",
    " self.age = age\n",
    " self.address = address\n",
    " self.phone = phone\n",
    " self.salary = salary\n",
    " self.office_address = office_address\n",
    "    self.office_phone = office_phone\n",
    " def calculate_tax(self):\n",
    " if self.salary < 5000:\n",
    " return 0\n",
    " else:\n",
    " return self.salary * 0.05\n",
    " def contact_details(self):\n",
    " print(self.address, self.phone)\n",
    " print(self.office_address,\n",
    "self.office_phone)"
   ]
  },
  {
   "cell_type": "code",
   "execution_count": null,
   "id": "6f25bec2-41cc-4326-80c0-73964a7f54aa",
   "metadata": {},
   "outputs": [],
   "source": [
    "emp = Employee('Jack', 30, 'D4, XYZ Street, Delhi', '994477291', 8000, 'ABC Street, Delhi','897657888')\n",
    "emp.contact_details()"
   ]
  },
  {
   "cell_type": "code",
   "execution_count": null,
   "id": "3ab8282f-9085-4122-9642-9bd67080378a",
   "metadata": {},
   "outputs": [],
   "source": [
    "class Employee(Person):\n",
    " def __init__(self, name, age, address, phone,\n",
    "salary, office_address, office_phone):\n",
    " Person.__init__(self, name, age, address,\n",
    "phone)\n",
    " self.salary = salary\n",
    " self.office_address = office_address\n",
    " self.office_phone = office_phone\n",
    " def calculate_tax(self):\n",
    " if self.salary < 5000:\n",
    " return 0\n",
    " else:\n",
    " return self.salary * 0.05\n",
    "def contact_details(self):\n",
    " Person.contact_details(self)\n",
    " print(self.office_address,\n",
    "self.office_phone)"
   ]
  },
  {
   "cell_type": "code",
   "execution_count": null,
   "id": "43f18184-e996-4b65-9c73-adf1f31b8690",
   "metadata": {},
   "outputs": [],
   "source": [
    "class Employee(Person):\n",
    " def __init__(self, name, age, address, phone,\n",
    "salary, office_address, office_phone):\n",
    " super().__init__(name, age, address,\n",
    "phone)\n",
    " self.salary = salary\n",
    " self.office_address = office_address\n",
    " self.office_phone = office_phone\n",
    " def calculate_tax(self):\n",
    " if self.salary < 5000:\n",
    " return 0\n",
    " else:\n",
    " return self.salary * 0.05\n",
    " def contact_details(self):\n",
    " super().contact_details()\n",
    " print(self.office_address,\n",
    "self.office_phone)"
   ]
  },
  {
   "cell_type": "code",
   "execution_count": null,
   "id": "80ab05a8-0c07-4170-9251-db934e5f332b",
   "metadata": {},
   "outputs": [],
   "source": [
    "class Person:\n",
    " pass\n",
    "issubclass(Person, object)"
   ]
  },
  {
   "cell_type": "code",
   "execution_count": null,
   "id": "e808cbda-b9b5-4ed3-a7f3-c1a4d42889d2",
   "metadata": {},
   "outputs": [],
   "source": [
    "class Person(object):\n",
    " pass"
   ]
  },
  {
   "cell_type": "code",
   "execution_count": null,
   "id": "4fdd35af-198e-4862-9d21-eef39838e1de",
   "metadata": {},
   "outputs": [],
   "source": [
    "class Person:\n",
    " pass\n",
    "dir(Person)"
   ]
  },
  {
   "cell_type": "code",
   "execution_count": null,
   "id": "59fa41c2-6f4f-434a-a48c-2131ee7649e6",
   "metadata": {},
   "outputs": [],
   "source": [
    "dir(object)"
   ]
  },
  {
   "cell_type": "code",
   "execution_count": null,
   "id": "28b715bf-f36e-4f1e-9308-df8bb6863b75",
   "metadata": {},
   "outputs": [],
   "source": [
    "issubclass(str, object)"
   ]
  },
  {
   "cell_type": "code",
   "execution_count": null,
   "id": "1a06cc49-52c5-4e18-8d02-a1248231f798",
   "metadata": {},
   "outputs": [],
   "source": [
    "issubclass(int, object)"
   ]
  },
  {
   "cell_type": "code",
   "execution_count": null,
   "id": "ba82b27f-c3dd-4b73-a067-c52bc06034de",
   "metadata": {},
   "outputs": [],
   "source": [
    "issubclass(dict, object)"
   ]
  },
  {
   "cell_type": "code",
   "execution_count": null,
   "id": "f156af77-c4e1-436d-a393-3235d5b81f7f",
   "metadata": {},
   "outputs": [],
   "source": [
    "class X(A, B, C):\n",
    " pass"
   ]
  },
  {
   "cell_type": "code",
   "execution_count": null,
   "id": "89603ce3-2231-4507-9731-7a0c7279aec4",
   "metadata": {},
   "outputs": [],
   "source": [
    "class Teacher:\n",
    " def greet(self):\n",
    " print('I am a Teacher')\n",
    "class Student:\n",
    " def greet(self):\n",
    " print('I am a Student')\n",
    "class TeachingAssistant(Student, Teacher):\n",
    " def greet(self):\n",
    " print('I am a Teaching Assistant')"
   ]
  },
  {
   "cell_type": "code",
   "execution_count": null,
   "id": "85f365fa-2b79-4eb9-b2d2-e259e42f38cb",
   "metadata": {},
   "outputs": [],
   "source": [
    "x = TeachingAssistant()\n",
    "x.greet()"
   ]
  },
  {
   "cell_type": "code",
   "execution_count": null,
   "id": "bdbd1ed3-673a-4fc4-bac7-cfad80cb5939",
   "metadata": {},
   "outputs": [],
   "source": [
    "class TeachingAssistant(Student, Teacher):\n",
    " pass"
   ]
  },
  {
   "cell_type": "code",
   "execution_count": null,
   "id": "1bf7fefc-9703-4477-a5ba-6ac8b52503bf",
   "metadata": {},
   "outputs": [],
   "source": [
    "x = TeachingAssistant()\n",
    "x.greet()"
   ]
  },
  {
   "cell_type": "code",
   "execution_count": null,
   "id": "fce108f0-bbd9-4095-83b7-31186ac676e7",
   "metadata": {},
   "outputs": [],
   "source": [
    "class TeachingAssistant(Teacher, Student):\n",
    " pass\n",
    "x = TeachingAssistant()\n",
    " x.greet()"
   ]
  },
  {
   "cell_type": "code",
   "execution_count": null,
   "id": "bc46d8e6-d7e3-48df-9c54-52d4a7dd715a",
   "metadata": {},
   "outputs": [],
   "source": [
    "TeachingAssistant.__bases__"
   ]
  },
  {
   "cell_type": "code",
   "execution_count": null,
   "id": "d42259cc-b265-45b9-80e0-de0b9d568815",
   "metadata": {},
   "outputs": [],
   "source": [
    "class Person:\n",
    " def greet(self):\n",
    " print('I am a Person')\n",
    "class Teacher(Person):\n",
    " def greet(self):\n",
    " print('I am a Teacher')\n",
    "class Student(Person):\n",
    " def greet(self):\n",
    " print('I am a Student')\n",
    "class TeachingAssistant(Student, Teacher):\n",
    " def greet(self):\n",
    " print('I am a Teaching Assistant')"
   ]
  },
  {
   "cell_type": "code",
   "execution_count": null,
   "id": "b5383fa5-e327-458f-9a16-cb07ca7f6fae",
   "metadata": {},
   "outputs": [],
   "source": [
    "help(TeachingAssistant)"
   ]
  },
  {
   "cell_type": "code",
   "execution_count": null,
   "id": "d0175afc-f241-4196-9843-2bd8789ac64c",
   "metadata": {},
   "outputs": [],
   "source": [
    "class TeachingAssistant(Student, Teacher)\n",
    " | Method resolution order:\n",
    " | TeachingAssistant\n",
    " | Student\n",
    " | Teacher\n",
    " | Person\n",
    " | builtins.object"
   ]
  },
  {
   "cell_type": "code",
   "execution_count": null,
   "id": "315897d2-a84e-40f5-ac5a-41eff5dc4a53",
   "metadata": {},
   "outputs": [],
   "source": [
    "TeachingAssistant.__mro__"
   ]
  },
  {
   "cell_type": "code",
   "execution_count": null,
   "id": "1d2a4aad-8991-4511-b70b-278701e6c4dd",
   "metadata": {},
   "outputs": [],
   "source": [
    "TeachingAssistant.mro()"
   ]
  },
  {
   "cell_type": "code",
   "execution_count": null,
   "id": "b0bed633-08ee-4332-b3c8-b46b00250d76",
   "metadata": {},
   "outputs": [],
   "source": [
    "x = TeachingAssistant()\n",
    "x.__class__.__mro__"
   ]
  },
  {
   "cell_type": "code",
   "execution_count": null,
   "id": "fee3dd3a-14bb-4e65-8476-fc3a5a92cc42",
   "metadata": {},
   "outputs": [],
   "source": [
    "x = TeachingAssistant()\n",
    "x.greet()"
   ]
  },
  {
   "cell_type": "code",
   "execution_count": null,
   "id": "1f089c89-83f7-4f74-8433-3855fbe7ad02",
   "metadata": {},
   "outputs": [],
   "source": [
    "class TeachingAssistant(Student, Teacher):\n",
    " pass\n",
    "x = TeachingAssistant()\n",
    "x.greet()"
   ]
  },
  {
   "cell_type": "code",
   "execution_count": null,
   "id": "d8d21820-b484-465f-a9e3-9a05d66c1e1e",
   "metadata": {},
   "outputs": [],
   "source": [
    "class Student(Person):\n",
    " pass\n",
    " x = TeachingAssistant()\n",
    " x.greet()"
   ]
  },
  {
   "cell_type": "code",
   "execution_count": null,
   "id": "f3747825-8e5b-474c-b1d2-88ba9dcfb109",
   "metadata": {},
   "outputs": [],
   "source": [
    "class Teacher(Person):\n",
    " pass\n",
    "x = TeachingAssistant()\n",
    " x.greet()"
   ]
  },
  {
   "cell_type": "code",
   "execution_count": null,
   "id": "e313b2b0-6cd0-40f2-a2f0-1260d9ab54b8",
   "metadata": {},
   "outputs": [],
   "source": [
    "x = TeachingAssistant()\n",
    "x.greet()"
   ]
  },
  {
   "cell_type": "code",
   "execution_count": null,
   "id": "19852258-dfb7-4d99-bb9f-46c1fb0e4257",
   "metadata": {},
   "outputs": [],
   "source": [
    "class Person:\n",
    " def greet(self):\n",
    "print('I am a Person')\n",
    "class Teacher(Person):\n",
    " def greet(self):\n",
    " Person.greet(self) \n",
    " print('I am a Teacher')\n",
    "class Student(Person):\n",
    " def greet(self):\n",
    " Person.greet(self) \n",
    " print('I am a Student')\n",
    "class TeachingAssistant(Student, Teacher):\n",
    " def greet(self):\n",
    " Student.greet(self)\n",
    " Teacher.greet(self)\n",
    " print('I am a Teaching Assistant')"
   ]
  },
  {
   "cell_type": "code",
   "execution_count": null,
   "id": "635a7c69-2993-44a6-a424-6bc0965a8ff5",
   "metadata": {},
   "outputs": [],
   "source": [
    "x = TeachingAssistant()\n",
    "x.greet()"
   ]
  },
  {
   "cell_type": "code",
   "execution_count": null,
   "id": "192f5814-1d32-437f-b05d-3422d71ab603",
   "metadata": {},
   "outputs": [],
   "source": [
    "class Person:\n",
    " def greet(self):\n",
    " print('I am a Person')\n",
    "class Teacher(Person):\n",
    " def greet(self):\n",
    " super().greet()\n",
    " print('I am a Teacher')\n",
    "class Student(Person):\n",
    " def greet(self):\n",
    " super().greet()\n",
    " print('I am a Student')\n",
    "class TeachingAssistant(Student, Teacher):\n",
    " def greet(self):\n",
    " super().greet()\n",
    " print('I am a Teaching Assistant') \n",
    "x = TeachingAssistant()\n",
    "x.greet()\n",
    "help(TeachingAssistant)"
   ]
  },
  {
   "cell_type": "code",
   "execution_count": null,
   "id": "cb232f99-ed48-410c-937f-6b5a59b433af",
   "metadata": {},
   "outputs": [],
   "source": [
    "s = Student()\n",
    "s.greet()"
   ]
  },
  {
   "cell_type": "code",
   "execution_count": null,
   "id": "315121b6-7fd2-4c90-aa43-89813baa58f0",
   "metadata": {},
   "outputs": [],
   "source": [
    "help(Student)"
   ]
  },
  {
   "cell_type": "code",
   "execution_count": null,
   "id": "92c6f87a-47ad-4f3b-9ec5-21e34ca82260",
   "metadata": {},
   "outputs": [],
   "source": [
    "def do_something(x):\n",
    " x.move()\n",
    " x.stop()"
   ]
  },
  {
   "cell_type": "code",
   "execution_count": null,
   "id": "416dfd76-484f-4b23-9504-11198d28aefc",
   "metadata": {},
   "outputs": [],
   "source": [
    "class Car:\n",
    " def start(self):\n",
    " print('Engine started')\n",
    " def move(self):\n",
    " print('Car is running')\n",
    " def stop(self):\n",
    " print('Brakes applied')\n",
    "class Clock:\n",
    " def move(self):\n",
    " print('Tick Tick Tick')\n",
    " def stop(self):\n",
    " print('Clock needles stopped')\n",
    "class Person:\n",
    " def move(self):\n",
    " print('Person walking')\n",
    " def stop(self):\n",
    " print('Taking rest')\n",
    "def talk(self):\n",
    " print('Hello')"
   ]
  },
  {
   "cell_type": "code",
   "execution_count": null,
   "id": "e934bd81-dd43-4df6-a72c-be49a0d046ae",
   "metadata": {},
   "outputs": [],
   "source": [
    "car = Car()\n",
    "clock = Clock()\n",
    "person = Person()"
   ]
  },
  {
   "cell_type": "code",
   "execution_count": null,
   "id": "2e2b76e8-5922-431c-9760-72a7c90f07a9",
   "metadata": {},
   "outputs": [],
   "source": [
    "do_something(car)"
   ]
  },
  {
   "cell_type": "code",
   "execution_count": null,
   "id": "32a8217e-892c-4ded-99d9-3e76d965bbc7",
   "metadata": {},
   "outputs": [],
   "source": [
    "do_something(clock)"
   ]
  },
  {
   "cell_type": "code",
   "execution_count": null,
   "id": "37d5ba45-c611-492c-bc59-6e61603db110",
   "metadata": {},
   "outputs": [],
   "source": [
    "do_something(person)"
   ]
  },
  {
   "cell_type": "code",
   "execution_count": null,
   "id": "02cbd76d-7bf2-45f3-b1ab-8cbb1e20f6bb",
   "metadata": {},
   "outputs": [],
   "source": [
    "class Rectangle:\n",
    " name = 'Rectangle'\n",
    " def __init__(self, length, breadth):\n",
    " self.length = length\n",
    " self.breadth = breadth\n",
    " def area(self):\n",
    " return self.length * self.breadth\n",
    " def perimeter(self):\n",
    " return 2 * (self.length + self.breadth)\n",
    "class Triangle:\n",
    "    name = 'Triangle'\n",
    " def __init__(self, s1, s2, s3):\n",
    " self.s1 = s1\n",
    " self.s2 = s2\n",
    " self.s3 = s3\n",
    " def area(self):\n",
    " sp = (self.s1 + self.s2 + self.s3) / 2\n",
    " return ( sp*(sp-self.s1)*(sp-self.s2)*(sp\u0002self.s3) ) ** 0.5\n",
    " def perimeter(self):\n",
    " return self.s1 + self.s2 + self.s3\n",
    "class Circle:\n",
    " name = 'Circle'\n",
    " def __init__(self, radius):\n",
    " self.radius = radius\n",
    "\n",
    "    def area(self):\n",
    " return 3.14 * self.radius * self.radius\n",
    " def perimeter(self):\n",
    " return 2 * 3.14 * self.radius\n",
    "def find_area_perimeter(shape): \n",
    " print(shape.name)\n",
    " print('Area : ', shape.area() )\n",
    " print('Perimeter : ', shape.perimeter() )\n",
    "r1 = Rectangle(13, 25)\n",
    "r2 = Rectangle(14, 16)\n",
    "t1 = Triangle(14, 17, 12)\n",
    "t2 = Triangle(25, 33, 52)\n",
    "c1 = Circle(14)\n",
    "c2 = Circle(25)"
   ]
  },
  {
   "cell_type": "code",
   "execution_count": null,
   "id": "55537791-0672-4762-ba39-0cbcdf04fbed",
   "metadata": {},
   "outputs": [],
   "source": [
    "find_area_perimeter(t2)"
   ]
  },
  {
   "cell_type": "code",
   "execution_count": null,
   "id": "d5e12461-1058-4d62-a6b7-2c8f28cc6dbe",
   "metadata": {},
   "outputs": [],
   "source": [
    "find_area_perimeter(c1)"
   ]
  },
  {
   "cell_type": "code",
   "execution_count": null,
   "id": "15d1f65c-ae45-4af8-938e-55dd59553028",
   "metadata": {},
   "outputs": [],
   "source": [
    "find_area_perimeter(r2)"
   ]
  },
  {
   "cell_type": "code",
   "execution_count": null,
   "id": "466cdb42-cc95-4186-8360-7e4aff1c4270",
   "metadata": {},
   "outputs": [],
   "source": [
    "shapes = [r1, r2, t1, t2, c1, c2]\n",
    "total_area = 0\n",
    "total_perimeter = 0\n",
    "for shape in shapes:\n",
    " total_area += shape.area()\n",
    " total_perimeter += shape.perimeter()\n",
    "print(total_area, total_perimeter)"
   ]
  },
  {
   "cell_type": "code",
   "execution_count": null,
   "id": "3fb2e47f-a567-42c3-9106-355973af752d",
   "metadata": {},
   "outputs": [],
   "source": [
    "def func(a, b):\n",
    " print(a + b)\n",
    " print(a * b)"
   ]
  },
  {
   "cell_type": "code",
   "execution_count": null,
   "id": "9b1166d7-0cb5-46ad-bd94-604c2c2daf61",
   "metadata": {},
   "outputs": [],
   "source": [
    "class Shape:\n",
    " def area(self):\n",
    " pass\n",
    " def perimeter(self):\n",
    " pass\n",
    " def draw(self): \n",
    " pass\n",
    "class Rectangle(Shape):\n",
    " def __init__(self, length, breadth):\n",
    " self.length = length\n",
    " self.breadth = breadth\n",
    " def area(self):\n",
    " return self.length * self.breadth\n",
    " def perimeter(self):\n",
    " return 2 * (self.length + self.breadth)\n",
    " def draw(self): \n",
    " print('Drawing a rectangle')\n",
    "class Triangle(Shape):\n",
    " def __init__(self, s1, s2, s3):\n",
    " self.s1 = s1\n",
    " self.s2 = s2\n",
    " self.s3 = s3\n",
    " def area(self):\n",
    " sp = (self.s1 + self.s2 + self.s3) / 2\n",
    "return ( sp*(sp-self.s1)*(sp-self.s2)*(sp\u0002self.s3) ) ** 0.5\n",
    " def perimeter(self):\n",
    " return self.s1 + self.s2 + self.s3\n",
    " def draw(self): \n",
    " print('Drawing a triangle')"
   ]
  },
  {
   "cell_type": "code",
   "execution_count": null,
   "id": "4b5df991-3d9d-4645-b562-fb8248bfd7c7",
   "metadata": {},
   "outputs": [],
   "source": [
    "from abc import ABC, abstractmethod\n",
    "class Shape(ABC):\n",
    " @abstractmethod\n",
    " def area(self):\n",
    " pass\n",
    " @abstractmethod\n",
    " def perimeter(self):\n",
    " pass\n",
    " @abstractmethod\n",
    " def draw(self): \n",
    " pass"
   ]
  },
  {
   "cell_type": "code",
   "execution_count": null,
   "id": "4c5fe770-6b73-430b-94f5-ef79a5f99e1a",
   "metadata": {},
   "outputs": [],
   "source": [
    "from abc import ABC, abstractmethod\n",
    "class Employee(ABC):\n",
    " def __init__(self, name, phone):\n",
    " self.name = name\n",
    " self.phone = phone\n",
    " def contact_details(self):\n",
    " print(self.name, self.phone)\n",
    " @abstractmethod\n",
    " def compute_salary(self):\n",
    " pass\n",
    "class PartTimeEmployee(Employee):\n",
    " def __init__(self, name, phone, hours):\n",
    " super().__init__(name, phone)\n",
    " self.hours = hours\n",
    " def compute_salary(self):\n",
    "     print('Calculating salary of part time employee')\n",
    "class FullTimeEmployee(Employee):\n",
    " def compute_salary(self):\n",
    " print('Calculating salary of full time employee')\n",
    "class TemporaryEmployee(Employee):\n",
    "def compute_salary(self):\n",
    " print('Calculating salary of temporary employee')\n",
    "e1 = PartTimeEmployee('Jack', 999909090, 4)\n",
    "e2 = FullTimeEmployee('Jim', 989898989)\n",
    "e3 = TemporaryEmployee('John', 789898989)\n",
    "employees = [e1, e2, e3]\n",
    "for e in employees:\n",
    " e.contact_details()\n",
    " e.compute_salary()"
   ]
  },
  {
   "cell_type": "code",
   "execution_count": null,
   "id": "d864e84b-58cc-4cc5-a9fd-8e3c394bb17e",
   "metadata": {},
   "outputs": [],
   "source": [
    "@property\n",
    "@abstractmethod\n",
    "def name(self):\n",
    " pass\n",
    "@classmethod\n",
    "@abstractmethod\n",
    "def method1(cls):\n",
    " pass\n",
    "@staticmethod\n",
    "@abstractmethod\n",
    "def method2():\n",
    " pass"
   ]
  },
  {
   "cell_type": "code",
   "execution_count": null,
   "id": "2a9fb2ea-03ae-426c-8f27-53a3b3f7a975",
   "metadata": {},
   "outputs": [],
   "source": [
    "class Engine:\n",
    " def __init__(self,power):\n",
    " self.power = power\n",
    " def start(self):\n",
    " self.draw_current()\n",
    " self.spin()\n",
    " self.ignite()\n",
    " def draw_current(self):\n",
    " print('Drawing current')\n",
    " def spin(self):\n",
    " print('Spinning')\n",
    " def ignite(self):\n",
    " print('Igniting')\n",
    "class Brakes:"
   ]
  },
  {
   "cell_type": "code",
   "execution_count": null,
   "id": "3047ffd5-c67b-4feb-b441-82adb5a2bcb5",
   "metadata": {},
   "outputs": [],
   "source": [
    "def __init__(self,weight):\n",
    " self.weight = weight\n",
    " def activate(self):\n",
    " print('Activating brakes') \n",
    " def release(self):\n",
    " print('Releasing brakes')\n",
    "class Car:\n",
    " def __init__(self,name, engine, brakes):\n",
    " self.name = name\n",
    " self.engine = engine\n",
    " self.brakes = brakes\n",
    " def start(self):\n",
    " self.engine.start()\n",
    " def stop(self):\n",
    " self.brakes.activate()\n",
    "e = Engine(120)\n",
    "b = Brakes(5)\n",
    "car = Car('Breeze', e, b)\n",
    "car.start()\n",
    "car.stop()"
   ]
  },
  {
   "cell_type": "code",
   "execution_count": null,
   "id": "d62d3eed-6ff5-45e8-8129-4de8fa7872d1",
   "metadata": {},
   "outputs": [],
   "source": []
  },
  {
   "cell_type": "code",
   "execution_count": null,
   "id": "33995f31-8e4f-40b0-a070-87bfbc1f6b8c",
   "metadata": {},
   "outputs": [],
   "source": []
  },
  {
   "cell_type": "code",
   "execution_count": null,
   "id": "f2aba26d-fb35-4169-b970-68bec1fda50b",
   "metadata": {},
   "outputs": [],
   "source": []
  },
  {
   "cell_type": "code",
   "execution_count": null,
   "id": "ef7f0a35-d6ac-4893-81eb-e079ea0f2ff7",
   "metadata": {},
   "outputs": [],
   "source": []
  },
  {
   "cell_type": "code",
   "execution_count": null,
   "id": "cfd09590-f469-44f9-ab40-276978f3d893",
   "metadata": {},
   "outputs": [],
   "source": []
  },
  {
   "cell_type": "code",
   "execution_count": null,
   "id": "d5d97a15-9ac9-4276-a941-ae3b13e29a46",
   "metadata": {},
   "outputs": [],
   "source": []
  },
  {
   "cell_type": "code",
   "execution_count": null,
   "id": "3e6cb7aa-a683-4dae-b5ca-57bfc5718209",
   "metadata": {},
   "outputs": [],
   "source": []
  },
  {
   "cell_type": "code",
   "execution_count": null,
   "id": "30749305-b8df-4941-9412-660ee30d7580",
   "metadata": {},
   "outputs": [],
   "source": []
  },
  {
   "cell_type": "code",
   "execution_count": null,
   "id": "b9bf2394-8b37-4b0b-befb-8eb09a4bb414",
   "metadata": {},
   "outputs": [],
   "source": []
  },
  {
   "cell_type": "code",
   "execution_count": null,
   "id": "72c70ef9-cbe6-4160-ba70-883e07dd1d30",
   "metadata": {},
   "outputs": [],
   "source": []
  },
  {
   "cell_type": "code",
   "execution_count": null,
   "id": "66e726d9-5ae3-4f0a-81b8-45c89fe3e962",
   "metadata": {},
   "outputs": [],
   "source": []
  },
  {
   "cell_type": "code",
   "execution_count": null,
   "id": "1aa823de-cdde-4d3d-a43f-e3915d4311aa",
   "metadata": {},
   "outputs": [],
   "source": []
  },
  {
   "cell_type": "code",
   "execution_count": null,
   "id": "b9d4a801-a713-45e6-a463-97ef6305fa1b",
   "metadata": {},
   "outputs": [],
   "source": []
  },
  {
   "cell_type": "code",
   "execution_count": null,
   "id": "1c2dc073-b6a4-41e3-899f-9adc40ed7ca5",
   "metadata": {},
   "outputs": [],
   "source": []
  },
  {
   "cell_type": "code",
   "execution_count": null,
   "id": "180bcf04-53d0-4a89-8d1d-f02a600f652e",
   "metadata": {},
   "outputs": [],
   "source": []
  },
  {
   "cell_type": "code",
   "execution_count": null,
   "id": "ffe93a80-a1c7-4eae-b0dd-23267ed62a8e",
   "metadata": {},
   "outputs": [],
   "source": []
  },
  {
   "cell_type": "code",
   "execution_count": null,
   "id": "1a386d65-8868-4bec-8633-dae496f6ea83",
   "metadata": {},
   "outputs": [],
   "source": []
  },
  {
   "cell_type": "code",
   "execution_count": null,
   "id": "3a51002f-432e-4fd3-9815-f9249b3d5497",
   "metadata": {},
   "outputs": [],
   "source": []
  },
  {
   "cell_type": "code",
   "execution_count": null,
   "id": "79768926-6dd0-44e3-a00e-7be5c6903dfb",
   "metadata": {},
   "outputs": [],
   "source": []
  },
  {
   "cell_type": "code",
   "execution_count": null,
   "id": "30a20191-6b28-445c-9e96-24c42bda76d2",
   "metadata": {},
   "outputs": [],
   "source": []
  },
  {
   "cell_type": "code",
   "execution_count": null,
   "id": "a2e88cc0-8a03-4157-b41c-75d53918c208",
   "metadata": {},
   "outputs": [],
   "source": []
  },
  {
   "cell_type": "code",
   "execution_count": null,
   "id": "258d33e1-9664-4315-8e80-bf7e778851df",
   "metadata": {},
   "outputs": [],
   "source": []
  },
  {
   "cell_type": "code",
   "execution_count": null,
   "id": "495b7b48-7f12-44d7-bdd5-0c2a530de828",
   "metadata": {},
   "outputs": [],
   "source": []
  },
  {
   "cell_type": "code",
   "execution_count": null,
   "id": "9153fdfa-f3ff-45b6-aff0-4887eaa78474",
   "metadata": {},
   "outputs": [],
   "source": []
  },
  {
   "cell_type": "code",
   "execution_count": null,
   "id": "3cf61a1e-49a4-4d17-940d-74f8945d1249",
   "metadata": {},
   "outputs": [],
   "source": []
  },
  {
   "cell_type": "code",
   "execution_count": null,
   "id": "7511e6f2-f903-489c-9bf0-1c4ed1921785",
   "metadata": {},
   "outputs": [],
   "source": []
  }
 ],
 "metadata": {
  "kernelspec": {
   "display_name": "Python 3 (ipykernel)",
   "language": "python",
   "name": "python3"
  },
  "language_info": {
   "codemirror_mode": {
    "name": "ipython",
    "version": 3
   },
   "file_extension": ".py",
   "mimetype": "text/x-python",
   "name": "python",
   "nbconvert_exporter": "python",
   "pygments_lexer": "ipython3",
   "version": "3.12.7"
  }
 },
 "nbformat": 4,
 "nbformat_minor": 5
}
