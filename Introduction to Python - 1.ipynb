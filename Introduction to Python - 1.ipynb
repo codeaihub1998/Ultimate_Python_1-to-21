{
 "cells": [
  {
   "cell_type": "markdown",
   "id": "7e9b8381-1932-4957-857f-81147b3736df",
   "metadata": {},
   "source": [
    "Python Interactive Mode"
   ]
  },
  {
   "cell_type": "code",
   "execution_count": 5,
   "id": "f0f670c4-e5d4-4ff4-9e9f-d0e24a9d1192",
   "metadata": {},
   "outputs": [
    {
     "data": {
      "text/plain": [
       "10"
      ]
     },
     "execution_count": 5,
     "metadata": {},
     "output_type": "execute_result"
    }
   ],
   "source": [
    "4 + 6"
   ]
  },
  {
   "cell_type": "code",
   "execution_count": 7,
   "id": "fc441053-d914-4ebf-b000-75d928a0d6ce",
   "metadata": {},
   "outputs": [
    {
     "name": "stdout",
     "output_type": "stream",
     "text": [
      "Hello\n"
     ]
    }
   ],
   "source": [
    "print('Hello')"
   ]
  },
  {
   "cell_type": "code",
   "execution_count": 8,
   "id": "9529ae3e-bcf4-4918-9d17-c6b01dccf521",
   "metadata": {},
   "outputs": [
    {
     "name": "stdout",
     "output_type": "stream",
     "text": [
      "The Zen of Python, by Tim Peters\n",
      "\n",
      "Beautiful is better than ugly.\n",
      "Explicit is better than implicit.\n",
      "Simple is better than complex.\n",
      "Complex is better than complicated.\n",
      "Flat is better than nested.\n",
      "Sparse is better than dense.\n",
      "Readability counts.\n",
      "Special cases aren't special enough to break the rules.\n",
      "Although practicality beats purity.\n",
      "Errors should never pass silently.\n",
      "Unless explicitly silenced.\n",
      "In the face of ambiguity, refuse the temptation to guess.\n",
      "There should be one-- and preferably only one --obvious way to do it.\n",
      "Although that way may not be obvious at first unless you're Dutch.\n",
      "Now is better than never.\n",
      "Although never is often better than *right* now.\n",
      "If the implementation is hard to explain, it's a bad idea.\n",
      "If the implementation is easy to explain, it may be a good idea.\n",
      "Namespaces are one honking great idea -- let's do more of those!\n"
     ]
    }
   ],
   "source": [
    "import this"
   ]
  },
  {
   "cell_type": "markdown",
   "id": "fa34473d-f251-4942-922c-950acfaa42a0",
   "metadata": {},
   "source": [
    "Executing a Python Script"
   ]
  },
  {
   "cell_type": "code",
   "execution_count": 9,
   "id": "6f40b86a-1782-4432-8829-6b593e0c4e52",
   "metadata": {},
   "outputs": [
    {
     "name": "stdout",
     "output_type": "stream",
     "text": [
      "Hello!\n",
      "8\n"
     ]
    }
   ],
   "source": [
    "print(\"Hello!\")\n",
    "print(5+3)"
   ]
  },
  {
   "cell_type": "code",
   "execution_count": 10,
   "id": "680fa456-6548-45d4-85a1-56f789291db0",
   "metadata": {},
   "outputs": [
    {
     "name": "stdout",
     "output_type": "stream",
     "text": [
      "Hi!\n",
      "3\n"
     ]
    }
   ],
   "source": [
    "print('Hi!')\n",
    "print(5 - 2)"
   ]
  },
  {
   "cell_type": "markdown",
   "id": "b98046e7-3dea-42dc-9035-d2d29b10944a",
   "metadata": {},
   "source": [
    "Getting Help "
   ]
  },
  {
   "cell_type": "code",
   "execution_count": 11,
   "id": "0fe680b8-5690-4fbb-8dfc-cdc3d0007ea3",
   "metadata": {},
   "outputs": [
    {
     "name": "stdout",
     "output_type": "stream",
     "text": [
      "Help on built-in function print in module builtins:\n",
      "\n",
      "print(*args, sep=' ', end='\\n', file=None, flush=False)\n",
      "    Prints the values to a stream, or to sys.stdout by default.\n",
      "\n",
      "    sep\n",
      "      string inserted between values, default a space.\n",
      "    end\n",
      "      string appended after the last value, default a newline.\n",
      "    file\n",
      "      a file-like object (stream); defaults to the current sys.stdout.\n",
      "    flush\n",
      "      whether to forcibly flush the stream.\n",
      "\n",
      "\n",
      "Here is a list of the Python keywords.  Enter any keyword to get more help.\n",
      "\n",
      "False               class               from                or\n",
      "None                continue            global              pass\n",
      "True                def                 if                  raise\n",
      "and                 del                 import              return\n",
      "as                  elif                in                  try\n",
      "assert              else                is                  while\n",
      "async               except              lambda              with\n",
      "await               finally             nonlocal            yield\n",
      "break               for                 not                 \n",
      "\n",
      "The \"for\" statement\n",
      "*******************\n",
      "\n",
      "The \"for\" statement is used to iterate over the elements of a sequence\n",
      "(such as a string, tuple or list) or other iterable object:\n",
      "\n",
      "   for_stmt ::= \"for\" target_list \"in\" starred_list \":\" suite\n",
      "                [\"else\" \":\" suite]\n",
      "\n",
      "The \"starred_list\" expression is evaluated once; it should yield an\n",
      "*iterable* object.  An *iterator* is created for that iterable. The\n",
      "first item provided by the iterator is then assigned to the target\n",
      "list using the standard rules for assignments (see Assignment\n",
      "statements), and the suite is executed.  This repeats for each item\n",
      "provided by the iterator.  When the iterator is exhausted, the suite\n",
      "in the \"else\" clause, if present, is executed, and the loop\n",
      "terminates.\n",
      "\n",
      "A \"break\" statement executed in the first suite terminates the loop\n",
      "without executing the \"else\" clause’s suite.  A \"continue\" statement\n",
      "executed in the first suite skips the rest of the suite and continues\n",
      "with the next item, or with the \"else\" clause if there is no next\n",
      "item.\n",
      "\n",
      "The for-loop makes assignments to the variables in the target list.\n",
      "This overwrites all previous assignments to those variables including\n",
      "those made in the suite of the for-loop:\n",
      "\n",
      "   for i in range(10):\n",
      "       print(i)\n",
      "       i = 5             # this will not affect the for-loop\n",
      "                         # because i will be overwritten with the next\n",
      "                         # index in the range\n",
      "\n",
      "Names in the target list are not deleted when the loop is finished,\n",
      "but if the sequence is empty, they will not have been assigned to at\n",
      "all by the loop.  Hint: the built-in type \"range()\" represents\n",
      "immutable arithmetic sequences of integers. For instance, iterating\n",
      "\"range(3)\" successively yields 0, 1, and then 2.\n",
      "\n",
      "Changed in version 3.11: Starred elements are now allowed in the\n",
      "expression list.\n",
      "\n",
      "Related help topics: break, continue, while\n",
      "\n"
     ]
    }
   ],
   "source": [
    "help('print')\n",
    "help('keywords')\n",
    "help('for')"
   ]
  },
  {
   "cell_type": "code",
   "execution_count": null,
   "id": "496cd653-c1d6-408a-ba41-213cbe410665",
   "metadata": {},
   "outputs": [],
   "source": [
    "he"
   ]
  }
 ],
 "metadata": {
  "kernelspec": {
   "display_name": "Python 3 (ipykernel)",
   "language": "python",
   "name": "python3"
  },
  "language_info": {
   "codemirror_mode": {
    "name": "ipython",
    "version": 3
   },
   "file_extension": ".py",
   "mimetype": "text/x-python",
   "name": "python",
   "nbconvert_exporter": "python",
   "pygments_lexer": "ipython3",
   "version": "3.12.7"
  }
 },
 "nbformat": 4,
 "nbformat_minor": 5
}
