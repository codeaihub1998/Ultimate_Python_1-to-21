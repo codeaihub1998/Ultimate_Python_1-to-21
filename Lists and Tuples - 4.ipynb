{
 "cells": [
  {
   "cell_type": "code",
   "execution_count": 1,
   "id": "d58a22fa-4c13-4962-bc69-63b8b4108a1b",
   "metadata": {},
   "outputs": [
    {
     "data": {
      "text/plain": [
       "[10, 15, 'black', None, 3.5, True, 15]"
      ]
     },
     "execution_count": 1,
     "metadata": {},
     "output_type": "execute_result"
    }
   ],
   "source": [
    "[27, 13, 14, 26, 19]\n",
    "[ ]\n",
    "['papaya', 'apple', 'banana']\n",
    "[10, 15, 'black', None, 3.5, True, 15,]"
   ]
  },
  {
   "cell_type": "code",
   "execution_count": 2,
   "id": "e1642459-ad6d-46f2-9dc5-5ea8486704b3",
   "metadata": {},
   "outputs": [],
   "source": [
    "list1 = [12, 43, 21, 67, 54, 11]"
   ]
  },
  {
   "cell_type": "code",
   "execution_count": 3,
   "id": "1138a519-0fb5-46a9-8fed-41cf63608503",
   "metadata": {},
   "outputs": [],
   "source": [
    "destination1 = 'Delhi'\n",
    "destination2 = 'Bareilly'\n",
    "destination3 = 'Srinagar'\n",
    "destination4 = 'Agra'\n",
    "destination5 = 'Jaipur'\n",
    "destination6 = 'Mumbai'\n",
    "destination7 = 'Goa'\n",
    "destination8 = 'Bangalore'\n",
    "destination9 = 'Kolkata'\n",
    "destination10 = 'Varanasi'"
   ]
  },
  {
   "cell_type": "code",
   "execution_count": 4,
   "id": "fb6cc5dc-9849-480d-a843-0cf1747eec5b",
   "metadata": {},
   "outputs": [],
   "source": [
    "trip = [\n",
    " 'Delhi', 'Bareilly', 'Srinagar', 'Agra',\n",
    "'Jaipur', 'Mumbai', 'Goa', 'Bangalore', 'Kolkata', 'Varanasi']"
   ]
  },
  {
   "cell_type": "markdown",
   "id": "6b8fa300-3551-446b-b6fa-f04cd0c418a6",
   "metadata": {},
   "source": [
    "Accessing Individual Elements of a List by Indexing"
   ]
  },
  {
   "cell_type": "code",
   "execution_count": 5,
   "id": "dc4c0739-f7ae-449c-a91a-332db30079a4",
   "metadata": {},
   "outputs": [],
   "source": [
    "L = [10, 20, 30, 40, 50, 60]"
   ]
  },
  {
   "cell_type": "code",
   "execution_count": 6,
   "id": "114cd529-43e0-450b-b7a0-268556dd9148",
   "metadata": {},
   "outputs": [
    {
     "data": {
      "text/plain": [
       "[10, 20, 30, 40, 50, 60]"
      ]
     },
     "execution_count": 6,
     "metadata": {},
     "output_type": "execute_result"
    }
   ],
   "source": [
    "L"
   ]
  },
  {
   "cell_type": "code",
   "execution_count": 7,
   "id": "8d343377-232e-4a6c-9ba1-e01afb5be168",
   "metadata": {},
   "outputs": [
    {
     "data": {
      "text/plain": [
       "20"
      ]
     },
     "execution_count": 7,
     "metadata": {},
     "output_type": "execute_result"
    }
   ],
   "source": [
    "L[1]"
   ]
  },
  {
   "cell_type": "code",
   "execution_count": 8,
   "id": "de623da7-a885-409f-a542-9ddc934513a9",
   "metadata": {},
   "outputs": [
    {
     "data": {
      "text/plain": [
       "60"
      ]
     },
     "execution_count": 8,
     "metadata": {},
     "output_type": "execute_result"
    }
   ],
   "source": [
    "L[-1]"
   ]
  },
  {
   "cell_type": "code",
   "execution_count": 9,
   "id": "3589bf57-5506-4c3a-9249-3f51000fe16d",
   "metadata": {},
   "outputs": [
    {
     "ename": "IndexError",
     "evalue": "list index out of range",
     "output_type": "error",
     "traceback": [
      "\u001b[1;31m---------------------------------------------------------------------------\u001b[0m",
      "\u001b[1;31mIndexError\u001b[0m                                Traceback (most recent call last)",
      "Cell \u001b[1;32mIn[9], line 1\u001b[0m\n\u001b[1;32m----> 1\u001b[0m L[\u001b[38;5;241m10\u001b[39m]\n",
      "\u001b[1;31mIndexError\u001b[0m: list index out of range"
     ]
    }
   ],
   "source": [
    "L[10]"
   ]
  },
  {
   "cell_type": "markdown",
   "id": "a44ba8cc-3cca-4375-b613-867bd8731776",
   "metadata": {},
   "source": [
    "Getting Part of List by Slicing"
   ]
  },
  {
   "cell_type": "code",
   "execution_count": 10,
   "id": "71a4dc06-a516-47de-a7bc-7b4ff0a1322c",
   "metadata": {},
   "outputs": [],
   "source": [
    "L = [10, 20, 30, 40, 50, 60, 70, 80, 90, 100, 110]"
   ]
  },
  {
   "cell_type": "markdown",
   "id": "4a697ac9-8b61-43b9-ae65-385be8988672",
   "metadata": {},
   "source": [
    "L[2:7] Gives a list that contains elements from index 2 to index 6 [30, 40, 50, 60, 70]\n",
    "\n",
    "L[2:77] Gives a list that contains elements from index 2 to index 10 (No IndexError)[30, 40, 50, 60, 70, 80, 90, 100, 110]\n",
    "\n",
    "L[:5] Gives a list that contains elements from index 0 to index 4 (first 5 elements) [10, 20, 30, 40, 50]\n",
    "\n",
    "L[5:] Gives a list that contains elements from index 5 to index 10 [60, 70, 80, 90, 100, 110]\n",
    "\n",
    "L[-5:] Gives a list that contains elements from index -5 to index 10 (last 5 elements) [70, 80, 90, 100, 110]\n",
    "\n",
    "L[2:9:2] Gives a list that contains every second element from index 2 to index 8 [30, 50, 70, 90]\n",
    "\n",
    "L[::2] Gives a list that contains every second element starting from first index till last index [10, 30, 50, 70, 90, 110]\n",
    "\n",
    "L[:] Gives a list that is an exact copy of the list L [10, 20, 30, 40, 50, 60, 70, 80, 90, 100, 110]\n",
    "\n",
    "L[::-1] Gives a list that is the reverse of the list L [110, 100, 90, 80, 70, 60, 50, 40, 30, 20, 10]"
   ]
  },
  {
   "cell_type": "code",
   "execution_count": 11,
   "id": "6d0b074d-9e69-48f1-99bf-af2a0320d9cb",
   "metadata": {},
   "outputs": [],
   "source": [
    "L1 = L[::-1]"
   ]
  },
  {
   "cell_type": "code",
   "execution_count": 12,
   "id": "f2f723b1-3481-4976-b6d2-dd4516d24168",
   "metadata": {},
   "outputs": [],
   "source": [
    "L2 = L[:]"
   ]
  },
  {
   "cell_type": "markdown",
   "id": "d3d9cfef-fa86-4655-aabf-a6866e2ae8e4",
   "metadata": {},
   "source": [
    "Changing an Item in a List by Indexing"
   ]
  },
  {
   "cell_type": "code",
   "execution_count": 14,
   "id": "f10de66e-13e7-42f4-b688-519e5c293e87",
   "metadata": {},
   "outputs": [
    {
     "data": {
      "text/plain": [
       "[12, 50, 21, 67, 54, 11, 13]"
      ]
     },
     "execution_count": 14,
     "metadata": {},
     "output_type": "execute_result"
    }
   ],
   "source": [
    "L = [12, 43, 21, 67, 54, 11, 13]\n",
    "L[1] = 50\n",
    "L"
   ]
  },
  {
   "cell_type": "code",
   "execution_count": 15,
   "id": "b2ac739a-1f97-4d10-9378-09bd44248356",
   "metadata": {},
   "outputs": [
    {
     "ename": "IndexError",
     "evalue": "list assignment index out of range",
     "output_type": "error",
     "traceback": [
      "\u001b[1;31m---------------------------------------------------------------------------\u001b[0m",
      "\u001b[1;31mIndexError\u001b[0m                                Traceback (most recent call last)",
      "Cell \u001b[1;32mIn[15], line 1\u001b[0m\n\u001b[1;32m----> 1\u001b[0m L[\u001b[38;5;241m7\u001b[39m] \u001b[38;5;241m=\u001b[39m \u001b[38;5;241m100\u001b[39m\n",
      "\u001b[1;31mIndexError\u001b[0m: list assignment index out of range"
     ]
    }
   ],
   "source": [
    "L[7] = 100"
   ]
  },
  {
   "cell_type": "markdown",
   "id": "ff212c97-8fde-4cfb-b035-fc74a5ff0ca9",
   "metadata": {},
   "source": [
    "Changing a portion of a List by Slice Assignments"
   ]
  },
  {
   "cell_type": "code",
   "execution_count": 16,
   "id": "b62b6ff2-01c0-48bb-8ffd-22da610cd7ed",
   "metadata": {},
   "outputs": [],
   "source": [
    " L = [12, 43, 21, 67, 54, 11, 13]"
   ]
  },
  {
   "cell_type": "code",
   "execution_count": 17,
   "id": "8365b89b-3936-4ca4-ba67-c44039f3898b",
   "metadata": {},
   "outputs": [
    {
     "data": {
      "text/plain": [
       "[12, 43, 300, 400, 500, 11, 13]"
      ]
     },
     "execution_count": 17,
     "metadata": {},
     "output_type": "execute_result"
    }
   ],
   "source": [
    "L[2:5] = [300, 400, 500]\n",
    "L"
   ]
  },
  {
   "cell_type": "code",
   "execution_count": 18,
   "id": "25f21a0e-f267-4a80-b1d6-c64ec697d2b6",
   "metadata": {},
   "outputs": [
    {
     "data": {
      "text/plain": [
       "[12, 43, 'a', 'b', 'c', 'd', 'e', 11, 13]"
      ]
     },
     "execution_count": 18,
     "metadata": {},
     "output_type": "execute_result"
    }
   ],
   "source": [
    "L = [12, 43, 21, 67, 54, 11, 13]\n",
    "L[2:5] = ['a', 'b', 'c', 'd', 'e']\n",
    "L"
   ]
  },
  {
   "cell_type": "code",
   "execution_count": 19,
   "id": "9079a187-9c2e-494a-9555-a5830b068786",
   "metadata": {},
   "outputs": [
    {
     "data": {
      "text/plain": [
       "[12, 43, 21, 'a', 'b', 'c', 'd', 'e', 'f', 13]"
      ]
     },
     "execution_count": 19,
     "metadata": {},
     "output_type": "execute_result"
    }
   ],
   "source": [
    "L = [12, 43, 21, 67, 54, 11, 13]\n",
    "L[3:6] = 'abcdef'\n",
    "L"
   ]
  },
  {
   "cell_type": "code",
   "execution_count": 20,
   "id": "3f140c83-5593-41a0-a23f-4b26fc99ad0c",
   "metadata": {},
   "outputs": [
    {
     "data": {
      "text/plain": [
       "[12, 43, 21, 13]"
      ]
     },
     "execution_count": 20,
     "metadata": {},
     "output_type": "execute_result"
    }
   ],
   "source": [
    "L = [12, 43, 21, 67, 54, 11, 13]\n",
    "L[3:6] = []\n",
    "L"
   ]
  },
  {
   "cell_type": "code",
   "execution_count": 21,
   "id": "42db6047-0382-406a-8f7f-9946900eed52",
   "metadata": {},
   "outputs": [
    {
     "data": {
      "text/plain": [
       "[1, 2, 3, 4]"
      ]
     },
     "execution_count": 21,
     "metadata": {},
     "output_type": "execute_result"
    }
   ],
   "source": [
    "L = [12, 43, 21, 67, 54, 11, 13]\n",
    "L[:] = [1, 2, 3, 4]\n",
    "L"
   ]
  },
  {
   "cell_type": "code",
   "execution_count": 22,
   "id": "d090159b-eee7-4a23-8170-3bad9b7c4cb5",
   "metadata": {},
   "outputs": [
    {
     "data": {
      "text/plain": [
       "[]"
      ]
     },
     "execution_count": 22,
     "metadata": {},
     "output_type": "execute_result"
    }
   ],
   "source": [
    "L = [12, 43, 21, 67, 54, 11, 13]\n",
    "L[:] = []\n",
    "L"
   ]
  },
  {
   "cell_type": "code",
   "execution_count": 23,
   "id": "d7bdfa5c-04b9-4d35-8c3a-5c8c8ed9df8a",
   "metadata": {},
   "outputs": [
    {
     "data": {
      "text/plain": [
       "[12, 43, 21, 10, 20, 30, 40, 67, 54, 11, 13]"
      ]
     },
     "execution_count": 23,
     "metadata": {},
     "output_type": "execute_result"
    }
   ],
   "source": [
    "L = [12, 43, 21, 67, 54, 11, 13]\n",
    "L[3:3] = [10, 20, 30, 40]\n",
    "L"
   ]
  },
  {
   "cell_type": "code",
   "execution_count": 24,
   "id": "fa2b855a-e0a7-4c10-8a7d-2757b95137e9",
   "metadata": {},
   "outputs": [
    {
     "data": {
      "text/plain": [
       "[7, 8, 9, 12, 43, 21, 67, 54, 11, 13]"
      ]
     },
     "execution_count": 24,
     "metadata": {},
     "output_type": "execute_result"
    }
   ],
   "source": [
    "L = [12, 43, 21, 67, 54, 11, 13]\n",
    "L[0:0] = [7, 8, 9] # or L[:0] = [7, 8, 9]\n",
    "L"
   ]
  },
  {
   "cell_type": "code",
   "execution_count": 25,
   "id": "7646583a-9cb0-4f36-a1c5-ba609dbe47d4",
   "metadata": {},
   "outputs": [
    {
     "ename": "TypeError",
     "evalue": "must assign iterable to extended slice",
     "output_type": "error",
     "traceback": [
      "\u001b[1;31m---------------------------------------------------------------------------\u001b[0m",
      "\u001b[1;31mTypeError\u001b[0m                                 Traceback (most recent call last)",
      "Cell \u001b[1;32mIn[25], line 1\u001b[0m\n\u001b[1;32m----> 1\u001b[0m L[\u001b[38;5;241m5\u001b[39m:\u001b[38;5;241m5\u001b[39m] \u001b[38;5;241m=\u001b[39m \u001b[38;5;241m90\u001b[39m\n",
      "\u001b[1;31mTypeError\u001b[0m: must assign iterable to extended slice"
     ]
    }
   ],
   "source": [
    "L[5:5] = 90"
   ]
  },
  {
   "cell_type": "code",
   "execution_count": 26,
   "id": "d134e656-ef84-42f8-a172-7c981820f4b0",
   "metadata": {},
   "outputs": [
    {
     "data": {
      "text/plain": [
       "[7, 8, 9, 12, 43, 90, 21, 67, 54, 11, 13]"
      ]
     },
     "execution_count": 26,
     "metadata": {},
     "output_type": "execute_result"
    }
   ],
   "source": [
    "L[5:5] = [90]\n",
    "L"
   ]
  },
  {
   "cell_type": "markdown",
   "id": "b05e0cb2-6a18-499f-a22f-745b65aa50bc",
   "metadata": {},
   "source": [
    "Adding an Item at the End of the list by suing append() function"
   ]
  },
  {
   "cell_type": "code",
   "execution_count": 27,
   "id": "34a22ce7-1665-45ba-85a7-5bd8e4a01e91",
   "metadata": {},
   "outputs": [
    {
     "data": {
      "text/plain": [
       "[10, 20, 30, 40, 50]"
      ]
     },
     "execution_count": 27,
     "metadata": {},
     "output_type": "execute_result"
    }
   ],
   "source": [
    "numbers = [10, 20, 30, 40]\n",
    "numbers.append(50)\n",
    "numbers"
   ]
  },
  {
   "cell_type": "markdown",
   "id": "bacab9e7-5a8f-42a3-b0e9-c120ddc78552",
   "metadata": {},
   "source": [
    "Adding an item Anywhere in the list"
   ]
  },
  {
   "cell_type": "code",
   "execution_count": 28,
   "id": "7490ecc6-1312-47c1-97eb-5c67406050fb",
   "metadata": {},
   "outputs": [
    {
     "data": {
      "text/plain": [
       "[10, 20, 25, 30, 40, 50]"
      ]
     },
     "execution_count": 28,
     "metadata": {},
     "output_type": "execute_result"
    }
   ],
   "source": [
    "numbers = [10, 20, 30, 40, 50]\n",
    "numbers.insert(2, 25)\n",
    "numbers"
   ]
  },
  {
   "cell_type": "code",
   "execution_count": 29,
   "id": "afff58a8-6fa3-4c7c-b62a-b3ed298ddf79",
   "metadata": {},
   "outputs": [
    {
     "data": {
      "text/plain": [
       "[8, 10, 20, 25, 30, 40, 50]"
      ]
     },
     "execution_count": 29,
     "metadata": {},
     "output_type": "execute_result"
    }
   ],
   "source": [
    "numbers.insert(0, 8)\n",
    "numbers"
   ]
  },
  {
   "cell_type": "code",
   "execution_count": 30,
   "id": "a067fd3b-dca2-4529-8cff-048e8c6a5e94",
   "metadata": {},
   "outputs": [
    {
     "data": {
      "text/plain": [
       "[8, 10, 20, 25, 30, 40, 50, 5]"
      ]
     },
     "execution_count": 30,
     "metadata": {},
     "output_type": "execute_result"
    }
   ],
   "source": [
    "numbers.insert(1000, 5)\n",
    "numbers"
   ]
  },
  {
   "cell_type": "markdown",
   "id": "022c0787-78be-45a6-aa2e-789bcb8f62b2",
   "metadata": {},
   "source": [
    "Adding Multiple items at the end by using extend() or +="
   ]
  },
  {
   "cell_type": "code",
   "execution_count": 31,
   "id": "28d772d7-874e-4a36-b517-c84a1235edd7",
   "metadata": {},
   "outputs": [],
   "source": [
    "numbers = [10, 20, 30]\n",
    "nums = [1, 2, 3, 4]\n",
    "numbers.extend(nums)"
   ]
  },
  {
   "cell_type": "code",
   "execution_count": 32,
   "id": "39f2d4bb-0f55-48f2-8169-7bb53c412ead",
   "metadata": {},
   "outputs": [
    {
     "data": {
      "text/plain": [
       "[10, 20, 30, [1, 2, 3, 4]]"
      ]
     },
     "execution_count": 32,
     "metadata": {},
     "output_type": "execute_result"
    }
   ],
   "source": [
    "numbers = [10, 20, 30]\n",
    "nums = [1, 2, 3, 4]\n",
    "numbers.append(nums)\n",
    "numbers"
   ]
  },
  {
   "cell_type": "code",
   "execution_count": 33,
   "id": "f0debf37-9384-41b4-a03c-569af01d8571",
   "metadata": {},
   "outputs": [
    {
     "data": {
      "text/plain": [
       "[10, 20, 30, 'a', 'b', 'c', 'd']"
      ]
     },
     "execution_count": 33,
     "metadata": {},
     "output_type": "execute_result"
    }
   ],
   "source": [
    "numbers = [10, 20, 30]\n",
    "numbers.extend('abcd')\n",
    "numbers"
   ]
  },
  {
   "cell_type": "code",
   "execution_count": 34,
   "id": "23245d74-3b36-4992-8ef6-430b348bdc33",
   "metadata": {},
   "outputs": [
    {
     "data": {
      "text/plain": [
       "[10, 20, 30, 'a', 'b', 'c', 'd', 98, 99, 100]"
      ]
     },
     "execution_count": 34,
     "metadata": {},
     "output_type": "execute_result"
    }
   ],
   "source": [
    "numbers += [98, 99, 100]\n",
    "numbers"
   ]
  },
  {
   "cell_type": "markdown",
   "id": "2ead6ffb-57e7-4a07-abb3-7dbb6d67215e",
   "metadata": {},
   "source": [
    "Removing a single element or a slice by using del() function\n",
    "\n",
    "1) del L[i] Removes the element at index i\n",
    "2) del L[i:j] Removes elements from index i to index j-1\n",
    "3) del L[i:j:k] Removes elements from index i to index j-1 with a stride of k"
   ]
  },
  {
   "cell_type": "code",
   "execution_count": 35,
   "id": "5f69f445-8563-433a-8b17-35198bdb002f",
   "metadata": {},
   "outputs": [
    {
     "data": {
      "text/plain": [
       "[10, 20, 30, 40, 60]"
      ]
     },
     "execution_count": 35,
     "metadata": {},
     "output_type": "execute_result"
    }
   ],
   "source": [
    "numbers = [10, 20, 30, 40, 50, 60]\n",
    "del numbers[4] # Deletes element at index 4\n",
    "numbers"
   ]
  },
  {
   "cell_type": "code",
   "execution_count": 36,
   "id": "a4f567b9-c84b-4bda-86db-61804ad7094c",
   "metadata": {},
   "outputs": [
    {
     "data": {
      "text/plain": [
       "[10, 20, 80, 90, 100]"
      ]
     },
     "execution_count": 36,
     "metadata": {},
     "output_type": "execute_result"
    }
   ],
   "source": [
    "numbers = [10, 20, 30, 40, 50, 60, 70, 80, 90, 100]\n",
    "del numbers[2:7] # Deletes elements from index 2 to index 6\n",
    "numbers"
   ]
  },
  {
   "cell_type": "markdown",
   "id": "58fb4a10-add3-48b1-b4b9-a9719a4039bb",
   "metadata": {},
   "source": [
    "Removing an element by using Index and getting it by using pop()"
   ]
  },
  {
   "cell_type": "code",
   "execution_count": 37,
   "id": "a583fbeb-ca16-4d35-8040-8fdc64337c99",
   "metadata": {},
   "outputs": [
    {
     "data": {
      "text/plain": [
       "50"
      ]
     },
     "execution_count": 37,
     "metadata": {},
     "output_type": "execute_result"
    }
   ],
   "source": [
    "numbers = [10, 20, 30, 40, 50, 60, 70, 80]\n",
    "x = numbers.pop(4) # removes the element at index 4\n",
    "x"
   ]
  },
  {
   "cell_type": "code",
   "execution_count": 38,
   "id": "a82f04b9-8cb6-41ee-bb0c-54f3c0eb1511",
   "metadata": {},
   "outputs": [
    {
     "data": {
      "text/plain": [
       "[10, 20, 30, 40, 60, 70, 80]"
      ]
     },
     "execution_count": 38,
     "metadata": {},
     "output_type": "execute_result"
    }
   ],
   "source": [
    "numbers"
   ]
  },
  {
   "cell_type": "code",
   "execution_count": 39,
   "id": "f2ca8693-31a6-46c2-acaa-d4b19a55839a",
   "metadata": {},
   "outputs": [
    {
     "data": {
      "text/plain": [
       "80"
      ]
     },
     "execution_count": 39,
     "metadata": {},
     "output_type": "execute_result"
    }
   ],
   "source": [
    "z = numbers.pop() # removes the last element\n",
    "z"
   ]
  },
  {
   "cell_type": "code",
   "execution_count": 40,
   "id": "e74d8a7c-9fda-43ff-9624-27756f1ae7b8",
   "metadata": {},
   "outputs": [
    {
     "data": {
      "text/plain": [
       "[10, 20, 30, 40, 60, 70]"
      ]
     },
     "execution_count": 40,
     "metadata": {},
     "output_type": "execute_result"
    }
   ],
   "source": [
    "numbers"
   ]
  },
  {
   "cell_type": "markdown",
   "id": "f68b7923-1447-4f52-b48b-d80e3992c8ac",
   "metadata": {},
   "source": [
    "Removing an element by value using remove() function"
   ]
  },
  {
   "cell_type": "code",
   "execution_count": 41,
   "id": "a037849b-0d39-430f-b679-cdf75ea42a0e",
   "metadata": {},
   "outputs": [
    {
     "data": {
      "text/plain": [
       "[10, 30, 40, 50, 60, 70, 80]"
      ]
     },
     "execution_count": 41,
     "metadata": {},
     "output_type": "execute_result"
    }
   ],
   "source": [
    "numbers = [10, 20, 30, 40, 50, 60, 70, 80]\n",
    "numbers.remove(20)\n",
    "numbers"
   ]
  },
  {
   "cell_type": "code",
   "execution_count": 42,
   "id": "a390f880-aff4-45ed-8be9-486b4005a7cb",
   "metadata": {},
   "outputs": [
    {
     "ename": "ValueError",
     "evalue": "list.remove(x): x not in list",
     "output_type": "error",
     "traceback": [
      "\u001b[1;31m---------------------------------------------------------------------------\u001b[0m",
      "\u001b[1;31mValueError\u001b[0m                                Traceback (most recent call last)",
      "Cell \u001b[1;32mIn[42], line 1\u001b[0m\n\u001b[1;32m----> 1\u001b[0m numbers\u001b[38;5;241m.\u001b[39mremove(\u001b[38;5;241m25\u001b[39m)\n",
      "\u001b[1;31mValueError\u001b[0m: list.remove(x): x not in list"
     ]
    }
   ],
   "source": [
    "numbers.remove(25)"
   ]
  },
  {
   "cell_type": "markdown",
   "id": "c1e67583-3b0d-42fa-a8f7-0ec7cd4381ac",
   "metadata": {},
   "source": [
    "Removing all the elements by using clear() function"
   ]
  },
  {
   "cell_type": "code",
   "execution_count": 43,
   "id": "65ec74dd-f7e6-42fa-bdf8-cbf60a412674",
   "metadata": {},
   "outputs": [
    {
     "data": {
      "text/plain": [
       "[]"
      ]
     },
     "execution_count": 43,
     "metadata": {},
     "output_type": "execute_result"
    }
   ],
   "source": [
    "numbers = [10, 20, 30, 40, 50, 60, 70, 80]\n",
    "numbers.clear()\n",
    "numbers"
   ]
  },
  {
   "cell_type": "code",
   "execution_count": 44,
   "id": "e0a74105-b922-43f3-b97d-5b363b26c828",
   "metadata": {},
   "outputs": [],
   "source": [
    "del numbers[:]\n",
    "numbers[:] = []"
   ]
  },
  {
   "cell_type": "code",
   "execution_count": 45,
   "id": "5d541c90-f906-427e-9083-75db7923e095",
   "metadata": {},
   "outputs": [],
   "source": [
    "numbers = [] # assigns a new empty list, not an in-place clearing"
   ]
  },
  {
   "cell_type": "markdown",
   "id": "e2bab568-e68f-4866-b2b3-f3d7ac21523c",
   "metadata": {},
   "source": [
    "Sorting a list"
   ]
  },
  {
   "cell_type": "code",
   "execution_count": 46,
   "id": "8358e8aa-f9f7-41e9-bb94-6eda6d7effca",
   "metadata": {},
   "outputs": [
    {
     "data": {
      "text/plain": [
       "[12, 14, 23, 34, 76, 89]"
      ]
     },
     "execution_count": 46,
     "metadata": {},
     "output_type": "execute_result"
    }
   ],
   "source": [
    "L = [23, 76, 34, 12, 89, 14]\n",
    "L.sort()\n",
    "L"
   ]
  },
  {
   "cell_type": "code",
   "execution_count": 47,
   "id": "f3824dba-8d05-4040-b402-c6c2a4d001e5",
   "metadata": {},
   "outputs": [
    {
     "data": {
      "text/plain": [
       "[89, 76, 34, 23, 14, 12]"
      ]
     },
     "execution_count": 47,
     "metadata": {},
     "output_type": "execute_result"
    }
   ],
   "source": [
    "L = [23, 76, 34, 12, 89, 14]\n",
    "L.sort(reverse=True)\n",
    "L"
   ]
  },
  {
   "cell_type": "code",
   "execution_count": 48,
   "id": "1c45ddf9-1d02-4045-a74c-a63027d4dc5d",
   "metadata": {},
   "outputs": [
    {
     "data": {
      "text/plain": [
       "['Ant', 'Bear', 'Cow', 'Crow', 'Wolf', 'Zebra']"
      ]
     },
     "execution_count": 48,
     "metadata": {},
     "output_type": "execute_result"
    }
   ],
   "source": [
    "L = ['Cow', 'Zebra', 'Ant', 'Bear', 'Crow', 'Wolf']\n",
    "L.sort()\n",
    "L"
   ]
  },
  {
   "cell_type": "code",
   "execution_count": 49,
   "id": "1913044d-4edd-4b98-a25b-f5471d610489",
   "metadata": {},
   "outputs": [
    {
     "data": {
      "text/plain": [
       "['Zebra', 'Wolf', 'Crow', 'Cow', 'Bear', 'Ant']"
      ]
     },
     "execution_count": 49,
     "metadata": {},
     "output_type": "execute_result"
    }
   ],
   "source": [
    "L.sort(reverse=True)\n",
    "L"
   ]
  },
  {
   "cell_type": "code",
   "execution_count": 50,
   "id": "f0e85632-2c0e-427f-a3e7-3ff54d978ca6",
   "metadata": {},
   "outputs": [
    {
     "data": {
      "text/plain": [
       "['Ant', 'Cow', 'Wolf', 'Zebra', 'bat', 'crow']"
      ]
     },
     "execution_count": 50,
     "metadata": {},
     "output_type": "execute_result"
    }
   ],
   "source": [
    "L = ['Cow', 'Zebra', 'Ant', 'bat', 'crow', 'Wolf']\n",
    "L.sort()\n",
    "L"
   ]
  },
  {
   "cell_type": "code",
   "execution_count": 51,
   "id": "864a4827-c192-48ef-82b4-33dec72b8884",
   "metadata": {},
   "outputs": [
    {
     "data": {
      "text/plain": [
       "['Ant', 'bat', 'Cow', 'crow', 'Wolf', 'Zebra']"
      ]
     },
     "execution_count": 51,
     "metadata": {},
     "output_type": "execute_result"
    }
   ],
   "source": [
    "L = ['Cow', 'Zebra', 'Ant', 'bat', 'crow', 'Wolf']\n",
    "L.sort(key=str.lower)\n",
    "L"
   ]
  },
  {
   "cell_type": "code",
   "execution_count": 52,
   "id": "f0c78ebd-5790-4f99-97c0-d9e2f12a3d11",
   "metadata": {},
   "outputs": [
    {
     "data": {
      "text/plain": [
       "['Ant', 'bat', 'Cow', 'crow', 'Wolf', 'Zebra']"
      ]
     },
     "execution_count": 52,
     "metadata": {},
     "output_type": "execute_result"
    }
   ],
   "source": [
    "L = ['Cow', 'Zebra', 'Ant', 'bat', 'crow', 'Wolf']\n",
    "L.sort(key=str.upper)\n",
    "L"
   ]
  },
  {
   "cell_type": "code",
   "execution_count": 53,
   "id": "6e164d19-043c-4fcb-a9be-dc605483fe9e",
   "metadata": {},
   "outputs": [
    {
     "data": {
      "text/plain": [
       "['Cow', 'Ant', 'bat', 'crow', 'Wolf', 'Zebra']"
      ]
     },
     "execution_count": 53,
     "metadata": {},
     "output_type": "execute_result"
    }
   ],
   "source": [
    "L = ['Cow', 'Zebra', 'Ant', 'bat', 'crow', 'Wolf']\n",
    "L.sort(key=len)\n",
    "L"
   ]
  },
  {
   "cell_type": "code",
   "execution_count": 54,
   "id": "52b70022-3f78-4cd8-8b6c-e716186a7b6c",
   "metadata": {},
   "outputs": [
    {
     "data": {
      "text/plain": [
       "[9.2, 12, 12.4, 13.77, 88]"
      ]
     },
     "execution_count": 54,
     "metadata": {},
     "output_type": "execute_result"
    }
   ],
   "source": [
    "L1 = [12.4, 12, 13.77, 88, 9.2]\n",
    "L1.sort()\n",
    "L1"
   ]
  },
  {
   "cell_type": "code",
   "execution_count": 55,
   "id": "748be048-213d-424c-b4c3-e928ce8ea628",
   "metadata": {},
   "outputs": [
    {
     "ename": "TypeError",
     "evalue": "'<' not supported between instances of 'int' and 'str'",
     "output_type": "error",
     "traceback": [
      "\u001b[1;31m---------------------------------------------------------------------------\u001b[0m",
      "\u001b[1;31mTypeError\u001b[0m                                 Traceback (most recent call last)",
      "Cell \u001b[1;32mIn[55], line 2\u001b[0m\n\u001b[0;32m      1\u001b[0m L2 \u001b[38;5;241m=\u001b[39m [\u001b[38;5;124m'\u001b[39m\u001b[38;5;124mSeven\u001b[39m\u001b[38;5;124m'\u001b[39m, \u001b[38;5;124m'\u001b[39m\u001b[38;5;124mFive\u001b[39m\u001b[38;5;124m'\u001b[39m, \u001b[38;5;241m12\u001b[39m, \u001b[38;5;124m'\u001b[39m\u001b[38;5;124mSix\u001b[39m\u001b[38;5;124m'\u001b[39m, \u001b[38;5;124m'\u001b[39m\u001b[38;5;124mTwo\u001b[39m\u001b[38;5;124m'\u001b[39m, \u001b[38;5;241m300\u001b[39m, \u001b[38;5;241m99\u001b[39m]\n\u001b[1;32m----> 2\u001b[0m L2\u001b[38;5;241m.\u001b[39msort()\n",
      "\u001b[1;31mTypeError\u001b[0m: '<' not supported between instances of 'int' and 'str'"
     ]
    }
   ],
   "source": [
    "L2 = ['Seven', 'Five', 12, 'Six', 'Two', 300, 99]\n",
    "L2.sort()"
   ]
  },
  {
   "cell_type": "code",
   "execution_count": 56,
   "id": "437357c6-b9ec-4dec-bedc-37bbe8ac162b",
   "metadata": {},
   "outputs": [
    {
     "data": {
      "text/plain": [
       "[2, 7, 13, 81, 99]"
      ]
     },
     "execution_count": 56,
     "metadata": {},
     "output_type": "execute_result"
    }
   ],
   "source": [
    "L = [81, 2, 13, 99, 7]\n",
    "L1 = sorted(L)\n",
    "L1"
   ]
  },
  {
   "cell_type": "code",
   "execution_count": 57,
   "id": "befc4ae7-3693-4985-9e4a-4bd7d70849b5",
   "metadata": {},
   "outputs": [
    {
     "data": {
      "text/plain": [
       "[81, 2, 13, 99, 7]"
      ]
     },
     "execution_count": 57,
     "metadata": {},
     "output_type": "execute_result"
    }
   ],
   "source": [
    "L"
   ]
  },
  {
   "cell_type": "markdown",
   "id": "814633d3-8260-42a7-b70a-d2aea20fcc75",
   "metadata": {},
   "source": [
    "Reversing a list"
   ]
  },
  {
   "cell_type": "code",
   "execution_count": 58,
   "id": "cae1f5e4-727f-4820-a982-2fbee2cc60df",
   "metadata": {},
   "outputs": [
    {
     "data": {
      "text/plain": [
       "[4, 7, 1, 3, 5, 2]"
      ]
     },
     "execution_count": 58,
     "metadata": {},
     "output_type": "execute_result"
    }
   ],
   "source": [
    "L = [2, 5, 3, 1, 7, 4]\n",
    "L.reverse()\n",
    "L"
   ]
  },
  {
   "cell_type": "code",
   "execution_count": 59,
   "id": "e1d6c477-2cc8-40ac-a568-9ae45e1acc8b",
   "metadata": {},
   "outputs": [
    {
     "data": {
      "text/plain": [
       "[4, 7, 1, 3, 5, 2]"
      ]
     },
     "execution_count": 59,
     "metadata": {},
     "output_type": "execute_result"
    }
   ],
   "source": [
    "L = [2, 5, 3, 1, 7, 4]\n",
    "L1 = list(reversed(L))\n",
    "L1"
   ]
  },
  {
   "cell_type": "code",
   "execution_count": 60,
   "id": "240eecc4-2acc-4142-a15a-5fd24888a835",
   "metadata": {},
   "outputs": [
    {
     "data": {
      "text/plain": [
       "[2, 5, 3, 1, 7, 4]"
      ]
     },
     "execution_count": 60,
     "metadata": {},
     "output_type": "execute_result"
    }
   ],
   "source": [
    "L"
   ]
  },
  {
   "cell_type": "code",
   "execution_count": 61,
   "id": "7e61d104-dc61-4a6d-bef2-db9b18f17bef",
   "metadata": {},
   "outputs": [
    {
     "data": {
      "text/plain": [
       "[4, 7, 1, 3, 5, 2]"
      ]
     },
     "execution_count": 61,
     "metadata": {},
     "output_type": "execute_result"
    }
   ],
   "source": [
    "L = [2, 5, 3, 1, 7, 4]\n",
    "L1 = L[::-1]\n",
    "L1"
   ]
  },
  {
   "cell_type": "code",
   "execution_count": 62,
   "id": "7b797075-c99c-4978-88d6-38108a253a0a",
   "metadata": {},
   "outputs": [
    {
     "data": {
      "text/plain": [
       "[2, 5, 3, 1, 7, 4]"
      ]
     },
     "execution_count": 62,
     "metadata": {},
     "output_type": "execute_result"
    }
   ],
   "source": [
    "L"
   ]
  },
  {
   "cell_type": "markdown",
   "id": "00da43f1-5bde-4e4e-a243-f44704709b0a",
   "metadata": {},
   "source": [
    "Finding an Item in the list\n",
    "\n",
    "1) item in L: Returns True if item present in list L, otherwise False\n",
    "2) item not in L: Returns True if item not present in list L, otherwise False\n",
    "3) L.index(item): Returns the index of the first occurrence of item in the list\n",
    "4) L.index(item,i,j): Returns the index of the first occurrence of item in a portion of the list starting from index i to index j-1"
   ]
  },
  {
   "cell_type": "code",
   "execution_count": 64,
   "id": "ef657676-02db-4369-8357-f4625cabe65b",
   "metadata": {},
   "outputs": [
    {
     "data": {
      "text/plain": [
       "True"
      ]
     },
     "execution_count": 64,
     "metadata": {},
     "output_type": "execute_result"
    }
   ],
   "source": [
    "numbers = [82, 31, 55, 12, 7, 56, 99, 12, 99, 67, 12]\n",
    "31 in numbers"
   ]
  },
  {
   "cell_type": "code",
   "execution_count": 65,
   "id": "0ae26ae4-5798-4df7-b25d-534bb9a08a37",
   "metadata": {},
   "outputs": [
    {
     "data": {
      "text/plain": [
       "False"
      ]
     },
     "execution_count": 65,
     "metadata": {},
     "output_type": "execute_result"
    }
   ],
   "source": [
    "31 not in numbers"
   ]
  },
  {
   "cell_type": "code",
   "execution_count": 66,
   "id": "4b95683e-200a-4b9a-b347-94374ccb9f39",
   "metadata": {},
   "outputs": [
    {
     "data": {
      "text/plain": [
       "True"
      ]
     },
     "execution_count": 66,
     "metadata": {},
     "output_type": "execute_result"
    }
   ],
   "source": [
    "100 not in numbers"
   ]
  },
  {
   "cell_type": "code",
   "execution_count": 67,
   "id": "52f0c897-8f8b-4cb3-b922-13a5bb001992",
   "metadata": {},
   "outputs": [
    {
     "data": {
      "text/plain": [
       "3"
      ]
     },
     "execution_count": 67,
     "metadata": {},
     "output_type": "execute_result"
    }
   ],
   "source": [
    "numbers.index(12)"
   ]
  },
  {
   "cell_type": "code",
   "execution_count": 68,
   "id": "bab79b29-e851-4874-92eb-9243eed76e91",
   "metadata": {},
   "outputs": [
    {
     "data": {
      "text/plain": [
       "7"
      ]
     },
     "execution_count": 68,
     "metadata": {},
     "output_type": "execute_result"
    }
   ],
   "source": [
    "numbers.index(12, 4)"
   ]
  },
  {
   "cell_type": "code",
   "execution_count": 69,
   "id": "ec57d9c5-936b-4926-8a0a-13b6a080637a",
   "metadata": {},
   "outputs": [
    {
     "data": {
      "text/plain": [
       "7"
      ]
     },
     "execution_count": 69,
     "metadata": {},
     "output_type": "execute_result"
    }
   ],
   "source": [
    "numbers.index(12, 4, 10)"
   ]
  },
  {
   "cell_type": "code",
   "execution_count": 70,
   "id": "96bf5607-4846-47b6-b6d7-5f11b7c67b1c",
   "metadata": {},
   "outputs": [
    {
     "ename": "ValueError",
     "evalue": "100 is not in list",
     "output_type": "error",
     "traceback": [
      "\u001b[1;31m---------------------------------------------------------------------------\u001b[0m",
      "\u001b[1;31mValueError\u001b[0m                                Traceback (most recent call last)",
      "Cell \u001b[1;32mIn[70], line 1\u001b[0m\n\u001b[1;32m----> 1\u001b[0m numbers\u001b[38;5;241m.\u001b[39mindex(\u001b[38;5;241m100\u001b[39m)\n",
      "\u001b[1;31mValueError\u001b[0m: 100 is not in list"
     ]
    }
   ],
   "source": [
    "numbers.index(100)"
   ]
  },
  {
   "cell_type": "code",
   "execution_count": 71,
   "id": "b53a0e0a-60ca-4585-851d-178c5733ce4f",
   "metadata": {},
   "outputs": [
    {
     "data": {
      "text/plain": [
       "3"
      ]
     },
     "execution_count": 71,
     "metadata": {},
     "output_type": "execute_result"
    }
   ],
   "source": [
    "numbers.count(12)"
   ]
  },
  {
   "cell_type": "markdown",
   "id": "ac68dae9-2d8d-4430-b4b8-d0aa292f2f07",
   "metadata": {},
   "source": [
    "Comparing Lists"
   ]
  },
  {
   "cell_type": "code",
   "execution_count": 72,
   "id": "b0fc82d4-36fa-48fb-95b1-4cc23ed16f8e",
   "metadata": {},
   "outputs": [
    {
     "data": {
      "text/plain": [
       "True"
      ]
     },
     "execution_count": 72,
     "metadata": {},
     "output_type": "execute_result"
    }
   ],
   "source": [
    "L1 = [1, 2, 3]\n",
    "L2 = [1, 2, 3]\n",
    "L3 = [1, 20, 30]\n",
    "L1 == L2"
   ]
  },
  {
   "cell_type": "code",
   "execution_count": 73,
   "id": "7e56a7c6-c5aa-45d9-9a63-e631fe222dbf",
   "metadata": {},
   "outputs": [
    {
     "data": {
      "text/plain": [
       "True"
      ]
     },
     "execution_count": 73,
     "metadata": {},
     "output_type": "execute_result"
    }
   ],
   "source": [
    "L1 != L3"
   ]
  },
  {
   "cell_type": "code",
   "execution_count": 74,
   "id": "d38734a0-aa47-4fbb-9328-bda9d08ddccb",
   "metadata": {},
   "outputs": [
    {
     "data": {
      "text/plain": [
       "False"
      ]
     },
     "execution_count": 74,
     "metadata": {},
     "output_type": "execute_result"
    }
   ],
   "source": [
    "L2 == L3"
   ]
  },
  {
   "cell_type": "code",
   "execution_count": 75,
   "id": "a3d08e34-17d0-43be-b32e-63338320fe09",
   "metadata": {},
   "outputs": [
    {
     "data": {
      "text/plain": [
       "False"
      ]
     },
     "execution_count": 75,
     "metadata": {},
     "output_type": "execute_result"
    }
   ],
   "source": [
    "L4 = L1\n",
    "L1 is L2"
   ]
  },
  {
   "cell_type": "code",
   "execution_count": 76,
   "id": "2846b00d-5bf2-4292-9c15-1edf74d89765",
   "metadata": {},
   "outputs": [
    {
     "data": {
      "text/plain": [
       "True"
      ]
     },
     "execution_count": 76,
     "metadata": {},
     "output_type": "execute_result"
    }
   ],
   "source": [
    "L1 is L4"
   ]
  },
  {
   "cell_type": "code",
   "execution_count": 77,
   "id": "1f446e1d-ce10-4524-a8d9-de10714fe5d5",
   "metadata": {},
   "outputs": [
    {
     "data": {
      "text/plain": [
       "False"
      ]
     },
     "execution_count": 77,
     "metadata": {},
     "output_type": "execute_result"
    }
   ],
   "source": [
    "L1 is not L4"
   ]
  },
  {
   "cell_type": "code",
   "execution_count": 78,
   "id": "e68518ef-f699-40c9-9cad-a92ddb885cf4",
   "metadata": {},
   "outputs": [
    {
     "data": {
      "text/plain": [
       "True"
      ]
     },
     "execution_count": 78,
     "metadata": {},
     "output_type": "execute_result"
    }
   ],
   "source": [
    "L1 = [1, 2, 3, 4, 5, 6,7]\n",
    "L2 = [1, 2, 3, 7, 8]\n",
    "L1 < L2"
   ]
  },
  {
   "cell_type": "markdown",
   "id": "889c8abe-7a5c-4ba8-8fd7-2ce94e2f25c7",
   "metadata": {},
   "source": [
    "Built-in Functions on the List\n",
    "\n",
    "1) len(L): Returns the size of the list\n",
    "2) min(L): Returns the smallest value of the list\n",
    "3) max(L): Returns the largest value of the list\n",
    "4) sum(L): Returns the sum of all the elements of the list if the elements are of numeric type"
   ]
  },
  {
   "cell_type": "code",
   "execution_count": 79,
   "id": "4f638e6d-57ff-44d8-b119-1ba5289b9522",
   "metadata": {},
   "outputs": [
    {
     "data": {
      "text/plain": [
       "11"
      ]
     },
     "execution_count": 79,
     "metadata": {},
     "output_type": "execute_result"
    }
   ],
   "source": [
    "numbers = [82, 31, 55, 12, 7, 56, 99, 12, 99, 67, 12]\n",
    "len(numbers)"
   ]
  },
  {
   "cell_type": "code",
   "execution_count": 80,
   "id": "cecc41fa-f62c-4c82-9182-fcd81c00bb90",
   "metadata": {},
   "outputs": [
    {
     "data": {
      "text/plain": [
       "99"
      ]
     },
     "execution_count": 80,
     "metadata": {},
     "output_type": "execute_result"
    }
   ],
   "source": [
    "max(numbers)"
   ]
  },
  {
   "cell_type": "code",
   "execution_count": 81,
   "id": "1544e61e-292a-4a19-933a-23bc85e44546",
   "metadata": {},
   "outputs": [
    {
     "data": {
      "text/plain": [
       "7"
      ]
     },
     "execution_count": 81,
     "metadata": {},
     "output_type": "execute_result"
    }
   ],
   "source": [
    "min(numbers)"
   ]
  },
  {
   "cell_type": "code",
   "execution_count": 82,
   "id": "6d02b3a7-12a4-43d3-82b5-c524ee4ced88",
   "metadata": {},
   "outputs": [
    {
     "data": {
      "text/plain": [
       "532"
      ]
     },
     "execution_count": 82,
     "metadata": {},
     "output_type": "execute_result"
    }
   ],
   "source": [
    "sum(numbers)"
   ]
  },
  {
   "cell_type": "code",
   "execution_count": 83,
   "id": "c330e45e-2f95-41c0-9c66-e91ff0b2ae4b",
   "metadata": {},
   "outputs": [
    {
     "data": {
      "text/plain": [
       "48.36363636363637"
      ]
     },
     "execution_count": 83,
     "metadata": {},
     "output_type": "execute_result"
    }
   ],
   "source": [
    "average = sum(numbers)/len(numbers)\n",
    "average"
   ]
  },
  {
   "cell_type": "markdown",
   "id": "4c115f95-17cc-468a-97d1-ca720ed1d848",
   "metadata": {},
   "source": [
    "Concatention and Replication\n",
    "\n",
    "1) L1 + L2: Returns a new list object which has all elements of lists L1 and L2 n * L\n",
    "2) L * n: Returns a new list object in which all elements of list L are repeated n times"
   ]
  },
  {
   "cell_type": "code",
   "execution_count": 84,
   "id": "e81ccb35-d56c-4350-ac9c-dc7ec08ddfce",
   "metadata": {},
   "outputs": [
    {
     "data": {
      "text/plain": [
       "[1, 2, 3, 6, 7, 8]"
      ]
     },
     "execution_count": 84,
     "metadata": {},
     "output_type": "execute_result"
    }
   ],
   "source": [
    "L1 = [1, 2, 3]\n",
    "L2 = [6, 7, 8]\n",
    "L3 = L1 + L2\n",
    "L3"
   ]
  },
  {
   "cell_type": "code",
   "execution_count": 85,
   "id": "50964ac7-0be7-47f0-a77f-68e2adb2eeb5",
   "metadata": {},
   "outputs": [
    {
     "data": {
      "text/plain": [
       "[1, 2, 3, 1, 2, 3, 1, 2, 3, 1, 2, 3]"
      ]
     },
     "execution_count": 85,
     "metadata": {},
     "output_type": "execute_result"
    }
   ],
   "source": [
    "L1 * 4"
   ]
  },
  {
   "cell_type": "code",
   "execution_count": 86,
   "id": "8dbf2750-7800-4616-8356-e6795111fdbf",
   "metadata": {},
   "outputs": [
    {
     "data": {
      "text/plain": [
       "[1, 2, 3, 1, 2, 3, 1, 2, 3, 1, 2, 3]"
      ]
     },
     "execution_count": 86,
     "metadata": {},
     "output_type": "execute_result"
    }
   ],
   "source": [
    "4 * L1"
   ]
  },
  {
   "cell_type": "code",
   "execution_count": 87,
   "id": "be4b0459-4e3d-4190-9d0f-89f07e60fb81",
   "metadata": {},
   "outputs": [
    {
     "data": {
      "text/plain": [
       "[1, 2, 3, 10, 11, 12, 13]"
      ]
     },
     "execution_count": 87,
     "metadata": {},
     "output_type": "execute_result"
    }
   ],
   "source": [
    "L1 = [1, 2, 3]\n",
    "L1 += [10, 11, 12, 13]\n",
    "L1"
   ]
  },
  {
   "cell_type": "code",
   "execution_count": 88,
   "id": "9fa8f588-f0de-426a-b019-5474051c27db",
   "metadata": {},
   "outputs": [
    {
     "data": {
      "text/plain": [
       "[6, 7, 8, 6, 7, 8, 6, 7, 8]"
      ]
     },
     "execution_count": 88,
     "metadata": {},
     "output_type": "execute_result"
    }
   ],
   "source": [
    "L2 = [6, 7, 8]\n",
    "L2 *= 3\n",
    "L2"
   ]
  },
  {
   "cell_type": "code",
   "execution_count": 91,
   "id": "6d27dab0-1657-4a6c-a06a-d521c59a56f4",
   "metadata": {},
   "outputs": [],
   "source": [
    "#L1 += L2 \n",
    "#L1 = L1 + L2\n",
    "#L *= n \n",
    "#L = L * n"
   ]
  },
  {
   "cell_type": "code",
   "execution_count": 92,
   "id": "30a42899-a6ef-423a-9754-9f7fd6307453",
   "metadata": {},
   "outputs": [
    {
     "data": {
      "text/plain": [
       "1807314188032"
      ]
     },
     "execution_count": 92,
     "metadata": {},
     "output_type": "execute_result"
    }
   ],
   "source": [
    "L1 = [1, 2, 3]\n",
    "id(L1)"
   ]
  },
  {
   "cell_type": "code",
   "execution_count": 93,
   "id": "62d6b59e-2d6d-49d9-ae12-057899460e25",
   "metadata": {},
   "outputs": [
    {
     "data": {
      "text/plain": [
       "[1, 2, 3, 5, 6, 7]"
      ]
     },
     "execution_count": 93,
     "metadata": {},
     "output_type": "execute_result"
    }
   ],
   "source": [
    "L1 = L1 + [5, 6, 7]\n",
    "L1"
   ]
  },
  {
   "cell_type": "code",
   "execution_count": 94,
   "id": "0973f1b2-6eca-499e-a844-342d86bdbaff",
   "metadata": {},
   "outputs": [
    {
     "data": {
      "text/plain": [
       "1807270558336"
      ]
     },
     "execution_count": 94,
     "metadata": {},
     "output_type": "execute_result"
    }
   ],
   "source": [
    "id(L1)"
   ]
  },
  {
   "cell_type": "code",
   "execution_count": 95,
   "id": "da5989aa-7189-4d39-ae3e-0efed3f4d15e",
   "metadata": {},
   "outputs": [
    {
     "data": {
      "text/plain": [
       "1807315309696"
      ]
     },
     "execution_count": 95,
     "metadata": {},
     "output_type": "execute_result"
    }
   ],
   "source": [
    "L2 = [1, 2, 3]\n",
    "id(L2)"
   ]
  },
  {
   "cell_type": "code",
   "execution_count": 96,
   "id": "cbc50ccb-441c-4dfa-889f-c715d3f4a572",
   "metadata": {},
   "outputs": [
    {
     "data": {
      "text/plain": [
       "[1, 2, 3, 5, 6, 7]"
      ]
     },
     "execution_count": 96,
     "metadata": {},
     "output_type": "execute_result"
    }
   ],
   "source": [
    "L2 += [5, 6, 7]\n",
    "L2"
   ]
  },
  {
   "cell_type": "code",
   "execution_count": 97,
   "id": "6c6ff7bc-3406-4dee-a21d-cfa6675cd4c3",
   "metadata": {},
   "outputs": [
    {
     "data": {
      "text/plain": [
       "1807315309696"
      ]
     },
     "execution_count": 97,
     "metadata": {},
     "output_type": "execute_result"
    }
   ],
   "source": [
    "id(L2)"
   ]
  },
  {
   "cell_type": "markdown",
   "id": "f6171d71-d94a-4ef0-843f-ec44d7fec266",
   "metadata": {},
   "source": [
    "Using a List with function from the random module"
   ]
  },
  {
   "cell_type": "code",
   "execution_count": 98,
   "id": "7b4e040b-5388-4c63-9bc1-8dc406ec3744",
   "metadata": {},
   "outputs": [
    {
     "data": {
      "text/plain": [
       "'yellow'"
      ]
     },
     "execution_count": 98,
     "metadata": {},
     "output_type": "execute_result"
    }
   ],
   "source": [
    "import random\n",
    "colors = ['red', 'blue', 'green', 'yellow']\n",
    "random.choice(colors)"
   ]
  },
  {
   "cell_type": "code",
   "execution_count": 99,
   "id": "5980baff-c1dd-47e9-a945-5dbf400fddcd",
   "metadata": {},
   "outputs": [
    {
     "data": {
      "text/plain": [
       "'green'"
      ]
     },
     "execution_count": 99,
     "metadata": {},
     "output_type": "execute_result"
    }
   ],
   "source": [
    "random.choice(colors)"
   ]
  },
  {
   "cell_type": "code",
   "execution_count": 100,
   "id": "14e38030-4985-471f-83d0-d086fd037583",
   "metadata": {},
   "outputs": [
    {
     "data": {
      "text/plain": [
       "['Etah', 'Chennai', 'Dhampur', 'Kasganj', 'Bangalore', 'Bareilly', 'Najibabad']"
      ]
     },
     "execution_count": 100,
     "metadata": {},
     "output_type": "execute_result"
    }
   ],
   "source": [
    "cities = ['Etah', 'Kasganj', 'Dhampur', 'Najibabad', 'Bareilly', 'Chennai', 'Bangalore']\n",
    "random.shuffle(cities)\n",
    "cities"
   ]
  },
  {
   "cell_type": "code",
   "execution_count": 101,
   "id": "69285181-51e6-4f52-8e40-c23bb750ba8f",
   "metadata": {},
   "outputs": [
    {
     "data": {
      "text/plain": [
       "['Kasganj', 'Dhampur', 'Bangalore', 'Etah', 'Chennai', 'Bareilly', 'Najibabad']"
      ]
     },
     "execution_count": 101,
     "metadata": {},
     "output_type": "execute_result"
    }
   ],
   "source": [
    "random.shuffle(cities)\n",
    "cities"
   ]
  },
  {
   "cell_type": "markdown",
   "id": "4c9c6026-7d8f-4cb8-b41b-45b393697d0f",
   "metadata": {},
   "source": [
    "Creating a List"
   ]
  },
  {
   "cell_type": "code",
   "execution_count": null,
   "id": "b724da7b-350e-410f-8774-55512d88c6cd",
   "metadata": {},
   "outputs": [],
   "source": [
    "L = [] \n",
    "item = input('Enter an item : ')\n",
    "L.append(item)\n",
    "item = input('Enter another item : ')\n",
    "L.append(item)"
   ]
  },
  {
   "cell_type": "code",
   "execution_count": 1,
   "id": "8251ea4d-7782-42e7-aa21-b91ca2273c5f",
   "metadata": {},
   "outputs": [],
   "source": [
    "L = [11, 22, 33, 44]"
   ]
  },
  {
   "cell_type": "code",
   "execution_count": 2,
   "id": "3950286b-e0c7-4229-8b03-fc21612a5f1a",
   "metadata": {},
   "outputs": [
    {
     "data": {
      "text/plain": [
       "['b', 'l', 'u', 'e']"
      ]
     },
     "execution_count": 2,
     "metadata": {},
     "output_type": "execute_result"
    }
   ],
   "source": [
    "L = list('blue') \n",
    "L"
   ]
  },
  {
   "cell_type": "markdown",
   "id": "6500444a-2f0c-43b3-a482-19ce36e8b51b",
   "metadata": {},
   "source": [
    "Using range() to create a list of integers\n",
    "\n",
    "1) range(3,10) 3, 4, 5, 6, 7, 8, 9\n",
    "2) range(2,7) 2, 3, 4, 5, 6"
   ]
  },
  {
   "cell_type": "code",
   "execution_count": 4,
   "id": "377c51b4-ef19-44a3-a359-ad31eb4f4d41",
   "metadata": {},
   "outputs": [
    {
     "data": {
      "text/plain": [
       "[3, 4, 5, 6, 7, 8, 9]"
      ]
     },
     "execution_count": 4,
     "metadata": {},
     "output_type": "execute_result"
    }
   ],
   "source": [
    "list(range(3, 10))"
   ]
  },
  {
   "cell_type": "code",
   "execution_count": 5,
   "id": "f4ebaea2-0cea-4cec-8737-c65280b0d624",
   "metadata": {},
   "outputs": [
    {
     "data": {
      "text/plain": [
       "[2, 3, 4, 5, 6]"
      ]
     },
     "execution_count": 5,
     "metadata": {},
     "output_type": "execute_result"
    }
   ],
   "source": [
    "list(range(2, 7))"
   ]
  },
  {
   "cell_type": "code",
   "execution_count": 6,
   "id": "d0e9c789-091e-4cf4-aa6f-1eb90b9808d8",
   "metadata": {},
   "outputs": [
    {
     "data": {
      "text/plain": [
       "[1, 3, 5, 7, 9, 11, 13, 15, 17, 19]"
      ]
     },
     "execution_count": 6,
     "metadata": {},
     "output_type": "execute_result"
    }
   ],
   "source": [
    "list(range(1, 20, 2))"
   ]
  },
  {
   "cell_type": "code",
   "execution_count": 7,
   "id": "e34e1e87-c7b9-47fc-bd5a-a063e32ca34a",
   "metadata": {},
   "outputs": [
    {
     "data": {
      "text/plain": [
       "[20, 30, 40, 50, 60, 70, 80, 90]"
      ]
     },
     "execution_count": 7,
     "metadata": {},
     "output_type": "execute_result"
    }
   ],
   "source": [
    "list(range(20, 100, 10))"
   ]
  },
  {
   "cell_type": "code",
   "execution_count": 8,
   "id": "dd83ad33-aab5-48e5-af7c-ec5743868c16",
   "metadata": {},
   "outputs": [
    {
     "data": {
      "text/plain": [
       "[10, 9, 8, 7, 6, 5, 4, 3]"
      ]
     },
     "execution_count": 8,
     "metadata": {},
     "output_type": "execute_result"
    }
   ],
   "source": [
    "list(range(10, 2, -1))"
   ]
  },
  {
   "cell_type": "code",
   "execution_count": 9,
   "id": "c7fd1fdb-78a4-428e-8277-a216a332d0bf",
   "metadata": {},
   "outputs": [
    {
     "data": {
      "text/plain": [
       "[100, 90, 80, 70, 60, 50, 40, 30]"
      ]
     },
     "execution_count": 9,
     "metadata": {},
     "output_type": "execute_result"
    }
   ],
   "source": [
    "list(range(100, 20, -10))"
   ]
  },
  {
   "cell_type": "code",
   "execution_count": 10,
   "id": "0aef71e5-2abd-457f-815a-5e046ca418e6",
   "metadata": {},
   "outputs": [
    {
     "data": {
      "text/plain": [
       "[0, 1, 2, 3, 4, 5, 6, 7, 8, 9]"
      ]
     },
     "execution_count": 10,
     "metadata": {},
     "output_type": "execute_result"
    }
   ],
   "source": [
    "list(range(10))"
   ]
  },
  {
   "cell_type": "code",
   "execution_count": 11,
   "id": "4407caa4-edf5-462e-88af-0e8e7e54b85b",
   "metadata": {},
   "outputs": [
    {
     "data": {
      "text/plain": [
       "[0, 1, 2, 3, 4, 5]"
      ]
     },
     "execution_count": 11,
     "metadata": {},
     "output_type": "execute_result"
    }
   ],
   "source": [
    "list(range(6))"
   ]
  },
  {
   "cell_type": "markdown",
   "id": "a8226d2b-fbd0-43f4-b26c-ce4d250843b3",
   "metadata": {},
   "source": [
    "Using the repetition operator to create a list of repeated values"
   ]
  },
  {
   "cell_type": "code",
   "execution_count": 12,
   "id": "70ea2607-2e2f-498a-b906-8ae09883ee79",
   "metadata": {},
   "outputs": [
    {
     "data": {
      "text/plain": [
       "[0, 0, 0, 0, 0, 0, 0, 0, 0, 0, 0, 0, 0, 0, 0]"
      ]
     },
     "execution_count": 12,
     "metadata": {},
     "output_type": "execute_result"
    }
   ],
   "source": [
    "[0] * 15"
   ]
  },
  {
   "cell_type": "code",
   "execution_count": 13,
   "id": "72788842-fea2-463f-94b8-4f6de3936eda",
   "metadata": {},
   "outputs": [
    {
     "data": {
      "text/plain": [
       "['', '', '', '', '']"
      ]
     },
     "execution_count": 13,
     "metadata": {},
     "output_type": "execute_result"
    }
   ],
   "source": [
    " [''] * 5"
   ]
  },
  {
   "cell_type": "code",
   "execution_count": 14,
   "id": "2c649abd-9aa4-41e3-82cd-3d10a0f088e6",
   "metadata": {},
   "outputs": [
    {
     "data": {
      "text/plain": [
       "[None, None, None, None]"
      ]
     },
     "execution_count": 14,
     "metadata": {},
     "output_type": "execute_result"
    }
   ],
   "source": [
    " [None] * 4"
   ]
  },
  {
   "cell_type": "markdown",
   "id": "8b7af698-e5a4-44b2-a1d9-02c1a3460ea7",
   "metadata": {},
   "source": [
    "Creating a List by splitting a string"
   ]
  },
  {
   "cell_type": "code",
   "execution_count": 15,
   "id": "b9dafd53-0e6c-4c01-87ea-f2b87646cf9c",
   "metadata": {},
   "outputs": [
    {
     "data": {
      "text/plain": [
       "['I', ' ', 'l', 'o', 'v', 'e', ' ', 'P', 'y', 't', 'h', 'o', 'n']"
      ]
     },
     "execution_count": 15,
     "metadata": {},
     "output_type": "execute_result"
    }
   ],
   "source": [
    "L = list('I love Python')\n",
    "L"
   ]
  },
  {
   "cell_type": "code",
   "execution_count": 16,
   "id": "b17341fc-2c1c-4433-9a93-3d223d7a5084",
   "metadata": {},
   "outputs": [
    {
     "data": {
      "text/plain": [
       "['I', 'love', 'Python']"
      ]
     },
     "execution_count": 16,
     "metadata": {},
     "output_type": "execute_result"
    }
   ],
   "source": [
    "L = 'I love Python'.split()\n",
    "L"
   ]
  },
  {
   "cell_type": "code",
   "execution_count": 17,
   "id": "5cf845a1-fd6b-4738-a6ae-c26cb9dba983",
   "metadata": {},
   "outputs": [
    {
     "data": {
      "text/plain": [
       "['011', '395', '343343']"
      ]
     },
     "execution_count": 17,
     "metadata": {},
     "output_type": "execute_result"
    }
   ],
   "source": [
    "phone = '011-395-343343'\n",
    "phone.split('-')"
   ]
  },
  {
   "cell_type": "code",
   "execution_count": 20,
   "id": "f0892523-6024-472e-a340-8d0af715df2b",
   "metadata": {},
   "outputs": [
    {
     "data": {
      "text/plain": [
       "['22', '11', '1987']"
      ]
     },
     "execution_count": 20,
     "metadata": {},
     "output_type": "execute_result"
    }
   ],
   "source": [
    "date = '22/11/1987'\n",
    "date.split('/')"
   ]
  },
  {
   "cell_type": "code",
   "execution_count": 21,
   "id": "0cc34189-55e2-4c6e-8472-64066bb62f8f",
   "metadata": {},
   "outputs": [
    {
     "data": {
      "text/plain": [
       "['Sam', '23', 'Mechanical', 'A+']"
      ]
     },
     "execution_count": 21,
     "metadata": {},
     "output_type": "execute_result"
    }
   ],
   "source": [
    "student = 'Sam 23 Mechanical A+'\n",
    "student.split()"
   ]
  },
  {
   "cell_type": "code",
   "execution_count": 22,
   "id": "2eca8127-8641-420e-bbb6-8e5e07ba5c15",
   "metadata": {},
   "outputs": [
    {
     "data": {
      "text/plain": [
       "['011', '395-343343']"
      ]
     },
     "execution_count": 22,
     "metadata": {},
     "output_type": "execute_result"
    }
   ],
   "source": [
    "phone = '011-395-343343'\n",
    "phone.split('-',1)"
   ]
  },
  {
   "cell_type": "code",
   "execution_count": 23,
   "id": "d836d2ab-93f8-421b-9038-79c83cbfc8b3",
   "metadata": {},
   "outputs": [
    {
     "data": {
      "text/plain": [
       "['When failure knocks you down, rise again, keep moving never give up']"
      ]
     },
     "execution_count": 23,
     "metadata": {},
     "output_type": "execute_result"
    }
   ],
   "source": [
    "quote = '''When failure knocks you down, rise again, keep moving never give up'''\n",
    "quote.split('\\n')"
   ]
  },
  {
   "cell_type": "code",
   "execution_count": 24,
   "id": "af684c7b-e026-416c-8d07-3f87878b7c90",
   "metadata": {},
   "outputs": [
    {
     "data": {
      "text/plain": [
       "['When failure knocks you down, rise again, keep moving never give up']"
      ]
     },
     "execution_count": 24,
     "metadata": {},
     "output_type": "execute_result"
    }
   ],
   "source": [
    "quote.splitlines()"
   ]
  },
  {
   "cell_type": "code",
   "execution_count": 25,
   "id": "e8d1b733-f8fa-4efd-8239-a2fc82ba2f7c",
   "metadata": {},
   "outputs": [
    {
     "data": {
      "text/plain": [
       "['When',\n",
       " 'failure',\n",
       " 'knocks',\n",
       " 'you',\n",
       " 'down,',\n",
       " 'rise',\n",
       " 'again,',\n",
       " 'keep',\n",
       " 'moving',\n",
       " 'never',\n",
       " 'give',\n",
       " 'up']"
      ]
     },
     "execution_count": 25,
     "metadata": {},
     "output_type": "execute_result"
    }
   ],
   "source": [
    "quote.split()"
   ]
  },
  {
   "cell_type": "markdown",
   "id": "18cd6b09-0cca-4859-958e-045a0eaa3561",
   "metadata": {},
   "source": [
    "Converting a list of strings to a single using join() function"
   ]
  },
  {
   "cell_type": "code",
   "execution_count": 26,
   "id": "7887d67a-e041-4a1a-adce-b5eab6605266",
   "metadata": {},
   "outputs": [
    {
     "data": {
      "text/plain": [
       "'15/May/2005'"
      ]
     },
     "execution_count": 26,
     "metadata": {},
     "output_type": "execute_result"
    }
   ],
   "source": [
    "L = ['15', 'May', '2005']\n",
    "'/'.join(L)"
   ]
  },
  {
   "cell_type": "code",
   "execution_count": 27,
   "id": "32079a0a-5d0b-4f45-9225-44f21d01bbb4",
   "metadata": {},
   "outputs": [
    {
     "data": {
      "text/plain": [
       "'15.May.2005'"
      ]
     },
     "execution_count": 27,
     "metadata": {},
     "output_type": "execute_result"
    }
   ],
   "source": [
    "'.'.join(L) # joined by dots"
   ]
  },
  {
   "cell_type": "code",
   "execution_count": 28,
   "id": "4cf9b770-5438-4268-85b1-2fbd6c91a662",
   "metadata": {},
   "outputs": [
    {
     "data": {
      "text/plain": [
       "'15 May 2005'"
      ]
     },
     "execution_count": 28,
     "metadata": {},
     "output_type": "execute_result"
    }
   ],
   "source": [
    " ' '.join(L) # joined by spaces"
   ]
  },
  {
   "cell_type": "code",
   "execution_count": 29,
   "id": "ef6e14b9-b81d-46a9-8285-869fc0dce789",
   "metadata": {},
   "outputs": [
    {
     "data": {
      "text/plain": [
       "'15May2005'"
      ]
     },
     "execution_count": 29,
     "metadata": {},
     "output_type": "execute_result"
    }
   ],
   "source": [
    "''.join(L) # called on empty string"
   ]
  },
  {
   "cell_type": "code",
   "execution_count": 30,
   "id": "fa636e02-ce24-4de7-a349-11367a880ea4",
   "metadata": {},
   "outputs": [
    {
     "data": {
      "text/plain": [
       "'P-y-t-h-o-n'"
      ]
     },
     "execution_count": 30,
     "metadata": {},
     "output_type": "execute_result"
    }
   ],
   "source": [
    "'-'.join('Python')"
   ]
  },
  {
   "cell_type": "code",
   "execution_count": 31,
   "id": "e3168ec2-6b2f-431b-a876-c1e2a033ce11",
   "metadata": {},
   "outputs": [
    {
     "data": {
      "text/plain": [
       "'P y t h o n'"
      ]
     },
     "execution_count": 31,
     "metadata": {},
     "output_type": "execute_result"
    }
   ],
   "source": [
    "' '.join('Python')"
   ]
  },
  {
   "cell_type": "markdown",
   "id": "4be6edbb-af6e-423d-96da-68c8adedc951",
   "metadata": {},
   "source": [
    "Nested List - List of List"
   ]
  },
  {
   "cell_type": "code",
   "execution_count": 32,
   "id": "5fefaf5e-6668-417e-940b-867a3b9c624c",
   "metadata": {},
   "outputs": [],
   "source": [
    "L = ['blue', [3,4,5], 34]"
   ]
  },
  {
   "cell_type": "code",
   "execution_count": 33,
   "id": "d14706c3-508b-45b4-ae9b-497c238e89fc",
   "metadata": {},
   "outputs": [],
   "source": [
    "listA = [[1, 2, 3], [4, 5, 6], [7, 8, 9], [9, 10, 11]]"
   ]
  },
  {
   "cell_type": "code",
   "execution_count": 34,
   "id": "f45fe631-19ff-462d-b507-b63eeb4aea0e",
   "metadata": {},
   "outputs": [],
   "source": [
    "A = [\n",
    "[1, 4, 8, 3],\n",
    "[2, 5, 6, 3],\n",
    "[1, 9, 5, 8]]"
   ]
  },
  {
   "cell_type": "code",
   "execution_count": 35,
   "id": "014e6748-bc41-44ef-835e-abf7d3df4f7e",
   "metadata": {},
   "outputs": [
    {
     "data": {
      "text/plain": [
       "[1, 4, 8, 3]"
      ]
     },
     "execution_count": 35,
     "metadata": {},
     "output_type": "execute_result"
    }
   ],
   "source": [
    "A[0]"
   ]
  },
  {
   "cell_type": "code",
   "execution_count": 36,
   "id": "78980597-f1ba-49fb-ac7b-6b070722bfd8",
   "metadata": {},
   "outputs": [
    {
     "data": {
      "text/plain": [
       "[2, 5, 6, 3]"
      ]
     },
     "execution_count": 36,
     "metadata": {},
     "output_type": "execute_result"
    }
   ],
   "source": [
    "A[1]"
   ]
  },
  {
   "cell_type": "code",
   "execution_count": 37,
   "id": "035d1484-1791-409c-8c07-389dd5dfaa51",
   "metadata": {},
   "outputs": [
    {
     "data": {
      "text/plain": [
       "6"
      ]
     },
     "execution_count": 37,
     "metadata": {},
     "output_type": "execute_result"
    }
   ],
   "source": [
    "A[1][2]"
   ]
  },
  {
   "cell_type": "markdown",
   "id": "0eae4550-21ef-4f8e-89b8-944ebc7688bf",
   "metadata": {},
   "source": [
    "Copying a List"
   ]
  },
  {
   "cell_type": "code",
   "execution_count": 38,
   "id": "e92884c4-4132-4296-898b-b7a3dca9e997",
   "metadata": {},
   "outputs": [
    {
     "data": {
      "text/plain": [
       "[1, 2, 3, 4]"
      ]
     },
     "execution_count": 38,
     "metadata": {},
     "output_type": "execute_result"
    }
   ],
   "source": [
    "L = [1, 2, 3, 4]\n",
    "L1 = L # makes an alias\n",
    "L2 = L[:] # makes a copy by slice notation\n",
    "L3 = list(L) # makes a copy by list function \n",
    "L4 = L.copy() # makes a copy by copy method\n",
    "L1"
   ]
  },
  {
   "cell_type": "code",
   "execution_count": 39,
   "id": "0725ac17-0ad2-46d3-a1c8-ec325c978896",
   "metadata": {},
   "outputs": [
    {
     "data": {
      "text/plain": [
       "[1, 2, 3, 4]"
      ]
     },
     "execution_count": 39,
     "metadata": {},
     "output_type": "execute_result"
    }
   ],
   "source": [
    "L2"
   ]
  },
  {
   "cell_type": "code",
   "execution_count": 40,
   "id": "ecd7965d-e976-44de-a896-b25959c3f1f9",
   "metadata": {},
   "outputs": [
    {
     "data": {
      "text/plain": [
       "[1, 2, 3, 4]"
      ]
     },
     "execution_count": 40,
     "metadata": {},
     "output_type": "execute_result"
    }
   ],
   "source": [
    "L3"
   ]
  },
  {
   "cell_type": "code",
   "execution_count": 41,
   "id": "43d50209-7532-4e97-bce4-fb732a417264",
   "metadata": {},
   "outputs": [
    {
     "data": {
      "text/plain": [
       "[1, 2, 3, 4]"
      ]
     },
     "execution_count": 41,
     "metadata": {},
     "output_type": "execute_result"
    }
   ],
   "source": [
    "L4"
   ]
  },
  {
   "cell_type": "code",
   "execution_count": 42,
   "id": "08669157-51e5-4d75-8bc8-905ed30e0f68",
   "metadata": {},
   "outputs": [
    {
     "data": {
      "text/plain": [
       "2341424359552"
      ]
     },
     "execution_count": 42,
     "metadata": {},
     "output_type": "execute_result"
    }
   ],
   "source": [
    "id(L)"
   ]
  },
  {
   "cell_type": "code",
   "execution_count": 43,
   "id": "9f11e231-8ace-4dfd-9e6b-8d82c4f150f1",
   "metadata": {},
   "outputs": [
    {
     "data": {
      "text/plain": [
       "2341424359552"
      ]
     },
     "execution_count": 43,
     "metadata": {},
     "output_type": "execute_result"
    }
   ],
   "source": [
    "id(L1)"
   ]
  },
  {
   "cell_type": "code",
   "execution_count": 44,
   "id": "992277c9-8d8e-455e-828f-fcc5057b1201",
   "metadata": {},
   "outputs": [
    {
     "data": {
      "text/plain": [
       "2341424402368"
      ]
     },
     "execution_count": 44,
     "metadata": {},
     "output_type": "execute_result"
    }
   ],
   "source": [
    "id(L2)"
   ]
  },
  {
   "cell_type": "code",
   "execution_count": 45,
   "id": "916c4b5c-9fc8-448e-8381-d532b3772f32",
   "metadata": {},
   "outputs": [
    {
     "data": {
      "text/plain": [
       "2341424412224"
      ]
     },
     "execution_count": 45,
     "metadata": {},
     "output_type": "execute_result"
    }
   ],
   "source": [
    "id(L3)"
   ]
  },
  {
   "cell_type": "code",
   "execution_count": 46,
   "id": "7692116c-a694-4ad3-a4f7-97879883301d",
   "metadata": {},
   "outputs": [
    {
     "data": {
      "text/plain": [
       "2341424356032"
      ]
     },
     "execution_count": 46,
     "metadata": {},
     "output_type": "execute_result"
    }
   ],
   "source": [
    "id(L4)"
   ]
  },
  {
   "cell_type": "code",
   "execution_count": 47,
   "id": "932bdbf1-4874-4eef-9b2e-694078021b29",
   "metadata": {},
   "outputs": [
    {
     "data": {
      "text/plain": [
       "[35, 2, 3, 4]"
      ]
     },
     "execution_count": 47,
     "metadata": {},
     "output_type": "execute_result"
    }
   ],
   "source": [
    "L2[0] = 35\n",
    "L2"
   ]
  },
  {
   "cell_type": "code",
   "execution_count": 48,
   "id": "8f3d2f63-5cad-4e17-9ee1-a31564757028",
   "metadata": {},
   "outputs": [
    {
     "data": {
      "text/plain": [
       "[1, 2, 3, 4]"
      ]
     },
     "execution_count": 48,
     "metadata": {},
     "output_type": "execute_result"
    }
   ],
   "source": [
    "L"
   ]
  },
  {
   "cell_type": "code",
   "execution_count": 49,
   "id": "8384f7c0-b6ae-46be-8e53-2ac5bcada554",
   "metadata": {},
   "outputs": [
    {
     "data": {
      "text/plain": [
       "[1, 2, 3, 4, 45]"
      ]
     },
     "execution_count": 49,
     "metadata": {},
     "output_type": "execute_result"
    }
   ],
   "source": [
    "L3.append(45)\n",
    "L3"
   ]
  },
  {
   "cell_type": "code",
   "execution_count": 50,
   "id": "9cbc4f7e-ced4-4a5e-91ce-aa4d08d22725",
   "metadata": {},
   "outputs": [
    {
     "data": {
      "text/plain": [
       "[1, 2, 3, 4]"
      ]
     },
     "execution_count": 50,
     "metadata": {},
     "output_type": "execute_result"
    }
   ],
   "source": [
    "L"
   ]
  },
  {
   "cell_type": "code",
   "execution_count": 51,
   "id": "ab52f6e1-a571-4d5a-916d-3a403b4cd4f7",
   "metadata": {},
   "outputs": [
    {
     "data": {
      "text/plain": [
       "[1, 102, 3, 4]"
      ]
     },
     "execution_count": 51,
     "metadata": {},
     "output_type": "execute_result"
    }
   ],
   "source": [
    "L4[1] += 100\n",
    "L4"
   ]
  },
  {
   "cell_type": "code",
   "execution_count": 52,
   "id": "5ed1e4ca-c61b-4684-b8b8-886fb92ba6c7",
   "metadata": {},
   "outputs": [
    {
     "data": {
      "text/plain": [
       "[1, 2, 3, 4]"
      ]
     },
     "execution_count": 52,
     "metadata": {},
     "output_type": "execute_result"
    }
   ],
   "source": [
    "L"
   ]
  },
  {
   "cell_type": "code",
   "execution_count": 53,
   "id": "df64c387-9f71-4258-ae65-20525ca3eae2",
   "metadata": {},
   "outputs": [
    {
     "data": {
      "text/plain": [
       "[99, 2, 3, 4]"
      ]
     },
     "execution_count": 53,
     "metadata": {},
     "output_type": "execute_result"
    }
   ],
   "source": [
    "L1[0] = 99\n",
    "L1"
   ]
  },
  {
   "cell_type": "code",
   "execution_count": 54,
   "id": "b6fbee87-8887-41ea-a721-e8f3d813cf48",
   "metadata": {},
   "outputs": [
    {
     "data": {
      "text/plain": [
       "[99, 2, 3, 4]"
      ]
     },
     "execution_count": 54,
     "metadata": {},
     "output_type": "execute_result"
    }
   ],
   "source": [
    "L"
   ]
  },
  {
   "cell_type": "code",
   "execution_count": 55,
   "id": "a3caf303-470b-4fe6-9f61-54cdfcc60057",
   "metadata": {},
   "outputs": [
    {
     "data": {
      "text/plain": [
       "[99, 1000, 3, 4]"
      ]
     },
     "execution_count": 55,
     "metadata": {},
     "output_type": "execute_result"
    }
   ],
   "source": [
    "L[1] = 1000\n",
    "L"
   ]
  },
  {
   "cell_type": "code",
   "execution_count": 56,
   "id": "bc3ca657-26be-4071-a722-3b5548b8f530",
   "metadata": {},
   "outputs": [
    {
     "data": {
      "text/plain": [
       "[99, 1000, 3, 4]"
      ]
     },
     "execution_count": 56,
     "metadata": {},
     "output_type": "execute_result"
    }
   ],
   "source": [
    "L1"
   ]
  },
  {
   "cell_type": "code",
   "execution_count": 57,
   "id": "c970dcb7-7bc3-47b3-80be-6823ba2df6c5",
   "metadata": {},
   "outputs": [
    {
     "data": {
      "text/plain": [
       "[35, 2, 3, 4]"
      ]
     },
     "execution_count": 57,
     "metadata": {},
     "output_type": "execute_result"
    }
   ],
   "source": [
    "L2"
   ]
  },
  {
   "cell_type": "code",
   "execution_count": 58,
   "id": "4e7817a5-a00c-460c-84fd-f0641017e847",
   "metadata": {},
   "outputs": [
    {
     "data": {
      "text/plain": [
       "[1, 2, 3, 4, 45]"
      ]
     },
     "execution_count": 58,
     "metadata": {},
     "output_type": "execute_result"
    }
   ],
   "source": [
    "L3"
   ]
  },
  {
   "cell_type": "code",
   "execution_count": 59,
   "id": "c40c4ebd-36c6-47ff-9a29-ad3d41f48d6d",
   "metadata": {},
   "outputs": [
    {
     "data": {
      "text/plain": [
       "[1, 102, 3, 4]"
      ]
     },
     "execution_count": 59,
     "metadata": {},
     "output_type": "execute_result"
    }
   ],
   "source": [
    "L4"
   ]
  },
  {
   "cell_type": "markdown",
   "id": "7a0b466d-1b56-4b74-8aa8-1593beac77c6",
   "metadata": {},
   "source": [
    "Shallow Copy and Deep Copy"
   ]
  },
  {
   "cell_type": "code",
   "execution_count": 60,
   "id": "4f3f3d35-8348-4d80-a0fb-192cb91bdbc3",
   "metadata": {},
   "outputs": [],
   "source": [
    "L = [1, 2, 3, 4]\n",
    "L2 = L[:] # shallow copy\n",
    "L2 = list(L) # shallow copy\n",
    "L2 = L.copy() # shallow copy"
   ]
  },
  {
   "cell_type": "code",
   "execution_count": 61,
   "id": "ab4971d1-bf80-40d2-a6a3-b2e2a9e06fe1",
   "metadata": {},
   "outputs": [
    {
     "data": {
      "text/plain": [
       "[12, 13, ['a', 'b']]"
      ]
     },
     "execution_count": 61,
     "metadata": {},
     "output_type": "execute_result"
    }
   ],
   "source": [
    "L = [12, 13, ['a','b']]\n",
    "L2 = L.copy()\n",
    "L2"
   ]
  },
  {
   "cell_type": "code",
   "execution_count": 62,
   "id": "7c9f802e-40f5-4008-b3aa-74ab7703b2eb",
   "metadata": {},
   "outputs": [
    {
     "data": {
      "text/plain": [
       "[12, 13, ['a', 'b', 'c']]"
      ]
     },
     "execution_count": 62,
     "metadata": {},
     "output_type": "execute_result"
    }
   ],
   "source": [
    "L2[2].append('c')\n",
    "L2"
   ]
  },
  {
   "cell_type": "code",
   "execution_count": 63,
   "id": "19850de5-f931-4bd2-abf1-ac933b61337a",
   "metadata": {},
   "outputs": [
    {
     "data": {
      "text/plain": [
       "[12, 13, ['a', 'b', 'c']]"
      ]
     },
     "execution_count": 63,
     "metadata": {},
     "output_type": "execute_result"
    }
   ],
   "source": [
    "L"
   ]
  },
  {
   "cell_type": "code",
   "execution_count": 64,
   "id": "c7973cd6-51f6-4a5e-a53d-6c83ae0fd7d7",
   "metadata": {},
   "outputs": [
    {
     "data": {
      "text/plain": [
       "[22, 13, ['a', 'b', 'c']]"
      ]
     },
     "execution_count": 64,
     "metadata": {},
     "output_type": "execute_result"
    }
   ],
   "source": [
    "L2[0] = 22\n",
    "L2"
   ]
  },
  {
   "cell_type": "code",
   "execution_count": 65,
   "id": "26b91d6f-b29e-4f79-98fe-5672061c9ef5",
   "metadata": {},
   "outputs": [
    {
     "data": {
      "text/plain": [
       "[12, 13, ['a', 'b', 'c']]"
      ]
     },
     "execution_count": 65,
     "metadata": {},
     "output_type": "execute_result"
    }
   ],
   "source": [
    "L"
   ]
  },
  {
   "cell_type": "code",
   "execution_count": 66,
   "id": "e423abc2-0c9c-4d80-8e00-ce90d0bed307",
   "metadata": {},
   "outputs": [],
   "source": [
    "L = [12, 13, ['a','b']]\n",
    "L2 = L.copy()\n",
    "from copy import deepcopy\n",
    "L3 = deepcopy(L)"
   ]
  },
  {
   "cell_type": "code",
   "execution_count": 67,
   "id": "3ee5ea64-3a40-448b-837e-6bc933751f3e",
   "metadata": {},
   "outputs": [
    {
     "data": {
      "text/plain": [
       "2341424355392"
      ]
     },
     "execution_count": 67,
     "metadata": {},
     "output_type": "execute_result"
    }
   ],
   "source": [
    "id(L[2])"
   ]
  },
  {
   "cell_type": "code",
   "execution_count": 68,
   "id": "5fccdf5a-b632-449f-8c13-c7008c848a68",
   "metadata": {},
   "outputs": [
    {
     "data": {
      "text/plain": [
       "2341424355392"
      ]
     },
     "execution_count": 68,
     "metadata": {},
     "output_type": "execute_result"
    }
   ],
   "source": [
    "id(L2[2])"
   ]
  },
  {
   "cell_type": "code",
   "execution_count": 69,
   "id": "6fa37e08-7093-408b-92e4-d897eb7598c1",
   "metadata": {},
   "outputs": [
    {
     "data": {
      "text/plain": [
       "2341424471808"
      ]
     },
     "execution_count": 69,
     "metadata": {},
     "output_type": "execute_result"
    }
   ],
   "source": [
    "id(L3[2])"
   ]
  },
  {
   "cell_type": "code",
   "execution_count": 70,
   "id": "14d381f5-a9df-423a-b7b6-80cbdb62240f",
   "metadata": {},
   "outputs": [
    {
     "data": {
      "text/plain": [
       "[12, 13, ['a', 'b', 'c']]"
      ]
     },
     "execution_count": 70,
     "metadata": {},
     "output_type": "execute_result"
    }
   ],
   "source": [
    "L3[2].append('c')\n",
    ">>> L3"
   ]
  },
  {
   "cell_type": "code",
   "execution_count": 71,
   "id": "2a934726-8a05-4c8d-aa46-ecb954880076",
   "metadata": {},
   "outputs": [
    {
     "data": {
      "text/plain": [
       "[12, 13, ['a', 'b']]"
      ]
     },
     "execution_count": 71,
     "metadata": {},
     "output_type": "execute_result"
    }
   ],
   "source": [
    "L"
   ]
  },
  {
   "cell_type": "markdown",
   "id": "8fa4e399-911c-4bc5-930f-b96cc6a3e156",
   "metadata": {},
   "source": [
    "Repetition operator with nested list"
   ]
  },
  {
   "cell_type": "code",
   "execution_count": 72,
   "id": "9053a13e-b3b0-456e-af23-69f4cd0ff7f8",
   "metadata": {},
   "outputs": [
    {
     "data": {
      "text/plain": [
       "[12, ['a', 'b'], 12, ['a', 'b'], 12, ['a', 'b']]"
      ]
     },
     "execution_count": 72,
     "metadata": {},
     "output_type": "execute_result"
    }
   ],
   "source": [
    "L = [12, ['a', 'b']]\n",
    "L1 = L * 3\n",
    "L1"
   ]
  },
  {
   "cell_type": "code",
   "execution_count": 73,
   "id": "1e35ca54-edc0-4702-a0fa-edd0f30d28f6",
   "metadata": {},
   "outputs": [
    {
     "data": {
      "text/plain": [
       "[12, ['z', 'b'], 12, ['z', 'b'], 12, ['z', 'b']]"
      ]
     },
     "execution_count": 73,
     "metadata": {},
     "output_type": "execute_result"
    }
   ],
   "source": [
    "L1[1][0] = 'z'\n",
    "L1"
   ]
  },
  {
   "cell_type": "code",
   "execution_count": 74,
   "id": "58e8a3f2-f5f9-4452-8a65-52c8975eac20",
   "metadata": {},
   "outputs": [
    {
     "data": {
      "text/plain": [
       "[12, ['z', 'b']]"
      ]
     },
     "execution_count": 74,
     "metadata": {},
     "output_type": "execute_result"
    }
   ],
   "source": [
    "L"
   ]
  },
  {
   "cell_type": "code",
   "execution_count": 75,
   "id": "c95d6585-525f-4cad-9394-1bc3d576127f",
   "metadata": {},
   "outputs": [
    {
     "data": {
      "text/plain": [
       "2341424157120"
      ]
     },
     "execution_count": 75,
     "metadata": {},
     "output_type": "execute_result"
    }
   ],
   "source": [
    "id(L[1])"
   ]
  },
  {
   "cell_type": "code",
   "execution_count": 76,
   "id": "e9cde4e7-3a56-4fb7-8563-d2242b17b3b1",
   "metadata": {},
   "outputs": [
    {
     "data": {
      "text/plain": [
       "2341424157120"
      ]
     },
     "execution_count": 76,
     "metadata": {},
     "output_type": "execute_result"
    }
   ],
   "source": [
    "id(L1[1])"
   ]
  },
  {
   "cell_type": "code",
   "execution_count": 77,
   "id": "6bcc3f02-b052-45f2-8544-cf01b53152cf",
   "metadata": {},
   "outputs": [
    {
     "data": {
      "text/plain": [
       "2341424157120"
      ]
     },
     "execution_count": 77,
     "metadata": {},
     "output_type": "execute_result"
    }
   ],
   "source": [
    "id(L1[3])"
   ]
  },
  {
   "cell_type": "code",
   "execution_count": 78,
   "id": "38560300-ac5d-44af-98e4-15b490d04454",
   "metadata": {},
   "outputs": [
    {
     "data": {
      "text/plain": [
       "2341424157120"
      ]
     },
     "execution_count": 78,
     "metadata": {},
     "output_type": "execute_result"
    }
   ],
   "source": [
    "id(L1[5])"
   ]
  },
  {
   "cell_type": "code",
   "execution_count": 79,
   "id": "7abe4ad6-014b-4329-a6bd-009b424df277",
   "metadata": {},
   "outputs": [
    {
     "data": {
      "text/plain": [
       "[[], [], [], []]"
      ]
     },
     "execution_count": 79,
     "metadata": {},
     "output_type": "execute_result"
    }
   ],
   "source": [
    "L = [[]] * 4\n",
    "L"
   ]
  },
  {
   "cell_type": "code",
   "execution_count": 80,
   "id": "fb58186a-c45a-452b-97f0-0b638a411e29",
   "metadata": {},
   "outputs": [
    {
     "ename": "TypeError",
     "evalue": "list indices must be integers or slices, not tuple",
     "output_type": "error",
     "traceback": [
      "\u001b[1;31m---------------------------------------------------------------------------\u001b[0m",
      "\u001b[1;31mTypeError\u001b[0m                                 Traceback (most recent call last)",
      "Cell \u001b[1;32mIn[80], line 2\u001b[0m\n\u001b[0;32m      1\u001b[0m L[\u001b[38;5;241m0\u001b[39m]\u001b[38;5;241m.\u001b[39mappend(\u001b[38;5;241m12\u001b[39m)\n\u001b[1;32m----> 2\u001b[0m L [[\u001b[38;5;241m12\u001b[39m], [\u001b[38;5;241m12\u001b[39m], [\u001b[38;5;241m12\u001b[39m], [\u001b[38;5;241m12\u001b[39m]]\n",
      "\u001b[1;31mTypeError\u001b[0m: list indices must be integers or slices, not tuple"
     ]
    }
   ],
   "source": [
    "L[0].append(12)\n",
    "L [[12], [12], [12], [12]]"
   ]
  },
  {
   "cell_type": "code",
   "execution_count": 81,
   "id": "e82581c6-fcf5-49dc-9ff8-ce4ed6c7070e",
   "metadata": {},
   "outputs": [
    {
     "data": {
      "text/plain": [
       "[[0, 0, 0], [0, 0, 0], [0, 0, 0], [0, 0, 0]]"
      ]
     },
     "execution_count": 81,
     "metadata": {},
     "output_type": "execute_result"
    }
   ],
   "source": [
    "L = [[0] * 3] * 4\n",
    "L"
   ]
  },
  {
   "cell_type": "code",
   "execution_count": 82,
   "id": "f2629d04-4e7b-4a40-a288-5c22d7740943",
   "metadata": {},
   "outputs": [
    {
     "data": {
      "text/plain": [
       "[[0, 0, 34], [0, 0, 34], [0, 0, 34], [0, 0, 34]]"
      ]
     },
     "execution_count": 82,
     "metadata": {},
     "output_type": "execute_result"
    }
   ],
   "source": [
    "L[1][2] = 34\n",
    "L"
   ]
  },
  {
   "cell_type": "code",
   "execution_count": 83,
   "id": "54270cf5-0622-47f5-be45-23703cee5058",
   "metadata": {},
   "outputs": [
    {
     "data": {
      "text/plain": [
       "[[], [], [], []]"
      ]
     },
     "execution_count": 83,
     "metadata": {},
     "output_type": "execute_result"
    }
   ],
   "source": [
    "L = [[], [], [], []]\n",
    "L"
   ]
  },
  {
   "cell_type": "code",
   "execution_count": 84,
   "id": "fca2e1be-cadb-4338-829d-c550ee2d15e6",
   "metadata": {},
   "outputs": [
    {
     "data": {
      "text/plain": [
       "[[12], [], [], []]"
      ]
     },
     "execution_count": 84,
     "metadata": {},
     "output_type": "execute_result"
    }
   ],
   "source": [
    "L[0].append(12)\n",
    "L"
   ]
  },
  {
   "cell_type": "markdown",
   "id": "64c17aa3-0ebb-4e16-bb57-d1861c898ca6",
   "metadata": {},
   "source": [
    "Tuples"
   ]
  },
  {
   "cell_type": "code",
   "execution_count": 86,
   "id": "6a475dcf-e781-4df6-8f6a-2ec05366e4d3",
   "metadata": {},
   "outputs": [
    {
     "data": {
      "text/plain": [
       "'Wed'"
      ]
     },
     "execution_count": 86,
     "metadata": {},
     "output_type": "execute_result"
    }
   ],
   "source": [
    "days = ('Sun', 'Mon', 'Tue', 'Wed', 'Thu', 'Fri', 'Sat')\n",
    "days[3]"
   ]
  },
  {
   "cell_type": "code",
   "execution_count": 87,
   "id": "3c9d8d7f-8a6d-4616-aded-769f0b2c3f98",
   "metadata": {},
   "outputs": [
    {
     "data": {
      "text/plain": [
       "'Sat'"
      ]
     },
     "execution_count": 87,
     "metadata": {},
     "output_type": "execute_result"
    }
   ],
   "source": [
    "days[-1]"
   ]
  },
  {
   "cell_type": "code",
   "execution_count": 88,
   "id": "7b160604-8bb2-4096-9af9-587d56dca638",
   "metadata": {},
   "outputs": [
    {
     "data": {
      "text/plain": [
       "('Tue', 'Wed', 'Thu')"
      ]
     },
     "execution_count": 88,
     "metadata": {},
     "output_type": "execute_result"
    }
   ],
   "source": [
    "days[2:5]"
   ]
  },
  {
   "cell_type": "code",
   "execution_count": 89,
   "id": "53cd80b9-3af3-4978-962f-a41247770d0d",
   "metadata": {},
   "outputs": [
    {
     "ename": "TypeError",
     "evalue": "'tuple' object does not support item assignment",
     "output_type": "error",
     "traceback": [
      "\u001b[1;31m---------------------------------------------------------------------------\u001b[0m",
      "\u001b[1;31mTypeError\u001b[0m                                 Traceback (most recent call last)",
      "Cell \u001b[1;32mIn[89], line 1\u001b[0m\n\u001b[1;32m----> 1\u001b[0m days[\u001b[38;5;241m2\u001b[39m] \u001b[38;5;241m=\u001b[39m \u001b[38;5;124m'\u001b[39m\u001b[38;5;124mTuesday\u001b[39m\u001b[38;5;124m'\u001b[39m\n",
      "\u001b[1;31mTypeError\u001b[0m: 'tuple' object does not support item assignment"
     ]
    }
   ],
   "source": [
    "days[2] = 'Tuesday'"
   ]
  },
  {
   "cell_type": "code",
   "execution_count": 90,
   "id": "cd3c8e26-9a5f-4441-abb9-e8b491d88515",
   "metadata": {},
   "outputs": [
    {
     "data": {
      "text/plain": [
       "(10, 20, 30, 40)"
      ]
     },
     "execution_count": 90,
     "metadata": {},
     "output_type": "execute_result"
    }
   ],
   "source": [
    "numbers = (10, 20, 30, 40)\n",
    "numbers"
   ]
  },
  {
   "cell_type": "code",
   "execution_count": 91,
   "id": "bd33c006-6d5f-44a7-abf4-4ede6e953029",
   "metadata": {},
   "outputs": [
    {
     "data": {
      "text/plain": [
       "('Sun', 'Mon', 'Tue')"
      ]
     },
     "execution_count": 91,
     "metadata": {},
     "output_type": "execute_result"
    }
   ],
   "source": [
    "days = 'Sun', 'Mon', 'Tue'\n",
    "days"
   ]
  },
  {
   "cell_type": "code",
   "execution_count": 92,
   "id": "89169be0-e04b-4d3a-8a4e-53d8bd620c27",
   "metadata": {},
   "outputs": [
    {
     "data": {
      "text/plain": [
       "(1, 2, 3)"
      ]
     },
     "execution_count": 92,
     "metadata": {},
     "output_type": "execute_result"
    }
   ],
   "source": [
    "t1 = tuple([1, 2, 3])\n",
    "t1"
   ]
  },
  {
   "cell_type": "code",
   "execution_count": 93,
   "id": "5006f65e-fda8-478d-9951-67556406a151",
   "metadata": {},
   "outputs": [
    {
     "data": {
      "text/plain": [
       "('y', 'e', 's')"
      ]
     },
     "execution_count": 93,
     "metadata": {},
     "output_type": "execute_result"
    }
   ],
   "source": [
    "t2 = tuple('yes')\n",
    "t2"
   ]
  },
  {
   "cell_type": "code",
   "execution_count": 94,
   "id": "f540d9f7-fe0d-441e-ae77-662d9c51b1e5",
   "metadata": {},
   "outputs": [
    {
     "data": {
      "text/plain": [
       "(3, 4, 5, 6)"
      ]
     },
     "execution_count": 94,
     "metadata": {},
     "output_type": "execute_result"
    }
   ],
   "source": [
    "t3 = tuple(range(3,7))\n",
    "t3"
   ]
  },
  {
   "cell_type": "code",
   "execution_count": 95,
   "id": "95374f3e-37fb-424b-a589-c94d4e4c306d",
   "metadata": {},
   "outputs": [
    {
     "data": {
      "text/plain": [
       "(1, 2, 3, 4, 5, 6)"
      ]
     },
     "execution_count": 95,
     "metadata": {},
     "output_type": "execute_result"
    }
   ],
   "source": [
    "t1 = (1, 2, 3)\n",
    "t2 = (4, 5, 6)\n",
    "t1 + t2"
   ]
  },
  {
   "cell_type": "code",
   "execution_count": 96,
   "id": "1b6c7dc3-1208-42ac-807c-ed7064faef39",
   "metadata": {},
   "outputs": [
    {
     "data": {
      "text/plain": [
       "(1, 2, 3, 1, 2, 3, 1, 2, 3)"
      ]
     },
     "execution_count": 96,
     "metadata": {},
     "output_type": "execute_result"
    }
   ],
   "source": [
    "t1 * 3"
   ]
  },
  {
   "cell_type": "code",
   "execution_count": 97,
   "id": "28398b27-4fdd-4797-b64f-542294eb044c",
   "metadata": {},
   "outputs": [
    {
     "data": {
      "text/plain": [
       "(1, 2, 3, 4, 5, 6)"
      ]
     },
     "execution_count": 97,
     "metadata": {},
     "output_type": "execute_result"
    }
   ],
   "source": [
    "t1 += t2\n",
    "t1"
   ]
  },
  {
   "cell_type": "code",
   "execution_count": 98,
   "id": "ad706865-1a71-488f-98d2-5f2423493737",
   "metadata": {},
   "outputs": [],
   "source": [
    "t1 = t1 + t2 "
   ]
  },
  {
   "cell_type": "code",
   "execution_count": 99,
   "id": "37c0e1cd-f42c-42ab-9ec3-09b3699ed513",
   "metadata": {},
   "outputs": [
    {
     "data": {
      "text/plain": [
       "True"
      ]
     },
     "execution_count": 99,
     "metadata": {},
     "output_type": "execute_result"
    }
   ],
   "source": [
    "t1 = (1, 2, 3, 'black')\n",
    "t2 = (1, 2, 3, 'black')\n",
    "t1 == t2"
   ]
  },
  {
   "cell_type": "code",
   "execution_count": 100,
   "id": "c0251c5c-b88c-42f1-83bc-6dac5dbc085d",
   "metadata": {},
   "outputs": [
    {
     "data": {
      "text/plain": [
       "False"
      ]
     },
     "execution_count": 100,
     "metadata": {},
     "output_type": "execute_result"
    }
   ],
   "source": [
    "t1 != t2"
   ]
  },
  {
   "cell_type": "code",
   "execution_count": 101,
   "id": "866c4158-f86c-47db-a02e-72a62b019af1",
   "metadata": {},
   "outputs": [
    {
     "data": {
      "text/plain": [
       "True"
      ]
     },
     "execution_count": 101,
     "metadata": {},
     "output_type": "execute_result"
    }
   ],
   "source": [
    "t1 is not t2"
   ]
  },
  {
   "cell_type": "code",
   "execution_count": 102,
   "id": "d03cc684-a890-4ca6-b7a0-85f53925762c",
   "metadata": {},
   "outputs": [
    {
     "data": {
      "text/plain": [
       "True"
      ]
     },
     "execution_count": 102,
     "metadata": {},
     "output_type": "execute_result"
    }
   ],
   "source": [
    "2 in t1"
   ]
  },
  {
   "cell_type": "code",
   "execution_count": 103,
   "id": "c3fc2458-9368-404c-98f5-87061380689f",
   "metadata": {},
   "outputs": [
    {
     "data": {
      "text/plain": [
       "False"
      ]
     },
     "execution_count": 103,
     "metadata": {},
     "output_type": "execute_result"
    }
   ],
   "source": [
    "2 not in t1"
   ]
  },
  {
   "cell_type": "code",
   "execution_count": 104,
   "id": "a55a106c-f954-4011-9171-a6a534362696",
   "metadata": {},
   "outputs": [
    {
     "ename": "TypeError",
     "evalue": "'tuple' object does not support item assignment",
     "output_type": "error",
     "traceback": [
      "\u001b[1;31m---------------------------------------------------------------------------\u001b[0m",
      "\u001b[1;31mTypeError\u001b[0m                                 Traceback (most recent call last)",
      "Cell \u001b[1;32mIn[104], line 2\u001b[0m\n\u001b[0;32m      1\u001b[0m student \u001b[38;5;241m=\u001b[39m (\u001b[38;5;124m'\u001b[39m\u001b[38;5;124mTed\u001b[39m\u001b[38;5;124m'\u001b[39m, \u001b[38;5;241m25\u001b[39m, [\u001b[38;5;241m88\u001b[39m, \u001b[38;5;241m70\u001b[39m, \u001b[38;5;241m92\u001b[39m])\n\u001b[1;32m----> 2\u001b[0m student[\u001b[38;5;241m1\u001b[39m] \u001b[38;5;241m=\u001b[39m \u001b[38;5;241m90\u001b[39m\n",
      "\u001b[1;31mTypeError\u001b[0m: 'tuple' object does not support item assignment"
     ]
    }
   ],
   "source": [
    "student = ('Ted', 25, [88, 70, 92])\n",
    "student[1] = 90"
   ]
  },
  {
   "cell_type": "code",
   "execution_count": 105,
   "id": "5ff23280-ec2d-4cff-b5b4-1f3811b2b82e",
   "metadata": {},
   "outputs": [
    {
     "data": {
      "text/plain": [
       "('Ted', 25, [88, 90, 92])"
      ]
     },
     "execution_count": 105,
     "metadata": {},
     "output_type": "execute_result"
    }
   ],
   "source": [
    "student[2][1] = 90\n",
    "student"
   ]
  },
  {
   "cell_type": "markdown",
   "id": "d0c568de-3cdf-4f81-ad37-8de1a913c0b7",
   "metadata": {},
   "source": [
    "Tuple Packing and Unpacking"
   ]
  },
  {
   "cell_type": "code",
   "execution_count": 107,
   "id": "9b03e1c4-bd61-4a28-97d6-e907054f6c98",
   "metadata": {},
   "outputs": [],
   "source": [
    "employee = ('Raj', 20, 'Delhi', 15000)"
   ]
  },
  {
   "cell_type": "code",
   "execution_count": 108,
   "id": "1a44274f-d636-4f5b-9c5e-6e882677ce12",
   "metadata": {},
   "outputs": [],
   "source": [
    "employee = 'Raj', 20, 'Delhi', 15000"
   ]
  },
  {
   "cell_type": "code",
   "execution_count": 109,
   "id": "d02bb27c-7ddd-4135-baad-c430258a5fa9",
   "metadata": {},
   "outputs": [],
   "source": [
    "name, age, city, salary = employee"
   ]
  },
  {
   "cell_type": "code",
   "execution_count": 110,
   "id": "d1e7ab72-89c6-4069-813a-8dbff381cc29",
   "metadata": {},
   "outputs": [],
   "source": [
    "name, age, city, salary = ('Raj', 20, 'Delhi', 15000)"
   ]
  },
  {
   "cell_type": "code",
   "execution_count": 111,
   "id": "480e6c38-df94-476f-afcc-b6c516cf92ae",
   "metadata": {},
   "outputs": [],
   "source": [
    "name, age, city, salary = 'Raj', 20, 'Delhi', 1500"
   ]
  },
  {
   "cell_type": "code",
   "execution_count": 112,
   "id": "43ed731a-222d-496f-8ec4-00457ecdcaac",
   "metadata": {},
   "outputs": [],
   "source": [
    "a, b, c = 2, 30, 1"
   ]
  },
  {
   "cell_type": "code",
   "execution_count": 115,
   "id": "2f976a33-c7dc-4047-995d-9480869a9f53",
   "metadata": {},
   "outputs": [],
   "source": [
    "x = 1200\n",
    "y = 3000\n",
    "temp = x\n",
    "x = y\n",
    "y = temp"
   ]
  },
  {
   "cell_type": "code",
   "execution_count": 116,
   "id": "c69128c4-d5e6-4470-b7b5-5cbe79c63574",
   "metadata": {},
   "outputs": [],
   "source": [
    "x, y = y, x"
   ]
  },
  {
   "cell_type": "code",
   "execution_count": 117,
   "id": "b084a72f-303d-40f1-92de-4415992696f0",
   "metadata": {},
   "outputs": [
    {
     "name": "stdout",
     "output_type": "stream",
     "text": [
      "1 2 3\n"
     ]
    }
   ],
   "source": [
    "x, y, z = [1, 2, 3]\n",
    "print(x, y, z)"
   ]
  },
  {
   "cell_type": "code",
   "execution_count": 118,
   "id": "b55ade78-f418-4052-bceb-f8143dd1d544",
   "metadata": {},
   "outputs": [
    {
     "name": "stdout",
     "output_type": "stream",
     "text": [
      "n o t\n"
     ]
    }
   ],
   "source": [
    "first, second, third = 'not'\n",
    "print(first, second, third)"
   ]
  },
  {
   "cell_type": "code",
   "execution_count": 119,
   "id": "19248d62-4604-4933-9f48-79d1e4e4068e",
   "metadata": {},
   "outputs": [
    {
     "name": "stdout",
     "output_type": "stream",
     "text": [
      "22 11 1987\n"
     ]
    }
   ],
   "source": [
    "d, m, y = '22/11/1987'.split('/')\n",
    "print(d, m, y)"
   ]
  },
  {
   "cell_type": "code",
   "execution_count": 120,
   "id": "f85b9232-5ba3-4297-893b-8e1ae1388a1b",
   "metadata": {},
   "outputs": [
    {
     "name": "stdout",
     "output_type": "stream",
     "text": [
      "3 4 5 6\n"
     ]
    }
   ],
   "source": [
    "a, b, c, d = range(3, 7)\n",
    "print(a, b, c, d)"
   ]
  },
  {
   "cell_type": "code",
   "execution_count": 121,
   "id": "91d38060-13cf-441d-bb5c-0fb2b248cb53",
   "metadata": {},
   "outputs": [],
   "source": [
    "black, white, green, blue, red, yellow = range(1,7)\n",
    "(MONDAY, TUESDAY, WEDNESDAY, THURSDAY, FRIDAY, SATURDAY, SUNDAY) = range(7)"
   ]
  },
  {
   "cell_type": "code",
   "execution_count": 1,
   "id": "3090cbff-115b-4a81-89ae-f7ddb031cd45",
   "metadata": {},
   "outputs": [],
   "source": [
    "#c1, c2, c3 = input('Enter three colours :').split()"
   ]
  },
  {
   "cell_type": "code",
   "execution_count": 3,
   "id": "bab4a723-5c94-4c82-b4e4-00092de1e10e",
   "metadata": {},
   "outputs": [],
   "source": [
    "#print(c1, c2, c3)"
   ]
  },
  {
   "cell_type": "code",
   "execution_count": 4,
   "id": "a414a16e-ef6b-4b88-9806-96afa443201b",
   "metadata": {},
   "outputs": [
    {
     "ename": "ValueError",
     "evalue": "too many values to unpack (expected 2)",
     "output_type": "error",
     "traceback": [
      "\u001b[1;31m---------------------------------------------------------------------------\u001b[0m",
      "\u001b[1;31mValueError\u001b[0m                                Traceback (most recent call last)",
      "Cell \u001b[1;32mIn[4], line 1\u001b[0m\n\u001b[1;32m----> 1\u001b[0m x, y \u001b[38;5;241m=\u001b[39m [\u001b[38;5;241m1\u001b[39m, \u001b[38;5;241m2\u001b[39m, \u001b[38;5;241m3\u001b[39m]\n",
      "\u001b[1;31mValueError\u001b[0m: too many values to unpack (expected 2)"
     ]
    }
   ],
   "source": [
    "x, y = [1, 2, 3]"
   ]
  },
  {
   "cell_type": "code",
   "execution_count": 5,
   "id": "c05f5699-33b8-429b-8974-89eeea644340",
   "metadata": {},
   "outputs": [
    {
     "ename": "ValueError",
     "evalue": "not enough values to unpack (expected 4, got 3)",
     "output_type": "error",
     "traceback": [
      "\u001b[1;31m---------------------------------------------------------------------------\u001b[0m",
      "\u001b[1;31mValueError\u001b[0m                                Traceback (most recent call last)",
      "Cell \u001b[1;32mIn[5], line 1\u001b[0m\n\u001b[1;32m----> 1\u001b[0m w, x, y, z \u001b[38;5;241m=\u001b[39m [\u001b[38;5;241m1\u001b[39m, \u001b[38;5;241m2\u001b[39m, \u001b[38;5;241m3\u001b[39m]\n",
      "\u001b[1;31mValueError\u001b[0m: not enough values to unpack (expected 4, got 3)"
     ]
    }
   ],
   "source": [
    "w, x, y, z = [1, 2, 3]"
   ]
  },
  {
   "cell_type": "code",
   "execution_count": 6,
   "id": "17e7c876-01a4-4e59-a6bf-e531d6b1affc",
   "metadata": {},
   "outputs": [
    {
     "ename": "ValueError",
     "evalue": "not enough values to unpack (expected 5, got 3)",
     "output_type": "error",
     "traceback": [
      "\u001b[1;31m---------------------------------------------------------------------------\u001b[0m",
      "\u001b[1;31mValueError\u001b[0m                                Traceback (most recent call last)",
      "Cell \u001b[1;32mIn[6], line 2\u001b[0m\n\u001b[0;32m      1\u001b[0m L \u001b[38;5;241m=\u001b[39m [\u001b[38;5;124m'\u001b[39m\u001b[38;5;124mDev\u001b[39m\u001b[38;5;124m'\u001b[39m, \u001b[38;5;241m10\u001b[39m, (\u001b[38;5;241m29\u001b[39m, \u001b[38;5;241m4\u001b[39m, \u001b[38;5;241m2013\u001b[39m)]\n\u001b[1;32m----> 2\u001b[0m name, age, d, m, y \u001b[38;5;241m=\u001b[39m L\n",
      "\u001b[1;31mValueError\u001b[0m: not enough values to unpack (expected 5, got 3)"
     ]
    }
   ],
   "source": [
    "L = ['Dev', 10, (29, 4, 2013)]\n",
    "name, age, d, m, y = L"
   ]
  },
  {
   "cell_type": "code",
   "execution_count": 7,
   "id": "b7e30ead-3c18-462a-968b-d0bc4fb3ad18",
   "metadata": {},
   "outputs": [
    {
     "name": "stdout",
     "output_type": "stream",
     "text": [
      "Dev 10 29 4 2013\n"
     ]
    }
   ],
   "source": [
    "name, age, (d, m, y) = L \n",
    ">>> print(name, age, d, m, y)"
   ]
  },
  {
   "cell_type": "code",
   "execution_count": 8,
   "id": "525df8e8-550a-44e7-98b4-d8b8d95a4f42",
   "metadata": {},
   "outputs": [],
   "source": [
    "employee = ('Raj', 25, 'Delhi', 'raj@abc.com', 'XY289', 15000)\n",
    "name, age, city, email, id, salary = employee"
   ]
  },
  {
   "cell_type": "code",
   "execution_count": 9,
   "id": "27335a60-8abf-46bb-93d6-1b6894765c36",
   "metadata": {},
   "outputs": [
    {
     "ename": "ValueError",
     "evalue": "too many values to unpack (expected 4)",
     "output_type": "error",
     "traceback": [
      "\u001b[1;31m---------------------------------------------------------------------------\u001b[0m",
      "\u001b[1;31mValueError\u001b[0m                                Traceback (most recent call last)",
      "Cell \u001b[1;32mIn[9], line 1\u001b[0m\n\u001b[1;32m----> 1\u001b[0m name, age, city, email \u001b[38;5;241m=\u001b[39m employee\n",
      "\u001b[1;31mValueError\u001b[0m: too many values to unpack (expected 4)"
     ]
    }
   ],
   "source": [
    "name, age, city, email = employee"
   ]
  },
  {
   "cell_type": "code",
   "execution_count": 10,
   "id": "e630da59-12f8-49dc-90da-183fae67dd7b",
   "metadata": {},
   "outputs": [],
   "source": [
    "name, age, city, email, _ , _ = employee\n",
    "name, _ , city, email, _ , salary = employee"
   ]
  },
  {
   "cell_type": "code",
   "execution_count": 11,
   "id": "bc29f617-84f2-42ce-8c3e-944f412aa5ae",
   "metadata": {},
   "outputs": [],
   "source": [
    "name, dummy, city, email, dummy, salary = employee"
   ]
  },
  {
   "cell_type": "code",
   "execution_count": 12,
   "id": "6434ca47-6fa6-42c7-a04e-fd6b28c3ed40",
   "metadata": {},
   "outputs": [],
   "source": [
    "name, *_ , salary = employee"
   ]
  },
  {
   "cell_type": "code",
   "execution_count": 13,
   "id": "2a0fee19-4d39-473b-a095-2f6d0fda7f1d",
   "metadata": {},
   "outputs": [],
   "source": [
    "name, *skip, salary = employee"
   ]
  },
  {
   "cell_type": "code",
   "execution_count": 14,
   "id": "b91dbb50-3551-4344-9474-7e02bd619a47",
   "metadata": {},
   "outputs": [],
   "source": [
    "record = ('Ted', 25, 'Paris', 'Java', 'C++', 'C', 'Python')"
   ]
  },
  {
   "cell_type": "code",
   "execution_count": 15,
   "id": "d1c9251a-e1ee-4ebe-be39-5dc51403c5a1",
   "metadata": {},
   "outputs": [],
   "source": [
    "name, age, city, *languages = record"
   ]
  },
  {
   "cell_type": "code",
   "execution_count": 16,
   "id": "133f5fd3-794a-44b9-ad41-b2763c34aef7",
   "metadata": {},
   "outputs": [
    {
     "data": {
      "text/plain": [
       "['Java', 'C++', 'C', 'Python']"
      ]
     },
     "execution_count": 16,
     "metadata": {},
     "output_type": "execute_result"
    }
   ],
   "source": [
    "languages"
   ]
  },
  {
   "cell_type": "code",
   "execution_count": null,
   "id": "30f9c25f-e739-451e-b93f-1a9e5be7654c",
   "metadata": {},
   "outputs": [],
   "source": [
    "author = ('Learn C', 'Python Programming','Data structures', 'Alex', 'alex@gmail.com')\n",
    ">>> *books, name, email = author\n",
    ">>> books"
   ]
  },
  {
   "cell_type": "code",
   "execution_count": null,
   "id": "bd16f6c5-8960-48eb-9aff-9fa55afe6f3a",
   "metadata": {},
   "outputs": [],
   "source": []
  },
  {
   "cell_type": "code",
   "execution_count": null,
   "id": "4d1bd8ec-c1b4-4d68-ad0b-72854383182d",
   "metadata": {},
   "outputs": [],
   "source": []
  },
  {
   "cell_type": "code",
   "execution_count": null,
   "id": "37336589-3d99-4a74-85d1-55ee6f3f97c7",
   "metadata": {},
   "outputs": [],
   "source": []
  },
  {
   "cell_type": "code",
   "execution_count": null,
   "id": "0632b18d-e3ac-492c-bd16-44c401bdfef4",
   "metadata": {},
   "outputs": [],
   "source": []
  },
  {
   "cell_type": "code",
   "execution_count": null,
   "id": "f05f25f8-25ad-464a-9c29-5d753760f4b8",
   "metadata": {},
   "outputs": [],
   "source": []
  },
  {
   "cell_type": "code",
   "execution_count": null,
   "id": "0b27d952-fb4e-462c-bab8-60e1743fd13b",
   "metadata": {},
   "outputs": [],
   "source": []
  },
  {
   "cell_type": "code",
   "execution_count": null,
   "id": "256a2d98-d558-4426-9784-34f724cf834e",
   "metadata": {},
   "outputs": [],
   "source": []
  },
  {
   "cell_type": "code",
   "execution_count": null,
   "id": "bebb0825-c276-4536-86b5-a4a549db7a94",
   "metadata": {},
   "outputs": [],
   "source": []
  },
  {
   "cell_type": "code",
   "execution_count": null,
   "id": "1e36c7fc-db86-49b0-b564-f08e8aca78e5",
   "metadata": {},
   "outputs": [],
   "source": []
  },
  {
   "cell_type": "code",
   "execution_count": null,
   "id": "882670c7-cc09-4991-8ebd-647d98bf0002",
   "metadata": {},
   "outputs": [],
   "source": []
  },
  {
   "cell_type": "code",
   "execution_count": null,
   "id": "b7c9bf81-c6f0-4a76-89cf-8389eab2349d",
   "metadata": {},
   "outputs": [],
   "source": []
  },
  {
   "cell_type": "code",
   "execution_count": null,
   "id": "cd7c3f18-1525-47a5-9b5c-22e75e9af5c4",
   "metadata": {},
   "outputs": [],
   "source": []
  },
  {
   "cell_type": "code",
   "execution_count": null,
   "id": "a4ccaafe-92b1-4acc-814f-b50648e9c534",
   "metadata": {},
   "outputs": [],
   "source": []
  },
  {
   "cell_type": "code",
   "execution_count": null,
   "id": "acafa0c2-fc03-43f4-81bc-cd2a1e161484",
   "metadata": {},
   "outputs": [],
   "source": []
  },
  {
   "cell_type": "code",
   "execution_count": null,
   "id": "e60e3bcc-a321-49e3-97a1-bf6caaaa7d61",
   "metadata": {},
   "outputs": [],
   "source": []
  },
  {
   "cell_type": "code",
   "execution_count": null,
   "id": "73e292a0-1b5a-42d2-82cb-5f5d1c987b3d",
   "metadata": {},
   "outputs": [],
   "source": []
  },
  {
   "cell_type": "code",
   "execution_count": null,
   "id": "5ba816c4-723b-450c-8ef4-59f0eb920f54",
   "metadata": {},
   "outputs": [],
   "source": []
  },
  {
   "cell_type": "code",
   "execution_count": null,
   "id": "9cf7bc78-643f-4143-be34-4f2a2156ed25",
   "metadata": {},
   "outputs": [],
   "source": []
  },
  {
   "cell_type": "code",
   "execution_count": null,
   "id": "5ac22a6e-7879-411a-8c9c-7070321fb3cb",
   "metadata": {},
   "outputs": [],
   "source": []
  },
  {
   "cell_type": "code",
   "execution_count": null,
   "id": "a738c8de-8788-4fc5-985e-de232c461243",
   "metadata": {},
   "outputs": [],
   "source": []
  },
  {
   "cell_type": "code",
   "execution_count": null,
   "id": "3c82499b-0761-46f3-a055-a28db024ca15",
   "metadata": {},
   "outputs": [],
   "source": []
  },
  {
   "cell_type": "code",
   "execution_count": null,
   "id": "8d873bcf-fa7d-4a36-a0ef-c708baadfe2e",
   "metadata": {},
   "outputs": [],
   "source": []
  }
 ],
 "metadata": {
  "kernelspec": {
   "display_name": "Python 3 (ipykernel)",
   "language": "python",
   "name": "python3"
  },
  "language_info": {
   "codemirror_mode": {
    "name": "ipython",
    "version": 3
   },
   "file_extension": ".py",
   "mimetype": "text/x-python",
   "name": "python",
   "nbconvert_exporter": "python",
   "pygments_lexer": "ipython3",
   "version": "3.12.7"
  }
 },
 "nbformat": 4,
 "nbformat_minor": 5
}
