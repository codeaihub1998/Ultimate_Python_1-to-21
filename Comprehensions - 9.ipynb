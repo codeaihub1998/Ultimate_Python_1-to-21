{
 "cells": [
  {
   "cell_type": "markdown",
   "id": "d5e066df-06e9-4f7c-9caa-51253b903ea0",
   "metadata": {},
   "source": [
    "List Comprehension"
   ]
  },
  {
   "cell_type": "code",
   "execution_count": 1,
   "id": "9e45fa4f-5558-490e-a8f8-f5e3249f1634",
   "metadata": {},
   "outputs": [],
   "source": [
    "cubes = []\n",
    "for n in range(5, 11):\n",
    " cubes.append(n ** 3)"
   ]
  },
  {
   "cell_type": "code",
   "execution_count": 2,
   "id": "df6df8f3-8eb7-45c5-aa9f-c4c5356a3d90",
   "metadata": {},
   "outputs": [],
   "source": [
    "cubes = [n ** 3 for n in range(5, 11)]"
   ]
  },
  {
   "cell_type": "code",
   "execution_count": 3,
   "id": "4f242035-d51d-4553-b1ca-50da53ae6f22",
   "metadata": {},
   "outputs": [
    {
     "data": {
      "text/plain": [
       "[27, 125, 343, 1, 512, 729, 64]"
      ]
     },
     "execution_count": 3,
     "metadata": {},
     "output_type": "execute_result"
    }
   ],
   "source": [
    "L = [3, 5, 7, 1, 8, 9, 4]\n",
    "cubes = [n ** 3 for n in L]\n",
    "cubes"
   ]
  },
  {
   "cell_type": "code",
   "execution_count": 4,
   "id": "29951a97-a552-4d90-a596-4ade97700940",
   "metadata": {},
   "outputs": [
    {
     "data": {
      "text/plain": [
       "[6, 10, 14, 2, 16, 18, 8]"
      ]
     },
     "execution_count": 4,
     "metadata": {},
     "output_type": "execute_result"
    }
   ],
   "source": [
    "L2 = [n * 2 for n in L]\n",
    "L2"
   ]
  },
  {
   "cell_type": "code",
   "execution_count": 5,
   "id": "0b7b9296-1e36-4eee-95df-057e00c69676",
   "metadata": {},
   "outputs": [
    {
     "data": {
      "text/plain": [
       "['3', '5', '7', '1', '8', '9', '4']"
      ]
     },
     "execution_count": 5,
     "metadata": {},
     "output_type": "execute_result"
    }
   ],
   "source": [
    "[str(n) for n in L]"
   ]
  },
  {
   "cell_type": "code",
   "execution_count": 6,
   "id": "588e91ff-2553-4b19-8708-2e7de608e62f",
   "metadata": {},
   "outputs": [
    {
     "data": {
      "text/plain": [
       "['Bel', 'New', 'Par', 'Bue']"
      ]
     },
     "execution_count": 6,
     "metadata": {},
     "output_type": "execute_result"
    }
   ],
   "source": [
    "cities = ['Belmont', 'New york', 'Paris', 'Buenos aires']\n",
    "[city[:3] for city in cities]"
   ]
  },
  {
   "cell_type": "code",
   "execution_count": 7,
   "id": "381aefb4-3669-417e-80e3-135d5a6390fe",
   "metadata": {},
   "outputs": [
    {
     "data": {
      "text/plain": [
       "['Belmont', 'New York', 'Paris', 'Buenos Aires']"
      ]
     },
     "execution_count": 7,
     "metadata": {},
     "output_type": "execute_result"
    }
   ],
   "source": [
    "[city.title() for city in cities]"
   ]
  },
  {
   "cell_type": "code",
   "execution_count": 8,
   "id": "96973046-7ae8-49c4-9441-ab968db14c38",
   "metadata": {},
   "outputs": [
    {
     "data": {
      "text/plain": [
       "[('Belmont', 7), ('New york', 8), ('Paris', 5), ('Buenos aires', 12)]"
      ]
     },
     "execution_count": 8,
     "metadata": {},
     "output_type": "execute_result"
    }
   ],
   "source": [
    " [(city, len(city)) for city in cities]"
   ]
  },
  {
   "cell_type": "code",
   "execution_count": 10,
   "id": "bdf8fedd-9407-40c0-af4b-2aef99c09fee",
   "metadata": {},
   "outputs": [
    {
     "data": {
      "text/plain": [
       "[['Belmont', 7], ['New york', 8], ['Paris', 5], ['Buenos aires', 12]]"
      ]
     },
     "execution_count": 10,
     "metadata": {},
     "output_type": "execute_result"
    }
   ],
   "source": [
    " [[city, len(city)] for city in cities]"
   ]
  },
  {
   "cell_type": "code",
   "execution_count": 11,
   "id": "376fb697-74ae-48a6-9924-90dd40951ade",
   "metadata": {},
   "outputs": [
    {
     "data": {
      "text/plain": [
       "[27, 112, 179, 134]"
      ]
     },
     "execution_count": 11,
     "metadata": {},
     "output_type": "execute_result"
    }
   ],
   "source": [
    "L = [[1, 2, 11, 13], [12, 34, 56, 10], [13, 77, 89], [56, 78]]\n",
    "[sum(sublist) for sublist in L]"
   ]
  },
  {
   "cell_type": "code",
   "execution_count": 12,
   "id": "78f93592-d7b1-4d27-9780-484b0f032b2f",
   "metadata": {},
   "outputs": [
    {
     "data": {
      "text/plain": [
       "[13, 56, 89, 78]"
      ]
     },
     "execution_count": 12,
     "metadata": {},
     "output_type": "execute_result"
    }
   ],
   "source": [
    "[max(sublist) for sublist in L]"
   ]
  },
  {
   "cell_type": "code",
   "execution_count": 13,
   "id": "8781f1f8-42c3-46da-917f-07480cbe2c2b",
   "metadata": {},
   "outputs": [
    {
     "data": {
      "text/plain": [
       "[30.48, 114.3, 198.12, 195.58, 30.48, 35.56, 137.16]"
      ]
     },
     "execution_count": 13,
     "metadata": {},
     "output_type": "execute_result"
    }
   ],
   "source": [
    "heights = [12, 45, 78, 77, 12, 14, 54]\n",
    "heights_cm = [ht * 2.54 for ht in heights]\n",
    "heights_cm"
   ]
  },
  {
   "cell_type": "code",
   "execution_count": 14,
   "id": "97954594-0942-4609-8d12-43596ee02caf",
   "metadata": {},
   "outputs": [],
   "source": [
    "weights = [2900, 3450, 6678, 2348, 800, 8999, 90]"
   ]
  },
  {
   "cell_type": "code",
   "execution_count": 15,
   "id": "273d855d-bdcc-4753-985b-18cf5e13dded",
   "metadata": {},
   "outputs": [
    {
     "data": {
      "text/plain": [
       "[(2, 900), (3, 450), (6, 678), (2, 348), (0, 800), (8, 999), (0, 90)]"
      ]
     },
     "execution_count": 15,
     "metadata": {},
     "output_type": "execute_result"
    }
   ],
   "source": [
    "wts = [(wt // 1000, wt % 1000) for wt in weights]\n",
    "wts"
   ]
  },
  {
   "cell_type": "code",
   "execution_count": 16,
   "id": "b47a98a2-02c4-420d-b692-1f448196359d",
   "metadata": {},
   "outputs": [
    {
     "data": {
      "text/plain": [
       "[2900, 3450, 6678, 2348, 800, 8999, 90]"
      ]
     },
     "execution_count": 16,
     "metadata": {},
     "output_type": "execute_result"
    }
   ],
   "source": [
    "[t[0] * 1000 + t[1] for t in wts]"
   ]
  },
  {
   "cell_type": "code",
   "execution_count": 17,
   "id": "be5ef1b9-c798-4410-bf5e-5f9a9fc94a9c",
   "metadata": {},
   "outputs": [
    {
     "data": {
      "text/plain": [
       "[2900, 3450, 6678, 2348, 800, 8999, 90]"
      ]
     },
     "execution_count": 17,
     "metadata": {},
     "output_type": "execute_result"
    }
   ],
   "source": [
    "[kg * 1000 + gm for kg, gm in wts]"
   ]
  },
  {
   "cell_type": "code",
   "execution_count": 18,
   "id": "e9126e03-0077-480b-9718-26277ad5c4a6",
   "metadata": {},
   "outputs": [
    {
     "data": {
      "text/plain": [
       "[12, 13, 13, 6, 15]"
      ]
     },
     "execution_count": 18,
     "metadata": {},
     "output_type": "execute_result"
    }
   ],
   "source": [
    "L1 = [1, 2, 3, 4, 5]\n",
    "L2 = [4, 6, 7, 1, 8]\n",
    "L3 = [7, 5, 3, 1, 2]\n",
    "L = [x + y + z for x, y, z in zip(L1, L2, L3)]\n",
    "L"
   ]
  },
  {
   "cell_type": "markdown",
   "id": "fd8d04e9-4ee2-459e-85e0-b04ae8699081",
   "metadata": {},
   "source": [
    "If Clause in List Comprehension"
   ]
  },
  {
   "cell_type": "code",
   "execution_count": 19,
   "id": "35251117-c3e5-47ee-955c-1b20bfead01e",
   "metadata": {},
   "outputs": [
    {
     "data": {
      "text/plain": [
       "[512, 64]"
      ]
     },
     "execution_count": 19,
     "metadata": {},
     "output_type": "execute_result"
    }
   ],
   "source": [
    "L = [3, 5, 7, 1, 8, 9, 4]\n",
    "cubes = [n ** 3 for n in L if n % 2 == 0]\n",
    "cubes"
   ]
  },
  {
   "cell_type": "code",
   "execution_count": 22,
   "id": "62f43d42-8e5d-4a79-b660-5517338c6baa",
   "metadata": {},
   "outputs": [],
   "source": [
    "cubes = []\n",
    "for n in L:\n",
    "    if n % 2 == 0:\n",
    "     cubes.append(n ** 3)"
   ]
  },
  {
   "cell_type": "code",
   "execution_count": 23,
   "id": "3d47e5d7-2d2b-49e8-9a2c-5367f279bf82",
   "metadata": {},
   "outputs": [
    {
     "data": {
      "text/plain": [
       "[64, 126, 22, 172, 132, 176, 194]"
      ]
     },
     "execution_count": 23,
     "metadata": {},
     "output_type": "execute_result"
    }
   ],
   "source": [
    "L = [32, -51, 63, 11, 86, -9, 66, 88, 97]\n",
    "[n * 2 for n in L if n > 0]"
   ]
  },
  {
   "cell_type": "code",
   "execution_count": 24,
   "id": "dcbb4fc4-b620-4105-bb74-88c41d9812b4",
   "metadata": {},
   "outputs": [],
   "source": [
    "evens = [n for n in L if n % 2 == 0]\n",
    "odds = [n for n in L if n % 2 != 0]"
   ]
  },
  {
   "cell_type": "code",
   "execution_count": 25,
   "id": "d7e13f7b-8e0a-429c-9b76-85e9bf2fd9a7",
   "metadata": {},
   "outputs": [
    {
     "data": {
      "text/plain": [
       "['civic', 'noon', 'madam']"
      ]
     },
     "execution_count": 25,
     "metadata": {},
     "output_type": "execute_result"
    }
   ],
   "source": [
    "words = ['apple', 'civic', 'board', 'noon', 'moon', 'lamp', 'madam']\n",
    "palindromes = [word for word in words if word == word[::-1]]\n",
    "palindromes"
   ]
  },
  {
   "cell_type": "code",
   "execution_count": 27,
   "id": "cbcf8dbc-18c1-485a-85a4-f6ef98ad301c",
   "metadata": {},
   "outputs": [
    {
     "data": {
      "text/plain": [
       "['Ted', 'Sam', 'Ray']"
      ]
     },
     "execution_count": 27,
     "metadata": {},
     "output_type": "execute_result"
    }
   ],
   "source": [
    "L = [('Ted', 23), ('Lee', 18), ('Sam', 22), ('Bob', 30), ('Dev', 27), ('Ray', 25)]\n",
    "[name for name, bmi in L if 20 < bmi < 26]"
   ]
  },
  {
   "cell_type": "code",
   "execution_count": 28,
   "id": "8dab1fad-d1f1-43e7-b6c7-9afd84397e92",
   "metadata": {},
   "outputs": [
    {
     "data": {
      "text/plain": [
       "['isalnum',\n",
       " 'isalpha',\n",
       " 'isascii',\n",
       " 'isdecimal',\n",
       " 'isdigit',\n",
       " 'isidentifier',\n",
       " 'islower',\n",
       " 'isnumeric',\n",
       " 'isprintable',\n",
       " 'isspace',\n",
       " 'istitle',\n",
       " 'isupper']"
      ]
     },
     "execution_count": 28,
     "metadata": {},
     "output_type": "execute_result"
    }
   ],
   "source": [
    "[method for method in dir(str) if not method.startswith('_')]\n",
    "[method for method in dir(str) if method.startswith('is')]"
   ]
  },
  {
   "cell_type": "markdown",
   "id": "b83d5b20-aad3-4baa-a0c9-c023a7631a5c",
   "metadata": {},
   "source": [
    "Ternery operator in list comprehension"
   ]
  },
  {
   "cell_type": "code",
   "execution_count": 29,
   "id": "b799734a-464a-476d-9a09-0f388c728bd1",
   "metadata": {},
   "outputs": [
    {
     "data": {
      "text/plain": [
       "[2, 6, 18, 12, -8]"
      ]
     },
     "execution_count": 29,
     "metadata": {},
     "output_type": "execute_result"
    }
   ],
   "source": [
    "L = [1, 2, -3, 6, 18, -9, 12, -5, 19, -8, 5]\n",
    "[n for n in L if n % 2 == 0]"
   ]
  },
  {
   "cell_type": "code",
   "execution_count": 30,
   "id": "588b7f7e-4e55-497c-a493-592d24deaa15",
   "metadata": {},
   "outputs": [
    {
     "data": {
      "text/plain": [
       "[0, 2, 0, 6, 18, 0, 12, 0, 0, -8, 0]"
      ]
     },
     "execution_count": 30,
     "metadata": {},
     "output_type": "execute_result"
    }
   ],
   "source": [
    " [n if n % 2 == 0 else 0 for n in L]"
   ]
  },
  {
   "cell_type": "code",
   "execution_count": 31,
   "id": "b8c47964-c199-4616-a260-bed87978ff76",
   "metadata": {},
   "outputs": [
    {
     "data": {
      "text/plain": [
       "[1, 2, 0, 6, 18, 0, 12, 0, 19, 0, 5]"
      ]
     },
     "execution_count": 31,
     "metadata": {},
     "output_type": "execute_result"
    }
   ],
   "source": [
    "L = [1, 2, -3, 6, 18, -9, 12, -5, 19, -8, 5]\n",
    "[n if n > 0 else 0 for n in L]"
   ]
  },
  {
   "cell_type": "code",
   "execution_count": 32,
   "id": "7fcc0df9-ad84-443a-a1db-9b82bc8c7290",
   "metadata": {},
   "outputs": [
    {
     "data": {
      "text/plain": [
       "[2, 1, 3, 9, 6, 38, 10]"
      ]
     },
     "execution_count": 32,
     "metadata": {},
     "output_type": "execute_result"
    }
   ],
   "source": [
    " L = [1, 2, -3, 6, 18, -9, 12, -5, 19, -8, 5]\n",
    "[n // 2 if n % 2 == 0 else n * 2 for n in L if n >= 0]"
   ]
  },
  {
   "cell_type": "markdown",
   "id": "e3b9fd83-5812-4d48-8dde-0aa7132b23f4",
   "metadata": {},
   "source": [
    "Modifying a list while iterating"
   ]
  },
  {
   "cell_type": "code",
   "execution_count": 33,
   "id": "e61d9681-27b1-4822-a1f0-d527155e2f53",
   "metadata": {},
   "outputs": [
    {
     "name": "stdout",
     "output_type": "stream",
     "text": [
      "['Era', 'Rob', 'Joe', 'Sam', 'Pat', 'Joy', 'Tia']\n"
     ]
    }
   ],
   "source": [
    "students = ['Era', 'Ted', 'Rob', 'Joe', 'Amy', 'Sam', 'Pat', 'Joy', 'Tia']\n",
    "failed_students = ['Ted', 'Amy', 'Sam']\n",
    "for student in students:\n",
    "    if student in failed_students:\n",
    "        students.remove(student)\n",
    "print(students)"
   ]
  },
  {
   "cell_type": "code",
   "execution_count": 34,
   "id": "43927efe-b735-43de-a98f-0e336de1efef",
   "metadata": {},
   "outputs": [],
   "source": [
    "students = [stu for stu in students if stu not in failed_students]"
   ]
  },
  {
   "cell_type": "code",
   "execution_count": 35,
   "id": "edf5c7e3-5818-4718-bbe7-2c1299d561f0",
   "metadata": {},
   "outputs": [],
   "source": [
    "students[:] = [stu for stu in students if stu not in failed_students]"
   ]
  },
  {
   "cell_type": "markdown",
   "id": "937c1d98-7663-4327-8b32-b8a0ac4d9a1e",
   "metadata": {},
   "source": [
    "Getting keys from values in a dictionary using list comprehension"
   ]
  },
  {
   "cell_type": "code",
   "execution_count": 36,
   "id": "b5d313d4-64d9-4ae4-8ebb-3249a8ce6c09",
   "metadata": {},
   "outputs": [],
   "source": [
    "d = {'Poems for kids': 'Joe',\n",
    " 'Stories for kids': 'Zen',\n",
    " 'Health is wealth': 'James',\n",
    " 'Rhymes for Babies': 'Joe',\n",
    " 'Stories for teens': 'Ted',\n",
    " 'Be healthy': 'James'\n",
    " }"
   ]
  },
  {
   "cell_type": "code",
   "execution_count": 40,
   "id": "077baea3-6ba6-4adb-88e6-04c25604d0e0",
   "metadata": {},
   "outputs": [
    {
     "data": {
      "text/plain": [
       "['Health is wealth', 'Be healthy']"
      ]
     },
     "execution_count": 40,
     "metadata": {},
     "output_type": "execute_result"
    }
   ],
   "source": [
    " [book_name for book_name, author in d.items() if author == 'James']"
   ]
  },
  {
   "cell_type": "code",
   "execution_count": 42,
   "id": "84c213db-f67b-4987-8ff1-703320f9bd90",
   "metadata": {},
   "outputs": [],
   "source": [
    "employees = {'Jack': '02-03-1973',\n",
    " 'John': '09-12-1977',\n",
    " 'Mark': '09-11-1972',\n",
    " 'Mary': '08-05-1977',}"
   ]
  },
  {
   "cell_type": "code",
   "execution_count": 43,
   "id": "acaac9f8-2059-40b8-8872-df55b5c7601d",
   "metadata": {},
   "outputs": [
    {
     "data": {
      "text/plain": [
       "['John', 'Mary']"
      ]
     },
     "execution_count": 43,
     "metadata": {},
     "output_type": "execute_result"
    }
   ],
   "source": [
    "[name for name, dob in employees.items() if dob[-4:] == '1977']"
   ]
  },
  {
   "cell_type": "code",
   "execution_count": 44,
   "id": "12920d70-9e13-44d7-905a-8d4d26797b07",
   "metadata": {},
   "outputs": [],
   "source": [
    "students = {'12AB': {'name': 'Joe', 'age': 13,\n",
    "'grade': 'A'},\n",
    " '17CD': {'name': 'Sam', 'age': 14,\n",
    "'grade': 'A+'},\n",
    " '42CR': {'name': 'Ted', 'age': 13,\n",
    "'grade': 'A+'},\n",
    " '13CR': {'name': 'Bob', 'age': 13,\n",
    "'grade': 'B+'},\n",
    " '19FD': {'name': 'Rob', 'age': 12,\n",
    "'grade': 'A+'}}"
   ]
  },
  {
   "cell_type": "code",
   "execution_count": 45,
   "id": "9caa92c1-c542-42d2-a111-fb2861106bb8",
   "metadata": {},
   "outputs": [
    {
     "data": {
      "text/plain": [
       "['Sam', 'Ted', 'Rob']"
      ]
     },
     "execution_count": 45,
     "metadata": {},
     "output_type": "execute_result"
    }
   ],
   "source": [
    " [record['name'] for record in students.values() if record['grade'] == 'A+']"
   ]
  },
  {
   "cell_type": "code",
   "execution_count": 46,
   "id": "8adf3901-380f-442a-86b3-38595a43fa13",
   "metadata": {},
   "outputs": [
    {
     "data": {
      "text/plain": [
       "[('17CD', 'Sam'), ('42CR', 'Ted'), ('19FD', 'Rob')]"
      ]
     },
     "execution_count": 46,
     "metadata": {},
     "output_type": "execute_result"
    }
   ],
   "source": [
    "[(id, record['name']) for id, record in students.items() if record['grade'] == 'A+']"
   ]
  },
  {
   "cell_type": "markdown",
   "id": "65a662c8-44bf-447a-95e0-ec54f13b5bde",
   "metadata": {},
   "source": [
    "Using list comprehensions to avoid aliasing while creating lists of lists"
   ]
  },
  {
   "cell_type": "code",
   "execution_count": 47,
   "id": "f4dff568-19a4-483f-ae51-e474f64b61ce",
   "metadata": {},
   "outputs": [
    {
     "data": {
      "text/plain": [
       "[[], [], []]"
      ]
     },
     "execution_count": 47,
     "metadata": {},
     "output_type": "execute_result"
    }
   ],
   "source": [
    "L1 = [[]] * 3\n",
    "L2 = [[0] * 3] * 4\n",
    "L1"
   ]
  },
  {
   "cell_type": "code",
   "execution_count": 48,
   "id": "480c1e03-2e9a-4b57-a7ab-b9c5252d3de0",
   "metadata": {},
   "outputs": [
    {
     "data": {
      "text/plain": [
       "[[0, 0, 0], [0, 0, 0], [0, 0, 0], [0, 0, 0]]"
      ]
     },
     "execution_count": 48,
     "metadata": {},
     "output_type": "execute_result"
    }
   ],
   "source": [
    "L2"
   ]
  },
  {
   "cell_type": "code",
   "execution_count": 49,
   "id": "50675268-1799-4448-a7d0-c3258c671f46",
   "metadata": {},
   "outputs": [
    {
     "data": {
      "text/plain": [
       "[[9], [9], [9]]"
      ]
     },
     "execution_count": 49,
     "metadata": {},
     "output_type": "execute_result"
    }
   ],
   "source": [
    "L1[0].append(9)\n",
    "L1"
   ]
  },
  {
   "cell_type": "code",
   "execution_count": 50,
   "id": "9049c613-a981-4c0b-84a8-40136c7979b5",
   "metadata": {},
   "outputs": [
    {
     "data": {
      "text/plain": [
       "[[0, 0], [0, 0], [0, 0], [0, 0]]"
      ]
     },
     "execution_count": 50,
     "metadata": {},
     "output_type": "execute_result"
    }
   ],
   "source": [
    "L2[1].pop()\n",
    "L2"
   ]
  },
  {
   "cell_type": "code",
   "execution_count": 51,
   "id": "adbe12f9-77ad-484e-b865-18fe77a86980",
   "metadata": {},
   "outputs": [
    {
     "data": {
      "text/plain": [
       "[[], [], []]"
      ]
     },
     "execution_count": 51,
     "metadata": {},
     "output_type": "execute_result"
    }
   ],
   "source": [
    "L3 = [[] for i in range(3)]\n",
    "L3"
   ]
  },
  {
   "cell_type": "code",
   "execution_count": 52,
   "id": "e8b16034-45b2-4be2-95ea-75f6fe51ba7c",
   "metadata": {},
   "outputs": [
    {
     "data": {
      "text/plain": [
       "[[0, 0, 0], [0, 0, 0], [0, 0, 0], [0, 0, 0]]"
      ]
     },
     "execution_count": 52,
     "metadata": {},
     "output_type": "execute_result"
    }
   ],
   "source": [
    "L4 = [[0] * 3 for i in range(4)]\n",
    "L4"
   ]
  },
  {
   "cell_type": "code",
   "execution_count": 53,
   "id": "02dc4260-9625-49ff-9527-9d67f681bf19",
   "metadata": {},
   "outputs": [
    {
     "data": {
      "text/plain": [
       "[[9], [], []]"
      ]
     },
     "execution_count": 53,
     "metadata": {},
     "output_type": "execute_result"
    }
   ],
   "source": [
    "L3[0].append(9)\n",
    "L3"
   ]
  },
  {
   "cell_type": "code",
   "execution_count": 54,
   "id": "e0471b78-9299-4c60-8eaf-1274cdf2cfd8",
   "metadata": {},
   "outputs": [
    {
     "data": {
      "text/plain": [
       "[[0, 0, 0], [0, 0], [0, 0, 0], [0, 0, 0]]"
      ]
     },
     "execution_count": 54,
     "metadata": {},
     "output_type": "execute_result"
    }
   ],
   "source": [
    "L4[1].pop()\n",
    "L4"
   ]
  },
  {
   "cell_type": "markdown",
   "id": "4f0ea376-45be-4c7e-8ade-59045a0866ef",
   "metadata": {},
   "source": [
    "Multiple for clauses and nested list comprehension"
   ]
  },
  {
   "cell_type": "code",
   "execution_count": 55,
   "id": "37f01584-e7c9-4c8f-a3e1-f17aa9b859d3",
   "metadata": {},
   "outputs": [
    {
     "name": "stdout",
     "output_type": "stream",
     "text": [
      "['AX', 'AY', 'Az', 'bX', 'bY', 'bz', 'cX', 'cY', 'cz']\n"
     ]
    }
   ],
   "source": [
    "s1 = 'Abc'\n",
    "s2 = 'XYz'\n",
    "L = []\n",
    "for ch1 in s1:\n",
    "    for ch2 in s2:\n",
    "        L.append(ch1 + ch2)\n",
    "print(L)"
   ]
  },
  {
   "cell_type": "code",
   "execution_count": 56,
   "id": "1a1edaa2-457f-4b79-ac57-51f071419bd5",
   "metadata": {},
   "outputs": [
    {
     "data": {
      "text/plain": [
       "['AX', 'AY', 'Az', 'bX', 'bY', 'bz', 'cX', 'cY', 'cz']"
      ]
     },
     "execution_count": 56,
     "metadata": {},
     "output_type": "execute_result"
    }
   ],
   "source": [
    "[ch1 + ch2 for ch1 in s1 for ch2 in s2]"
   ]
  },
  {
   "cell_type": "code",
   "execution_count": 57,
   "id": "018e1b35-1f29-4549-855e-c5cfa15cc034",
   "metadata": {},
   "outputs": [
    {
     "data": {
      "text/plain": [
       "['bX', 'bY', 'cX', 'cY']"
      ]
     },
     "execution_count": 57,
     "metadata": {},
     "output_type": "execute_result"
    }
   ],
   "source": [
    " [ch1 + ch2 for ch1 in s1 if ch1.islower() for ch2 in s2 if ch2.isupper()]"
   ]
  },
  {
   "cell_type": "code",
   "execution_count": 58,
   "id": "4ff148f9-6a65-4e09-8075-d94ac42c4be5",
   "metadata": {},
   "outputs": [
    {
     "name": "stdout",
     "output_type": "stream",
     "text": [
      "['bX', 'bY', 'cX', 'cY']\n"
     ]
    }
   ],
   "source": [
    "L3 = []\n",
    "for ch1 in s1:\n",
    "    if ch1.islower():\n",
    "        for ch2 in s2:\n",
    "            if ch2.isupper():\n",
    "                L3.append(ch1 + ch2)\n",
    "print(L3)"
   ]
  },
  {
   "cell_type": "code",
   "execution_count": 59,
   "id": "3cb53592-2415-40a0-8406-c6b9ed957a65",
   "metadata": {},
   "outputs": [],
   "source": [
    "matrix = [ [1, 4, 8, 3],\n",
    " [2, 5, 6, 3],\n",
    " [7, 9, 5, 8],\n",
    " ]"
   ]
  },
  {
   "cell_type": "code",
   "execution_count": 60,
   "id": "cc2b3ec5-40ac-4e40-9f37-faa9793d05d7",
   "metadata": {},
   "outputs": [
    {
     "data": {
      "text/plain": [
       "[2, 8, 16, 6, 4, 10, 12, 6, 14, 18, 10, 16]"
      ]
     },
     "execution_count": 60,
     "metadata": {},
     "output_type": "execute_result"
    }
   ],
   "source": [
    "[element * 2 for row in matrix for element in row]"
   ]
  },
  {
   "cell_type": "code",
   "execution_count": 61,
   "id": "10da9931-045e-4203-88b6-886307463d86",
   "metadata": {},
   "outputs": [
    {
     "data": {
      "text/plain": [
       "[[2, 8, 16, 6], [4, 10, 12, 6], [14, 18, 10, 16]]"
      ]
     },
     "execution_count": 61,
     "metadata": {},
     "output_type": "execute_result"
    }
   ],
   "source": [
    "[[element * 2 for element in row] for row in matrix]"
   ]
  },
  {
   "cell_type": "markdown",
   "id": "52c7a44c-4a61-411e-8737-0b25decd1b89",
   "metadata": {},
   "source": [
    "Extracting a column in a matrix"
   ]
  },
  {
   "cell_type": "code",
   "execution_count": 62,
   "id": "a4bb12e7-eecb-4580-b937-77476c1687ea",
   "metadata": {},
   "outputs": [
    {
     "data": {
      "text/plain": [
       "[7, 9, 5, 8]"
      ]
     },
     "execution_count": 62,
     "metadata": {},
     "output_type": "execute_result"
    }
   ],
   "source": [
    "matrix = [[1, 4, 8, 3],\n",
    " [2, 5, 6, 3],\n",
    " [7, 9, 5, 8],\n",
    " ]\n",
    "matrix[2]"
   ]
  },
  {
   "cell_type": "code",
   "execution_count": 63,
   "id": "0031fe83-cc1b-4f9f-b728-9c5b361e7498",
   "metadata": {},
   "outputs": [
    {
     "data": {
      "text/plain": [
       "[4, 5, 9]"
      ]
     },
     "execution_count": 63,
     "metadata": {},
     "output_type": "execute_result"
    }
   ],
   "source": [
    " [row[1] for row in matrix]"
   ]
  },
  {
   "cell_type": "code",
   "execution_count": 64,
   "id": "1b07df43-bf11-4e3a-a4b9-101e32223f77",
   "metadata": {},
   "outputs": [
    {
     "data": {
      "text/plain": [
       "[8, 6, 5]"
      ]
     },
     "execution_count": 64,
     "metadata": {},
     "output_type": "execute_result"
    }
   ],
   "source": [
    " [row[2] for row in matrix]"
   ]
  },
  {
   "cell_type": "markdown",
   "id": "916c9ffb-3b53-44b2-a790-b5d7fbe52158",
   "metadata": {},
   "source": [
    "Dictionary Comprehension"
   ]
  },
  {
   "cell_type": "code",
   "execution_count": 65,
   "id": "ebaae189-5433-4450-a7ce-3ed30b6d889f",
   "metadata": {},
   "outputs": [
    {
     "data": {
      "text/plain": [
       "{2: 4, 6: 36, -4: 16, 8: 64, 3: 9, 9: 81, -5: 25, -3: 9}"
      ]
     },
     "execution_count": 65,
     "metadata": {},
     "output_type": "execute_result"
    }
   ],
   "source": [
    "L = [2, 6, -4, 8, 3, 9, -5, -3]\n",
    "{n: n ** 2 for n in L}"
   ]
  },
  {
   "cell_type": "code",
   "execution_count": 66,
   "id": "87293e71-d421-470d-834c-4623aa03321b",
   "metadata": {},
   "outputs": [
    {
     "data": {
      "text/plain": [
       "{2: 4, 6: 36, 8: 64, 3: 9, 9: 81}"
      ]
     },
     "execution_count": 66,
     "metadata": {},
     "output_type": "execute_result"
    }
   ],
   "source": [
    " {n: n ** 2 for n in L if n > 0}"
   ]
  },
  {
   "cell_type": "code",
   "execution_count": 67,
   "id": "546cdb5b-9d86-42c5-bf56-4a616ffdf16f",
   "metadata": {},
   "outputs": [],
   "source": [
    "students = {'12AB': {'name': 'Raj', 'class': 5,\n",
    "'marks': 400},\n",
    " '14XD': {'name': 'Dev', 'class': 6,\n",
    "'marks': 350},\n",
    " '12YR': {'name': 'Rob', 'class': 4,\n",
    "'marks ': 289},\n",
    " '13CP': {'name': 'Zen', 'class': 5,\n",
    "'marks': 315},\n",
    " '23CX': {'name': 'Ted', 'class': 5,\n",
    "'marks': 270},\n",
    " '15XG': {'name': 'Sam', 'class': 3,\n",
    "'marks': 390},\n",
    " '19HY': {'name': 'Pam', 'class': 5,\n",
    "'marks': 250},\n",
    " }"
   ]
  },
  {
   "cell_type": "code",
   "execution_count": 68,
   "id": "fcf1a58f-e83b-4d90-974b-ae047770ce56",
   "metadata": {},
   "outputs": [
    {
     "data": {
      "text/plain": [
       "{'12AB': 'Pass', '13CP': 'Pass', '23CX': 'Fail', '19HY': 'Fail'}"
      ]
     },
     "execution_count": 68,
     "metadata": {},
     "output_type": "execute_result"
    }
   ],
   "source": [
    "{id: 'Pass' if record['marks'] > 300 else\n",
    "'Fail' for id, record in students.items() if\n",
    "record['class'] == 5}"
   ]
  },
  {
   "cell_type": "code",
   "execution_count": 69,
   "id": "42793d89-556d-4f82-ac88-c0c635332c52",
   "metadata": {},
   "outputs": [],
   "source": [
    "text = 'Hello World !!!'"
   ]
  },
  {
   "cell_type": "code",
   "execution_count": 70,
   "id": "8cf07ca0-4977-40f4-ba62-6d74bbda2caa",
   "metadata": {},
   "outputs": [
    {
     "data": {
      "text/plain": [
       "{'H': 1, 'e': 1, 'l': 3, 'o': 2, ' ': 2, 'W': 1, 'r': 1, 'd': 1, '!': 3}"
      ]
     },
     "execution_count": 70,
     "metadata": {},
     "output_type": "execute_result"
    }
   ],
   "source": [
    "{ch: text.count(ch) for ch in text}"
   ]
  },
  {
   "cell_type": "code",
   "execution_count": 71,
   "id": "36f68743-a4f2-4889-8e17-8531b9c185f2",
   "metadata": {},
   "outputs": [
    {
     "data": {
      "text/plain": [
       "{'o': 2, 'H': 1, 'e': 1, 'l': 3, 'W': 1, 'r': 1, '!': 3, ' ': 2, 'd': 1}"
      ]
     },
     "execution_count": 71,
     "metadata": {},
     "output_type": "execute_result"
    }
   ],
   "source": [
    " {ch: text.count(ch) for ch in set(text)}"
   ]
  },
  {
   "cell_type": "markdown",
   "id": "591238d0-3cf0-438c-bdf5-1d82cb50873a",
   "metadata": {},
   "source": [
    "Inverting the dictionary"
   ]
  },
  {
   "cell_type": "code",
   "execution_count": 72,
   "id": "59eae50d-58d2-4e8f-bc9d-c88531c292be",
   "metadata": {},
   "outputs": [],
   "source": [
    "d = {'India': 'New Delhi', 'France': 'Paris', 'Egypt': 'Cairo', 'Japan': 'Tokyo'}"
   ]
  },
  {
   "cell_type": "code",
   "execution_count": 73,
   "id": "613e3033-967d-4b01-b6c6-6bc646db4828",
   "metadata": {},
   "outputs": [
    {
     "data": {
      "text/plain": [
       "{'New Delhi': 'India', 'Paris': 'France', 'Cairo': 'Egypt', 'Tokyo': 'Japan'}"
      ]
     },
     "execution_count": 73,
     "metadata": {},
     "output_type": "execute_result"
    }
   ],
   "source": [
    " {value: key for key, value in d.items()}"
   ]
  },
  {
   "cell_type": "code",
   "execution_count": 74,
   "id": "c85ba7ea-c2ca-478e-878a-c453635bc010",
   "metadata": {},
   "outputs": [
    {
     "data": {
      "text/plain": [
       "{'Joe': 'Rhymes for Babies',\n",
       " 'Zen': 'Stories for kids',\n",
       " 'James': 'Be healthy',\n",
       " 'Ted': 'Stories for teens'}"
      ]
     },
     "execution_count": 74,
     "metadata": {},
     "output_type": "execute_result"
    }
   ],
   "source": [
    "d = {'Poems for kids': 'Joe',\n",
    "'Stories for kids': 'Zen',\n",
    "'Health is wealth': 'James',\n",
    "'Rhymes for Babies': 'Joe',\n",
    "'Stories for teens': 'Ted',\n",
    "'Be healthy': 'James'}\n",
    "{value: key for key, value in d.items()}"
   ]
  },
  {
   "cell_type": "code",
   "execution_count": 75,
   "id": "de5a7c0f-6ab1-4300-9339-8144282218e2",
   "metadata": {},
   "outputs": [
    {
     "data": {
      "text/plain": [
       "['Health is wealth', 'Be healthy']"
      ]
     },
     "execution_count": 75,
     "metadata": {},
     "output_type": "execute_result"
    }
   ],
   "source": [
    "[book_name for book_name, author in d.items() if author == 'James']"
   ]
  },
  {
   "cell_type": "code",
   "execution_count": 76,
   "id": "685dbf19-1c88-4f96-97d4-956462e9772c",
   "metadata": {},
   "outputs": [
    {
     "data": {
      "text/plain": [
       "{'Joe': ['Poems for kids', 'Rhymes for Babies'],\n",
       " 'Zen': ['Stories for kids'],\n",
       " 'James': ['Health is wealth', 'Be healthy'],\n",
       " 'Ted': ['Stories for teens']}"
      ]
     },
     "execution_count": 76,
     "metadata": {},
     "output_type": "execute_result"
    }
   ],
   "source": [
    "{value: [x for x,y in d.items() if y==value] for key,value in d.items()}"
   ]
  },
  {
   "cell_type": "code",
   "execution_count": 77,
   "id": "e6ea0e1e-19c6-46f7-84ad-4e4d5686c476",
   "metadata": {},
   "outputs": [
    {
     "data": {
      "text/plain": [
       "{'Ted': ['Stories for teens'],\n",
       " 'Joe': ['Poems for kids', 'Rhymes for Babies'],\n",
       " 'James': ['Health is wealth', 'Be healthy'],\n",
       " 'Zen': ['Stories for kids']}"
      ]
     },
     "execution_count": 77,
     "metadata": {},
     "output_type": "execute_result"
    }
   ],
   "source": [
    "{value: [x for x,y in d.items() if y==value ] for value in set(d.values()) }"
   ]
  },
  {
   "cell_type": "markdown",
   "id": "98b40e0d-c9b1-4836-b9bf-d1567aa90ff3",
   "metadata": {},
   "source": [
    "Set comprehension"
   ]
  },
  {
   "cell_type": "code",
   "execution_count": 78,
   "id": "9800a32b-05e2-4919-b1b9-af3f6ee56962",
   "metadata": {},
   "outputs": [],
   "source": [
    "text = 'Hello !!! My name is Anthony Gonsalves, and you are .... ??'"
   ]
  },
  {
   "cell_type": "code",
   "execution_count": 79,
   "id": "83ad32e8-7cb2-4f87-9ee1-d862448bb9dd",
   "metadata": {},
   "outputs": [
    {
     "data": {
      "text/plain": [
       "{' ', '!', ',', '.', '?'}"
      ]
     },
     "execution_count": 79,
     "metadata": {},
     "output_type": "execute_result"
    }
   ],
   "source": [
    " {ch for ch in text if not ch.isalnum()}"
   ]
  },
  {
   "cell_type": "code",
   "execution_count": 80,
   "id": "5ea6db3e-42a1-46f8-aea2-957e2d0eeb1c",
   "metadata": {},
   "outputs": [
    {
     "data": {
      "text/plain": [
       "[' ',\n",
       " '!',\n",
       " '!',\n",
       " '!',\n",
       " ' ',\n",
       " ' ',\n",
       " ' ',\n",
       " ' ',\n",
       " ' ',\n",
       " ',',\n",
       " ' ',\n",
       " ' ',\n",
       " ' ',\n",
       " ' ',\n",
       " '.',\n",
       " '.',\n",
       " '.',\n",
       " '.',\n",
       " ' ',\n",
       " '?',\n",
       " '?']"
      ]
     },
     "execution_count": 80,
     "metadata": {},
     "output_type": "execute_result"
    }
   ],
   "source": [
    "[ch for ch in text if not ch.isalnum()]"
   ]
  },
  {
   "cell_type": "code",
   "execution_count": 81,
   "id": "246fbd74-ad97-446d-bdfb-ee850320c31f",
   "metadata": {},
   "outputs": [
    {
     "data": {
      "text/plain": [
       "{'d', 'g', 'h', 'l', 'm', 'n', 'r', 's', 't', 'v', 'y'}"
      ]
     },
     "execution_count": 81,
     "metadata": {},
     "output_type": "execute_result"
    }
   ],
   "source": [
    "{ch for ch in text.lower() if ch.isalpha() and ch not in 'aeiou'}"
   ]
  },
  {
   "cell_type": "code",
   "execution_count": 82,
   "id": "34558cd6-b149-4b3e-a303-9e0b54209a14",
   "metadata": {},
   "outputs": [],
   "source": [
    "d = {'raj@xyz.com': {'course': 'Algorithms',\n",
    "'city': 'London'},\n",
    " 'dev@abc.com': {'course': 'Painting', 'city':\n",
    "'Delhi'},\n",
    " 'sam@pqr.com': {'course': 'Design Patterns',\n",
    "'city': 'London'},\n",
    " 'jim@xyz.com': {'course': 'Networking',\n",
    "'city': 'Delhi'},\n",
    " 'pam@abc.com': {'course': 'Algorithms',\n",
    "'city': 'Delhi'},\n",
    " 'ray@abc.com': {'course': 'Painting', 'city':\n",
    "'London'},\n",
    " 'anu@xyz.com': {'course': 'Algorithms',\n",
    "'city': 'London'},\n",
    " 'bob@pqr.com': {'course': 'Data Structures',\n",
    "'city': 'Tokyo'},\n",
    " 'ted@abc.com': {'course': 'Algorithms',\n",
    "'city': 'London'},\n",
    " 'zen@abc.com': {'course': 'Painting', 'city':\n",
    "'London'}\n",
    " }"
   ]
  },
  {
   "cell_type": "code",
   "execution_count": 83,
   "id": "be6ec81d-d65d-4189-9ea4-5a420af476af",
   "metadata": {},
   "outputs": [
    {
     "data": {
      "text/plain": [
       "{'Algorithms', 'Design Patterns', 'Painting'}"
      ]
     },
     "execution_count": 83,
     "metadata": {},
     "output_type": "execute_result"
    }
   ],
   "source": [
    "{record['course'] for record in d.values() if record['city'] == 'London'}"
   ]
  },
  {
   "cell_type": "code",
   "execution_count": 84,
   "id": "48e9c35d-8e95-4c83-89c9-38237f3f6a7d",
   "metadata": {},
   "outputs": [
    {
     "ename": "SyntaxError",
     "evalue": "unterminated string literal (detected at line 5) (1469845796.py, line 5)",
     "output_type": "error",
     "traceback": [
      "\u001b[1;36m  Cell \u001b[1;32mIn[84], line 5\u001b[1;36m\u001b[0m\n\u001b[1;33m    'sam@pqr.com': {'course': ['Design\u001b[0m\n\u001b[1;37m                               ^\u001b[0m\n\u001b[1;31mSyntaxError\u001b[0m\u001b[1;31m:\u001b[0m unterminated string literal (detected at line 5)\n"
     ]
    }
   ],
   "source": [
    "d = { 'raj@xyz.com': {'course': ['Algorithms',\n",
    "'Painting'], 'city': 'London'},\n",
    " 'dev@abc.com': {'course': ['Painting',\n",
    "'Networking'], 'city': 'Delhi'},\n",
    " 'sam@pqr.com': {'course': ['Design\n",
    "Patterns', 'C', 'C++'], 'city': 'London'},\n",
    " 'jim@xyz.com': {'course': ['Networking'],\n",
    "'city': 'Delhi'},\n",
    " 'pam@abc.com': {'course': ['Algorithms',\n",
    "'Java'], 'city': 'Delhi'},\n",
    " 'ray@abc.com': {'course': ['Painting',\n",
    "'C++'], 'city': 'London'},\n",
    " 'anu@xyz.com': {'course': ['Algorithms',\n",
    "'C'], 'city': 'London'},\n",
    " 'bob@pqr.com': {'course': ['Data\n",
    "Structures', 'Java'], 'city': 'Tokyo'},\n",
    " 'ted@abc.com': {'course': ['Algorithms',\n",
    "'C++'], 'city': 'London'},\n",
    " 'zen@abc.com': {'course': ['Painting'],\n",
    "'city': 'London'}\n",
    " }"
   ]
  },
  {
   "cell_type": "code",
   "execution_count": null,
   "id": "d122b4cf-d503-431e-bc0d-31a876363b2f",
   "metadata": {},
   "outputs": [],
   "source": []
  },
  {
   "cell_type": "code",
   "execution_count": null,
   "id": "c0082252-8fb1-4f4b-9896-5dcc5c8ae166",
   "metadata": {},
   "outputs": [],
   "source": []
  },
  {
   "cell_type": "code",
   "execution_count": null,
   "id": "5818b05c-7e6c-4f3e-b144-62aa34393bcb",
   "metadata": {},
   "outputs": [],
   "source": []
  },
  {
   "cell_type": "code",
   "execution_count": null,
   "id": "97a9059e-164b-4016-bbe7-4cde9a53cf8d",
   "metadata": {},
   "outputs": [],
   "source": []
  },
  {
   "cell_type": "code",
   "execution_count": null,
   "id": "dcd5cce0-312f-4575-8576-e5897991b569",
   "metadata": {},
   "outputs": [],
   "source": []
  },
  {
   "cell_type": "code",
   "execution_count": null,
   "id": "ad01606d-c7ee-45ca-9dea-aa23cfe035f0",
   "metadata": {},
   "outputs": [],
   "source": []
  },
  {
   "cell_type": "code",
   "execution_count": null,
   "id": "a1ad6a19-8986-4e78-80ed-b3ac076b9b93",
   "metadata": {},
   "outputs": [],
   "source": []
  },
  {
   "cell_type": "code",
   "execution_count": null,
   "id": "3b985f66-3054-40fe-b913-3d9d2c92a308",
   "metadata": {},
   "outputs": [],
   "source": []
  },
  {
   "cell_type": "code",
   "execution_count": null,
   "id": "10ad17df-b869-4559-82bf-9bb7a03da6c0",
   "metadata": {},
   "outputs": [],
   "source": []
  },
  {
   "cell_type": "code",
   "execution_count": null,
   "id": "e5fb5969-3ff8-48ad-9ee8-35a2d1a241b0",
   "metadata": {},
   "outputs": [],
   "source": []
  },
  {
   "cell_type": "code",
   "execution_count": null,
   "id": "5b6192c3-5d1d-4210-801d-1876df3a7273",
   "metadata": {},
   "outputs": [],
   "source": []
  },
  {
   "cell_type": "code",
   "execution_count": null,
   "id": "eb101bd9-5484-489f-8cc3-f6644caca28d",
   "metadata": {},
   "outputs": [],
   "source": []
  },
  {
   "cell_type": "code",
   "execution_count": null,
   "id": "3b993b79-a5c0-4afa-a564-d2ad6c669850",
   "metadata": {},
   "outputs": [],
   "source": []
  },
  {
   "cell_type": "code",
   "execution_count": null,
   "id": "6d0f3178-b742-4e81-8cdc-a8869973f18c",
   "metadata": {},
   "outputs": [],
   "source": []
  },
  {
   "cell_type": "code",
   "execution_count": null,
   "id": "4ca9b4dc-99e0-4309-ae04-ac35b4bfe292",
   "metadata": {},
   "outputs": [],
   "source": []
  },
  {
   "cell_type": "code",
   "execution_count": null,
   "id": "4bf14105-64f2-46b0-bb30-508940422bd0",
   "metadata": {},
   "outputs": [],
   "source": []
  },
  {
   "cell_type": "code",
   "execution_count": null,
   "id": "230d0a00-3721-4306-9687-14f5ed4ae354",
   "metadata": {},
   "outputs": [],
   "source": []
  }
 ],
 "metadata": {
  "kernelspec": {
   "display_name": "Python 3 (ipykernel)",
   "language": "python",
   "name": "python3"
  },
  "language_info": {
   "codemirror_mode": {
    "name": "ipython",
    "version": 3
   },
   "file_extension": ".py",
   "mimetype": "text/x-python",
   "name": "python",
   "nbconvert_exporter": "python",
   "pygments_lexer": "ipython3",
   "version": "3.12.7"
  }
 },
 "nbformat": 4,
 "nbformat_minor": 5
}
