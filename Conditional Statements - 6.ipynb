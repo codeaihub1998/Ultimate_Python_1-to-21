{
 "cells": [
  {
   "cell_type": "code",
   "execution_count": null,
   "id": "2761821f-deb4-417a-bff5-4b643c3adfdd",
   "metadata": {},
   "outputs": [],
   "source": [
    "n1 = int(input('Enter a number : '))\n",
    "n2 = int(input('Enter a number : '))\n",
    "print(n1 + n2, end = ' ')\n",
    "print(n1 - n2, end = ' ')\n",
    "print(n1 * n2, end = ' ')\n",
    "print(n1 / n2, end = ' ')\n",
    "print(n1 // n2, end = ' ')\n",
    "print(n1 % n2, end = ' ')\n",
    "print(n1 ** n2, end = ' ')"
   ]
  },
  {
   "cell_type": "code",
   "execution_count": null,
   "id": "da919492-c3be-41bf-b6a3-a263043a8944",
   "metadata": {},
   "outputs": [],
   "source": [
    "n1 = int(input('Enter a number : '))\n",
    "n2 = int(input('Enter a number : '))\n",
    "print(n1 + n2, end=' ')\n",
    "print(n1 - n2, end=' ')\n",
    "print(n1 * n2, end=' ')\n",
    "if n2 != 0:\n",
    " print(n1 / n2, end=' ')\n",
    " print(n1 // n2, end=' ')\n",
    " print(n1 % n2, end=' ')\n",
    "print(n1 ** n2, end=' ')"
   ]
  },
  {
   "cell_type": "code",
   "execution_count": null,
   "id": "cc61ac29-8cc9-45e9-9db7-ae4291467168",
   "metadata": {},
   "outputs": [],
   "source": [
    "n1 = int(input('Enter a number : '))\n",
    "n2 = int(input('Enter a number : '))\n",
    "if n1 % n2 == 0: \n",
    " print('n1 is divisible by n2')"
   ]
  },
  {
   "cell_type": "code",
   "execution_count": null,
   "id": "e4febf41-0bf1-491d-9257-1e532f9eadbe",
   "metadata": {},
   "outputs": [],
   "source": [
    "n1 = int(input('Enter a number : '))\n",
    "if n1 % 2 == 0:\n",
    " print('n1 is even')"
   ]
  },
  {
   "cell_type": "code",
   "execution_count": null,
   "id": "f9337a01-531c-4f7c-975e-6de75e7f71ae",
   "metadata": {},
   "outputs": [],
   "source": [
    "if n1 % 2 == 0 and n2 % 2 == 0:\n",
    " print('Both n1 and n2 are even')"
   ]
  },
  {
   "cell_type": "code",
   "execution_count": null,
   "id": "b201d437-c72f-45bc-a62c-2845359f1138",
   "metadata": {},
   "outputs": [],
   "source": [
    "age = int(input('Enter age : '))\n",
    "if age < 5 or age > 80:\n",
    " print('Entry prohibited')"
   ]
  },
  {
   "cell_type": "code",
   "execution_count": null,
   "id": "d5527fd4-2b4b-4fb4-85ab-063e05056446",
   "metadata": {},
   "outputs": [],
   "source": [
    "s = input('Enter a string : ')\n",
    "if s == s[::-1]:\n",
    " print(f'{s} is a palindrome')"
   ]
  },
  {
   "cell_type": "code",
   "execution_count": 1,
   "id": "dc08c10c-bc1a-4636-8d85-ee869bf602fd",
   "metadata": {},
   "outputs": [
    {
     "name": "stdout",
     "output_type": "stream",
     "text": [
      "madam is a palindrome\n"
     ]
    }
   ],
   "source": [
    "s = 'madam'\n",
    ">>> if s == s[::-1]:\n",
    "    print(f'{s} is a palindrome')"
   ]
  },
  {
   "cell_type": "markdown",
   "id": "3f415df8-7c61-4bcd-b5db-5e034bd3e293",
   "metadata": {},
   "source": [
    "Else Clause in If Statement"
   ]
  },
  {
   "cell_type": "code",
   "execution_count": null,
   "id": "beb47886-1d56-4b5d-8f38-b0a03cf19c71",
   "metadata": {},
   "outputs": [
    {
     "name": "stdout",
     "output_type": "stream",
     "text": [
      "n is even\n",
      "madam is a palindrome\n"
     ]
    }
   ],
   "source": [
    "n = 100\n",
    "if n % 2 == 0:\n",
    " print('n is even')\n",
    "if s == s[::-1]:\n",
    " print(s, 'is a palindrome')\n",
    "#Let us write the else clause for both of them.\n",
    "n = int(input('Enter a number : '))\n",
    "if n % 2 == 0:\n",
    " print('n is even')\n",
    "else:\n",
    " print('n is odd')"
   ]
  },
  {
   "cell_type": "code",
   "execution_count": null,
   "id": "4eafabdb-91d9-42d8-90eb-d4c90b580fd5",
   "metadata": {},
   "outputs": [],
   "source": [
    "print(f'{s} is a palindrome')\n",
    "else:\n",
    " print(f'{s} is not a palindrome')"
   ]
  },
  {
   "cell_type": "markdown",
   "id": "10b53066-0a15-4453-856c-c401b406f484",
   "metadata": {},
   "source": [
    "Nested If Statement"
   ]
  },
  {
   "cell_type": "code",
   "execution_count": null,
   "id": "9ad72e0e-e773-49ee-bc3d-54fe3e3fbd81",
   "metadata": {},
   "outputs": [],
   "source": [
    "s = input('Enter a string : ')\n",
    "if s == s[::-1]:\n",
    " print(f'{s} is a palindrome')\n",
    "else:\n",
    " print(f'{s} is not a palindrome')"
   ]
  },
  {
   "cell_type": "code",
   "execution_count": null,
   "id": "d2e76dd6-2b12-4586-9044-d667540c734c",
   "metadata": {},
   "outputs": [],
   "source": [
    "s = input('Enter a string : ')\n",
    "if s == s[::-1]:\n",
    " if len(s) < 5:\n",
    " print(f'{s} is a small palindrome')\n",
    "else:\n",
    " print(f'{s} is a big palindrome')\n",
    "else:\n",
    " print(f'{s} is not a palindrome')"
   ]
  },
  {
   "cell_type": "code",
   "execution_count": null,
   "id": "23fac588-a0f3-4699-a071-80d61aee7e84",
   "metadata": {},
   "outputs": [],
   "source": [
    "marks = int(input('Enter marks : '))\n",
    "if marks >= 70:\n",
    " print('Well done, you have got A grade')\n",
    "else:\n",
    " print('Try to get A grade next time')"
   ]
  },
  {
   "cell_type": "code",
   "execution_count": null,
   "id": "86226187-d2e1-4515-a61f-af68eaa800c9",
   "metadata": {},
   "outputs": [],
   "source": [
    "marks = int(input('Enter marks : '))\n",
    "if marks >= 70:\n",
    " print('Well done, you have got A grade')\n",
    " if marks >= 90:\n",
    " print('You are awarded a scholarship')\n",
    "else:\n",
    " print('Try to get A grade next time')\n",
    " if marks < 40:\n",
    " print('You really need to work hard')"
   ]
  },
  {
   "cell_type": "markdown",
   "id": "e7918d64-7649-49ce-8c11-cdc06ef4032b",
   "metadata": {},
   "source": [
    "Multiway Selection by using elif"
   ]
  },
  {
   "cell_type": "code",
   "execution_count": null,
   "id": "7e106d19-ace6-42fe-b1bb-6f8a322c3958",
   "metadata": {},
   "outputs": [],
   "source": [
    "marks = int(input('Enter marks - '))\n",
    "if marks >= 70:\n",
    " grade = 'A'\n",
    "if marks >= 60 and marks < 70:\n",
    " grade = 'B'\n",
    "if marks >= 50 and marks < 60:\n",
    " grade = 'C'\n",
    "if marks >= 40 and marks < 50:\n",
    " grade = 'D'\n",
    "if marks < 40:\n",
    " grade = 'E'\n",
    "print(f'Student gets {grade} grade')"
   ]
  },
  {
   "cell_type": "code",
   "execution_count": null,
   "id": "8d176a4f-3665-4f37-8bd0-53b25a37d690",
   "metadata": {},
   "outputs": [],
   "source": [
    "marks = int(input('Enter marks - '))\n",
    "if marks >= 70:\n",
    " grade = 'A'\n",
    "else:\n",
    " if marks >= 60:\n",
    " grade = 'B'\n",
    " else:\n",
    " if marks >= 50:\n",
    " grade = 'C'\n",
    " else:\n",
    " if marks >= 40:\n",
    " grade = 'D'\n",
    " else:\n",
    " grade = 'E'\n",
    "print(f'Student gets {grade} grade')\n",
    "\n",
    "marks = int(input('Enter marks - '))\n",
    "if marks >= 70:\n",
    " grade = 'A'\n",
    "elif marks >= 60:\n",
    " grade = 'B'\n",
    "elif marks >= 50:\n",
    " grade = 'C'\n",
    "elif marks >= 40:\n",
    " grade = 'D'\n",
    "else:\n",
    " grade = 'E'\n",
    "print(f'Student gets {grade} grade')"
   ]
  },
  {
   "cell_type": "code",
   "execution_count": null,
   "id": "4222ec0e-c695-4248-a1da-a4277e30c314",
   "metadata": {},
   "outputs": [],
   "source": [
    "n = int(input('Enter a number : '))\n",
    "if n < 100:\n",
    " print('Number is less than 100')\n",
    "elif n > 100:\n",
    " print('Number is more than 100')\n",
    "else:\n",
    " print('Number is equal to 100')"
   ]
  },
  {
   "cell_type": "code",
   "execution_count": null,
   "id": "9ada3cbe-f19e-4815-a7ef-20cfb02d4212",
   "metadata": {},
   "outputs": [],
   "source": [
    "ch = input('Enter a single character : ')\n",
    "if len(ch) != 1:\n",
    " print('You did not enter a single character')\n",
    "elif ch.isupper():\n",
    " print('Uppercase letter')\n",
    "elif ch.islower():\n",
    " print('Lowercase letter')\n",
    "elif ch.isnumeric():"
   ]
  },
  {
   "cell_type": "code",
   "execution_count": null,
   "id": "4098abd5-b280-466e-b10a-94017787c84e",
   "metadata": {},
   "outputs": [],
   "source": [
    "print('Number')\n",
    "elif ch.isspace():\n",
    " print('Space')\n",
    "else:\n",
    " print('Special character')\n",
    "print('Bye')"
   ]
  },
  {
   "cell_type": "code",
   "execution_count": null,
   "id": "c05526f2-2604-4ed5-98a9-a927ce7246d8",
   "metadata": {},
   "outputs": [],
   "source": [
    "x = int(input('Enter a number : '))\n",
    "y = int(input('Enter another number : '))\n",
    "print('1. Add the two numbers')\n",
    "print('2. Subtract first from second')\n",
    "print('3. Subtract second from first')\n",
    "print('4. Multiply the two numbers')\n",
    "print('5. Divide first by second')\n",
    "print('6. Divide second by first')\n",
    "choice = input('Enter your choice : ')\n",
    "if choice == '1':\n",
    " print(x + y)\n",
    "elif choice == '2':\n",
    " print(y - x)\n",
    "elif choice == '3':\n",
    " print(x - y)\n",
    "elif choice == '4':\n",
    " print(x * y)\n",
    "elif choice == '5':\n",
    "print(x / y)\n",
    "elif choice == '6':\n",
    " print(y / x)\n",
    "else:\n",
    " print('Wrong choice')"
   ]
  },
  {
   "cell_type": "markdown",
   "id": "a73f4c03-70ad-44e3-be17-59d02fb696fd",
   "metadata": {},
   "source": [
    "Truthiness"
   ]
  },
  {
   "cell_type": "code",
   "execution_count": null,
   "id": "690f7923-1a25-424e-929b-89b830c70e4a",
   "metadata": {},
   "outputs": [],
   "source": [
    "if listA:\n",
    " print('Do something')\n",
    "if dictA:\n",
    " print('Do something')\n",
    "if x:\n",
    " print('Do something')"
   ]
  },
  {
   "cell_type": "code",
   "execution_count": 1,
   "id": "61bb2848-fd77-4b0c-b7e6-e2f2619e6352",
   "metadata": {},
   "outputs": [
    {
     "data": {
      "text/plain": [
       "False"
      ]
     },
     "execution_count": 1,
     "metadata": {},
     "output_type": "execute_result"
    }
   ],
   "source": [
    "bool(0)"
   ]
  },
  {
   "cell_type": "code",
   "execution_count": 2,
   "id": "1e141b19-c9e3-4be7-b95d-fdd06e9dbcd4",
   "metadata": {},
   "outputs": [
    {
     "data": {
      "text/plain": [
       "True"
      ]
     },
     "execution_count": 2,
     "metadata": {},
     "output_type": "execute_result"
    }
   ],
   "source": [
    "bool(90)"
   ]
  },
  {
   "cell_type": "code",
   "execution_count": 3,
   "id": "3143b60d-791d-4376-bb91-c5bdf7590f97",
   "metadata": {},
   "outputs": [
    {
     "data": {
      "text/plain": [
       "False"
      ]
     },
     "execution_count": 3,
     "metadata": {},
     "output_type": "execute_result"
    }
   ],
   "source": [
    "bool('')"
   ]
  },
  {
   "cell_type": "code",
   "execution_count": 4,
   "id": "9132703e-88b0-4706-b492-db012b83c631",
   "metadata": {},
   "outputs": [
    {
     "data": {
      "text/plain": [
       "True"
      ]
     },
     "execution_count": 4,
     "metadata": {},
     "output_type": "execute_result"
    }
   ],
   "source": [
    "bool('ab')"
   ]
  },
  {
   "cell_type": "code",
   "execution_count": 5,
   "id": "e36a4494-0792-4c3a-99e8-d545bb2d782e",
   "metadata": {},
   "outputs": [
    {
     "data": {
      "text/plain": [
       "False"
      ]
     },
     "execution_count": 5,
     "metadata": {},
     "output_type": "execute_result"
    }
   ],
   "source": [
    "bool([])"
   ]
  },
  {
   "cell_type": "code",
   "execution_count": 6,
   "id": "4f177b5a-adaa-4964-b1d9-51d8b9fc8533",
   "metadata": {},
   "outputs": [
    {
     "data": {
      "text/plain": [
       "True"
      ]
     },
     "execution_count": 6,
     "metadata": {},
     "output_type": "execute_result"
    }
   ],
   "source": [
    "bool([1,2,3])"
   ]
  },
  {
   "cell_type": "code",
   "execution_count": 7,
   "id": "2e2a3aa0-da35-4620-bc3d-ce6017a4210d",
   "metadata": {},
   "outputs": [
    {
     "data": {
      "text/plain": [
       "True"
      ]
     },
     "execution_count": 7,
     "metadata": {},
     "output_type": "execute_result"
    }
   ],
   "source": [
    "bool('False')"
   ]
  },
  {
   "cell_type": "code",
   "execution_count": 8,
   "id": "186cf0fa-4237-4acd-a57a-fcb88547b040",
   "metadata": {},
   "outputs": [
    {
     "data": {
      "text/plain": [
       "False"
      ]
     },
     "execution_count": 8,
     "metadata": {},
     "output_type": "execute_result"
    }
   ],
   "source": [
    "bool(False)"
   ]
  },
  {
   "cell_type": "code",
   "execution_count": null,
   "id": "9f99f755-a008-46f3-9142-62513cc19520",
   "metadata": {},
   "outputs": [],
   "source": [
    "name = input('Enter a name : ')\n",
    "if name:\n",
    " print('Hello', name)\n",
    "else:\n",
    " print('You did not enter anything')"
   ]
  },
  {
   "cell_type": "code",
   "execution_count": null,
   "id": "a4af0cfd-30e5-45b9-950f-e5043a2d4936",
   "metadata": {},
   "outputs": [],
   "source": [
    "if listA:\n",
    " print('Not empty')\n",
    "else:\n",
    " print('Empty')"
   ]
  },
  {
   "cell_type": "code",
   "execution_count": null,
   "id": "fe2d51bb-4813-4b3b-9079-5535cf02f355",
   "metadata": {},
   "outputs": [],
   "source": [
    "if listA is None:\n",
    "print('None')\n",
    "elif listA == []:\n",
    "print('Empty')\n",
    "else:\n",
    "print('Non Empty')"
   ]
  },
  {
   "cell_type": "code",
   "execution_count": 9,
   "id": "eabe2efc-5549-48e7-a857-9fd077fab19a",
   "metadata": {},
   "outputs": [
    {
     "name": "stdout",
     "output_type": "stream",
     "text": [
      "Help on built-in function all in module builtins:\n",
      "\n",
      "all(iterable, /)\n",
      "    Return True if bool(x) is True for all values x in the iterable.\n",
      "\n",
      "    If the iterable is empty, return True.\n",
      "\n"
     ]
    }
   ],
   "source": [
    "help(all)"
   ]
  },
  {
   "cell_type": "code",
   "execution_count": 10,
   "id": "f2086c07-1d27-4eef-b34f-cc3724b4adf2",
   "metadata": {},
   "outputs": [
    {
     "name": "stdout",
     "output_type": "stream",
     "text": [
      "Help on built-in function any in module builtins:\n",
      "\n",
      "any(iterable, /)\n",
      "    Return True if bool(x) is True for any x in the iterable.\n",
      "\n",
      "    If the iterable is empty, return False.\n",
      "\n"
     ]
    }
   ],
   "source": [
    "help(any)"
   ]
  },
  {
   "cell_type": "code",
   "execution_count": 11,
   "id": "70111abd-13bb-4140-9899-ebb8ad1b2b91",
   "metadata": {},
   "outputs": [
    {
     "data": {
      "text/plain": [
       "False"
      ]
     },
     "execution_count": 11,
     "metadata": {},
     "output_type": "execute_result"
    }
   ],
   "source": [
    "L = [1, 2, 0, 3]\n",
    "all(L)"
   ]
  },
  {
   "cell_type": "code",
   "execution_count": 12,
   "id": "95089103-9cff-49c1-92d4-cbe443efc499",
   "metadata": {},
   "outputs": [
    {
     "data": {
      "text/plain": [
       "True"
      ]
     },
     "execution_count": 12,
     "metadata": {},
     "output_type": "execute_result"
    }
   ],
   "source": [
    "any(L)"
   ]
  },
  {
   "cell_type": "code",
   "execution_count": 13,
   "id": "3a0c7a06-baa1-4a4b-9cb9-4020448fa213",
   "metadata": {},
   "outputs": [
    {
     "data": {
      "text/plain": [
       "True"
      ]
     },
     "execution_count": 13,
     "metadata": {},
     "output_type": "execute_result"
    }
   ],
   "source": [
    "any(L)"
   ]
  },
  {
   "cell_type": "code",
   "execution_count": 14,
   "id": "4778d50d-cff5-4d5b-9c94-74536063326e",
   "metadata": {},
   "outputs": [
    {
     "data": {
      "text/plain": [
       "True"
      ]
     },
     "execution_count": 14,
     "metadata": {},
     "output_type": "execute_result"
    }
   ],
   "source": [
    "L = [1, 2, 3]\n",
    "all(L)"
   ]
  },
  {
   "cell_type": "markdown",
   "id": "c0bd5db3-09cc-4634-9431-261c71a77880",
   "metadata": {},
   "source": [
    "Short Circuit Behaviour of Operators and and or"
   ]
  },
  {
   "cell_type": "code",
   "execution_count": null,
   "id": "29c46fb5-c0ba-45d0-bfdd-788fce9de3a5",
   "metadata": {},
   "outputs": [],
   "source": [
    "if x != 0 and 1/x > n:\n",
    " print('Do something')\n",
    "if i < len(data) and data[i] == item:\n",
    " print('Do something')\n",
    "if x >= 0 and x**0.5 > 4:\n",
    " print('Do something')\n",
    "if 'city' in d and d['city'] == 'Paris'\n",
    " print('Do something')"
   ]
  },
  {
   "cell_type": "code",
   "execution_count": null,
   "id": "b7432f46-3609-4393-ab01-918c473d854e",
   "metadata": {},
   "outputs": [],
   "source": [
    "if x != 0:\n",
    " if 1/x > n:\n",
    " print('Do something')"
   ]
  },
  {
   "cell_type": "markdown",
   "id": "b96acb0c-2337-45d4-8188-aa37dd6ce201",
   "metadata": {},
   "source": [
    "Values Returned by and and or operators"
   ]
  },
  {
   "cell_type": "code",
   "execution_count": 15,
   "id": "faddf75e-1080-4b15-82c8-f7fb8bfd5719",
   "metadata": {},
   "outputs": [
    {
     "data": {
      "text/plain": [
       "0"
      ]
     },
     "execution_count": 15,
     "metadata": {},
     "output_type": "execute_result"
    }
   ],
   "source": [
    "0 and 4"
   ]
  },
  {
   "cell_type": "code",
   "execution_count": 16,
   "id": "078c5015-85f1-4657-8eea-49c4dc5be00d",
   "metadata": {},
   "outputs": [
    {
     "data": {
      "text/plain": [
       "8"
      ]
     },
     "execution_count": 16,
     "metadata": {},
     "output_type": "execute_result"
    }
   ],
   "source": [
    "4 and 8"
   ]
  },
  {
   "cell_type": "code",
   "execution_count": 17,
   "id": "6810e250-2da3-4b68-89ae-e5ebed83a0b0",
   "metadata": {},
   "outputs": [
    {
     "data": {
      "text/plain": [
       "4"
      ]
     },
     "execution_count": 17,
     "metadata": {},
     "output_type": "execute_result"
    }
   ],
   "source": [
    "0 or 4 "
   ]
  },
  {
   "cell_type": "code",
   "execution_count": 18,
   "id": "764b07af-9df2-4af3-b2b1-7ba238451ae7",
   "metadata": {},
   "outputs": [
    {
     "data": {
      "text/plain": [
       "4"
      ]
     },
     "execution_count": 18,
     "metadata": {},
     "output_type": "execute_result"
    }
   ],
   "source": [
    "4 or 8 "
   ]
  },
  {
   "cell_type": "code",
   "execution_count": 20,
   "id": "b2ae3715-690d-4938-a853-14708fd64303",
   "metadata": {},
   "outputs": [],
   "source": [
    "#average = count!=0 and total/count"
   ]
  },
  {
   "cell_type": "markdown",
   "id": "b9bf2573-a4c7-4601-9fba-c27a16510063",
   "metadata": {},
   "source": [
    "If Else Operator"
   ]
  },
  {
   "cell_type": "code",
   "execution_count": 21,
   "id": "38b4cc44-0d43-423f-8e17-3cf3b1dc5d64",
   "metadata": {},
   "outputs": [],
   "source": [
    "x = 6\n",
    "y = x+5 if x%2==0 else x+10"
   ]
  },
  {
   "cell_type": "code",
   "execution_count": 22,
   "id": "b9c2c075-df13-4f02-8a92-9919f03362a4",
   "metadata": {},
   "outputs": [],
   "source": [
    "if x % 2 == 0:\n",
    " y = x + 5\n",
    "else:\n",
    " y = x + 10"
   ]
  },
  {
   "cell_type": "code",
   "execution_count": null,
   "id": "369742eb-989c-4670-89b6-7df987616196",
   "metadata": {},
   "outputs": [],
   "source": [
    "remarks = 'Pass' if marks >= 40 else 'Fail'\n",
    "discount = 5 if items < 10 else 15"
   ]
  },
  {
   "cell_type": "code",
   "execution_count": null,
   "id": "5bc8638b-4ff9-447f-b4dc-c1b9735ed948",
   "metadata": {},
   "outputs": [],
   "source": [
    "greater = x if x > y else y"
   ]
  },
  {
   "cell_type": "code",
   "execution_count": null,
   "id": "b488a25f-21b0-46c5-9007-69f81e15ffd8",
   "metadata": {},
   "outputs": [],
   "source": [
    "print('Sir' if gender == 'male' else 'Madam')"
   ]
  },
  {
   "cell_type": "code",
   "execution_count": null,
   "id": "963d2de7-ed7d-4f97-b329-87b8c1f75bf9",
   "metadata": {},
   "outputs": [],
   "source": []
  },
  {
   "cell_type": "code",
   "execution_count": null,
   "id": "439a20c7-0c01-4021-b293-b417b941c566",
   "metadata": {},
   "outputs": [],
   "source": []
  },
  {
   "cell_type": "code",
   "execution_count": null,
   "id": "b48fdcb1-415d-46ea-aca5-804ef097cdde",
   "metadata": {},
   "outputs": [],
   "source": []
  },
  {
   "cell_type": "code",
   "execution_count": null,
   "id": "7b816099-9e2b-4f5e-b23c-012533e11413",
   "metadata": {},
   "outputs": [],
   "source": []
  },
  {
   "cell_type": "code",
   "execution_count": null,
   "id": "152ffc11-542f-48e5-9283-a9583cf1c617",
   "metadata": {},
   "outputs": [],
   "source": []
  },
  {
   "cell_type": "code",
   "execution_count": null,
   "id": "c41e6c78-1bae-4739-bb02-b4cdb254a02e",
   "metadata": {},
   "outputs": [],
   "source": []
  },
  {
   "cell_type": "code",
   "execution_count": null,
   "id": "3184ad9a-b28b-4986-9004-7a74db3b6e01",
   "metadata": {},
   "outputs": [],
   "source": []
  },
  {
   "cell_type": "code",
   "execution_count": null,
   "id": "9c2f5e72-980c-4c0d-b6df-ff3bc96edcbe",
   "metadata": {},
   "outputs": [],
   "source": []
  },
  {
   "cell_type": "code",
   "execution_count": null,
   "id": "b33fe4ea-361a-4bc9-a684-6b19df0fdfc6",
   "metadata": {},
   "outputs": [],
   "source": []
  }
 ],
 "metadata": {
  "kernelspec": {
   "display_name": "Python 3 (ipykernel)",
   "language": "python",
   "name": "python3"
  },
  "language_info": {
   "codemirror_mode": {
    "name": "ipython",
    "version": 3
   },
   "file_extension": ".py",
   "mimetype": "text/x-python",
   "name": "python",
   "nbconvert_exporter": "python",
   "pygments_lexer": "ipython3",
   "version": "3.12.7"
  }
 },
 "nbformat": 4,
 "nbformat_minor": 5
}
