{
 "cells": [
  {
   "cell_type": "markdown",
   "id": "c3bc9932-c0c0-4098-9aad-2635f71d5b43",
   "metadata": {},
   "source": [
    "Iterating in sorting and reversed order"
   ]
  },
  {
   "cell_type": "code",
   "execution_count": 1,
   "id": "2b054f1e-04fb-461e-ab49-b321fec5df8f",
   "metadata": {},
   "outputs": [
    {
     "name": "stdout",
     "output_type": "stream",
     "text": [
      "2 1 4 6 3 "
     ]
    }
   ],
   "source": [
    "numbers = [2, 1, 4, 6, 3]\n",
    "for number in numbers:\n",
    " print(number, end=' ')"
   ]
  },
  {
   "cell_type": "code",
   "execution_count": 2,
   "id": "5b2802bb-6b5c-45a6-b10a-83932216312a",
   "metadata": {},
   "outputs": [
    {
     "name": "stdout",
     "output_type": "stream",
     "text": [
      "1 2 3 4 6 "
     ]
    }
   ],
   "source": [
    "for number in sorted(numbers):\n",
    " print(number, end=' ')"
   ]
  },
  {
   "cell_type": "code",
   "execution_count": 3,
   "id": "b69b5906-90cc-4525-aab9-00804762df1e",
   "metadata": {},
   "outputs": [
    {
     "name": "stdout",
     "output_type": "stream",
     "text": [
      "3 6 4 1 2 "
     ]
    }
   ],
   "source": [
    "for number in reversed(numbers):\n",
    " print(number, end=' ')"
   ]
  },
  {
   "cell_type": "code",
   "execution_count": 4,
   "id": "53c423c6-5135-4c5f-8132-dfca8726d698",
   "metadata": {},
   "outputs": [
    {
     "name": "stdout",
     "output_type": "stream",
     "text": [
      "2 3 37 5 7 41 11 43 13 17 19 23 29 31 "
     ]
    }
   ],
   "source": [
    "primes = {31, 3, 5, 11, 2, 13, 17, 43, 19, 7, 37,\n",
    "23, 29, 41}\n",
    "for number in primes:\n",
    " print(number, end=' ')"
   ]
  },
  {
   "cell_type": "code",
   "execution_count": 5,
   "id": "4a2fe8bb-038a-4190-b970-62b6f74f55a1",
   "metadata": {},
   "outputs": [
    {
     "name": "stdout",
     "output_type": "stream",
     "text": [
      "2 3 5 7 11 13 17 19 23 29 31 37 41 43 "
     ]
    }
   ],
   "source": [
    "for number in sorted(primes):\n",
    " print(number, end=' ')"
   ]
  },
  {
   "cell_type": "code",
   "execution_count": 6,
   "id": "dfc1fb98-5ed3-4640-8b6f-370d80b73941",
   "metadata": {},
   "outputs": [
    {
     "name": "stdout",
     "output_type": "stream",
     "text": [
      "43 41 37 31 29 23 19 17 13 11 7 5 3 2 "
     ]
    }
   ],
   "source": [
    "for number in reversed(sorted(primes)):\n",
    " print(number, end=' ')"
   ]
  },
  {
   "cell_type": "code",
   "execution_count": 7,
   "id": "14a5ee51-fe5a-43ab-a814-d17e1b405156",
   "metadata": {},
   "outputs": [
    {
     "name": "stdout",
     "output_type": "stream",
     "text": [
      "43 41 37 31 29 23 19 17 13 11 7 5 3 2 "
     ]
    }
   ],
   "source": [
    "for number in sorted(primes, reverse=True):\n",
    " print(number, end=' ')"
   ]
  },
  {
   "cell_type": "code",
   "execution_count": 8,
   "id": "2a55fa89-99ba-44d1-87a5-462d984eb38b",
   "metadata": {},
   "outputs": [
    {
     "name": "stdout",
     "output_type": "stream",
     "text": [
      "apple 210 | banana 100 | cherry 225 | grapes 90 | guava 80 | mango 250 | \n",
      "apple 210 | banana 100 | cherry 225 | grapes 90 | guava 80 | mango 250 | "
     ]
    }
   ],
   "source": [
    "prices = {'apple': 210, 'banana': 100, 'grapes':\n",
    "90, 'mango': 250, 'cherry': 225, 'guava': 80}\n",
    "for fruit in sorted(prices.keys()):\n",
    " print(fruit, prices[fruit], end=' | ')\n",
    "print()\n",
    "for fruit, price in sorted(prices.items()):\n",
    " print(fruit, price, end=' | ')"
   ]
  },
  {
   "cell_type": "code",
   "execution_count": 9,
   "id": "96cc855c-6fd9-4863-9b83-3818d050ac53",
   "metadata": {},
   "outputs": [
    {
     "name": "stdout",
     "output_type": "stream",
     "text": [
      "80 guava | 90 grapes | 100 banana | 210 apple | 225 cherry | 250 mango | "
     ]
    }
   ],
   "source": [
    "for fruit, price in sorted(zip(prices.values(),\n",
    "prices.keys())):\n",
    " print(fruit, price, end=' | ')"
   ]
  },
  {
   "cell_type": "code",
   "execution_count": 10,
   "id": "b0b2b42b-686c-47a9-aaa5-487d14f483c5",
   "metadata": {},
   "outputs": [
    {
     "name": "stdout",
     "output_type": "stream",
     "text": [
      "square of 2 is 4\n",
      "square of 3 is 9\n",
      "square of 1 is 1\n",
      "square of 4 is 16\n",
      "square of 5 is 25\n",
      "square of 7 is 49\n",
      "square of 4 is 16\n",
      "square of 2 is 4\n",
      "square of 1 is 1\n",
      "square of 3 is 9\n"
     ]
    }
   ],
   "source": [
    "L = [2, 3, 1, 4, 5, 7, 4, 2, 1, 3]\n",
    "for i in L:\n",
    " print(f'square of {i} is {i * i}')"
   ]
  },
  {
   "cell_type": "code",
   "execution_count": 11,
   "id": "047cc962-e2ac-40d8-89d9-7c43ee1fc41a",
   "metadata": {},
   "outputs": [
    {
     "name": "stdout",
     "output_type": "stream",
     "text": [
      "square of 1 is 1\n",
      "square of 2 is 4\n",
      "square of 3 is 9\n",
      "square of 4 is 16\n",
      "square of 5 is 25\n",
      "square of 7 is 49\n"
     ]
    }
   ],
   "source": [
    "L = [2, 3, 1, 4, 5, 7, 4, 2, 1, 3]\n",
    "for i in set(L):\n",
    " print(f'square of {i} is {i * i}')"
   ]
  },
  {
   "cell_type": "code",
   "execution_count": 25,
   "id": "51889871-41c1-4a1f-86ff-129fac97ed3d",
   "metadata": {},
   "outputs": [
    {
     "name": "stdout",
     "output_type": "stream",
     "text": [
      "o o u u u e a "
     ]
    }
   ],
   "source": [
    "phrase = 'colourful umbrella'\n",
    "for ch in phrase:\n",
    "    if ch in {'a', 'e', 'i', 'o', 'u'}:\n",
    "        print(ch, end=' ')"
   ]
  },
  {
   "cell_type": "code",
   "execution_count": 26,
   "id": "87f2db37-5665-44dd-a104-aff58fddfecb",
   "metadata": {},
   "outputs": [
    {
     "name": "stdout",
     "output_type": "stream",
     "text": [
      "o e a u "
     ]
    }
   ],
   "source": [
    "phrase = 'colourful umbrella'\n",
    "for ch in set(phrase):\n",
    " if ch in {'a', 'e', 'i', 'o', 'u'}:\n",
    "     print(ch, end=' ')"
   ]
  },
  {
   "cell_type": "markdown",
   "id": "f19f3efe-3760-485a-adcb-2f15174fb139",
   "metadata": {},
   "source": [
    "Index based fot loops"
   ]
  },
  {
   "cell_type": "code",
   "execution_count": 28,
   "id": "8b082360-34e0-475a-babb-4c72b1a13916",
   "metadata": {},
   "outputs": [
    {
     "name": "stdout",
     "output_type": "stream",
     "text": [
      "2 3 1 4 7 9 "
     ]
    }
   ],
   "source": [
    "data = [2, 3, 1, 4, 7, 9]\n",
    "for i in range(6):\n",
    " print(data[i], end=' ')"
   ]
  },
  {
   "cell_type": "code",
   "execution_count": 29,
   "id": "b35a44f0-42f0-451e-b03a-490a6a15552b",
   "metadata": {},
   "outputs": [
    {
     "name": "stdout",
     "output_type": "stream",
     "text": [
      "2 3 1 4 7 9 "
     ]
    }
   ],
   "source": [
    "for i in range(len(data)):\n",
    " print(data[i], end=' ')"
   ]
  },
  {
   "cell_type": "code",
   "execution_count": 30,
   "id": "14ff90ca-f205-419d-a94e-3ea329fb7e90",
   "metadata": {},
   "outputs": [
    {
     "name": "stdout",
     "output_type": "stream",
     "text": [
      "2 3 1 4 7 9 "
     ]
    }
   ],
   "source": [
    "for item in data:\n",
    " print(item, end=' ')"
   ]
  },
  {
   "cell_type": "markdown",
   "id": "63826629-8210-4e99-8ce3-a7ec82202938",
   "metadata": {},
   "source": [
    "Making inplace changes in a list"
   ]
  },
  {
   "cell_type": "code",
   "execution_count": 31,
   "id": "8e796c49-9a4e-4dd6-a2e5-25bd862eea0b",
   "metadata": {},
   "outputs": [
    {
     "name": "stdout",
     "output_type": "stream",
     "text": [
      "[7, 8, 6, 9, 12, 10]\n"
     ]
    }
   ],
   "source": [
    "data = [2, 3, 1, 4, 7, 5]\n",
    "for i in range(len(data)):\n",
    " data[i] += 5\n",
    "print(data)"
   ]
  },
  {
   "cell_type": "code",
   "execution_count": 32,
   "id": "b44fc3be-681e-482b-b0e9-144fa942ed58",
   "metadata": {},
   "outputs": [
    {
     "name": "stdout",
     "output_type": "stream",
     "text": [
      "[[2, 3], [5, 6], [8, 9]]\n"
     ]
    }
   ],
   "source": [
    "L = [[1, 2, 3], [4, 5, 6], [7, 8, 9]]\n",
    "for item in L:\n",
    " item.pop(0)\n",
    "print(L)"
   ]
  },
  {
   "cell_type": "code",
   "execution_count": 33,
   "id": "e7b085b6-680e-406b-9e74-f509329e1cf0",
   "metadata": {},
   "outputs": [
    {
     "name": "stdout",
     "output_type": "stream",
     "text": [
      "[[1, 2, 3], [4, 5, 6], [7, 8, 9]]\n"
     ]
    }
   ],
   "source": [
    "L = [[1, 2, 3], [4, 5, 6], [7, 8, 9]]\n",
    "for item in L:\n",
    " item = item * 3\n",
    "print(L)"
   ]
  },
  {
   "cell_type": "code",
   "execution_count": 34,
   "id": "85b1e8e9-0e64-4c9f-8dd0-298fde6569fe",
   "metadata": {},
   "outputs": [
    {
     "name": "stdout",
     "output_type": "stream",
     "text": [
      "[[1, 2, 3, 1, 2, 3, 1, 2, 3], [4, 5, 6, 4, 5, 6, 4, 5, 6], [7, 8, 9, 7, 8, 9, 7, 8, 9]]\n"
     ]
    }
   ],
   "source": [
    "L = [[1, 2, 3], [4, 5, 6], [7, 8, 9]]\n",
    "for item in L:\n",
    " item *= 3\n",
    "print(L)"
   ]
  },
  {
   "cell_type": "markdown",
   "id": "26c0429d-6bfa-415c-9acf-ef7c95218dd1",
   "metadata": {},
   "source": [
    "Skipping some items while iterating"
   ]
  },
  {
   "cell_type": "code",
   "execution_count": 35,
   "id": "d2f953e1-9628-43d8-b63b-b5604a67d959",
   "metadata": {},
   "outputs": [
    {
     "name": "stdout",
     "output_type": "stream",
     "text": [
      "2 1 3 4 "
     ]
    }
   ],
   "source": [
    "data = [2, 1, 3, 4, 5, 6, 9, 1, 7, 8, 9]\n",
    "for i in range(4):\n",
    " print(data[i], end=' ')"
   ]
  },
  {
   "cell_type": "code",
   "execution_count": 36,
   "id": "3240c72a-42d0-4cfb-9e30-8322a97c1eeb",
   "metadata": {},
   "outputs": [
    {
     "name": "stdout",
     "output_type": "stream",
     "text": [
      "2 4 9 8 "
     ]
    }
   ],
   "source": [
    "for i in range(0, len(data), 3):\n",
    " print(data[i], end=' ')"
   ]
  },
  {
   "cell_type": "code",
   "execution_count": 37,
   "id": "7524fe0c-902a-4c02-83e0-b62da38ecca7",
   "metadata": {},
   "outputs": [
    {
     "name": "stdout",
     "output_type": "stream",
     "text": [
      "2 1 3 4 "
     ]
    }
   ],
   "source": [
    "for item in data[:4]:\n",
    " print(item, end=' ')"
   ]
  },
  {
   "cell_type": "code",
   "execution_count": 38,
   "id": "0610390d-181a-4cd3-b390-189c49efbf4d",
   "metadata": {},
   "outputs": [
    {
     "name": "stdout",
     "output_type": "stream",
     "text": [
      "2 4 9 8 "
     ]
    }
   ],
   "source": [
    "for item in data[::3]:\n",
    " print(item, end=' ')"
   ]
  },
  {
   "cell_type": "markdown",
   "id": "e387990d-96ed-42cd-951b-268f72605114",
   "metadata": {},
   "source": [
    "Using len and range combination to shuffle a sequence"
   ]
  },
  {
   "cell_type": "code",
   "execution_count": 39,
   "id": "46040a43-0996-4549-ad05-20adf60d571d",
   "metadata": {},
   "outputs": [
    {
     "name": "stdout",
     "output_type": "stream",
     "text": [
      "[4, 5, 6, 7]\n",
      "[5, 6, 7, 4]\n",
      "[6, 7, 4, 5]\n",
      "[7, 4, 5, 6]\n"
     ]
    }
   ],
   "source": [
    "data = [4, 5, 6, 7]\n",
    "for i in range(len(data)):\n",
    " print(data[i:] + data[:i])"
   ]
  },
  {
   "cell_type": "markdown",
   "id": "0c229553-7d51-4b82-b2d5-1e0e34998b05",
   "metadata": {},
   "source": [
    "Enumerate functions"
   ]
  },
  {
   "cell_type": "code",
   "execution_count": 40,
   "id": "158cc8c3-270c-45dd-b8ad-d19c8c5257ca",
   "metadata": {},
   "outputs": [
    {
     "data": {
      "text/plain": [
       "<enumerate at 0x1c357d1d3f0>"
      ]
     },
     "execution_count": 40,
     "metadata": {},
     "output_type": "execute_result"
    }
   ],
   "source": [
    "trip = ['Milan', 'Venice', 'Munich', 'Vienna', 'Budapest', 'Prague']\n",
    "enumerate(trip)"
   ]
  },
  {
   "cell_type": "code",
   "execution_count": 41,
   "id": "2a8eb840-9b6e-42c6-b65a-0eaecae83d70",
   "metadata": {},
   "outputs": [
    {
     "data": {
      "text/plain": [
       "[(0, 'Milan'),\n",
       " (1, 'Venice'),\n",
       " (2, 'Munich'),\n",
       " (3, 'Vienna'),\n",
       " (4, 'Budapest'),\n",
       " (5, 'Prague')]"
      ]
     },
     "execution_count": 41,
     "metadata": {},
     "output_type": "execute_result"
    }
   ],
   "source": [
    "list(enumerate(trip))"
   ]
  },
  {
   "cell_type": "code",
   "execution_count": 42,
   "id": "abbb8496-9263-48f4-a862-4e4ba8e8268f",
   "metadata": {},
   "outputs": [
    {
     "data": {
      "text/plain": [
       "[(1, 'Milan'),\n",
       " (2, 'Venice'),\n",
       " (3, 'Munich'),\n",
       " (4, 'Vienna'),\n",
       " (5, 'Budapest'),\n",
       " (6, 'Prague')]"
      ]
     },
     "execution_count": 42,
     "metadata": {},
     "output_type": "execute_result"
    }
   ],
   "source": [
    "list(enumerate(trip,1))"
   ]
  },
  {
   "cell_type": "code",
   "execution_count": 43,
   "id": "469d54ec-696b-434e-84e2-77df2202048f",
   "metadata": {},
   "outputs": [
    {
     "data": {
      "text/plain": [
       "[(100, 'Milan'),\n",
       " (101, 'Venice'),\n",
       " (102, 'Munich'),\n",
       " (103, 'Vienna'),\n",
       " (104, 'Budapest'),\n",
       " (105, 'Prague')]"
      ]
     },
     "execution_count": 43,
     "metadata": {},
     "output_type": "execute_result"
    }
   ],
   "source": [
    "list(enumerate(trip,100))"
   ]
  },
  {
   "cell_type": "code",
   "execution_count": 44,
   "id": "28ce5cbe-04ff-4a43-9b9b-e4ef53c25116",
   "metadata": {},
   "outputs": [
    {
     "name": "stdout",
     "output_type": "stream",
     "text": [
      "Destination 1 -> Milan\n",
      "Destination 2 -> Venice\n",
      "Destination 3 -> Munich\n",
      "Destination 4 -> Vienna\n",
      "Destination 5 -> Budapest\n",
      "Destination 6 -> Prague\n"
     ]
    }
   ],
   "source": [
    "for i, city in enumerate(trip, 1):\n",
    "    print(f'Destination {i} -> {city}')"
   ]
  },
  {
   "cell_type": "code",
   "execution_count": 46,
   "id": "8b6e9eb0-4763-4b0b-bf03-19a71a03ebde",
   "metadata": {},
   "outputs": [],
   "source": [
    "numbers = [23, 78, 98, 78, 65, -36, 78, 99]\n",
    "for number in numbers:\n",
    " if number < 0:\n",
    "     print(f'Found negative number {number}')\n",
    " break\n",
    "else:\n",
    "    print('No negative number in the list')"
   ]
  },
  {
   "cell_type": "code",
   "execution_count": 47,
   "id": "5e213b16-9a4d-4c23-b09b-a8d0e2bf727b",
   "metadata": {},
   "outputs": [],
   "source": [
    "numbers = [23, 78, 98, 78, 65, -36, 78, 99]\n",
    "for i, number in enumerate(numbers):\n",
    " if number < 0:\n",
    "     print(f'Found negative number {number} at index {i}')\n",
    " break\n",
    "else:\n",
    "    print('No negative number in the list')"
   ]
  },
  {
   "cell_type": "code",
   "execution_count": 48,
   "id": "b08f3559-6729-46ee-872c-cf56d7361643",
   "metadata": {},
   "outputs": [
    {
     "name": "stdout",
     "output_type": "stream",
     "text": [
      "{1000: 'Pam', 1001: 'Sam', 1002: 'John', 1003: 'Ryan', 1004: 'Neil', 1005: 'Dev'}\n"
     ]
    }
   ],
   "source": [
    "students = ['Pam', 'Sam', 'John', 'Ryan', 'Neil', 'Dev']\n",
    "data = {}\n",
    "for i, student in enumerate(students, 1000):\n",
    " data[i] = student\n",
    "print(data)"
   ]
  },
  {
   "cell_type": "markdown",
   "id": "449e8018-c687-4994-9c01-374f2725a0be",
   "metadata": {},
   "source": [
    "Iterating over multiple sequences using zip"
   ]
  },
  {
   "cell_type": "code",
   "execution_count": 49,
   "id": "1735fde8-a420-4371-8d54-b96fab8c39e0",
   "metadata": {},
   "outputs": [
    {
     "data": {
      "text/plain": [
       "<zip at 0x1c357d6ba80>"
      ]
     },
     "execution_count": 49,
     "metadata": {},
     "output_type": "execute_result"
    }
   ],
   "source": [
    "names = ['Amit', 'John', 'Mark', 'Raj']\n",
    "salaries = [2000, 3000, 2500, 3200]\n",
    "cities = ['Delhi', 'Chennai', 'Delhi', 'Bangalore']\n",
    "zip(names, cities, salaries)"
   ]
  },
  {
   "cell_type": "code",
   "execution_count": 50,
   "id": "c21edb9f-a877-4a42-aabb-212df8a75042",
   "metadata": {},
   "outputs": [
    {
     "data": {
      "text/plain": [
       "[('Amit', 'Delhi', 2000),\n",
       " ('John', 'Chennai', 3000),\n",
       " ('Mark', 'Delhi', 2500),\n",
       " ('Raj', 'Bangalore', 3200)]"
      ]
     },
     "execution_count": 50,
     "metadata": {},
     "output_type": "execute_result"
    }
   ],
   "source": [
    "list(zip(names, cities, salaries))"
   ]
  },
  {
   "cell_type": "code",
   "execution_count": 51,
   "id": "ff4c23f4-5a93-46c3-b2a6-6d33fdcd3ce1",
   "metadata": {},
   "outputs": [
    {
     "name": "stdout",
     "output_type": "stream",
     "text": [
      "Amit posted in Delhi with 2000\n",
      "John posted in Chennai with 3000\n",
      "Mark posted in Delhi with 2500\n",
      "Raj posted in Bangalore with 3200\n"
     ]
    }
   ],
   "source": [
    "for name, city, salary in zip(names, cities,\n",
    "salaries):\n",
    "    print(f'{name} posted in {city} with {salary}')"
   ]
  },
  {
   "cell_type": "code",
   "execution_count": 52,
   "id": "aa503938-f046-42aa-8282-b99fa8bd1878",
   "metadata": {},
   "outputs": [
    {
     "data": {
      "text/plain": [
       "[2000, 3000, 2500, 3200]"
      ]
     },
     "execution_count": 52,
     "metadata": {},
     "output_type": "execute_result"
    }
   ],
   "source": [
    "for name, city, salary in zip(names, cities,\n",
    "salaries):\n",
    "    if city == 'Delhi':\n",
    "        salary += 1000\n",
    "salaries"
   ]
  },
  {
   "cell_type": "code",
   "execution_count": 53,
   "id": "8f142028-c1a8-4f7f-90bc-147f81abf290",
   "metadata": {},
   "outputs": [
    {
     "data": {
      "text/plain": [
       "[3000, 3000, 3500, 3200]"
      ]
     },
     "execution_count": 53,
     "metadata": {},
     "output_type": "execute_result"
    }
   ],
   "source": [
    "for i in range(len(names)):\n",
    "    if cities[i] == 'Delhi':\n",
    "        salaries[i] += 1000 \n",
    "salaries"
   ]
  },
  {
   "cell_type": "markdown",
   "id": "dc97da0a-778a-4309-a0b8-4a1787f48a20",
   "metadata": {},
   "source": [
    "Modifying a collection while iterating in a for loop"
   ]
  },
  {
   "cell_type": "code",
   "execution_count": 55,
   "id": "39d62e19-f639-49f8-98d9-12198574bc10",
   "metadata": {},
   "outputs": [
    {
     "name": "stdout",
     "output_type": "stream",
     "text": [
      "['Era', 'Rob', 'Joe', 'Sam', 'Pat', 'Joy', 'Tia']\n"
     ]
    }
   ],
   "source": [
    "students = ['Era', 'Ted', 'Rob', 'Joe', 'Amy',\n",
    "'Sam', 'Pat', 'Joy', 'Tia']\n",
    "failed_students = ['Ted', 'Amy', 'Sam']\n",
    "for student in students:\n",
    "    if student in failed_students:\n",
    "        students.remove(student)\n",
    "print(students)"
   ]
  },
  {
   "cell_type": "code",
   "execution_count": 56,
   "id": "2b2d482c-77e8-4078-a470-34592d4fa8fc",
   "metadata": {},
   "outputs": [
    {
     "name": "stdout",
     "output_type": "stream",
     "text": [
      "[2, 3, 8, -2, 9, 10]\n"
     ]
    }
   ],
   "source": [
    "numbers = [2, 3, -7, 8, -5, -2, 9, 10]\n",
    "for number in numbers:\n",
    "    if number < 0:\n",
    "     numbers.remove(number)\n",
    "print(numbers)"
   ]
  },
  {
   "cell_type": "code",
   "execution_count": 61,
   "id": "01775c83-ba85-4931-ba62-ce3cd13905c4",
   "metadata": {},
   "outputs": [
    {
     "name": "stdout",
     "output_type": "stream",
     "text": [
      "2 3 -7 8 -5 -2 9 10 [2, 3, -7, 8, -5, -2, 9, 10]\n"
     ]
    }
   ],
   "source": [
    "numbers = [2, 3, -7, 8, -5, -2, 9, 10]\n",
    "for number in numbers:\n",
    "    print(number, end=' ')\n",
    "if number < 0:\n",
    "     numbers.remove(number)\n",
    "print(numbers)"
   ]
  },
  {
   "cell_type": "code",
   "execution_count": null,
   "id": "501122ac-241b-43bf-ae4d-407fa1ff9f10",
   "metadata": {},
   "outputs": [],
   "source": [
    "cities = ['Rome', 'Berlin', 'Delhi', 'Bareilly']\n",
    "for city in cities:\n",
    "    if city.startswith('B'):\n",
    "        cities.append(city)\n",
    "print(cities)"
   ]
  },
  {
   "cell_type": "code",
   "execution_count": null,
   "id": "f2c5e693-80af-4fe9-8c15-8bda8767a53d",
   "metadata": {},
   "outputs": [],
   "source": [
    "cities = ['Rome', 'Berlin', 'Delhi', 'Bareilly']\n",
    "for city in cities[:]:\n",
    "    if city.startswith('B'):\n",
    "        cities.append(city)\n",
    "print(cities)"
   ]
  },
  {
   "cell_type": "code",
   "execution_count": null,
   "id": "bf13d152-ca15-438f-8dc9-30474b7cf42f",
   "metadata": {},
   "outputs": [],
   "source": [
    "numbers = [2, 3, -7, 8, -5, -2, 9, 10]\n",
    "for number in numbers[:]:\n",
    "    if number < 0:\n",
    "     numbers.remove(number)\n",
    "print(numbers)"
   ]
  },
  {
   "cell_type": "code",
   "execution_count": null,
   "id": "f40e9c08-c092-4d78-bed7-984413754097",
   "metadata": {},
   "outputs": [],
   "source": [
    "students = ['Era', 'Ted', 'Rob', 'Joe', 'Amy', 'Sam', 'Pat', 'Joy', 'Tia']\n",
    "failed_students = ['Ted', 'Amy', 'Sam']\n",
    "for student in students[:]:\n",
    "    if student in failed_students:\n",
    "        students.remove(student)\n",
    "print(students)"
   ]
  },
  {
   "cell_type": "code",
   "execution_count": null,
   "id": "579ce56a-9c9b-4d8c-92ae-7b8ad81b518e",
   "metadata": {},
   "outputs": [],
   "source": [
    "employees = {'Sam': 3000, 'John': 4000, 'Rob': 15000, 'Tina': 9000}\n",
    "for employee, salary in employees.items():\n",
    "    if salary > 10000:\n",
    "        employees.pop(employee)\n",
    "print(employees)"
   ]
  },
  {
   "cell_type": "code",
   "execution_count": null,
   "id": "4caf105d-1440-410f-9d91-865fc95280f2",
   "metadata": {},
   "outputs": [],
   "source": [
    "for word in pronouns:\n",
    " if len(word) > 4:\n",
    "     pronouns.remove(word)\n",
    "print(pronouns)"
   ]
  },
  {
   "cell_type": "code",
   "execution_count": null,
   "id": "817b7441-6e33-45e5-aed5-47f8e3cf6824",
   "metadata": {},
   "outputs": [],
   "source": [
    "employees = {'Sam': 3000, 'John': 4000, 'Rob': 15000, 'Tina': 9000}\n",
    "for employee, salary in employees.copy().items():\n",
    "    if salary > 10000:\n",
    "     employees.pop(employee)\n",
    "print(employees)"
   ]
  },
  {
   "cell_type": "code",
   "execution_count": null,
   "id": "b9194b65-d669-41a7-ba45-3a01841f8cac",
   "metadata": {},
   "outputs": [],
   "source": [
    "for word in pronouns.copy():\n",
    "    if len(word) > 4:\n",
    "     pronouns.remove(word)\n",
    "print(pronouns)"
   ]
  },
  {
   "cell_type": "markdown",
   "id": "365a6ef1-4b37-4dd1-9f9d-9bae477aca74",
   "metadata": {},
   "source": [
    "Infinite loop with break"
   ]
  },
  {
   "cell_type": "code",
   "execution_count": null,
   "id": "e8bc76f5-4c9f-423f-9ce7-1af84364194e",
   "metadata": {},
   "outputs": [],
   "source": [
    "names = []\n",
    "name = ''\n",
    "while name != 'exit':\n",
    "    name = input('Enter name : ')\n",
    " names.append(name)\n",
    "print(names)"
   ]
  },
  {
   "cell_type": "code",
   "execution_count": null,
   "id": "21b551aa-fc49-4417-8094-781032e029bd",
   "metadata": {},
   "outputs": [],
   "source": [
    "names = []\n",
    "name = ''\n",
    "while name != 'exit':\n",
    " name = input('Enter name : ')\n",
    " if name != 'exit':\n",
    " names.append(name)\n",
    "print(names)"
   ]
  },
  {
   "cell_type": "code",
   "execution_count": null,
   "id": "71e9b2cd-75ec-4f56-8602-d2a6eecc86a6",
   "metadata": {},
   "outputs": [],
   "source": [
    "names = []\n",
    "while True:\n",
    " name = input('Enter name : ')\n",
    " if name == 'exit':\n",
    " break\n",
    " names.append(name)\n",
    "print(names)"
   ]
  },
  {
   "cell_type": "code",
   "execution_count": null,
   "id": "1a51aaf9-69ee-409f-b76a-ec213cdc5714",
   "metadata": {},
   "outputs": [],
   "source": [
    "total = 0\n",
    "number = 0\n",
    "while number != -1:\n",
    " number = int(input('Enter a number(-1 to quit): '))\n",
    " total += number\n",
    "print(total)"
   ]
  },
  {
   "cell_type": "code",
   "execution_count": null,
   "id": "744a1518-3d04-4df0-ad2f-aff9cd902682",
   "metadata": {},
   "outputs": [],
   "source": [
    "total = 0\n",
    "while True:\n",
    " number = int(input('Enter a number(-1 to quit)\n",
    ": '))\n",
    " if number == -1:\n",
    " break\n",
    " total += number\n",
    "print(total)"
   ]
  },
  {
   "cell_type": "code",
   "execution_count": null,
   "id": "a23e6e22-dffd-41ca-ae97-a905356f5713",
   "metadata": {},
   "outputs": [],
   "source": [
    "print('1. Add the two numbers')\n",
    "print('2. Subtract first from second')\n",
    "print('3. Subtract second from first')\n",
    "print('4. Multiply the two numbers')\n",
    "choice = int(input('Enter your choice : '))\n",
    "if choice == 1:\n",
    " print(x + y)\n",
    "elif choice == 2:\n",
    " print(y - x)\n",
    "elif choice == 3:\n",
    " print(x - y)\n",
    "elif choice == 4:\n",
    " print(x * y)\n",
    "else:\n",
    " print('Wrong choice')"
   ]
  },
  {
   "cell_type": "code",
   "execution_count": null,
   "id": "e44dfbbe-280d-4d6e-a562-ec21d89c8bb7",
   "metadata": {},
   "outputs": [],
   "source": [
    "while True:\n",
    " print('1. Add two numbers')\n",
    " print('2. Subtract first number from second\n",
    "number')\n",
    " print('3. Subtract second number from first\n",
    "number')\n",
    " print('4. Multiply two numbers')\n",
    " print('5. Exit')\n",
    " choice = int(input('Enter your choice : '))\n",
    " if choice == 5:\n",
    " break\n",
    " if choice < 1 or choice > 4:\n",
    "print('Wrong choice')\n",
    " continue\n",
    " x = int(input('Enter first number : '))\n",
    " y = int(input('Enter second number : '))\n",
    " if choice == 1:\n",
    " print(x + y)\n",
    " elif choice == 2:\n",
    " print(y - x)\n",
    " elif choice == 3:\n",
    " print(x - y)\n",
    " elif choice == 4:\n",
    " print(x * y)"
   ]
  },
  {
   "cell_type": "code",
   "execution_count": null,
   "id": "f86767f6-cf2e-41e8-b15f-e8425aca2061",
   "metadata": {},
   "outputs": [],
   "source": [
    "while True:\n",
    " if test:\n",
    " break"
   ]
  },
  {
   "cell_type": "code",
   "execution_count": null,
   "id": "537c0abd-4605-4a69-9d8d-144c3a88b9d1",
   "metadata": {},
   "outputs": [],
   "source": [
    "student_id = int(input('Enter student id : '))\n",
    "while student_id < 1000 or student_id > 9999:\n",
    " student_id = int(input('Enter student id : '))"
   ]
  },
  {
   "cell_type": "code",
   "execution_count": null,
   "id": "c18adafa-901c-456c-835a-579c670bf267",
   "metadata": {},
   "outputs": [],
   "source": [
    "while True:\n",
    " student_id = int(input('Enter student id :'))\n",
    " if student_id >= 1000 and student_id <= 9999:\n",
    " break"
   ]
  },
  {
   "cell_type": "code",
   "execution_count": null,
   "id": "26fcedd8-61cf-488b-9432-312b4057f140",
   "metadata": {},
   "outputs": [],
   "source": [
    "while True:\n",
    " student_id = int(input('Enter student id :'))\n",
    " if student_id >= 1000 and student_id <= 9999:\n",
    " break\n",
    " else:\n",
    " print('Invalid id : id should be a numberbetween 1000 and 9999')"
   ]
  },
  {
   "cell_type": "code",
   "execution_count": null,
   "id": "9164a138-d6dc-47bb-be59-f3938b071984",
   "metadata": {},
   "outputs": [],
   "source": [
    "while True:\n",
    " student_id = int(input('Enter student id :'))\n",
    " if 1000 < student_id < 9999:\n",
    " break\n",
    " print('Invalid id : id should be a number between 1000 and 9999')"
   ]
  },
  {
   "cell_type": "code",
   "execution_count": null,
   "id": "d08bdd92-460e-4c0a-9429-c997e6d42096",
   "metadata": {},
   "outputs": [],
   "source": [
    "fruit_prices = {'apple': 210, 'banana': 100, 'grapes': 90}\n",
    "done = False\n",
    "while not done:\n",
    " fruit = input('Enter fruit name : ')\n",
    " price = int(input('Enter price : '))\n",
    " fruit_prices[fruit] = price\n",
    " if input('Want to enter more(y/n) : ') == 'n': done = True\n",
    "print(fruit_prices)"
   ]
  },
  {
   "cell_type": "code",
   "execution_count": null,
   "id": "1324f984-e77e-44d6-a6e1-025508f2825e",
   "metadata": {},
   "outputs": [],
   "source": [
    "fruit_prices = {'apple': 210, 'banana': 100, 'grapes': 90}\n",
    "while True:\n",
    " fruit = input('Enter fruit name : ')\n",
    " price = int(input('Enter price : '))\n",
    " fruit_prices[fruit] = price\n",
    " if input('Want to enter more(y/n) : ') == 'n':\n",
    " break\n",
    "print(fruit_prices)"
   ]
  },
  {
   "cell_type": "markdown",
   "id": "638403cd-c7da-4bf5-a723-650a5ca58d4e",
   "metadata": {},
   "source": [
    "Avoiding complex logical conditions using break"
   ]
  },
  {
   "cell_type": "code",
   "execution_count": null,
   "id": "83ae442d-cbb3-4ba7-b304-fe4126c93ee6",
   "metadata": {},
   "outputs": [],
   "source": [
    "while i < 10 and j > 5 and x + y < 100 and z ==\n",
    "True:\n",
    "\n",
    "while i < 10 and j > 5:\n",
    " if x + y >= 100 or z == False:\n",
    " break "
   ]
  },
  {
   "cell_type": "markdown",
   "id": "d6993ec3-4a4b-4d58-acb2-69fd968c67f6",
   "metadata": {},
   "source": [
    "Happy Programming "
   ]
  },
  {
   "cell_type": "code",
   "execution_count": null,
   "id": "81d1fd65-a09d-4c9b-a13a-48d866c61c5b",
   "metadata": {},
   "outputs": [],
   "source": []
  }
 ],
 "metadata": {
  "kernelspec": {
   "display_name": "Python 3 (ipykernel)",
   "language": "python",
   "name": "python3"
  },
  "language_info": {
   "codemirror_mode": {
    "name": "ipython",
    "version": 3
   },
   "file_extension": ".py",
   "mimetype": "text/x-python",
   "name": "python",
   "nbconvert_exporter": "python",
   "pygments_lexer": "ipython3",
   "version": "3.12.7"
  }
 },
 "nbformat": 4,
 "nbformat_minor": 5
}
