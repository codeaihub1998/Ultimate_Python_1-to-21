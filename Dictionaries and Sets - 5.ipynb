{
 "cells": [
  {
   "cell_type": "code",
   "execution_count": 1,
   "id": "be81237b-6ce4-4114-9b48-3a7ed332c347",
   "metadata": {},
   "outputs": [],
   "source": [
    "countries = {'IN': 'India', 'GR': 'Germany', 'MX': 'Mexico', 'JP': 'Japan'}"
   ]
  },
  {
   "cell_type": "code",
   "execution_count": 2,
   "id": "6be87f03-7b49-4ac7-a4de-3c72df5758d0",
   "metadata": {},
   "outputs": [
    {
     "data": {
      "text/plain": [
       "{'IN': 'India', 'GR': 'Germany', 'MX': 'Mexico', 'JP': 'Japan'}"
      ]
     },
     "execution_count": 2,
     "metadata": {},
     "output_type": "execute_result"
    }
   ],
   "source": [
    "countries"
   ]
  },
  {
   "cell_type": "code",
   "execution_count": 3,
   "id": "a6fd744c-f059-4872-9c1a-061e5a30fa2d",
   "metadata": {},
   "outputs": [],
   "source": [
    "countries = {'IN': 'India', 'GR': 'Germany', 'MX':'Mexico', 'JP': 'Japan',}"
   ]
  },
  {
   "cell_type": "code",
   "execution_count": 4,
   "id": "ddab31f3-82cd-4341-b7f6-a24b48abf307",
   "metadata": {},
   "outputs": [
    {
     "data": {
      "text/plain": [
       "'India'"
      ]
     },
     "execution_count": 4,
     "metadata": {},
     "output_type": "execute_result"
    }
   ],
   "source": [
    "countries['IN']"
   ]
  },
  {
   "cell_type": "code",
   "execution_count": 5,
   "id": "e623a72b-a765-44cf-805b-57bee593b932",
   "metadata": {},
   "outputs": [
    {
     "data": {
      "text/plain": [
       "'Mexico'"
      ]
     },
     "execution_count": 5,
     "metadata": {},
     "output_type": "execute_result"
    }
   ],
   "source": [
    "countries['MX']"
   ]
  },
  {
   "cell_type": "code",
   "execution_count": 6,
   "id": "9c9aa0b4-63f3-4f86-8d1e-a32523874d5e",
   "metadata": {},
   "outputs": [],
   "source": [
    "student = ['John', 'M', 'Paris', 21, [89,78,91], True]"
   ]
  },
  {
   "cell_type": "code",
   "execution_count": 7,
   "id": "b0314c2b-c213-4fb5-b968-11eaec5b0242",
   "metadata": {},
   "outputs": [],
   "source": [
    "student = {'name': 'John',\n",
    " 'gender': 'M',\n",
    " 'city': 'Paris',\n",
    " 'age': 21,\n",
    " 'marks': [89, 78, 91],\n",
    " 'is_sporty': True\n",
    " }"
   ]
  },
  {
   "cell_type": "code",
   "execution_count": 8,
   "id": "a278e809-8736-486b-8842-a0aab2bfc486",
   "metadata": {},
   "outputs": [
    {
     "data": {
      "text/plain": [
       "'John'"
      ]
     },
     "execution_count": 8,
     "metadata": {},
     "output_type": "execute_result"
    }
   ],
   "source": [
    "student['name']"
   ]
  },
  {
   "cell_type": "code",
   "execution_count": 9,
   "id": "5112d720-985c-4fb0-a2c3-92581de64a2c",
   "metadata": {},
   "outputs": [
    {
     "data": {
      "text/plain": [
       "'Paris'"
      ]
     },
     "execution_count": 9,
     "metadata": {},
     "output_type": "execute_result"
    }
   ],
   "source": [
    "student['city']"
   ]
  },
  {
   "cell_type": "code",
   "execution_count": 10,
   "id": "55838ecd-2a55-43ca-8e08-931f12e31835",
   "metadata": {},
   "outputs": [
    {
     "ename": "KeyError",
     "evalue": "'grade'",
     "output_type": "error",
     "traceback": [
      "\u001b[1;31m---------------------------------------------------------------------------\u001b[0m",
      "\u001b[1;31mKeyError\u001b[0m                                  Traceback (most recent call last)",
      "Cell \u001b[1;32mIn[10], line 1\u001b[0m\n\u001b[1;32m----> 1\u001b[0m student[\u001b[38;5;124m'\u001b[39m\u001b[38;5;124mgrade\u001b[39m\u001b[38;5;124m'\u001b[39m]\n",
      "\u001b[1;31mKeyError\u001b[0m: 'grade'"
     ]
    }
   ],
   "source": [
    "student['grade']"
   ]
  },
  {
   "cell_type": "code",
   "execution_count": 11,
   "id": "322709c8-4f23-4542-b5fc-2bf4f7ae18b6",
   "metadata": {},
   "outputs": [
    {
     "data": {
      "text/plain": [
       "78"
      ]
     },
     "execution_count": 11,
     "metadata": {},
     "output_type": "execute_result"
    }
   ],
   "source": [
    "student['marks'][1]"
   ]
  },
  {
   "cell_type": "code",
   "execution_count": 12,
   "id": "a17b28ee-32e6-4b00-89ee-ad53639ecb7d",
   "metadata": {},
   "outputs": [],
   "source": [
    "prices = {'pencil': 10,\n",
    " 'pen': 22,\n",
    " 'eraser': 12,\n",
    " 'sharpener': 13,\n",
    " 'marker': 32\n",
    " }"
   ]
  },
  {
   "cell_type": "code",
   "execution_count": 13,
   "id": "dddfee4b-048f-4650-acf5-7a631a13c9b9",
   "metadata": {},
   "outputs": [],
   "source": [
    "total = 2 * prices['pencil'] + 3 * prices['marker'] + 5 * prices['eraser']"
   ]
  },
  {
   "cell_type": "code",
   "execution_count": 14,
   "id": "006230f3-81b1-44dd-a772-a6e237f1f4c2",
   "metadata": {},
   "outputs": [
    {
     "data": {
      "text/plain": [
       "5"
      ]
     },
     "execution_count": 14,
     "metadata": {},
     "output_type": "execute_result"
    }
   ],
   "source": [
    "len(prices)"
   ]
  },
  {
   "cell_type": "code",
   "execution_count": 15,
   "id": "1f581ee9-a388-416a-8138-c8811568be35",
   "metadata": {},
   "outputs": [],
   "source": [
    "salary = {'programmer': 10000,\n",
    " 'manager': 20000,\n",
    " 'accountant': 15000\n",
    " }"
   ]
  },
  {
   "cell_type": "code",
   "execution_count": 16,
   "id": "0591c5ed-7ade-4971-9bc1-2bc0fa95de5e",
   "metadata": {},
   "outputs": [
    {
     "ename": "NameError",
     "evalue": "name 'val' is not defined",
     "output_type": "error",
     "traceback": [
      "\u001b[1;31m---------------------------------------------------------------------------\u001b[0m",
      "\u001b[1;31mNameError\u001b[0m                                 Traceback (most recent call last)",
      "Cell \u001b[1;32mIn[16], line 1\u001b[0m\n\u001b[1;32m----> 1\u001b[0m d[k] \u001b[38;5;241m=\u001b[39m val\n",
      "\u001b[1;31mNameError\u001b[0m: name 'val' is not defined"
     ]
    }
   ],
   "source": [
    "d[k] = val"
   ]
  },
  {
   "cell_type": "code",
   "execution_count": 17,
   "id": "1c53f452-6890-4be0-b446-af9ae5381586",
   "metadata": {},
   "outputs": [
    {
     "data": {
      "text/plain": [
       "{'pencil': 10,\n",
       " 'pen': 22,\n",
       " 'eraser': 12,\n",
       " 'sharpener': 13,\n",
       " 'marker': 32,\n",
       " 'ruler': 30}"
      ]
     },
     "execution_count": 17,
     "metadata": {},
     "output_type": "execute_result"
    }
   ],
   "source": [
    "prices['ruler'] = 30\n",
    "prices"
   ]
  },
  {
   "cell_type": "code",
   "execution_count": 18,
   "id": "bf2182e5-0433-4684-b8c6-9e4e7a1acebb",
   "metadata": {},
   "outputs": [
    {
     "data": {
      "text/plain": [
       "{'pencil': 15,\n",
       " 'pen': 22,\n",
       " 'eraser': 12,\n",
       " 'sharpener': 13,\n",
       " 'marker': 32,\n",
       " 'ruler': 30}"
      ]
     },
     "execution_count": 18,
     "metadata": {},
     "output_type": "execute_result"
    }
   ],
   "source": [
    "prices['pencil'] = 15\n",
    "prices"
   ]
  },
  {
   "cell_type": "code",
   "execution_count": 19,
   "id": "b52f5f68-0fc6-40d2-a573-3a125b5b1d5e",
   "metadata": {},
   "outputs": [
    {
     "data": {
      "text/plain": [
       "{'x': 100, 'y': 2, 'z': 3}"
      ]
     },
     "execution_count": 19,
     "metadata": {},
     "output_type": "execute_result"
    }
   ],
   "source": [
    "d = {'x': 1, 'y': 2, 'z': 3, 'x': 100}\n",
    "d"
   ]
  },
  {
   "cell_type": "markdown",
   "id": "1bdef75d-e5c7-4c2e-8df2-ed3c02bad6ac",
   "metadata": {},
   "source": [
    "Modifying Values"
   ]
  },
  {
   "cell_type": "code",
   "execution_count": 20,
   "id": "a8f0d419-4052-4c45-8716-6e83aa8f8b62",
   "metadata": {},
   "outputs": [
    {
     "ename": "NameError",
     "evalue": "name 'val' is not defined",
     "output_type": "error",
     "traceback": [
      "\u001b[1;31m---------------------------------------------------------------------------\u001b[0m",
      "\u001b[1;31mNameError\u001b[0m                                 Traceback (most recent call last)",
      "Cell \u001b[1;32mIn[20], line 1\u001b[0m\n\u001b[1;32m----> 1\u001b[0m d[k] \u001b[38;5;241m=\u001b[39m val\n",
      "\u001b[1;31mNameError\u001b[0m: name 'val' is not defined"
     ]
    }
   ],
   "source": [
    "d[k] = val"
   ]
  },
  {
   "cell_type": "code",
   "execution_count": 21,
   "id": "3a6ce53c-90dd-457c-adf1-42e961bfbd72",
   "metadata": {},
   "outputs": [
    {
     "data": {
      "text/plain": [
       "{'pencil': 10, 'pen': 25, 'eraser': 12, 'sharpener': 13, 'marker': 32}"
      ]
     },
     "execution_count": 21,
     "metadata": {},
     "output_type": "execute_result"
    }
   ],
   "source": [
    "prices = {'pencil': 10, 'pen': 22, 'eraser': 12, 'sharpener': 13, 'marker': 32}\n",
    "prices['pen'] = 25\n",
    "prices"
   ]
  },
  {
   "cell_type": "code",
   "execution_count": 22,
   "id": "74f873df-f680-4345-83fa-45f7bb3616fd",
   "metadata": {},
   "outputs": [
    {
     "data": {
      "text/plain": [
       "{'programmer': 11000, 'manager': 19000, 'accountant': 15000}"
      ]
     },
     "execution_count": 22,
     "metadata": {},
     "output_type": "execute_result"
    }
   ],
   "source": [
    "salary = {'programmer': 10000, 'manager': 20000, 'accountant': 15000}\n",
    "salary['programmer'] += 1000\n",
    "salary['manager'] -= 1000\n",
    "salary"
   ]
  },
  {
   "cell_type": "markdown",
   "id": "ccb39b4a-8993-4e04-9b55-e8902df02e88",
   "metadata": {},
   "source": [
    "Getting a value from a key by using the get() method\n",
    "\n",
    "1) d.get(k) Returns the value that is associated with key k If k not present, returns None\n",
    "2) d.get(k,val) Returns the value that is associated with key k If k not present, returns val"
   ]
  },
  {
   "cell_type": "code",
   "execution_count": 23,
   "id": "44c8798e-ff90-4cff-9622-586d4c377267",
   "metadata": {},
   "outputs": [
    {
     "data": {
      "text/plain": [
       "22"
      ]
     },
     "execution_count": 23,
     "metadata": {},
     "output_type": "execute_result"
    }
   ],
   "source": [
    "prices = {'pencil': 10, 'pen': 22, 'eraser':12, 'sharpener':13, 'marker':32}\n",
    "prices['pen']"
   ]
  },
  {
   "cell_type": "code",
   "execution_count": 24,
   "id": "47f2a6da-7749-4c96-a39b-8c95a8f142b0",
   "metadata": {},
   "outputs": [
    {
     "data": {
      "text/plain": [
       "22"
      ]
     },
     "execution_count": 24,
     "metadata": {},
     "output_type": "execute_result"
    }
   ],
   "source": [
    "prices.get('pen')"
   ]
  },
  {
   "cell_type": "code",
   "execution_count": 25,
   "id": "5196595d-9097-467a-bb0b-c47978ee9448",
   "metadata": {},
   "outputs": [
    {
     "ename": "KeyError",
     "evalue": "'stapler'",
     "output_type": "error",
     "traceback": [
      "\u001b[1;31m---------------------------------------------------------------------------\u001b[0m",
      "\u001b[1;31mKeyError\u001b[0m                                  Traceback (most recent call last)",
      "Cell \u001b[1;32mIn[25], line 1\u001b[0m\n\u001b[1;32m----> 1\u001b[0m prices[\u001b[38;5;124m'\u001b[39m\u001b[38;5;124mstapler\u001b[39m\u001b[38;5;124m'\u001b[39m]\n",
      "\u001b[1;31mKeyError\u001b[0m: 'stapler'"
     ]
    }
   ],
   "source": [
    "prices['stapler']"
   ]
  },
  {
   "cell_type": "code",
   "execution_count": 26,
   "id": "4f8433be-7284-4b50-8219-ad4df7d1514b",
   "metadata": {},
   "outputs": [],
   "source": [
    "prices.get('stapler')"
   ]
  },
  {
   "cell_type": "code",
   "execution_count": 27,
   "id": "22bb805f-12ad-4168-ac06-af3d1d928a97",
   "metadata": {},
   "outputs": [
    {
     "name": "stdout",
     "output_type": "stream",
     "text": [
      "None\n"
     ]
    }
   ],
   "source": [
    "print(prices.get('stapler'))"
   ]
  },
  {
   "cell_type": "code",
   "execution_count": 28,
   "id": "e6c09857-4777-42fb-b025-2ef1668c02d8",
   "metadata": {},
   "outputs": [
    {
     "data": {
      "text/plain": [
       "0"
      ]
     },
     "execution_count": 28,
     "metadata": {},
     "output_type": "execute_result"
    }
   ],
   "source": [
    "prices.get('stapler', 0)"
   ]
  },
  {
   "cell_type": "code",
   "execution_count": 29,
   "id": "91f41f32-8000-4c3f-bd26-af13c38b4005",
   "metadata": {},
   "outputs": [
    {
     "data": {
      "text/plain": [
       "5"
      ]
     },
     "execution_count": 29,
     "metadata": {},
     "output_type": "execute_result"
    }
   ],
   "source": [
    "prices.get('stapler', 5)"
   ]
  },
  {
   "cell_type": "markdown",
   "id": "bdda347b-bee1-4864-8637-b236a3bd5162",
   "metadata": {},
   "source": [
    "Getting a value from a key by using setdefault() method"
   ]
  },
  {
   "cell_type": "code",
   "execution_count": 30,
   "id": "6afb2dc6-652b-4aca-ab3d-7e31564e002a",
   "metadata": {},
   "outputs": [
    {
     "data": {
      "text/plain": [
       "22"
      ]
     },
     "execution_count": 30,
     "metadata": {},
     "output_type": "execute_result"
    }
   ],
   "source": [
    "prices = {'pencil': 10, 'pen': 22, 'eraser': 12, 'sharpener': 13, 'marker': 32}\n",
    "prices.setdefault('pen')"
   ]
  },
  {
   "cell_type": "code",
   "execution_count": 31,
   "id": "5f0e2355-84aa-4997-8560-26a3d14a2f0f",
   "metadata": {},
   "outputs": [
    {
     "data": {
      "text/plain": [
       "{'pencil': 10,\n",
       " 'pen': 22,\n",
       " 'eraser': 12,\n",
       " 'sharpener': 13,\n",
       " 'marker': 32,\n",
       " 'stapler': None}"
      ]
     },
     "execution_count": 31,
     "metadata": {},
     "output_type": "execute_result"
    }
   ],
   "source": [
    "prices.setdefault('stapler') # Returns None\n",
    "prices"
   ]
  },
  {
   "cell_type": "code",
   "execution_count": 32,
   "id": "074af083-d66c-4292-85b7-759e80b0c4b5",
   "metadata": {},
   "outputs": [
    {
     "data": {
      "text/plain": [
       "10"
      ]
     },
     "execution_count": 32,
     "metadata": {},
     "output_type": "execute_result"
    }
   ],
   "source": [
    "prices.setdefault('gum',10)"
   ]
  },
  {
   "cell_type": "code",
   "execution_count": 33,
   "id": "6aa371ee-c0d2-43c5-b703-7254b259117a",
   "metadata": {},
   "outputs": [
    {
     "data": {
      "text/plain": [
       "{'pencil': 10,\n",
       " 'pen': 22,\n",
       " 'eraser': 12,\n",
       " 'sharpener': 13,\n",
       " 'marker': 32,\n",
       " 'stapler': None,\n",
       " 'gum': 10}"
      ]
     },
     "execution_count": 33,
     "metadata": {},
     "output_type": "execute_result"
    }
   ],
   "source": [
    "prices"
   ]
  },
  {
   "cell_type": "markdown",
   "id": "5d6027cb-d714-473f-b142-a617b59ed4f7",
   "metadata": {},
   "source": [
    "Getting all keys, all values and all key value pairs\n",
    "\n",
    "1) d.keys() Returns an object providing a view on keys of the dictionary d\n",
    "2) d.values() Returns an object providing a view on values of the dictionary d\n",
    "3) d.items() Returns an object providing a view on keys and values of the dictionary d"
   ]
  },
  {
   "cell_type": "code",
   "execution_count": 34,
   "id": "ef6506cb-047e-4215-8ed7-88041dd2e601",
   "metadata": {},
   "outputs": [
    {
     "data": {
      "text/plain": [
       "dict_keys(['pencil', 'pen', 'eraser', 'sharpener', 'marker'])"
      ]
     },
     "execution_count": 34,
     "metadata": {},
     "output_type": "execute_result"
    }
   ],
   "source": [
    "prices = {'pencil': 10, 'pen': 22, 'eraser': 12, 'sharpener': 13, 'marker': 32}\n",
    "prices.keys()"
   ]
  },
  {
   "cell_type": "code",
   "execution_count": 35,
   "id": "5dbdd549-7c80-4c23-a8ea-be2e2a60537b",
   "metadata": {},
   "outputs": [
    {
     "data": {
      "text/plain": [
       "dict_values([10, 22, 12, 13, 32])"
      ]
     },
     "execution_count": 35,
     "metadata": {},
     "output_type": "execute_result"
    }
   ],
   "source": [
    "prices.values()"
   ]
  },
  {
   "cell_type": "code",
   "execution_count": 36,
   "id": "03982437-2ff2-4ff1-a0b5-90a37fb0a6f9",
   "metadata": {},
   "outputs": [
    {
     "data": {
      "text/plain": [
       "dict_items([('pencil', 10), ('pen', 22), ('eraser', 12), ('sharpener', 13), ('marker', 32)])"
      ]
     },
     "execution_count": 36,
     "metadata": {},
     "output_type": "execute_result"
    }
   ],
   "source": [
    "prices.items()"
   ]
  },
  {
   "cell_type": "code",
   "execution_count": 37,
   "id": "9e19b519-c7fb-4482-aa19-92ff2d785de9",
   "metadata": {},
   "outputs": [
    {
     "data": {
      "text/plain": [
       "['pencil', 'pen', 'eraser', 'sharpener', 'marker']"
      ]
     },
     "execution_count": 37,
     "metadata": {},
     "output_type": "execute_result"
    }
   ],
   "source": [
    "list(prices.keys())"
   ]
  },
  {
   "cell_type": "code",
   "execution_count": 38,
   "id": "03615e51-47d9-413a-bddd-d0c6944de711",
   "metadata": {},
   "outputs": [
    {
     "data": {
      "text/plain": [
       "[10, 22, 12, 13, 32]"
      ]
     },
     "execution_count": 38,
     "metadata": {},
     "output_type": "execute_result"
    }
   ],
   "source": [
    "list(prices.values())"
   ]
  },
  {
   "cell_type": "code",
   "execution_count": 39,
   "id": "4b81921e-d3ac-4229-a244-0806cf56d0ad",
   "metadata": {},
   "outputs": [
    {
     "data": {
      "text/plain": [
       "[('pencil', 10),\n",
       " ('pen', 22),\n",
       " ('eraser', 12),\n",
       " ('sharpener', 13),\n",
       " ('marker', 32)]"
      ]
     },
     "execution_count": 39,
     "metadata": {},
     "output_type": "execute_result"
    }
   ],
   "source": [
    "list(prices.items())"
   ]
  },
  {
   "cell_type": "code",
   "execution_count": 40,
   "id": "76fff790-1ea0-4b63-9800-0be1b829e49e",
   "metadata": {},
   "outputs": [
    {
     "data": {
      "text/plain": [
       "{'a': 10, 'b': 20, 'c': 30}"
      ]
     },
     "execution_count": 40,
     "metadata": {},
     "output_type": "execute_result"
    }
   ],
   "source": [
    "d = {'a': 10, 'b': 20, 'c': 30}\n",
    "d"
   ]
  },
  {
   "cell_type": "code",
   "execution_count": 41,
   "id": "81573695-23af-47a6-92b4-3b0cc0a4344b",
   "metadata": {},
   "outputs": [
    {
     "data": {
      "text/plain": [
       "['c', 'b', 'a']"
      ]
     },
     "execution_count": 41,
     "metadata": {},
     "output_type": "execute_result"
    }
   ],
   "source": [
    "list(reversed(d))"
   ]
  },
  {
   "cell_type": "code",
   "execution_count": 42,
   "id": "663a0b54-5954-46fe-9bbb-eeac0267a507",
   "metadata": {},
   "outputs": [
    {
     "data": {
      "text/plain": [
       "['c', 'b', 'a']"
      ]
     },
     "execution_count": 42,
     "metadata": {},
     "output_type": "execute_result"
    }
   ],
   "source": [
    "list(reversed(d.keys()))"
   ]
  },
  {
   "cell_type": "code",
   "execution_count": 43,
   "id": "93ead204-4e21-4978-9bc0-898036f1a2ed",
   "metadata": {},
   "outputs": [
    {
     "data": {
      "text/plain": [
       "[30, 20, 10]"
      ]
     },
     "execution_count": 43,
     "metadata": {},
     "output_type": "execute_result"
    }
   ],
   "source": [
    "list(reversed(d.values()))"
   ]
  },
  {
   "cell_type": "code",
   "execution_count": 44,
   "id": "50ebcd4b-6a98-48c8-adcb-a51708913193",
   "metadata": {},
   "outputs": [
    {
     "data": {
      "text/plain": [
       "[('c', 30), ('b', 20), ('a', 10)]"
      ]
     },
     "execution_count": 44,
     "metadata": {},
     "output_type": "execute_result"
    }
   ],
   "source": [
    "list(reversed(d.items()))"
   ]
  },
  {
   "cell_type": "code",
   "execution_count": 45,
   "id": "615e5dc0-b0f3-424e-8608-fbc0d24b31f8",
   "metadata": {},
   "outputs": [
    {
     "data": {
      "text/plain": [
       "['a', 'b', 'c']"
      ]
     },
     "execution_count": 45,
     "metadata": {},
     "output_type": "execute_result"
    }
   ],
   "source": [
    "sorted(d.keys())"
   ]
  },
  {
   "cell_type": "code",
   "execution_count": 46,
   "id": "94513746-afe5-4f24-bfe2-7b1af487c176",
   "metadata": {},
   "outputs": [
    {
     "data": {
      "text/plain": [
       "[10, 20, 30]"
      ]
     },
     "execution_count": 46,
     "metadata": {},
     "output_type": "execute_result"
    }
   ],
   "source": [
    "sorted(d.values())"
   ]
  },
  {
   "cell_type": "code",
   "execution_count": 47,
   "id": "752fb423-d96f-4f0f-ab2f-284452896d8c",
   "metadata": {},
   "outputs": [
    {
     "data": {
      "text/plain": [
       "[('a', 10), ('b', 20), ('c', 30)]"
      ]
     },
     "execution_count": 47,
     "metadata": {},
     "output_type": "execute_result"
    }
   ],
   "source": [
    "sorted(d.items())"
   ]
  },
  {
   "cell_type": "markdown",
   "id": "43f14e09-d157-42c9-afec-c8a0a89f2225",
   "metadata": {},
   "source": [
    "Checking for existence of a key or a value in a dictionary\n",
    "\n",
    "x in d\n",
    "x in d.keys()\n",
    "Returns True if x is present as a key in the dictionary d, otherwise\n",
    "False\n",
    "\n",
    "x in d.values() Returns True if x is present as a value in the dictionary d, otherwise\n",
    "False\n",
    "(k,val) in\n",
    "\n",
    "d.items()\n",
    "Returns True if (k,val) pair is present in the dictionary d,\n",
    "otherwise False"
   ]
  },
  {
   "cell_type": "code",
   "execution_count": 48,
   "id": "b1054a0a-b3bb-4e47-9dea-42743183f73f",
   "metadata": {},
   "outputs": [
    {
     "data": {
      "text/plain": [
       "True"
      ]
     },
     "execution_count": 48,
     "metadata": {},
     "output_type": "execute_result"
    }
   ],
   "source": [
    "prices = {'pencil': 10, 'pen': 22, 'eraser': 12, 'sharpener': 13, 'marker': 32}\n",
    "'pen' in prices"
   ]
  },
  {
   "cell_type": "code",
   "execution_count": 50,
   "id": "91e11a9e-cc8c-44f0-a435-752edd548272",
   "metadata": {},
   "outputs": [
    {
     "data": {
      "text/plain": [
       "True"
      ]
     },
     "execution_count": 50,
     "metadata": {},
     "output_type": "execute_result"
    }
   ],
   "source": [
    "'pen' in prices.keys()"
   ]
  },
  {
   "cell_type": "code",
   "execution_count": 51,
   "id": "290575a7-5d6e-4194-bd4e-426b787ba024",
   "metadata": {},
   "outputs": [
    {
     "data": {
      "text/plain": [
       "False"
      ]
     },
     "execution_count": 51,
     "metadata": {},
     "output_type": "execute_result"
    }
   ],
   "source": [
    "100 in prices.values()"
   ]
  },
  {
   "cell_type": "code",
   "execution_count": 52,
   "id": "30f78a75-4070-4b24-acfd-3e775f4d25c2",
   "metadata": {},
   "outputs": [
    {
     "data": {
      "text/plain": [
       "True"
      ]
     },
     "execution_count": 52,
     "metadata": {},
     "output_type": "execute_result"
    }
   ],
   "source": [
    "100 not in prices.values()"
   ]
  },
  {
   "cell_type": "code",
   "execution_count": 53,
   "id": "8cfb6cb6-d166-4519-9654-64aec2546822",
   "metadata": {},
   "outputs": [
    {
     "data": {
      "text/plain": [
       "True"
      ]
     },
     "execution_count": 53,
     "metadata": {},
     "output_type": "execute_result"
    }
   ],
   "source": [
    "22 in prices.values()"
   ]
  },
  {
   "cell_type": "code",
   "execution_count": 54,
   "id": "ab741d1f-a761-4f3d-898b-1ae568249512",
   "metadata": {},
   "outputs": [
    {
     "data": {
      "text/plain": [
       "True"
      ]
     },
     "execution_count": 54,
     "metadata": {},
     "output_type": "execute_result"
    }
   ],
   "source": [
    "('pencil',10) in prices.items()"
   ]
  },
  {
   "cell_type": "code",
   "execution_count": 55,
   "id": "fda1bc8c-f6ec-482f-a8fc-8a20629e49da",
   "metadata": {},
   "outputs": [
    {
     "data": {
      "text/plain": [
       "False"
      ]
     },
     "execution_count": 55,
     "metadata": {},
     "output_type": "execute_result"
    }
   ],
   "source": [
    "('pencil',12) in prices.items()"
   ]
  },
  {
   "cell_type": "markdown",
   "id": "ae088d2e-688b-49da-a5fc-7b7211cf7f94",
   "metadata": {},
   "source": [
    "Comparing Dictionaries"
   ]
  },
  {
   "cell_type": "code",
   "execution_count": 56,
   "id": "10976087-9605-4f84-8bba-25bbcb622624",
   "metadata": {},
   "outputs": [
    {
     "data": {
      "text/plain": [
       "True"
      ]
     },
     "execution_count": 56,
     "metadata": {},
     "output_type": "execute_result"
    }
   ],
   "source": [
    "d1 = {'x': 1, 'y': 2, 'z': 3}\n",
    "d2 = {'x': 1, 'y': 2, 'z': 3}\n",
    "d3 = {'x': 100, 'y': 200, 'z': 300}\n",
    "d1 == d2"
   ]
  },
  {
   "cell_type": "code",
   "execution_count": 57,
   "id": "1451f8fb-0216-447c-a939-c9a91a8209fb",
   "metadata": {},
   "outputs": [
    {
     "data": {
      "text/plain": [
       "False"
      ]
     },
     "execution_count": 57,
     "metadata": {},
     "output_type": "execute_result"
    }
   ],
   "source": [
    "d1 == d3"
   ]
  },
  {
   "cell_type": "code",
   "execution_count": 58,
   "id": "408edbeb-f5a4-47a0-9ae1-61e72376fb80",
   "metadata": {},
   "outputs": [
    {
     "data": {
      "text/plain": [
       "True"
      ]
     },
     "execution_count": 58,
     "metadata": {},
     "output_type": "execute_result"
    }
   ],
   "source": [
    "d1.keys() == d3.keys()"
   ]
  },
  {
   "cell_type": "markdown",
   "id": "92dadf26-8418-4aa4-ab18-6a98938356a3",
   "metadata": {},
   "source": [
    "Deleting key value pairs from a dictionary\n",
    "\n",
    "1) del d[k] Removes key k and its associated value from the dictionary d\n",
    "2) d.pop(k) Removes key k and its associated value from the dictionary d, and returns\n",
    "the value d[k]\n",
    "3) d.pop(k,val)\n",
    "Returns val if key k is not present in the dictionary"
   ]
  },
  {
   "cell_type": "code",
   "execution_count": 59,
   "id": "220ce3e3-f92b-4d78-8770-4ab83797c176",
   "metadata": {},
   "outputs": [
    {
     "data": {
      "text/plain": [
       "{'pencil': 10, 'pen': 22, 'eraser': 12, 'gum': 13, 'ruler': 30}"
      ]
     },
     "execution_count": 59,
     "metadata": {},
     "output_type": "execute_result"
    }
   ],
   "source": [
    "prices = {'pencil': 10, 'pen': 22, 'eraser': 12, 'gum': 13, 'marker': 32, 'ruler': 30}\n",
    "del prices['marker']\n",
    "prices"
   ]
  },
  {
   "cell_type": "code",
   "execution_count": 60,
   "id": "eb9cf649-8180-4722-869d-fec48c280215",
   "metadata": {},
   "outputs": [
    {
     "data": {
      "text/plain": [
       "10"
      ]
     },
     "execution_count": 60,
     "metadata": {},
     "output_type": "execute_result"
    }
   ],
   "source": [
    "x = prices.pop('pencil')\n",
    "x"
   ]
  },
  {
   "cell_type": "code",
   "execution_count": 61,
   "id": "56798e7a-e091-4bed-9f71-9df906854dd0",
   "metadata": {},
   "outputs": [
    {
     "data": {
      "text/plain": [
       "{'pen': 22, 'eraser': 12, 'gum': 13, 'ruler': 30}"
      ]
     },
     "execution_count": 61,
     "metadata": {},
     "output_type": "execute_result"
    }
   ],
   "source": [
    "prices"
   ]
  },
  {
   "cell_type": "code",
   "execution_count": 62,
   "id": "43a6947d-34f0-43a2-bee0-f3adcbc4bd84",
   "metadata": {},
   "outputs": [
    {
     "ename": "KeyError",
     "evalue": "'book'",
     "output_type": "error",
     "traceback": [
      "\u001b[1;31m---------------------------------------------------------------------------\u001b[0m",
      "\u001b[1;31mKeyError\u001b[0m                                  Traceback (most recent call last)",
      "Cell \u001b[1;32mIn[62], line 1\u001b[0m\n\u001b[1;32m----> 1\u001b[0m prices\u001b[38;5;241m.\u001b[39mpop(\u001b[38;5;124m'\u001b[39m\u001b[38;5;124mbook\u001b[39m\u001b[38;5;124m'\u001b[39m)\n",
      "\u001b[1;31mKeyError\u001b[0m: 'book'"
     ]
    }
   ],
   "source": [
    "prices.pop('book')"
   ]
  },
  {
   "cell_type": "code",
   "execution_count": 63,
   "id": "68b183c1-6d43-424b-ac56-5b3b0f805556",
   "metadata": {},
   "outputs": [
    {
     "data": {
      "text/plain": [
       "0"
      ]
     },
     "execution_count": 63,
     "metadata": {},
     "output_type": "execute_result"
    }
   ],
   "source": [
    "prices.pop('book',0)"
   ]
  },
  {
   "cell_type": "code",
   "execution_count": 64,
   "id": "090ee5d9-22fd-45ae-8614-327c9fa1c60b",
   "metadata": {},
   "outputs": [
    {
     "data": {
      "text/plain": [
       "{'pen': 22, 'eraser': 12, 'gum': 13, 'ruler': 30}"
      ]
     },
     "execution_count": 64,
     "metadata": {},
     "output_type": "execute_result"
    }
   ],
   "source": [
    "prices"
   ]
  },
  {
   "cell_type": "code",
   "execution_count": 65,
   "id": "bd6ced98-265b-460c-a0e2-a2165009a57e",
   "metadata": {},
   "outputs": [
    {
     "data": {
      "text/plain": [
       "('ruler', 30)"
      ]
     },
     "execution_count": 65,
     "metadata": {},
     "output_type": "execute_result"
    }
   ],
   "source": [
    "prices.popitem()"
   ]
  },
  {
   "cell_type": "code",
   "execution_count": 66,
   "id": "57e604ee-6699-4fed-8ec4-9fbfda6d6350",
   "metadata": {},
   "outputs": [
    {
     "data": {
      "text/plain": [
       "{'pen': 22, 'eraser': 12, 'gum': 13}"
      ]
     },
     "execution_count": 66,
     "metadata": {},
     "output_type": "execute_result"
    }
   ],
   "source": [
    "prices"
   ]
  },
  {
   "cell_type": "code",
   "execution_count": 67,
   "id": "fc6001eb-7cf1-4301-943e-ada1a88dc1c3",
   "metadata": {},
   "outputs": [
    {
     "data": {
      "text/plain": [
       "('gum', 13)"
      ]
     },
     "execution_count": 67,
     "metadata": {},
     "output_type": "execute_result"
    }
   ],
   "source": [
    "prices.popitem()"
   ]
  },
  {
   "cell_type": "code",
   "execution_count": 68,
   "id": "d84df2c1-539f-4fc9-b0fc-b8eacfae9bba",
   "metadata": {},
   "outputs": [
    {
     "data": {
      "text/plain": [
       "{'pen': 22, 'eraser': 12}"
      ]
     },
     "execution_count": 68,
     "metadata": {},
     "output_type": "execute_result"
    }
   ],
   "source": [
    "prices"
   ]
  },
  {
   "cell_type": "code",
   "execution_count": 69,
   "id": "4fc8abaf-9d69-46a6-bc8b-fe7261d8e005",
   "metadata": {},
   "outputs": [
    {
     "data": {
      "text/plain": [
       "{}"
      ]
     },
     "execution_count": 69,
     "metadata": {},
     "output_type": "execute_result"
    }
   ],
   "source": [
    "prices.clear()\n",
    "prices"
   ]
  },
  {
   "cell_type": "code",
   "execution_count": 70,
   "id": "73749a65-1130-477b-86a6-5724475757c2",
   "metadata": {},
   "outputs": [],
   "source": [
    "prices = {}"
   ]
  },
  {
   "cell_type": "markdown",
   "id": "8df15459-8bd6-491d-a1f2-4f89abd685bf",
   "metadata": {},
   "source": [
    "Creating a dictionary at runtime"
   ]
  },
  {
   "cell_type": "code",
   "execution_count": 71,
   "id": "9f24ec5d-3c94-4871-acd6-b22932495d5d",
   "metadata": {},
   "outputs": [],
   "source": [
    "prices = {'pen': 22, 'eraser': 12, 'gum': 13, 'ruler': 30}"
   ]
  },
  {
   "cell_type": "code",
   "execution_count": null,
   "id": "8f08a419-7b91-44d2-b4a6-116e33a098f9",
   "metadata": {},
   "outputs": [],
   "source": [
    "prices = {}\n",
    "fruit = input('Enter name of a fruit: Apple')\n",
    "price = int(input('Enter its price: 50'))\n",
    "prices[fruit] = price\n",
    "fruit = input('Enter name of a fruit: Banana ')\n",
    "price = int(input('Enter its price: 25 '))\n",
    "prices[fruit] = price\n",
    "\n",
    "fruit = input('Enter name of a fruit: Guava ')\n",
    "price = int(input('Enter its price: 27 '))\n",
    "prices[fruit] = price\n",
    "print(prices)"
   ]
  },
  {
   "cell_type": "markdown",
   "id": "c0f4d0c5-2242-4247-862b-b6d96913605a",
   "metadata": {},
   "source": [
    "Creating a Dictionary from existing data"
   ]
  },
  {
   "cell_type": "code",
   "execution_count": 1,
   "id": "5ef9831c-8743-4c4b-a8cd-534099f138f9",
   "metadata": {},
   "outputs": [
    {
     "data": {
      "text/plain": [
       "{'a': 1, 'b': 2, 'c': 3}"
      ]
     },
     "execution_count": 1,
     "metadata": {},
     "output_type": "execute_result"
    }
   ],
   "source": [
    "list1 = [['a', 1], ['b', 2], ['c', 3]]\n",
    "d1 = dict(list1)\n",
    "d1"
   ]
  },
  {
   "cell_type": "code",
   "execution_count": 2,
   "id": "9d7b335e-0334-4a18-9d05-2c2ccb8dfe84",
   "metadata": {},
   "outputs": [
    {
     "data": {
      "text/plain": [
       "{'x': 4, 'y': 5, 'z': 6}"
      ]
     },
     "execution_count": 2,
     "metadata": {},
     "output_type": "execute_result"
    }
   ],
   "source": [
    "t1 = ('x', 4), ('y', 5), ('z', 6)\n",
    "d2 = dict(t1)\n",
    "d2"
   ]
  },
  {
   "cell_type": "code",
   "execution_count": 3,
   "id": "f554a260-10cf-4f5f-a2b0-3f46f97217bf",
   "metadata": {},
   "outputs": [
    {
     "name": "stdout",
     "output_type": "stream",
     "text": [
      "{'x': 4, 'y': 5, 'z': 6}\n"
     ]
    }
   ],
   "source": [
    "t2 = ['x', 4], ['y', 5], ['z', 6]\n",
    "d3 = dict(t2)\n",
    "print(d3)"
   ]
  },
  {
   "cell_type": "code",
   "execution_count": 4,
   "id": "536b3647-af36-4dee-a060-41ef402d8e0f",
   "metadata": {},
   "outputs": [
    {
     "data": {
      "text/plain": [
       "{'x': 4, 'y': 5, 'z': 6}"
      ]
     },
     "execution_count": 4,
     "metadata": {},
     "output_type": "execute_result"
    }
   ],
   "source": [
    "d4 = dict((['x', 4], ['y', 5], ['z', 6]))\n",
    "d4"
   ]
  },
  {
   "cell_type": "code",
   "execution_count": 5,
   "id": "8318d973-6617-4f70-8a8d-1061fd14e68a",
   "metadata": {},
   "outputs": [
    {
     "data": {
      "text/plain": [
       "{'X': '1', 'Y': '2', 'Z': '3'}"
      ]
     },
     "execution_count": 5,
     "metadata": {},
     "output_type": "execute_result"
    }
   ],
   "source": [
    "d5 = dict(['X1', 'Y2', 'Z3'])\n",
    "d5"
   ]
  },
  {
   "cell_type": "code",
   "execution_count": 6,
   "id": "ac7549b5-b173-4ac3-a627-d437e23ea650",
   "metadata": {},
   "outputs": [
    {
     "data": {
      "text/plain": [
       "{'pencil': 12, 'eraser': 45, 'sharpener': 30}"
      ]
     },
     "execution_count": 6,
     "metadata": {},
     "output_type": "execute_result"
    }
   ],
   "source": [
    "d6 = dict(pencil=12, eraser=45, sharpener=30)\n",
    "d6"
   ]
  },
  {
   "cell_type": "code",
   "execution_count": 7,
   "id": "654c226c-c7b4-48d4-a1dd-ade46a46e2ac",
   "metadata": {},
   "outputs": [],
   "source": [
    "countries = ['France', 'Austria', 'Japan', 'India']\n",
    "capitals = ['Paris', 'Vienna', 'Tokyo', 'New Delhi']"
   ]
  },
  {
   "cell_type": "code",
   "execution_count": 8,
   "id": "b0a3137e-e210-4c66-94a3-9ed28174dd49",
   "metadata": {},
   "outputs": [
    {
     "data": {
      "text/plain": [
       "{'France': 'Paris',\n",
       " 'Austria': 'Vienna',\n",
       " 'Japan': 'Tokyo',\n",
       " 'India': 'New Delhi'}"
      ]
     },
     "execution_count": 8,
     "metadata": {},
     "output_type": "execute_result"
    }
   ],
   "source": [
    "d7 = dict(zip(countries, capitals))\n",
    "d7"
   ]
  },
  {
   "cell_type": "code",
   "execution_count": 9,
   "id": "f8efb6f2-1ef7-4eb6-8a05-7db3f5e526f2",
   "metadata": {},
   "outputs": [
    {
     "data": {
      "text/plain": [
       "{}"
      ]
     },
     "execution_count": 9,
     "metadata": {},
     "output_type": "execute_result"
    }
   ],
   "source": [
    "d8 = dict()\n",
    "d8"
   ]
  },
  {
   "cell_type": "markdown",
   "id": "04c019d9-1e98-4fc5-95da-3eba8c6ca4b6",
   "metadata": {},
   "source": [
    "Creating a dictionary by using fromkeys() method"
   ]
  },
  {
   "cell_type": "code",
   "execution_count": 10,
   "id": "43c83d87-266e-4c8c-9f6a-181f6dbf384a",
   "metadata": {},
   "outputs": [
    {
     "name": "stdout",
     "output_type": "stream",
     "text": [
      "{'pencil': 0, 'marker': 0, 'eraser': 0, 'sharpener': 0}\n"
     ]
    }
   ],
   "source": [
    "stationery = ['pencil', 'marker', 'eraser', 'sharpener']\n",
    "prices = dict.fromkeys(stationery, 0)\n",
    "print(prices)"
   ]
  },
  {
   "cell_type": "code",
   "execution_count": 11,
   "id": "238d896c-0591-4bf9-b7ab-ae4abc6ace78",
   "metadata": {},
   "outputs": [
    {
     "name": "stdout",
     "output_type": "stream",
     "text": [
      "{'pencil': None, 'marker': None, 'eraser': None, 'sharpener': None}\n"
     ]
    }
   ],
   "source": [
    "d1 = dict.fromkeys(stationery)\n",
    "print(d1)"
   ]
  },
  {
   "cell_type": "code",
   "execution_count": 12,
   "id": "77ac5c10-381a-4999-b743-280759a93d05",
   "metadata": {},
   "outputs": [
    {
     "name": "stdout",
     "output_type": "stream",
     "text": [
      "{0: None, 1: None, 2: None, 3: None, 4: None, 5: None, 6: None}\n"
     ]
    }
   ],
   "source": [
    "d2 = dict.fromkeys(range(7))\n",
    "print(d2)"
   ]
  },
  {
   "cell_type": "code",
   "execution_count": 13,
   "id": "7e6f51d9-e98f-4e32-9aa6-e8602c7e4e7b",
   "metadata": {},
   "outputs": [
    {
     "name": "stdout",
     "output_type": "stream",
     "text": [
      "{'pencil': 0, 'marker': 0, 'eraser': 0, 'sharpener': 0}\n"
     ]
    }
   ],
   "source": [
    "prices = {}.fromkeys(stationery, 0)\n",
    "print(prices)"
   ]
  },
  {
   "cell_type": "markdown",
   "id": "1b462f85-e922-4116-90f5-ff6ae72fd6e5",
   "metadata": {},
   "source": [
    "Combining Dictionaries"
   ]
  },
  {
   "cell_type": "code",
   "execution_count": 14,
   "id": "67b1c4cd-1ba8-47ac-8d0f-de60815b7f09",
   "metadata": {},
   "outputs": [
    {
     "data": {
      "text/plain": [
       "{'apple': 10, 'mango': 15, 'banana': 17, 'grapes': 25, 'papaya': 12}"
      ]
     },
     "execution_count": 14,
     "metadata": {},
     "output_type": "execute_result"
    }
   ],
   "source": [
    "prices1 = {'apple': 10, 'mango': 15, 'banana': 20}\n",
    "prices2 = {'grapes': 25, 'banana': 17, 'papaya': 12}\n",
    "prices1.update(prices2)\n",
    "prices1"
   ]
  },
  {
   "cell_type": "code",
   "execution_count": 15,
   "id": "8220eb9f-7e53-4d70-8e87-5c88c0b7dd2a",
   "metadata": {},
   "outputs": [
    {
     "data": {
      "text/plain": [
       "{'apple': 10,\n",
       " 'mango': 25,\n",
       " 'banana': 17,\n",
       " 'grapes': 25,\n",
       " 'papaya': 12,\n",
       " 'guava': 23,\n",
       " 'fig': 30}"
      ]
     },
     "execution_count": 15,
     "metadata": {},
     "output_type": "execute_result"
    }
   ],
   "source": [
    "L = [['guava', 23], ['fig', 30], ['mango', 25]]\n",
    "prices1.update(L)\n",
    "prices1"
   ]
  },
  {
   "cell_type": "code",
   "execution_count": 16,
   "id": "a3429088-18cd-4491-a604-bde5776fc164",
   "metadata": {},
   "outputs": [
    {
     "data": {
      "text/plain": [
       "{'apple': 10,\n",
       " 'mango': 25,\n",
       " 'banana': 17,\n",
       " 'grapes': 25,\n",
       " 'papaya': 12,\n",
       " 'guava': 23,\n",
       " 'fig': 30,\n",
       " 'lemon': 15,\n",
       " 'melon': 65}"
      ]
     },
     "execution_count": 16,
     "metadata": {},
     "output_type": "execute_result"
    }
   ],
   "source": [
    "prices1.update(lemon=15, melon=65)\n",
    "prices1"
   ]
  },
  {
   "cell_type": "code",
   "execution_count": 17,
   "id": "b265ddca-a807-4ddb-8c53-ad7d34beebbc",
   "metadata": {},
   "outputs": [
    {
     "data": {
      "text/plain": [
       "{'x': 1, 'y': 2, 'c': 7, 'a': 3, 'b': 4}"
      ]
     },
     "execution_count": 17,
     "metadata": {},
     "output_type": "execute_result"
    }
   ],
   "source": [
    "d1 = {'x': 1, 'y': 2, 'c': 8}\n",
    "d2 = {'a': 3, 'b': 4, 'c': 7}\n",
    "d1 | d2"
   ]
  },
  {
   "cell_type": "code",
   "execution_count": 18,
   "id": "f5c56332-d11d-41d3-a9e5-d440d2df8595",
   "metadata": {},
   "outputs": [
    {
     "data": {
      "text/plain": [
       "{'a': 3, 'b': 4, 'c': 8, 'x': 1, 'y': 2}"
      ]
     },
     "execution_count": 18,
     "metadata": {},
     "output_type": "execute_result"
    }
   ],
   "source": [
    "d2 | d1"
   ]
  },
  {
   "cell_type": "code",
   "execution_count": 19,
   "id": "29fa6531-4b13-4c7d-b4a1-78abcaad99fa",
   "metadata": {},
   "outputs": [
    {
     "data": {
      "text/plain": [
       "{'x': 1, 'y': 2, 'c': 7, 'a': 3, 'b': 4}"
      ]
     },
     "execution_count": 19,
     "metadata": {},
     "output_type": "execute_result"
    }
   ],
   "source": [
    "d1 |= d2\n",
    "d1"
   ]
  },
  {
   "cell_type": "markdown",
   "id": "12f1aa86-1a0c-4760-9815-fb3d1dd1fe3b",
   "metadata": {},
   "source": [
    "Nesting of Dictionaries"
   ]
  },
  {
   "cell_type": "code",
   "execution_count": 54,
   "id": "e76ab76b-d5e8-420c-9c48-aa596446ab9a",
   "metadata": {},
   "outputs": [],
   "source": [
    "student = {'name': 'John',\n",
    " 'gender': 'M',\n",
    " 'city': 'Paris',\n",
    " 'age': 21,\n",
    " 'marks': {'Maths':89, 'Physics':78, 'Chemistry':91, 'is_sporty': True},\n",
    " 'is_sporty': True}         "
   ]
  },
  {
   "cell_type": "code",
   "execution_count": 55,
   "id": "534ef4f3-67c5-4833-a3fb-71548af8f8e6",
   "metadata": {},
   "outputs": [],
   "source": [
    "#student['marks'][0] -> Marks in first subject\n",
    "#student['marks'][1] -> Marks in second subject\n",
    "#student['marks'][2] -> Marks in third subject"
   ]
  },
  {
   "cell_type": "code",
   "execution_count": 56,
   "id": "4f68bdf2-5b35-4479-a3f3-4243acbe495f",
   "metadata": {},
   "outputs": [
    {
     "data": {
      "text/plain": [
       "{'Maths': 89, 'Physics': 78, 'Chemistry': 91, 'is_sporty': True}"
      ]
     },
     "execution_count": 56,
     "metadata": {},
     "output_type": "execute_result"
    }
   ],
   "source": [
    "student['marks']"
   ]
  },
  {
   "cell_type": "code",
   "execution_count": 57,
   "id": "add758c1-c864-4c5f-a8bb-4cf1608f3528",
   "metadata": {},
   "outputs": [
    {
     "data": {
      "text/plain": [
       "89"
      ]
     },
     "execution_count": 57,
     "metadata": {},
     "output_type": "execute_result"
    }
   ],
   "source": [
    "student['marks']['Maths']"
   ]
  },
  {
   "cell_type": "code",
   "execution_count": 58,
   "id": "5dad4e62-d55c-4382-b2a1-b866444d82aa",
   "metadata": {},
   "outputs": [
    {
     "data": {
      "text/plain": [
       "89"
      ]
     },
     "execution_count": 58,
     "metadata": {},
     "output_type": "execute_result"
    }
   ],
   "source": [
    "student['marks']['Maths']"
   ]
  },
  {
   "cell_type": "code",
   "execution_count": 59,
   "id": "e46d2657-8ea2-49a9-bf52-db10e402d1ad",
   "metadata": {},
   "outputs": [
    {
     "data": {
      "text/plain": [
       "78"
      ]
     },
     "execution_count": 59,
     "metadata": {},
     "output_type": "execute_result"
    }
   ],
   "source": [
    "student['marks']['Physics']"
   ]
  },
  {
   "cell_type": "code",
   "execution_count": 60,
   "id": "a5958ec9-3cf9-4f3f-8420-adb826620874",
   "metadata": {},
   "outputs": [
    {
     "data": {
      "text/plain": [
       "91"
      ]
     },
     "execution_count": 60,
     "metadata": {},
     "output_type": "execute_result"
    }
   ],
   "source": [
    "student['marks']['Chemistry']"
   ]
  },
  {
   "cell_type": "code",
   "execution_count": 65,
   "id": "05a782fb-6036-4784-b4fd-580b354c9e56",
   "metadata": {},
   "outputs": [],
   "source": [
    "students = {105416:{'name': 'John',\n",
    "                      'gender': 'M',\n",
    "                       'city': 'Paris',\n",
    "                       'age': 21,\n",
    "            'marks': {'Maths':89, \n",
    "                        'Physics':78, \n",
    "                        'Chemistry':91}, \n",
    "                        'is_sporty': True},\n",
    "            144547: {'name': 'Dev',\n",
    "                     'gender': 'M',\n",
    "                     'city': 'London',\n",
    "                     'age': 23,\n",
    "                   'marks': {'Maths':88, \n",
    "                             'Physics':77, \n",
    "                             'Chemistry':98},\n",
    "                             'is_sporty': False},\n",
    "            132399: {'name': 'Mary',\n",
    "                     'gender': 'F',\n",
    "                     'city': 'Paris',\n",
    "                     'age': 22,\n",
    "                     'marks': {'Maths':99, \n",
    "                               'Physics':87, \n",
    "                               'Chemistry':88},\n",
    "                               'is_sporty': True},\n",
    "}"
   ]
  },
  {
   "cell_type": "code",
   "execution_count": 66,
   "id": "e68e0965-52a7-477e-869c-285d698cd7d8",
   "metadata": {},
   "outputs": [
    {
     "data": {
      "text/plain": [
       "{'name': 'Dev',\n",
       " 'gender': 'M',\n",
       " 'city': 'London',\n",
       " 'age': 23,\n",
       " 'marks': {'Maths': 88, 'Physics': 77, 'Chemistry': 98},\n",
       " 'is_sporty': False}"
      ]
     },
     "execution_count": 66,
     "metadata": {},
     "output_type": "execute_result"
    }
   ],
   "source": [
    "students[144547]"
   ]
  },
  {
   "cell_type": "code",
   "execution_count": 70,
   "id": "4b2f9137-466d-4883-b135-3fe793ced58c",
   "metadata": {},
   "outputs": [
    {
     "data": {
      "text/plain": [
       "'John'"
      ]
     },
     "execution_count": 70,
     "metadata": {},
     "output_type": "execute_result"
    }
   ],
   "source": [
    "students[105416]['name']"
   ]
  },
  {
   "cell_type": "code",
   "execution_count": 71,
   "id": "946015aa-d3d7-4c7d-9214-aeb3021a57f0",
   "metadata": {},
   "outputs": [
    {
     "data": {
      "text/plain": [
       "88"
      ]
     },
     "execution_count": 71,
     "metadata": {},
     "output_type": "execute_result"
    }
   ],
   "source": [
    "students[132399]['marks']['Chemistry']"
   ]
  },
  {
   "cell_type": "code",
   "execution_count": 72,
   "id": "bdbbf8fb-af60-4a03-bd9e-f85a105a7ea3",
   "metadata": {},
   "outputs": [
    {
     "name": "stdout",
     "output_type": "stream",
     "text": [
      "{105416: {'name': 'John',\n",
      "          'gender': 'M',\n",
      "          'city': 'Paris',\n",
      "          'age': 21,\n",
      "          'marks': {'Maths': 89, 'Physics': 78, 'Chemistry': 91},\n",
      "          'is_sporty': True},\n",
      " 144547: {'name': 'Dev',\n",
      "          'gender': 'M',\n",
      "          'city': 'London',\n",
      "          'age': 23,\n",
      "          'marks': {'Maths': 88, 'Physics': 77, 'Chemistry': 98},\n",
      "          'is_sporty': False},\n",
      " 132399: {'name': 'Mary',\n",
      "          'gender': 'F',\n",
      "          'city': 'Paris',\n",
      "          'age': 22,\n",
      "          'marks': {'Maths': 99, 'Physics': 87, 'Chemistry': 88},\n",
      "          'is_sporty': True}}\n",
      "{'name': 'Dev',\n",
      " 'gender': 'M',\n",
      " 'city': 'London',\n",
      " 'age': 23,\n",
      " 'marks': {'Maths': 88, 'Physics': 77, 'Chemistry': 98},\n",
      " 'is_sporty': False}\n"
     ]
    }
   ],
   "source": [
    "import pprint\n",
    "pprint.pp(students)\n",
    "pprint.pp(students[144547])"
   ]
  },
  {
   "cell_type": "markdown",
   "id": "dbfc46f7-bf7c-414e-b33f-e9c0a136a0f7",
   "metadata": {},
   "source": [
    "Aliasing and Shallow Vs Deep Copy"
   ]
  },
  {
   "cell_type": "code",
   "execution_count": 73,
   "id": "1e206104-2794-4d78-aa8d-d061eaf3caa7",
   "metadata": {},
   "outputs": [],
   "source": [
    "shop1_prices = {'apple': 200, 'mango': 250, 'banana': 100, 'grapes': 90}"
   ]
  },
  {
   "cell_type": "code",
   "execution_count": 74,
   "id": "e6b8e3dd-b027-4a1b-8774-42e59d8b460e",
   "metadata": {},
   "outputs": [],
   "source": [
    "shop2_prices = shop1_prices"
   ]
  },
  {
   "cell_type": "code",
   "execution_count": 75,
   "id": "42c73b12-5877-4ccb-b7a4-7277208e5af2",
   "metadata": {},
   "outputs": [
    {
     "data": {
      "text/plain": [
       "{'apple': 200, 'mango': 250, 'banana': 100, 'grapes': 90}"
      ]
     },
     "execution_count": 75,
     "metadata": {},
     "output_type": "execute_result"
    }
   ],
   "source": [
    "shop2_prices"
   ]
  },
  {
   "cell_type": "code",
   "execution_count": 76,
   "id": "292a995d-ac43-4046-9cf4-c586b7e6005e",
   "metadata": {},
   "outputs": [
    {
     "data": {
      "text/plain": [
       "{'apple': 160, 'mango': 250, 'banana': 80, 'grapes': 90}"
      ]
     },
     "execution_count": 76,
     "metadata": {},
     "output_type": "execute_result"
    }
   ],
   "source": [
    "shop2_prices['apple'] -= 40\n",
    "shop2_prices['banana'] -= 20\n",
    "shop2_prices"
   ]
  },
  {
   "cell_type": "code",
   "execution_count": 77,
   "id": "012156d5-4a9e-4f8a-9906-cca74f22f00f",
   "metadata": {},
   "outputs": [
    {
     "data": {
      "text/plain": [
       "560"
      ]
     },
     "execution_count": 77,
     "metadata": {},
     "output_type": "execute_result"
    }
   ],
   "source": [
    "bill = 2 * shop1_prices['apple'] + 3 * shop1_prices['banana']\n",
    "bill"
   ]
  },
  {
   "cell_type": "code",
   "execution_count": 78,
   "id": "31bbf821-610e-4437-9fd4-feeb9e857ffb",
   "metadata": {},
   "outputs": [
    {
     "data": {
      "text/plain": [
       "1336880298752"
      ]
     },
     "execution_count": 78,
     "metadata": {},
     "output_type": "execute_result"
    }
   ],
   "source": [
    "id(shop1_prices)"
   ]
  },
  {
   "cell_type": "code",
   "execution_count": 79,
   "id": "ec1da8c4-eac6-48e9-aa03-2bef9a56a1eb",
   "metadata": {},
   "outputs": [
    {
     "data": {
      "text/plain": [
       "1336880298752"
      ]
     },
     "execution_count": 79,
     "metadata": {},
     "output_type": "execute_result"
    }
   ],
   "source": [
    "id(shop2_prices)"
   ]
  },
  {
   "cell_type": "code",
   "execution_count": 80,
   "id": "10843b9b-546a-4a40-b614-14ad2cceeaac",
   "metadata": {},
   "outputs": [
    {
     "data": {
      "text/plain": [
       "{'apple': 160, 'mango': 250, 'banana': 80, 'grapes': 90}"
      ]
     },
     "execution_count": 80,
     "metadata": {},
     "output_type": "execute_result"
    }
   ],
   "source": [
    "shop1_prices"
   ]
  },
  {
   "cell_type": "code",
   "execution_count": 81,
   "id": "c48f3589-ef9f-4c75-a8bd-b7e83b2a4cf3",
   "metadata": {},
   "outputs": [
    {
     "data": {
      "text/plain": [
       "700"
      ]
     },
     "execution_count": 81,
     "metadata": {},
     "output_type": "execute_result"
    }
   ],
   "source": [
    "shop1_prices = {'apple': 200, 'mango': 250, 'banana': 100, 'grapes': 90}\n",
    "shop2_prices = shop1_prices.copy()\n",
    "shop2_prices['apple'] -= 40\n",
    "shop2_prices['banana'] -= 20\n",
    "bill = 2 * shop1_prices['apple'] + 3 * shop1_prices['banana']\n",
    "bill"
   ]
  },
  {
   "cell_type": "code",
   "execution_count": 82,
   "id": "c3100142-f158-4ebe-8d0e-6b7c29b65b20",
   "metadata": {},
   "outputs": [],
   "source": [
    "shop2_prices = dict(shop1_prices)"
   ]
  },
  {
   "cell_type": "code",
   "execution_count": 83,
   "id": "67139f8d-7ceb-4f32-9f72-aa6d98eed3fe",
   "metadata": {},
   "outputs": [],
   "source": [
    "office1_salary = {'manager': 6000,\n",
    "'web designer': 3000,\n",
    "'programmer': {'Python': 5000,\n",
    "'Java': 4000, 'C#': 4500}}"
   ]
  },
  {
   "cell_type": "code",
   "execution_count": 84,
   "id": "942b0f3e-86bd-4ba2-a0d3-fb7d51095675",
   "metadata": {},
   "outputs": [],
   "source": [
    "office2_salary = office1_salary.copy()"
   ]
  },
  {
   "cell_type": "code",
   "execution_count": 85,
   "id": "95aa4755-597a-41b9-b0e3-b2d1f776d2e8",
   "metadata": {},
   "outputs": [
    {
     "data": {
      "text/plain": [
       "1336880203264"
      ]
     },
     "execution_count": 85,
     "metadata": {},
     "output_type": "execute_result"
    }
   ],
   "source": [
    "id(office1_salary)"
   ]
  },
  {
   "cell_type": "code",
   "execution_count": 86,
   "id": "486004f5-6574-4c30-a4f0-eb41efe66a95",
   "metadata": {},
   "outputs": [
    {
     "data": {
      "text/plain": [
       "1336879924992"
      ]
     },
     "execution_count": 86,
     "metadata": {},
     "output_type": "execute_result"
    }
   ],
   "source": [
    "id(office2_salary)"
   ]
  },
  {
   "cell_type": "code",
   "execution_count": 87,
   "id": "cea3be67-8902-4c56-8aef-72d22cdf8ed8",
   "metadata": {},
   "outputs": [],
   "source": [
    "office1_salary['programmer']['Python'] += 500"
   ]
  },
  {
   "cell_type": "code",
   "execution_count": 88,
   "id": "5e63d148-9234-43c6-8cd1-e77c90ae68bd",
   "metadata": {},
   "outputs": [
    {
     "name": "stdout",
     "output_type": "stream",
     "text": [
      "{'manager': 6000,\n",
      " 'web designer': 3000,\n",
      " 'programmer': {'Python': 5500, 'Java': 4000, 'C#': 4500}}\n"
     ]
    }
   ],
   "source": [
    "import pprint\n",
    "pprint.pp(office1_salary)"
   ]
  },
  {
   "cell_type": "code",
   "execution_count": 89,
   "id": "ffa1c83c-0a2c-4b3e-b7ce-cce761ccb926",
   "metadata": {},
   "outputs": [
    {
     "name": "stdout",
     "output_type": "stream",
     "text": [
      "{'manager': 6000,\n",
      " 'web designer': 3000,\n",
      " 'programmer': {'Python': 5500, 'Java': 4000, 'C#': 4500}}\n"
     ]
    }
   ],
   "source": [
    "pprint.pp(office2_salary)"
   ]
  },
  {
   "cell_type": "code",
   "execution_count": 90,
   "id": "0759a5b0-3e8d-44a4-bcf6-9f0fd34305bc",
   "metadata": {},
   "outputs": [
    {
     "data": {
      "text/plain": [
       "1336879795584"
      ]
     },
     "execution_count": 90,
     "metadata": {},
     "output_type": "execute_result"
    }
   ],
   "source": [
    "id(office1_salary['programmer'])"
   ]
  },
  {
   "cell_type": "code",
   "execution_count": 91,
   "id": "ae8e46b1-99a6-4090-9bb2-ff566b848afc",
   "metadata": {},
   "outputs": [
    {
     "data": {
      "text/plain": [
       "1336879795584"
      ]
     },
     "execution_count": 91,
     "metadata": {},
     "output_type": "execute_result"
    }
   ],
   "source": [
    "id(office2_salary['programmer'])"
   ]
  },
  {
   "cell_type": "code",
   "execution_count": 92,
   "id": "4e597030-4c58-49c1-8216-d9f4a09a1110",
   "metadata": {},
   "outputs": [
    {
     "data": {
      "text/plain": [
       "1336881613568"
      ]
     },
     "execution_count": 92,
     "metadata": {},
     "output_type": "execute_result"
    }
   ],
   "source": [
    "from copy import deepcopy\n",
    "office2_salary = deepcopy(office1_salary)\n",
    "id(office2_salary['programmer'])"
   ]
  },
  {
   "cell_type": "code",
   "execution_count": 93,
   "id": "b94cfd6c-2b4a-4e64-8bd4-3babadcc11c5",
   "metadata": {},
   "outputs": [
    {
     "data": {
      "text/plain": [
       "1336879795584"
      ]
     },
     "execution_count": 93,
     "metadata": {},
     "output_type": "execute_result"
    }
   ],
   "source": [
    "id(office1_salary['programmer'])"
   ]
  },
  {
   "cell_type": "markdown",
   "id": "04b7532d-befd-4111-8ebe-91683a561a50",
   "metadata": {},
   "source": [
    "Introduction to Sets"
   ]
  },
  {
   "cell_type": "code",
   "execution_count": 94,
   "id": "4065269a-db4a-4d58-88ad-16ae582c624b",
   "metadata": {},
   "outputs": [],
   "source": [
    "big_cities = {'London', 'Paris', 'Bangalore', 'Tokyo'}\n",
    "primes = {2, 3, 5, 7, 11, 13, 17, 19}\n",
    "colors = {'red', 'blue', 'yellow', 'black', 'white'}"
   ]
  },
  {
   "cell_type": "code",
   "execution_count": 95,
   "id": "c5790613-f2c9-4c9b-bb7c-026ae0148c97",
   "metadata": {},
   "outputs": [
    {
     "data": {
      "text/plain": [
       "True"
      ]
     },
     "execution_count": 95,
     "metadata": {},
     "output_type": "execute_result"
    }
   ],
   "source": [
    "'Paris' in big_cities"
   ]
  },
  {
   "cell_type": "code",
   "execution_count": 96,
   "id": "30a3b412-7805-4898-adf2-d5ee7433e1b4",
   "metadata": {},
   "outputs": [
    {
     "data": {
      "text/plain": [
       "True"
      ]
     },
     "execution_count": 96,
     "metadata": {},
     "output_type": "execute_result"
    }
   ],
   "source": [
    "city = 'Perth'\n",
    "city not in big_cities"
   ]
  },
  {
   "cell_type": "code",
   "execution_count": 97,
   "id": "30d007e6-b6d1-4e94-8bb1-1b15a46deb13",
   "metadata": {},
   "outputs": [
    {
     "data": {
      "text/plain": [
       "False"
      ]
     },
     "execution_count": 97,
     "metadata": {},
     "output_type": "execute_result"
    }
   ],
   "source": [
    "number = 11\n",
    "number not in primes"
   ]
  },
  {
   "cell_type": "markdown",
   "id": "87aa17fc-1c38-46e8-9e9b-aa207744b1c3",
   "metadata": {},
   "source": [
    "Creating a Set"
   ]
  },
  {
   "cell_type": "code",
   "execution_count": 98,
   "id": "e0c79641-a5ec-4334-bb2f-524c54162f48",
   "metadata": {},
   "outputs": [],
   "source": [
    "s = set()"
   ]
  },
  {
   "cell_type": "code",
   "execution_count": 99,
   "id": "0b326ceb-181f-46b6-90f2-403ad2bfdfc1",
   "metadata": {},
   "outputs": [],
   "source": [
    "s = {} # an empty dictionary will be created"
   ]
  },
  {
   "cell_type": "code",
   "execution_count": 100,
   "id": "c246f15b-ef74-41a2-9bb0-bba2f5c4fdb7",
   "metadata": {},
   "outputs": [
    {
     "name": "stdout",
     "output_type": "stream",
     "text": [
      "{'H', 'E', 'O', 'L'}\n"
     ]
    }
   ],
   "source": [
    "print(set('HELLO'))"
   ]
  },
  {
   "cell_type": "code",
   "execution_count": 101,
   "id": "80f62a76-4a8c-4fe0-839f-ce87ea9ebd8e",
   "metadata": {},
   "outputs": [
    {
     "name": "stdout",
     "output_type": "stream",
     "text": [
      "{1, 2, 3, 4, 5}\n"
     ]
    }
   ],
   "source": [
    "L = [1, 2, 3, 1, 2, 3, 4, 5, 4, 3, 2, 1]\n",
    "print(set(L))"
   ]
  },
  {
   "cell_type": "code",
   "execution_count": 102,
   "id": "e066ff2d-21ea-47c6-9c26-6a997c30b47d",
   "metadata": {},
   "outputs": [
    {
     "name": "stdout",
     "output_type": "stream",
     "text": [
      "{40, 20, 30}\n"
     ]
    }
   ],
   "source": [
    "t = (20, 30, 40, 30, 20)\n",
    "print(set(t))"
   ]
  },
  {
   "cell_type": "code",
   "execution_count": 103,
   "id": "eda7f643-49c9-48df-83e7-aaeaebc4f08f",
   "metadata": {},
   "outputs": [
    {
     "data": {
      "text/plain": [
       "{1, 2, 3, 4, 5}"
      ]
     },
     "execution_count": 103,
     "metadata": {},
     "output_type": "execute_result"
    }
   ],
   "source": [
    "d = {1:'a', 2:'b', 3:'c', 4:'a', 5:'c'}\n",
    "set(d)"
   ]
  },
  {
   "cell_type": "code",
   "execution_count": 104,
   "id": "6488aca3-1b08-4d45-9075-ea1b67cb0062",
   "metadata": {},
   "outputs": [
    {
     "data": {
      "text/plain": [
       "{'a', 'b', 'c'}"
      ]
     },
     "execution_count": 104,
     "metadata": {},
     "output_type": "execute_result"
    }
   ],
   "source": [
    "set(d.values())"
   ]
  },
  {
   "cell_type": "code",
   "execution_count": 105,
   "id": "33e6acfb-f83d-404c-9933-0ceb503b96b7",
   "metadata": {},
   "outputs": [
    {
     "data": {
      "text/plain": [
       "{1, 3, 5, 7, 9, 11, 13, 15, 17, 19}"
      ]
     },
     "execution_count": 105,
     "metadata": {},
     "output_type": "execute_result"
    }
   ],
   "source": [
    "odds = set(range(1, 20, 2))\n",
    "odds"
   ]
  },
  {
   "cell_type": "code",
   "execution_count": 106,
   "id": "61cd515f-f404-4c75-b38e-1240f38d87a7",
   "metadata": {},
   "outputs": [
    {
     "name": "stdout",
     "output_type": "stream",
     "text": [
      "False\n"
     ]
    }
   ],
   "source": [
    "L1 = [1, 2, 3, 4]\n",
    "L2 = [3, 2, 4, 1]\n",
    "print(L1 == L2)"
   ]
  },
  {
   "cell_type": "code",
   "execution_count": 107,
   "id": "c8f06da7-35bb-4ddc-bb3f-da6c91977396",
   "metadata": {},
   "outputs": [
    {
     "name": "stdout",
     "output_type": "stream",
     "text": [
      "True\n"
     ]
    }
   ],
   "source": [
    "print(set(L1) == set(L2))"
   ]
  },
  {
   "cell_type": "markdown",
   "id": "75f001eb-6245-47e8-8638-f3f6ef8092f4",
   "metadata": {},
   "source": [
    "Adding and Removing Elements\n",
    "\n",
    "1) s.add(x) Adds a new item x to the set s\n",
    "2) s.pop() Removes an arbitrary element from s\n",
    "3) s.remove(x) Removes x from set s, raises KeyError if x not present\n",
    "4) s.discard(x) Removes x from set s, no effect if x not present\n",
    "5) s.clear() Removes all elements from s"
   ]
  },
  {
   "cell_type": "code",
   "execution_count": 108,
   "id": "5802a800-4d7b-4a61-a411-d821a0ec2fc0",
   "metadata": {},
   "outputs": [
    {
     "data": {
      "text/plain": [
       "{'Agra',\n",
       " 'Bareilly',\n",
       " 'Bengaluru',\n",
       " 'Bern',\n",
       " 'Cairo',\n",
       " 'Delhi',\n",
       " 'Mumbai',\n",
       " 'Perth',\n",
       " 'Rome'}"
      ]
     },
     "execution_count": 108,
     "metadata": {},
     "output_type": "execute_result"
    }
   ],
   "source": [
    "cities = {'Cairo', 'Mumbai', 'Agra', 'Bengaluru', 'Rome', 'Perth', 'Bareilly', 'Bern'}\n",
    "cities.add('Delhi')\n",
    "cities"
   ]
  },
  {
   "cell_type": "code",
   "execution_count": 109,
   "id": "deb4bfc3-8f12-445c-bf08-bc41aecaee63",
   "metadata": {},
   "outputs": [
    {
     "data": {
      "text/plain": [
       "{'Agra', 'Bareilly', 'Bengaluru', 'Cairo', 'Delhi', 'Mumbai', 'Perth', 'Rome'}"
      ]
     },
     "execution_count": 109,
     "metadata": {},
     "output_type": "execute_result"
    }
   ],
   "source": [
    "cities.remove('Bern')\n",
    "cities"
   ]
  },
  {
   "cell_type": "code",
   "execution_count": 110,
   "id": "589faf07-78b3-46b6-80e6-326db2c4887a",
   "metadata": {},
   "outputs": [
    {
     "ename": "KeyError",
     "evalue": "'Tokyo'",
     "output_type": "error",
     "traceback": [
      "\u001b[1;31m---------------------------------------------------------------------------\u001b[0m",
      "\u001b[1;31mKeyError\u001b[0m                                  Traceback (most recent call last)",
      "Cell \u001b[1;32mIn[110], line 1\u001b[0m\n\u001b[1;32m----> 1\u001b[0m cities\u001b[38;5;241m.\u001b[39mremove(\u001b[38;5;124m'\u001b[39m\u001b[38;5;124mTokyo\u001b[39m\u001b[38;5;124m'\u001b[39m)\n",
      "\u001b[1;31mKeyError\u001b[0m: 'Tokyo'"
     ]
    }
   ],
   "source": [
    "cities.remove('Tokyo')"
   ]
  },
  {
   "cell_type": "code",
   "execution_count": 111,
   "id": "9e8435de-f5e5-4e04-9517-a27efb38750c",
   "metadata": {},
   "outputs": [
    {
     "name": "stdout",
     "output_type": "stream",
     "text": [
      "{'Cairo', 'Delhi', 'Mumbai', 'Perth', 'Agra', 'Bengaluru', 'Rome', 'Bareilly'}\n"
     ]
    }
   ],
   "source": [
    "cities.discard('Tokyo')\n",
    "print(cities)"
   ]
  },
  {
   "cell_type": "code",
   "execution_count": 112,
   "id": "b7ef3f2f-7fd2-453e-aed6-5ddfbea99155",
   "metadata": {},
   "outputs": [
    {
     "name": "stdout",
     "output_type": "stream",
     "text": [
      "Cairo\n"
     ]
    }
   ],
   "source": [
    "city = cities.pop()\n",
    "print(city)"
   ]
  },
  {
   "cell_type": "code",
   "execution_count": 113,
   "id": "05209921-9798-420a-b2fd-46e90a9f8161",
   "metadata": {},
   "outputs": [
    {
     "name": "stdout",
     "output_type": "stream",
     "text": [
      "{'Delhi', 'Mumbai', 'Perth', 'Agra', 'Bengaluru', 'Rome', 'Bareilly'}\n"
     ]
    }
   ],
   "source": [
    "print(cities)"
   ]
  },
  {
   "cell_type": "markdown",
   "id": "bdbc18f3-90be-4eec-86ea-e20cd4f89a3b",
   "metadata": {},
   "source": [
    "Comparing Sets"
   ]
  },
  {
   "cell_type": "code",
   "execution_count": 114,
   "id": "cf9858fa-c8d7-419a-b4f3-026ebb7c0b18",
   "metadata": {},
   "outputs": [
    {
     "data": {
      "text/plain": [
       "False"
      ]
     },
     "execution_count": 114,
     "metadata": {},
     "output_type": "execute_result"
    }
   ],
   "source": [
    "s1 = {1, 2, 3, 4}\n",
    "s2 = {5, 6, 7, 3}\n",
    "s3 = {10, 20, 30, 50}\n",
    "s1.isdisjoint(s2)"
   ]
  },
  {
   "cell_type": "code",
   "execution_count": 115,
   "id": "abdbda95-2a08-4149-856e-7b3c4c292ba1",
   "metadata": {},
   "outputs": [
    {
     "data": {
      "text/plain": [
       "True"
      ]
     },
     "execution_count": 115,
     "metadata": {},
     "output_type": "execute_result"
    }
   ],
   "source": [
    "s1.isdisjoint(s3)"
   ]
  },
  {
   "cell_type": "code",
   "execution_count": 116,
   "id": "97a1ba92-2115-4ba3-80e8-cf9fa7f2560a",
   "metadata": {},
   "outputs": [
    {
     "data": {
      "text/plain": [
       "True"
      ]
     },
     "execution_count": 116,
     "metadata": {},
     "output_type": "execute_result"
    }
   ],
   "source": [
    "s1 = {1, 2, 4, 3, 6}\n",
    "s2 = {6, 4, 3, 2, 1}\n",
    "s1 == s2"
   ]
  },
  {
   "cell_type": "markdown",
   "id": "e5ff623e-1c84-4e94-a75a-0da156f8bc9d",
   "metadata": {},
   "source": [
    "s1.issubset(s2) or s1 <= s2 Returns True if s1 is a subset of s2, otherwise False\n",
    "\n",
    "s1.issuperset(s2) or s1 >= s2"
   ]
  },
  {
   "cell_type": "code",
   "execution_count": 117,
   "id": "700accdc-5a47-4c0a-9313-69389cb224bf",
   "metadata": {},
   "outputs": [
    {
     "data": {
      "text/plain": [
       "True"
      ]
     },
     "execution_count": 117,
     "metadata": {},
     "output_type": "execute_result"
    }
   ],
   "source": [
    "s1 = {'x', 'y', 'z', 'a', 'b'}\n",
    "s2 = {'x', 'y', 'z', 'a', 'b', 'c', 'd'}\n",
    "s3 = {'a', 'b', 'x', 'y', 'z'} \n",
    "s1.issubset(s2)"
   ]
  },
  {
   "cell_type": "code",
   "execution_count": 118,
   "id": "0718c833-484f-4990-a05e-28d080c60c2a",
   "metadata": {},
   "outputs": [
    {
     "data": {
      "text/plain": [
       "True"
      ]
     },
     "execution_count": 118,
     "metadata": {},
     "output_type": "execute_result"
    }
   ],
   "source": [
    "s1 <= s2"
   ]
  },
  {
   "cell_type": "code",
   "execution_count": 119,
   "id": "f868d3a7-a7e8-4b5d-b826-24909a825362",
   "metadata": {},
   "outputs": [
    {
     "data": {
      "text/plain": [
       "True"
      ]
     },
     "execution_count": 119,
     "metadata": {},
     "output_type": "execute_result"
    }
   ],
   "source": [
    "s2.issuperset(s1)"
   ]
  },
  {
   "cell_type": "code",
   "execution_count": 120,
   "id": "f604e35d-df6a-4165-b691-26a1166f45dd",
   "metadata": {},
   "outputs": [
    {
     "data": {
      "text/plain": [
       "True"
      ]
     },
     "execution_count": 120,
     "metadata": {},
     "output_type": "execute_result"
    }
   ],
   "source": [
    "s2 >= s1"
   ]
  },
  {
   "cell_type": "code",
   "execution_count": 121,
   "id": "2c811820-cc26-4f23-b058-7887df463cbf",
   "metadata": {},
   "outputs": [
    {
     "data": {
      "text/plain": [
       "True"
      ]
     },
     "execution_count": 121,
     "metadata": {},
     "output_type": "execute_result"
    }
   ],
   "source": [
    "s1 <= s3"
   ]
  },
  {
   "cell_type": "code",
   "execution_count": 122,
   "id": "b055680c-275d-4eb5-98c4-8f3f77b02f1f",
   "metadata": {},
   "outputs": [
    {
     "data": {
      "text/plain": [
       "True"
      ]
     },
     "execution_count": 122,
     "metadata": {},
     "output_type": "execute_result"
    }
   ],
   "source": [
    "s1 >= s3"
   ]
  },
  {
   "cell_type": "code",
   "execution_count": 123,
   "id": "756d717e-1edf-42bf-8aaf-61b83bfc5897",
   "metadata": {},
   "outputs": [
    {
     "data": {
      "text/plain": [
       "True"
      ]
     },
     "execution_count": 123,
     "metadata": {},
     "output_type": "execute_result"
    }
   ],
   "source": [
    "s1 <= s1"
   ]
  },
  {
   "cell_type": "code",
   "execution_count": 124,
   "id": "9fe34bb2-c2a7-4e50-885a-255d24147c4f",
   "metadata": {},
   "outputs": [
    {
     "data": {
      "text/plain": [
       "True"
      ]
     },
     "execution_count": 124,
     "metadata": {},
     "output_type": "execute_result"
    }
   ],
   "source": [
    "s1 >= s1"
   ]
  },
  {
   "cell_type": "code",
   "execution_count": 125,
   "id": "12c65601-58d4-4514-b234-2ce419767454",
   "metadata": {},
   "outputs": [
    {
     "data": {
      "text/plain": [
       "True"
      ]
     },
     "execution_count": 125,
     "metadata": {},
     "output_type": "execute_result"
    }
   ],
   "source": [
    "s1 < s2"
   ]
  },
  {
   "cell_type": "code",
   "execution_count": 126,
   "id": "569a2150-2861-4517-8a96-9307b7897bba",
   "metadata": {},
   "outputs": [
    {
     "data": {
      "text/plain": [
       "False"
      ]
     },
     "execution_count": 126,
     "metadata": {},
     "output_type": "execute_result"
    }
   ],
   "source": [
    "s1 < s3"
   ]
  },
  {
   "cell_type": "code",
   "execution_count": 127,
   "id": "cd0f73ad-e1e3-433e-bd2a-7bb48c5c5191",
   "metadata": {},
   "outputs": [
    {
     "data": {
      "text/plain": [
       "False"
      ]
     },
     "execution_count": 127,
     "metadata": {},
     "output_type": "execute_result"
    }
   ],
   "source": [
    "s3 > s1"
   ]
  },
  {
   "cell_type": "markdown",
   "id": "1b26199c-a607-436f-ba1c-a05cfe642e1f",
   "metadata": {},
   "source": [
    "Union, Interection and Difference of Sets"
   ]
  },
  {
   "cell_type": "code",
   "execution_count": 128,
   "id": "9fcdd336-d4a4-4211-a2dd-5758395c60dd",
   "metadata": {},
   "outputs": [],
   "source": [
    "python_programmers = {'Nick', 'Sam', 'Peter', 'Mary', 'Alan', 'Rose', 'Zara', 'Max'}\n",
    "java_programmers = {'Ted', 'Sandy', 'Peter', 'Alan', 'Ross', 'Max', 'Ruby'}\n",
    "c_programmers = {'Nick', 'Ted', 'Peter', 'Abbie', 'Julie', 'Jack', 'Jill'}"
   ]
  },
  {
   "cell_type": "code",
   "execution_count": 129,
   "id": "30e7ab41-f9a0-4dff-844e-0f06f8ee39d5",
   "metadata": {},
   "outputs": [
    {
     "data": {
      "text/plain": [
       "{'Alan', 'Max', 'Peter'}"
      ]
     },
     "execution_count": 129,
     "metadata": {},
     "output_type": "execute_result"
    }
   ],
   "source": [
    "python_programmers.intersection(java_programmers)"
   ]
  },
  {
   "cell_type": "code",
   "execution_count": 130,
   "id": "281a9dae-0f3c-4b55-ba7e-30f9143e0a78",
   "metadata": {},
   "outputs": [
    {
     "data": {
      "text/plain": [
       "{'Alan', 'Max', 'Peter'}"
      ]
     },
     "execution_count": 130,
     "metadata": {},
     "output_type": "execute_result"
    }
   ],
   "source": [
    "python_programmers & java_programmers"
   ]
  },
  {
   "cell_type": "code",
   "execution_count": 131,
   "id": "426141ef-190c-42f8-b305-dbe5d310d839",
   "metadata": {},
   "outputs": [
    {
     "data": {
      "text/plain": [
       "{'Peter'}"
      ]
     },
     "execution_count": 131,
     "metadata": {},
     "output_type": "execute_result"
    }
   ],
   "source": [
    "python_programmers.intersection(java_programmers, c_programmers)"
   ]
  },
  {
   "cell_type": "code",
   "execution_count": 132,
   "id": "36892815-f1f3-46b6-a082-2b5fbae2a3f0",
   "metadata": {},
   "outputs": [
    {
     "data": {
      "text/plain": [
       "{'Peter'}"
      ]
     },
     "execution_count": 132,
     "metadata": {},
     "output_type": "execute_result"
    }
   ],
   "source": [
    "python_programmers & java_programmers & c_programmers"
   ]
  },
  {
   "cell_type": "code",
   "execution_count": 133,
   "id": "8abfa78e-f01e-4ee2-b128-45e78bfee78e",
   "metadata": {},
   "outputs": [
    {
     "data": {
      "text/plain": [
       "{'Abbie',\n",
       " 'Alan',\n",
       " 'Jack',\n",
       " 'Jill',\n",
       " 'Julie',\n",
       " 'Mary',\n",
       " 'Max',\n",
       " 'Nick',\n",
       " 'Peter',\n",
       " 'Rose',\n",
       " 'Sam',\n",
       " 'Ted',\n",
       " 'Zara'}"
      ]
     },
     "execution_count": 133,
     "metadata": {},
     "output_type": "execute_result"
    }
   ],
   "source": [
    "c_programmers.union(python_programmers)"
   ]
  },
  {
   "cell_type": "code",
   "execution_count": 134,
   "id": "c4ef19b3-76bf-4c19-a419-bcccb0be1330",
   "metadata": {},
   "outputs": [
    {
     "data": {
      "text/plain": [
       "{'Abbie',\n",
       " 'Alan',\n",
       " 'Jack',\n",
       " 'Jill',\n",
       " 'Julie',\n",
       " 'Mary',\n",
       " 'Max',\n",
       " 'Nick',\n",
       " 'Peter',\n",
       " 'Rose',\n",
       " 'Sam',\n",
       " 'Ted',\n",
       " 'Zara'}"
      ]
     },
     "execution_count": 134,
     "metadata": {},
     "output_type": "execute_result"
    }
   ],
   "source": [
    "c_programmers | python_programmers"
   ]
  },
  {
   "cell_type": "code",
   "execution_count": 135,
   "id": "232b5b93-151b-4b59-ab77-80d34791402a",
   "metadata": {},
   "outputs": [
    {
     "data": {
      "text/plain": [
       "{'Mary', 'Nick', 'Rose', 'Sam', 'Zara'}"
      ]
     },
     "execution_count": 135,
     "metadata": {},
     "output_type": "execute_result"
    }
   ],
   "source": [
    "python_programmers - java_programmers"
   ]
  },
  {
   "cell_type": "code",
   "execution_count": 136,
   "id": "2d03658a-875d-479f-b45b-edf085933b16",
   "metadata": {},
   "outputs": [
    {
     "data": {
      "text/plain": [
       "{'Mary', 'Nick', 'Rose', 'Sam', 'Zara'}"
      ]
     },
     "execution_count": 136,
     "metadata": {},
     "output_type": "execute_result"
    }
   ],
   "source": [
    "python_programmers.difference(java_programmers)"
   ]
  },
  {
   "cell_type": "code",
   "execution_count": 137,
   "id": "9832aade-8cbc-4967-9740-4c6b4236040e",
   "metadata": {},
   "outputs": [
    {
     "data": {
      "text/plain": [
       "{'Mary', 'Rose', 'Sam', 'Zara'}"
      ]
     },
     "execution_count": 137,
     "metadata": {},
     "output_type": "execute_result"
    }
   ],
   "source": [
    "python_programmers.difference(java_programmers, c_programmers)"
   ]
  },
  {
   "cell_type": "code",
   "execution_count": 139,
   "id": "6b3e5528-7073-4058-8c0e-43636a902843",
   "metadata": {},
   "outputs": [
    {
     "data": {
      "text/plain": [
       "{'Mary', 'Rose', 'Sam', 'Zara'}"
      ]
     },
     "execution_count": 139,
     "metadata": {},
     "output_type": "execute_result"
    }
   ],
   "source": [
    "python_programmers - java_programmers - c_programmers"
   ]
  },
  {
   "cell_type": "code",
   "execution_count": 140,
   "id": "24b8fdd8-2a60-47de-908b-2ac646ffe4fb",
   "metadata": {},
   "outputs": [
    {
     "data": {
      "text/plain": [
       "{'Mary', 'Nick', 'Rose', 'Ross', 'Ruby', 'Sam', 'Sandy', 'Ted', 'Zara'}"
      ]
     },
     "execution_count": 140,
     "metadata": {},
     "output_type": "execute_result"
    }
   ],
   "source": [
    "python_programmers.symmetric_difference(java_programmers)"
   ]
  },
  {
   "cell_type": "code",
   "execution_count": 141,
   "id": "d2c3eddc-5135-4a02-9a77-4ffaaa62405c",
   "metadata": {},
   "outputs": [
    {
     "data": {
      "text/plain": [
       "{'Mary', 'Nick', 'Rose', 'Ross', 'Ruby', 'Sam', 'Sandy', 'Ted', 'Zara'}"
      ]
     },
     "execution_count": 141,
     "metadata": {},
     "output_type": "execute_result"
    }
   ],
   "source": [
    "python_programmers ^ java_programmers"
   ]
  },
  {
   "cell_type": "code",
   "execution_count": 142,
   "id": "e8244653-8a62-4b52-a1ea-2c59cdb84eff",
   "metadata": {},
   "outputs": [
    {
     "data": {
      "text/plain": [
       "{'Alan', 'Mary', 'Max', 'Nick', 'Peter', 'Rose', 'Sam', 'Zara'}"
      ]
     },
     "execution_count": 142,
     "metadata": {},
     "output_type": "execute_result"
    }
   ],
   "source": [
    "python_programmers"
   ]
  },
  {
   "cell_type": "code",
   "execution_count": 143,
   "id": "5fee7ddf-3540-4f9e-b722-51b9b340e536",
   "metadata": {},
   "outputs": [
    {
     "data": {
      "text/plain": [
       "{'Alan', 'Max', 'Peter', 'Ross', 'Ruby', 'Sandy', 'Ted'}"
      ]
     },
     "execution_count": 143,
     "metadata": {},
     "output_type": "execute_result"
    }
   ],
   "source": [
    "java_programmers"
   ]
  },
  {
   "cell_type": "code",
   "execution_count": 144,
   "id": "71ddb1c6-f03a-47f5-9d26-0201941ee873",
   "metadata": {},
   "outputs": [
    {
     "data": {
      "text/plain": [
       "{'Abbie', 'Jack', 'Jill', 'Julie', 'Nick', 'Peter', 'Ted'}"
      ]
     },
     "execution_count": 144,
     "metadata": {},
     "output_type": "execute_result"
    }
   ],
   "source": [
    "c_programmers"
   ]
  },
  {
   "cell_type": "markdown",
   "id": "9f3883bb-5f48-410b-a8bc-e0a7b1d33cb5",
   "metadata": {},
   "source": [
    "1) s1.update(s2) s1 |= s2\n",
    "2) s1.intersection_update(s2) s1 &= s2\n",
    "3) s1.difference_update(s2) s1 -= s2\n",
    "4) s1.symmetric_difference_update(s2) s1 ^= s2"
   ]
  },
  {
   "cell_type": "code",
   "execution_count": 145,
   "id": "12ac6318-4ac9-4502-ac25-f2b7118b9467",
   "metadata": {},
   "outputs": [
    {
     "data": {
      "text/plain": [
       "{'Alan', 'Max', 'Peter'}"
      ]
     },
     "execution_count": 145,
     "metadata": {},
     "output_type": "execute_result"
    }
   ],
   "source": [
    "python_programmers.intersection_update(java_programmers)\n",
    "python_programmers"
   ]
  },
  {
   "cell_type": "code",
   "execution_count": 146,
   "id": "62520f11-b265-4e57-a6e9-5d4cc8923b90",
   "metadata": {},
   "outputs": [
    {
     "data": {
      "text/plain": [
       "{'Peter', 'Ted'}"
      ]
     },
     "execution_count": 146,
     "metadata": {},
     "output_type": "execute_result"
    }
   ],
   "source": [
    "java_programmers &= c_programmers\n",
    "java_programmers"
   ]
  },
  {
   "cell_type": "code",
   "execution_count": 147,
   "id": "d14b2668-388e-4d37-a63d-94d865a8806b",
   "metadata": {},
   "outputs": [
    {
     "data": {
      "text/plain": [
       "{'W', 'c', 'l'}"
      ]
     },
     "execution_count": 147,
     "metadata": {},
     "output_type": "execute_result"
    }
   ],
   "source": [
    "s1 = 'Welcome'\n",
    "s2 = 'Come here'\n",
    "set(s1) - set(s2)"
   ]
  },
  {
   "cell_type": "code",
   "execution_count": 148,
   "id": "0a07abb2-8264-4c04-97db-d612c00076d7",
   "metadata": {},
   "outputs": [
    {
     "data": {
      "text/plain": [
       "{'What', 'is'}"
      ]
     },
     "execution_count": 148,
     "metadata": {},
     "output_type": "execute_result"
    }
   ],
   "source": [
    "s3 = 'What is in a name'\n",
    "s4 = 'There are letters in a name'\n",
    "set(s3.split()) - set(s4.split())"
   ]
  },
  {
   "cell_type": "code",
   "execution_count": 149,
   "id": "3b8e102e-4ba9-4be0-a9c6-ffaa0bf4a583",
   "metadata": {},
   "outputs": [
    {
     "data": {
      "text/plain": [
       "{1, 2, 3, 4, 5, 6, 7}"
      ]
     },
     "execution_count": 149,
     "metadata": {},
     "output_type": "execute_result"
    }
   ],
   "source": [
    "x = [1, 2, 3, 4, 5]\n",
    "y = [3, 4, 5, 6, 7]\n",
    "set(x) | set(y)"
   ]
  },
  {
   "cell_type": "code",
   "execution_count": 150,
   "id": "f3f4854e-5f70-46bf-920d-b0aac18312d4",
   "metadata": {},
   "outputs": [
    {
     "data": {
      "text/plain": [
       "{('a', 15), ('d', 24)}"
      ]
     },
     "execution_count": 150,
     "metadata": {},
     "output_type": "execute_result"
    }
   ],
   "source": [
    "d1 = {'a': 15, 'b': 22, 'c': 35, 'd': 24}\n",
    "d2 = {'a': 15, 'b': 20, 'x': 29, 'd': 24}\n",
    "d1.items() & d2.items()"
   ]
  },
  {
   "cell_type": "code",
   "execution_count": 151,
   "id": "3fcd2400-55f9-4c7d-bb86-0434160a5a4e",
   "metadata": {},
   "outputs": [
    {
     "data": {
      "text/plain": [
       "{'c'}"
      ]
     },
     "execution_count": 151,
     "metadata": {},
     "output_type": "execute_result"
    }
   ],
   "source": [
    "d1.keys() - d2.keys()"
   ]
  },
  {
   "cell_type": "markdown",
   "id": "709cf304-b538-444a-a1a3-f0eac1daeb48",
   "metadata": {},
   "source": [
    "Frozen Set"
   ]
  },
  {
   "cell_type": "code",
   "execution_count": 152,
   "id": "66e91910-0f03-4ca2-93eb-341422355330",
   "metadata": {},
   "outputs": [
    {
     "data": {
      "text/plain": [
       "frozenset"
      ]
     },
     "execution_count": 152,
     "metadata": {},
     "output_type": "execute_result"
    }
   ],
   "source": [
    "weekdays = frozenset({'Monday', 'Tuesday', 'Wednesday', 'Thursday', 'Friday'})\n",
    "weekend = frozenset(['Saturday', 'Sunday'])\n",
    "vowels = frozenset('aeiou')\n",
    "type(weekdays)"
   ]
  },
  {
   "cell_type": "code",
   "execution_count": 153,
   "id": "e8980c9b-6c20-4a5c-a64f-a8063233aeff",
   "metadata": {},
   "outputs": [
    {
     "data": {
      "text/plain": [
       "frozenset({'Friday', 'Monday', 'Thursday', 'Tuesday', 'Wednesday'})"
      ]
     },
     "execution_count": 153,
     "metadata": {},
     "output_type": "execute_result"
    }
   ],
   "source": [
    "weekdays"
   ]
  },
  {
   "cell_type": "code",
   "execution_count": null,
   "id": "9e0039a5-b096-4fe7-a33e-3178d994f753",
   "metadata": {},
   "outputs": [],
   "source": []
  },
  {
   "cell_type": "code",
   "execution_count": null,
   "id": "f8b3d088-f4b9-4687-bae3-dcc8d0abc1ff",
   "metadata": {},
   "outputs": [],
   "source": []
  },
  {
   "cell_type": "code",
   "execution_count": null,
   "id": "3bbb83f4-8dd7-4e8a-a5b5-9ba7ca2dd1a3",
   "metadata": {},
   "outputs": [],
   "source": []
  },
  {
   "cell_type": "code",
   "execution_count": null,
   "id": "ff5154c4-12b9-4f4d-8dee-9d8e83dc5d5e",
   "metadata": {},
   "outputs": [],
   "source": []
  },
  {
   "cell_type": "code",
   "execution_count": null,
   "id": "f4fde654-2d47-4b9a-9cec-01a2bfff48af",
   "metadata": {},
   "outputs": [],
   "source": []
  },
  {
   "cell_type": "code",
   "execution_count": null,
   "id": "bf8fda87-3e64-4df6-9720-6c79f7ab6afd",
   "metadata": {},
   "outputs": [],
   "source": []
  },
  {
   "cell_type": "code",
   "execution_count": null,
   "id": "2863b213-5a18-4927-a53e-3d4236852563",
   "metadata": {},
   "outputs": [],
   "source": []
  },
  {
   "cell_type": "code",
   "execution_count": null,
   "id": "4c33595c-2baa-4d7e-a7ed-594135b0ff5d",
   "metadata": {},
   "outputs": [],
   "source": []
  },
  {
   "cell_type": "code",
   "execution_count": null,
   "id": "660e8ffe-ab3e-4765-9459-f4a398a4418d",
   "metadata": {},
   "outputs": [],
   "source": []
  },
  {
   "cell_type": "code",
   "execution_count": null,
   "id": "0e562bc1-552b-4938-9287-d1b6484929c0",
   "metadata": {},
   "outputs": [],
   "source": []
  },
  {
   "cell_type": "code",
   "execution_count": null,
   "id": "8b7b1509-5979-4f27-80bc-f960dec1c8ab",
   "metadata": {},
   "outputs": [],
   "source": []
  },
  {
   "cell_type": "code",
   "execution_count": null,
   "id": "ac87d62f-fca8-4b81-a622-3d5dacf77c4d",
   "metadata": {},
   "outputs": [],
   "source": []
  },
  {
   "cell_type": "code",
   "execution_count": null,
   "id": "300c4f21-11ab-43ff-a9ce-7927906e1c89",
   "metadata": {},
   "outputs": [],
   "source": []
  },
  {
   "cell_type": "code",
   "execution_count": null,
   "id": "83f210f2-e328-44ae-a171-240523ce2c8a",
   "metadata": {},
   "outputs": [],
   "source": []
  },
  {
   "cell_type": "code",
   "execution_count": null,
   "id": "50eb0072-0dcd-4942-a3a4-b76ed1479c26",
   "metadata": {},
   "outputs": [],
   "source": []
  },
  {
   "cell_type": "code",
   "execution_count": null,
   "id": "a4bd0f79-68a1-4de1-8e51-616cff53279a",
   "metadata": {},
   "outputs": [],
   "source": []
  },
  {
   "cell_type": "code",
   "execution_count": null,
   "id": "76602d4f-a6ca-41ba-9d28-5f9ce3412e2f",
   "metadata": {},
   "outputs": [],
   "source": []
  },
  {
   "cell_type": "code",
   "execution_count": null,
   "id": "b05bb626-0c89-49d5-8a01-a82b8936e370",
   "metadata": {},
   "outputs": [],
   "source": []
  },
  {
   "cell_type": "code",
   "execution_count": null,
   "id": "dfb4776a-5025-4abe-b645-f7e1f9a52a28",
   "metadata": {},
   "outputs": [],
   "source": []
  },
  {
   "cell_type": "code",
   "execution_count": null,
   "id": "dada6cc5-6c0c-466b-b268-6f325b6efd9b",
   "metadata": {},
   "outputs": [],
   "source": []
  },
  {
   "cell_type": "code",
   "execution_count": null,
   "id": "4e437d28-fcaf-4973-a14a-bc8757e88b1f",
   "metadata": {},
   "outputs": [],
   "source": []
  },
  {
   "cell_type": "code",
   "execution_count": null,
   "id": "d5e81e76-2667-4a4b-92bc-ca3f89e1c2db",
   "metadata": {},
   "outputs": [],
   "source": []
  },
  {
   "cell_type": "code",
   "execution_count": null,
   "id": "cf07db3f-2a1d-49a2-8ed1-3aecc79b83ca",
   "metadata": {},
   "outputs": [],
   "source": []
  },
  {
   "cell_type": "code",
   "execution_count": null,
   "id": "58a8bae1-71f2-4eda-870b-cc2e06a77ca8",
   "metadata": {},
   "outputs": [],
   "source": []
  },
  {
   "cell_type": "code",
   "execution_count": null,
   "id": "339dcd4b-65b6-48ae-8145-ff4ea1809468",
   "metadata": {},
   "outputs": [],
   "source": []
  },
  {
   "cell_type": "code",
   "execution_count": null,
   "id": "e5c34b51-1381-456e-a041-3adcd5e22a83",
   "metadata": {},
   "outputs": [],
   "source": []
  },
  {
   "cell_type": "code",
   "execution_count": null,
   "id": "c941bf92-12d7-4741-a2c8-eee308fc029c",
   "metadata": {},
   "outputs": [],
   "source": []
  },
  {
   "cell_type": "code",
   "execution_count": null,
   "id": "b84eed6a-12e5-4312-a3df-1da1a20719e1",
   "metadata": {},
   "outputs": [],
   "source": []
  },
  {
   "cell_type": "code",
   "execution_count": null,
   "id": "17a06c59-f3f2-4c95-bfe4-0738da67a319",
   "metadata": {},
   "outputs": [],
   "source": []
  },
  {
   "cell_type": "code",
   "execution_count": null,
   "id": "ee6813d5-7b4d-49b1-adee-d037b74249ff",
   "metadata": {},
   "outputs": [],
   "source": []
  },
  {
   "cell_type": "code",
   "execution_count": null,
   "id": "255d94e7-ed2f-4c20-af82-73670134583e",
   "metadata": {},
   "outputs": [],
   "source": []
  },
  {
   "cell_type": "code",
   "execution_count": null,
   "id": "d77c117a-47cd-4540-8db4-d84840215f02",
   "metadata": {},
   "outputs": [],
   "source": []
  },
  {
   "cell_type": "code",
   "execution_count": null,
   "id": "30635bb8-65a2-4f2d-ae1b-70ef5b6f69c8",
   "metadata": {},
   "outputs": [],
   "source": []
  },
  {
   "cell_type": "code",
   "execution_count": null,
   "id": "d268c402-9b11-4db4-bb26-76c2fc5c534d",
   "metadata": {},
   "outputs": [],
   "source": []
  },
  {
   "cell_type": "code",
   "execution_count": null,
   "id": "78936222-a3db-4994-afc3-fc1927395aec",
   "metadata": {},
   "outputs": [],
   "source": []
  },
  {
   "cell_type": "code",
   "execution_count": null,
   "id": "8a50803a-dd7b-46d3-bcf2-edd61861ff69",
   "metadata": {},
   "outputs": [],
   "source": []
  },
  {
   "cell_type": "code",
   "execution_count": null,
   "id": "61ade9ee-9fcd-41f3-b2f4-d6b11d9a1738",
   "metadata": {},
   "outputs": [],
   "source": []
  },
  {
   "cell_type": "code",
   "execution_count": null,
   "id": "ba934fe1-bf48-4be4-843a-84dd65da6dcb",
   "metadata": {},
   "outputs": [],
   "source": []
  },
  {
   "cell_type": "code",
   "execution_count": null,
   "id": "eb413815-9f87-400c-a5f3-b6710ed0c0b6",
   "metadata": {},
   "outputs": [],
   "source": []
  },
  {
   "cell_type": "code",
   "execution_count": null,
   "id": "9362c1f9-0b0f-49cc-9b99-b61ebbd20718",
   "metadata": {},
   "outputs": [],
   "source": []
  },
  {
   "cell_type": "code",
   "execution_count": null,
   "id": "3c93b39a-60ea-4fe5-973f-a9480fe92854",
   "metadata": {},
   "outputs": [],
   "source": []
  },
  {
   "cell_type": "code",
   "execution_count": null,
   "id": "6e459760-a36e-4401-b4f7-e790a7c5dfee",
   "metadata": {},
   "outputs": [],
   "source": []
  },
  {
   "cell_type": "code",
   "execution_count": null,
   "id": "5a5ca154-cafe-465a-85dd-2880883fe8eb",
   "metadata": {},
   "outputs": [],
   "source": []
  },
  {
   "cell_type": "code",
   "execution_count": null,
   "id": "3abb658a-2c77-44c1-ab5b-12453011bcf8",
   "metadata": {},
   "outputs": [],
   "source": []
  }
 ],
 "metadata": {
  "kernelspec": {
   "display_name": "Python 3 (ipykernel)",
   "language": "python",
   "name": "python3"
  },
  "language_info": {
   "codemirror_mode": {
    "name": "ipython",
    "version": 3
   },
   "file_extension": ".py",
   "mimetype": "text/x-python",
   "name": "python",
   "nbconvert_exporter": "python",
   "pygments_lexer": "ipython3",
   "version": "3.12.7"
  }
 },
 "nbformat": 4,
 "nbformat_minor": 5
}
